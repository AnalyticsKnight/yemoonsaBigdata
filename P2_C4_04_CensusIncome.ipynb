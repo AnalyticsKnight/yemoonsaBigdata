{
  "nbformat": 4,
  "nbformat_minor": 0,
  "metadata": {
    "colab": {
      "name": "P2_C4_04. CensusIncome.ipynb",
      "provenance": [],
      "collapsed_sections": [],
      "mount_file_id": "16mSxR27lS6_vXkz-9ln85lOZY9qdvcDB",
      "authorship_tag": "ABX9TyP7uqwUkIOz9V+Hrfq9Pxpo"
    },
    "kernelspec": {
      "name": "python3",
      "display_name": "Python 3"
    },
    "language_info": {
      "name": "python"
    }
  },
  "cells": [
    {
      "cell_type": "code",
      "execution_count": 1,
      "metadata": {
        "colab": {
          "base_uri": "https://localhost:8080/"
        },
        "id": "zjP-lh__xmcx",
        "outputId": "e4a98c2c-6470-40f9-f446-1999754216b9"
      },
      "outputs": [
        {
          "output_type": "stream",
          "name": "stdout",
          "text": [
            "/content/drive/MyDrive/202201_bigdata_share\n"
          ]
        }
      ],
      "source": [
        "%cd /content/drive/MyDrive/202201_bigdata_share"
      ]
    },
    {
      "cell_type": "markdown",
      "source": [
        "# **Chapter 4. A to Z 빅데이터 분석 실습**"
      ],
      "metadata": {
        "id": "gSZ1HUxoJBZS"
      }
    },
    {
      "cell_type": "markdown",
      "source": [
        "## 4. 실습 A to Z - Census Income "
      ],
      "metadata": {
        "id": "bggmCRYJJYLF"
      }
    },
    {
      "cell_type": "markdown",
      "source": [
        "### (2) 사전준비"
      ],
      "metadata": {
        "id": "de2QO4OKJlRa"
      }
    },
    {
      "cell_type": "markdown",
      "source": [
        "#### 442-01 : 패키지 불러오기 "
      ],
      "metadata": {
        "id": "LWrvdMc5KJJn"
      }
    },
    {
      "cell_type": "code",
      "source": [
        "import pandas as pd\n",
        "import numpy as np\n",
        "import warnings"
      ],
      "metadata": {
        "id": "DC1aQjh5KbiL"
      },
      "execution_count": 2,
      "outputs": []
    },
    {
      "cell_type": "markdown",
      "source": [
        "442-02 : 데이터 로딩"
      ],
      "metadata": {
        "id": "Jn9ghrqwKg_6"
      }
    },
    {
      "cell_type": "code",
      "source": [
        "X_test = pd.read_csv(\"dataset/census_X_test.csv\")\n",
        "X_train = pd.read_csv(\"dataset/census_X_train.csv\")\n",
        "y_train = pd.read_csv(\"dataset/census_y_train.csv\")"
      ],
      "metadata": {
        "id": "cQ-mgBAVKeVq"
      },
      "execution_count": 121,
      "outputs": []
    },
    {
      "cell_type": "markdown",
      "source": [
        "### (3) 데이터 전처리"
      ],
      "metadata": {
        "id": "p8x1_D0yK990"
      }
    },
    {
      "cell_type": "markdown",
      "source": [
        "#### 443-01 : 데이터 정보 확인 "
      ],
      "metadata": {
        "id": "5OwqboGFLBZC"
      }
    },
    {
      "cell_type": "code",
      "source": [
        "print(X_train.info())"
      ],
      "metadata": {
        "colab": {
          "base_uri": "https://localhost:8080/"
        },
        "id": "80pxps2gLGZ-",
        "outputId": "050f8b09-cc3c-4c2a-d936-c41d99818eff"
      },
      "execution_count": 4,
      "outputs": [
        {
          "output_type": "stream",
          "name": "stdout",
          "text": [
            "<class 'pandas.core.frame.DataFrame'>\n",
            "RangeIndex: 24129 entries, 0 to 24128\n",
            "Data columns (total 12 columns):\n",
            " #   Column          Non-Null Count  Dtype \n",
            "---  ------          --------------  ----- \n",
            " 0   age             24129 non-null  int64 \n",
            " 1   workclass       24129 non-null  object\n",
            " 2   education_num   24129 non-null  int64 \n",
            " 3   marital_status  24129 non-null  object\n",
            " 4   occupation      24129 non-null  object\n",
            " 5   relationship    24129 non-null  object\n",
            " 6   race            24129 non-null  object\n",
            " 7   sex             24129 non-null  object\n",
            " 8   capital_gain    24129 non-null  int64 \n",
            " 9   capital_loss    24129 non-null  int64 \n",
            " 10  hours_per_week  24129 non-null  int64 \n",
            " 11  native_country  24129 non-null  object\n",
            "dtypes: int64(5), object(7)\n",
            "memory usage: 2.2+ MB\n",
            "None\n"
          ]
        }
      ]
    },
    {
      "cell_type": "markdown",
      "source": [
        "443-02 : 데이터 통계량 확인"
      ],
      "metadata": {
        "id": "owyOO-SbLkEP"
      }
    },
    {
      "cell_type": "code",
      "source": [
        "print(X_train.describe())"
      ],
      "metadata": {
        "colab": {
          "base_uri": "https://localhost:8080/"
        },
        "id": "dOrgoBXaLbVV",
        "outputId": "c7798b4e-f840-4735-fba5-fc896d6b6dbd"
      },
      "execution_count": 5,
      "outputs": [
        {
          "output_type": "stream",
          "name": "stdout",
          "text": [
            "                age  education_num  capital_gain  capital_loss  hours_per_week\n",
            "count  24129.000000   24129.000000  24129.000000  24129.000000    24129.000000\n",
            "mean      38.421277      10.123337   1082.373575     88.112064       40.985205\n",
            "std       13.131497       2.546004   7315.004017    404.452688       11.979781\n",
            "min       17.000000       1.000000      0.000000      0.000000        1.000000\n",
            "25%       28.000000       9.000000      0.000000      0.000000       40.000000\n",
            "50%       37.000000      10.000000      0.000000      0.000000       40.000000\n",
            "75%       47.000000      13.000000      0.000000      0.000000       45.000000\n",
            "max       90.000000      16.000000  99999.000000   4356.000000       99.000000\n"
          ]
        }
      ]
    },
    {
      "cell_type": "markdown",
      "source": [
        "#### 443-03 : capital_gain변수 통계량 확인"
      ],
      "metadata": {
        "id": "g9rbWzPzL0Ln"
      }
    },
    {
      "cell_type": "code",
      "source": [
        "print(X_train['capital_gain'].quantile([q/20 for q in range(15, 21)]))"
      ],
      "metadata": {
        "colab": {
          "base_uri": "https://localhost:8080/"
        },
        "id": "gwwjQOvALhng",
        "outputId": "245e0054-b6dc-4fc4-99ee-e795f86544e9"
      },
      "execution_count": 6,
      "outputs": [
        {
          "output_type": "stream",
          "name": "stdout",
          "text": [
            "0.75        0.0\n",
            "0.80        0.0\n",
            "0.85        0.0\n",
            "0.90        0.0\n",
            "0.95     5013.0\n",
            "1.00    99999.0\n",
            "Name: capital_gain, dtype: float64\n"
          ]
        }
      ]
    },
    {
      "cell_type": "markdown",
      "source": [
        "#### 443-04 : capital_loss변수 통계량 확인"
      ],
      "metadata": {
        "id": "JWHWLYVAMAS4"
      }
    },
    {
      "cell_type": "code",
      "source": [
        "print(X_train['capital_loss'].quantile([q/20 for q in range(15, 21)]))"
      ],
      "metadata": {
        "colab": {
          "base_uri": "https://localhost:8080/"
        },
        "outputId": "5928391b-cba5-4178-94f2-0a718b711718",
        "id": "nFY94jQvMAS4"
      },
      "execution_count": 7,
      "outputs": [
        {
          "output_type": "stream",
          "name": "stdout",
          "text": [
            "0.75       0.0\n",
            "0.80       0.0\n",
            "0.85       0.0\n",
            "0.90       0.0\n",
            "0.95       0.0\n",
            "1.00    4356.0\n",
            "Name: capital_loss, dtype: float64\n"
          ]
        }
      ]
    },
    {
      "cell_type": "markdown",
      "source": [
        "#### 443-05 : 파생변수 생성"
      ],
      "metadata": {
        "id": "nW0c2kGTMU5j"
      }
    },
    {
      "cell_type": "code",
      "source": [
        "X_train['capital_gain_yn'] = np.where(X_train['capital_gain']>0, 1, 0)\n",
        "X_test['capital_gain_yn'] = np.where(X_test['capital_gain']>0, 1, 0)"
      ],
      "metadata": {
        "id": "jgQT3fkeMEVh"
      },
      "execution_count": 122,
      "outputs": []
    },
    {
      "cell_type": "markdown",
      "source": [
        "#### 443-06 : 변수 구분 "
      ],
      "metadata": {
        "id": "9BJjw8esMc97"
      }
    },
    {
      "cell_type": "code",
      "source": [
        "# 불필요 변수\n",
        "COL_DEL = ['capital_loss']\n",
        "# 수치형 변수\n",
        "COL_NUM = ['age', 'education_num', 'hours_per_week', 'capital_gain']\n",
        "# 범주형 변수 \n",
        "COL_CAT = ['workclass', 'marital_status', 'occupation', 'relationship', 'race', 'sex', 'native_country', 'capital_gain_yn']\n",
        "# 종속 변수\n",
        "COL_Y = ['target']\n",
        "\n",
        "X_train = X_train.drop(COL_DEL, axis=1)\n",
        "X_test = X_test.drop(COL_DEL, axis=1)"
      ],
      "metadata": {
        "id": "7H7x9PFuM78R"
      },
      "execution_count": 123,
      "outputs": []
    },
    {
      "cell_type": "markdown",
      "source": [
        "#### 443-07 : 수치형 변수 탐색"
      ],
      "metadata": {
        "id": "BtYxP_DoPtj3"
      }
    },
    {
      "cell_type": "code",
      "source": [
        "train_df = pd.concat([X_train, y_train], axis=1)\n",
        "\n",
        "for _col in COL_NUM:\n",
        "  print('-'*80)\n",
        "  print(_col)\n",
        "  print(train_df.groupby(COL_Y)[_col].describe(), end='\\n\\n')"
      ],
      "metadata": {
        "colab": {
          "base_uri": "https://localhost:8080/"
        },
        "id": "HEWcnedYx1Xh",
        "outputId": "fcb5d7c6-f9fe-43db-e7e6-834dd09ae802"
      },
      "execution_count": 124,
      "outputs": [
        {
          "output_type": "stream",
          "name": "stdout",
          "text": [
            "--------------------------------------------------------------------------------\n",
            "age\n",
            "          count       mean        std   min   25%   50%   75%   max\n",
            "target                                                             \n",
            "0       18113.0  36.592668  13.464529  17.0  26.0  34.0  45.0  90.0\n",
            "1        6016.0  43.926862  10.266862  19.0  36.0  43.0  51.0  90.0\n",
            "\n",
            "--------------------------------------------------------------------------------\n",
            "education_num\n",
            "          count       mean       std  min   25%   50%   75%   max\n",
            "target                                                           \n",
            "0       18113.0   9.637056  2.413934  1.0   9.0   9.0  10.0  16.0\n",
            "1        6016.0  11.587434  2.366362  2.0  10.0  12.0  13.0  16.0\n",
            "\n",
            "--------------------------------------------------------------------------------\n",
            "hours_per_week\n",
            "          count       mean        std  min   25%   50%   75%   max\n",
            "target                                                            \n",
            "0       18113.0  39.429912  11.983082  1.0  38.0  40.0  40.0  99.0\n",
            "1        6016.0  45.667886  10.681083  1.0  40.0  40.0  50.0  99.0\n",
            "\n",
            "--------------------------------------------------------------------------------\n",
            "capital_gain\n",
            "          count         mean           std  min  25%  50%  75%      max\n",
            "target                                                                 \n",
            "0       18113.0   151.144261    929.983893  0.0  0.0  0.0  0.0  41310.0\n",
            "1        6016.0  3886.123005  14197.328341  0.0  0.0  0.0  0.0  99999.0\n",
            "\n"
          ]
        }
      ]
    },
    {
      "cell_type": "markdown",
      "source": [
        "#### 443-08 : 범주형 변수 탐색"
      ],
      "metadata": {
        "id": "fiXy6kRvQATk"
      }
    },
    {
      "cell_type": "code",
      "source": [
        "for _col in COL_CAT:\n",
        "  print(train_df.groupby(_col, as_index=False)[COL_Y].mean().sort_values(by=COL_Y, ascending=False), end='\\n\\n')"
      ],
      "metadata": {
        "colab": {
          "base_uri": "https://localhost:8080/"
        },
        "id": "6skJOMKX0UnX",
        "outputId": "2e662d5b-d79e-45df-bae5-8ba879d50cfe"
      },
      "execution_count": 125,
      "outputs": [
        {
          "output_type": "stream",
          "name": "stdout",
          "text": [
            "          workclass    target\n",
            "3      Self-emp-inc  0.560276\n",
            "0       Federal-gov  0.387054\n",
            "1         Local-gov  0.297329\n",
            "4  Self-emp-not-inc  0.282270\n",
            "5         State-gov  0.267522\n",
            "2           Private  0.219120\n",
            "6       Without-pay  0.000000\n",
            "\n",
            "          marital_status    target\n",
            "2     Married-civ-spouse  0.454747\n",
            "1      Married-AF-spouse  0.437500\n",
            "0               Divorced  0.109720\n",
            "6                Widowed  0.095890\n",
            "3  Married-spouse-absent  0.091525\n",
            "5              Separated  0.067400\n",
            "4          Never-married  0.048843\n",
            "\n",
            "           occupation    target\n",
            "3     Exec-managerial  0.484380\n",
            "9      Prof-specialty  0.442897\n",
            "10    Protective-serv  0.328330\n",
            "12       Tech-support  0.309760\n",
            "11              Sales  0.275528\n",
            "2        Craft-repair  0.223352\n",
            "13   Transport-moving  0.201122\n",
            "1        Armed-Forces  0.142857\n",
            "0        Adm-clerical  0.140404\n",
            "6   Machine-op-inspct  0.120301\n",
            "4     Farming-fishing  0.119441\n",
            "5   Handlers-cleaners  0.065874\n",
            "7       Other-service  0.042570\n",
            "8     Priv-house-serv  0.000000\n",
            "\n",
            "     relationship    target\n",
            "5            Wife  0.496460\n",
            "0         Husband  0.454910\n",
            "1   Not-in-family  0.107246\n",
            "4       Unmarried  0.065362\n",
            "2  Other-relative  0.040111\n",
            "3       Own-child  0.016375\n",
            "\n",
            "                 race    target\n",
            "1  Asian-Pac-Islander  0.284732\n",
            "4               White  0.264197\n",
            "2               Black  0.126963\n",
            "0  Amer-Indian-Eskimo  0.110619\n",
            "3               Other  0.086022\n",
            "\n",
            "      sex    target\n",
            "1    Male  0.313402\n",
            "0  Female  0.116199\n",
            "\n",
            "                native_country    target\n",
            "35                      Taiwan  0.435897\n",
            "0                     Cambodia  0.411765\n",
            "9                       France  0.409091\n",
            "23                       Japan  0.400000\n",
            "19                        Iran  0.393939\n",
            "10                     Germany  0.363636\n",
            "18                       India  0.362500\n",
            "16                        Hong  0.352941\n",
            "2                        China  0.352941\n",
            "21                       Italy  0.351852\n",
            "8                      England  0.338235\n",
            "29                 Philippines  0.327044\n",
            "1                       Canada  0.325581\n",
            "40                  Yugoslavia  0.307692\n",
            "11                      Greece  0.272727\n",
            "38               United-States  0.254958\n",
            "4                         Cuba  0.231884\n",
            "20                     Ireland  0.227273\n",
            "17                     Hungary  0.200000\n",
            "34                       South  0.189655\n",
            "6                      Ecuador  0.181818\n",
            "33                    Scotland  0.166667\n",
            "30                      Poland  0.159091\n",
            "24                        Laos  0.153846\n",
            "36                    Thailand  0.133333\n",
            "22                     Jamaica  0.121212\n",
            "32                 Puerto-Rico  0.106383\n",
            "13                       Haiti  0.103448\n",
            "31                    Portugal  0.100000\n",
            "15                    Honduras  0.100000\n",
            "7                  El-Salvador  0.088608\n",
            "39                     Vietnam  0.081633\n",
            "37             Trinadad&Tobago  0.076923\n",
            "12                   Guatemala  0.055556\n",
            "25                      Mexico  0.051760\n",
            "26                   Nicaragua  0.040000\n",
            "5           Dominican-Republic  0.038462\n",
            "28                        Peru  0.038462\n",
            "3                     Columbia  0.023810\n",
            "14          Holand-Netherlands  0.000000\n",
            "27  Outlying-US(Guam-USVI-etc)  0.000000\n",
            "\n",
            "   capital_gain_yn    target\n",
            "1                1  0.621832\n",
            "0                0  0.214703\n",
            "\n"
          ]
        }
      ]
    },
    {
      "cell_type": "markdown",
      "source": [
        "## (4) 데이터 모형 구축"
      ],
      "metadata": {
        "id": "6vbSCGOaQXGq"
      }
    },
    {
      "cell_type": "markdown",
      "source": [
        "#### 444-01 : 범주형 변수 - 레이블 인코딩"
      ],
      "metadata": {
        "id": "AzqLstFOKzAw"
      }
    },
    {
      "cell_type": "code",
      "source": [
        "from sklearn.preprocessing import LabelEncoder\n",
        "\n",
        "for _col in COL_CAT:\n",
        "  le = LabelEncoder()\n",
        "  le.fit(X_train[_col])\n",
        "  X_train[_col] = le.transform(X_train[_col])\n",
        "  X_test[_col] = le.transform(X_test[_col])"
      ],
      "metadata": {
        "id": "svfXl8XNAYPg"
      },
      "execution_count": 126,
      "outputs": []
    },
    {
      "cell_type": "markdown",
      "source": [
        "#### 444-02 : 훈련데이터 분할"
      ],
      "metadata": {
        "id": "WqUcxFQxQatq"
      }
    },
    {
      "cell_type": "code",
      "source": [
        "##### 훈련데이터 분할\n",
        "# y의 클래스 비율에 맞게 분할 stratify\n",
        "\n",
        "from sklearn.model_selection import train_test_split\n",
        "X_tr, X_val, y_tr, y_val = train_test_split(X_train, y_train, test_size=0.3, stratify=y_train)"
      ],
      "metadata": {
        "id": "WiTFm-5IRr9_"
      },
      "execution_count": 127,
      "outputs": []
    },
    {
      "cell_type": "markdown",
      "source": [
        "#### 444-03 : 수치형 변수 - 데이터 스케일링"
      ],
      "metadata": {
        "id": "367nKlK2ZC2X"
      }
    },
    {
      "cell_type": "code",
      "source": [
        "from sklearn.preprocessing import StandardScaler\n",
        "\n",
        "scaler = StandardScaler()\n",
        "X_tr[COL_NUM] = scaler.fit_transform(X_tr[COL_NUM])\n",
        "X_val[COL_NUM] = scaler.transform(X_val[COL_NUM])\n",
        "X_test[COL_NUM] = scaler.transform(X_test[COL_NUM])"
      ],
      "metadata": {
        "id": "6gXA-QkDlXzo"
      },
      "execution_count": 128,
      "outputs": []
    },
    {
      "cell_type": "markdown",
      "source": [
        "#### 444-04 : 로지스틱 회귀 학습"
      ],
      "metadata": {
        "id": "_bHeLgCyajRb"
      }
    },
    {
      "cell_type": "code",
      "source": [
        "from sklearn.linear_model import LogisticRegression\n",
        "\n",
        "model_lr = LogisticRegression(max_iter=5000)\n",
        "model_lr.fit(X_tr, y_tr)"
      ],
      "metadata": {
        "colab": {
          "base_uri": "https://localhost:8080/"
        },
        "id": "_e104n2gkiAo",
        "outputId": "028fc6b1-b295-442e-b3aa-af76b4cdfc4d"
      },
      "execution_count": 129,
      "outputs": [
        {
          "output_type": "stream",
          "name": "stderr",
          "text": [
            "/usr/local/lib/python3.7/dist-packages/sklearn/utils/validation.py:993: DataConversionWarning: A column-vector y was passed when a 1d array was expected. Please change the shape of y to (n_samples, ), for example using ravel().\n",
            "  y = column_or_1d(y, warn=True)\n"
          ]
        },
        {
          "output_type": "execute_result",
          "data": {
            "text/plain": [
              "LogisticRegression(max_iter=5000)"
            ]
          },
          "metadata": {},
          "execution_count": 129
        }
      ]
    },
    {
      "cell_type": "markdown",
      "source": [
        "#### 444-05 : 랜덤포레스트 학습"
      ],
      "metadata": {
        "id": "w0gA7zXUawav"
      }
    },
    {
      "cell_type": "code",
      "source": [
        "from sklearn.ensemble import RandomForestClassifier\n",
        "\n",
        "model_rf = RandomForestClassifier()\n",
        "model_rf.fit(X_tr, y_tr)"
      ],
      "metadata": {
        "colab": {
          "base_uri": "https://localhost:8080/"
        },
        "id": "FjKqP-bQkjZg",
        "outputId": "087bbfa7-104d-4bd6-b785-52e1e5e7ee24"
      },
      "execution_count": 130,
      "outputs": [
        {
          "output_type": "stream",
          "name": "stderr",
          "text": [
            "/usr/local/lib/python3.7/dist-packages/ipykernel_launcher.py:4: DataConversionWarning: A column-vector y was passed when a 1d array was expected. Please change the shape of y to (n_samples,), for example using ravel().\n",
            "  after removing the cwd from sys.path.\n"
          ]
        },
        {
          "output_type": "execute_result",
          "data": {
            "text/plain": [
              "RandomForestClassifier()"
            ]
          },
          "metadata": {},
          "execution_count": 130
        }
      ]
    },
    {
      "cell_type": "markdown",
      "source": [
        "#### 444-06 : XGBoost 학습"
      ],
      "metadata": {
        "id": "V3W5QLjua3HH"
      }
    },
    {
      "cell_type": "code",
      "source": [
        "import xgboost as xgb\n",
        "from xgboost import XGBClassifier\n",
        "\n",
        "model_xgb = XGBClassifier(n_estimators=1000, learning_rate=0.1, max_depth=10)\n",
        "model_xgb.fit(X_tr, y_tr, early_stopping_rounds=50, eval_metric='auc', eval_set=[(X_val, y_val)], verbose=10)"
      ],
      "metadata": {
        "colab": {
          "base_uri": "https://localhost:8080/"
        },
        "id": "GCapKaDYCBM3",
        "outputId": "ba025294-c42e-4af7-ef9d-ec361643cd0d"
      },
      "execution_count": 131,
      "outputs": [
        {
          "output_type": "stream",
          "name": "stdout",
          "text": [
            "[0]\tvalidation_0-auc:0.892958\n",
            "Will train until validation_0-auc hasn't improved in 50 rounds.\n"
          ]
        },
        {
          "output_type": "stream",
          "name": "stderr",
          "text": [
            "/usr/local/lib/python3.7/dist-packages/sklearn/preprocessing/_label.py:98: DataConversionWarning: A column-vector y was passed when a 1d array was expected. Please change the shape of y to (n_samples, ), for example using ravel().\n",
            "  y = column_or_1d(y, warn=True)\n",
            "/usr/local/lib/python3.7/dist-packages/sklearn/preprocessing/_label.py:133: DataConversionWarning: A column-vector y was passed when a 1d array was expected. Please change the shape of y to (n_samples, ), for example using ravel().\n",
            "  y = column_or_1d(y, warn=True)\n"
          ]
        },
        {
          "output_type": "stream",
          "name": "stdout",
          "text": [
            "[10]\tvalidation_0-auc:0.899215\n",
            "[20]\tvalidation_0-auc:0.90296\n",
            "[30]\tvalidation_0-auc:0.906043\n",
            "[40]\tvalidation_0-auc:0.907051\n",
            "[50]\tvalidation_0-auc:0.908547\n",
            "[60]\tvalidation_0-auc:0.909465\n",
            "[70]\tvalidation_0-auc:0.90976\n",
            "[80]\tvalidation_0-auc:0.909727\n",
            "[90]\tvalidation_0-auc:0.909801\n",
            "[100]\tvalidation_0-auc:0.90942\n",
            "[110]\tvalidation_0-auc:0.909362\n",
            "[120]\tvalidation_0-auc:0.909302\n",
            "[130]\tvalidation_0-auc:0.908876\n",
            "Stopping. Best iteration:\n",
            "[85]\tvalidation_0-auc:0.909936\n",
            "\n"
          ]
        },
        {
          "output_type": "execute_result",
          "data": {
            "text/plain": [
              "XGBClassifier(max_depth=10, n_estimators=1000)"
            ]
          },
          "metadata": {},
          "execution_count": 131
        }
      ]
    },
    {
      "cell_type": "markdown",
      "source": [
        "#### 444-07 : 검증 데이터 예측"
      ],
      "metadata": {
        "id": "aoLLSAlnbHJy"
      }
    },
    {
      "cell_type": "code",
      "source": [
        "y_pred_lr = model_lr.predict_proba(X_val)\n",
        "y_pred_rf = model_rf.predict_proba(X_val)\n",
        "y_pred_xgb = model_xgb.predict_proba(X_val)"
      ],
      "metadata": {
        "id": "afGALkJTCUHO"
      },
      "execution_count": 132,
      "outputs": []
    },
    {
      "cell_type": "markdown",
      "source": [
        "#### 444-08 : 평가지표 계산"
      ],
      "metadata": {
        "id": "KzsAA7CsbfPg"
      }
    },
    {
      "cell_type": "code",
      "source": [
        "from sklearn.metrics import roc_auc_score\n",
        "\n",
        "score_lr = roc_auc_score(y_val, y_pred_lr[:, 1])\n",
        "score_rf = roc_auc_score(y_val, y_pred_rf[:, 1])\n",
        "score_xgb = roc_auc_score(y_val, y_pred_xgb[:, 1]) \n",
        "\n",
        "print(score_lr)\n",
        "print(score_rf)\n",
        "print(score_xgb)"
      ],
      "metadata": {
        "colab": {
          "base_uri": "https://localhost:8080/"
        },
        "id": "TTw529SQDPTY",
        "outputId": "5094bbd9-2b07-4ffd-bad7-2d05162efbc1"
      },
      "execution_count": 133,
      "outputs": [
        {
          "output_type": "stream",
          "name": "stdout",
          "text": [
            "0.8487068697449219\n",
            "0.8813309958739322\n",
            "0.9099359016839699\n"
          ]
        }
      ]
    },
    {
      "cell_type": "markdown",
      "source": [
        "#### 444-09 : 변수 중요도 확인"
      ],
      "metadata": {
        "id": "Pl3O4jIIlMYy"
      }
    },
    {
      "cell_type": "code",
      "source": [
        "pd.DataFrame({'feature': X_tr.columns, 'fi_rf': model_rf.feature_importances_, 'fi_xgb': model_xgb.feature_importances_})"
      ],
      "metadata": {
        "colab": {
          "base_uri": "https://localhost:8080/",
          "height": 426
        },
        "id": "2iS-EtoOClfP",
        "outputId": "9f9d04d6-06c5-49ff-d8c2-032885974c52"
      },
      "execution_count": 150,
      "outputs": [
        {
          "output_type": "execute_result",
          "data": {
            "text/html": [
              "\n",
              "  <div id=\"df-d403b912-6749-4e2a-8e93-05867f9cdded\">\n",
              "    <div class=\"colab-df-container\">\n",
              "      <div>\n",
              "<style scoped>\n",
              "    .dataframe tbody tr th:only-of-type {\n",
              "        vertical-align: middle;\n",
              "    }\n",
              "\n",
              "    .dataframe tbody tr th {\n",
              "        vertical-align: top;\n",
              "    }\n",
              "\n",
              "    .dataframe thead th {\n",
              "        text-align: right;\n",
              "    }\n",
              "</style>\n",
              "<table border=\"1\" class=\"dataframe\">\n",
              "  <thead>\n",
              "    <tr style=\"text-align: right;\">\n",
              "      <th></th>\n",
              "      <th>feature</th>\n",
              "      <th>fi_rf</th>\n",
              "      <th>fi_xgb</th>\n",
              "    </tr>\n",
              "  </thead>\n",
              "  <tbody>\n",
              "    <tr>\n",
              "      <th>0</th>\n",
              "      <td>age</td>\n",
              "      <td>0.228210</td>\n",
              "      <td>0.028702</td>\n",
              "    </tr>\n",
              "    <tr>\n",
              "      <th>1</th>\n",
              "      <td>workclass</td>\n",
              "      <td>0.052229</td>\n",
              "      <td>0.025300</td>\n",
              "    </tr>\n",
              "    <tr>\n",
              "      <th>2</th>\n",
              "      <td>education_num</td>\n",
              "      <td>0.142200</td>\n",
              "      <td>0.092466</td>\n",
              "    </tr>\n",
              "    <tr>\n",
              "      <th>3</th>\n",
              "      <td>marital_status</td>\n",
              "      <td>0.082804</td>\n",
              "      <td>0.140668</td>\n",
              "    </tr>\n",
              "    <tr>\n",
              "      <th>4</th>\n",
              "      <td>occupation</td>\n",
              "      <td>0.095488</td>\n",
              "      <td>0.028395</td>\n",
              "    </tr>\n",
              "    <tr>\n",
              "      <th>5</th>\n",
              "      <td>relationship</td>\n",
              "      <td>0.115750</td>\n",
              "      <td>0.389192</td>\n",
              "    </tr>\n",
              "    <tr>\n",
              "      <th>6</th>\n",
              "      <td>race</td>\n",
              "      <td>0.017597</td>\n",
              "      <td>0.023426</td>\n",
              "    </tr>\n",
              "    <tr>\n",
              "      <th>7</th>\n",
              "      <td>sex</td>\n",
              "      <td>0.012085</td>\n",
              "      <td>0.021857</td>\n",
              "    </tr>\n",
              "    <tr>\n",
              "      <th>8</th>\n",
              "      <td>capital_gain</td>\n",
              "      <td>0.096852</td>\n",
              "      <td>0.198694</td>\n",
              "    </tr>\n",
              "    <tr>\n",
              "      <th>9</th>\n",
              "      <td>hours_per_week</td>\n",
              "      <td>0.112290</td>\n",
              "      <td>0.029209</td>\n",
              "    </tr>\n",
              "    <tr>\n",
              "      <th>10</th>\n",
              "      <td>native_country</td>\n",
              "      <td>0.020014</td>\n",
              "      <td>0.022092</td>\n",
              "    </tr>\n",
              "    <tr>\n",
              "      <th>11</th>\n",
              "      <td>capital_gain_yn</td>\n",
              "      <td>0.024480</td>\n",
              "      <td>0.000000</td>\n",
              "    </tr>\n",
              "  </tbody>\n",
              "</table>\n",
              "</div>\n",
              "      <button class=\"colab-df-convert\" onclick=\"convertToInteractive('df-d403b912-6749-4e2a-8e93-05867f9cdded')\"\n",
              "              title=\"Convert this dataframe to an interactive table.\"\n",
              "              style=\"display:none;\">\n",
              "        \n",
              "  <svg xmlns=\"http://www.w3.org/2000/svg\" height=\"24px\"viewBox=\"0 0 24 24\"\n",
              "       width=\"24px\">\n",
              "    <path d=\"M0 0h24v24H0V0z\" fill=\"none\"/>\n",
              "    <path d=\"M18.56 5.44l.94 2.06.94-2.06 2.06-.94-2.06-.94-.94-2.06-.94 2.06-2.06.94zm-11 1L8.5 8.5l.94-2.06 2.06-.94-2.06-.94L8.5 2.5l-.94 2.06-2.06.94zm10 10l.94 2.06.94-2.06 2.06-.94-2.06-.94-.94-2.06-.94 2.06-2.06.94z\"/><path d=\"M17.41 7.96l-1.37-1.37c-.4-.4-.92-.59-1.43-.59-.52 0-1.04.2-1.43.59L10.3 9.45l-7.72 7.72c-.78.78-.78 2.05 0 2.83L4 21.41c.39.39.9.59 1.41.59.51 0 1.02-.2 1.41-.59l7.78-7.78 2.81-2.81c.8-.78.8-2.07 0-2.86zM5.41 20L4 18.59l7.72-7.72 1.47 1.35L5.41 20z\"/>\n",
              "  </svg>\n",
              "      </button>\n",
              "      \n",
              "  <style>\n",
              "    .colab-df-container {\n",
              "      display:flex;\n",
              "      flex-wrap:wrap;\n",
              "      gap: 12px;\n",
              "    }\n",
              "\n",
              "    .colab-df-convert {\n",
              "      background-color: #E8F0FE;\n",
              "      border: none;\n",
              "      border-radius: 50%;\n",
              "      cursor: pointer;\n",
              "      display: none;\n",
              "      fill: #1967D2;\n",
              "      height: 32px;\n",
              "      padding: 0 0 0 0;\n",
              "      width: 32px;\n",
              "    }\n",
              "\n",
              "    .colab-df-convert:hover {\n",
              "      background-color: #E2EBFA;\n",
              "      box-shadow: 0px 1px 2px rgba(60, 64, 67, 0.3), 0px 1px 3px 1px rgba(60, 64, 67, 0.15);\n",
              "      fill: #174EA6;\n",
              "    }\n",
              "\n",
              "    [theme=dark] .colab-df-convert {\n",
              "      background-color: #3B4455;\n",
              "      fill: #D2E3FC;\n",
              "    }\n",
              "\n",
              "    [theme=dark] .colab-df-convert:hover {\n",
              "      background-color: #434B5C;\n",
              "      box-shadow: 0px 1px 3px 1px rgba(0, 0, 0, 0.15);\n",
              "      filter: drop-shadow(0px 1px 2px rgba(0, 0, 0, 0.3));\n",
              "      fill: #FFFFFF;\n",
              "    }\n",
              "  </style>\n",
              "\n",
              "      <script>\n",
              "        const buttonEl =\n",
              "          document.querySelector('#df-d403b912-6749-4e2a-8e93-05867f9cdded button.colab-df-convert');\n",
              "        buttonEl.style.display =\n",
              "          google.colab.kernel.accessAllowed ? 'block' : 'none';\n",
              "\n",
              "        async function convertToInteractive(key) {\n",
              "          const element = document.querySelector('#df-d403b912-6749-4e2a-8e93-05867f9cdded');\n",
              "          const dataTable =\n",
              "            await google.colab.kernel.invokeFunction('convertToInteractive',\n",
              "                                                     [key], {});\n",
              "          if (!dataTable) return;\n",
              "\n",
              "          const docLinkHtml = 'Like what you see? Visit the ' +\n",
              "            '<a target=\"_blank\" href=https://colab.research.google.com/notebooks/data_table.ipynb>data table notebook</a>'\n",
              "            + ' to learn more about interactive tables.';\n",
              "          element.innerHTML = '';\n",
              "          dataTable['output_type'] = 'display_data';\n",
              "          await google.colab.output.renderOutput(dataTable, element);\n",
              "          const docLink = document.createElement('div');\n",
              "          docLink.innerHTML = docLinkHtml;\n",
              "          element.appendChild(docLink);\n",
              "        }\n",
              "      </script>\n",
              "    </div>\n",
              "  </div>\n",
              "  "
            ],
            "text/plain": [
              "            feature     fi_rf    fi_xgb\n",
              "0               age  0.228210  0.028702\n",
              "1         workclass  0.052229  0.025300\n",
              "2     education_num  0.142200  0.092466\n",
              "3    marital_status  0.082804  0.140668\n",
              "4        occupation  0.095488  0.028395\n",
              "5      relationship  0.115750  0.389192\n",
              "6              race  0.017597  0.023426\n",
              "7               sex  0.012085  0.021857\n",
              "8      capital_gain  0.096852  0.198694\n",
              "9    hours_per_week  0.112290  0.029209\n",
              "10   native_country  0.020014  0.022092\n",
              "11  capital_gain_yn  0.024480  0.000000"
            ]
          },
          "metadata": {},
          "execution_count": 150
        }
      ]
    },
    {
      "cell_type": "markdown",
      "source": [
        "#### 444-10 : 변수 제거"
      ],
      "metadata": {
        "id": "uv4xCzXlnEbh"
      }
    },
    {
      "cell_type": "code",
      "source": [
        "X_train = X_train.drop('capital_gain_yn', axis=1)\n",
        "X_test = X_test.drop('capital_gain_yn', axis=1)"
      ],
      "metadata": {
        "colab": {
          "base_uri": "https://localhost:8080/",
          "height": 327
        },
        "id": "R7_qJIk7lyd1",
        "outputId": "60efbf41-b9af-4692-9ccf-e41f7112d0d0"
      },
      "execution_count": 151,
      "outputs": [
        {
          "output_type": "error",
          "ename": "KeyError",
          "evalue": "ignored",
          "traceback": [
            "\u001b[0;31m---------------------------------------------------------------------------\u001b[0m",
            "\u001b[0;31mKeyError\u001b[0m                                  Traceback (most recent call last)",
            "\u001b[0;32m<ipython-input-151-483ab1613316>\u001b[0m in \u001b[0;36m<module>\u001b[0;34m()\u001b[0m\n\u001b[0;32m----> 1\u001b[0;31m \u001b[0mX_train\u001b[0m \u001b[0;34m=\u001b[0m \u001b[0mX_train\u001b[0m\u001b[0;34m.\u001b[0m\u001b[0mdrop\u001b[0m\u001b[0;34m(\u001b[0m\u001b[0;34m'capital_gain_yn'\u001b[0m\u001b[0;34m,\u001b[0m \u001b[0maxis\u001b[0m\u001b[0;34m=\u001b[0m\u001b[0;36m1\u001b[0m\u001b[0;34m)\u001b[0m\u001b[0;34m\u001b[0m\u001b[0;34m\u001b[0m\u001b[0m\n\u001b[0m",
            "\u001b[0;32m/usr/local/lib/python3.7/dist-packages/pandas/util/_decorators.py\u001b[0m in \u001b[0;36mwrapper\u001b[0;34m(*args, **kwargs)\u001b[0m\n\u001b[1;32m    309\u001b[0m                     \u001b[0mstacklevel\u001b[0m\u001b[0;34m=\u001b[0m\u001b[0mstacklevel\u001b[0m\u001b[0;34m,\u001b[0m\u001b[0;34m\u001b[0m\u001b[0;34m\u001b[0m\u001b[0m\n\u001b[1;32m    310\u001b[0m                 )\n\u001b[0;32m--> 311\u001b[0;31m             \u001b[0;32mreturn\u001b[0m \u001b[0mfunc\u001b[0m\u001b[0;34m(\u001b[0m\u001b[0;34m*\u001b[0m\u001b[0margs\u001b[0m\u001b[0;34m,\u001b[0m \u001b[0;34m**\u001b[0m\u001b[0mkwargs\u001b[0m\u001b[0;34m)\u001b[0m\u001b[0;34m\u001b[0m\u001b[0;34m\u001b[0m\u001b[0m\n\u001b[0m\u001b[1;32m    312\u001b[0m \u001b[0;34m\u001b[0m\u001b[0m\n\u001b[1;32m    313\u001b[0m         \u001b[0;32mreturn\u001b[0m \u001b[0mwrapper\u001b[0m\u001b[0;34m\u001b[0m\u001b[0;34m\u001b[0m\u001b[0m\n",
            "\u001b[0;32m/usr/local/lib/python3.7/dist-packages/pandas/core/frame.py\u001b[0m in \u001b[0;36mdrop\u001b[0;34m(self, labels, axis, index, columns, level, inplace, errors)\u001b[0m\n\u001b[1;32m   4911\u001b[0m             \u001b[0mlevel\u001b[0m\u001b[0;34m=\u001b[0m\u001b[0mlevel\u001b[0m\u001b[0;34m,\u001b[0m\u001b[0;34m\u001b[0m\u001b[0;34m\u001b[0m\u001b[0m\n\u001b[1;32m   4912\u001b[0m             \u001b[0minplace\u001b[0m\u001b[0;34m=\u001b[0m\u001b[0minplace\u001b[0m\u001b[0;34m,\u001b[0m\u001b[0;34m\u001b[0m\u001b[0;34m\u001b[0m\u001b[0m\n\u001b[0;32m-> 4913\u001b[0;31m             \u001b[0merrors\u001b[0m\u001b[0;34m=\u001b[0m\u001b[0merrors\u001b[0m\u001b[0;34m,\u001b[0m\u001b[0;34m\u001b[0m\u001b[0;34m\u001b[0m\u001b[0m\n\u001b[0m\u001b[1;32m   4914\u001b[0m         )\n\u001b[1;32m   4915\u001b[0m \u001b[0;34m\u001b[0m\u001b[0m\n",
            "\u001b[0;32m/usr/local/lib/python3.7/dist-packages/pandas/core/generic.py\u001b[0m in \u001b[0;36mdrop\u001b[0;34m(self, labels, axis, index, columns, level, inplace, errors)\u001b[0m\n\u001b[1;32m   4148\u001b[0m         \u001b[0;32mfor\u001b[0m \u001b[0maxis\u001b[0m\u001b[0;34m,\u001b[0m \u001b[0mlabels\u001b[0m \u001b[0;32min\u001b[0m \u001b[0maxes\u001b[0m\u001b[0;34m.\u001b[0m\u001b[0mitems\u001b[0m\u001b[0;34m(\u001b[0m\u001b[0;34m)\u001b[0m\u001b[0;34m:\u001b[0m\u001b[0;34m\u001b[0m\u001b[0;34m\u001b[0m\u001b[0m\n\u001b[1;32m   4149\u001b[0m             \u001b[0;32mif\u001b[0m \u001b[0mlabels\u001b[0m \u001b[0;32mis\u001b[0m \u001b[0;32mnot\u001b[0m \u001b[0;32mNone\u001b[0m\u001b[0;34m:\u001b[0m\u001b[0;34m\u001b[0m\u001b[0;34m\u001b[0m\u001b[0m\n\u001b[0;32m-> 4150\u001b[0;31m                 \u001b[0mobj\u001b[0m \u001b[0;34m=\u001b[0m \u001b[0mobj\u001b[0m\u001b[0;34m.\u001b[0m\u001b[0m_drop_axis\u001b[0m\u001b[0;34m(\u001b[0m\u001b[0mlabels\u001b[0m\u001b[0;34m,\u001b[0m \u001b[0maxis\u001b[0m\u001b[0;34m,\u001b[0m \u001b[0mlevel\u001b[0m\u001b[0;34m=\u001b[0m\u001b[0mlevel\u001b[0m\u001b[0;34m,\u001b[0m \u001b[0merrors\u001b[0m\u001b[0;34m=\u001b[0m\u001b[0merrors\u001b[0m\u001b[0;34m)\u001b[0m\u001b[0;34m\u001b[0m\u001b[0;34m\u001b[0m\u001b[0m\n\u001b[0m\u001b[1;32m   4151\u001b[0m \u001b[0;34m\u001b[0m\u001b[0m\n\u001b[1;32m   4152\u001b[0m         \u001b[0;32mif\u001b[0m \u001b[0minplace\u001b[0m\u001b[0;34m:\u001b[0m\u001b[0;34m\u001b[0m\u001b[0;34m\u001b[0m\u001b[0m\n",
            "\u001b[0;32m/usr/local/lib/python3.7/dist-packages/pandas/core/generic.py\u001b[0m in \u001b[0;36m_drop_axis\u001b[0;34m(self, labels, axis, level, errors)\u001b[0m\n\u001b[1;32m   4183\u001b[0m                 \u001b[0mnew_axis\u001b[0m \u001b[0;34m=\u001b[0m \u001b[0maxis\u001b[0m\u001b[0;34m.\u001b[0m\u001b[0mdrop\u001b[0m\u001b[0;34m(\u001b[0m\u001b[0mlabels\u001b[0m\u001b[0;34m,\u001b[0m \u001b[0mlevel\u001b[0m\u001b[0;34m=\u001b[0m\u001b[0mlevel\u001b[0m\u001b[0;34m,\u001b[0m \u001b[0merrors\u001b[0m\u001b[0;34m=\u001b[0m\u001b[0merrors\u001b[0m\u001b[0;34m)\u001b[0m\u001b[0;34m\u001b[0m\u001b[0;34m\u001b[0m\u001b[0m\n\u001b[1;32m   4184\u001b[0m             \u001b[0;32melse\u001b[0m\u001b[0;34m:\u001b[0m\u001b[0;34m\u001b[0m\u001b[0;34m\u001b[0m\u001b[0m\n\u001b[0;32m-> 4185\u001b[0;31m                 \u001b[0mnew_axis\u001b[0m \u001b[0;34m=\u001b[0m \u001b[0maxis\u001b[0m\u001b[0;34m.\u001b[0m\u001b[0mdrop\u001b[0m\u001b[0;34m(\u001b[0m\u001b[0mlabels\u001b[0m\u001b[0;34m,\u001b[0m \u001b[0merrors\u001b[0m\u001b[0;34m=\u001b[0m\u001b[0merrors\u001b[0m\u001b[0;34m)\u001b[0m\u001b[0;34m\u001b[0m\u001b[0;34m\u001b[0m\u001b[0m\n\u001b[0m\u001b[1;32m   4186\u001b[0m             \u001b[0mresult\u001b[0m \u001b[0;34m=\u001b[0m \u001b[0mself\u001b[0m\u001b[0;34m.\u001b[0m\u001b[0mreindex\u001b[0m\u001b[0;34m(\u001b[0m\u001b[0;34m**\u001b[0m\u001b[0;34m{\u001b[0m\u001b[0maxis_name\u001b[0m\u001b[0;34m:\u001b[0m \u001b[0mnew_axis\u001b[0m\u001b[0;34m}\u001b[0m\u001b[0;34m)\u001b[0m\u001b[0;34m\u001b[0m\u001b[0;34m\u001b[0m\u001b[0m\n\u001b[1;32m   4187\u001b[0m \u001b[0;34m\u001b[0m\u001b[0m\n",
            "\u001b[0;32m/usr/local/lib/python3.7/dist-packages/pandas/core/indexes/base.py\u001b[0m in \u001b[0;36mdrop\u001b[0;34m(self, labels, errors)\u001b[0m\n\u001b[1;32m   6015\u001b[0m         \u001b[0;32mif\u001b[0m \u001b[0mmask\u001b[0m\u001b[0;34m.\u001b[0m\u001b[0many\u001b[0m\u001b[0;34m(\u001b[0m\u001b[0;34m)\u001b[0m\u001b[0;34m:\u001b[0m\u001b[0;34m\u001b[0m\u001b[0;34m\u001b[0m\u001b[0m\n\u001b[1;32m   6016\u001b[0m             \u001b[0;32mif\u001b[0m \u001b[0merrors\u001b[0m \u001b[0;34m!=\u001b[0m \u001b[0;34m\"ignore\"\u001b[0m\u001b[0;34m:\u001b[0m\u001b[0;34m\u001b[0m\u001b[0;34m\u001b[0m\u001b[0m\n\u001b[0;32m-> 6017\u001b[0;31m                 \u001b[0;32mraise\u001b[0m \u001b[0mKeyError\u001b[0m\u001b[0;34m(\u001b[0m\u001b[0;34mf\"{labels[mask]} not found in axis\"\u001b[0m\u001b[0;34m)\u001b[0m\u001b[0;34m\u001b[0m\u001b[0;34m\u001b[0m\u001b[0m\n\u001b[0m\u001b[1;32m   6018\u001b[0m             \u001b[0mindexer\u001b[0m \u001b[0;34m=\u001b[0m \u001b[0mindexer\u001b[0m\u001b[0;34m[\u001b[0m\u001b[0;34m~\u001b[0m\u001b[0mmask\u001b[0m\u001b[0;34m]\u001b[0m\u001b[0;34m\u001b[0m\u001b[0;34m\u001b[0m\u001b[0m\n\u001b[1;32m   6019\u001b[0m         \u001b[0;32mreturn\u001b[0m \u001b[0mself\u001b[0m\u001b[0;34m.\u001b[0m\u001b[0mdelete\u001b[0m\u001b[0;34m(\u001b[0m\u001b[0mindexer\u001b[0m\u001b[0;34m)\u001b[0m\u001b[0;34m\u001b[0m\u001b[0;34m\u001b[0m\u001b[0m\n",
            "\u001b[0;31mKeyError\u001b[0m: \"['capital_gain_yn'] not found in axis\""
          ]
        }
      ]
    },
    {
      "cell_type": "markdown",
      "source": [
        "#### 444-11 : 랜덤 포레스트 하이퍼파라미터 튜닝"
      ],
      "metadata": {
        "id": "effb1pGjncyb"
      }
    },
    {
      "cell_type": "code",
      "source": [
        "from sklearn.model_selection import GridSearchCV\n",
        "\n",
        "params = { \n",
        "    'n_estimators': [50, 100, 200],\n",
        "    'max_depth': [5, 10, 15],\n",
        "    'min_samples_split': [2, 5, 10],\n",
        "    'min_samples_leaf': [1, 2, 4]\n",
        "}\n",
        "\n",
        "rf_cv = GridSearchCV(estimator=model_rf, param_grid=params, cv=5)\n",
        "rf_cv.fit(X_train, y_train.values.ravel()) # 약 10분 소요"
      ],
      "metadata": {
        "colab": {
          "base_uri": "https://localhost:8080/"
        },
        "id": "KOnP9cBkEPAV",
        "outputId": "7b74c10a-318d-4dc8-bc29-84a977f7c79a"
      },
      "execution_count": 155,
      "outputs": [
        {
          "output_type": "execute_result",
          "data": {
            "text/plain": [
              "GridSearchCV(cv=5, estimator=RandomForestClassifier(),\n",
              "             param_grid={'max_depth': [5, 10, 15],\n",
              "                         'min_samples_leaf': [1, 2, 4],\n",
              "                         'min_samples_split': [2, 5, 10],\n",
              "                         'n_estimators': [50, 100, 200]})"
            ]
          },
          "metadata": {},
          "execution_count": 155
        }
      ]
    },
    {
      "cell_type": "markdown",
      "source": [
        "#### 444-12 : CV 결과 확인 1"
      ],
      "metadata": {
        "id": "lczD1U8FnwFB"
      }
    },
    {
      "cell_type": "code",
      "source": [
        "print(pd.DataFrame(rf_cv.cv_results_).head())"
      ],
      "metadata": {
        "colab": {
          "base_uri": "https://localhost:8080/"
        },
        "id": "cI-AOjQFKEKa",
        "outputId": "9145f002-b5fc-4b41-db59-78233c3d45f4"
      },
      "execution_count": 158,
      "outputs": [
        {
          "output_type": "stream",
          "name": "stdout",
          "text": [
            "   mean_fit_time  std_fit_time  mean_score_time  std_score_time  \\\n",
            "0       0.614654      0.014644         0.047466        0.010361   \n",
            "1       1.021098      0.311534         0.061359        0.009839   \n",
            "2       1.551375      0.045204         0.111706        0.003587   \n",
            "3       0.412004      0.007714         0.032109        0.002396   \n",
            "4       0.906183      0.202203         0.068138        0.016301   \n",
            "\n",
            "  param_max_depth param_min_samples_leaf param_min_samples_split  \\\n",
            "0               5                      1                       2   \n",
            "1               5                      1                       2   \n",
            "2               5                      1                       2   \n",
            "3               5                      1                       5   \n",
            "4               5                      1                       5   \n",
            "\n",
            "  param_n_estimators                                             params  \\\n",
            "0                 50  {'max_depth': 5, 'min_samples_leaf': 1, 'min_s...   \n",
            "1                100  {'max_depth': 5, 'min_samples_leaf': 1, 'min_s...   \n",
            "2                200  {'max_depth': 5, 'min_samples_leaf': 1, 'min_s...   \n",
            "3                 50  {'max_depth': 5, 'min_samples_leaf': 1, 'min_s...   \n",
            "4                100  {'max_depth': 5, 'min_samples_leaf': 1, 'min_s...   \n",
            "\n",
            "   split0_test_score  split1_test_score  split2_test_score  split3_test_score  \\\n",
            "0           0.847907           0.843349           0.838790           0.833817   \n",
            "1           0.846871           0.841484           0.835475           0.834231   \n",
            "2           0.848322           0.842727           0.837961           0.833610   \n",
            "3           0.844799           0.844592           0.837754           0.834024   \n",
            "4           0.847078           0.842727           0.837754           0.833195   \n",
            "\n",
            "   split4_test_score  mean_test_score  std_test_score  rank_test_score  \n",
            "0           0.843938         0.841560        0.004833               62  \n",
            "1           0.846425         0.840897        0.005300               77  \n",
            "2           0.845389         0.841602        0.005252               60  \n",
            "3           0.846010         0.841436        0.004705               65  \n",
            "4           0.846010         0.841353        0.005213               69  \n"
          ]
        }
      ]
    },
    {
      "cell_type": "markdown",
      "source": [
        "#### 444-13 : CV 결과 확인 2"
      ],
      "metadata": {
        "id": "-oQ0rQLYoAN6"
      }
    },
    {
      "cell_type": "code",
      "source": [
        "rf_cv.best_params_"
      ],
      "metadata": {
        "colab": {
          "base_uri": "https://localhost:8080/"
        },
        "id": "a2fdcIY-SgkB",
        "outputId": "897387d6-b3ba-4e56-d242-fe5c8b8aa1bf"
      },
      "execution_count": 159,
      "outputs": [
        {
          "output_type": "execute_result",
          "data": {
            "text/plain": [
              "{'max_depth': 15,\n",
              " 'min_samples_leaf': 2,\n",
              " 'min_samples_split': 2,\n",
              " 'n_estimators': 200}"
            ]
          },
          "metadata": {},
          "execution_count": 159
        }
      ]
    },
    {
      "cell_type": "markdown",
      "source": [
        "#### 444-14 : 랜덤포레스트 학습 및 결과 확인 "
      ],
      "metadata": {
        "id": "rusEIrBkoH09"
      }
    },
    {
      "cell_type": "code",
      "source": [
        "model_rf2 = RandomForestClassifier(n_estimators=200\n",
        "                                   , max_depth=15\n",
        "                                   , min_samples_leaf=2\n",
        "                                   , min_samples_split=2)\n",
        "model_rf2.fit(X_tr, y_tr.values.ravel())\n",
        "\n",
        "y_pred_rf2 = model_rf2.predict_proba(X_val)\n",
        "score_rf2 = roc_auc_score(y_val, y_pred_rf2[:, 1])\n",
        "print(score_rf2)"
      ],
      "metadata": {
        "colab": {
          "base_uri": "https://localhost:8080/"
        },
        "id": "wbLhmq3UU3_L",
        "outputId": "d1ef975b-619e-422c-dd46-2c8fbf356cfe"
      },
      "execution_count": 160,
      "outputs": [
        {
          "output_type": "stream",
          "name": "stdout",
          "text": [
            "0.9070418938111021\n"
          ]
        }
      ]
    },
    {
      "cell_type": "markdown",
      "source": [
        "#### 444-15 : XGBoost 하이퍼파라미터 튜닝"
      ],
      "metadata": {
        "id": "9x64R_RprDm8"
      }
    },
    {
      "cell_type": "code",
      "source": [
        "model_xgb2 = XGBClassifier(n_estimators=100)\n",
        "\n",
        "grid_params = {'learning_rate': [0.05, 0.1],\n",
        "          'max_depth': [5, 10], \n",
        "          'min_child_weight': [1, 3], \n",
        "          'colsample_bytree': [0.5, 0.8],\n",
        "          'subsample': [0.5, 0.8]}\n",
        "\n",
        "xgb_cv = GridSearchCV(model_xgb2, param_grid=grid_params, cv=3)\n",
        "xgb_cv.fit(X_tr, y_tr.values.ravel())"
      ],
      "metadata": {
        "id": "M9HBnmRSR7vz",
        "colab": {
          "base_uri": "https://localhost:8080/"
        },
        "outputId": "519d2efa-ea7d-4afe-ad13-92a02371b1d3"
      },
      "execution_count": 83,
      "outputs": [
        {
          "output_type": "execute_result",
          "data": {
            "text/plain": [
              "GridSearchCV(cv=3, estimator=XGBClassifier(),\n",
              "             param_grid={'colsample_bytree': [0.5, 0.8],\n",
              "                         'learning_rate': [0.05, 0.1], 'max_depth': [5, 10],\n",
              "                         'min_child_weight': [1, 3], 'subsample': [0.5, 0.8]})"
            ]
          },
          "metadata": {},
          "execution_count": 83
        }
      ]
    },
    {
      "cell_type": "markdown",
      "source": [
        "#### 444-16 : CV 결과 확인 3"
      ],
      "metadata": {
        "id": "7RWmy0h9rJmx"
      }
    },
    {
      "cell_type": "code",
      "source": [
        "xgb_cv.best_params_"
      ],
      "metadata": {
        "colab": {
          "base_uri": "https://localhost:8080/"
        },
        "id": "bgr55h1LYPHQ",
        "outputId": "96b0caa9-deae-48da-b341-1dc96762860e"
      },
      "execution_count": 84,
      "outputs": [
        {
          "output_type": "execute_result",
          "data": {
            "text/plain": [
              "{'colsample_bytree': 0.5,\n",
              " 'learning_rate': 0.1,\n",
              " 'max_depth': 10,\n",
              " 'min_child_weight': 1,\n",
              " 'subsample': 0.8}"
            ]
          },
          "metadata": {},
          "execution_count": 84
        }
      ]
    },
    {
      "cell_type": "markdown",
      "source": [
        "#### 444-17 : XGBoost 학습 및 결과 확인"
      ],
      "metadata": {
        "id": "XSu_EWDarYqS"
      }
    },
    {
      "cell_type": "code",
      "source": [
        "params = {'colsample_bytree': 0.5,\n",
        "          'learning_rate': 0.1,\n",
        "          'max_depth': 10,\n",
        "          'min_child_weight': 1,\n",
        "          'subsample': 0.8}\n",
        "\n",
        "model_xgb3 = XGBClassifier(n_estimators=1000)\n",
        "model_xgb3.set_params(**params)\n",
        "\n",
        "model_xgb3.fit(X_tr, y_tr, early_stopping_rounds=50, eval_metric='auc', eval_set=[(X_val, y_val)], verbose=10)\n",
        "\n",
        "print(model_xgb3.best_score)"
      ],
      "metadata": {
        "colab": {
          "base_uri": "https://localhost:8080/"
        },
        "id": "OqmjPUDFY4YQ",
        "outputId": "e6f86370-c065-4ed5-c26e-cbf2adaaec43"
      },
      "execution_count": 88,
      "outputs": [
        {
          "output_type": "execute_result",
          "data": {
            "text/plain": [
              "XGBClassifier(colsample_bytree=0.5, max_depth=10, n_estimators=1000,\n",
              "              subsample=0.8)"
            ]
          },
          "metadata": {},
          "execution_count": 88
        }
      ]
    },
    {
      "cell_type": "markdown",
      "source": [
        "#### 444-18 : 결과 제출"
      ],
      "metadata": {
        "id": "PeTudFI8rg7B"
      }
    },
    {
      "cell_type": "code",
      "source": [
        "pred = model_xgb3.predict_proba(X_test)[:,1]\n",
        "pd.DataFrame({'index': X_test.index, 'target': pred}).to_csv('003000000.csv', index=False)"
      ],
      "metadata": {
        "id": "BENtk8cUeE-i"
      },
      "execution_count": null,
      "outputs": []
    }
  ]
}