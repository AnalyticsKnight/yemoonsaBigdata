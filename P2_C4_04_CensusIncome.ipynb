{
  "nbformat": 4,
  "nbformat_minor": 0,
  "metadata": {
    "colab": {
      "name": "P2_C4_04. CensusIncome.ipynb",
      "provenance": [],
      "collapsed_sections": [],
      "toc_visible": true,
      "include_colab_link": true
    },
    "kernelspec": {
      "name": "python3",
      "display_name": "Python 3"
    },
    "language_info": {
      "name": "python"
    }
  },
  "cells": [
    {
      "cell_type": "markdown",
      "metadata": {
        "id": "view-in-github",
        "colab_type": "text"
      },
      "source": [
        "<a href=\"https://colab.research.google.com/github/AnalyticsKnight/yemoonsaBigdata/blob/dev/P2_C4_04_CensusIncome.ipynb\" target=\"_parent\"><img src=\"https://colab.research.google.com/assets/colab-badge.svg\" alt=\"Open In Colab\"/></a>"
      ]
    },
    {
      "cell_type": "code",
      "execution_count": null,
      "metadata": {
        "colab": {
          "base_uri": "https://localhost:8080/"
        },
        "id": "zjP-lh__xmcx",
        "outputId": "ce961b3e-d854-4268-c121-6227840d3214"
      },
      "outputs": [
        {
          "output_type": "stream",
          "name": "stdout",
          "text": [
            "/content/drive/MyDrive/202201_bigdata_share\n"
          ]
        }
      ],
      "source": [
        "%cd /content/drive/MyDrive/202201_bigdata_share"
      ]
    },
    {
      "cell_type": "markdown",
      "source": [
        "# **Chapter 4. A to Z 빅데이터 분석 실습**"
      ],
      "metadata": {
        "id": "gSZ1HUxoJBZS"
      }
    },
    {
      "cell_type": "markdown",
      "source": [
        "## 3. 실습 A to Z - Census Income "
      ],
      "metadata": {
        "id": "bggmCRYJJYLF"
      }
    },
    {
      "cell_type": "markdown",
      "source": [
        "### (2) 사전준비"
      ],
      "metadata": {
        "id": "de2QO4OKJlRa"
      }
    },
    {
      "cell_type": "markdown",
      "source": [
        "#### 432-01 : 패키지 불러오기 "
      ],
      "metadata": {
        "id": "LWrvdMc5KJJn"
      }
    },
    {
      "cell_type": "code",
      "source": [
        "import pandas as pd\n",
        "import numpy as np"
      ],
      "metadata": {
        "id": "DC1aQjh5KbiL"
      },
      "execution_count": null,
      "outputs": []
    },
    {
      "cell_type": "markdown",
      "source": [
        "432-02 : 데이터 로딩"
      ],
      "metadata": {
        "id": "Jn9ghrqwKg_6"
      }
    },
    {
      "cell_type": "code",
      "source": [
        "X_test = pd.read_csv(\"dataset/census_X_test.csv\")\n",
        "X_train = pd.read_csv(\"dataset/census_X_train.csv\")\n",
        "y_train = pd.read_csv(\"dataset/census_y_train.csv\")"
      ],
      "metadata": {
        "id": "cQ-mgBAVKeVq"
      },
      "execution_count": null,
      "outputs": []
    },
    {
      "cell_type": "markdown",
      "source": [
        "### (3) 데이터 전처리"
      ],
      "metadata": {
        "id": "p8x1_D0yK990"
      }
    },
    {
      "cell_type": "markdown",
      "source": [
        "#### 433-01 : 데이터 정보 확인 "
      ],
      "metadata": {
        "id": "5OwqboGFLBZC"
      }
    },
    {
      "cell_type": "code",
      "source": [
        "print(X_train.info())"
      ],
      "metadata": {
        "colab": {
          "base_uri": "https://localhost:8080/"
        },
        "id": "80pxps2gLGZ-",
        "outputId": "1fd30f2e-b7cc-4fb1-eeb8-365269bf0971"
      },
      "execution_count": null,
      "outputs": [
        {
          "output_type": "stream",
          "name": "stdout",
          "text": [
            "<class 'pandas.core.frame.DataFrame'>\n",
            "RangeIndex: 30162 entries, 0 to 30161\n",
            "Data columns (total 12 columns):\n",
            " #   Column          Non-Null Count  Dtype \n",
            "---  ------          --------------  ----- \n",
            " 0   age             30162 non-null  int64 \n",
            " 1   workclass       30162 non-null  object\n",
            " 2   education_num   30162 non-null  int64 \n",
            " 3   marital_status  30162 non-null  object\n",
            " 4   occupation      30162 non-null  object\n",
            " 5   relationship    30162 non-null  object\n",
            " 6   race            30162 non-null  object\n",
            " 7   sex             30162 non-null  object\n",
            " 8   capital_gain    30162 non-null  int64 \n",
            " 9   capital_loss    30162 non-null  int64 \n",
            " 10  hours_per_week  30162 non-null  int64 \n",
            " 11  native_country  30162 non-null  object\n",
            "dtypes: int64(5), object(7)\n",
            "memory usage: 2.8+ MB\n",
            "None\n"
          ]
        }
      ]
    },
    {
      "cell_type": "markdown",
      "source": [
        "433-02 : 데이터 통계량 확인"
      ],
      "metadata": {
        "id": "owyOO-SbLkEP"
      }
    },
    {
      "cell_type": "code",
      "source": [
        "print(X_train.describe())"
      ],
      "metadata": {
        "colab": {
          "base_uri": "https://localhost:8080/"
        },
        "id": "dOrgoBXaLbVV",
        "outputId": "8ff5cd6d-699f-4bf4-eeca-051f1d8fda08"
      },
      "execution_count": null,
      "outputs": [
        {
          "output_type": "stream",
          "name": "stdout",
          "text": [
            "                age  education_num  capital_gain  capital_loss  hours_per_week\n",
            "count  30162.000000   30162.000000  30162.000000  30162.000000    30162.000000\n",
            "mean      38.437902      10.121312   1092.007858     88.372489       40.931238\n",
            "std       13.134665       2.549995   7406.346497    404.298370       11.979984\n",
            "min       17.000000       1.000000      0.000000      0.000000        1.000000\n",
            "25%       28.000000       9.000000      0.000000      0.000000       40.000000\n",
            "50%       37.000000      10.000000      0.000000      0.000000       40.000000\n",
            "75%       47.000000      13.000000      0.000000      0.000000       45.000000\n",
            "max       90.000000      16.000000  99999.000000   4356.000000       99.000000\n"
          ]
        }
      ]
    },
    {
      "cell_type": "markdown",
      "source": [
        "#### 433-03 : capital_gain변수 통계량 확인"
      ],
      "metadata": {
        "id": "g9rbWzPzL0Ln"
      }
    },
    {
      "cell_type": "code",
      "source": [
        "print(X_train['capital_gain'].quantile([q/20 for q in range(15, 21)]))"
      ],
      "metadata": {
        "colab": {
          "base_uri": "https://localhost:8080/"
        },
        "id": "gwwjQOvALhng",
        "outputId": "cd516753-3c50-4269-80c0-b7a79d837aa7"
      },
      "execution_count": null,
      "outputs": [
        {
          "output_type": "stream",
          "name": "stdout",
          "text": [
            "0.75        0.0\n",
            "0.80        0.0\n",
            "0.85        0.0\n",
            "0.90        0.0\n",
            "0.95     5013.0\n",
            "1.00    99999.0\n",
            "Name: capital_gain, dtype: float64\n"
          ]
        }
      ]
    },
    {
      "cell_type": "markdown",
      "source": [
        "#### 433-04 : capital_loss변수 통계량 확인"
      ],
      "metadata": {
        "id": "JWHWLYVAMAS4"
      }
    },
    {
      "cell_type": "code",
      "source": [
        "print(X_train['capital_loss'].quantile([q/20 for q in range(15, 21)]))"
      ],
      "metadata": {
        "colab": {
          "base_uri": "https://localhost:8080/"
        },
        "outputId": "b27a036c-1ff0-41de-f929-dd9eb4fae858",
        "id": "nFY94jQvMAS4"
      },
      "execution_count": null,
      "outputs": [
        {
          "output_type": "stream",
          "name": "stdout",
          "text": [
            "0.75       0.0\n",
            "0.80       0.0\n",
            "0.85       0.0\n",
            "0.90       0.0\n",
            "0.95       0.0\n",
            "1.00    4356.0\n",
            "Name: capital_loss, dtype: float64\n"
          ]
        }
      ]
    },
    {
      "cell_type": "markdown",
      "source": [
        "#### 433-05 : 파생변수 생성"
      ],
      "metadata": {
        "id": "nW0c2kGTMU5j"
      }
    },
    {
      "cell_type": "code",
      "source": [
        "X_train['capital_gain_yn'] = np.where(X_train['capital_gain']>0, 1, 0)\n",
        "X_train['capital_loss_yn'] = np.where(X_train['capital_loss']>0, 1, 0)\n",
        "\n",
        "X_test['capital_gain_yn'] = np.where(X_test['capital_gain']>0, 1, 0)\n",
        "X_test['capital_loss_yn'] = np.where(X_test['capital_loss']>0, 1, 0)"
      ],
      "metadata": {
        "id": "jgQT3fkeMEVh"
      },
      "execution_count": null,
      "outputs": []
    },
    {
      "cell_type": "markdown",
      "source": [
        "#### 433-06 : 변수 구분 "
      ],
      "metadata": {
        "id": "9BJjw8esMc97"
      }
    },
    {
      "cell_type": "code",
      "source": [
        "# 불필요 변수\n",
        "COL_DEL = []\n",
        "# 수치형 변수\n",
        "COL_NUM = ['age', 'education_num', 'hours_per_week', 'capital_gain', 'capital_loss']\n",
        "# 범주형 변수 \n",
        "COL_CAT = ['workclass', 'marital_status', 'occupation', 'relationship', 'race', 'sex', 'native_country', 'capital_gain_yn', 'capital_loss_yn']\n",
        "# 종속 변수\n",
        "COL_Y = ['target']\n",
        "\n",
        "X_train = X_train.drop(COL_DEL, axis=1)\n",
        "X_test = X_test.drop(COL_DEL, axis=1)"
      ],
      "metadata": {
        "id": "7H7x9PFuM78R"
      },
      "execution_count": null,
      "outputs": []
    },
    {
      "cell_type": "markdown",
      "source": [
        "#### 433-07 : 수치형 변수 탐색"
      ],
      "metadata": {
        "id": "BtYxP_DoPtj3"
      }
    },
    {
      "cell_type": "code",
      "source": [
        "train_df = pd.concat([X_train, y_train], axis=1)\n",
        "\n",
        "for _col in COL_NUM:\n",
        "  print('-'*80)\n",
        "  print(_col)\n",
        "  print(train_df.groupby(COL_Y)[_col].describe(), end='\\n\\n')"
      ],
      "metadata": {
        "colab": {
          "base_uri": "https://localhost:8080/"
        },
        "id": "HEWcnedYx1Xh",
        "outputId": "227a9b7c-3886-41d0-dae2-fdaa0935354b"
      },
      "execution_count": null,
      "outputs": [
        {
          "output_type": "stream",
          "name": "stdout",
          "text": [
            "--------------------------------------------------------------------------------\n",
            "age\n",
            "          count      mean        std   min   25%   50%   75%   max\n",
            "target                                                            \n",
            "0       22654.0  36.60806  13.464631  17.0  26.0  34.0  45.0  90.0\n",
            "1        7508.0  43.95911  10.269633  19.0  36.0  43.0  51.0  90.0\n",
            "\n",
            "--------------------------------------------------------------------------------\n",
            "education_num\n",
            "          count       mean       std  min   25%   50%   75%   max\n",
            "target                                                           \n",
            "0       22654.0   9.629116  2.413596  1.0   9.0   9.0  10.0  16.0\n",
            "1        7508.0  11.606420  2.368423  2.0  10.0  12.0  13.0  16.0\n",
            "\n",
            "--------------------------------------------------------------------------------\n",
            "hours_per_week\n",
            "          count       mean        std  min   25%   50%   75%   max\n",
            "target                                                            \n",
            "0       22654.0  39.348592  11.950774  1.0  38.0  40.0  40.0  99.0\n",
            "1        7508.0  45.706580  10.736987  1.0  40.0  40.0  50.0  99.0\n",
            "\n",
            "--------------------------------------------------------------------------------\n",
            "capital_gain\n",
            "          count         mean           std  min  25%  50%  75%      max\n",
            "target                                                                 \n",
            "0       22654.0   148.893838    936.392280  0.0  0.0  0.0  0.0  41310.0\n",
            "1        7508.0  3937.679808  14386.060019  0.0  0.0  0.0  0.0  99999.0\n",
            "\n",
            "--------------------------------------------------------------------------------\n",
            "capital_loss\n",
            "          count        mean         std  min  25%  50%  75%     max\n",
            "target                                                             \n",
            "0       22654.0   53.448000  310.270263  0.0  0.0  0.0  0.0  4356.0\n",
            "1        7508.0  193.750666  592.825590  0.0  0.0  0.0  0.0  3683.0\n",
            "\n"
          ]
        }
      ]
    },
    {
      "cell_type": "markdown",
      "source": [
        "#### 433-08 : 범주형 변수 탐색"
      ],
      "metadata": {
        "id": "fiXy6kRvQATk"
      }
    },
    {
      "cell_type": "code",
      "source": [
        "for _col in COL_CAT:\n",
        "  print(train_df.groupby(_col, as_index=False)[COL_Y].mean().sort_values(by=COL_Y, ascending=False), end='\\n\\n')"
      ],
      "metadata": {
        "colab": {
          "base_uri": "https://localhost:8080/"
        },
        "id": "6skJOMKX0UnX",
        "outputId": "48dae58d-4eec-4702-c28c-9d0bec737c41"
      },
      "execution_count": null,
      "outputs": [
        {
          "output_type": "stream",
          "name": "stdout",
          "text": [
            "          workclass    target\n",
            "3      Self-emp-inc  0.558659\n",
            "0       Federal-gov  0.387063\n",
            "1         Local-gov  0.294630\n",
            "4  Self-emp-not-inc  0.285714\n",
            "5         State-gov  0.268960\n",
            "2           Private  0.218792\n",
            "6       Without-pay  0.000000\n",
            "\n",
            "          marital_status    target\n",
            "1      Married-AF-spouse  0.476190\n",
            "2     Married-civ-spouse  0.454959\n",
            "0               Divorced  0.107262\n",
            "6                Widowed  0.096735\n",
            "3  Married-spouse-absent  0.083784\n",
            "5              Separated  0.070288\n",
            "4          Never-married  0.048324\n",
            "\n",
            "           occupation    target\n",
            "3     Exec-managerial  0.485220\n",
            "9      Prof-specialty  0.448489\n",
            "10    Protective-serv  0.326087\n",
            "12       Tech-support  0.304825\n",
            "11              Sales  0.270647\n",
            "2        Craft-repair  0.225310\n",
            "13   Transport-moving  0.202926\n",
            "0        Adm-clerical  0.133835\n",
            "6   Machine-op-inspct  0.124619\n",
            "4     Farming-fishing  0.116279\n",
            "1        Armed-Forces  0.111111\n",
            "5   Handlers-cleaners  0.061481\n",
            "7       Other-service  0.041096\n",
            "8     Priv-house-serv  0.006993\n",
            "\n",
            "     relationship    target\n",
            "5            Wife  0.493599\n",
            "0         Husband  0.455669\n",
            "1   Not-in-family  0.106523\n",
            "4       Unmarried  0.066314\n",
            "2  Other-relative  0.039370\n",
            "3       Own-child  0.014330\n",
            "\n",
            "                 race    target\n",
            "1  Asian-Pac-Islander  0.277095\n",
            "4               White  0.263718\n",
            "2               Black  0.129925\n",
            "0  Amer-Indian-Eskimo  0.118881\n",
            "3               Other  0.090909\n",
            "\n",
            "      sex    target\n",
            "1    Male  0.313837\n",
            "0  Female  0.113678\n",
            "\n",
            "                native_country    target\n",
            "35                      Taiwan  0.452381\n",
            "9                       France  0.444444\n",
            "19                        Iran  0.428571\n",
            "18                       India  0.400000\n",
            "23                       Japan  0.389831\n",
            "0                     Cambodia  0.388889\n",
            "40                  Yugoslavia  0.375000\n",
            "21                       Italy  0.352941\n",
            "8                      England  0.348837\n",
            "10                     Germany  0.343750\n",
            "1                       Canada  0.336449\n",
            "29                 Philippines  0.319149\n",
            "16                        Hong  0.315789\n",
            "2                        China  0.294118\n",
            "11                      Greece  0.275862\n",
            "4                         Cuba  0.271739\n",
            "38               United-States  0.254327\n",
            "17                     Hungary  0.230769\n",
            "20                     Ireland  0.208333\n",
            "34                       South  0.197183\n",
            "30                      Poland  0.196429\n",
            "33                    Scotland  0.181818\n",
            "36                    Thailand  0.176471\n",
            "6                      Ecuador  0.148148\n",
            "22                     Jamaica  0.125000\n",
            "31                    Portugal  0.117647\n",
            "24                        Laos  0.117647\n",
            "37             Trinadad&Tobago  0.111111\n",
            "32                 Puerto-Rico  0.110092\n",
            "13                       Haiti  0.095238\n",
            "7                  El-Salvador  0.090000\n",
            "15                    Honduras  0.083333\n",
            "39                     Vietnam  0.078125\n",
            "28                        Peru  0.066667\n",
            "26                   Nicaragua  0.060606\n",
            "25                      Mexico  0.054098\n",
            "12                   Guatemala  0.047619\n",
            "3                     Columbia  0.035714\n",
            "5           Dominican-Republic  0.029851\n",
            "27  Outlying-US(Guam-USVI-etc)  0.000000\n",
            "14          Holand-Netherlands  0.000000\n",
            "\n",
            "   capital_gain_yn    target\n",
            "1                1  0.628448\n",
            "0                0  0.214053\n",
            "\n",
            "   capital_loss_yn    target\n",
            "1                1  0.516468\n",
            "0                0  0.235636\n",
            "\n"
          ]
        }
      ]
    },
    {
      "cell_type": "markdown",
      "source": [
        "#### 433-09 : 범주형 변수 - 레이블 인코딩"
      ],
      "metadata": {
        "id": "AzqLstFOKzAw"
      }
    },
    {
      "cell_type": "code",
      "source": [
        "from sklearn.preprocessing import LabelEncoder\n",
        "\n",
        "for _col in COL_CAT:\n",
        "  le = LabelEncoder()\n",
        "  le.fit(X_train[_col])\n",
        "  X_train[_col] = le.transform(X_train[_col])\n",
        "  X_test[_col] = le.transform(X_test[_col])"
      ],
      "metadata": {
        "id": "svfXl8XNAYPg"
      },
      "execution_count": null,
      "outputs": []
    },
    {
      "cell_type": "markdown",
      "source": [
        "### (4) 데이터 모형 구축"
      ],
      "metadata": {
        "id": "6vbSCGOaQXGq"
      }
    },
    {
      "cell_type": "markdown",
      "source": [
        "#### 434-01 : 훈련데이터 분할"
      ],
      "metadata": {
        "id": "WqUcxFQxQatq"
      }
    },
    {
      "cell_type": "code",
      "source": [
        "##### 훈련데이터 분할\n",
        "# y의 클래스 비율에 맞게 분할 stratify\n",
        "\n",
        "from sklearn.model_selection import train_test_split\n",
        "X_tr, X_val, y_tr, y_val = train_test_split(X_train, y_train, test_size=0.3, stratify=y_train)"
      ],
      "metadata": {
        "id": "WiTFm-5IRr9_"
      },
      "execution_count": null,
      "outputs": []
    },
    {
      "cell_type": "markdown",
      "source": [
        "#### 434-02 : 수치형 변수 - 데이터 스케일링"
      ],
      "metadata": {
        "id": "367nKlK2ZC2X"
      }
    },
    {
      "cell_type": "code",
      "source": [
        "from sklearn.preprocessing import StandardScaler\n",
        "\n",
        "scaler = StandardScaler()\n",
        "X_tr[COL_NUM] = scaler.fit_transform(X_tr[COL_NUM])\n",
        "X_val[COL_NUM] = scaler.transform(X_val[COL_NUM])\n",
        "X_test[COL_NUM] = scaler.transform(X_test[COL_NUM])"
      ],
      "metadata": {
        "id": "6gXA-QkDlXzo"
      },
      "execution_count": null,
      "outputs": []
    },
    {
      "cell_type": "markdown",
      "source": [
        "#### 434-03 : 랜덤포레스트 학습"
      ],
      "metadata": {
        "id": "w0gA7zXUawav"
      }
    },
    {
      "cell_type": "code",
      "source": [
        "from sklearn.ensemble import RandomForestClassifier\n",
        "\n",
        "model_rf = RandomForestClassifier()\n",
        "model_rf.fit(X_tr, y_tr.values.ravel())"
      ],
      "metadata": {
        "colab": {
          "base_uri": "https://localhost:8080/"
        },
        "id": "FjKqP-bQkjZg",
        "outputId": "622e0d47-5eae-450d-ad46-f4c16e997135"
      },
      "execution_count": null,
      "outputs": [
        {
          "output_type": "execute_result",
          "data": {
            "text/plain": [
              "RandomForestClassifier()"
            ]
          },
          "metadata": {},
          "execution_count": 125
        }
      ]
    },
    {
      "cell_type": "markdown",
      "source": [
        "#### 434-04 : XGBoost 학습 1"
      ],
      "metadata": {
        "id": "fLeeC1EzbUsy"
      }
    },
    {
      "cell_type": "code",
      "source": [
        "from xgboost import XGBClassifier\n",
        "\n",
        "model_xgb1 = XGBClassifier()\n",
        "model_xgb1.fit(X_tr, y_tr.values.ravel())"
      ],
      "metadata": {
        "colab": {
          "base_uri": "https://localhost:8080/"
        },
        "id": "R5VQSNsgbbDP",
        "outputId": "44142d24-3530-4b9d-fe00-841466e514d2"
      },
      "execution_count": null,
      "outputs": [
        {
          "output_type": "execute_result",
          "data": {
            "text/plain": [
              "XGBClassifier()"
            ]
          },
          "metadata": {},
          "execution_count": 126
        }
      ]
    },
    {
      "cell_type": "markdown",
      "source": [
        "#### 434-05 : XGBoost 학습 2"
      ],
      "metadata": {
        "id": "V3W5QLjua3HH"
      }
    },
    {
      "cell_type": "code",
      "source": [
        "model_xgb2 = XGBClassifier(n_estimators=1000, learning_rate=0.1, max_depth=10)\n",
        "model_xgb2.fit(X_tr, y_tr.values.ravel(), early_stopping_rounds=50, eval_metric='auc', eval_set=[(X_val, y_val)], verbose=10)"
      ],
      "metadata": {
        "colab": {
          "base_uri": "https://localhost:8080/"
        },
        "id": "GCapKaDYCBM3",
        "outputId": "d753e042-1979-47ef-ef1f-b2104f632ff9"
      },
      "execution_count": null,
      "outputs": [
        {
          "output_type": "stream",
          "name": "stdout",
          "text": [
            "[0]\tvalidation_0-auc:0.905394\n",
            "Will train until validation_0-auc hasn't improved in 50 rounds.\n"
          ]
        },
        {
          "output_type": "stream",
          "name": "stderr",
          "text": [
            "/usr/local/lib/python3.7/dist-packages/sklearn/preprocessing/_label.py:133: DataConversionWarning: A column-vector y was passed when a 1d array was expected. Please change the shape of y to (n_samples, ), for example using ravel().\n",
            "  y = column_or_1d(y, warn=True)\n"
          ]
        },
        {
          "output_type": "stream",
          "name": "stdout",
          "text": [
            "[10]\tvalidation_0-auc:0.911091\n",
            "[20]\tvalidation_0-auc:0.915016\n",
            "[30]\tvalidation_0-auc:0.918917\n",
            "[40]\tvalidation_0-auc:0.920678\n",
            "[50]\tvalidation_0-auc:0.921773\n",
            "[60]\tvalidation_0-auc:0.923079\n",
            "[70]\tvalidation_0-auc:0.923802\n",
            "[80]\tvalidation_0-auc:0.92431\n",
            "[90]\tvalidation_0-auc:0.924592\n",
            "[100]\tvalidation_0-auc:0.924642\n",
            "[110]\tvalidation_0-auc:0.924601\n",
            "[120]\tvalidation_0-auc:0.924593\n",
            "[130]\tvalidation_0-auc:0.924569\n",
            "[140]\tvalidation_0-auc:0.924022\n",
            "Stopping. Best iteration:\n",
            "[97]\tvalidation_0-auc:0.924886\n",
            "\n"
          ]
        },
        {
          "output_type": "execute_result",
          "data": {
            "text/plain": [
              "XGBClassifier(max_depth=10, n_estimators=1000)"
            ]
          },
          "metadata": {},
          "execution_count": 75
        }
      ]
    },
    {
      "cell_type": "markdown",
      "source": [
        "#### 434-06 : 모델 성능 확인"
      ],
      "metadata": {
        "id": "aoLLSAlnbHJy"
      }
    },
    {
      "cell_type": "code",
      "source": [
        "from sklearn.metrics import roc_auc_score\n",
        "\n",
        "y_pred_rf = model_rf.predict_proba(X_val)\n",
        "y_pred_xgb1 = model_xgb1.predict_proba(X_val)\n",
        "\n",
        "score_rf = roc_auc_score(y_val, y_pred_rf[:, 1])\n",
        "score_xgb1 = roc_auc_score(y_val, y_pred_xgb1[:, 1]) \n",
        "\n",
        "print(score_rf)\n",
        "print(score_xgb1)"
      ],
      "metadata": {
        "colab": {
          "base_uri": "https://localhost:8080/"
        },
        "id": "TTw529SQDPTY",
        "outputId": "d831421f-a50a-45ed-c21c-f1d79e631eeb"
      },
      "execution_count": null,
      "outputs": [
        {
          "output_type": "stream",
          "name": "stdout",
          "text": [
            "0.8909197415221585\n",
            "0.9182365417717722\n"
          ]
        }
      ]
    },
    {
      "cell_type": "markdown",
      "source": [
        "#### 434-07 : 변수 중요도 확인"
      ],
      "metadata": {
        "id": "Pl3O4jIIlMYy"
      }
    },
    {
      "cell_type": "code",
      "source": [
        "pd.DataFrame({'feature': X_tr.columns, 'fi_rf': model_rf.feature_importances_, 'fi_xgb': model_xgb1.feature_importances_})"
      ],
      "metadata": {
        "colab": {
          "base_uri": "https://localhost:8080/",
          "height": 488
        },
        "id": "2iS-EtoOClfP",
        "outputId": "736c0058-17eb-435d-cbc3-923b7596a95b"
      },
      "execution_count": null,
      "outputs": [
        {
          "output_type": "execute_result",
          "data": {
            "text/html": [
              "\n",
              "  <div id=\"df-b148f8e9-b0a0-4fca-b3d6-0034cfee20bc\">\n",
              "    <div class=\"colab-df-container\">\n",
              "      <div>\n",
              "<style scoped>\n",
              "    .dataframe tbody tr th:only-of-type {\n",
              "        vertical-align: middle;\n",
              "    }\n",
              "\n",
              "    .dataframe tbody tr th {\n",
              "        vertical-align: top;\n",
              "    }\n",
              "\n",
              "    .dataframe thead th {\n",
              "        text-align: right;\n",
              "    }\n",
              "</style>\n",
              "<table border=\"1\" class=\"dataframe\">\n",
              "  <thead>\n",
              "    <tr style=\"text-align: right;\">\n",
              "      <th></th>\n",
              "      <th>feature</th>\n",
              "      <th>fi_rf</th>\n",
              "      <th>fi_xgb</th>\n",
              "    </tr>\n",
              "  </thead>\n",
              "  <tbody>\n",
              "    <tr>\n",
              "      <th>0</th>\n",
              "      <td>age</td>\n",
              "      <td>0.221153</td>\n",
              "      <td>0.066392</td>\n",
              "    </tr>\n",
              "    <tr>\n",
              "      <th>1</th>\n",
              "      <td>workclass</td>\n",
              "      <td>0.051042</td>\n",
              "      <td>0.015482</td>\n",
              "    </tr>\n",
              "    <tr>\n",
              "      <th>2</th>\n",
              "      <td>education_num</td>\n",
              "      <td>0.138100</td>\n",
              "      <td>0.145672</td>\n",
              "    </tr>\n",
              "    <tr>\n",
              "      <th>3</th>\n",
              "      <td>marital_status</td>\n",
              "      <td>0.064809</td>\n",
              "      <td>0.148654</td>\n",
              "    </tr>\n",
              "    <tr>\n",
              "      <th>4</th>\n",
              "      <td>occupation</td>\n",
              "      <td>0.089302</td>\n",
              "      <td>0.045329</td>\n",
              "    </tr>\n",
              "    <tr>\n",
              "      <th>5</th>\n",
              "      <td>relationship</td>\n",
              "      <td>0.122120</td>\n",
              "      <td>0.333530</td>\n",
              "    </tr>\n",
              "    <tr>\n",
              "      <th>6</th>\n",
              "      <td>race</td>\n",
              "      <td>0.017113</td>\n",
              "      <td>0.010633</td>\n",
              "    </tr>\n",
              "    <tr>\n",
              "      <th>7</th>\n",
              "      <td>sex</td>\n",
              "      <td>0.011459</td>\n",
              "      <td>0.032497</td>\n",
              "    </tr>\n",
              "    <tr>\n",
              "      <th>8</th>\n",
              "      <td>capital_gain</td>\n",
              "      <td>0.100674</td>\n",
              "      <td>0.108042</td>\n",
              "    </tr>\n",
              "    <tr>\n",
              "      <th>9</th>\n",
              "      <td>capital_loss</td>\n",
              "      <td>0.028455</td>\n",
              "      <td>0.040944</td>\n",
              "    </tr>\n",
              "    <tr>\n",
              "      <th>10</th>\n",
              "      <td>hours_per_week</td>\n",
              "      <td>0.107381</td>\n",
              "      <td>0.047308</td>\n",
              "    </tr>\n",
              "    <tr>\n",
              "      <th>11</th>\n",
              "      <td>native_country</td>\n",
              "      <td>0.019377</td>\n",
              "      <td>0.005517</td>\n",
              "    </tr>\n",
              "    <tr>\n",
              "      <th>12</th>\n",
              "      <td>capital_gain_yn</td>\n",
              "      <td>0.021159</td>\n",
              "      <td>0.000000</td>\n",
              "    </tr>\n",
              "    <tr>\n",
              "      <th>13</th>\n",
              "      <td>capital_loss_yn</td>\n",
              "      <td>0.007856</td>\n",
              "      <td>0.000000</td>\n",
              "    </tr>\n",
              "  </tbody>\n",
              "</table>\n",
              "</div>\n",
              "      <button class=\"colab-df-convert\" onclick=\"convertToInteractive('df-b148f8e9-b0a0-4fca-b3d6-0034cfee20bc')\"\n",
              "              title=\"Convert this dataframe to an interactive table.\"\n",
              "              style=\"display:none;\">\n",
              "        \n",
              "  <svg xmlns=\"http://www.w3.org/2000/svg\" height=\"24px\"viewBox=\"0 0 24 24\"\n",
              "       width=\"24px\">\n",
              "    <path d=\"M0 0h24v24H0V0z\" fill=\"none\"/>\n",
              "    <path d=\"M18.56 5.44l.94 2.06.94-2.06 2.06-.94-2.06-.94-.94-2.06-.94 2.06-2.06.94zm-11 1L8.5 8.5l.94-2.06 2.06-.94-2.06-.94L8.5 2.5l-.94 2.06-2.06.94zm10 10l.94 2.06.94-2.06 2.06-.94-2.06-.94-.94-2.06-.94 2.06-2.06.94z\"/><path d=\"M17.41 7.96l-1.37-1.37c-.4-.4-.92-.59-1.43-.59-.52 0-1.04.2-1.43.59L10.3 9.45l-7.72 7.72c-.78.78-.78 2.05 0 2.83L4 21.41c.39.39.9.59 1.41.59.51 0 1.02-.2 1.41-.59l7.78-7.78 2.81-2.81c.8-.78.8-2.07 0-2.86zM5.41 20L4 18.59l7.72-7.72 1.47 1.35L5.41 20z\"/>\n",
              "  </svg>\n",
              "      </button>\n",
              "      \n",
              "  <style>\n",
              "    .colab-df-container {\n",
              "      display:flex;\n",
              "      flex-wrap:wrap;\n",
              "      gap: 12px;\n",
              "    }\n",
              "\n",
              "    .colab-df-convert {\n",
              "      background-color: #E8F0FE;\n",
              "      border: none;\n",
              "      border-radius: 50%;\n",
              "      cursor: pointer;\n",
              "      display: none;\n",
              "      fill: #1967D2;\n",
              "      height: 32px;\n",
              "      padding: 0 0 0 0;\n",
              "      width: 32px;\n",
              "    }\n",
              "\n",
              "    .colab-df-convert:hover {\n",
              "      background-color: #E2EBFA;\n",
              "      box-shadow: 0px 1px 2px rgba(60, 64, 67, 0.3), 0px 1px 3px 1px rgba(60, 64, 67, 0.15);\n",
              "      fill: #174EA6;\n",
              "    }\n",
              "\n",
              "    [theme=dark] .colab-df-convert {\n",
              "      background-color: #3B4455;\n",
              "      fill: #D2E3FC;\n",
              "    }\n",
              "\n",
              "    [theme=dark] .colab-df-convert:hover {\n",
              "      background-color: #434B5C;\n",
              "      box-shadow: 0px 1px 3px 1px rgba(0, 0, 0, 0.15);\n",
              "      filter: drop-shadow(0px 1px 2px rgba(0, 0, 0, 0.3));\n",
              "      fill: #FFFFFF;\n",
              "    }\n",
              "  </style>\n",
              "\n",
              "      <script>\n",
              "        const buttonEl =\n",
              "          document.querySelector('#df-b148f8e9-b0a0-4fca-b3d6-0034cfee20bc button.colab-df-convert');\n",
              "        buttonEl.style.display =\n",
              "          google.colab.kernel.accessAllowed ? 'block' : 'none';\n",
              "\n",
              "        async function convertToInteractive(key) {\n",
              "          const element = document.querySelector('#df-b148f8e9-b0a0-4fca-b3d6-0034cfee20bc');\n",
              "          const dataTable =\n",
              "            await google.colab.kernel.invokeFunction('convertToInteractive',\n",
              "                                                     [key], {});\n",
              "          if (!dataTable) return;\n",
              "\n",
              "          const docLinkHtml = 'Like what you see? Visit the ' +\n",
              "            '<a target=\"_blank\" href=https://colab.research.google.com/notebooks/data_table.ipynb>data table notebook</a>'\n",
              "            + ' to learn more about interactive tables.';\n",
              "          element.innerHTML = '';\n",
              "          dataTable['output_type'] = 'display_data';\n",
              "          await google.colab.output.renderOutput(dataTable, element);\n",
              "          const docLink = document.createElement('div');\n",
              "          docLink.innerHTML = docLinkHtml;\n",
              "          element.appendChild(docLink);\n",
              "        }\n",
              "      </script>\n",
              "    </div>\n",
              "  </div>\n",
              "  "
            ],
            "text/plain": [
              "            feature     fi_rf    fi_xgb\n",
              "0               age  0.221153  0.066392\n",
              "1         workclass  0.051042  0.015482\n",
              "2     education_num  0.138100  0.145672\n",
              "3    marital_status  0.064809  0.148654\n",
              "4        occupation  0.089302  0.045329\n",
              "5      relationship  0.122120  0.333530\n",
              "6              race  0.017113  0.010633\n",
              "7               sex  0.011459  0.032497\n",
              "8      capital_gain  0.100674  0.108042\n",
              "9      capital_loss  0.028455  0.040944\n",
              "10   hours_per_week  0.107381  0.047308\n",
              "11   native_country  0.019377  0.005517\n",
              "12  capital_gain_yn  0.021159  0.000000\n",
              "13  capital_loss_yn  0.007856  0.000000"
            ]
          },
          "metadata": {},
          "execution_count": 128
        }
      ]
    },
    {
      "cell_type": "markdown",
      "source": [
        "#### 434-08 : 변수 제거"
      ],
      "metadata": {
        "id": "uv4xCzXlnEbh"
      }
    },
    {
      "cell_type": "code",
      "source": [
        "COL_DEL = ['capital_gain_yn', 'capital_loss_yn']\n",
        "\n",
        "X_tr = X_tr.drop(COL_DEL, axis=1)\n",
        "X_val = X_val.drop(COL_DEL, axis=1)\n",
        "X_test = X_test.drop(COL_DEL, axis=1)"
      ],
      "metadata": {
        "id": "R7_qJIk7lyd1"
      },
      "execution_count": null,
      "outputs": []
    },
    {
      "cell_type": "markdown",
      "source": [
        "#### 434-09 : 랜덤 포레스트 하이퍼파라미터 튜닝"
      ],
      "metadata": {
        "id": "effb1pGjncyb"
      }
    },
    {
      "cell_type": "code",
      "source": [
        "from sklearn.model_selection import GridSearchCV\n",
        "\n",
        "grid_params = { \n",
        "    'n_estimators': [50, 100, 200],\n",
        "    'max_depth': [5, 10, 15],\n",
        "    'min_samples_split': [2, 5, 10],\n",
        "    'min_samples_leaf': [1, 2, 4]\n",
        "}\n",
        "\n",
        "rf_cv = GridSearchCV(estimator=model_rf, param_grid=grid_params, cv=5)\n",
        "rf_cv.fit(X_train, y_train.values.ravel()) "
      ],
      "metadata": {
        "colab": {
          "base_uri": "https://localhost:8080/"
        },
        "id": "KOnP9cBkEPAV",
        "outputId": "9cff3c2f-d730-4ce2-efef-a009cbc26370"
      },
      "execution_count": null,
      "outputs": [
        {
          "output_type": "execute_result",
          "data": {
            "text/plain": [
              "GridSearchCV(cv=5, estimator=RandomForestClassifier(),\n",
              "             param_grid={'max_depth': [5, 10, 15],\n",
              "                         'min_samples_leaf': [1, 2, 4],\n",
              "                         'min_samples_split': [2, 5, 10],\n",
              "                         'n_estimators': [50, 100, 200]})"
            ]
          },
          "metadata": {},
          "execution_count": 130
        }
      ]
    },
    {
      "cell_type": "markdown",
      "source": [
        "#### 434-10 : CV 결과 확인 1"
      ],
      "metadata": {
        "id": "lczD1U8FnwFB"
      }
    },
    {
      "cell_type": "code",
      "source": [
        "print(pd.DataFrame(rf_cv.cv_results_).head())"
      ],
      "metadata": {
        "colab": {
          "base_uri": "https://localhost:8080/"
        },
        "id": "cI-AOjQFKEKa",
        "outputId": "b18d6881-028d-4c4a-8d60-9850443b109c"
      },
      "execution_count": null,
      "outputs": [
        {
          "output_type": "stream",
          "name": "stdout",
          "text": [
            "   mean_fit_time  std_fit_time  mean_score_time  std_score_time  \\\n",
            "0       0.341199      0.007376         0.029468        0.001474   \n",
            "1       0.680139      0.012316         0.057113        0.001736   \n",
            "2       1.339999      0.014353         0.105718        0.002818   \n",
            "3       0.337498      0.004352         0.030323        0.001950   \n",
            "4       0.675741      0.012524         0.055056        0.001428   \n",
            "\n",
            "  param_max_depth param_min_samples_leaf param_min_samples_split  \\\n",
            "0               5                      1                       2   \n",
            "1               5                      1                       2   \n",
            "2               5                      1                       2   \n",
            "3               5                      1                       5   \n",
            "4               5                      1                       5   \n",
            "\n",
            "  param_n_estimators                                             params  \\\n",
            "0                 50  {'max_depth': 5, 'min_samples_leaf': 1, 'min_s...   \n",
            "1                100  {'max_depth': 5, 'min_samples_leaf': 1, 'min_s...   \n",
            "2                200  {'max_depth': 5, 'min_samples_leaf': 1, 'min_s...   \n",
            "3                 50  {'max_depth': 5, 'min_samples_leaf': 1, 'min_s...   \n",
            "4                100  {'max_depth': 5, 'min_samples_leaf': 1, 'min_s...   \n",
            "\n",
            "   split0_test_score  split1_test_score  split2_test_score  split3_test_score  \\\n",
            "0           0.839881           0.842698           0.849304           0.847480   \n",
            "1           0.840378           0.843859           0.849469           0.847646   \n",
            "2           0.839218           0.843196           0.851293           0.848641   \n",
            "3           0.838720           0.843362           0.849967           0.847314   \n",
            "4           0.839052           0.844190           0.849469           0.847314   \n",
            "\n",
            "   split4_test_score  mean_test_score  std_test_score  rank_test_score  \n",
            "0           0.849138         0.845700        0.003764               72  \n",
            "1           0.849138         0.846098        0.003485               61  \n",
            "2           0.847812         0.846032        0.004293               62  \n",
            "3           0.850298         0.845932        0.004379               64  \n",
            "4           0.848143         0.845634        0.003721               75  \n"
          ]
        }
      ]
    },
    {
      "cell_type": "markdown",
      "source": [
        "#### 434-11 : CV 결과 확인 2"
      ],
      "metadata": {
        "id": "-oQ0rQLYoAN6"
      }
    },
    {
      "cell_type": "code",
      "source": [
        "rf_cv.best_params_"
      ],
      "metadata": {
        "colab": {
          "base_uri": "https://localhost:8080/"
        },
        "id": "a2fdcIY-SgkB",
        "outputId": "4f103137-9f2e-4d11-91c6-bd3436d40b07"
      },
      "execution_count": null,
      "outputs": [
        {
          "output_type": "execute_result",
          "data": {
            "text/plain": [
              "{'max_depth': 15,\n",
              " 'min_samples_leaf': 1,\n",
              " 'min_samples_split': 5,\n",
              " 'n_estimators': 50}"
            ]
          },
          "metadata": {},
          "execution_count": 132
        }
      ]
    },
    {
      "cell_type": "markdown",
      "source": [
        "#### 434-12 : 랜덤포레스트 학습 및 결과 확인 "
      ],
      "metadata": {
        "id": "rusEIrBkoH09"
      }
    },
    {
      "cell_type": "code",
      "source": [
        "model_rf2 = RandomForestClassifier(n_estimators=50\n",
        "                                   , max_depth=15\n",
        "                                   , min_samples_leaf=1\n",
        "                                   , min_samples_split=5)\n",
        "model_rf2.fit(X_tr, y_tr.values.ravel())\n",
        "\n",
        "y_pred_rf2 = model_rf2.predict_proba(X_val)\n",
        "score_rf2 = roc_auc_score(y_val, y_pred_rf2[:, 1])\n",
        "print(score_rf2)"
      ],
      "metadata": {
        "colab": {
          "base_uri": "https://localhost:8080/"
        },
        "id": "wbLhmq3UU3_L",
        "outputId": "e24235f0-d23c-45e0-c469-e87f916fd120"
      },
      "execution_count": null,
      "outputs": [
        {
          "output_type": "stream",
          "name": "stdout",
          "text": [
            "0.9152708749105954\n"
          ]
        }
      ]
    },
    {
      "cell_type": "markdown",
      "source": [
        "#### 434-13 : XGBoost 하이퍼파라미터 튜닝"
      ],
      "metadata": {
        "id": "9x64R_RprDm8"
      }
    },
    {
      "cell_type": "code",
      "source": [
        "grid_params = {'max_depth': [3, 5, 7, 10], \n",
        "               'min_child_weight': [1, 2], \n",
        "               'colsample_bytree': [0.6, 0.8],\n",
        "               'subsample': [0.6, 0.8]}\n",
        "\n",
        "xgb_cv = GridSearchCV(estimator=model_xgb1, param_grid=grid_params, cv=5)\n",
        "xgb_cv.fit(X_tr, y_tr.values.ravel())"
      ],
      "metadata": {
        "id": "M9HBnmRSR7vz",
        "colab": {
          "base_uri": "https://localhost:8080/"
        },
        "outputId": "05760a18-7709-47e3-a2e8-7ec45707188e"
      },
      "execution_count": null,
      "outputs": [
        {
          "output_type": "execute_result",
          "data": {
            "text/plain": [
              "GridSearchCV(cv=5, estimator=XGBClassifier(),\n",
              "             param_grid={'colsample_bytree': [0.6, 0.8],\n",
              "                         'max_depth': [3, 5, 7, 10], 'min_child_weight': [1, 2],\n",
              "                         'subsample': [0.6, 0.8]})"
            ]
          },
          "metadata": {},
          "execution_count": 134
        }
      ]
    },
    {
      "cell_type": "markdown",
      "source": [
        "#### 434-14 : CV 결과 확인 3"
      ],
      "metadata": {
        "id": "7RWmy0h9rJmx"
      }
    },
    {
      "cell_type": "code",
      "source": [
        "xgb_cv.best_params_"
      ],
      "metadata": {
        "colab": {
          "base_uri": "https://localhost:8080/"
        },
        "id": "bgr55h1LYPHQ",
        "outputId": "34dc1a09-e328-43d3-9ca7-ac9cc4337dcf"
      },
      "execution_count": null,
      "outputs": [
        {
          "output_type": "execute_result",
          "data": {
            "text/plain": [
              "{'colsample_bytree': 0.6,\n",
              " 'max_depth': 7,\n",
              " 'min_child_weight': 1,\n",
              " 'subsample': 0.8}"
            ]
          },
          "metadata": {},
          "execution_count": 135
        }
      ]
    },
    {
      "cell_type": "markdown",
      "source": [
        "#### 434-15 : XGBoost 학습 및 결과 확인"
      ],
      "metadata": {
        "id": "XSu_EWDarYqS"
      }
    },
    {
      "cell_type": "code",
      "source": [
        "params = {'colsample_bytree': 0.6,\n",
        "          'max_depth': 7,\n",
        "          'min_child_weight': 1,\n",
        "          'subsample': 0.8}\n",
        "\n",
        "model_xgb3 = XGBClassifier(n_estimators=1000, learning_rate=0.05)\n",
        "model_xgb3.set_params(**params)\n",
        "\n",
        "model_xgb3.fit(X_tr, y_tr, early_stopping_rounds=50, eval_metric='auc', eval_set=[(X_val, y_val)], verbose=10)\n",
        "\n",
        "print(model_xgb3.best_score)"
      ],
      "metadata": {
        "colab": {
          "base_uri": "https://localhost:8080/"
        },
        "id": "OqmjPUDFY4YQ",
        "outputId": "4bb77c8e-a885-4c34-96d0-4f0b7eebb61a"
      },
      "execution_count": null,
      "outputs": [
        {
          "output_type": "stream",
          "name": "stdout",
          "text": [
            "[0]\tvalidation_0-auc:0.865221\n",
            "Will train until validation_0-auc hasn't improved in 50 rounds.\n"
          ]
        },
        {
          "output_type": "stream",
          "name": "stderr",
          "text": [
            "/usr/local/lib/python3.7/dist-packages/sklearn/preprocessing/_label.py:98: DataConversionWarning: A column-vector y was passed when a 1d array was expected. Please change the shape of y to (n_samples, ), for example using ravel().\n",
            "  y = column_or_1d(y, warn=True)\n",
            "/usr/local/lib/python3.7/dist-packages/sklearn/preprocessing/_label.py:133: DataConversionWarning: A column-vector y was passed when a 1d array was expected. Please change the shape of y to (n_samples, ), for example using ravel().\n",
            "  y = column_or_1d(y, warn=True)\n"
          ]
        },
        {
          "output_type": "stream",
          "name": "stdout",
          "text": [
            "[10]\tvalidation_0-auc:0.910082\n",
            "[20]\tvalidation_0-auc:0.913779\n",
            "[30]\tvalidation_0-auc:0.915745\n",
            "[40]\tvalidation_0-auc:0.917288\n",
            "[50]\tvalidation_0-auc:0.918281\n",
            "[60]\tvalidation_0-auc:0.919243\n",
            "[70]\tvalidation_0-auc:0.920479\n",
            "[80]\tvalidation_0-auc:0.921141\n",
            "[90]\tvalidation_0-auc:0.922188\n",
            "[100]\tvalidation_0-auc:0.922643\n",
            "[110]\tvalidation_0-auc:0.923314\n",
            "[120]\tvalidation_0-auc:0.923896\n",
            "[130]\tvalidation_0-auc:0.92446\n",
            "[140]\tvalidation_0-auc:0.924846\n",
            "[150]\tvalidation_0-auc:0.925091\n",
            "[160]\tvalidation_0-auc:0.925308\n",
            "[170]\tvalidation_0-auc:0.925587\n",
            "[180]\tvalidation_0-auc:0.925721\n",
            "[190]\tvalidation_0-auc:0.92588\n",
            "[200]\tvalidation_0-auc:0.925881\n",
            "[210]\tvalidation_0-auc:0.925939\n",
            "[220]\tvalidation_0-auc:0.925968\n",
            "[230]\tvalidation_0-auc:0.926082\n",
            "[240]\tvalidation_0-auc:0.926158\n",
            "[250]\tvalidation_0-auc:0.926232\n",
            "[260]\tvalidation_0-auc:0.92607\n",
            "[270]\tvalidation_0-auc:0.926089\n",
            "[280]\tvalidation_0-auc:0.925998\n",
            "[290]\tvalidation_0-auc:0.925813\n",
            "[300]\tvalidation_0-auc:0.925793\n",
            "Stopping. Best iteration:\n",
            "[251]\tvalidation_0-auc:0.926244\n",
            "\n",
            "0.926244\n"
          ]
        }
      ]
    },
    {
      "cell_type": "markdown",
      "source": [
        "#### 434-16 : 결과 제출"
      ],
      "metadata": {
        "id": "PeTudFI8rg7B"
      }
    },
    {
      "cell_type": "code",
      "source": [
        "pred = model_xgb3.predict_proba(X_test)[:,1]\n",
        "pd.DataFrame({'index': X_test.index, 'target': pred}).to_csv('003000000.csv', index=False)"
      ],
      "metadata": {
        "id": "BENtk8cUeE-i"
      },
      "execution_count": null,
      "outputs": []
    }
  ]
}