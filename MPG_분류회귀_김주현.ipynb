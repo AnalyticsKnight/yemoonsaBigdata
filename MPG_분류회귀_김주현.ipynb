{
  "nbformat": 4,
  "nbformat_minor": 0,
  "metadata": {
    "colab": {
      "name": "MPG 분류, 회귀.ipynb",
      "provenance": [],
      "collapsed_sections": [],
      "authorship_tag": "ABX9TyP5rBsVv+mLcCxkCvZFj2x2",
      "include_colab_link": true
    },
    "kernelspec": {
      "name": "python3",
      "display_name": "Python 3"
    },
    "language_info": {
      "name": "python"
    }
  },
  "cells": [
    {
      "cell_type": "markdown",
      "metadata": {
        "id": "view-in-github",
        "colab_type": "text"
      },
      "source": [
        "<a href=\"https://colab.research.google.com/github/AnalyticsKnight/yemoonsaBigdata/blob/dev/MPG_%EB%B6%84%EB%A5%98%ED%9A%8C%EA%B7%80_%EA%B9%80%EC%A3%BC%ED%98%84.ipynb\" target=\"_parent\"><img src=\"https://colab.research.google.com/assets/colab-badge.svg\" alt=\"Open In Colab\"/></a>"
      ]
    },
    {
      "cell_type": "markdown",
      "source": [
        "### mtcars: Motor Trend Car Road Tests\n",
        "- https://raw.githubusercontent.com/mwaskom/seaborn-data/master/mpg.csv"
      ],
      "metadata": {
        "id": "6133mB54-c5l"
      }
    },
    {
      "cell_type": "code",
      "execution_count": 31,
      "metadata": {
        "id": "OKHJXjwU492V",
        "colab": {
          "base_uri": "https://localhost:8080/",
          "height": 206
        },
        "outputId": "90493fe8-85aa-40e7-9322-f13322ba4a49"
      },
      "outputs": [
        {
          "output_type": "execute_result",
          "data": {
            "text/html": [
              "\n",
              "  <div id=\"df-96a83c6b-d9eb-49ec-9763-dbd43dd404d7\">\n",
              "    <div class=\"colab-df-container\">\n",
              "      <div>\n",
              "<style scoped>\n",
              "    .dataframe tbody tr th:only-of-type {\n",
              "        vertical-align: middle;\n",
              "    }\n",
              "\n",
              "    .dataframe tbody tr th {\n",
              "        vertical-align: top;\n",
              "    }\n",
              "\n",
              "    .dataframe thead th {\n",
              "        text-align: right;\n",
              "    }\n",
              "</style>\n",
              "<table border=\"1\" class=\"dataframe\">\n",
              "  <thead>\n",
              "    <tr style=\"text-align: right;\">\n",
              "      <th></th>\n",
              "      <th>mpg</th>\n",
              "      <th>cylinders</th>\n",
              "      <th>displacement</th>\n",
              "      <th>horsepower</th>\n",
              "      <th>weight</th>\n",
              "      <th>acceleration</th>\n",
              "      <th>model_year</th>\n",
              "      <th>origin</th>\n",
              "      <th>name</th>\n",
              "    </tr>\n",
              "  </thead>\n",
              "  <tbody>\n",
              "    <tr>\n",
              "      <th>0</th>\n",
              "      <td>18.0</td>\n",
              "      <td>8</td>\n",
              "      <td>307.0</td>\n",
              "      <td>130.0</td>\n",
              "      <td>3504</td>\n",
              "      <td>12.0</td>\n",
              "      <td>70</td>\n",
              "      <td>usa</td>\n",
              "      <td>chevrolet chevelle malibu</td>\n",
              "    </tr>\n",
              "    <tr>\n",
              "      <th>1</th>\n",
              "      <td>15.0</td>\n",
              "      <td>8</td>\n",
              "      <td>350.0</td>\n",
              "      <td>165.0</td>\n",
              "      <td>3693</td>\n",
              "      <td>11.5</td>\n",
              "      <td>70</td>\n",
              "      <td>usa</td>\n",
              "      <td>buick skylark 320</td>\n",
              "    </tr>\n",
              "    <tr>\n",
              "      <th>2</th>\n",
              "      <td>18.0</td>\n",
              "      <td>8</td>\n",
              "      <td>318.0</td>\n",
              "      <td>150.0</td>\n",
              "      <td>3436</td>\n",
              "      <td>11.0</td>\n",
              "      <td>70</td>\n",
              "      <td>usa</td>\n",
              "      <td>plymouth satellite</td>\n",
              "    </tr>\n",
              "    <tr>\n",
              "      <th>3</th>\n",
              "      <td>16.0</td>\n",
              "      <td>8</td>\n",
              "      <td>304.0</td>\n",
              "      <td>150.0</td>\n",
              "      <td>3433</td>\n",
              "      <td>12.0</td>\n",
              "      <td>70</td>\n",
              "      <td>usa</td>\n",
              "      <td>amc rebel sst</td>\n",
              "    </tr>\n",
              "    <tr>\n",
              "      <th>4</th>\n",
              "      <td>17.0</td>\n",
              "      <td>8</td>\n",
              "      <td>302.0</td>\n",
              "      <td>140.0</td>\n",
              "      <td>3449</td>\n",
              "      <td>10.5</td>\n",
              "      <td>70</td>\n",
              "      <td>usa</td>\n",
              "      <td>ford torino</td>\n",
              "    </tr>\n",
              "  </tbody>\n",
              "</table>\n",
              "</div>\n",
              "      <button class=\"colab-df-convert\" onclick=\"convertToInteractive('df-96a83c6b-d9eb-49ec-9763-dbd43dd404d7')\"\n",
              "              title=\"Convert this dataframe to an interactive table.\"\n",
              "              style=\"display:none;\">\n",
              "        \n",
              "  <svg xmlns=\"http://www.w3.org/2000/svg\" height=\"24px\"viewBox=\"0 0 24 24\"\n",
              "       width=\"24px\">\n",
              "    <path d=\"M0 0h24v24H0V0z\" fill=\"none\"/>\n",
              "    <path d=\"M18.56 5.44l.94 2.06.94-2.06 2.06-.94-2.06-.94-.94-2.06-.94 2.06-2.06.94zm-11 1L8.5 8.5l.94-2.06 2.06-.94-2.06-.94L8.5 2.5l-.94 2.06-2.06.94zm10 10l.94 2.06.94-2.06 2.06-.94-2.06-.94-.94-2.06-.94 2.06-2.06.94z\"/><path d=\"M17.41 7.96l-1.37-1.37c-.4-.4-.92-.59-1.43-.59-.52 0-1.04.2-1.43.59L10.3 9.45l-7.72 7.72c-.78.78-.78 2.05 0 2.83L4 21.41c.39.39.9.59 1.41.59.51 0 1.02-.2 1.41-.59l7.78-7.78 2.81-2.81c.8-.78.8-2.07 0-2.86zM5.41 20L4 18.59l7.72-7.72 1.47 1.35L5.41 20z\"/>\n",
              "  </svg>\n",
              "      </button>\n",
              "      \n",
              "  <style>\n",
              "    .colab-df-container {\n",
              "      display:flex;\n",
              "      flex-wrap:wrap;\n",
              "      gap: 12px;\n",
              "    }\n",
              "\n",
              "    .colab-df-convert {\n",
              "      background-color: #E8F0FE;\n",
              "      border: none;\n",
              "      border-radius: 50%;\n",
              "      cursor: pointer;\n",
              "      display: none;\n",
              "      fill: #1967D2;\n",
              "      height: 32px;\n",
              "      padding: 0 0 0 0;\n",
              "      width: 32px;\n",
              "    }\n",
              "\n",
              "    .colab-df-convert:hover {\n",
              "      background-color: #E2EBFA;\n",
              "      box-shadow: 0px 1px 2px rgba(60, 64, 67, 0.3), 0px 1px 3px 1px rgba(60, 64, 67, 0.15);\n",
              "      fill: #174EA6;\n",
              "    }\n",
              "\n",
              "    [theme=dark] .colab-df-convert {\n",
              "      background-color: #3B4455;\n",
              "      fill: #D2E3FC;\n",
              "    }\n",
              "\n",
              "    [theme=dark] .colab-df-convert:hover {\n",
              "      background-color: #434B5C;\n",
              "      box-shadow: 0px 1px 3px 1px rgba(0, 0, 0, 0.15);\n",
              "      filter: drop-shadow(0px 1px 2px rgba(0, 0, 0, 0.3));\n",
              "      fill: #FFFFFF;\n",
              "    }\n",
              "  </style>\n",
              "\n",
              "      <script>\n",
              "        const buttonEl =\n",
              "          document.querySelector('#df-96a83c6b-d9eb-49ec-9763-dbd43dd404d7 button.colab-df-convert');\n",
              "        buttonEl.style.display =\n",
              "          google.colab.kernel.accessAllowed ? 'block' : 'none';\n",
              "\n",
              "        async function convertToInteractive(key) {\n",
              "          const element = document.querySelector('#df-96a83c6b-d9eb-49ec-9763-dbd43dd404d7');\n",
              "          const dataTable =\n",
              "            await google.colab.kernel.invokeFunction('convertToInteractive',\n",
              "                                                     [key], {});\n",
              "          if (!dataTable) return;\n",
              "\n",
              "          const docLinkHtml = 'Like what you see? Visit the ' +\n",
              "            '<a target=\"_blank\" href=https://colab.research.google.com/notebooks/data_table.ipynb>data table notebook</a>'\n",
              "            + ' to learn more about interactive tables.';\n",
              "          element.innerHTML = '';\n",
              "          dataTable['output_type'] = 'display_data';\n",
              "          await google.colab.output.renderOutput(dataTable, element);\n",
              "          const docLink = document.createElement('div');\n",
              "          docLink.innerHTML = docLinkHtml;\n",
              "          element.appendChild(docLink);\n",
              "        }\n",
              "      </script>\n",
              "    </div>\n",
              "  </div>\n",
              "  "
            ],
            "text/plain": [
              "    mpg  cylinders  displacement  horsepower  weight  acceleration  \\\n",
              "0  18.0          8         307.0       130.0    3504          12.0   \n",
              "1  15.0          8         350.0       165.0    3693          11.5   \n",
              "2  18.0          8         318.0       150.0    3436          11.0   \n",
              "3  16.0          8         304.0       150.0    3433          12.0   \n",
              "4  17.0          8         302.0       140.0    3449          10.5   \n",
              "\n",
              "   model_year origin                       name  \n",
              "0          70    usa  chevrolet chevelle malibu  \n",
              "1          70    usa          buick skylark 320  \n",
              "2          70    usa         plymouth satellite  \n",
              "3          70    usa              amc rebel sst  \n",
              "4          70    usa                ford torino  "
            ]
          },
          "metadata": {},
          "execution_count": 31
        }
      ],
      "source": [
        "import pandas as pd\n",
        "import numpy as np\n",
        "import warnings\n",
        "\n",
        "warnings.filterwarnings('ignore')\n",
        "# pd.set_option('max_rows', None)\n",
        "pd.set_option('max_columns', None)\n",
        "\n",
        "##### 데이터 불러오기\n",
        "df = pd.read_csv(\"https://raw.githubusercontent.com/mwaskom/seaborn-data/master/mpg.csv\")\n",
        "df.head()"
      ]
    },
    {
      "cell_type": "code",
      "source": [
        "df.columns"
      ],
      "metadata": {
        "colab": {
          "base_uri": "https://localhost:8080/"
        },
        "id": "3VmeUgopCEND",
        "outputId": "4bc4d204-54b6-4f5b-8b0e-547bb3806209"
      },
      "execution_count": 32,
      "outputs": [
        {
          "output_type": "execute_result",
          "data": {
            "text/plain": [
              "Index(['mpg', 'cylinders', 'displacement', 'horsepower', 'weight',\n",
              "       'acceleration', 'model_year', 'origin', 'name'],\n",
              "      dtype='object')"
            ]
          },
          "metadata": {},
          "execution_count": 32
        }
      ]
    },
    {
      "cell_type": "markdown",
      "source": [
        "1. 분류, Y = isUSA\n",
        "- 분류 분석을 하기 위해 데이터를 7:3으로 split하기"
      ],
      "metadata": {
        "id": "N5S0ETu0ByuS"
      }
    },
    {
      "cell_type": "code",
      "source": [
        "# 불필요 변수\n",
        "COL_DEL = ['name']\n",
        "# 수치형 변수\n",
        "COL_NUM = ['mpg', 'cylinders', 'displacement', 'horsepower', 'weight', 'acceleration', 'model_year']\n",
        "# 범주형 변수 \n",
        "COL_CAT = []\n",
        "# 종속 변수\n",
        "COL_Y = ['isUSA']\n",
        "\n",
        "df_X = df[['name', 'mpg', 'cylinders', 'displacement', 'horsepower', 'weight', 'acceleration', 'model_year']]\n",
        "df['isUSA'] = 0\n",
        "df.loc[df.origin == 'usa', 'isUSA'] = 1\n",
        "df_Y = df[['origin','isUSA']]\n",
        "\n",
        "from sklearn.model_selection import train_test_split\n",
        "X_train_raw, X_test_raw, y_train_raw, y_test_raw = train_test_split(df_X, df_Y, test_size=0.3)\n",
        "\n",
        "X_raw = pd.concat([X_train_raw, X_test_raw]) #위 아래로 합치기,\n",
        "# Scaling 및 Onehot encoding을 위한 데이터\n",
        "train_raw =  pd.concat([X_train_raw, y_train_raw], axis=1) # 왼쪽 오른쪽으로 합치기\n",
        "# raw를 지우는 데이터 처리를 위한 데이터"
      ],
      "metadata": {
        "id": "0QI0Z--pGBwk"
      },
      "execution_count": 75,
      "outputs": []
    },
    {
      "cell_type": "code",
      "source": [
        "# X_train_raw.head()\n",
        "# print(X_train_raw.columns)\n",
        "# print(X_train_raw.dtypes)\n",
        "print(X_train_raw.info()) # 결측치 확인\n",
        "# X_train_raw.describe() #이상치 확인"
      ],
      "metadata": {
        "colab": {
          "base_uri": "https://localhost:8080/"
        },
        "id": "ys-FoyQ69cCv",
        "outputId": "2181f721-6cf6-44a6-8ee2-250ffd7d4d55"
      },
      "execution_count": 76,
      "outputs": [
        {
          "output_type": "stream",
          "name": "stdout",
          "text": [
            "<class 'pandas.core.frame.DataFrame'>\n",
            "Int64Index: 278 entries, 246 to 41\n",
            "Data columns (total 8 columns):\n",
            " #   Column        Non-Null Count  Dtype  \n",
            "---  ------        --------------  -----  \n",
            " 0   name          278 non-null    object \n",
            " 1   mpg           278 non-null    float64\n",
            " 2   cylinders     278 non-null    int64  \n",
            " 3   displacement  278 non-null    float64\n",
            " 4   horsepower    273 non-null    float64\n",
            " 5   weight        278 non-null    int64  \n",
            " 6   acceleration  278 non-null    float64\n",
            " 7   model_year    278 non-null    int64  \n",
            "dtypes: float64(4), int64(3), object(1)\n",
            "memory usage: 19.5+ KB\n",
            "None\n"
          ]
        }
      ]
    },
    {
      "cell_type": "code",
      "source": [
        "##### 불필요 변수 제외\n",
        "X_train = X_train_raw.iloc[:, 1:]\n",
        "y_train = y_train_raw.iloc[:, 1:]\n",
        "X_test = X_test_raw.iloc[:, 1:]"
      ],
      "metadata": {
        "id": "TOGWHyKcDZRJ"
      },
      "execution_count": 77,
      "outputs": []
    },
    {
      "cell_type": "code",
      "source": [
        "##### 결측치 처리하기\n",
        "from sklearn.impute import SimpleImputer\n",
        "# imputer = SimpleImputer(missing_values=np.nan, strategy='constant', fill_value=0)\n",
        "imputer = SimpleImputer(missing_values=np.nan, strategy='mean')\n",
        "X_train[['horsepower']] = imputer.fit_transform( X_train[['horsepower']] )"
      ],
      "metadata": {
        "id": "5whIH0qXCWI3"
      },
      "execution_count": 78,
      "outputs": []
    },
    {
      "cell_type": "code",
      "source": [
        "##### 수치형 변수 - 스케일링\n",
        "from sklearn.preprocessing import StandardScaler\n",
        "scaler = StandardScaler()\n",
        "scaler.fit(X_raw[COL_NUM])\n",
        "X_train[COL_NUM]=scaler.transform(X_train[COL_NUM])\n",
        "X_test[COL_NUM]=scaler.transform(X_test[COL_NUM])"
      ],
      "metadata": {
        "id": "GX--KkQZEOEh"
      },
      "execution_count": 79,
      "outputs": []
    },
    {
      "cell_type": "code",
      "source": [
        "##### 범주형 변수 - 그 다음 원핫 인코딩 - 여기서는 제외했으므로 사용하지 않음\n",
        "# from sklearn.preprocessing import OneHotEncoder\n",
        "# ohe = OneHotEncoder(handle_unknown = 'ignore')\n",
        "# ohe.fit(X_train[COL_CAT])\n",
        "# # numpy array로 변환\n",
        "# X_train_res = ohe.transform(X_train[COL_CAT])\n",
        "# X_test_res = ohe.transform(X_test[COL_CAT])\n",
        "\n",
        "# # 다시 DF화 하기\n",
        "# X_train_ohe = pd.DataFrame(X_train_res.todense(), columns = ohe.get_feature_names())\n",
        "# X_test_ohe = pd.DataFrame(X_test_res.todense(), columns = ohe.get_feature_names())\n",
        "# # print(X_train_ohe.head())\n",
        "\n",
        "# X_train_fin = pd.concat([X_train[COL_NUM], X_train_ohe], axis=1)\n",
        "# X_test_fin = pd.concat([X_test[COL_NUM], X_test_ohe], axis=1)"
      ],
      "metadata": {
        "id": "sYtF9z85Eoc5"
      },
      "execution_count": 80,
      "outputs": []
    },
    {
      "cell_type": "code",
      "source": [
        "##### 훈련데이터 분할\n",
        "# y의 클래스 비율에 맞게 분할 stratify\n",
        "\n",
        "from sklearn.model_selection import train_test_split\n",
        "X_tr, X_val, y_tr, y_val = train_test_split(X_train, y_train, test_size=0.3)"
      ],
      "metadata": {
        "id": "qJQxkWQBE7Zy"
      },
      "execution_count": 81,
      "outputs": []
    },
    {
      "cell_type": "code",
      "source": [
        "##### 모델학습하기\n",
        "\n",
        "# 로지스틱 회귀\n",
        "from sklearn.linear_model import LogisticRegression\n",
        "# C 값이 작을 수록 규제가 커지고 일반화\n",
        "modelLR = LogisticRegression(C=0.1, random_state=0)\n",
        "modelLR.fit(X_tr, y_tr)\n",
        "\n",
        "# KNN 분류\n",
        "from sklearn.neighbors import KNeighborsClassifier\n",
        "modelKNN = KNeighborsClassifier(n_neighbors=5, metric='euclidean')\n",
        "modelKNN.fit(X_tr, y_tr)\n",
        "\n",
        "# 랜덤포레스트\n",
        "from sklearn.ensemble import RandomForestClassifier\n",
        "modelRF = RandomForestClassifier(n_estimators=100, max_depth=10)\n",
        "modelRF.fit(X_tr, y_tr)\n",
        "\n",
        "# 의사결정나무\n",
        "from sklearn.tree import DecisionTreeClassifier\n",
        "modelDT = DecisionTreeClassifier(max_depth=10)\n",
        "modelDT.fit(X_tr, y_tr)\n",
        "\n",
        "# XGBoost\n",
        "from xgboost import XGBClassifier\n",
        "modelX = XGBClassifier(n_estimators=100, learning_rate=0.02, max_depth=10)\n",
        "xgb_model = modelX.fit(X_tr, y_tr, early_stopping_rounds=100, eval_metric='logloss',eval_set=[(X_val, y_val)])\n",
        "\n",
        "# 이미 결정해버림\n",
        "y_val_pred = modelLR.predict(X_val)\n",
        "# [0일 확률, 1일 확률]확률값\n",
        "y_val_pred_proba = modelLR.predict_proba(X_val)"
      ],
      "metadata": {
        "id": "Y3B5nb7XFG-T"
      },
      "execution_count": null,
      "outputs": []
    },
    {
      "cell_type": "code",
      "source": [
        "##### 평가하기\n",
        "from sklearn.metrics import confusion_matrix, accuracy_score, precision_score, recall_score\n",
        "from sklearn.metrics import f1_score, roc_auc_score, classification_report, mean_squared_log_error\n",
        "\n",
        "# confusion_matrix\n",
        "# score = confusion_matrix(y_val.iloc[:,0], y_val_pred_proba)\n",
        "\n",
        "# classification_report\n",
        "# score = classification_report(y_val, y_val_pred_proba)\n",
        "\n",
        "# mean_squared_log_error\n",
        "# score = mean_squared_log_error(y_val, y_val_pred_proba)\n",
        "\n",
        "# roc_auc_score\n",
        "score = roc_auc_score(y_val, y_val_pred_proba[:, 1])\n",
        "\n",
        "print( score )"
      ],
      "metadata": {
        "colab": {
          "base_uri": "https://localhost:8080/"
        },
        "id": "RUbR2uTFJdAq",
        "outputId": "a7ac35a3-6932-4293-feeb-1bfb491f2190"
      },
      "execution_count": 87,
      "outputs": [
        {
          "output_type": "stream",
          "name": "stdout",
          "text": [
            "0.9475218658892127\n"
          ]
        }
      ]
    },
    {
      "cell_type": "markdown",
      "source": [
        "2. 회귀, Y = mpg\n",
        "- 회귀 분석을 하기 위해 데이터를 7:3으로 split하기"
      ],
      "metadata": {
        "id": "2w88TeVoNudm"
      }
    },
    {
      "cell_type": "code",
      "source": [
        "# 불필요 변수\n",
        "COL_DEL = ['name']\n",
        "# 수치형 변수\n",
        "COL_NUM = ['cylinders', 'displacement', 'horsepower', 'weight', 'acceleration', 'model_year']\n",
        "# 범주형 변수 \n",
        "COL_CAT = ['origin']\n",
        "# 종속 변수\n",
        "COL_Y = ['mpg']\n",
        "\n",
        "df_X = df[['name', 'cylinders', 'displacement', 'horsepower', 'weight', 'acceleration', 'model_year', 'origin']]\n",
        "df_Y = df[['mpg']]\n",
        "\n",
        "from sklearn.model_selection import train_test_split\n",
        "X_train_raw, X_test_raw, y_train_raw, y_test_raw = train_test_split(df_X, df_Y, test_size=0.3)\n",
        "\n",
        "X_train_raw.reset_index(drop=True, inplace=True)\n",
        "X_test_raw.reset_index(drop=True, inplace=True)\n",
        "y_train_raw.reset_index(drop=True, inplace=True)\n",
        "y_test_raw.reset_index(drop=True, inplace=True)\n",
        "\n",
        "X_raw = pd.concat([X_train_raw, X_test_raw]) #위 아래로 합치기,\n",
        "# Scaling 및 Onehot encoding을 위한 데이터\n",
        "train_raw =  pd.concat([X_train_raw, y_train_raw], axis=1) # 왼쪽 오른쪽으로 합치기\n",
        "# raw를 지우는 데이터 처리를 위한 데이터"
      ],
      "metadata": {
        "id": "P_GsO83qKdCe"
      },
      "execution_count": 140,
      "outputs": []
    },
    {
      "cell_type": "code",
      "source": [
        "# X_train_raw.head()\n",
        "# print(X_train_raw.columns)\n",
        "# print(X_train_raw.dtypes)\n",
        "print(X_train_raw.info()) # 결측치 확인\n",
        "# X_train_raw.describe() #이상치 확인"
      ],
      "metadata": {
        "colab": {
          "base_uri": "https://localhost:8080/"
        },
        "outputId": "c06ae7b0-911c-46d0-ef01-6303cd41a09b",
        "id": "mQirFnShKdCi"
      },
      "execution_count": 141,
      "outputs": [
        {
          "output_type": "stream",
          "name": "stdout",
          "text": [
            "<class 'pandas.core.frame.DataFrame'>\n",
            "RangeIndex: 278 entries, 0 to 277\n",
            "Data columns (total 8 columns):\n",
            " #   Column        Non-Null Count  Dtype  \n",
            "---  ------        --------------  -----  \n",
            " 0   name          278 non-null    object \n",
            " 1   cylinders     278 non-null    int64  \n",
            " 2   displacement  278 non-null    float64\n",
            " 3   horsepower    275 non-null    float64\n",
            " 4   weight        278 non-null    int64  \n",
            " 5   acceleration  278 non-null    float64\n",
            " 6   model_year    278 non-null    int64  \n",
            " 7   origin        278 non-null    object \n",
            "dtypes: float64(3), int64(3), object(2)\n",
            "memory usage: 17.5+ KB\n",
            "None\n"
          ]
        }
      ]
    },
    {
      "cell_type": "code",
      "source": [
        "##### 불필요 변수 제외\n",
        "X_train = X_train_raw.iloc[:, 1:]\n",
        "y_train = y_train_raw\n",
        "X_test = X_test_raw.iloc[:, 1:]"
      ],
      "metadata": {
        "id": "D5vsoXe6KdCj"
      },
      "execution_count": 148,
      "outputs": []
    },
    {
      "cell_type": "code",
      "source": [
        "##### 결측치 처리하기\n",
        "from sklearn.impute import SimpleImputer\n",
        "# imputer = SimpleImputer(missing_values=np.nan, strategy='constant', fill_value=0)\n",
        "imputer = SimpleImputer(missing_values=np.nan, strategy='mean')\n",
        "X_train[['horsepower']] = imputer.fit_transform( X_train[['horsepower']] )"
      ],
      "metadata": {
        "id": "MtwWUqLoKdCj"
      },
      "execution_count": 149,
      "outputs": []
    },
    {
      "cell_type": "code",
      "source": [
        "##### 수치형 변수 - 스케일링\n",
        "from sklearn.preprocessing import StandardScaler\n",
        "scaler = StandardScaler()\n",
        "scaler.fit(X_raw[COL_NUM])\n",
        "X_train[COL_NUM]=scaler.transform(X_train[COL_NUM])\n",
        "X_test[COL_NUM]=scaler.transform(X_test[COL_NUM])"
      ],
      "metadata": {
        "id": "TuWxJ82TKdCj"
      },
      "execution_count": 150,
      "outputs": []
    },
    {
      "cell_type": "code",
      "source": [
        "##### 범주형 변수 - 그 다음 원핫 인코딩 - 여기서는 제외했으므로 사용하지 않음\n",
        "from sklearn.preprocessing import OneHotEncoder\n",
        "ohe = OneHotEncoder(handle_unknown = 'ignore')\n",
        "ohe.fit(X_raw[COL_CAT])\n",
        "# numpy array로 변환\n",
        "X_train_res = ohe.transform(X_train[COL_CAT])\n",
        "X_test_res = ohe.transform(X_test[COL_CAT])\n",
        "\n",
        "# 다시 DF화 하기\n",
        "X_train_ohe = pd.DataFrame(X_train_res.todense(), columns = ohe.get_feature_names())\n",
        "X_test_ohe = pd.DataFrame(X_test_res.todense(), columns = ohe.get_feature_names())\n",
        "# print(X_train_ohe.head())\n",
        "\n",
        "X_train_fin = pd.concat([X_train[COL_NUM], X_train_ohe], axis=1)\n",
        "X_test_fin = pd.concat([X_test[COL_NUM], X_test_ohe], axis=1)"
      ],
      "metadata": {
        "id": "yecbtJE_KdCj"
      },
      "execution_count": 151,
      "outputs": []
    },
    {
      "cell_type": "code",
      "source": [
        "##### 훈련데이터 분할\n",
        "# y의 클래스 비율에 맞게 분할 stratify\n",
        "\n",
        "from sklearn.model_selection import train_test_split\n",
        "X_tr, X_val, y_tr, y_val = train_test_split(X_train_fin, y_train, test_size=0.3)"
      ],
      "metadata": {
        "id": "UiSaxchaKdCj"
      },
      "execution_count": 152,
      "outputs": []
    },
    {
      "cell_type": "code",
      "source": [
        "##### 모델학습하기\n",
        "\n",
        "# sklearn 선형 회귀\n",
        "from sklearn.linear_model import LinearRegression\n",
        "# C 값이 작을 수록 규제가 커지고 일반화\n",
        "modelLR = LinearRegression()\n",
        "results = modelLR.fit(X_tr, y_tr)\n",
        "\n",
        "# statsmodel 선형 회귀\n",
        "import statsmodels.api as sm \n",
        "\n",
        "X_tr2 = sm.add_constant(X_tr)\n",
        "model2 = sm.OLS(y_tr, X_tr2)\n",
        "results = model2.fit()\n",
        "\n",
        "# 이미 결정해버림\n",
        "y_val_pred = modelLR.predict(X_val)"
      ],
      "metadata": {
        "id": "RIkp_sLrKdCk"
      },
      "execution_count": 204,
      "outputs": []
    },
    {
      "cell_type": "code",
      "source": [
        "#### 회귀계수 해석\n",
        "# 절편\n",
        "print(modelLR.intercept_)\n",
        "# 기울기\n",
        "coef = pd.Series(data=modelLR.coef_[0], index= X_train_fin.columns)\n",
        "print(coef.sort_values())\n",
        "\n",
        "print(results.summary())"
      ],
      "metadata": {
        "colab": {
          "base_uri": "https://localhost:8080/"
        },
        "id": "-bsJ6x1hUvJ_",
        "outputId": "77e3a621-6def-4052-e6de-494dd78e4c86"
      },
      "execution_count": 205,
      "outputs": [
        {
          "output_type": "stream",
          "name": "stdout",
          "text": [
            "[24.65669681]\n",
            "weight         -5.494804\n",
            "x0_usa         -1.759041\n",
            "cylinders      -0.606918\n",
            "horsepower     -0.023547\n",
            "acceleration    0.318217\n",
            "x0_europe       0.494336\n",
            "x0_japan        1.264705\n",
            "displacement    1.520156\n",
            "model_year      3.066423\n",
            "dtype: float64\n",
            "                            OLS Regression Results                            \n",
            "==============================================================================\n",
            "Dep. Variable:                    mpg   R-squared:                       0.829\n",
            "Model:                            OLS   Adj. R-squared:                  0.821\n",
            "Method:                 Least Squares   F-statistic:                     112.0\n",
            "Date:                Tue, 25 Jan 2022   Prob (F-statistic):           1.01e-66\n",
            "Time:                        13:31:02   Log-Likelihood:                -512.73\n",
            "No. Observations:                 194   AIC:                             1043.\n",
            "Df Residuals:                     185   BIC:                             1073.\n",
            "Df Model:                           8                                         \n",
            "Covariance Type:            nonrobust                                         \n",
            "================================================================================\n",
            "                   coef    std err          t      P>|t|      [0.025      0.975]\n",
            "--------------------------------------------------------------------------------\n",
            "const           18.4925      0.245     75.424      0.000      18.009      18.976\n",
            "cylinders       -0.6069      0.851     -0.714      0.476      -2.285       1.071\n",
            "displacement     1.5202      1.152      1.319      0.189      -0.753       3.793\n",
            "horsepower      -0.0235      0.753     -0.031      0.975      -1.510       1.463\n",
            "weight          -5.4948      0.740     -7.425      0.000      -6.955      -4.035\n",
            "acceleration     0.3182      0.418      0.762      0.447      -0.506       1.142\n",
            "model_year       3.0664      0.289     10.626      0.000       2.497       3.636\n",
            "x0_europe        6.6585      0.502     13.256      0.000       5.668       7.649\n",
            "x0_japan         7.4289      0.543     13.693      0.000       6.359       8.499\n",
            "x0_usa           4.4051      0.433     10.177      0.000       3.551       5.259\n",
            "==============================================================================\n",
            "Omnibus:                       10.639   Durbin-Watson:                   2.017\n",
            "Prob(Omnibus):                  0.005   Jarque-Bera (JB):               16.100\n",
            "Skew:                           0.317   Prob(JB):                     0.000319\n",
            "Kurtosis:                       4.260   Cond. No.                     7.33e+15\n",
            "==============================================================================\n",
            "\n",
            "Warnings:\n",
            "[1] Standard Errors assume that the covariance matrix of the errors is correctly specified.\n",
            "[2] The smallest eigenvalue is 1.77e-29. This might indicate that there are\n",
            "strong multicollinearity problems or that the design matrix is singular.\n"
          ]
        }
      ]
    },
    {
      "cell_type": "code",
      "source": [
        "##### 평가하기\n",
        "from sklearn.metrics import mean_squared_error, r2_score\n",
        "\n",
        "mse = mean_squared_error(y_val, y_val_pred)                 # 1. mse\n",
        "rmse = mean_squared_error(y_val, y_val_pred, squared=False) # 2. rmse : np.sqrt(mse)도 가능\n",
        "\n",
        "r2 = r2_score(y_val, y_val_pred)                            # 3. r2\n",
        "score = modelLR.score(X_val, y_val)                         # 이 것 또한 R2\n",
        "\n",
        "print(score)\n",
        "print('MSE : {0:.3f} , RMSE : {1:.3F} '.format(mse , rmse))\n",
        "print('Variance score : {0:.3f}'.format(r2))"
      ],
      "metadata": {
        "colab": {
          "base_uri": "https://localhost:8080/"
        },
        "outputId": "f3e74ac3-9f34-4dd3-8f2a-4f77c1229e1c",
        "id": "qzpQFoytKdCk"
      },
      "execution_count": 196,
      "outputs": [
        {
          "output_type": "stream",
          "name": "stdout",
          "text": [
            "0.8087522895870305\n",
            "MSE : 11.154 , RMSE : 3.340 \n",
            "Variance score : 0.809\n"
          ]
        }
      ]
    }
  ]
}