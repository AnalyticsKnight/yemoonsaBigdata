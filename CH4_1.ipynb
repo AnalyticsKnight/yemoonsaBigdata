{
  "nbformat": 4,
  "nbformat_minor": 0,
  "metadata": {
    "colab": {
      "name": "CH4-1",
      "provenance": [],
      "collapsed_sections": [],
      "authorship_tag": "ABX9TyN71JnK1lPaHzd9WMKgC1PL",
      "include_colab_link": true
    },
    "kernelspec": {
      "name": "python3",
      "display_name": "Python 3"
    },
    "language_info": {
      "name": "python"
    }
  },
  "cells": [
    {
      "cell_type": "markdown",
      "metadata": {
        "id": "view-in-github",
        "colab_type": "text"
      },
      "source": [
        "<a href=\"https://colab.research.google.com/github/AnalyticsKnight/yemoonsaBigdata/blob/dev/CH4_1.ipynb\" target=\"_parent\"><img src=\"https://colab.research.google.com/assets/colab-badge.svg\" alt=\"Open In Colab\"/></a>"
      ]
    },
    {
      "cell_type": "markdown",
      "source": [
        "# Chapter 4. A to Z 빅데이터 분석 실습  "
      ],
      "metadata": {
        "id": "qvrlQlwK09K4"
      }
    },
    {
      "cell_type": "markdown",
      "source": [
        "## 2.실습 A to Z – Motor Trend Car Road Tests"
      ],
      "metadata": {
        "id": "XhmllIp-004C"
      }
    },
    {
      "cell_type": "markdown",
      "source": [
        "### mtcars: Motor Trend Car Road Tests\n",
        "- https://raw.githubusercontent.com/mwaskom/seaborn-data/master/mpg.csv"
      ],
      "metadata": {
        "id": "6133mB54-c5l"
      }
    },
    {
      "cell_type": "markdown",
      "source": [
        "### (2) 사전준비"
      ],
      "metadata": {
        "id": "oaTRSpbE1bCE"
      }
    },
    {
      "cell_type": "markdown",
      "source": [
        "400"
      ],
      "metadata": {
        "id": "05PSmAPwPUdg"
      }
    },
    {
      "cell_type": "code",
      "source": [
        "# 출력을 원하실 경우 print() 함수 활용\n",
        "# 예시) print(df.head())\n",
        "\n",
        "# getcwd(), chdir() 등 작업 폴더 설정 불필요\n",
        "# 파일 경로 상 내부 드라이브 경로(C: 등) 접근 불가\n",
        "\n",
        "# 데이터 파일 읽기 예제\n",
        "import pandas as pd\n",
        "X_test = pd.read_csv(\"./mpg_X_test.csv\")\n",
        "X_train = pd.read_csv(\"./mpg_X_train.csv\")\n",
        "y_train = pd.read_csv(\"./mpg_y_train.csv\")\n",
        "\n",
        "# 사용자 코딩\n",
        "\n",
        "# 답안 제출 참고\n",
        "# 아래 코드 예측변수와 수험번호를 개인별로 변경하여 활용\n",
        "# pd.DataFrame({'gender': pred}).to_csv('003000000.csv', index=False)"
      ],
      "metadata": {
        "id": "glfo_TdlXuU5"
      },
      "execution_count": 17,
      "outputs": []
    },
    {
      "cell_type": "markdown",
      "source": [
        "401"
      ],
      "metadata": {
        "id": "mBwI3KkXPskr"
      }
    },
    {
      "cell_type": "code",
      "execution_count": 18,
      "metadata": {
        "id": "OKHJXjwU492V"
      },
      "outputs": [],
      "source": [
        "import pandas as pd\n",
        "import numpy as np"
      ]
    },
    {
      "cell_type": "markdown",
      "source": [
        "402"
      ],
      "metadata": {
        "id": "Ef--FhM5QJYI"
      }
    },
    {
      "cell_type": "code",
      "source": [
        "# df = pd.read_csv(\"https://raw.githubusercontent.com/mwaskom/seaborn-data/master/mpg.csv\")\n",
        "X_test = pd.read_csv(\"./mpg_X_test.csv\")\n",
        "X_train = pd.read_csv(\"./mpg_X_train.csv\")\n",
        "y_train = pd.read_csv(\"./mpg_y_train.csv\")"
      ],
      "metadata": {
        "id": "8GTBlyYwPjzP"
      },
      "execution_count": 19,
      "outputs": []
    },
    {
      "cell_type": "markdown",
      "source": [
        "### (3) 데이터 전처리"
      ],
      "metadata": {
        "id": "tz3AYrSR1xIL"
      }
    },
    {
      "cell_type": "markdown",
      "source": [
        "403"
      ],
      "metadata": {
        "id": "XrYvJyQxQoxz"
      }
    },
    {
      "cell_type": "code",
      "source": [
        "print(X_train.info()) # 데이터 정보 및 결측치 확인"
      ],
      "metadata": {
        "id": "qjtQJGsHQpe9",
        "outputId": "17b5adc1-6193-4fe4-b2df-e2bf5063e780",
        "colab": {
          "base_uri": "https://localhost:8080/"
        }
      },
      "execution_count": 20,
      "outputs": [
        {
          "output_type": "stream",
          "name": "stdout",
          "text": [
            "<class 'pandas.core.frame.DataFrame'>\n",
            "RangeIndex: 278 entries, 0 to 277\n",
            "Data columns (total 8 columns):\n",
            " #   Column        Non-Null Count  Dtype  \n",
            "---  ------        --------------  -----  \n",
            " 0   name          278 non-null    object \n",
            " 1   mpg           278 non-null    float64\n",
            " 2   cylinders     278 non-null    int64  \n",
            " 3   displacement  278 non-null    float64\n",
            " 4   horsepower    275 non-null    float64\n",
            " 5   weight        278 non-null    int64  \n",
            " 6   acceleration  278 non-null    float64\n",
            " 7   model_year    278 non-null    int64  \n",
            "dtypes: float64(4), int64(3), object(1)\n",
            "memory usage: 17.5+ KB\n",
            "None\n"
          ]
        }
      ]
    },
    {
      "cell_type": "markdown",
      "source": [
        "404"
      ],
      "metadata": {
        "id": "O2tTLtEceQ3K"
      }
    },
    {
      "cell_type": "code",
      "source": [
        "##### 결측치 처리하기\n",
        "from sklearn.impute import SimpleImputer\n",
        "# imputer = SimpleImputer(missing_values=np.nan, strategy='constant', fill_value=0)\n",
        "imputer = SimpleImputer(missing_values=np.nan, strategy='mean')\n",
        "X_train[['horsepower']] = imputer.fit_transform( X_train[['horsepower']] )\n",
        "X_test[['horsepower']] = imputer.fit_transform( X_test[['horsepower']] )"
      ],
      "metadata": {
        "id": "LTLaTCFnjZC9"
      },
      "execution_count": 21,
      "outputs": []
    },
    {
      "cell_type": "markdown",
      "source": [
        "405"
      ],
      "metadata": {
        "id": "tOY_jbXXjZOG"
      }
    },
    {
      "cell_type": "code",
      "source": [
        "print(X_train.describe())"
      ],
      "metadata": {
        "colab": {
          "base_uri": "https://localhost:8080/"
        },
        "id": "WOXjksb5eRzA",
        "outputId": "252d4c90-bc18-42be-b2cc-a230f8c41f48"
      },
      "execution_count": 22,
      "outputs": [
        {
          "output_type": "stream",
          "name": "stdout",
          "text": [
            "              mpg   cylinders  displacement  horsepower       weight  \\\n",
            "count  278.000000  278.000000    278.000000  278.000000   278.000000   \n",
            "mean    23.616906    5.485612    193.501799  104.330909  2984.575540   \n",
            "std      8.158168    1.724157    104.419891   37.577880   858.764682   \n",
            "min      9.000000    3.000000     68.000000   48.000000  1613.000000   \n",
            "25%     16.925000    4.000000     98.000000   75.000000  2206.250000   \n",
            "50%     22.750000    4.000000    148.500000   95.000000  2866.500000   \n",
            "75%     29.800000    8.000000    302.000000  129.000000  3641.750000   \n",
            "max     46.600000    8.000000    455.000000  230.000000  4997.000000   \n",
            "\n",
            "       acceleration  model_year  \n",
            "count    278.000000  278.000000  \n",
            "mean      15.581295   75.902878  \n",
            "std        2.772807    3.577092  \n",
            "min        8.000000   70.000000  \n",
            "25%       13.800000   73.000000  \n",
            "50%       15.300000   76.000000  \n",
            "75%       17.000000   79.000000  \n",
            "max       24.600000   82.000000  \n"
          ]
        }
      ]
    },
    {
      "cell_type": "markdown",
      "source": [
        "406"
      ],
      "metadata": {
        "id": "tAfj4mZBoFAU"
      }
    },
    {
      "cell_type": "code",
      "source": [
        "# 불필요 변수\n",
        "COL_DEL = ['name']\n",
        "# 수치형 변수\n",
        "COL_NUM = ['mpg', 'cylinders', 'displacement', 'horsepower', 'weight', 'acceleration', 'model_year']\n",
        "# 범주형 변수 \n",
        "COL_CAT = []\n",
        "# 종속 변수\n",
        "COL_Y = ['isUSA']\n",
        "\n",
        "X_train = X_train.iloc[:, 1:]\n",
        "X_test = X_test.iloc[:, 1:]"
      ],
      "metadata": {
        "id": "kX0Qjg4yoFHI"
      },
      "execution_count": 23,
      "outputs": []
    },
    {
      "cell_type": "markdown",
      "source": [
        "### (4) 데이터 모형 구축"
      ],
      "metadata": {
        "id": "z3lTeHdG10nv"
      }
    },
    {
      "cell_type": "markdown",
      "source": [
        "407"
      ],
      "metadata": {
        "id": "5eUgJyqCVNfJ"
      }
    },
    {
      "cell_type": "code",
      "source": [
        "##### 훈련데이터 분할\n",
        "# y의 클래스 비율에 맞게 분할 stratify\n",
        "\n",
        "from sklearn.model_selection import train_test_split\n",
        "X_tr, X_val, y_tr, y_val = train_test_split(X_train, y_train, test_size=0.3)"
      ],
      "metadata": {
        "id": "GroexjoyVOSY"
      },
      "execution_count": 24,
      "outputs": []
    },
    {
      "cell_type": "markdown",
      "source": [
        "408"
      ],
      "metadata": {
        "id": "5qe4rethnV_p"
      }
    },
    {
      "cell_type": "code",
      "source": [
        "##### 수치형 변수 - 스케일링\n",
        "from sklearn.preprocessing import StandardScaler\n",
        "\n",
        "scaler = StandardScaler()\n",
        "scaler.fit(X_tr[COL_NUM])\n",
        "X_tr[COL_NUM]=scaler.transform(X_tr[COL_NUM])\n",
        "X_val[COL_NUM]=scaler.transform(X_val[COL_NUM])\n",
        "X_test[COL_NUM]=scaler.transform(X_test[COL_NUM])"
      ],
      "metadata": {
        "id": "IoU1WQs3nWzi"
      },
      "execution_count": 25,
      "outputs": []
    },
    {
      "cell_type": "markdown",
      "source": [
        "409"
      ],
      "metadata": {
        "id": "KdBrKqeYV_I6"
      }
    },
    {
      "cell_type": "code",
      "source": [
        "# KNN 분류\n",
        "from sklearn.neighbors import KNeighborsClassifier\n",
        "modelKNN = KNeighborsClassifier(n_neighbors=5, metric='euclidean')\n",
        "modelKNN.fit(X_tr, y_tr.values.ravel())\n",
        "\n",
        "# 의사결정나무\n",
        "from sklearn.tree import DecisionTreeClassifier\n",
        "modelDT = DecisionTreeClassifier(max_depth=10)\n",
        "modelDT.fit(X_tr, y_tr)"
      ],
      "metadata": {
        "colab": {
          "base_uri": "https://localhost:8080/"
        },
        "id": "UJc0FcepV_0o",
        "outputId": "620af518-ce0a-44bf-cd06-334cff0a4f3f"
      },
      "execution_count": 26,
      "outputs": [
        {
          "output_type": "execute_result",
          "data": {
            "text/plain": [
              "DecisionTreeClassifier(max_depth=10)"
            ]
          },
          "metadata": {},
          "execution_count": 26
        }
      ]
    },
    {
      "cell_type": "markdown",
      "source": [
        "410"
      ],
      "metadata": {
        "id": "vSBkfIL5WAgx"
      }
    },
    {
      "cell_type": "code",
      "source": [
        "y_val_pred = modelKNN.predict(X_val)\n",
        "\n",
        "y_val_pred_probaKNN = modelKNN.predict_proba(X_val)\n",
        "y_val_pred_probaDT = modelDT.predict_proba(X_val)"
      ],
      "metadata": {
        "id": "gWW9YI9DV_44"
      },
      "execution_count": 27,
      "outputs": []
    },
    {
      "cell_type": "markdown",
      "source": [
        "411"
      ],
      "metadata": {
        "id": "q4MVl56Wdg66"
      }
    },
    {
      "cell_type": "code",
      "source": [
        "from sklearn.metrics import roc_auc_score\n",
        "\n",
        "# roc_auc_score\n",
        "scoreKNN = roc_auc_score(y_val, y_val_pred_probaKNN[:, 1])\n",
        "scoreDT = roc_auc_score(y_val, y_val_pred_probaDT[:, 1])\n",
        "\n",
        "print( scoreKNN, scoreDT )"
      ],
      "metadata": {
        "colab": {
          "base_uri": "https://localhost:8080/"
        },
        "id": "3hs9oIn7dhoA",
        "outputId": "b5e25d03-d7c9-4e6d-b318-fb9feee595dc"
      },
      "execution_count": 28,
      "outputs": [
        {
          "output_type": "stream",
          "name": "stdout",
          "text": [
            "0.9207175925925926 0.8628472222222223\n"
          ]
        }
      ]
    },
    {
      "cell_type": "markdown",
      "source": [
        "412"
      ],
      "metadata": {
        "id": "vB2u1YLDiRtx"
      }
    },
    {
      "cell_type": "code",
      "source": [
        "best_model = None\n",
        "best_score = 0\n",
        "\n",
        "for i in range(2, 10):\n",
        "    model = KNeighborsClassifier(n_neighbors=i, metric='euclidean')\n",
        "    model.fit(X_tr, y_tr.values.ravel())\n",
        "    y_val_pred_proba = model.predict_proba(X_val)\n",
        "    score = roc_auc_score(y_val, y_val_pred_proba[:, 1])\n",
        "    print(i,\"개의 이웃 확인 : \", score)\n",
        "    if best_score <= score:\n",
        "        best_model = model"
      ],
      "metadata": {
        "colab": {
          "base_uri": "https://localhost:8080/"
        },
        "id": "5aMPIAaZiRzG",
        "outputId": "aa71a9dd-4cf4-4583-a608-993cb5bf37fd"
      },
      "execution_count": 29,
      "outputs": [
        {
          "output_type": "stream",
          "name": "stdout",
          "text": [
            "2 개의 이웃 확인 :  0.892650462962963\n",
            "3 개의 이웃 확인 :  0.9010416666666667\n",
            "4 개의 이웃 확인 :  0.9155092592592591\n",
            "5 개의 이웃 확인 :  0.9207175925925926\n",
            "6 개의 이웃 확인 :  0.9296875\n",
            "7 개의 이웃 확인 :  0.9233217592592593\n",
            "8 개의 이웃 확인 :  0.9244791666666666\n",
            "9 개의 이웃 확인 :  0.9221643518518519\n"
          ]
        }
      ]
    },
    {
      "cell_type": "markdown",
      "source": [
        "413"
      ],
      "metadata": {
        "id": "w_LY_L8GnJF9"
      }
    },
    {
      "cell_type": "code",
      "source": [
        "best_model.predict_proba(X_test)"
      ],
      "metadata": {
        "colab": {
          "base_uri": "https://localhost:8080/"
        },
        "id": "E2Mhq9dWnJLd",
        "outputId": "80d783a2-b275-4d5e-a2ff-fe692f65f9fa"
      },
      "execution_count": 30,
      "outputs": [
        {
          "output_type": "execute_result",
          "data": {
            "text/plain": [
              "array([[0.55555556, 0.44444444],\n",
              "       [0.66666667, 0.33333333],\n",
              "       [0.77777778, 0.22222222],\n",
              "       [0.22222222, 0.77777778],\n",
              "       [0.66666667, 0.33333333],\n",
              "       [0.        , 1.        ],\n",
              "       [0.55555556, 0.44444444],\n",
              "       [0.55555556, 0.44444444],\n",
              "       [0.66666667, 0.33333333],\n",
              "       [0.11111111, 0.88888889],\n",
              "       [0.        , 1.        ],\n",
              "       [0.        , 1.        ],\n",
              "       [0.44444444, 0.55555556],\n",
              "       [0.11111111, 0.88888889],\n",
              "       [0.66666667, 0.33333333],\n",
              "       [0.55555556, 0.44444444],\n",
              "       [0.44444444, 0.55555556],\n",
              "       [0.        , 1.        ],\n",
              "       [0.77777778, 0.22222222],\n",
              "       [0.22222222, 0.77777778],\n",
              "       [0.33333333, 0.66666667],\n",
              "       [0.        , 1.        ],\n",
              "       [0.66666667, 0.33333333],\n",
              "       [0.44444444, 0.55555556],\n",
              "       [0.66666667, 0.33333333],\n",
              "       [0.11111111, 0.88888889],\n",
              "       [0.66666667, 0.33333333],\n",
              "       [0.        , 1.        ],\n",
              "       [0.77777778, 0.22222222],\n",
              "       [0.        , 1.        ],\n",
              "       [0.33333333, 0.66666667],\n",
              "       [0.22222222, 0.77777778],\n",
              "       [0.55555556, 0.44444444],\n",
              "       [0.88888889, 0.11111111],\n",
              "       [0.        , 1.        ],\n",
              "       [0.55555556, 0.44444444],\n",
              "       [0.        , 1.        ],\n",
              "       [0.        , 1.        ],\n",
              "       [0.        , 1.        ],\n",
              "       [0.        , 1.        ],\n",
              "       [0.        , 1.        ],\n",
              "       [0.        , 1.        ],\n",
              "       [0.        , 1.        ],\n",
              "       [0.44444444, 0.55555556],\n",
              "       [0.        , 1.        ],\n",
              "       [0.44444444, 0.55555556],\n",
              "       [0.33333333, 0.66666667],\n",
              "       [0.        , 1.        ],\n",
              "       [0.55555556, 0.44444444],\n",
              "       [0.22222222, 0.77777778],\n",
              "       [0.22222222, 0.77777778],\n",
              "       [0.66666667, 0.33333333],\n",
              "       [0.55555556, 0.44444444],\n",
              "       [0.77777778, 0.22222222],\n",
              "       [0.        , 1.        ],\n",
              "       [0.66666667, 0.33333333],\n",
              "       [0.        , 1.        ],\n",
              "       [0.11111111, 0.88888889],\n",
              "       [0.77777778, 0.22222222],\n",
              "       [0.44444444, 0.55555556],\n",
              "       [0.        , 1.        ],\n",
              "       [0.        , 1.        ],\n",
              "       [0.66666667, 0.33333333],\n",
              "       [0.44444444, 0.55555556],\n",
              "       [0.22222222, 0.77777778],\n",
              "       [0.88888889, 0.11111111],\n",
              "       [0.33333333, 0.66666667],\n",
              "       [0.55555556, 0.44444444],\n",
              "       [0.44444444, 0.55555556],\n",
              "       [0.55555556, 0.44444444],\n",
              "       [0.        , 1.        ],\n",
              "       [0.22222222, 0.77777778],\n",
              "       [0.        , 1.        ],\n",
              "       [1.        , 0.        ],\n",
              "       [0.        , 1.        ],\n",
              "       [0.        , 1.        ],\n",
              "       [0.        , 1.        ],\n",
              "       [0.        , 1.        ],\n",
              "       [0.44444444, 0.55555556],\n",
              "       [0.        , 1.        ],\n",
              "       [0.11111111, 0.88888889],\n",
              "       [0.77777778, 0.22222222],\n",
              "       [0.22222222, 0.77777778],\n",
              "       [0.        , 1.        ],\n",
              "       [0.        , 1.        ],\n",
              "       [0.        , 1.        ],\n",
              "       [0.66666667, 0.33333333],\n",
              "       [0.88888889, 0.11111111],\n",
              "       [0.        , 1.        ],\n",
              "       [1.        , 0.        ],\n",
              "       [0.        , 1.        ],\n",
              "       [0.        , 1.        ],\n",
              "       [0.55555556, 0.44444444],\n",
              "       [0.        , 1.        ],\n",
              "       [0.55555556, 0.44444444],\n",
              "       [0.55555556, 0.44444444],\n",
              "       [0.77777778, 0.22222222],\n",
              "       [0.55555556, 0.44444444],\n",
              "       [0.        , 1.        ],\n",
              "       [0.22222222, 0.77777778],\n",
              "       [0.66666667, 0.33333333],\n",
              "       [0.        , 1.        ],\n",
              "       [0.44444444, 0.55555556],\n",
              "       [0.44444444, 0.55555556],\n",
              "       [0.        , 1.        ],\n",
              "       [0.55555556, 0.44444444],\n",
              "       [0.88888889, 0.11111111],\n",
              "       [0.44444444, 0.55555556],\n",
              "       [0.44444444, 0.55555556],\n",
              "       [0.66666667, 0.33333333],\n",
              "       [0.55555556, 0.44444444],\n",
              "       [0.11111111, 0.88888889],\n",
              "       [0.55555556, 0.44444444],\n",
              "       [0.        , 1.        ],\n",
              "       [0.55555556, 0.44444444],\n",
              "       [0.66666667, 0.33333333],\n",
              "       [0.        , 1.        ],\n",
              "       [0.55555556, 0.44444444],\n",
              "       [0.        , 1.        ],\n",
              "       [0.44444444, 0.55555556]])"
            ]
          },
          "metadata": {},
          "execution_count": 30
        }
      ]
    },
    {
      "cell_type": "markdown",
      "source": [
        "414"
      ],
      "metadata": {
        "id": "lZ2Q2sUjj-xx"
      }
    },
    {
      "cell_type": "code",
      "source": [
        "pred = best_model.predict_proba(X_test)[:,1]\n",
        "print(pred)"
      ],
      "metadata": {
        "id": "rHwYKQYkj8Xb",
        "colab": {
          "base_uri": "https://localhost:8080/"
        },
        "outputId": "b4bfe935-8c40-4847-d7e9-4796ea5b4f0c"
      },
      "execution_count": 31,
      "outputs": [
        {
          "output_type": "stream",
          "name": "stdout",
          "text": [
            "[0.44444444 0.33333333 0.22222222 0.77777778 0.33333333 1.\n",
            " 0.44444444 0.44444444 0.33333333 0.88888889 1.         1.\n",
            " 0.55555556 0.88888889 0.33333333 0.44444444 0.55555556 1.\n",
            " 0.22222222 0.77777778 0.66666667 1.         0.33333333 0.55555556\n",
            " 0.33333333 0.88888889 0.33333333 1.         0.22222222 1.\n",
            " 0.66666667 0.77777778 0.44444444 0.11111111 1.         0.44444444\n",
            " 1.         1.         1.         1.         1.         1.\n",
            " 1.         0.55555556 1.         0.55555556 0.66666667 1.\n",
            " 0.44444444 0.77777778 0.77777778 0.33333333 0.44444444 0.22222222\n",
            " 1.         0.33333333 1.         0.88888889 0.22222222 0.55555556\n",
            " 1.         1.         0.33333333 0.55555556 0.77777778 0.11111111\n",
            " 0.66666667 0.44444444 0.55555556 0.44444444 1.         0.77777778\n",
            " 1.         0.         1.         1.         1.         1.\n",
            " 0.55555556 1.         0.88888889 0.22222222 0.77777778 1.\n",
            " 1.         1.         0.33333333 0.11111111 1.         0.\n",
            " 1.         1.         0.44444444 1.         0.44444444 0.44444444\n",
            " 0.22222222 0.44444444 1.         0.77777778 0.33333333 1.\n",
            " 0.55555556 0.55555556 1.         0.44444444 0.11111111 0.55555556\n",
            " 0.55555556 0.33333333 0.44444444 0.88888889 0.44444444 1.\n",
            " 0.44444444 0.33333333 1.         0.44444444 1.         0.55555556]\n"
          ]
        }
      ]
    },
    {
      "cell_type": "markdown",
      "source": [
        "415"
      ],
      "metadata": {
        "id": "tcugiuHMTOAM"
      }
    },
    {
      "cell_type": "code",
      "source": [
        "pd.DataFrame({'isUSA': pred}).to_csv('003000000.csv', index=False)"
      ],
      "metadata": {
        "id": "hIUmhHQ8TT3z"
      },
      "execution_count": 32,
      "outputs": []
    }
  ]
}