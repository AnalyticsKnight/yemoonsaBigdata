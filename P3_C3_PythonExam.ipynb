{
  "nbformat": 4,
  "nbformat_minor": 0,
  "metadata": {
    "colab": {
      "provenance": [],
      "authorship_tag": "ABX9TyMaVoo0dRK8t8he/KUSiZpV",
      "include_colab_link": true
    },
    "kernelspec": {
      "name": "python3",
      "display_name": "Python 3"
    },
    "language_info": {
      "name": "python"
    }
  },
  "cells": [
    {
      "cell_type": "markdown",
      "metadata": {
        "id": "view-in-github",
        "colab_type": "text"
      },
      "source": [
        "<a href=\"https://colab.research.google.com/github/AnalyticsKnight/yemoonsaBigdata/blob/dev/P3_C3_PythonExam.ipynb\" target=\"_parent\"><img src=\"https://colab.research.google.com/assets/colab-badge.svg\" alt=\"Open In Colab\"/></a>"
      ]
    },
    {
      "cell_type": "code",
      "execution_count": 1,
      "metadata": {
        "colab": {
          "base_uri": "https://localhost:8080/"
        },
        "id": "uFYJ-saAlT6K",
        "outputId": "94ff5f9c-4026-42e3-ac80-a7914a52bca4"
      },
      "outputs": [
        {
          "output_type": "stream",
          "name": "stdout",
          "text": [
            "Cloning into 'yemoonsaBigdata'...\n",
            "remote: Enumerating objects: 501, done.\u001b[K\n",
            "remote: Counting objects: 100% (138/138), done.\u001b[K\n",
            "remote: Compressing objects: 100% (94/94), done.\u001b[K\n",
            "remote: Total 501 (delta 67), reused 49 (delta 44), pack-reused 363\u001b[K\n",
            "Receiving objects: 100% (501/501), 10.54 MiB | 19.96 MiB/s, done.\n",
            "Resolving deltas: 100% (252/252), done.\n"
          ]
        }
      ],
      "source": [
        "!git clone https://github.com/AnalyticsKnight/yemoonsaBigdata/"
      ]
    },
    {
      "cell_type": "code",
      "source": [],
      "metadata": {
        "id": "3eLZ5Yb8lX37"
      },
      "execution_count": null,
      "outputs": []
    }
  ]
}