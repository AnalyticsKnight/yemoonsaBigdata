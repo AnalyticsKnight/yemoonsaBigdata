{
  "cells": [
    {
      "cell_type": "markdown",
      "metadata": {
        "id": "view-in-github",
        "colab_type": "text"
      },
      "source": [
        "<a href=\"https://colab.research.google.com/github/AnalyticsKnight/yemoonsaBigdata/blob/main/SampleCode.ipynb\" target=\"_parent\"><img src=\"https://colab.research.google.com/assets/colab-badge.svg\" alt=\"Open In Colab\"/></a>"
      ]
    },
    {
      "cell_type": "markdown",
      "source": [
        "### 도로공사 강의에 활용한 샘플 코드"
      ],
      "metadata": {
        "id": "Hq6LvBXu1e2R"
      }
    },
    {
      "cell_type": "code",
      "execution_count": null,
      "metadata": {
        "id": "KVl60gZyy0-j"
      },
      "outputs": [],
      "source": [
        "# 출력을 원하실 경우 print() 활용\n",
        "# 예) print(df.head())\n",
        "\n",
        "# 답안 제출 예시\n",
        "# print(레코드 수)\n",
        "import pandas as pd\n",
        "from sklearn.preprocessing import MinMaxScaler\n",
        "\n",
        "# 1번 방식\n",
        "# 직접 구현 하기\n",
        "# Series로 불러오는 법 1\n",
        "qsec = pd.read_csv('data/mtcars.csv').loc[:, 'qsec']\n",
        "qsec_min, qsec_max = qsec.min(), qsec.max()\n",
        "qsec = [(i-qsec_min)/(qsec_max-qsec_min) for i in qsec if (i-qsec_min)/(qsec_max-qsec_min)>0.5]\n",
        "print(len(qsec))\n",
        "\n",
        "# 2번 방식 \n",
        "# 데이터를 dataframe의 형식으로 처리하기\n",
        "qsec = pd.read_csv('data/mtcars.csv')[['qsec']].values\n",
        "print(qsec)\n",
        "\n",
        "scaler = MinMaxScaler()\n",
        "scaler.fit(qsec)\n",
        "scaled_qsec = scaler.transform(qsec)\n",
        "\n",
        "print(sum(scaled_qsec>0.5))\n",
        "\n",
        "# 3번 방식\n",
        "# 데이터를 series의 형식으로 처리하기\n",
        "# Series로 불러오는 법 2\n",
        "qsec = pd.read_csv('data/mtcars.csv')['qsec'].values\n",
        "qsec = qsec.reshape(-1,1)\n",
        "print(qsec)\n",
        "\n",
        "scaler = MinMaxScaler()\n",
        "scaler.fit(qsec)\n",
        "scaled_qsec = scaler.transform(qsec)\n",
        "\n",
        "print(sum(scaled_qsec>0.5))"
      ]
    },
    {
      "cell_type": "code",
      "execution_count": null,
      "metadata": {
        "id": "caBXtrfay0-n"
      },
      "outputs": [],
      "source": [
        "# 데이터프레임 정렬하기\n",
        "df = df.sort_values('smp_col', ascending=False)\n",
        "\n",
        "# 10줄만 뽑아서 그값을 중간값으로 치환\n",
        "df.iloc[:10, 'smp_col'] = df['smp_col'].median()\n",
        "\n",
        "# 다른 열의 값이 80 이상인 것만 찾아서 smp_col의 평균을 내기\n",
        "mean_ = df.loc[df['smp_col2']>=80, 'smp_col'].mean()"
      ]
    },
    {
      "cell_type": "code",
      "execution_count": null,
      "metadata": {
        "id": "0jYYJ7REy0-o"
      },
      "outputs": [],
      "source": [
        "# 데이터프레임 80%만큼 가져오기\n",
        "df[:df.shape[0]*0.8]\n",
        "\n",
        "# 이전의 표준편차값\n",
        "prior = df['smp_col'].std()\n",
        "\n",
        "# 이후의 표준편차값\n",
        "# 결측치를 중간값으로 보정함\n",
        "post = df['smp_col'].fillna(fe['smp_col'].median()).std()\n",
        "\n",
        "# 전후차이\n",
        "diff = prior-post"
      ]
    },
    {
      "cell_type": "code",
      "execution_count": null,
      "metadata": {
        "id": "IxzSLkNjy0-o"
      },
      "outputs": [],
      "source": [
        "# mean과 std로 조건값 계산\n",
        "upper = mean + std*1.5\n",
        "lower = mean - ste*1.5\n",
        "\n",
        "# 이상치에 해당하는 값들의 합계\n",
        "df.loc[(df['smp_col']>=upper) | (df['smp_col']<=lower, 'smp_col')].sum()"
      ]
    },
    {
      "cell_type": "code",
      "execution_count": null,
      "metadata": {
        "id": "ogBUBxmCy0-p"
      },
      "outputs": [],
      "source": [
        "import sklearn.preprocessing as ps\n",
        "\n",
        "dir(ps.StandardScaler)"
      ]
    },
    {
      "cell_type": "markdown",
      "metadata": {
        "id": "7hG8uBkey0-p"
      },
      "source": [
        "## 작업형 2\n",
        "\n",
        "### 전처리"
      ]
    },
    {
      "cell_type": "code",
      "execution_count": null,
      "metadata": {
        "id": "tsL-fUluy0-q"
      },
      "outputs": [],
      "source": [
        "import pandas as pd\n",
        "import numpy as np\n",
        "import warnings\n",
        "\n",
        "warnings.filterwarnings('ignore')\n",
        "pd.set_option('max_rows', None)\n",
        "pd.set_option('max_columns', None)\n",
        "\n",
        "##### 데이터 불러오기\n",
        "X_train_raw = pd.read_csv('data/X_train.csv')\n",
        "y_train_raw = pd.read_csv('data/y_train.csv')\n",
        "X_test_raw = pd.read_csv('data/X_test.csv')\n",
        "\n",
        "X_raw = pd.concat([X_train_raw, X_test_raw]) #위 아래로 합치기,\n",
        "# Scaling 및 Onehot encoding을 위한 데이터\n",
        "train_raw =  pd.concat([X_train_raw, y_train_raw], axis=1) # 왼쪽 오른쪽으로 합치기\n",
        "# raw를 지우는 데이터 처리를 위한 데이터\n",
        "\n",
        "##### 데이터 특성 파악하기\n",
        "# X_train_raw.head()\n",
        "# X_train_raw.columns\n",
        "# X_train_raw.dtypes\n",
        "# X_train_raw.info() # 결측치 확인\n",
        "# X_train_raw.describe() #이상치 확인\n",
        "# ① 평균(mean)값보다 표준편차(std)가 크면 이상치가 있을 가능성이 높다고 판단하면 된다.\n",
        "# ② 평균(mean)값과 중앙값(50%)이 비슷해야 고른 분포를 가졌다고 생각할 수 있다.\n",
        "# ③ 중앙값(50%)을 기점으로 25%,min으로 가는 수치들의 편차나 75%,max가는 수치들의 편차를 보았을때\n",
        "\n",
        "# 불필요 변수\n",
        "COL_DEL = ['cust_id']\n",
        "# 수치형 변수\n",
        "COL_NUM = ['총구매액', '최대구매액', '환불금액','내점일수', '내점당구매건수','주말방문비율', '구매주기']\n",
        "# 범주형 변수 \n",
        "COL_CAT = ['주구매상품', '주구매지점']\n",
        "# 종속 변수\n",
        "COL_Y = ['gender']\n",
        "\n",
        "\n",
        "##### 불필요 변수 제외\n",
        "# X_train.drop('cust_id', axis=1, inplace=False) # False는 덮어씌우기\n",
        "X_train = X_train_raw.iloc[:, 1:]\n",
        "y_train = y_train_raw.iloc[:, 1:]\n",
        "X_test = X_test_raw.iloc[:, 1:]\n",
        "\n",
        "# 답안제출 용으로 ID만 따로 빼기\n",
        "X_test_id = X_test_raw.iloc[:, 0]\n",
        "\n",
        "# pd.concat([X_train, X_test]) #위 아래로 합치기 \n",
        "# pd.concat([X_train, y_train], axis=1) # 왼쪽 오른쪽으로 합치기\n",
        "\n",
        "\n",
        "\n",
        "##### 결측치 확인하고 보정하기  \n",
        "# 환불금액이 Nan이면 환불을 안한거니까 0이겠지... 하지만 추천을 받을 수도 있다.\n",
        "X_train[['환불금액']] = X_train[['환불금액']].fillna(0)\n",
        "#print(X_train[:, ['환불금액']])\n",
        "                                               \n",
        "X_test[['환불금액']] = X_test[['환불금액']].fillna(0)\n",
        "#print(X_test[['환불금액']])\n",
        "\n",
        "# 이 방법을 사용할 수도 있지.\n",
        "# from sklearn.impute import SimpleImputer\n",
        "# imputer = SimpleImputer(missing_values=np.nan, strategy='constant', fill_value=0)\n",
        "# X_train[['환불금액']] = imputer.fit_transform( X_train[['환불금액']] )\n",
        "\n",
        "\n",
        "\n",
        "##### document과 다른 이상한 변수 확인하기\n",
        "# 데이터가 이상하면 그냥 그 column을 불필요한 변수로 제외해도 된다.\n",
        "# X_train.drop('할인금액', axis=1, inplace=False) # False는 덮어씌우기\n",
        "# 치환하려면 아래같은 방식으로.\n",
        "# X_train.loc[X_train['할인금액']=='*7', '환불금액'] = 0\n",
        "\n",
        "\n",
        "\n",
        "##### 수치형 변수 - 이상치 확인 및 처리\n",
        "# X_train = X_train.loc[ X_train['총구매액']<=1000000 ]\n",
        "\n",
        "##### 수치형 변수 - 스케일링\n",
        "from sklearn.preprocessing import StandardScaler\n",
        "scaler = StandardScaler()\n",
        "scaler.fit(X_raw[COL_NUM])\n",
        "X_train[COL_NUM]=scaler.transform(X_train[COL_NUM])\n",
        "X_test[COL_NUM]=scaler.transform(X_test[COL_NUM])\n",
        "# print(  X_train.head(3) )\n",
        "\n",
        "\n",
        "##### 범주형 변수 - 글자 변수를 숫자로 바꾸기\n",
        "# X_train.loc[:, ['주구매상품', '주구매지점']]\n",
        "# from sklearn.preprocessing import LabelEncoder\n",
        "# X_train[COL_CAT] = X_train[COL_CAT].apply(LabelEncoder().fit_transform)\n",
        "# print(X_train[COL_CAT])\n",
        "\n",
        "\n",
        "##### 범주형 변수 - 그 다음 원핫 인코딩\n",
        "from sklearn.preprocessing import OneHotEncoder\n",
        "ohe = OneHotEncoder(handle_unknown = 'ignore')\n",
        "ohe.fit(X_train[COL_CAT])\n",
        "\n",
        "# numpy array로 변환\n",
        "X_train_res = ohe.transform(X_train[COL_CAT])\n",
        "X_test_res = ohe.transform(X_test[COL_CAT])\n",
        "\n",
        "# 다시 DF화 하기\n",
        "X_train_ohe = pd.DataFrame(X_train_res.todense(), columns = ohe.get_feature_names())\n",
        "X_test_ohe = pd.DataFrame(X_test_res.todense(), columns = ohe.get_feature_names())\n",
        "# print(X_train_ohe.head())\n",
        "\n",
        "X_train_fin = pd.concat([X_train[COL_NUM], X_train_ohe], axis=1)\n",
        "X_test_fin = pd.concat([X_test[COL_NUM], X_test_ohe], axis=1)\n",
        "# print(X_train_fin.head())\n",
        "# 원핫인코딩 대신 이 방법을 써도 된다... DF로 반환된다.\n",
        "# onehot = pd.get_dummies(X_test[['주구매상품', '주구매지점']])\n",
        "# onehot"
      ]
    },
    {
      "cell_type": "code",
      "execution_count": null,
      "metadata": {
        "id": "cxGfQ-BNy0-r"
      },
      "outputs": [],
      "source": [
        "##### 훈련데이터 분할\n",
        "# y의 클래스 비율에 맞게 분할 stratify\n",
        "\n",
        "from sklearn.model_selection import train_test_split\n",
        "X_tr, X_val, y_tr, y_val = train_test_split(X_train_fin, y_train, test_size=0.3)"
      ]
    },
    {
      "cell_type": "code",
      "execution_count": null,
      "metadata": {
        "id": "s9NBlbxRy0-s"
      },
      "outputs": [],
      "source": [
        "##### 모델학습하기\n",
        "\n",
        "# 로지스틱 회귀\n",
        "from sklearn.linear_model import LogisticRegression\n",
        "# C 값이 작을 수록 규제가 커지고 일반화\n",
        "model = LogisticRegression(C=0.1, random_state=0)\n",
        "model.fit(X_tr, y_tr)\n",
        "\n",
        "# KNN 분류\n",
        "from sklearn.neighbors import KNeighborsClassifier\n",
        "model = KNeighborsClassifier(n_neighbors=5, metric='euclidean')\n",
        "model.fit(X_tr, y_tr)\n",
        "\n",
        "# 랜덤포레스트\n",
        "from sklearn.ensemble import RandomForestClassifier\n",
        "model = RandomForestClassifier(n_estimators=100, max_depth=10)\n",
        "model.fit(X_tr, y_tr)\n",
        "\n",
        "# 의사결정나무\n",
        "from sklearn.tree import DecisionTreeClassifier\n",
        "model = DecisionTreeClassifier(max_depth=10)\n",
        "model.fit(X_tr, y_tr)\n",
        "\n",
        "# XGBoost\n",
        "from xgboost import XGBClassifier\n",
        "model = XGBClassifier(n_estimators=100, learning_rate=0.02, max_depth=10)\n",
        "xgb_model = model.fit(X_tr, y_tr, early_stopping_rounds=100, eval_metric='logloss',eval_set=[(X_val, y_val)])\n",
        "\n",
        "# 이미 결정해버림\n",
        "y_val_pred = model.predict(X_val)\n",
        "# [0일 확률, 1일 확률]확률값\n",
        "y_val_pred_proba = model.predict_proba(X_val)"
      ]
    },
    {
      "cell_type": "code",
      "execution_count": null,
      "metadata": {
        "id": "9O3TBBhay0-s"
      },
      "outputs": [],
      "source": [
        "##### 평가하기\n",
        "from sklearn.metrics import confusion_matrix, accuracy_score, precision_score, recall_score\n",
        "from sklearn.metrics import f1_score, roc_auc_score, classification_report, mean_squared_log_error\n",
        "\n",
        "# confusion_matrix\n",
        "score = confusion_matrix(y_val.iloc[:,0], y_val_pred_proba)\n",
        "\n",
        "# classification_report\n",
        "score = classification_report(y_val, y_val_pred_proba)\n",
        "\n",
        "# mean_squared_log_error\n",
        "score = mean_squared_log_error(y_val, y_val_pred_proba)\n",
        "\n",
        "# roc_auc_score\n",
        "score = roc_auc_score(y_val, y_val_pred_proba[:, 1])\n",
        "\n",
        "print( score )"
      ]
    },
    {
      "cell_type": "code",
      "execution_count": null,
      "metadata": {
        "id": "-VTu-J_My0-t"
      },
      "outputs": [],
      "source": [
        "##### 제출하기\n",
        "y_pred_proba = model.predict_proba(X_test_fin)\n",
        "\n",
        "y_test = 'data/20210915_김주현.csv'\n",
        "ans = pd.concat([X_test_id, pd.DataFrame(y_pred_proba[:, 1] ,columns=['1']) ], axis=1)\n",
        "ans.to_csv(y_test, index=False)"
      ]
    }
  ],
  "metadata": {
    "kernelspec": {
      "display_name": "Python 3",
      "language": "python",
      "name": "python3"
    },
    "language_info": {
      "codemirror_mode": {
        "name": "ipython",
        "version": 3
      },
      "file_extension": ".py",
      "mimetype": "text/x-python",
      "name": "python",
      "nbconvert_exporter": "python",
      "pygments_lexer": "ipython3",
      "version": "3.8.5"
    },
    "colab": {
      "name": "예제 풀이 답안.ipynb의 사본",
      "provenance": [],
      "include_colab_link": true
    }
  },
  "nbformat": 4,
  "nbformat_minor": 0
}