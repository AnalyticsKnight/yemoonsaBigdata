{
  "nbformat": 4,
  "nbformat_minor": 0,
  "metadata": {
    "colab": {
      "provenance": [],
      "include_colab_link": true
    },
    "kernelspec": {
      "name": "python3",
      "display_name": "Python 3"
    },
    "language_info": {
      "name": "python"
    }
  },
  "cells": [
    {
      "cell_type": "markdown",
      "metadata": {
        "id": "view-in-github",
        "colab_type": "text"
      },
      "source": [
        "<a href=\"https://colab.research.google.com/github/AnalyticsKnight/yemoonsaBigdata/blob/dev/src/P3_C2_PythonExam.ipynb\" target=\"_parent\"><img src=\"https://colab.research.google.com/assets/colab-badge.svg\" alt=\"Open In Colab\"/></a>"
      ]
    },
    {
      "cell_type": "markdown",
      "source": [
        "# **Chapter 2. 빅데이터분석기사 3회**"
      ],
      "metadata": {
        "id": "CeSIU7NxqpAD"
      }
    },
    {
      "cell_type": "markdown",
      "source": [
        "## 1. 필답형"
      ],
      "metadata": {
        "id": "MX3-XCZUqyfD"
      }
    },
    {
      "cell_type": "markdown",
      "source": [
        "## 2. 작업형 제1유형"
      ],
      "metadata": {
        "id": "fCTuF6dRq1UE"
      }
    },
    {
      "cell_type": "markdown",
      "source": [
        "#### 000 소스 및 데이터 동기화"
      ],
      "metadata": {
        "id": "ehtgdC2-8Asz"
      }
    },
    {
      "cell_type": "code",
      "source": [
        "!git clone https://github.com/AnalyticsKnight/yemoonsaBigdata/"
      ],
      "metadata": {
        "colab": {
          "base_uri": "https://localhost:8080/"
        },
        "id": "VqH3TusIsbzw",
        "outputId": "82cb6343-bf8d-41ae-883e-d5e8e71f0056"
      },
      "execution_count": null,
      "outputs": [
        {
          "output_type": "stream",
          "name": "stdout",
          "text": [
            "Cloning into 'yemoonsaBigdata'...\n",
            "remote: Enumerating objects: 538, done.\u001b[K\n",
            "remote: Counting objects: 100% (175/175), done.\u001b[K\n",
            "remote: Compressing objects: 100% (131/131), done.\u001b[K\n",
            "remote: Total 538 (delta 90), reused 49 (delta 44), pack-reused 363\u001b[K\n",
            "Receiving objects: 100% (538/538), 10.63 MiB | 15.26 MiB/s, done.\n",
            "Resolving deltas: 100% (275/275), done.\n"
          ]
        }
      ]
    },
    {
      "cell_type": "markdown",
      "source": [
        "### (1) 첫번째 문제"
      ],
      "metadata": {
        "id": "9HLg20Ynq_IF"
      }
    },
    {
      "cell_type": "markdown",
      "source": [
        "#### 221-01 데이터 불러오기"
      ],
      "metadata": {
        "id": "S26cLOolE4AH"
      }
    },
    {
      "cell_type": "code",
      "source": [
        "import pandas as pd\n",
        "\n",
        "df = pd.read_csv(\"/content/yemoonsaBigdata/datasets/Part3/301_housing.csv\")\n",
        "print(df.head())"
      ],
      "metadata": {
        "id": "2KodBGEJy5y1",
        "colab": {
          "base_uri": "https://localhost:8080/"
        },
        "outputId": "2aabcac4-cc5c-460e-cb5d-21c0316a98b8"
      },
      "execution_count": null,
      "outputs": [
        {
          "output_type": "stream",
          "name": "stdout",
          "text": [
            "   longitude  latitude  housing_median_age  total_rooms  total_bedrooms  \\\n",
            "0    -122.23     37.88                41.0        880.0           129.0   \n",
            "1    -122.22     37.86                21.0       7099.0          1106.0   \n",
            "2    -122.24     37.85                52.0       1467.0           190.0   \n",
            "3    -122.25     37.85                52.0       1274.0           235.0   \n",
            "4    -122.25     37.85                52.0       1627.0           280.0   \n",
            "\n",
            "   population  households  median_income  median_house_value ocean_proximity  \n",
            "0       322.0       126.0         8.3252            452600.0        NEAR BAY  \n",
            "1      2401.0      1138.0         8.3014            358500.0        NEAR BAY  \n",
            "2       496.0       177.0         7.2574            352100.0        NEAR BAY  \n",
            "3       558.0       219.0         5.6431            341300.0        NEAR BAY  \n",
            "4       565.0       259.0         3.8462            342200.0        NEAR BAY  \n"
          ]
        }
      ]
    },
    {
      "cell_type": "markdown",
      "source": [
        "#### 221-02 결측값 탐색하기"
      ],
      "metadata": {
        "id": "YrI8J0sKGW6t"
      }
    },
    {
      "cell_type": "code",
      "source": [
        "print(df.isnull().sum())"
      ],
      "metadata": {
        "colab": {
          "base_uri": "https://localhost:8080/"
        },
        "id": "5yysBmPMxoOT",
        "outputId": "78f3676c-df1f-4178-875b-ceceead42021"
      },
      "execution_count": null,
      "outputs": [
        {
          "output_type": "stream",
          "name": "stdout",
          "text": [
            "longitude               0\n",
            "latitude                0\n",
            "housing_median_age      0\n",
            "total_rooms             0\n",
            "total_bedrooms        207\n",
            "population              0\n",
            "households              0\n",
            "median_income           0\n",
            "median_house_value      0\n",
            "ocean_proximity         0\n",
            "dtype: int64\n"
          ]
        }
      ]
    },
    {
      "cell_type": "markdown",
      "source": [
        "#### 221-03 결측값 제거하기"
      ],
      "metadata": {
        "id": "lLwYEwleGcXK"
      }
    },
    {
      "cell_type": "code",
      "source": [
        "df_dropna = df.dropna().reset_index()\n",
        "\n",
        "print(\"원본데이터 건수 : \", len(df))\n",
        "print(\"결측값제거 데이터 건수 : \", len(df_dropna))"
      ],
      "metadata": {
        "colab": {
          "base_uri": "https://localhost:8080/"
        },
        "id": "Daoa2qeZxBJ5",
        "outputId": "a36caf22-3d4a-49c5-f1fe-9daed8a46971"
      },
      "execution_count": null,
      "outputs": [
        {
          "output_type": "stream",
          "name": "stdout",
          "text": [
            "원본데이터 건수 :  20640\n",
            "결측값제거 데이터 건수 :  20433\n"
          ]
        }
      ]
    },
    {
      "cell_type": "markdown",
      "source": [
        "#### 221-04 데이터 추출하기"
      ],
      "metadata": {
        "id": "4uTaIMDVGeeY"
      }
    },
    {
      "cell_type": "code",
      "source": [
        "rst_df = df_dropna.iloc[:int(len(df_dropna)*0.7)]\n",
        "\n",
        "print(\"70% 추출 데이터 건수 : \", len(rst_df))"
      ],
      "metadata": {
        "colab": {
          "base_uri": "https://localhost:8080/"
        },
        "id": "SJUTXOK9xT42",
        "outputId": "1c2463f6-6f22-4d21-bd4f-ef0d19e1bc6a"
      },
      "execution_count": null,
      "outputs": [
        {
          "output_type": "stream",
          "name": "stdout",
          "text": [
            "70% 추출 데이터 건수 :  14303\n"
          ]
        }
      ]
    },
    {
      "cell_type": "markdown",
      "source": [
        "#### 221-05 결과 출력하기"
      ],
      "metadata": {
        "id": "k5aO96_sGjLB"
      }
    },
    {
      "cell_type": "code",
      "source": [
        "result = int(rst_df['housing_median_age'].quantile(0.25))\n",
        "\n",
        "print(result)"
      ],
      "metadata": {
        "colab": {
          "base_uri": "https://localhost:8080/"
        },
        "id": "at_ZLxSiyJbz",
        "outputId": "bac35bcf-5ad3-45c6-c3df-f6c57a977ad6"
      },
      "execution_count": null,
      "outputs": [
        {
          "output_type": "stream",
          "name": "stdout",
          "text": [
            "19\n"
          ]
        }
      ]
    },
    {
      "cell_type": "code",
      "source": [
        "## 전체 풀이 코드\n",
        "\n",
        "import pandas as pd\n",
        "\n",
        "df = pd.read_csv(\"/content/yemoonsaBigdata/datasets/Part3/301_housing.csv\")\n",
        "\n",
        "df_dropna = df.dropna().reset_index()\n",
        "rst_df = df_dropna.iloc[:int(len(df_dropna)*0.7)]\n",
        "\n",
        "result = int(rst_df['housing_median_age'].quantile(0.25))\n",
        "\n",
        "print(result) # 최종 결과값만 print되도록 해야 합니다."
      ],
      "metadata": {
        "colab": {
          "base_uri": "https://localhost:8080/"
        },
        "id": "FaXVesT-sgE7",
        "outputId": "d973c69c-c7b0-423b-ed66-350e4946e451"
      },
      "execution_count": null,
      "outputs": [
        {
          "output_type": "stream",
          "name": "stdout",
          "text": [
            "19\n"
          ]
        }
      ]
    },
    {
      "cell_type": "markdown",
      "source": [
        "### (2) 두번째 문제"
      ],
      "metadata": {
        "id": "tMFQ7VQJrGq6"
      }
    },
    {
      "cell_type": "markdown",
      "source": [
        "#### 222-01 데이터 불러오기 & 탐색하기"
      ],
      "metadata": {
        "id": "KfYfFEY9G39I"
      }
    },
    {
      "cell_type": "code",
      "source": [
        "import pandas as pd\n",
        "\n",
        "df = pd.read_csv(\"/content/yemoonsaBigdata/datasets/Part3/302_worlddata.csv\")\n",
        "print(df.head(5))"
      ],
      "metadata": {
        "id": "7K0PwF-2zWkn",
        "colab": {
          "base_uri": "https://localhost:8080/"
        },
        "outputId": "a2898f4a-49cb-48a2-d29a-cdf7e761647b"
      },
      "execution_count": null,
      "outputs": [
        {
          "output_type": "stream",
          "name": "stdout",
          "text": [
            "   year  Afghanistan  Albania  Algeria  Andorra  Angola  Antigua & Barbuda  \\\n",
            "0  1999            0     89.0     25.0    245.0   217.0              102.0   \n",
            "1  2000            0    132.0      0.0    138.0    57.0              128.0   \n",
            "2  2001            0     54.0     14.0    312.0    45.0               45.0   \n",
            "3  2002            0      4.9      0.7     12.4     5.9                4.9   \n",
            "\n",
            "   Argentina  Armenia  Australia  ...  Tanzania    USA  Uruguay  Uzbekistan  \\\n",
            "0      193.0     21.0      261.0  ...      36.0  249.0    115.0        25.0   \n",
            "1       25.0    179.0       72.0  ...       6.0  158.0     35.0       101.0   \n",
            "2      221.0     11.0      212.0  ...       1.0   84.0    220.0         8.0   \n",
            "3        8.3      3.8       10.4  ...       5.7    8.7      6.6         2.4   \n",
            "\n",
            "   Vanuatu  Venezuela  Vietnam  Yemen  Zambia  Zimbabwe  \n",
            "0     21.0      333.0      111    6.0    32.0      64.0  \n",
            "1     18.0      100.0        2    0.0    19.0      18.0  \n",
            "2     11.0        3.0        1    0.0     4.0       4.0  \n",
            "3      0.9        7.7        2    0.1     2.5       4.7  \n",
            "\n",
            "[4 rows x 194 columns]\n"
          ]
        }
      ]
    },
    {
      "cell_type": "markdown",
      "source": [
        "####222-02 데이터 추출하기"
      ],
      "metadata": {
        "id": "vU4qaCQTHT_x"
      }
    },
    {
      "cell_type": "code",
      "source": [
        "df_2000 = df[df['year']==2000].drop('year', axis=1)\n",
        "print(df_2000)"
      ],
      "metadata": {
        "colab": {
          "base_uri": "https://localhost:8080/"
        },
        "id": "JhCURG6VzsxU",
        "outputId": "f7c01d43-2851-42f0-d528-4f3c7156243e"
      },
      "execution_count": null,
      "outputs": [
        {
          "output_type": "stream",
          "name": "stdout",
          "text": [
            "   Afghanistan  Albania  Algeria  Andorra  Angola  Antigua & Barbuda  \\\n",
            "1            0    132.0      0.0    138.0    57.0              128.0   \n",
            "\n",
            "   Argentina  Armenia  Australia  Austria  ...  Tanzania    USA  Uruguay  \\\n",
            "1       25.0    179.0       72.0     75.0  ...       6.0  158.0     35.0   \n",
            "\n",
            "   Uzbekistan  Vanuatu  Venezuela  Vietnam  Yemen  Zambia  Zimbabwe  \n",
            "1       101.0     18.0      100.0        2    0.0    19.0      18.0  \n",
            "\n",
            "[1 rows x 193 columns]\n"
          ]
        }
      ]
    },
    {
      "cell_type": "markdown",
      "source": [
        "####222-03 행/열 변환"
      ],
      "metadata": {
        "id": "60bXw5acIs3p"
      }
    },
    {
      "cell_type": "code",
      "source": [
        "df_2000.index = ['value']\n",
        "df_2000_T = df_2000.T\n",
        "print(df_2000_T)"
      ],
      "metadata": {
        "colab": {
          "base_uri": "https://localhost:8080/"
        },
        "id": "7OGmmtzQVIXP",
        "outputId": "212ba33b-c9fe-422a-d52b-e38f20d0b240"
      },
      "execution_count": null,
      "outputs": [
        {
          "output_type": "stream",
          "name": "stdout",
          "text": [
            "             value\n",
            "Afghanistan    0.0\n",
            "Albania      132.0\n",
            "Algeria        0.0\n",
            "Andorra      138.0\n",
            "Angola        57.0\n",
            "...            ...\n",
            "Venezuela    100.0\n",
            "Vietnam        2.0\n",
            "Yemen          0.0\n",
            "Zambia        19.0\n",
            "Zimbabwe      18.0\n",
            "\n",
            "[193 rows x 1 columns]\n"
          ]
        }
      ]
    },
    {
      "cell_type": "markdown",
      "source": [
        "####222-04 데이터 추출하기"
      ],
      "metadata": {
        "id": "4oSJugngJeQi"
      }
    },
    {
      "cell_type": "code",
      "source": [
        "rst_df = df_2000_T[df_2000_T['value'] > df_2000_T['value'].mean()]\n",
        "print(rst_df)"
      ],
      "metadata": {
        "colab": {
          "base_uri": "https://localhost:8080/"
        },
        "id": "2C19cLkj2ne9",
        "outputId": "5c80f918-a839-4c7f-b7e1-234c7b5dcd55"
      },
      "execution_count": null,
      "outputs": [
        {
          "output_type": "stream",
          "name": "stdout",
          "text": [
            "                      value\n",
            "Albania               132.0\n",
            "Andorra               138.0\n",
            "Antigua & Barbuda     128.0\n",
            "Armenia               179.0\n",
            "Bahamas               176.0\n",
            "...                     ...\n",
            "United Arab Emirates  135.0\n",
            "United Kingdom        126.0\n",
            "USA                   158.0\n",
            "Uzbekistan            101.0\n",
            "Venezuela             100.0\n",
            "\n",
            "[76 rows x 1 columns]\n"
          ]
        }
      ]
    },
    {
      "cell_type": "markdown",
      "source": [
        "####222-05 결과 출력하기"
      ],
      "metadata": {
        "id": "9g7ih7XoJ5_v"
      }
    },
    {
      "cell_type": "code",
      "source": [
        "result = len(rst_df)\n",
        "print(result)"
      ],
      "metadata": {
        "colab": {
          "base_uri": "https://localhost:8080/"
        },
        "id": "dV3wofUr2wdZ",
        "outputId": "141b88c3-3f22-47a0-bdfd-bc908fccde9a"
      },
      "execution_count": null,
      "outputs": [
        {
          "output_type": "stream",
          "name": "stdout",
          "text": [
            "76\n"
          ]
        }
      ]
    },
    {
      "cell_type": "code",
      "source": [
        "## 전체 풀이 코드\n",
        "\n",
        "import pandas as pd\n",
        "\n",
        "df = pd.read_csv(\"/content/yemoonsaBigdata/datasets/Part3/302_worlddata.csv\")\n",
        "\n",
        "df_2000 = df[df['year']==2000].drop('year', axis=1)\n",
        "df_2000.index = ['value']\n",
        "df_2000_T = df_2000.T\n",
        "rst_df = df_2000_T[df_2000_T['value'] > df_2000_T['value'].mean()]\n",
        "\n",
        "result = len(rst_df)\n",
        "\n",
        "print(result) # 최종 결과값만 print되도록 해야 합니다."
      ],
      "metadata": {
        "id": "PqF9Ki13Ueuc",
        "colab": {
          "base_uri": "https://localhost:8080/"
        },
        "outputId": "2e720c50-0abe-4352-9437-e49405513a40"
      },
      "execution_count": null,
      "outputs": [
        {
          "output_type": "stream",
          "name": "stdout",
          "text": [
            "76\n"
          ]
        }
      ]
    },
    {
      "cell_type": "markdown",
      "source": [
        "### (3) 세번째 문제"
      ],
      "metadata": {
        "id": "fA1Gkq1RrHrx"
      }
    },
    {
      "cell_type": "markdown",
      "source": [
        "#### 223-01 데이터 불러오기"
      ],
      "metadata": {
        "id": "TA3yptevKJaK"
      }
    },
    {
      "cell_type": "code",
      "source": [
        "import pandas as pd\n",
        "\n",
        "df = pd.read_csv(\"/content/yemoonsaBigdata/datasets/Part3/303_titanic.csv\")\n",
        "print(df.head(5))"
      ],
      "metadata": {
        "id": "8ImtqP-I-kwZ",
        "colab": {
          "base_uri": "https://localhost:8080/"
        },
        "outputId": "c2edd8be-23cd-46e6-9b58-536b33aa77f5"
      },
      "execution_count": null,
      "outputs": [
        {
          "output_type": "stream",
          "name": "stdout",
          "text": [
            "   PassengerId  Survived  Pclass  \\\n",
            "0            1         0       3   \n",
            "1            2         1       1   \n",
            "2            3         1       3   \n",
            "3            4         1       1   \n",
            "4            5         0       3   \n",
            "\n",
            "                                                Name     Sex   Age  SibSp  \\\n",
            "0                            Braund, Mr. Owen Harris    male  22.0      1   \n",
            "1  Cumings, Mrs. John Bradley (Florence Briggs Th...  female  38.0      1   \n",
            "2                             Heikkinen, Miss. Laina  female  26.0      0   \n",
            "3       Futrelle, Mrs. Jacques Heath (Lily May Peel)  female  35.0      1   \n",
            "4                           Allen, Mr. William Henry    male  35.0      0   \n",
            "\n",
            "   Parch            Ticket     Fare Cabin Embarked  \n",
            "0      0         A/5 21171   7.2500   NaN        S  \n",
            "1      0          PC 17599  71.2833   C85        C  \n",
            "2      0  STON/O2. 3101282   7.9250   C85        S  \n",
            "3      0            113803  53.1000  C123        S  \n",
            "4      0            373450   8.0500  C123        S  \n"
          ]
        }
      ]
    },
    {
      "cell_type": "markdown",
      "source": [
        "#### 223-02 결측값 개수 세기"
      ],
      "metadata": {
        "id": "apDKrYrbKpwZ"
      }
    },
    {
      "cell_type": "code",
      "source": [
        "rst_df = df.isnull().sum().reset_index()\n",
        "rst_df.columns = ['var', 'count']\n",
        "print(rst_df)"
      ],
      "metadata": {
        "colab": {
          "base_uri": "https://localhost:8080/"
        },
        "id": "nq1yWwyE_AJ0",
        "outputId": "3356f3c3-5e02-4779-c070-ce324d766ccc"
      },
      "execution_count": null,
      "outputs": [
        {
          "output_type": "stream",
          "name": "stdout",
          "text": [
            "            var  count\n",
            "0   PassengerId      0\n",
            "1      Survived      0\n",
            "2        Pclass      0\n",
            "3          Name      0\n",
            "4           Sex      0\n",
            "5           Age    177\n",
            "6         SibSp      0\n",
            "7         Parch      0\n",
            "8        Ticket      0\n",
            "9          Fare      0\n",
            "10        Cabin    118\n",
            "11     Embarked      2\n"
          ]
        }
      ]
    },
    {
      "cell_type": "markdown",
      "source": [
        "#### 223-03 결과 출력하기"
      ],
      "metadata": {
        "id": "SwoV1ZsKLY2n"
      }
    },
    {
      "cell_type": "code",
      "source": [
        "result = rst_df.loc[rst_df['count']==rst_df['count'].max(), 'var'].values[0]\n",
        "print(result)"
      ],
      "metadata": {
        "colab": {
          "base_uri": "https://localhost:8080/"
        },
        "id": "qag9Gur6BRV2",
        "outputId": "dc86988c-1a1a-4866-e36f-bc442b3086e4"
      },
      "execution_count": null,
      "outputs": [
        {
          "output_type": "stream",
          "name": "stdout",
          "text": [
            "Age\n"
          ]
        }
      ]
    },
    {
      "cell_type": "code",
      "source": [
        "## 참고 - 뒤에 values[0]이 없을 경우 \n",
        "result = rst_df.loc[rst_df['count']==rst_df['count'].max(), 'var']\n",
        "print(result) # 결과 값이 Series형태로 나옴"
      ],
      "metadata": {
        "colab": {
          "base_uri": "https://localhost:8080/"
        },
        "id": "lDrGvxIjY2dK",
        "outputId": "8f2fde8f-1503-4037-e923-f1c5b4dd6f04"
      },
      "execution_count": null,
      "outputs": [
        {
          "output_type": "stream",
          "name": "stdout",
          "text": [
            "5    Age\n",
            "Name: var, dtype: object\n"
          ]
        }
      ]
    },
    {
      "cell_type": "code",
      "source": [
        "## 전체 풀이 코드\n",
        "\n",
        "import pandas as pd\n",
        "\n",
        "df = pd.read_csv(\"/content/yemoonsaBigdata/datasets/Part3/303_titanic.csv\")\n",
        "\n",
        "rst_df = df.isnull().sum().reset_index()\n",
        "rst_df.columns = ['var', 'count']\n",
        "\n",
        "result = rst_df.loc[rst_df['count']==rst_df['count'].max(), 'var'].values[0]\n",
        "\n",
        "print(result) # 최종 결과값만 print되도록 해야 합니다."
      ],
      "metadata": {
        "colab": {
          "base_uri": "https://localhost:8080/"
        },
        "id": "UnKFWX2xZhKL",
        "outputId": "5b3451a7-0d66-4c28-9e5e-e97dfa54db79"
      },
      "execution_count": null,
      "outputs": [
        {
          "output_type": "stream",
          "name": "stdout",
          "text": [
            "Age\n"
          ]
        }
      ]
    },
    {
      "cell_type": "markdown",
      "source": [
        "## 3. 작업형 제2유형"
      ],
      "metadata": {
        "id": "ByCjNiHHq3_Y"
      }
    },
    {
      "cell_type": "markdown",
      "source": [
        "### (1) 사전 준비"
      ],
      "metadata": {
        "id": "uXinBWrlrI-V"
      }
    },
    {
      "cell_type": "markdown",
      "source": [
        "#### 231-01. 데이터 불러오기 "
      ],
      "metadata": {
        "id": "m0DcJ3p_ML-R"
      }
    },
    {
      "cell_type": "code",
      "execution_count": null,
      "metadata": {
        "id": "-7leAN-0qSWW"
      },
      "outputs": [],
      "source": [
        "# 출력을 원하실 경우 print() 함수 활용\n",
        "# 예시) print(df.head())\n",
        "\n",
        "# getcwd(), chdir() 등 작업 폴더 설정 불필요\n",
        "# 파일 경로 상 내부 드라이브 경로(C: 등) 접근 불가\n",
        "\n",
        "# 데이터 파일 읽기 예제\n",
        "import pandas as pd\n",
        "X_test = pd.read_csv(\"yemoonsaBigdata/datasets/Part3/304_x_test.csv\")\n",
        "X_train = pd.read_csv(\"yemoonsaBigdata/datasets/Part3/304_x_train.csv\")\n",
        "y_train = pd.read_csv(\"yemoonsaBigdata/datasets/Part3/304_y_train.csv\")\n",
        "\n",
        "# 사용자 코딩\n",
        "\n",
        "# 답안 제출 참고\n",
        "# 아래 코드 예측변수와 수험번호를 개인별로 변경하여 활용\n",
        "# pd.DataFrame({'index': X_test.index, 'y_pred': pred}).to_csv('003000000.csv', index=False)"
      ]
    },
    {
      "cell_type": "code",
      "source": [
        "print(X_train.head())"
      ],
      "metadata": {
        "colab": {
          "base_uri": "https://localhost:8080/"
        },
        "id": "pg5zUSVWaf72",
        "outputId": "e941ec13-69a5-4669-e15c-fed4a7feb179"
      },
      "execution_count": null,
      "outputs": [
        {
          "output_type": "stream",
          "name": "stdout",
          "text": [
            "     ID  Age               Employment Type GraduateOrNot  AnnualIncome  \\\n",
            "0  1704   26  Private Sector/Self Employed           Yes       1400000   \n",
            "1   491   28  Private Sector/Self Employed           Yes       1100000   \n",
            "2   414   33  Private Sector/Self Employed           Yes       1400000   \n",
            "3   120   28  Private Sector/Self Employed           Yes        800000   \n",
            "4  1268   33             Government Sector           Yes       1000000   \n",
            "\n",
            "   FamilyMembers  ChronicDiseases FrequentFlyer EverTravelledAbroad  \n",
            "0              3                1            No                 Yes  \n",
            "1              4                1            No                  No  \n",
            "2              4                0            No                 Yes  \n",
            "3              3                1            No                  No  \n",
            "4              5                0            No                 Yes  \n"
          ]
        }
      ]
    },
    {
      "cell_type": "code",
      "source": [
        "print(y_train.head())"
      ],
      "metadata": {
        "colab": {
          "base_uri": "https://localhost:8080/"
        },
        "id": "cBtHxh8hagmf",
        "outputId": "6b6f2d59-b4de-489c-ebfe-4f0b1860701a"
      },
      "execution_count": null,
      "outputs": [
        {
          "output_type": "stream",
          "name": "stdout",
          "text": [
            "     ID  TravelInsurance\n",
            "0  1704                0\n",
            "1   491                1\n",
            "2   414                1\n",
            "3   120                0\n",
            "4  1268                1\n"
          ]
        }
      ]
    },
    {
      "cell_type": "code",
      "source": [
        "print(X_test.head())"
      ],
      "metadata": {
        "colab": {
          "base_uri": "https://localhost:8080/"
        },
        "id": "R0EDGI-faiTL",
        "outputId": "0f9b6d88-8bd8-4ac0-a7e0-3c4805d4ee36"
      },
      "execution_count": null,
      "outputs": [
        {
          "output_type": "stream",
          "name": "stdout",
          "text": [
            "     ID  Age               Employment Type GraduateOrNot  AnnualIncome  \\\n",
            "0  1569   27             Government Sector           Yes        500000   \n",
            "1  1344   25  Private Sector/Self Employed           Yes       1700000   \n",
            "2  1429   32             Government Sector           Yes        650000   \n",
            "3   896   33             Government Sector           Yes        600000   \n",
            "4   101   33  Private Sector/Self Employed           Yes       1500000   \n",
            "\n",
            "   FamilyMembers  ChronicDiseases FrequentFlyer EverTravelledAbroad  \n",
            "0              5                0            No                  No  \n",
            "1              3                0           Yes                  No  \n",
            "2              3                0            No                  No  \n",
            "3              4                0            No                  No  \n",
            "4              3                1           Yes                 Yes  \n"
          ]
        }
      ]
    },
    {
      "cell_type": "markdown",
      "source": [
        "### (2) 데이터 전처리"
      ],
      "metadata": {
        "id": "PUFQrNhZapZC"
      }
    },
    {
      "cell_type": "markdown",
      "source": [
        "#### 232-01. 데이터 확인하기"
      ],
      "metadata": {
        "id": "OYDxB1cGNH01"
      }
    },
    {
      "cell_type": "code",
      "source": [
        "print(X_train.info())"
      ],
      "metadata": {
        "id": "9uYnCSqgCbEP",
        "colab": {
          "base_uri": "https://localhost:8080/"
        },
        "outputId": "72d1e7bb-ed16-4674-d7e7-a712db94b84d"
      },
      "execution_count": null,
      "outputs": [
        {
          "output_type": "stream",
          "name": "stdout",
          "text": [
            "<class 'pandas.core.frame.DataFrame'>\n",
            "RangeIndex: 1490 entries, 0 to 1489\n",
            "Data columns (total 9 columns):\n",
            " #   Column               Non-Null Count  Dtype \n",
            "---  ------               --------------  ----- \n",
            " 0   ID                   1490 non-null   int64 \n",
            " 1   Age                  1490 non-null   int64 \n",
            " 2   Employment Type      1490 non-null   object\n",
            " 3   GraduateOrNot        1490 non-null   object\n",
            " 4   AnnualIncome         1490 non-null   int64 \n",
            " 5   FamilyMembers        1490 non-null   int64 \n",
            " 6   ChronicDiseases      1490 non-null   int64 \n",
            " 7   FrequentFlyer        1490 non-null   object\n",
            " 8   EverTravelledAbroad  1490 non-null   object\n",
            "dtypes: int64(5), object(4)\n",
            "memory usage: 104.9+ KB\n",
            "None\n"
          ]
        }
      ]
    },
    {
      "cell_type": "code",
      "source": [
        "print(y_train.info())"
      ],
      "metadata": {
        "colab": {
          "base_uri": "https://localhost:8080/"
        },
        "id": "ff7EsFXOax6I",
        "outputId": "e45fe705-6d56-47cd-add0-202d69d95778"
      },
      "execution_count": null,
      "outputs": [
        {
          "output_type": "stream",
          "name": "stdout",
          "text": [
            "<class 'pandas.core.frame.DataFrame'>\n",
            "RangeIndex: 1490 entries, 0 to 1489\n",
            "Data columns (total 2 columns):\n",
            " #   Column           Non-Null Count  Dtype\n",
            "---  ------           --------------  -----\n",
            " 0   ID               1490 non-null   int64\n",
            " 1   TravelInsurance  1490 non-null   int64\n",
            "dtypes: int64(2)\n",
            "memory usage: 23.4 KB\n",
            "None\n"
          ]
        }
      ]
    },
    {
      "cell_type": "code",
      "source": [
        "print(X_test.info())"
      ],
      "metadata": {
        "colab": {
          "base_uri": "https://localhost:8080/"
        },
        "id": "IbSBAB_pazXU",
        "outputId": "e14d303c-7794-416c-8fac-02fb9adcca93"
      },
      "execution_count": null,
      "outputs": [
        {
          "output_type": "stream",
          "name": "stdout",
          "text": [
            "<class 'pandas.core.frame.DataFrame'>\n",
            "RangeIndex: 497 entries, 0 to 496\n",
            "Data columns (total 9 columns):\n",
            " #   Column               Non-Null Count  Dtype \n",
            "---  ------               --------------  ----- \n",
            " 0   ID                   497 non-null    int64 \n",
            " 1   Age                  497 non-null    int64 \n",
            " 2   Employment Type      497 non-null    object\n",
            " 3   GraduateOrNot        497 non-null    object\n",
            " 4   AnnualIncome         497 non-null    int64 \n",
            " 5   FamilyMembers        497 non-null    int64 \n",
            " 6   ChronicDiseases      497 non-null    int64 \n",
            " 7   FrequentFlyer        497 non-null    object\n",
            " 8   EverTravelledAbroad  497 non-null    object\n",
            "dtypes: int64(5), object(4)\n",
            "memory usage: 35.1+ KB\n",
            "None\n"
          ]
        }
      ]
    },
    {
      "cell_type": "markdown",
      "source": [
        "#### 232-02. 변수별 결측치 수 확인"
      ],
      "metadata": {
        "id": "O5s6Pzx3NZPP"
      }
    },
    {
      "cell_type": "code",
      "source": [
        "X_train.isnull().sum()"
      ],
      "metadata": {
        "colab": {
          "base_uri": "https://localhost:8080/"
        },
        "id": "vQVcZJ-29XI-",
        "outputId": "e89d7306-51d2-4a8f-abaa-80acfc5445c6"
      },
      "execution_count": null,
      "outputs": [
        {
          "output_type": "execute_result",
          "data": {
            "text/plain": [
              "ID                     0\n",
              "Age                    0\n",
              "Employment Type        0\n",
              "GraduateOrNot          0\n",
              "AnnualIncome           0\n",
              "FamilyMembers          0\n",
              "ChronicDiseases        0\n",
              "FrequentFlyer          0\n",
              "EverTravelledAbroad    0\n",
              "dtype: int64"
            ]
          },
          "metadata": {},
          "execution_count": 26
        }
      ]
    },
    {
      "cell_type": "code",
      "source": [
        "X_test.isnull().sum()"
      ],
      "metadata": {
        "colab": {
          "base_uri": "https://localhost:8080/"
        },
        "id": "yKQsNQmia-sV",
        "outputId": "650a8d03-2c23-44e5-c952-cbb31dc2ed6f"
      },
      "execution_count": null,
      "outputs": [
        {
          "output_type": "execute_result",
          "data": {
            "text/plain": [
              "ID                     0\n",
              "Age                    0\n",
              "Employment Type        0\n",
              "GraduateOrNot          0\n",
              "AnnualIncome           0\n",
              "FamilyMembers          0\n",
              "ChronicDiseases        0\n",
              "FrequentFlyer          0\n",
              "EverTravelledAbroad    0\n",
              "dtype: int64"
            ]
          },
          "metadata": {},
          "execution_count": 27
        }
      ]
    },
    {
      "cell_type": "code",
      "source": [
        "y_train.isnull().sum()"
      ],
      "metadata": {
        "colab": {
          "base_uri": "https://localhost:8080/"
        },
        "id": "xkSa8evSa-C6",
        "outputId": "f307cac3-463b-4c90-f87c-7527fa7d2c89"
      },
      "execution_count": null,
      "outputs": [
        {
          "output_type": "execute_result",
          "data": {
            "text/plain": [
              "ID                 0\n",
              "TravelInsurance    0\n",
              "dtype: int64"
            ]
          },
          "metadata": {},
          "execution_count": 28
        }
      ]
    },
    {
      "cell_type": "markdown",
      "source": [
        "#### 232-03. 변수 구분"
      ],
      "metadata": {
        "id": "twtjHaxaOQ1L"
      }
    },
    {
      "cell_type": "code",
      "source": [
        "# ID: 불필요한 변수\n",
        "# Age, AnnualIncome, FamilyMembers, ChronicDiseases: 수치형 변수\n",
        "# Employment Type, GraduateOrNot, FrequentFlyer, EverTravelledAbroad: 범주형 변수\n",
        "# TravelInsurance: 종속 변수\n",
        "\n",
        "COL_DEL = ['ID']\n",
        "COL_NUM = ['Age', 'AnnualIncome', 'FamilyMembers', 'ChronicDiseases']\n",
        "COL_CAT = ['Employment Type', 'GraduateOrNot', 'FrequentFlyer', 'EverTravelledAbroad']\n",
        "COL_Y = ['TravelInsurance']"
      ],
      "metadata": {
        "id": "yoF77ZSvIpkj"
      },
      "execution_count": null,
      "outputs": []
    },
    {
      "cell_type": "markdown",
      "source": [
        "### (3) 데이터 모형 구축"
      ],
      "metadata": {
        "id": "Bpgn4ywnbv7b"
      }
    },
    {
      "cell_type": "markdown",
      "source": [
        "#### 233-01. 데이터 분할"
      ],
      "metadata": {
        "id": "jGrnip8AOnz3"
      }
    },
    {
      "cell_type": "code",
      "source": [
        "from sklearn.model_selection import train_test_split\n",
        "X_tr, X_val, y_tr, y_val = train_test_split(X_train[COL_NUM+COL_CAT]\n",
        "                                            , y_train[COL_Y].values.ravel()\n",
        "                                            , test_size=0.3\n",
        "                                            , stratify=y_train[COL_Y].values.ravel())"
      ],
      "metadata": {
        "id": "aPLno6-2KfCh"
      },
      "execution_count": null,
      "outputs": []
    },
    {
      "cell_type": "code",
      "source": [
        "print(X_tr.head())"
      ],
      "metadata": {
        "colab": {
          "base_uri": "https://localhost:8080/"
        },
        "id": "WbcC9KJGcSyG",
        "outputId": "5a9d38e3-aba0-4144-8754-419a65505402"
      },
      "execution_count": null,
      "outputs": [
        {
          "output_type": "stream",
          "name": "stdout",
          "text": [
            "      Age  AnnualIncome  FamilyMembers  ChronicDiseases  \\\n",
            "545    34       1050000              7                1   \n",
            "484    26        600000              6                0   \n",
            "1162   29        900000              6                0   \n",
            "647    28        650000              4                0   \n",
            "45     33        800000              3                0   \n",
            "\n",
            "                   Employment Type GraduateOrNot FrequentFlyer  \\\n",
            "545   Private Sector/Self Employed           Yes            No   \n",
            "484   Private Sector/Self Employed           Yes           Yes   \n",
            "1162  Private Sector/Self Employed           Yes           Yes   \n",
            "647   Private Sector/Self Employed           Yes            No   \n",
            "45               Government Sector           Yes            No   \n",
            "\n",
            "     EverTravelledAbroad  \n",
            "545                   No  \n",
            "484                   No  \n",
            "1162                  No  \n",
            "647                   No  \n",
            "45                    No  \n"
          ]
        }
      ]
    },
    {
      "cell_type": "code",
      "source": [
        "print(y_tr)"
      ],
      "metadata": {
        "colab": {
          "base_uri": "https://localhost:8080/"
        },
        "id": "yYldkwnvcTD5",
        "outputId": "38f7f128-5cc9-4efc-dc27-7d74044658e3"
      },
      "execution_count": null,
      "outputs": [
        {
          "output_type": "stream",
          "name": "stdout",
          "text": [
            "[1 0 1 ... 0 1 1]\n"
          ]
        }
      ]
    },
    {
      "cell_type": "markdown",
      "source": [
        "#### 233-02. 수치형 변수 - 데이터 스케일링 "
      ],
      "metadata": {
        "id": "-imp6o_UPnzf"
      }
    },
    {
      "cell_type": "code",
      "source": [
        "from sklearn.preprocessing import StandardScaler\n",
        "\n",
        "scaler = StandardScaler()\n",
        "scaler.fit(X_tr[COL_NUM])\n",
        "\n",
        "X_tr[COL_NUM]   = scaler.transform(X_tr[COL_NUM])\n",
        "X_val[COL_NUM]  = scaler.transform(X_val[COL_NUM])\n",
        "X_test[COL_NUM] = scaler.transform(X_test[COL_NUM])"
      ],
      "metadata": {
        "id": "DMc6xRGHBuoN"
      },
      "execution_count": null,
      "outputs": []
    },
    {
      "cell_type": "code",
      "source": [
        "print(X_tr[COL_NUM].head())"
      ],
      "metadata": {
        "colab": {
          "base_uri": "https://localhost:8080/"
        },
        "id": "94b30fp9cniK",
        "outputId": "972c7d97-6ba2-4817-8fdd-c8528963151b"
      },
      "execution_count": null,
      "outputs": [
        {
          "output_type": "stream",
          "name": "stdout",
          "text": [
            "           Age  AnnualIncome  FamilyMembers  ChronicDiseases\n",
            "545   1.498696      0.302894       1.418144         1.551933\n",
            "484  -1.243053     -0.902390       0.803124        -0.644358\n",
            "1162 -0.214897     -0.098867       0.803124        -0.644358\n",
            "647  -0.557616     -0.768469      -0.426917        -0.644358\n",
            "45    1.155977     -0.366708      -1.041938        -0.644358\n"
          ]
        }
      ]
    },
    {
      "cell_type": "markdown",
      "source": [
        "#### 233-03. 범주형 변수 - 데이터 인코딩"
      ],
      "metadata": {
        "id": "xjp_0Or1P0D6"
      }
    },
    {
      "cell_type": "code",
      "source": [
        "from sklearn.preprocessing import LabelEncoder\n",
        "\n",
        "X = pd.concat([X_train[COL_CAT], X_test[COL_CAT]])\n",
        "\n",
        "for col in COL_CAT:\n",
        "  le = LabelEncoder()\n",
        "  le.fit(X[col])\n",
        "  X_tr[col] = le.transform(X_tr[col])\n",
        "  X_val[col] = le.transform(X_val[col])\n",
        "  X_test[col] = le.transform(X_test[col])\n",
        "\n",
        "  # 각 변수의 클래스 확인\n",
        "  print(col)\n",
        "  print(le.classes_)\n",
        "  print('\\n')"
      ],
      "metadata": {
        "id": "SCKNST8bBykw",
        "colab": {
          "base_uri": "https://localhost:8080/"
        },
        "outputId": "a1e874fe-b213-4046-8dff-6606736879de"
      },
      "execution_count": null,
      "outputs": [
        {
          "output_type": "stream",
          "name": "stdout",
          "text": [
            "Employment Type\n",
            "['Government Sector' 'Private Sector/Self Employed']\n",
            "\n",
            "\n",
            "GraduateOrNot\n",
            "['No' 'Yes']\n",
            "\n",
            "\n",
            "FrequentFlyer\n",
            "['No' 'Yes']\n",
            "\n",
            "\n",
            "EverTravelledAbroad\n",
            "['No' 'Yes']\n",
            "\n",
            "\n"
          ]
        }
      ]
    },
    {
      "cell_type": "code",
      "source": [
        "print(X_tr[COL_CAT].head())"
      ],
      "metadata": {
        "colab": {
          "base_uri": "https://localhost:8080/"
        },
        "id": "xdOKDV6LczGg",
        "outputId": "b1821ca9-ccba-4cae-8f67-f9b4aa3c9893"
      },
      "execution_count": null,
      "outputs": [
        {
          "output_type": "stream",
          "name": "stdout",
          "text": [
            "      Employment Type  GraduateOrNot  FrequentFlyer  EverTravelledAbroad\n",
            "545                 1              1              0                    0\n",
            "484                 1              1              1                    0\n",
            "1162                1              1              1                    0\n",
            "647                 1              1              0                    0\n",
            "45                  0              1              0                    0\n"
          ]
        }
      ]
    },
    {
      "cell_type": "markdown",
      "source": [
        "#### 333-04. 모형 학습"
      ],
      "metadata": {
        "id": "q-OqXRn8QZO5"
      }
    },
    {
      "cell_type": "code",
      "source": [
        "## 1) 랜덤 포레스트\n",
        "from sklearn.ensemble import RandomForestClassifier\n",
        "modelRF = RandomForestClassifier(random_state=123)\n",
        "modelRF.fit(X_tr, y_tr)\n",
        "\n",
        "## 2) XGBoost\n",
        "from xgboost import XGBClassifier\n",
        "modelXGB = XGBClassifier(random_state=123)\n",
        "modelXGB.fit(X_tr, y_tr)"
      ],
      "metadata": {
        "id": "wAaYKoUuCEJm",
        "colab": {
          "base_uri": "https://localhost:8080/"
        },
        "outputId": "c8950c17-7f77-495b-f3f4-17214ee5b5c1"
      },
      "execution_count": null,
      "outputs": [
        {
          "output_type": "execute_result",
          "data": {
            "text/plain": [
              "XGBClassifier(random_state=123)"
            ]
          },
          "metadata": {},
          "execution_count": 37
        }
      ]
    },
    {
      "cell_type": "markdown",
      "source": [
        "### (4) 데이터 모형 평가"
      ],
      "metadata": {
        "id": "Y7t6uZxLRPkn"
      }
    },
    {
      "cell_type": "markdown",
      "source": [
        "#### 234-01. 검증 데이터로 예측값 생성"
      ],
      "metadata": {
        "id": "4Y-fxymCdE0B"
      }
    },
    {
      "cell_type": "code",
      "source": [
        "y_val_predRF = modelRF.predict_proba(X_val)[:, 1]\n",
        "y_val_predXGB = modelXGB.predict_proba(X_val)[:, 1]"
      ],
      "metadata": {
        "id": "kIeTjvEvCLJ_"
      },
      "execution_count": null,
      "outputs": []
    },
    {
      "cell_type": "markdown",
      "source": [
        "#### 234-02. 평가지표 구하기"
      ],
      "metadata": {
        "id": "SIpRj3xRSmNc"
      }
    },
    {
      "cell_type": "code",
      "source": [
        "## 답안 채점 기준인 roc_auc 사용\n",
        "from sklearn.metrics import roc_auc_score\n",
        "\n",
        "scoreRF = roc_auc_score(y_val, y_val_predRF)\n",
        "scoreXGB = roc_auc_score(y_val, y_val_predXGB)\n",
        "\n",
        "print('Random Forest: \\t', scoreRF)\n",
        "print('XGBoost: \\t', scoreXGB)"
      ],
      "metadata": {
        "colab": {
          "base_uri": "https://localhost:8080/"
        },
        "id": "F7UXEthASoU_",
        "outputId": "13364bcb-3cfa-465d-c99d-e359af3d13be"
      },
      "execution_count": null,
      "outputs": [
        {
          "output_type": "stream",
          "name": "stdout",
          "text": [
            "Random Forest: \t 0.807050032488629\n",
            "XGBoost: \t 0.8169482347844921\n"
          ]
        }
      ]
    },
    {
      "cell_type": "markdown",
      "source": [
        "#### 234-03. 학습, 검증 성능 확인 함수"
      ],
      "metadata": {
        "id": "NBRqE8YWTxaM"
      }
    },
    {
      "cell_type": "code",
      "source": [
        "def get_scores(model, X_tr, X_val, y_tr, y_val):\n",
        "\n",
        "  y_tr_pred = model.predict_proba(X_tr)[:, 1]\n",
        "  y_val_pred = model.predict_proba(X_val)[:, 1]\n",
        "  tr_score = roc_auc_score(y_tr, y_tr_pred)\n",
        "  val_score = roc_auc_score(y_val, y_val_pred)\n",
        "\n",
        "  return f'train: {round(tr_score, 4)}, valid: {round(val_score, 4)}'"
      ],
      "metadata": {
        "id": "CEzyZX0lIrrP"
      },
      "execution_count": null,
      "outputs": []
    },
    {
      "cell_type": "code",
      "source": [
        "print('Random Forest \\t-', get_scores(modelRF, X_tr, X_val, y_tr, y_val))\n",
        "print('XGBoost \\t-', get_scores(modelXGB, X_tr, X_val, y_tr, y_val))"
      ],
      "metadata": {
        "colab": {
          "base_uri": "https://localhost:8080/"
        },
        "id": "3dSkJdRMdkaP",
        "outputId": "8b0a6a7e-a9c9-456e-c4a7-c9d61843f7d1"
      },
      "execution_count": null,
      "outputs": [
        {
          "output_type": "stream",
          "name": "stdout",
          "text": [
            "Random Forest \t- train: 0.9911, valid: 0.8071\n",
            "XGBoost \t- train: 0.8822, valid: 0.8169\n"
          ]
        }
      ]
    },
    {
      "cell_type": "markdown",
      "source": [
        "#### 234-04. 하이퍼 파라미터 튜닝"
      ],
      "metadata": {
        "id": "_D-HQaHmUrom"
      }
    },
    {
      "cell_type": "code",
      "source": [
        "modelXGB2 = XGBClassifier(n_estimators=50, max_depth=3, min_child_weight=1, random_state=123)\n",
        "modelXGB2.fit(X_tr, y_tr)\n",
        "\n",
        "modelXGB3 = XGBClassifier(n_estimators=50, max_depth=5, min_child_weight=1, random_state=123)\n",
        "modelXGB3.fit(X_tr, y_tr)\n",
        "\n",
        "modelXGB4 = XGBClassifier(n_estimators=50, max_depth=3, min_child_weight=2, random_state=123)\n",
        "modelXGB4.fit(X_tr, y_tr)\n",
        "\n",
        "modelXGB5 = XGBClassifier(n_estimators=50, max_depth=5, min_child_weight=2, random_state=123)\n",
        "modelXGB5.fit(X_tr, y_tr)\n",
        "\n",
        "print('XGBoost2 \\t-', get_scores(modelXGB2, X_tr, X_val, y_tr, y_val))\n",
        "print('XGBoost3 \\t-', get_scores(modelXGB3, X_tr, X_val, y_tr, y_val))\n",
        "print('XGBoost4 \\t-', get_scores(modelXGB4, X_tr, X_val, y_tr, y_val))\n",
        "print('XGBoost5 \\t-', get_scores(modelXGB5, X_tr, X_val, y_tr, y_val))"
      ],
      "metadata": {
        "id": "bDPjYhTDI0WN",
        "colab": {
          "base_uri": "https://localhost:8080/"
        },
        "outputId": "60da513f-cb22-458e-d243-7806a1834b2f"
      },
      "execution_count": null,
      "outputs": [
        {
          "output_type": "stream",
          "name": "stdout",
          "text": [
            "XGBoost2 \t- train: 0.8691, valid: 0.808\n",
            "XGBoost3 \t- train: 0.9123, valid: 0.8316\n",
            "XGBoost4 \t- train: 0.8702, valid: 0.808\n",
            "XGBoost5 \t- train: 0.9056, valid: 0.8253\n"
          ]
        }
      ]
    },
    {
      "cell_type": "markdown",
      "source": [
        "#### 234-05. 최종 결과값 생성"
      ],
      "metadata": {
        "id": "5cFshcq6d8KW"
      }
    },
    {
      "cell_type": "code",
      "source": [
        "pred = modelXGB2.predict_proba(X_test[COL_NUM+COL_CAT])[:, 1]\n",
        "result = pd.DataFrame({'ID': X_test.ID, 'pred': pred})\n",
        "print(result.head())"
      ],
      "metadata": {
        "colab": {
          "base_uri": "https://localhost:8080/"
        },
        "id": "7d0H6Nfwd19T",
        "outputId": "aac68e5e-a178-4f55-8140-716c571a63ee"
      },
      "execution_count": null,
      "outputs": [
        {
          "output_type": "stream",
          "name": "stdout",
          "text": [
            "     ID      pred\n",
            "0  1569  0.155600\n",
            "1  1344  0.909667\n",
            "2  1429  0.222075\n",
            "3   896  0.293852\n",
            "4   101  0.900748\n"
          ]
        }
      ]
    },
    {
      "cell_type": "code",
      "source": [
        "## 최종 결과 확인 후 to_csv 함수로 제출\n",
        "# result.to_csv('003000000.csv', index=False)"
      ],
      "metadata": {
        "id": "cdmEsUS2fUcM"
      },
      "execution_count": null,
      "outputs": []
    }
  ]
}