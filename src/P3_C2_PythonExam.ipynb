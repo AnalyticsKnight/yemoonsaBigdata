{
  "nbformat": 4,
  "nbformat_minor": 0,
  "metadata": {
    "colab": {
      "name": "P3_C2_PythonExam.ipynb",
      "provenance": [],
      "collapsed_sections": [],
      "toc_visible": true
    },
    "kernelspec": {
      "name": "python3",
      "display_name": "Python 3"
    },
    "language_info": {
      "name": "python"
    }
  },
  "cells": [
    {
      "cell_type": "markdown",
      "source": [
        "# **Chapter 2. 빅데이터분석기사 3회**"
      ],
      "metadata": {
        "id": "CeSIU7NxqpAD"
      }
    },
    {
      "cell_type": "markdown",
      "source": [
        "## 1. 필답형"
      ],
      "metadata": {
        "id": "MX3-XCZUqyfD"
      }
    },
    {
      "cell_type": "markdown",
      "source": [
        "## 2. 작업형 제1유형"
      ],
      "metadata": {
        "id": "fCTuF6dRq1UE"
      }
    },
    {
      "cell_type": "markdown",
      "source": [
        "#### 000 소스 및 데이터 동기화"
      ],
      "metadata": {
        "id": "ehtgdC2-8Asz"
      }
    },
    {
      "cell_type": "code",
      "source": [
        "!git clone https://github.com/AnalyticsKnight/yemoonsaBigdata/"
      ],
      "metadata": {
        "colab": {
          "base_uri": "https://localhost:8080/"
        },
        "id": "VqH3TusIsbzw",
        "outputId": "b91bef22-db2c-4048-c098-0fb20d1d4746"
      },
      "execution_count": 1,
      "outputs": [
        {
          "output_type": "stream",
          "name": "stdout",
          "text": [
            "Cloning into 'yemoonsaBigdata'...\n",
            "remote: Enumerating objects: 446, done.\u001b[K\n",
            "remote: Counting objects: 100% (446/446), done.\u001b[K\n",
            "remote: Compressing objects: 100% (421/421), done.\u001b[K\n",
            "remote: Total 446 (delta 222), reused 42 (delta 19), pack-reused 0\u001b[K\n",
            "Receiving objects: 100% (446/446), 8.32 MiB | 4.59 MiB/s, done.\n",
            "Resolving deltas: 100% (222/222), done.\n"
          ]
        }
      ]
    },
    {
      "cell_type": "markdown",
      "source": [
        "### (1) 첫번째 문제"
      ],
      "metadata": {
        "id": "9HLg20Ynq_IF"
      }
    },
    {
      "cell_type": "markdown",
      "source": [
        "#### 221-01 데이터 불러오기 & 탐색하기"
      ],
      "metadata": {
        "id": "S26cLOolE4AH"
      }
    },
    {
      "cell_type": "code",
      "source": [
        "import pandas as pd\n",
        "\n",
        "housing = pd.read_csv(\"./yemoonsaBigdata/datasets/Part3/301_housing.csv\")\n",
        "print(housing.head(5))"
      ],
      "metadata": {
        "id": "2KodBGEJy5y1",
        "colab": {
          "base_uri": "https://localhost:8080/"
        },
        "outputId": "16fbc786-813b-486e-ca3b-8c0764104c40"
      },
      "execution_count": 2,
      "outputs": [
        {
          "output_type": "stream",
          "name": "stdout",
          "text": [
            "   longitude  latitude  housing_median_age  total_rooms  total_bedrooms  \\\n",
            "0    -122.23     37.88                41.0        880.0           129.0   \n",
            "1    -122.22     37.86                21.0       7099.0          1106.0   \n",
            "2    -122.24     37.85                52.0       1467.0           190.0   \n",
            "3    -122.25     37.85                52.0       1274.0           235.0   \n",
            "4    -122.25     37.85                52.0       1627.0           280.0   \n",
            "\n",
            "   population  households  median_income  median_house_value ocean_proximity  \n",
            "0       322.0       126.0         8.3252            452600.0        NEAR BAY  \n",
            "1      2401.0      1138.0         8.3014            358500.0        NEAR BAY  \n",
            "2       496.0       177.0         7.2574            352100.0        NEAR BAY  \n",
            "3       558.0       219.0         5.6431            341300.0        NEAR BAY  \n",
            "4       565.0       259.0         3.8462            342200.0        NEAR BAY  \n"
          ]
        }
      ]
    },
    {
      "cell_type": "markdown",
      "source": [
        "#### 221-02 결측값 탐색하기"
      ],
      "metadata": {
        "id": "YrI8J0sKGW6t"
      }
    },
    {
      "cell_type": "code",
      "source": [
        "print(housing.info())"
      ],
      "metadata": {
        "colab": {
          "base_uri": "https://localhost:8080/"
        },
        "id": "5yysBmPMxoOT",
        "outputId": "379af5a9-2a4a-4bd3-b765-da8720e030f3"
      },
      "execution_count": 3,
      "outputs": [
        {
          "output_type": "stream",
          "name": "stdout",
          "text": [
            "<class 'pandas.core.frame.DataFrame'>\n",
            "RangeIndex: 20640 entries, 0 to 20639\n",
            "Data columns (total 10 columns):\n",
            " #   Column              Non-Null Count  Dtype  \n",
            "---  ------              --------------  -----  \n",
            " 0   longitude           20640 non-null  float64\n",
            " 1   latitude            20640 non-null  float64\n",
            " 2   housing_median_age  20640 non-null  float64\n",
            " 3   total_rooms         20640 non-null  float64\n",
            " 4   total_bedrooms      20433 non-null  float64\n",
            " 5   population          20640 non-null  float64\n",
            " 6   households          20640 non-null  float64\n",
            " 7   median_income       20640 non-null  float64\n",
            " 8   median_house_value  20640 non-null  float64\n",
            " 9   ocean_proximity     20640 non-null  object \n",
            "dtypes: float64(9), object(1)\n",
            "memory usage: 1.6+ MB\n",
            "None\n"
          ]
        }
      ]
    },
    {
      "cell_type": "markdown",
      "source": [
        "#### 221-03 결측값 제거하기"
      ],
      "metadata": {
        "id": "lLwYEwleGcXK"
      }
    },
    {
      "cell_type": "code",
      "source": [
        "housing_dropna = housing.dropna(inplace=False)\n",
        "\n",
        "print(\"원본데이터 건수 : \", len(housing))\n",
        "print(\"결측값제거 데이터 건수 : \", len(housing_dropna))"
      ],
      "metadata": {
        "colab": {
          "base_uri": "https://localhost:8080/"
        },
        "id": "Daoa2qeZxBJ5",
        "outputId": "1b9cc720-c967-4e50-e4b2-6169bb21ccca"
      },
      "execution_count": 4,
      "outputs": [
        {
          "output_type": "stream",
          "name": "stdout",
          "text": [
            "원본데이터 건수 :  20640\n",
            "결측값제거 데이터 건수 :  20433\n"
          ]
        }
      ]
    },
    {
      "cell_type": "markdown",
      "source": [
        "#### 221-04 데이터 추출하기"
      ],
      "metadata": {
        "id": "4uTaIMDVGeeY"
      }
    },
    {
      "cell_type": "code",
      "source": [
        "housing_dropna_70 = housing_dropna.iloc[:int(len(housing_dropna) * 0.7)]\n",
        "\n",
        "print(\"70%추출 데이터 건수 : \", len(housing_dropna_70))"
      ],
      "metadata": {
        "colab": {
          "base_uri": "https://localhost:8080/"
        },
        "id": "SJUTXOK9xT42",
        "outputId": "5bbdc9a5-1d8c-435c-9945-17854f403920"
      },
      "execution_count": 5,
      "outputs": [
        {
          "output_type": "stream",
          "name": "stdout",
          "text": [
            "70%추출 데이터 건수 :  14303\n"
          ]
        }
      ]
    },
    {
      "cell_type": "markdown",
      "source": [
        "#### 221-05 제1사분위수 계산하기"
      ],
      "metadata": {
        "id": "k5aO96_sGjLB"
      }
    },
    {
      "cell_type": "code",
      "source": [
        "result = int(housing_dropna_70['housing_median_age'].quantile(0.25))\n",
        "\n",
        "print(result)"
      ],
      "metadata": {
        "colab": {
          "base_uri": "https://localhost:8080/"
        },
        "id": "at_ZLxSiyJbz",
        "outputId": "4aeec8f7-49e8-460d-d7da-fee6320ab263"
      },
      "execution_count": 6,
      "outputs": [
        {
          "output_type": "stream",
          "name": "stdout",
          "text": [
            "19\n"
          ]
        }
      ]
    },
    {
      "cell_type": "markdown",
      "source": [
        "### (2) 두번째 문제"
      ],
      "metadata": {
        "id": "tMFQ7VQJrGq6"
      }
    },
    {
      "cell_type": "markdown",
      "source": [
        "#### 222-01 데이터 불러오기 & 탐색하기"
      ],
      "metadata": {
        "id": "KfYfFEY9G39I"
      }
    },
    {
      "cell_type": "code",
      "source": [
        "import pandas as pd\n",
        "\n",
        "disease = pd.read_csv(\"./yemoonsaBigdata/datasets/Part3/302_worlddata.csv\")\n",
        "print(disease.head(5))"
      ],
      "metadata": {
        "id": "7K0PwF-2zWkn",
        "colab": {
          "base_uri": "https://localhost:8080/"
        },
        "outputId": "98026718-0461-4d8e-ad1a-0e6fb087a00d"
      },
      "execution_count": 7,
      "outputs": [
        {
          "output_type": "stream",
          "name": "stdout",
          "text": [
            "   year  Afghanistan  Albania  Algeria  Andorra  Angola  Antigua & Barbuda  \\\n",
            "0  1999            0     89.0     25.0    245.0   217.0              102.0   \n",
            "1  2000            0    132.0      0.0    138.0    57.0              128.0   \n",
            "2  2001            0     54.0     14.0    312.0    45.0               45.0   \n",
            "3  2002            0      4.9      0.7     12.4     5.9                4.9   \n",
            "\n",
            "   Argentina  Armenia  Australia  ...  Tanzania    USA  Uruguay  Uzbekistan  \\\n",
            "0      193.0     21.0      261.0  ...      36.0  249.0    115.0        25.0   \n",
            "1       25.0    179.0       72.0  ...       6.0  158.0     35.0       101.0   \n",
            "2      221.0     11.0      212.0  ...       1.0   84.0    220.0         8.0   \n",
            "3        8.3      3.8       10.4  ...       5.7    8.7      6.6         2.4   \n",
            "\n",
            "   Vanuatu  Venezuela  Vietnam  Yemen  Zambia  Zimbabwe  \n",
            "0     21.0      333.0      111    6.0    32.0      64.0  \n",
            "1     18.0      100.0        2    0.0    19.0      18.0  \n",
            "2     11.0        3.0        1    0.0     4.0       4.0  \n",
            "3      0.9        7.7        2    0.1     2.5       4.7  \n",
            "\n",
            "[4 rows x 194 columns]\n"
          ]
        }
      ]
    },
    {
      "cell_type": "markdown",
      "source": [
        "####222-02 데이터 추출하기"
      ],
      "metadata": {
        "id": "vU4qaCQTHT_x"
      }
    },
    {
      "cell_type": "code",
      "source": [
        "disease_2000 = disease[disease['year'] == 2000]\n",
        "print(disease_2000)"
      ],
      "metadata": {
        "colab": {
          "base_uri": "https://localhost:8080/"
        },
        "id": "JhCURG6VzsxU",
        "outputId": "543892d0-2219-483b-f94f-53bdcf1b42e7"
      },
      "execution_count": 8,
      "outputs": [
        {
          "output_type": "stream",
          "name": "stdout",
          "text": [
            "   year  Afghanistan  Albania  Algeria  Andorra  Angola  Antigua & Barbuda  \\\n",
            "1  2000            0    132.0      0.0    138.0    57.0              128.0   \n",
            "\n",
            "   Argentina  Armenia  Australia  ...  Tanzania    USA  Uruguay  Uzbekistan  \\\n",
            "1       25.0    179.0       72.0  ...       6.0  158.0     35.0       101.0   \n",
            "\n",
            "   Vanuatu  Venezuela  Vietnam  Yemen  Zambia  Zimbabwe  \n",
            "1     18.0      100.0        2    0.0    19.0      18.0  \n",
            "\n",
            "[1 rows x 194 columns]\n"
          ]
        }
      ]
    },
    {
      "cell_type": "markdown",
      "source": [
        "####222-03 행/열 변환 & 행 삭제"
      ],
      "metadata": {
        "id": "60bXw5acIs3p"
      }
    },
    {
      "cell_type": "code",
      "source": [
        "disease_2000_T = disease_2000.T\n",
        "disease_2000_T_drop = disease_2000_T.drop(['year'], axis=0)\n",
        "disease_2000_T_drop.columns=['value']\n",
        "\n",
        "print(disease_2000_T_drop)"
      ],
      "metadata": {
        "colab": {
          "base_uri": "https://localhost:8080/"
        },
        "id": "63Nqcrga0M9s",
        "outputId": "1183311a-aa4f-4354-ac9f-db381eff1d20"
      },
      "execution_count": 9,
      "outputs": [
        {
          "output_type": "stream",
          "name": "stdout",
          "text": [
            "             value\n",
            "Afghanistan    0.0\n",
            "Albania      132.0\n",
            "Algeria        0.0\n",
            "Andorra      138.0\n",
            "Angola        57.0\n",
            "...            ...\n",
            "Venezuela    100.0\n",
            "Vietnam        2.0\n",
            "Yemen          0.0\n",
            "Zambia        19.0\n",
            "Zimbabwe      18.0\n",
            "\n",
            "[193 rows x 1 columns]\n"
          ]
        }
      ]
    },
    {
      "cell_type": "markdown",
      "source": [
        "####222-04 평균 계산하기"
      ],
      "metadata": {
        "id": "OHFj2DUAJDJh"
      }
    },
    {
      "cell_type": "code",
      "source": [
        "mean = disease_2000_T_drop['value'].mean()\n",
        "\n",
        "print(mean)"
      ],
      "metadata": {
        "colab": {
          "base_uri": "https://localhost:8080/"
        },
        "id": "YE4yBE1P16ug",
        "outputId": "7f62fe1b-48aa-4de2-a510-d2d20da31a3f"
      },
      "execution_count": 10,
      "outputs": [
        {
          "output_type": "stream",
          "name": "stdout",
          "text": [
            "81.01036269430051\n"
          ]
        }
      ]
    },
    {
      "cell_type": "markdown",
      "source": [
        "####222-05 데이터 추출하기"
      ],
      "metadata": {
        "id": "4oSJugngJeQi"
      }
    },
    {
      "cell_type": "code",
      "source": [
        "disease_final = disease_2000_T_drop[disease_2000_T_drop['value'] > mean]\n",
        "\n",
        "print(disease_final)"
      ],
      "metadata": {
        "colab": {
          "base_uri": "https://localhost:8080/"
        },
        "id": "2C19cLkj2ne9",
        "outputId": "d42392db-0ee1-4cf0-ff26-feedc41da3c9"
      },
      "execution_count": 11,
      "outputs": [
        {
          "output_type": "stream",
          "name": "stdout",
          "text": [
            "                      value\n",
            "Albania               132.0\n",
            "Andorra               138.0\n",
            "Antigua & Barbuda     128.0\n",
            "Armenia               179.0\n",
            "Bahamas               176.0\n",
            "...                     ...\n",
            "United Arab Emirates  135.0\n",
            "United Kingdom        126.0\n",
            "USA                   158.0\n",
            "Uzbekistan            101.0\n",
            "Venezuela             100.0\n",
            "\n",
            "[76 rows x 1 columns]\n"
          ]
        }
      ]
    },
    {
      "cell_type": "markdown",
      "source": [
        "####222-06 데이터 건수 계산하기"
      ],
      "metadata": {
        "id": "9g7ih7XoJ5_v"
      }
    },
    {
      "cell_type": "code",
      "source": [
        "result = len(disease_final)\n",
        "\n",
        "print(result)"
      ],
      "metadata": {
        "colab": {
          "base_uri": "https://localhost:8080/"
        },
        "id": "dV3wofUr2wdZ",
        "outputId": "32b18b89-4e3a-4d09-b130-8a586673c77c"
      },
      "execution_count": 12,
      "outputs": [
        {
          "output_type": "stream",
          "name": "stdout",
          "text": [
            "76\n"
          ]
        }
      ]
    },
    {
      "cell_type": "markdown",
      "source": [
        "### (3) 세번째 문제"
      ],
      "metadata": {
        "id": "fA1Gkq1RrHrx"
      }
    },
    {
      "cell_type": "markdown",
      "source": [
        "#### 223-01 데이터 불러오기 & 탐색하기"
      ],
      "metadata": {
        "id": "TA3yptevKJaK"
      }
    },
    {
      "cell_type": "code",
      "source": [
        "import pandas as pd\n",
        "\n",
        "titanic = pd.read_csv(\"./yemoonsaBigdata/datasets/Part3/303_titanic.csv\")\n",
        "print(titanic.head(5))"
      ],
      "metadata": {
        "id": "8ImtqP-I-kwZ",
        "colab": {
          "base_uri": "https://localhost:8080/"
        },
        "outputId": "ddb81315-17a6-4125-890d-87a25002d289"
      },
      "execution_count": 13,
      "outputs": [
        {
          "output_type": "stream",
          "name": "stdout",
          "text": [
            "   PassengerId  Survived  Pclass  \\\n",
            "0            1         0       3   \n",
            "1            2         1       1   \n",
            "2            3         1       3   \n",
            "3            4         1       1   \n",
            "4            5         0       3   \n",
            "\n",
            "                                                Name     Sex   Age  SibSp  \\\n",
            "0                            Braund, Mr. Owen Harris    male  22.0      1   \n",
            "1  Cumings, Mrs. John Bradley (Florence Briggs Th...  female  38.0      1   \n",
            "2                             Heikkinen, Miss. Laina  female  26.0      0   \n",
            "3       Futrelle, Mrs. Jacques Heath (Lily May Peel)  female  35.0      1   \n",
            "4                           Allen, Mr. William Henry    male  35.0      0   \n",
            "\n",
            "   Parch            Ticket     Fare Cabin Embarked  \n",
            "0      0         A/5 21171   7.2500   NaN        S  \n",
            "1      0          PC 17599  71.2833   C85        C  \n",
            "2      0  STON/O2. 3101282   7.9250   C85        S  \n",
            "3      0            113803  53.1000  C123        S  \n",
            "4      0            373450   8.0500  C123        S  \n"
          ]
        }
      ]
    },
    {
      "cell_type": "markdown",
      "source": [
        "#### 223-02 결측값 탐색하기"
      ],
      "metadata": {
        "id": "apDKrYrbKpwZ"
      }
    },
    {
      "cell_type": "code",
      "source": [
        "print(titanic.info())"
      ],
      "metadata": {
        "colab": {
          "base_uri": "https://localhost:8080/"
        },
        "id": "nq1yWwyE_AJ0",
        "outputId": "1ea41873-0465-46af-e2db-79828d88d657"
      },
      "execution_count": 14,
      "outputs": [
        {
          "output_type": "stream",
          "name": "stdout",
          "text": [
            "<class 'pandas.core.frame.DataFrame'>\n",
            "RangeIndex: 891 entries, 0 to 890\n",
            "Data columns (total 12 columns):\n",
            " #   Column       Non-Null Count  Dtype  \n",
            "---  ------       --------------  -----  \n",
            " 0   PassengerId  891 non-null    int64  \n",
            " 1   Survived     891 non-null    int64  \n",
            " 2   Pclass       891 non-null    int64  \n",
            " 3   Name         891 non-null    object \n",
            " 4   Sex          891 non-null    object \n",
            " 5   Age          714 non-null    float64\n",
            " 6   SibSp        891 non-null    int64  \n",
            " 7   Parch        891 non-null    int64  \n",
            " 8   Ticket       891 non-null    object \n",
            " 9   Fare         891 non-null    float64\n",
            " 10  Cabin        773 non-null    object \n",
            " 11  Embarked     889 non-null    object \n",
            "dtypes: float64(2), int64(5), object(5)\n",
            "memory usage: 83.7+ KB\n",
            "None\n"
          ]
        }
      ]
    },
    {
      "cell_type": "markdown",
      "source": [
        "#### 223-03 결측값 개수 집계하기"
      ],
      "metadata": {
        "id": "ibhW52W3K4Du"
      }
    },
    {
      "cell_type": "code",
      "source": [
        "titanic_isna = titanic.isna().sum()\n",
        "\n",
        "print(titanic_isna)"
      ],
      "metadata": {
        "colab": {
          "base_uri": "https://localhost:8080/"
        },
        "id": "O6PG6isG_YCS",
        "outputId": "bafacbe1-dc66-45e5-9a27-f80ccd43952d"
      },
      "execution_count": 15,
      "outputs": [
        {
          "output_type": "stream",
          "name": "stdout",
          "text": [
            "PassengerId      0\n",
            "Survived         0\n",
            "Pclass           0\n",
            "Name             0\n",
            "Sex              0\n",
            "Age            177\n",
            "SibSp            0\n",
            "Parch            0\n",
            "Ticket           0\n",
            "Fare             0\n",
            "Cabin          118\n",
            "Embarked         2\n",
            "dtype: int64\n"
          ]
        }
      ]
    },
    {
      "cell_type": "markdown",
      "source": [
        "#### 223-04 집계 최대값 위치 찾기"
      ],
      "metadata": {
        "id": "SwoV1ZsKLY2n"
      }
    },
    {
      "cell_type": "code",
      "source": [
        "max_ind = titanic_isna.argmax()\n",
        "\n",
        "print(max_ind)"
      ],
      "metadata": {
        "colab": {
          "base_uri": "https://localhost:8080/"
        },
        "id": "qag9Gur6BRV2",
        "outputId": "e9b2d57a-d433-4f81-8e0e-6fda5472b311"
      },
      "execution_count": 16,
      "outputs": [
        {
          "output_type": "stream",
          "name": "stdout",
          "text": [
            "5\n"
          ]
        }
      ]
    },
    {
      "cell_type": "markdown",
      "source": [
        "#### 223-05 인덱스 이름 출력하기"
      ],
      "metadata": {
        "id": "bfHGyM-aLuyd"
      }
    },
    {
      "cell_type": "code",
      "source": [
        "result = titanic_isna.index[max_ind]\n",
        "\n",
        "print(result)"
      ],
      "metadata": {
        "colab": {
          "base_uri": "https://localhost:8080/"
        },
        "id": "ZHZ6CyG1Bo9a",
        "outputId": "1b0b0436-0348-44d2-c815-b2ee3e77a53b"
      },
      "execution_count": 17,
      "outputs": [
        {
          "output_type": "stream",
          "name": "stdout",
          "text": [
            "Age\n"
          ]
        }
      ]
    },
    {
      "cell_type": "markdown",
      "source": [
        "## 3. 작업형 제2유형"
      ],
      "metadata": {
        "id": "ByCjNiHHq3_Y"
      }
    },
    {
      "cell_type": "markdown",
      "source": [
        "### (1) 첫번째 문제"
      ],
      "metadata": {
        "id": "uXinBWrlrI-V"
      }
    },
    {
      "cell_type": "markdown",
      "source": [
        "#### 231-01 데이터 불러오기 & 탐색하기"
      ],
      "metadata": {
        "id": "m0DcJ3p_ML-R"
      }
    },
    {
      "cell_type": "code",
      "execution_count": 43,
      "metadata": {
        "id": "-7leAN-0qSWW",
        "colab": {
          "base_uri": "https://localhost:8080/"
        },
        "outputId": "9b3dbc9d-f691-421b-9b2a-d92147720a81"
      },
      "outputs": [
        {
          "output_type": "stream",
          "name": "stdout",
          "text": [
            "     ID  Age               Employment Type GraduateOrNot  AnnualIncome  \\\n",
            "0  1704   26  Private Sector/Self Employed           Yes       1400000   \n",
            "1   491   28  Private Sector/Self Employed           Yes       1100000   \n",
            "2   414   33  Private Sector/Self Employed           Yes       1400000   \n",
            "3   120   28  Private Sector/Self Employed           Yes        800000   \n",
            "4  1268   33             Government Sector           Yes       1000000   \n",
            "\n",
            "   FamilyMembers  ChronicDiseases FrequentFlyer EverTravelledAbroad  \\\n",
            "0              3                1            No                 Yes   \n",
            "1              4                1            No                  No   \n",
            "2              4                0            No                 Yes   \n",
            "3              3                1            No                  No   \n",
            "4              5                0            No                 Yes   \n",
            "\n",
            "   TravelInsurance  \n",
            "0                0  \n",
            "1                1  \n",
            "2                1  \n",
            "3                0  \n",
            "4                1  \n"
          ]
        }
      ],
      "source": [
        "import pandas as pd\n",
        "\n",
        "df_train = pd.read_csv(\"./yemoonsaBigdata/datasets/Part3/304_travel_insurance_train.csv\")\n",
        "df_test = pd.read_csv(\"./yemoonsaBigdata/datasets/Part3/304_travel_insurance_test.csv\")\n",
        "print(df_train.head(5))"
      ]
    },
    {
      "cell_type": "markdown",
      "source": [
        "#### 231-02 훈련 데이터 추출하기"
      ],
      "metadata": {
        "id": "OYDxB1cGNH01"
      }
    },
    {
      "cell_type": "code",
      "source": [
        "x_train = df_train.drop(columns='TravelInsurance')\n",
        "y_train = df_train[['ID', 'TravelInsurance']]\n",
        "\n",
        "x_test = df_test.copy()\n",
        "\n",
        "x_train.to_csv('./yemoonsaBigdata/datasets/Part3/304_x_train.csv', index=False)\n",
        "y_train.to_csv('./yemoonsaBigdata/datasets/Part3/304_y_train.csv', index=False)\n",
        "x_test.to_csv('./yemoonsaBigdata/datasets/Part3/304_x_test.csv', index=False)\n",
        "\n",
        "x_train = pd.read_csv(\"./yemoonsaBigdata/datasets/Part3/304_x_train.csv\")\n",
        "y_train = pd.read_csv(\"./yemoonsaBigdata/datasets/Part3/304_y_train.csv\")\n",
        "x_test = pd.read_csv(\"./yemoonsaBigdata/datasets/Part3/304_x_test.csv\")\n",
        "\n",
        "print(x_train.shape, y_train.shape, x_test.shape)"
      ],
      "metadata": {
        "id": "9uYnCSqgCbEP",
        "colab": {
          "base_uri": "https://localhost:8080/"
        },
        "outputId": "154b6ae2-405c-4d8e-c01c-b6240738b89c"
      },
      "execution_count": 44,
      "outputs": [
        {
          "output_type": "stream",
          "name": "stdout",
          "text": [
            "(1490, 9) (1490, 2) (497, 9)\n"
          ]
        }
      ]
    },
    {
      "cell_type": "markdown",
      "source": [
        "#### 231-03 전처리 준비하기"
      ],
      "metadata": {
        "id": "O5s6Pzx3NZPP"
      }
    },
    {
      "cell_type": "code",
      "source": [
        "df_x = pd.concat([x_train, x_test])\n",
        "print(df_x.info())"
      ],
      "metadata": {
        "colab": {
          "base_uri": "https://localhost:8080/"
        },
        "id": "vQVcZJ-29XI-",
        "outputId": "12f0de8f-64c3-48ba-c541-01e397da45fb"
      },
      "execution_count": 45,
      "outputs": [
        {
          "output_type": "stream",
          "name": "stdout",
          "text": [
            "<class 'pandas.core.frame.DataFrame'>\n",
            "Int64Index: 1987 entries, 0 to 496\n",
            "Data columns (total 9 columns):\n",
            " #   Column               Non-Null Count  Dtype \n",
            "---  ------               --------------  ----- \n",
            " 0   ID                   1987 non-null   int64 \n",
            " 1   Age                  1987 non-null   int64 \n",
            " 2   Employment Type      1987 non-null   object\n",
            " 3   GraduateOrNot        1987 non-null   object\n",
            " 4   AnnualIncome         1987 non-null   int64 \n",
            " 5   FamilyMembers        1987 non-null   int64 \n",
            " 6   ChronicDiseases      1987 non-null   int64 \n",
            " 7   FrequentFlyer        1987 non-null   object\n",
            " 8   EverTravelledAbroad  1987 non-null   object\n",
            "dtypes: int64(5), object(4)\n",
            "memory usage: 155.2+ KB\n",
            "None\n"
          ]
        }
      ]
    },
    {
      "cell_type": "markdown",
      "source": [
        "#### 000 독립변수 탐색하기"
      ],
      "metadata": {
        "id": "twtjHaxaOQ1L"
      }
    },
    {
      "cell_type": "code",
      "source": [
        "obj_cols = ['Employment Type', 'GraduateOrNot', 'FrequentFlyer', 'EverTravelledAbroad']\n",
        "\n",
        "for i in obj_cols:\n",
        "    print(df_x[i].value_counts(), \"\\n\")"
      ],
      "metadata": {
        "colab": {
          "base_uri": "https://localhost:8080/"
        },
        "id": "yoF77ZSvIpkj",
        "outputId": "5552b21a-fa87-4db8-86bc-cc8b908bc8d8"
      },
      "execution_count": 46,
      "outputs": [
        {
          "output_type": "stream",
          "name": "stdout",
          "text": [
            "Private Sector/Self Employed    1417\n",
            "Government Sector                570\n",
            "Name: Employment Type, dtype: int64 \n",
            "\n",
            "Yes    1692\n",
            "No      295\n",
            "Name: GraduateOrNot, dtype: int64 \n",
            "\n",
            "No     1570\n",
            "Yes     417\n",
            "Name: FrequentFlyer, dtype: int64 \n",
            "\n",
            "No     1607\n",
            "Yes     380\n",
            "Name: EverTravelledAbroad, dtype: int64 \n",
            "\n"
          ]
        }
      ]
    },
    {
      "cell_type": "markdown",
      "source": [
        "#### 000 종속변수 탐색하기"
      ],
      "metadata": {
        "id": "TpxINNX1Oay6"
      }
    },
    {
      "cell_type": "code",
      "source": [
        "print(y_train['TravelInsurance'].value_counts())"
      ],
      "metadata": {
        "colab": {
          "base_uri": "https://localhost:8080/"
        },
        "id": "kpFIOCf499CA",
        "outputId": "592191b2-5f6c-42f4-c677-dadb316469d2"
      },
      "execution_count": 47,
      "outputs": [
        {
          "output_type": "stream",
          "name": "stdout",
          "text": [
            "0    950\n",
            "1    540\n",
            "Name: TravelInsurance, dtype: int64\n"
          ]
        }
      ]
    },
    {
      "cell_type": "markdown",
      "source": [
        "#### 231-04 독립변수 라벨링 인코딩"
      ],
      "metadata": {
        "id": "jGrnip8AOnz3"
      }
    },
    {
      "cell_type": "code",
      "source": [
        "df_le = df_x.copy()\n",
        "df_le['Employment Type'] = df_x['Employment Type'].replace(['Private Sector/Self Employed', 'Government Sector'], [0, 1])\n",
        "df_le['GraduateOrNot'] = df_x['GraduateOrNot'].replace(['No', 'Yes'], [0, 1])\n",
        "df_le['FrequentFlyer'] = df_x['FrequentFlyer'].replace(['No', 'Yes'], [0, 1])\n",
        "df_le['EverTravelledAbroad'] = df_x['EverTravelledAbroad'].replace(['No', 'Yes'], [0, 1])\n",
        "\n",
        "print(df_le.info())"
      ],
      "metadata": {
        "id": "aPLno6-2KfCh",
        "colab": {
          "base_uri": "https://localhost:8080/"
        },
        "outputId": "152ccbbd-dcfe-4db8-bec8-ea43ba99fe48"
      },
      "execution_count": 48,
      "outputs": [
        {
          "output_type": "stream",
          "name": "stdout",
          "text": [
            "<class 'pandas.core.frame.DataFrame'>\n",
            "Int64Index: 1987 entries, 0 to 496\n",
            "Data columns (total 9 columns):\n",
            " #   Column               Non-Null Count  Dtype\n",
            "---  ------               --------------  -----\n",
            " 0   ID                   1987 non-null   int64\n",
            " 1   Age                  1987 non-null   int64\n",
            " 2   Employment Type      1987 non-null   int64\n",
            " 3   GraduateOrNot        1987 non-null   int64\n",
            " 4   AnnualIncome         1987 non-null   int64\n",
            " 5   FamilyMembers        1987 non-null   int64\n",
            " 6   ChronicDiseases      1987 non-null   int64\n",
            " 7   FrequentFlyer        1987 non-null   int64\n",
            " 8   EverTravelledAbroad  1987 non-null   int64\n",
            "dtypes: int64(9)\n",
            "memory usage: 155.2 KB\n",
            "None\n"
          ]
        }
      ]
    },
    {
      "cell_type": "markdown",
      "source": [
        "#### 000 상관계수 탐색하기"
      ],
      "metadata": {
        "id": "3rsvfxkzPRHa"
      }
    },
    {
      "cell_type": "code",
      "source": [
        "print(df_le.corr())"
      ],
      "metadata": {
        "colab": {
          "base_uri": "https://localhost:8080/"
        },
        "id": "x9x6cxVe9raj",
        "outputId": "f0c3e569-72cc-4815-c42a-0677fa2b9910"
      },
      "execution_count": 49,
      "outputs": [
        {
          "output_type": "stream",
          "name": "stdout",
          "text": [
            "                           ID       Age  Employment Type  GraduateOrNot  \\\n",
            "ID                   1.000000 -0.004917         0.015769      -0.008602   \n",
            "Age                 -0.004917  1.000000         0.115134       0.027125   \n",
            "Employment Type      0.015769  0.115134         1.000000       0.127133   \n",
            "GraduateOrNot       -0.008602  0.027125         0.127133       1.000000   \n",
            "AnnualIncome        -0.025031 -0.020101        -0.349157       0.108066   \n",
            "FamilyMembers       -0.041506  0.027409         0.003354       0.021201   \n",
            "ChronicDiseases     -0.006858  0.007359         0.011553       0.018811   \n",
            "FrequentFlyer       -0.004596 -0.033159        -0.143790      -0.028120   \n",
            "EverTravelledAbroad -0.002160 -0.012779        -0.181098       0.062683   \n",
            "\n",
            "                     AnnualIncome  FamilyMembers  ChronicDiseases  \\\n",
            "ID                      -0.025031      -0.041506        -0.006858   \n",
            "Age                     -0.020101       0.027409         0.007359   \n",
            "Employment Type         -0.349157       0.003354         0.011553   \n",
            "GraduateOrNot            0.108066       0.021201         0.018811   \n",
            "AnnualIncome             1.000000      -0.015367        -0.001149   \n",
            "FamilyMembers           -0.015367       1.000000         0.028209   \n",
            "ChronicDiseases         -0.001149       0.028209         1.000000   \n",
            "FrequentFlyer            0.353087      -0.023775        -0.043720   \n",
            "EverTravelledAbroad      0.486043      -0.020755         0.021238   \n",
            "\n",
            "                     FrequentFlyer  EverTravelledAbroad  \n",
            "ID                       -0.004596            -0.002160  \n",
            "Age                      -0.033159            -0.012779  \n",
            "Employment Type          -0.143790            -0.181098  \n",
            "GraduateOrNot            -0.028120             0.062683  \n",
            "AnnualIncome              0.353087             0.486043  \n",
            "FamilyMembers            -0.023775            -0.020755  \n",
            "ChronicDiseases          -0.043720             0.021238  \n",
            "FrequentFlyer             1.000000             0.277334  \n",
            "EverTravelledAbroad       0.277334             1.000000  \n"
          ]
        }
      ]
    },
    {
      "cell_type": "markdown",
      "source": [
        "#### 000 머신러닝 패키지 불러오기"
      ],
      "metadata": {
        "id": "OSYFXNGQPbAe"
      }
    },
    {
      "cell_type": "code",
      "source": [
        "from sklearn.preprocessing import MinMaxScaler\n",
        "from sklearn.model_selection import train_test_split\n",
        "from sklearn.linear_model import LogisticRegression\n",
        "from sklearn.tree import DecisionTreeClassifier\n",
        "from sklearn.ensemble import RandomForestClassifier\n",
        "from xgboost import XGBClassifier"
      ],
      "metadata": {
        "id": "nZ3_opXdCcp4"
      },
      "execution_count": 50,
      "outputs": []
    },
    {
      "cell_type": "markdown",
      "source": [
        "#### 231-05 모델 점수 계산 함수"
      ],
      "metadata": {
        "id": "-imp6o_UPnzf"
      }
    },
    {
      "cell_type": "code",
      "source": [
        "from sklearn.metrics import roc_auc_score\n",
        "\n",
        "def get_scores(model, xtrain, xtest, ytrain, ytest):\n",
        "    A = model.score(xtrain, ytrain)\n",
        "    ypred = model.predict_proba(xtest)[:, 1]    \n",
        "    B = roc_auc_score(ytest, ypred) \n",
        "    return '{:.4f} {:.4f}'.format(A, B)"
      ],
      "metadata": {
        "id": "DMc6xRGHBuoN"
      },
      "execution_count": 51,
      "outputs": []
    },
    {
      "cell_type": "markdown",
      "source": [
        "#### 231-06 머신러닝 모델 실행 함수 생성"
      ],
      "metadata": {
        "id": "xjp_0Or1P0D6"
      }
    },
    {
      "cell_type": "code",
      "source": [
        "def make_models(xtrain, xtest, ytrain, ytest):\n",
        "    model1 = LogisticRegression().fit(xtrain, ytrain)\n",
        "    print('model1', get_scores(model1, xtrain, xtest, ytrain, ytest))\n",
        "\n",
        "    model2 = DecisionTreeClassifier(random_state=0).fit(xtrain, ytrain)\n",
        "    print('model2', get_scores(model2, xtrain, xtest, ytrain, ytest))\n",
        "\n",
        "    for d in range(3, 8):\n",
        "        model2 = DecisionTreeClassifier(max_depth=d, random_state=0).fit(xtrain, ytrain)\n",
        "        print('model2', d, get_scores(model2, xtrain, xtest, ytrain, ytest))\n",
        "\n",
        "    model3 = RandomForestClassifier(random_state=0).fit(xtrain, ytrain)\n",
        "    print('model3', get_scores(model3, xtrain, xtest, ytrain, ytest))\n",
        "\n",
        "    for d in range(3, 8):\n",
        "        model3 = RandomForestClassifier(500, max_depth=d, random_state=0).fit(xtrain, ytrain)\n",
        "        print('model3', d, get_scores(model3, xtrain, xtest, ytrain, ytest))\n",
        "\n",
        "    model4 = XGBClassifier(eval_metric='logloss', use_label_encoder=False).fit(xtrain, ytrain)\n",
        "    print('model4', get_scores(model4, xtrain, xtest, ytrain, ytest))"
      ],
      "metadata": {
        "id": "SCKNST8bBykw"
      },
      "execution_count": 52,
      "outputs": []
    },
    {
      "cell_type": "markdown",
      "source": [
        "#### 231-07 스케일링 & 머신러닝 전처리"
      ],
      "metadata": {
        "id": "q-OqXRn8QZO5"
      }
    },
    {
      "cell_type": "code",
      "source": [
        "x_le = df_le.drop(columns=['ID'])\n",
        "\n",
        "x_le_train = x_le[:1490]\n",
        "x_le_test = x_le[1490:]\n",
        "\n",
        "scaler = MinMaxScaler()\n",
        "scaler.fit(x_le_train)\n",
        "x_fin_train = scaler.transform(x_le_train)\n",
        "x_fin_test = scaler.transform(x_le_test)\n",
        "\n",
        "y_fin_train = y_train['TravelInsurance']\n",
        "\n",
        "print(type(x_fin_train), type(x_fin_test), type(y_fin_train))\n",
        "print(x_fin_train.shape, x_fin_test.shape, y_fin_train.shape)"
      ],
      "metadata": {
        "id": "wAaYKoUuCEJm",
        "colab": {
          "base_uri": "https://localhost:8080/"
        },
        "outputId": "aa91255c-79e8-4b17-8e84-2c4bf77b8f9a"
      },
      "execution_count": 53,
      "outputs": [
        {
          "output_type": "stream",
          "name": "stdout",
          "text": [
            "<class 'numpy.ndarray'> <class 'numpy.ndarray'> <class 'pandas.core.series.Series'>\n",
            "(1490, 8) (497, 8) (1490,)\n"
          ]
        }
      ]
    },
    {
      "cell_type": "markdown",
      "source": [
        "#### 231-08 훈련 데이터 분할하기"
      ],
      "metadata": {
        "id": "Y7t6uZxLRPkn"
      }
    },
    {
      "cell_type": "code",
      "source": [
        "xtrain, xtest, ytrain, ytest = train_test_split(x_fin_train, y_fin_train, test_size = 0.25, stratify=y_fin_train, random_state=1234)\n",
        "\n",
        "print(xtrain.shape, xtest.shape, ytrain.shape, ytest.shape)"
      ],
      "metadata": {
        "colab": {
          "base_uri": "https://localhost:8080/"
        },
        "id": "kIeTjvEvCLJ_",
        "outputId": "fdd53192-54a6-4c8b-cb2b-497f95c3281e"
      },
      "execution_count": 54,
      "outputs": [
        {
          "output_type": "stream",
          "name": "stdout",
          "text": [
            "(1117, 8) (373, 8) (1117,) (373,)\n"
          ]
        }
      ]
    },
    {
      "cell_type": "markdown",
      "source": [
        "#### 231-09 머신러닝 실행"
      ],
      "metadata": {
        "id": "SIpRj3xRSmNc"
      }
    },
    {
      "cell_type": "code",
      "source": [
        "make_models(xtrain, xtest, ytrain, ytest)"
      ],
      "metadata": {
        "colab": {
          "base_uri": "https://localhost:8080/"
        },
        "id": "F7UXEthASoU_",
        "outputId": "8263ca2e-8769-479e-bde5-ceac8feee29a"
      },
      "execution_count": 55,
      "outputs": [
        {
          "output_type": "stream",
          "name": "stdout",
          "text": [
            "model1 0.7762 0.7593\n",
            "model2 0.9454 0.7211\n",
            "model2 3 0.8380 0.8183\n",
            "model2 4 0.8389 0.8275\n",
            "model2 5 0.8424 0.8244\n",
            "model2 6 0.8469 0.8002\n",
            "model2 7 0.8594 0.7907\n",
            "model3 0.9454 0.7955\n",
            "model3 3 0.7995 0.7992\n",
            "model3 4 0.8299 0.8087\n",
            "model3 5 0.8415 0.8054\n",
            "model3 6 0.8460 0.8005\n",
            "model3 7 0.8496 0.8012\n",
            "model4 0.8397 0.8084\n"
          ]
        }
      ]
    },
    {
      "cell_type": "markdown",
      "source": [
        "#### 231-10 최종 모델 선택"
      ],
      "metadata": {
        "id": "NBRqE8YWTxaM"
      }
    },
    {
      "cell_type": "code",
      "source": [
        "final_model = DecisionTreeClassifier(max_depth=4, random_state=0).fit(xtrain, ytrain)\n",
        "print('final model', get_scores(final_model, xtrain, xtest, ytrain, ytest))"
      ],
      "metadata": {
        "colab": {
          "base_uri": "https://localhost:8080/"
        },
        "id": "CEzyZX0lIrrP",
        "outputId": "a3e705e2-6b19-4571-e26b-2f719a441065"
      },
      "execution_count": 56,
      "outputs": [
        {
          "output_type": "stream",
          "name": "stdout",
          "text": [
            "final model 0.8389 0.8275\n"
          ]
        }
      ]
    },
    {
      "cell_type": "markdown",
      "source": [
        "#### 231-11 최종 모델 예측 결과 csv 저장하기"
      ],
      "metadata": {
        "id": "_D-HQaHmUrom"
      }
    },
    {
      "cell_type": "code",
      "source": [
        "y_pred = final_model.predict_proba(x_fin_test)[:, 1]\n",
        "\n",
        "result = pd.DataFrame({\"y_pred\" : y_pred})\n",
        "result.to_csv(\"./yemoonsaBigdata/res/insurance_y_pred.csv\")"
      ],
      "metadata": {
        "id": "bDPjYhTDI0WN"
      },
      "execution_count": 60,
      "outputs": []
    }
  ]
}