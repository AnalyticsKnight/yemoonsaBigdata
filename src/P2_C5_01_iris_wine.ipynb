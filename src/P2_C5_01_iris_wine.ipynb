{
  "nbformat": 4,
  "nbformat_minor": 0,
  "metadata": {
    "colab": {
      "name": "P2_C5_01_iris_wine.ipynb",
      "provenance": [],
      "collapsed_sections": [],
      "toc_visible": true,
      "include_colab_link": true
    },
    "kernelspec": {
      "name": "python3",
      "display_name": "Python 3"
    },
    "language_info": {
      "name": "python"
    }
  },
  "cells": [
    {
      "cell_type": "markdown",
      "metadata": {
        "id": "view-in-github",
        "colab_type": "text"
      },
      "source": [
        "<a href=\"https://colab.research.google.com/github/AnalyticsKnight/yemoonsaBigdata/blob/dev/src/P2_C5_01_iris_wine.ipynb\" target=\"_parent\"><img src=\"https://colab.research.google.com/assets/colab-badge.svg\" alt=\"Open In Colab\"/></a>"
      ]
    },
    {
      "cell_type": "markdown",
      "source": [
        "# **Chapter 5. 과목 마무리 문제**"
      ],
      "metadata": {
        "id": "LIOFQkLJXKFk"
      }
    },
    {
      "cell_type": "markdown",
      "source": [
        "## 1. 작업형 제 1유형"
      ],
      "metadata": {
        "id": "gpFW6wvCXlQd"
      }
    },
    {
      "cell_type": "code",
      "source": [
        "!git clone https://github.com/AnalyticsKnight/yemoonsaBigdata/"
      ],
      "metadata": {
        "colab": {
          "base_uri": "https://localhost:8080/"
        },
        "id": "VHHqdFho5GQS",
        "outputId": "bb0775d1-030c-42aa-92fa-59928ae17757"
      },
      "execution_count": 1,
      "outputs": [
        {
          "output_type": "stream",
          "name": "stdout",
          "text": [
            "Cloning into 'yemoonsaBigdata'...\n",
            "remote: Enumerating objects: 421, done.\u001b[K\n",
            "remote: Counting objects: 100% (421/421), done.\u001b[K\n",
            "remote: Compressing objects: 100% (396/396), done.\u001b[K\n",
            "remote: Total 421 (delta 204), reused 42 (delta 19), pack-reused 0\u001b[K\n",
            "Receiving objects: 100% (421/421), 8.30 MiB | 4.59 MiB/s, done.\n",
            "Resolving deltas: 100% (204/204), done.\n"
          ]
        }
      ]
    },
    {
      "cell_type": "markdown",
      "source": [
        "### (1) Iris 데이터 세트"
      ],
      "metadata": {
        "id": "5TqE-4SgXJ7W"
      }
    },
    {
      "cell_type": "code",
      "source": [
        "import pandas as pd\n",
        "data = pd.read_csv(\"./yemoonsaBigdata/datasets/Part2/iris.csv\")"
      ],
      "metadata": {
        "id": "Yl39rkP1YECB"
      },
      "execution_count": 2,
      "outputs": []
    },
    {
      "cell_type": "markdown",
      "source": [
        "#### 코드 511-01"
      ],
      "metadata": {
        "id": "aikvAMIm4tH3"
      }
    },
    {
      "cell_type": "code",
      "source": [
        "print(data.groupby('species')['petal_width'].quantile([0.75]))"
      ],
      "metadata": {
        "colab": {
          "base_uri": "https://localhost:8080/"
        },
        "id": "5v8oG6Kd0Zlg",
        "outputId": "f835548f-9138-4a05-e7a3-ef53c9ec3f85"
      },
      "execution_count": 3,
      "outputs": [
        {
          "output_type": "stream",
          "name": "stdout",
          "text": [
            "species         \n",
            "setosa      0.75    0.3\n",
            "versicolor  0.75    1.5\n",
            "virginica   0.75    2.3\n",
            "Name: petal_width, dtype: float64\n"
          ]
        }
      ]
    },
    {
      "cell_type": "markdown",
      "source": [
        "#### 코드 511-02"
      ],
      "metadata": {
        "id": "yuFqdiaS5JQM"
      }
    },
    {
      "cell_type": "code",
      "source": [
        "lst = data['sepal_length'].unique().tolist()\n",
        "lst.sort()\n",
        "print(lst[9])"
      ],
      "metadata": {
        "colab": {
          "base_uri": "https://localhost:8080/"
        },
        "id": "7RlkOohr08UO",
        "outputId": "ef38e97f-2a15-424c-eb6a-1fd5871233ef"
      },
      "execution_count": 4,
      "outputs": [
        {
          "output_type": "stream",
          "name": "stdout",
          "text": [
            "5.2\n"
          ]
        }
      ]
    },
    {
      "cell_type": "markdown",
      "source": [
        "#### 코드 511-03"
      ],
      "metadata": {
        "id": "aa12FmQN627f"
      }
    },
    {
      "cell_type": "code",
      "source": [
        "sorted_data = data.sort_values(by='sepal_width', ascending=False).reset_index(drop=True)\n",
        "sorted_data_split = sorted_data.loc[0:99] # 또는 sorted_data.head(100)\n",
        "print(int(sorted_data_split['sepal_width'].std()*50))"
      ],
      "metadata": {
        "colab": {
          "base_uri": "https://localhost:8080/"
        },
        "id": "WM37nQ1n63UT",
        "outputId": "ca4d17bb-b1d9-49fb-abd3-b8581c08bd8c"
      },
      "execution_count": 5,
      "outputs": [
        {
          "output_type": "stream",
          "name": "stdout",
          "text": [
            "16\n"
          ]
        }
      ]
    },
    {
      "cell_type": "markdown",
      "source": [
        "#### 코드 511-04"
      ],
      "metadata": {
        "id": "FYtO1JkT9fdK"
      }
    },
    {
      "cell_type": "code",
      "source": [
        "data = data.sort_values(by=['species', 'petal_length'], ascending=[True, False])\n",
        "data_top10 = data.groupby('species').head(10)\n",
        "print(round(data_top10.groupby('species')['petal_length'].mean().sum()))"
      ],
      "metadata": {
        "colab": {
          "base_uri": "https://localhost:8080/"
        },
        "id": "mKHOHger9fkp",
        "outputId": "bc2951ea-bafb-43c0-aef7-1bdc2a3dfd64"
      },
      "execution_count": 6,
      "outputs": [
        {
          "output_type": "stream",
          "name": "stdout",
          "text": [
            "13\n"
          ]
        }
      ]
    },
    {
      "cell_type": "markdown",
      "source": [
        "#### 코드 511-05"
      ],
      "metadata": {
        "id": "WCHpTfBFKD-s"
      }
    },
    {
      "cell_type": "code",
      "source": [
        "mean = data['sepal_length'].mean()\n",
        "std = data['sepal_length'].std()\n",
        "crit1 = mean+2*std\n",
        "crit2 = mean-2*std\n",
        "print(data[(data['sepal_length']>=crit1)|(data['sepal_length']<=crit2)])"
      ],
      "metadata": {
        "colab": {
          "base_uri": "https://localhost:8080/"
        },
        "id": "g34Dneh5ISTG",
        "outputId": "ba68b4b1-4aa2-4fd4-dcef-0df16368e73b"
      },
      "execution_count": 7,
      "outputs": [
        {
          "output_type": "stream",
          "name": "stdout",
          "text": [
            "     sepal_length  sepal_width  petal_length  petal_width    species\n",
            "118           7.7          2.6           6.9          2.3  virginica\n",
            "117           7.7          3.8           6.7          2.2  virginica\n",
            "122           7.7          2.8           6.7          2.0  virginica\n",
            "105           7.6          3.0           6.6          2.1  virginica\n",
            "131           7.9          3.8           6.4          2.0  virginica\n",
            "135           7.7          3.0           6.1          2.3  virginica\n"
          ]
        }
      ]
    },
    {
      "cell_type": "markdown",
      "source": [
        "### (2) Wine 데이터 세트"
      ],
      "metadata": {
        "id": "Bp1go40oW7q1"
      }
    },
    {
      "cell_type": "code",
      "source": [
        "import pandas as pd\n",
        "data = pd.read_csv(\"./yemoonsaBigdata/datasets/Part2/wine.csv\")"
      ],
      "metadata": {
        "id": "R7Qt95tI5UbO"
      },
      "execution_count": 8,
      "outputs": []
    },
    {
      "cell_type": "markdown",
      "source": [
        "#### 코드 512-01"
      ],
      "metadata": {
        "id": "2G78SMGcPAco"
      }
    },
    {
      "cell_type": "code",
      "source": [
        "data_drop = data[data['total_phenols'].notnull()]\n",
        "med = data_drop['alcalinity_of_ash'].median()\n",
        "data_drop.loc[data_drop['alcalinity_of_ash'].isnull(), 'alcalinity_of_ash'] = med\n",
        "print(data_drop['alcalinity_of_ash'].mean())"
      ],
      "metadata": {
        "colab": {
          "base_uri": "https://localhost:8080/"
        },
        "id": "Z1NLxFxENNtT",
        "outputId": "76af6043-6b8b-4622-e993-bfe33c619216"
      },
      "execution_count": 9,
      "outputs": [
        {
          "output_type": "stream",
          "name": "stdout",
          "text": [
            "19.397546012269935\n"
          ]
        },
        {
          "output_type": "stream",
          "name": "stderr",
          "text": [
            "/usr/local/lib/python3.7/dist-packages/pandas/core/indexing.py:1817: SettingWithCopyWarning: \n",
            "A value is trying to be set on a copy of a slice from a DataFrame.\n",
            "Try using .loc[row_indexer,col_indexer] = value instead\n",
            "\n",
            "See the caveats in the documentation: https://pandas.pydata.org/pandas-docs/stable/user_guide/indexing.html#returning-a-view-versus-a-copy\n",
            "  self._setitem_single_column(loc, value, pi)\n"
          ]
        }
      ]
    },
    {
      "cell_type": "markdown",
      "source": [
        "#### 코드 512-02"
      ],
      "metadata": {
        "id": "Fb98ZU5QXv4s"
      }
    },
    {
      "cell_type": "code",
      "source": [
        "mean_val1 = data['alcohol'].mean()\n",
        "mean_val2 = data['color_intensity'].mean()\n",
        "data_filtered = data[(data['alcohol']>=mean_val1)&(data['color_intensity']>=mean_val2)]\n",
        "print(data_filtered['class'].value_counts())"
      ],
      "metadata": {
        "colab": {
          "base_uri": "https://localhost:8080/"
        },
        "id": "fLhicFdEXEWY",
        "outputId": "1a913b1c-7554-4bba-ea16-3f07a540bb0c"
      },
      "execution_count": 10,
      "outputs": [
        {
          "output_type": "stream",
          "name": "stdout",
          "text": [
            "0    37\n",
            "2    23\n",
            "1     1\n",
            "Name: class, dtype: int64\n"
          ]
        }
      ]
    },
    {
      "cell_type": "markdown",
      "source": [
        "#### 코드 512-03"
      ],
      "metadata": {
        "id": "k37JuW21Xw7w"
      }
    },
    {
      "cell_type": "code",
      "source": [
        "print(data.head(1).T)"
      ],
      "metadata": {
        "colab": {
          "base_uri": "https://localhost:8080/"
        },
        "id": "7uTd3MjUi5LR",
        "outputId": "38a87b60-ac5d-4f48-9225-3e860d773d3e"
      },
      "execution_count": 11,
      "outputs": [
        {
          "output_type": "stream",
          "name": "stdout",
          "text": [
            "                                    0\n",
            "alcohol                         14.23\n",
            "malic_acid                       1.71\n",
            "ash                              2.43\n",
            "alcalinity_of_ash               15.60\n",
            "magnesium                      127.00\n",
            "total_phenols                    2.80\n",
            "flavanoids                       3.06\n",
            "nonflavanoid_phenols             0.28\n",
            "proanthocyanins                  2.29\n",
            "color_intensity                  5.64\n",
            "hue                              1.04\n",
            "od280/od315_of_diluted_wines     3.92\n",
            "proline                       1065.00\n",
            "class                            0.00\n"
          ]
        }
      ]
    },
    {
      "cell_type": "code",
      "source": [
        "val1 = data[data['class']==1]['ash'].mean()\n",
        "val2 = data.dropna()['ash'].mean()\n",
        "print(round(abs(val1-val2), 3))"
      ],
      "metadata": {
        "colab": {
          "base_uri": "https://localhost:8080/"
        },
        "id": "VFXBZ5zpXys0",
        "outputId": "a63c9c56-b59f-4405-a1d3-84dd9ee29fad"
      },
      "execution_count": 12,
      "outputs": [
        {
          "output_type": "stream",
          "name": "stdout",
          "text": [
            "0.12\n"
          ]
        }
      ]
    },
    {
      "cell_type": "markdown",
      "source": [
        "#### 코드 512-04"
      ],
      "metadata": {
        "id": "eP2JbUbYXx6k"
      }
    },
    {
      "cell_type": "code",
      "source": [
        "data_sorted = data.sort_values(by='alcohol')\n",
        "data_sorted.loc[0:19, 'alcohol'] = data_sorted.loc[19, 'alcohol']\n",
        "print(round(data_sorted[data_sorted['proanthocyanins']<=2]['alcohol'].mean(), 2))"
      ],
      "metadata": {
        "colab": {
          "base_uri": "https://localhost:8080/"
        },
        "id": "trn_gx-oXxjY",
        "outputId": "eb74365f-bdca-4b98-ea5b-0c852dbe4550"
      },
      "execution_count": 13,
      "outputs": [
        {
          "output_type": "stream",
          "name": "stdout",
          "text": [
            "12.94\n"
          ]
        }
      ]
    },
    {
      "cell_type": "markdown",
      "source": [
        "#### 코드 512-05"
      ],
      "metadata": {
        "id": "NI56d5yVXzi_"
      }
    },
    {
      "cell_type": "code",
      "source": [
        "class1_q1, class1_q3 = data[data['class']==1]['proline'].quantile([0.25, 0.75])\n",
        "class2_q1, class2_q3 = data[data['class']==2]['proline'].quantile([0.25, 0.75])\n",
        "print(abs((class1_q3-class1_q1) - (class2_q3-class2_q1)))"
      ],
      "metadata": {
        "colab": {
          "base_uri": "https://localhost:8080/"
        },
        "id": "5XepS54pm4cs",
        "outputId": "433f20fb-4e69-4e6d-e260-dd1467eed2f4"
      },
      "execution_count": 14,
      "outputs": [
        {
          "output_type": "stream",
          "name": "stdout",
          "text": [
            "68.5\n"
          ]
        }
      ]
    }
  ]
}