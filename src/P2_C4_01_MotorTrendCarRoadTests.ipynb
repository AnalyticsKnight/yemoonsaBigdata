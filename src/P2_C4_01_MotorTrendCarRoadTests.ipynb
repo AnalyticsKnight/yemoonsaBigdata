{
  "nbformat": 4,
  "nbformat_minor": 0,
  "metadata": {
    "colab": {
      "name": "P2_C4_02_MotorTrendCarRoadTests.ipynb",
      "provenance": [],
      "collapsed_sections": [],
      "authorship_tag": "ABX9TyP4j2nz9BkgTs12mq48F1m7",
      "include_colab_link": true
    },
    "kernelspec": {
      "name": "python3",
      "display_name": "Python 3"
    },
    "language_info": {
      "name": "python"
    }
  },
  "cells": [
    {
      "cell_type": "markdown",
      "metadata": {
        "id": "view-in-github",
        "colab_type": "text"
      },
      "source": [
        "<a href=\"https://colab.research.google.com/github/AnalyticsKnight/yemoonsaBigdata/blob/dev/src/P2_C4_01_MotorTrendCarRoadTests.ipynb\" target=\"_parent\"><img src=\"https://colab.research.google.com/assets/colab-badge.svg\" alt=\"Open In Colab\"/></a>"
      ]
    },
    {
      "cell_type": "markdown",
      "source": [
        "# Chapter 4. A to Z 빅데이터 분석 실습  "
      ],
      "metadata": {
        "id": "qvrlQlwK09K4"
      }
    },
    {
      "cell_type": "markdown",
      "source": [
        "## 1.실습 A to Z – Motor Trend Car Road Tests"
      ],
      "metadata": {
        "id": "XhmllIp-004C"
      }
    },
    {
      "cell_type": "markdown",
      "source": [
        "### mtcars: Motor Trend Car Road Tests\n",
        "- https://raw.githubusercontent.com/mwaskom/seaborn-data/master/mpg.csv"
      ],
      "metadata": {
        "id": "6133mB54-c5l"
      }
    },
    {
      "cell_type": "code",
      "source": [
        "!git clone https://github.com/AnalyticsKnight/yemoonsaBigdata/"
      ],
      "metadata": {
        "id": "_1NzoskYRGjk"
      },
      "execution_count": null,
      "outputs": []
    },
    {
      "cell_type": "markdown",
      "source": [
        "### (2) 사전준비"
      ],
      "metadata": {
        "id": "oaTRSpbE1bCE"
      }
    },
    {
      "cell_type": "markdown",
      "source": [
        "#### 412-01"
      ],
      "metadata": {
        "id": "05PSmAPwPUdg"
      }
    },
    {
      "cell_type": "code",
      "source": [
        "# 출력을 원하실 경우 print() 함수 활용\n",
        "# 예시) print(df.head())\n",
        "\n",
        "# getcwd(), chdir() 등 작업 폴더 설정 불필요\n",
        "# 파일 경로 상 내부 드라이브 경로(C: 등) 접근 불가\n",
        "\n",
        "# 데이터 파일 읽기 예제\n",
        "import pandas as pd\n",
        "X_test = pd.read_csv(\"./yemoonsaBigdata/datasets/Part2/mpg_X_test.csv\")\n",
        "X_train = pd.read_csv(\"./yemoonsaBigdata/datasets/Part2/mpg_X_train.csv\")\n",
        "y_train = pd.read_csv(\"./yemoonsaBigdata/datasets/Part2/mpg_y_train.csv\")\n",
        "\n",
        "# 사용자 코딩\n",
        "\n",
        "# 답안 제출 참고\n",
        "# 아래 코드 예측변수와 수험번호를 개인별로 변경하여 활용\n",
        "# pd.DataFrame({'gender': pred}).to_csv('003000000.csv', index=False)"
      ],
      "metadata": {
        "id": "glfo_TdlXuU5"
      },
      "execution_count": null,
      "outputs": []
    },
    {
      "cell_type": "markdown",
      "source": [
        "#### 412-02"
      ],
      "metadata": {
        "id": "mBwI3KkXPskr"
      }
    },
    {
      "cell_type": "code",
      "execution_count": null,
      "metadata": {
        "id": "OKHJXjwU492V"
      },
      "outputs": [],
      "source": [
        "import pandas as pd\n",
        "import numpy as np"
      ]
    },
    {
      "cell_type": "markdown",
      "source": [
        "#### 412-03"
      ],
      "metadata": {
        "id": "Ef--FhM5QJYI"
      }
    },
    {
      "cell_type": "code",
      "source": [
        "X_test = pd.read_csv(\"./yemoonsaBigdata/datasets/Part2/mpg_X_test.csv\")\n",
        "X_train = pd.read_csv(\"./yemoonsaBigdata/datasets/Part2/mpg_X_train.csv\")\n",
        "y_train = pd.read_csv(\"./yemoonsaBigdata/datasets/Part2/mpg_y_train.csv\")"
      ],
      "metadata": {
        "id": "8GTBlyYwPjzP"
      },
      "execution_count": null,
      "outputs": []
    },
    {
      "cell_type": "markdown",
      "source": [
        "### (3) 데이터 전처리"
      ],
      "metadata": {
        "id": "tz3AYrSR1xIL"
      }
    },
    {
      "cell_type": "markdown",
      "source": [
        "#### 413-01"
      ],
      "metadata": {
        "id": "XrYvJyQxQoxz"
      }
    },
    {
      "cell_type": "code",
      "source": [
        "print(X_train.info())"
      ],
      "metadata": {
        "id": "qjtQJGsHQpe9",
        "outputId": "f27e17df-b26b-4c91-9b1c-397c49f62b3f",
        "colab": {
          "base_uri": "https://localhost:8080/"
        }
      },
      "execution_count": null,
      "outputs": [
        {
          "output_type": "stream",
          "name": "stdout",
          "text": [
            "<class 'pandas.core.frame.DataFrame'>\n",
            "RangeIndex: 278 entries, 0 to 277\n",
            "Data columns (total 8 columns):\n",
            " #   Column        Non-Null Count  Dtype  \n",
            "---  ------        --------------  -----  \n",
            " 0   name          278 non-null    object \n",
            " 1   mpg           278 non-null    float64\n",
            " 2   cylinders     278 non-null    int64  \n",
            " 3   displacement  278 non-null    float64\n",
            " 4   horsepower    275 non-null    float64\n",
            " 5   weight        278 non-null    int64  \n",
            " 6   acceleration  278 non-null    float64\n",
            " 7   model_year    278 non-null    int64  \n",
            "dtypes: float64(4), int64(3), object(1)\n",
            "memory usage: 17.5+ KB\n",
            "None\n"
          ]
        }
      ]
    },
    {
      "cell_type": "markdown",
      "source": [
        "#### 413-02"
      ],
      "metadata": {
        "id": "O2tTLtEceQ3K"
      }
    },
    {
      "cell_type": "code",
      "source": [
        "from sklearn.impute import SimpleImputer\n",
        "\n",
        "imputer = SimpleImputer(missing_values=np.nan, strategy='mean')\n",
        "X_train[['horsepower']] = imputer.fit_transform( X_train[['horsepower']] )\n",
        "X_test[['horsepower']] = imputer.fit_transform( X_test[['horsepower']] )"
      ],
      "metadata": {
        "id": "LTLaTCFnjZC9"
      },
      "execution_count": null,
      "outputs": []
    },
    {
      "cell_type": "markdown",
      "source": [
        "#### 413-03"
      ],
      "metadata": {
        "id": "tOY_jbXXjZOG"
      }
    },
    {
      "cell_type": "code",
      "source": [
        "print(X_train.describe())"
      ],
      "metadata": {
        "colab": {
          "base_uri": "https://localhost:8080/"
        },
        "id": "WOXjksb5eRzA",
        "outputId": "bfc299f3-bbf7-4ce3-fa13-bde67de79464"
      },
      "execution_count": null,
      "outputs": [
        {
          "output_type": "stream",
          "name": "stdout",
          "text": [
            "              mpg   cylinders  displacement  horsepower       weight  \\\n",
            "count  278.000000  278.000000    278.000000  278.000000   278.000000   \n",
            "mean    23.616906    5.485612    193.501799  104.330909  2984.575540   \n",
            "std      8.158168    1.724157    104.419891   37.577880   858.764682   \n",
            "min      9.000000    3.000000     68.000000   48.000000  1613.000000   \n",
            "25%     16.925000    4.000000     98.000000   75.000000  2206.250000   \n",
            "50%     22.750000    4.000000    148.500000   95.000000  2866.500000   \n",
            "75%     29.800000    8.000000    302.000000  129.000000  3641.750000   \n",
            "max     46.600000    8.000000    455.000000  230.000000  4997.000000   \n",
            "\n",
            "       acceleration  model_year  \n",
            "count    278.000000  278.000000  \n",
            "mean      15.581295   75.902878  \n",
            "std        2.772807    3.577092  \n",
            "min        8.000000   70.000000  \n",
            "25%       13.800000   73.000000  \n",
            "50%       15.300000   76.000000  \n",
            "75%       17.000000   79.000000  \n",
            "max       24.600000   82.000000  \n"
          ]
        }
      ]
    },
    {
      "cell_type": "markdown",
      "source": [
        "#### 413-04"
      ],
      "metadata": {
        "id": "tAfj4mZBoFAU"
      }
    },
    {
      "cell_type": "code",
      "source": [
        "COL_DEL = ['name']\n",
        "COL_NUM = ['mpg', 'cylinders', 'displacement', 'horsepower', 'weight', 'acceleration', 'model_year']\n",
        "COL_CAT = []\n",
        "COL_Y = ['isUSA']\n",
        "\n",
        "X_train = X_train.iloc[:, 1:]\n",
        "X_test = X_test.iloc[:, 1:]"
      ],
      "metadata": {
        "id": "kX0Qjg4yoFHI"
      },
      "execution_count": null,
      "outputs": []
    },
    {
      "cell_type": "markdown",
      "source": [
        "### (4) 데이터 모형 구축"
      ],
      "metadata": {
        "id": "z3lTeHdG10nv"
      }
    },
    {
      "cell_type": "markdown",
      "source": [
        "#### 414-01"
      ],
      "metadata": {
        "id": "5eUgJyqCVNfJ"
      }
    },
    {
      "cell_type": "code",
      "source": [
        "from sklearn.model_selection import train_test_split\n",
        "X_tr, X_val, y_tr, y_val = train_test_split(X_train, y_train, test_size=0.3)"
      ],
      "metadata": {
        "id": "GroexjoyVOSY"
      },
      "execution_count": null,
      "outputs": []
    },
    {
      "cell_type": "markdown",
      "source": [
        "#### 414-02"
      ],
      "metadata": {
        "id": "5qe4rethnV_p"
      }
    },
    {
      "cell_type": "code",
      "source": [
        "from sklearn.preprocessing import StandardScaler\n",
        "\n",
        "scaler = StandardScaler()\n",
        "scaler.fit(X_tr[COL_NUM])\n",
        "X_tr[COL_NUM]=scaler.transform(X_tr[COL_NUM])\n",
        "X_val[COL_NUM]=scaler.transform(X_val[COL_NUM])\n",
        "X_test[COL_NUM]=scaler.transform(X_test[COL_NUM])"
      ],
      "metadata": {
        "id": "IoU1WQs3nWzi"
      },
      "execution_count": null,
      "outputs": []
    },
    {
      "cell_type": "markdown",
      "source": [
        "#### 414-03"
      ],
      "metadata": {
        "id": "KdBrKqeYV_I6"
      }
    },
    {
      "cell_type": "code",
      "source": [
        "from sklearn.neighbors import KNeighborsClassifier\n",
        "modelKNN = KNeighborsClassifier(n_neighbors=5, metric='euclidean')\n",
        "modelKNN.fit(X_tr, y_tr.values.ravel())\n",
        "\n",
        "from sklearn.tree import DecisionTreeClassifier\n",
        "modelDT = DecisionTreeClassifier(max_depth=10)\n",
        "modelDT.fit(X_tr, y_tr)"
      ],
      "metadata": {
        "colab": {
          "base_uri": "https://localhost:8080/"
        },
        "id": "UJc0FcepV_0o",
        "outputId": "51ea12ef-de0e-4a0e-971f-4fb9669c2f1c"
      },
      "execution_count": null,
      "outputs": [
        {
          "output_type": "execute_result",
          "data": {
            "text/plain": [
              "DecisionTreeClassifier(max_depth=10)"
            ]
          },
          "metadata": {},
          "execution_count": 10
        }
      ]
    },
    {
      "cell_type": "markdown",
      "source": [
        "### (5) 데이터 모형 평가"
      ],
      "metadata": {
        "id": "L-yDG-WkBOA7"
      }
    },
    {
      "cell_type": "markdown",
      "source": [
        "#### 415-01"
      ],
      "metadata": {
        "id": "vSBkfIL5WAgx"
      }
    },
    {
      "cell_type": "code",
      "source": [
        "y_val_pred = modelKNN.predict(X_val)\n",
        "\n",
        "y_val_pred_probaKNN = modelKNN.predict_proba(X_val)\n",
        "y_val_pred_probaDT = modelDT.predict_proba(X_val)"
      ],
      "metadata": {
        "id": "gWW9YI9DV_44"
      },
      "execution_count": null,
      "outputs": []
    },
    {
      "cell_type": "markdown",
      "source": [
        "#### 415-02"
      ],
      "metadata": {
        "id": "q4MVl56Wdg66"
      }
    },
    {
      "cell_type": "code",
      "source": [
        "from sklearn.metrics import roc_auc_score\n",
        "\n",
        "scoreKNN = roc_auc_score(y_val, y_val_pred_probaKNN[:, 1])\n",
        "scoreDT = roc_auc_score(y_val, y_val_pred_probaDT[:, 1])\n",
        "\n",
        "print( scoreKNN, scoreDT )"
      ],
      "metadata": {
        "colab": {
          "base_uri": "https://localhost:8080/"
        },
        "id": "3hs9oIn7dhoA",
        "outputId": "c0501f10-c7b2-4b95-d8fb-7a1051440ba8"
      },
      "execution_count": null,
      "outputs": [
        {
          "output_type": "stream",
          "name": "stdout",
          "text": [
            "0.9341880341880342 0.8863247863247865\n"
          ]
        }
      ]
    },
    {
      "cell_type": "markdown",
      "source": [
        "#### 415-03"
      ],
      "metadata": {
        "id": "vB2u1YLDiRtx"
      }
    },
    {
      "cell_type": "code",
      "source": [
        "best_model = None\n",
        "best_score = 0\n",
        "\n",
        "for i in range(2, 10):\n",
        "    model = KNeighborsClassifier(n_neighbors=i, metric='euclidean')\n",
        "    model.fit(X_tr, y_tr.values.ravel())\n",
        "    y_val_pred_proba = model.predict_proba(X_val)\n",
        "    score = roc_auc_score(y_val, y_val_pred_proba[:, 1])\n",
        "    print(i,\"개의 이웃 확인 : \", score)\n",
        "    if best_score <= score:\n",
        "        best_model = model"
      ],
      "metadata": {
        "colab": {
          "base_uri": "https://localhost:8080/"
        },
        "id": "5aMPIAaZiRzG",
        "outputId": "bb847e1e-3e47-4013-f5c6-fcb402581208"
      },
      "execution_count": null,
      "outputs": [
        {
          "output_type": "stream",
          "name": "stdout",
          "text": [
            "2 개의 이웃 확인 :  0.8698005698005697\n",
            "3 개의 이웃 확인 :  0.876923076923077\n",
            "4 개의 이웃 확인 :  0.9361823361823362\n",
            "5 개의 이웃 확인 :  0.9341880341880342\n",
            "6 개의 이웃 확인 :  0.9279202279202279\n",
            "7 개의 이웃 확인 :  0.9393162393162393\n",
            "8 개의 이웃 확인 :  0.9282051282051281\n",
            "9 개의 이웃 확인 :  0.9239316239316239\n"
          ]
        }
      ]
    },
    {
      "cell_type": "markdown",
      "source": [
        "#### 415-04"
      ],
      "metadata": {
        "id": "w_LY_L8GnJF9"
      }
    },
    {
      "cell_type": "code",
      "source": [
        "best_model.predict_proba(X_test)"
      ],
      "metadata": {
        "colab": {
          "base_uri": "https://localhost:8080/"
        },
        "id": "E2Mhq9dWnJLd",
        "outputId": "665d0730-b755-4ae7-9aeb-125923ae3920"
      },
      "execution_count": null,
      "outputs": [
        {
          "output_type": "execute_result",
          "data": {
            "text/plain": [
              "array([[0.77777778, 0.22222222],\n",
              "       [0.44444444, 0.55555556],\n",
              "       [0.77777778, 0.22222222],\n",
              "       [0.33333333, 0.66666667],\n",
              "       [0.66666667, 0.33333333],\n",
              "       [0.        , 1.        ],\n",
              "       [0.66666667, 0.33333333],\n",
              "       [0.44444444, 0.55555556],\n",
              "       [0.77777778, 0.22222222],\n",
              "       [0.        , 1.        ],\n",
              "       [0.        , 1.        ],\n",
              "       [0.        , 1.        ],\n",
              "       [0.44444444, 0.55555556],\n",
              "       [0.        , 1.        ],\n",
              "       [0.55555556, 0.44444444],\n",
              "       [0.55555556, 0.44444444],\n",
              "       [0.22222222, 0.77777778],\n",
              "       [0.        , 1.        ],\n",
              "       [0.77777778, 0.22222222],\n",
              "       [0.11111111, 0.88888889],\n",
              "       [0.11111111, 0.88888889],\n",
              "       [0.        , 1.        ],\n",
              "       [0.66666667, 0.33333333],\n",
              "       [0.55555556, 0.44444444],\n",
              "       [0.44444444, 0.55555556],\n",
              "       [0.        , 1.        ],\n",
              "       [0.44444444, 0.55555556],\n",
              "       [0.        , 1.        ],\n",
              "       [0.88888889, 0.11111111],\n",
              "       [0.        , 1.        ],\n",
              "       [0.        , 1.        ],\n",
              "       [0.22222222, 0.77777778],\n",
              "       [0.55555556, 0.44444444],\n",
              "       [0.88888889, 0.11111111],\n",
              "       [0.        , 1.        ],\n",
              "       [0.77777778, 0.22222222],\n",
              "       [0.        , 1.        ],\n",
              "       [0.        , 1.        ],\n",
              "       [0.        , 1.        ],\n",
              "       [0.        , 1.        ],\n",
              "       [0.        , 1.        ],\n",
              "       [0.        , 1.        ],\n",
              "       [0.        , 1.        ],\n",
              "       [0.55555556, 0.44444444],\n",
              "       [0.        , 1.        ],\n",
              "       [0.33333333, 0.66666667],\n",
              "       [0.44444444, 0.55555556],\n",
              "       [0.        , 1.        ],\n",
              "       [0.55555556, 0.44444444],\n",
              "       [0.22222222, 0.77777778],\n",
              "       [0.        , 1.        ],\n",
              "       [0.77777778, 0.22222222],\n",
              "       [0.66666667, 0.33333333],\n",
              "       [0.77777778, 0.22222222],\n",
              "       [0.        , 1.        ],\n",
              "       [0.77777778, 0.22222222],\n",
              "       [0.        , 1.        ],\n",
              "       [0.        , 1.        ],\n",
              "       [0.77777778, 0.22222222],\n",
              "       [0.44444444, 0.55555556],\n",
              "       [0.        , 1.        ],\n",
              "       [0.        , 1.        ],\n",
              "       [0.77777778, 0.22222222],\n",
              "       [0.33333333, 0.66666667],\n",
              "       [0.33333333, 0.66666667],\n",
              "       [0.88888889, 0.11111111],\n",
              "       [0.22222222, 0.77777778],\n",
              "       [0.55555556, 0.44444444],\n",
              "       [0.33333333, 0.66666667],\n",
              "       [0.55555556, 0.44444444],\n",
              "       [0.        , 1.        ],\n",
              "       [0.22222222, 0.77777778],\n",
              "       [0.        , 1.        ],\n",
              "       [0.88888889, 0.11111111],\n",
              "       [0.        , 1.        ],\n",
              "       [0.        , 1.        ],\n",
              "       [0.        , 1.        ],\n",
              "       [0.        , 1.        ],\n",
              "       [0.55555556, 0.44444444],\n",
              "       [0.        , 1.        ],\n",
              "       [0.        , 1.        ],\n",
              "       [0.77777778, 0.22222222],\n",
              "       [0.22222222, 0.77777778],\n",
              "       [0.        , 1.        ],\n",
              "       [0.        , 1.        ],\n",
              "       [0.        , 1.        ],\n",
              "       [0.44444444, 0.55555556],\n",
              "       [0.88888889, 0.11111111],\n",
              "       [0.        , 1.        ],\n",
              "       [0.88888889, 0.11111111],\n",
              "       [0.        , 1.        ],\n",
              "       [0.        , 1.        ],\n",
              "       [0.66666667, 0.33333333],\n",
              "       [0.        , 1.        ],\n",
              "       [0.66666667, 0.33333333],\n",
              "       [0.66666667, 0.33333333],\n",
              "       [0.66666667, 0.33333333],\n",
              "       [0.77777778, 0.22222222],\n",
              "       [0.        , 1.        ],\n",
              "       [0.33333333, 0.66666667],\n",
              "       [0.77777778, 0.22222222],\n",
              "       [0.        , 1.        ],\n",
              "       [0.44444444, 0.55555556],\n",
              "       [0.44444444, 0.55555556],\n",
              "       [0.        , 1.        ],\n",
              "       [0.55555556, 0.44444444],\n",
              "       [0.88888889, 0.11111111],\n",
              "       [0.44444444, 0.55555556],\n",
              "       [0.44444444, 0.55555556],\n",
              "       [0.55555556, 0.44444444],\n",
              "       [0.55555556, 0.44444444],\n",
              "       [0.11111111, 0.88888889],\n",
              "       [0.33333333, 0.66666667],\n",
              "       [0.        , 1.        ],\n",
              "       [0.66666667, 0.33333333],\n",
              "       [0.55555556, 0.44444444],\n",
              "       [0.        , 1.        ],\n",
              "       [0.44444444, 0.55555556],\n",
              "       [0.        , 1.        ],\n",
              "       [0.55555556, 0.44444444]])"
            ]
          },
          "metadata": {},
          "execution_count": 14
        }
      ]
    },
    {
      "cell_type": "markdown",
      "source": [
        "#### 415-05"
      ],
      "metadata": {
        "id": "lZ2Q2sUjj-xx"
      }
    },
    {
      "cell_type": "code",
      "source": [
        "pred = best_model.predict_proba(X_test)[:,1]\n",
        "print(pred)"
      ],
      "metadata": {
        "id": "rHwYKQYkj8Xb",
        "colab": {
          "base_uri": "https://localhost:8080/"
        },
        "outputId": "9471e2e9-646e-4fe9-c7c9-d161fe203614"
      },
      "execution_count": null,
      "outputs": [
        {
          "output_type": "stream",
          "name": "stdout",
          "text": [
            "[0.22222222 0.55555556 0.22222222 0.66666667 0.33333333 1.\n",
            " 0.33333333 0.55555556 0.22222222 1.         1.         1.\n",
            " 0.55555556 1.         0.44444444 0.44444444 0.77777778 1.\n",
            " 0.22222222 0.88888889 0.88888889 1.         0.33333333 0.44444444\n",
            " 0.55555556 1.         0.55555556 1.         0.11111111 1.\n",
            " 1.         0.77777778 0.44444444 0.11111111 1.         0.22222222\n",
            " 1.         1.         1.         1.         1.         1.\n",
            " 1.         0.44444444 1.         0.66666667 0.55555556 1.\n",
            " 0.44444444 0.77777778 1.         0.22222222 0.33333333 0.22222222\n",
            " 1.         0.22222222 1.         1.         0.22222222 0.55555556\n",
            " 1.         1.         0.22222222 0.66666667 0.66666667 0.11111111\n",
            " 0.77777778 0.44444444 0.66666667 0.44444444 1.         0.77777778\n",
            " 1.         0.11111111 1.         1.         1.         1.\n",
            " 0.44444444 1.         1.         0.22222222 0.77777778 1.\n",
            " 1.         1.         0.55555556 0.11111111 1.         0.11111111\n",
            " 1.         1.         0.33333333 1.         0.33333333 0.33333333\n",
            " 0.33333333 0.22222222 1.         0.66666667 0.22222222 1.\n",
            " 0.55555556 0.55555556 1.         0.44444444 0.11111111 0.55555556\n",
            " 0.55555556 0.44444444 0.44444444 0.88888889 0.66666667 1.\n",
            " 0.33333333 0.44444444 1.         0.55555556 1.         0.44444444]\n"
          ]
        }
      ]
    },
    {
      "cell_type": "markdown",
      "source": [
        "#### 415-06"
      ],
      "metadata": {
        "id": "tcugiuHMTOAM"
      }
    },
    {
      "cell_type": "code",
      "source": [
        "pd.DataFrame({'isUSA': pred}).to_csv('./yemoonsaBigdata/res/003000000.csv', index=False)"
      ],
      "metadata": {
        "id": "hIUmhHQ8TT3z"
      },
      "execution_count": null,
      "outputs": []
    }
  ]
}
