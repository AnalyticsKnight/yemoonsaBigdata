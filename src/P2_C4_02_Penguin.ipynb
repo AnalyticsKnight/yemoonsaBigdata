{
  "nbformat": 4,
  "nbformat_minor": 0,
  "metadata": {
    "colab": {
      "name": "P2_C4_02_Penguin.ipynb",
      "provenance": [],
      "collapsed_sections": [],
      "authorship_tag": "ABX9TyP6BpcPCLxRCdCu7EhDQ7vE",
      "include_colab_link": true
    },
    "kernelspec": {
      "name": "python3",
      "display_name": "Python 3"
    },
    "language_info": {
      "name": "python"
    }
  },
  "cells": [
    {
      "cell_type": "markdown",
      "metadata": {
        "id": "view-in-github",
        "colab_type": "text"
      },
      "source": [
        "<a href=\"https://colab.research.google.com/github/AnalyticsKnight/yemoonsaBigdata/blob/dev/src/P2_C4_02_Penguin.ipynb\" target=\"_parent\"><img src=\"https://colab.research.google.com/assets/colab-badge.svg\" alt=\"Open In Colab\"/></a>"
      ]
    },
    {
      "cell_type": "markdown",
      "source": [
        "# Chapter 4. A to Z 빅데이터 분석 실습  "
      ],
      "metadata": {
        "id": "XAbvzcR1EbTl"
      }
    },
    {
      "cell_type": "markdown",
      "source": [
        "## 2.실습 A to Z – Penguin"
      ],
      "metadata": {
        "id": "YCbouD2QEe6j"
      }
    },
    {
      "cell_type": "markdown",
      "source": [
        "### Penguin Dataset\n",
        "- https://raw.githubusercontent.com/mwaskom/seaborn-data/master/penguins.csv"
      ],
      "metadata": {
        "id": "6133mB54-c5l"
      }
    },
    {
      "cell_type": "code",
      "source": [
        "!git clone https://github.com/AnalyticsKnight/yemoonsaBigdata/"
      ],
      "metadata": {
        "id": "zDeRbOMSRyiR",
        "outputId": "01eeaec4-ae91-4f49-f17d-67651564e700",
        "colab": {
          "base_uri": "https://localhost:8080/"
        }
      },
      "execution_count": 1,
      "outputs": [
        {
          "output_type": "stream",
          "name": "stdout",
          "text": [
            "Cloning into 'yemoonsaBigdata'...\n",
            "remote: Enumerating objects: 277, done.\u001b[K\n",
            "remote: Counting objects: 100% (277/277), done.\u001b[K\n",
            "remote: Compressing objects: 100% (262/262), done.\u001b[K\n",
            "remote: Total 277 (delta 135), reused 24 (delta 9), pack-reused 0\u001b[K\n",
            "Receiving objects: 100% (277/277), 3.48 MiB | 5.21 MiB/s, done.\n",
            "Resolving deltas: 100% (135/135), done.\n"
          ]
        }
      ]
    },
    {
      "cell_type": "markdown",
      "source": [
        "### (2) 사전준비"
      ],
      "metadata": {
        "id": "Kj1QM3jAEezx"
      }
    },
    {
      "cell_type": "markdown",
      "source": [
        "#### 422-01"
      ],
      "metadata": {
        "id": "b6StXWN8Ee2x"
      }
    },
    {
      "cell_type": "code",
      "source": [
        "# 출력을 원하실 경우 print() 함수 활용\n",
        "# 예시) print(df.head())\n",
        "\n",
        "# getcwd(), chdir() 등 작업 폴더 설정 불필요\n",
        "# 파일 경로 상 내부 드라이브 경로(C: 등) 접근 불가\n",
        "\n",
        "# 데이터 파일 읽기 예제\n",
        "import pandas as pd\n",
        "X_test = pd.read_csv(\"./yemoonsaBigdata/datasets/Part2/penguin_X_test.csv\")\n",
        "X_train = pd.read_csv(\"./yemoonsaBigdata/datasets/Part2/penguin_X_train.csv\")\n",
        "y_train = pd.read_csv(\"./yemoonsaBigdata/datasets/Part2/penguin_y_train.csv\")\n",
        "\n",
        "# 사용자 코딩\n",
        "\n",
        "# 답안 제출 참고\n",
        "# 아래 코드 예측변수와 수험번호를 개인별로 변경하여 활용\n",
        "# pd.DataFrame({'cust_id': X_test.cust_id, 'gender': pred}).to_csv('003000000.csv', index=False)\n"
      ],
      "metadata": {
        "id": "uoCvY6YcMvJK"
      },
      "execution_count": 2,
      "outputs": []
    },
    {
      "cell_type": "markdown",
      "source": [
        "#### 422-02"
      ],
      "metadata": {
        "id": "OXu5zOP_M081"
      }
    },
    {
      "cell_type": "code",
      "source": [
        "import pandas as pd\n",
        "import numpy as np\n",
        "import warnings\n",
        "\n",
        "warnings.filterwarnings('ignore')"
      ],
      "metadata": {
        "id": "KfydhG51Mvx7"
      },
      "execution_count": 3,
      "outputs": []
    },
    {
      "cell_type": "markdown",
      "source": [
        "#### 422-03"
      ],
      "metadata": {
        "id": "u94JB0RYM3eR"
      }
    },
    {
      "cell_type": "code",
      "source": [
        "X_test = pd.read_csv(\"./yemoonsaBigdata/datasets/Part2/penguin_X_test.csv\")\n",
        "X_train = pd.read_csv(\"./yemoonsaBigdata/datasets/Part2/penguin_X_train.csv\")\n",
        "y_train = pd.read_csv(\"./yemoonsaBigdata/datasets/Part2/penguin_y_train.csv\")"
      ],
      "metadata": {
        "id": "N1KFtKLPMv0i"
      },
      "execution_count": 4,
      "outputs": []
    },
    {
      "cell_type": "markdown",
      "source": [
        "### (3) 데이터 전처리"
      ],
      "metadata": {
        "id": "meb-nM3VC65E"
      }
    },
    {
      "cell_type": "markdown",
      "source": [
        "#### 423-01"
      ],
      "metadata": {
        "id": "7zBOVf8GYn-f"
      }
    },
    {
      "cell_type": "code",
      "source": [
        "print(X_train.info())"
      ],
      "metadata": {
        "id": "6ZJqaVBJMv5f",
        "colab": {
          "base_uri": "https://localhost:8080/"
        },
        "outputId": "c6ecbfd3-5afe-4c3e-f45f-2496c81ee371"
      },
      "execution_count": 5,
      "outputs": [
        {
          "output_type": "stream",
          "name": "stdout",
          "text": [
            "<class 'pandas.core.frame.DataFrame'>\n",
            "RangeIndex: 240 entries, 0 to 239\n",
            "Data columns (total 6 columns):\n",
            " #   Column             Non-Null Count  Dtype  \n",
            "---  ------             --------------  -----  \n",
            " 0   species            240 non-null    object \n",
            " 1   island             240 non-null    object \n",
            " 2   sex                232 non-null    object \n",
            " 3   bill_length_mm     238 non-null    float64\n",
            " 4   bill_depth_mm      238 non-null    float64\n",
            " 5   flipper_length_mm  238 non-null    float64\n",
            "dtypes: float64(3), object(3)\n",
            "memory usage: 11.4+ KB\n",
            "None\n"
          ]
        }
      ]
    },
    {
      "cell_type": "markdown",
      "source": [
        "#### 423-02"
      ],
      "metadata": {
        "id": "WBjT2GYieSop"
      }
    },
    {
      "cell_type": "code",
      "source": [
        "train =  pd.concat([X_train, y_train], axis=1)\n",
        "print(train.loc[(train.sex.isna()) | (train.bill_length_mm.isna()) | (train.bill_depth_mm.isna()) | (train.flipper_length_mm.isna()) | (train.body_mass_g.isna())])"
      ],
      "metadata": {
        "id": "5NaT5oOneSuD",
        "colab": {
          "base_uri": "https://localhost:8080/"
        },
        "outputId": "755b9c93-9c70-4c06-bba8-0e12a7c51371"
      },
      "execution_count": 6,
      "outputs": [
        {
          "output_type": "stream",
          "name": "stdout",
          "text": [
            "    species     island  sex  bill_length_mm  bill_depth_mm  flipper_length_mm  \\\n",
            "0    Adelie  Torgersen  NaN            42.0           20.2              190.0   \n",
            "6    Gentoo     Biscoe  NaN            44.5           14.3              216.0   \n",
            "43   Gentoo     Biscoe  NaN             NaN            NaN                NaN   \n",
            "66   Adelie  Torgersen  NaN            37.8           17.3              180.0   \n",
            "88   Gentoo     Biscoe  NaN            47.3           13.8              216.0   \n",
            "89   Adelie  Torgersen  NaN            37.8           17.1              186.0   \n",
            "110  Gentoo     Biscoe  NaN            44.5           15.7              217.0   \n",
            "229  Adelie  Torgersen  NaN             NaN            NaN                NaN   \n",
            "\n",
            "     body_mass_g  \n",
            "0         4250.0  \n",
            "6         4100.0  \n",
            "43           NaN  \n",
            "66        3700.0  \n",
            "88        4725.0  \n",
            "89        3300.0  \n",
            "110       4875.0  \n",
            "229          NaN  \n"
          ]
        }
      ]
    },
    {
      "cell_type": "markdown",
      "source": [
        "#### 423-03"
      ],
      "metadata": {
        "id": "9p2J2olLDe0D"
      }
    },
    {
      "cell_type": "code",
      "source": [
        "train = train.dropna()\n",
        "train.reset_index(drop=True, inplace=True)"
      ],
      "metadata": {
        "id": "AVemZrpXDgX3"
      },
      "execution_count": 7,
      "outputs": []
    },
    {
      "cell_type": "markdown",
      "source": [
        "#### 423-04\n"
      ],
      "metadata": {
        "id": "Fc_OCskUmG7_"
      }
    },
    {
      "cell_type": "code",
      "source": [
        "X_train = train[['species','island', 'sex','bill_length_mm', 'bill_depth_mm', 'flipper_length_mm']]\n",
        "y_train = train[['body_mass_g']]"
      ],
      "metadata": {
        "id": "cUfRT5JxlFv-"
      },
      "execution_count": 8,
      "outputs": []
    },
    {
      "cell_type": "markdown",
      "source": [
        "#### 423-05"
      ],
      "metadata": {
        "id": "6G7MSS_Vk-zS"
      }
    },
    {
      "cell_type": "code",
      "source": [
        "print(X_train.describe())"
      ],
      "metadata": {
        "colab": {
          "base_uri": "https://localhost:8080/"
        },
        "id": "iA1mrnhok-48",
        "outputId": "ed782d9f-afb1-4cab-a795-1ad598a7c434"
      },
      "execution_count": 9,
      "outputs": [
        {
          "output_type": "stream",
          "name": "stdout",
          "text": [
            "       bill_length_mm  bill_depth_mm  flipper_length_mm\n",
            "count      232.000000     232.000000         232.000000\n",
            "mean        43.990948      17.226293         200.681034\n",
            "std          5.509760       1.964677          14.064231\n",
            "min         32.100000      13.200000         172.000000\n",
            "25%         39.200000      15.700000         190.000000\n",
            "50%         44.950000      17.350000         197.000000\n",
            "75%         48.775000      18.725000         212.250000\n",
            "max         58.000000      21.500000         231.000000\n"
          ]
        }
      ]
    },
    {
      "cell_type": "markdown",
      "source": [
        "#### 423-06"
      ],
      "metadata": {
        "id": "mFDi5KXInF3L"
      }
    },
    {
      "cell_type": "code",
      "source": [
        "COL_DEL = []\n",
        "COL_NUM = ['bill_length_mm', 'bill_depth_mm', 'flipper_length_mm']\n",
        "COL_CAT = ['species','island', 'sex']\n",
        "COL_Y = ['body_mass_g']"
      ],
      "metadata": {
        "id": "klVzRgg7Mv7X"
      },
      "execution_count": 10,
      "outputs": []
    },
    {
      "cell_type": "markdown",
      "source": [
        "#### 423-07"
      ],
      "metadata": {
        "id": "dlHagH_5vrVz"
      }
    },
    {
      "cell_type": "code",
      "source": [
        "X = pd.concat([X_train, X_test])\n",
        "\n",
        "from sklearn.preprocessing import OneHotEncoder\n",
        "ohe = OneHotEncoder(handle_unknown = 'ignore')\n",
        "ohe.fit(X[COL_CAT])\n",
        "\n",
        "X_train_res = ohe.transform(X_train[COL_CAT])\n",
        "X_test_res = ohe.transform(X_test[COL_CAT])"
      ],
      "metadata": {
        "id": "mo6SZ3SCvrbO"
      },
      "execution_count": 11,
      "outputs": []
    },
    {
      "cell_type": "markdown",
      "source": [
        "#### 423-08"
      ],
      "metadata": {
        "id": "Y3cU8e-U3ksE"
      }
    },
    {
      "cell_type": "code",
      "source": [
        "print(X_train_res)"
      ],
      "metadata": {
        "colab": {
          "base_uri": "https://localhost:8080/"
        },
        "id": "NJ5bL9KR3zLw",
        "outputId": "1fa27b21-730f-4e98-fb49-8b5cca4e3974"
      },
      "execution_count": 12,
      "outputs": [
        {
          "output_type": "stream",
          "name": "stdout",
          "text": [
            "  (0, 2)\t1.0\n",
            "  (0, 3)\t1.0\n",
            "  (0, 6)\t1.0\n",
            "  (1, 0)\t1.0\n",
            "  (1, 5)\t1.0\n",
            "  (1, 7)\t1.0\n",
            "  (2, 1)\t1.0\n",
            "  (2, 4)\t1.0\n",
            "  (2, 7)\t1.0\n",
            "  (3, 2)\t1.0\n",
            "  (3, 3)\t1.0\n",
            "  (3, 7)\t1.0\n",
            "  (4, 0)\t1.0\n",
            "  (4, 4)\t1.0\n",
            "  (4, 6)\t1.0\n",
            "  (5, 2)\t1.0\n",
            "  (5, 3)\t1.0\n",
            "  (5, 7)\t1.0\n",
            "  (6, 2)\t1.0\n",
            "  (6, 3)\t1.0\n",
            "  (6, 6)\t1.0\n",
            "  (7, 0)\t1.0\n",
            "  (7, 5)\t1.0\n",
            "  (7, 6)\t1.0\n",
            "  (8, 2)\t1.0\n",
            "  :\t:\n",
            "  (223, 6)\t1.0\n",
            "  (224, 2)\t1.0\n",
            "  (224, 3)\t1.0\n",
            "  (224, 7)\t1.0\n",
            "  (225, 0)\t1.0\n",
            "  (225, 4)\t1.0\n",
            "  (225, 7)\t1.0\n",
            "  (226, 1)\t1.0\n",
            "  (226, 4)\t1.0\n",
            "  (226, 7)\t1.0\n",
            "  (227, 1)\t1.0\n",
            "  (227, 4)\t1.0\n",
            "  (227, 6)\t1.0\n",
            "  (228, 2)\t1.0\n",
            "  (228, 3)\t1.0\n",
            "  (228, 7)\t1.0\n",
            "  (229, 0)\t1.0\n",
            "  (229, 5)\t1.0\n",
            "  (229, 6)\t1.0\n",
            "  (230, 1)\t1.0\n",
            "  (230, 4)\t1.0\n",
            "  (230, 6)\t1.0\n",
            "  (231, 2)\t1.0\n",
            "  (231, 3)\t1.0\n",
            "  (231, 6)\t1.0\n"
          ]
        }
      ]
    },
    {
      "cell_type": "markdown",
      "source": [
        "#### 423-09"
      ],
      "metadata": {
        "id": "P4MzyH4k4CP_"
      }
    },
    {
      "cell_type": "code",
      "source": [
        "X_train_ohe = pd.DataFrame(X_train_res.todense(), columns = ohe.get_feature_names())\n",
        "X_test_ohe = pd.DataFrame(X_test_res.todense(), columns = ohe.get_feature_names())\n",
        "print(X_train_ohe)\n",
        "\n",
        "X_train_fin = pd.concat([X_train[COL_NUM], X_train_ohe], axis=1)\n",
        "X_test_fin = pd.concat([X_test[COL_NUM], X_test_ohe], axis=1)"
      ],
      "metadata": {
        "colab": {
          "base_uri": "https://localhost:8080/"
        },
        "id": "DNY5eAwH4CXc",
        "outputId": "3239a2b1-39fe-497c-8f5e-c54c5a4219fd"
      },
      "execution_count": 13,
      "outputs": [
        {
          "output_type": "stream",
          "name": "stdout",
          "text": [
            "     x0_Adelie  x0_Chinstrap  x0_Gentoo  x1_Biscoe  x1_Dream  x1_Torgersen  \\\n",
            "0          0.0           0.0        1.0        1.0       0.0           0.0   \n",
            "1          1.0           0.0        0.0        0.0       0.0           1.0   \n",
            "2          0.0           1.0        0.0        0.0       1.0           0.0   \n",
            "3          0.0           0.0        1.0        1.0       0.0           0.0   \n",
            "4          1.0           0.0        0.0        0.0       1.0           0.0   \n",
            "..         ...           ...        ...        ...       ...           ...   \n",
            "227        0.0           1.0        0.0        0.0       1.0           0.0   \n",
            "228        0.0           0.0        1.0        1.0       0.0           0.0   \n",
            "229        1.0           0.0        0.0        0.0       0.0           1.0   \n",
            "230        0.0           1.0        0.0        0.0       1.0           0.0   \n",
            "231        0.0           0.0        1.0        1.0       0.0           0.0   \n",
            "\n",
            "     x2_FEMALE  x2_MALE  \n",
            "0          1.0      0.0  \n",
            "1          0.0      1.0  \n",
            "2          0.0      1.0  \n",
            "3          0.0      1.0  \n",
            "4          1.0      0.0  \n",
            "..         ...      ...  \n",
            "227        1.0      0.0  \n",
            "228        0.0      1.0  \n",
            "229        1.0      0.0  \n",
            "230        1.0      0.0  \n",
            "231        1.0      0.0  \n",
            "\n",
            "[232 rows x 8 columns]\n"
          ]
        }
      ]
    },
    {
      "cell_type": "markdown",
      "source": [
        "### (4) 데이터 모형 구축"
      ],
      "metadata": {
        "id": "hYMQeX3MD8s6"
      }
    },
    {
      "cell_type": "markdown",
      "source": [
        "#### 424-01"
      ],
      "metadata": {
        "id": "BszDAsJa7PRe"
      }
    },
    {
      "cell_type": "code",
      "source": [
        "from sklearn.model_selection import train_test_split\n",
        "X_tr, X_val, y_tr, y_val = train_test_split(X_train_fin, y_train, test_size=0.3)"
      ],
      "metadata": {
        "id": "8ATWEfaL7PX9"
      },
      "execution_count": 14,
      "outputs": []
    },
    {
      "cell_type": "markdown",
      "source": [
        "#### 424-02"
      ],
      "metadata": {
        "id": "8c1pc0IH8dgk"
      }
    },
    {
      "cell_type": "code",
      "source": [
        "from sklearn.preprocessing import MinMaxScaler\n",
        "\n",
        "scaler = MinMaxScaler()\n",
        "scaler.fit(X_tr[COL_NUM])\n",
        "X_tr[COL_NUM]=scaler.transform(X_tr[COL_NUM])\n",
        "X_val[COL_NUM]=scaler.transform(X_val[COL_NUM])\n",
        "X_test_fin[COL_NUM]=scaler.transform(X_test_fin[COL_NUM])"
      ],
      "metadata": {
        "id": "cVBGoK308doE"
      },
      "execution_count": 15,
      "outputs": []
    },
    {
      "cell_type": "markdown",
      "source": [
        "#### 424-03"
      ],
      "metadata": {
        "id": "3DBaeePq-DdZ"
      }
    },
    {
      "cell_type": "code",
      "source": [
        "from sklearn.linear_model import LinearRegression\n",
        "\n",
        "modelLR = LinearRegression()\n",
        "modelLR.fit(X_tr, y_tr)\n",
        "\n",
        "y_val_pred = modelLR.predict(X_val)\n",
        "print(y_val_pred)"
      ],
      "metadata": {
        "colab": {
          "base_uri": "https://localhost:8080/"
        },
        "id": "fYSGSsro-Diy",
        "outputId": "8f165350-fb85-4a78-904a-2014b24979ae"
      },
      "execution_count": 16,
      "outputs": [
        {
          "output_type": "stream",
          "name": "stdout",
          "text": [
            "[[4006.97235585]\n",
            " [4675.45764127]\n",
            " [4011.39293723]\n",
            " [4778.56760262]\n",
            " [3951.26931058]\n",
            " [3923.75831329]\n",
            " [4312.16740799]\n",
            " [5418.73771001]\n",
            " [5494.57800681]\n",
            " [3456.91948485]\n",
            " [3353.71066595]\n",
            " [5292.98597359]\n",
            " [4745.35161677]\n",
            " [4176.02785456]\n",
            " [3993.74180882]\n",
            " [3283.99986207]\n",
            " [3490.23336638]\n",
            " [4756.27198988]\n",
            " [3395.74766003]\n",
            " [3516.59475917]\n",
            " [3459.3884403 ]\n",
            " [4280.22624606]\n",
            " [3329.73388938]\n",
            " [3201.31395557]\n",
            " [5579.9180549 ]\n",
            " [3981.21193695]\n",
            " [3422.35564933]\n",
            " [4285.47199276]\n",
            " [4796.05647374]\n",
            " [5522.81742696]\n",
            " [4191.41275282]\n",
            " [4277.6135177 ]\n",
            " [5351.15100549]\n",
            " [4672.97403204]\n",
            " [4362.00317253]\n",
            " [3411.96492938]\n",
            " [3316.26189932]\n",
            " [4743.75104548]\n",
            " [4143.16667003]\n",
            " [4111.90747333]\n",
            " [4054.83599991]\n",
            " [4688.69321606]\n",
            " [3405.48244076]\n",
            " [4228.53296971]\n",
            " [3625.22070086]\n",
            " [3868.16502482]\n",
            " [5669.70140431]\n",
            " [4093.64740545]\n",
            " [4191.5631587 ]\n",
            " [3542.77994916]\n",
            " [5676.27744396]\n",
            " [4696.59490996]\n",
            " [4183.5970683 ]\n",
            " [3265.82512601]\n",
            " [3110.76273212]\n",
            " [3484.16475931]\n",
            " [4088.76258516]\n",
            " [4907.06561511]\n",
            " [4154.72026243]\n",
            " [3472.82228544]\n",
            " [4096.47173503]\n",
            " [3440.66664738]\n",
            " [3521.5462265 ]\n",
            " [4040.62344708]\n",
            " [3244.20996139]\n",
            " [5412.42936497]\n",
            " [5645.6335906 ]\n",
            " [4949.33873595]\n",
            " [4784.5999333 ]\n",
            " [5575.65360572]]\n"
          ]
        }
      ]
    },
    {
      "cell_type": "markdown",
      "source": [
        "#### 424-04"
      ],
      "metadata": {
        "id": "o0UP_hCxEUKn"
      }
    },
    {
      "cell_type": "code",
      "source": [
        "print(modelLR.intercept_)\n",
        "\n",
        "coef = pd.Series(data=modelLR.coef_[0], index= X_train_fin.columns)\n",
        "print(coef.sort_values())"
      ],
      "metadata": {
        "colab": {
          "base_uri": "https://localhost:8080/"
        },
        "outputId": "73b2e98d-27d0-4b5a-95a2-2b1f0997b24a",
        "id": "Wv1wo_t9-ko4"
      },
      "execution_count": 17,
      "outputs": [
        {
          "output_type": "stream",
          "name": "stdout",
          "text": [
            "[3407.20314762]\n",
            "x0_Chinstrap        -467.977365\n",
            "x0_Adelie           -273.810227\n",
            "x2_FEMALE           -221.289734\n",
            "x1_Dream             -47.685996\n",
            "x1_Torgersen           4.429691\n",
            "x1_Biscoe             43.256305\n",
            "x2_MALE              221.289734\n",
            "bill_depth_mm        458.144803\n",
            "bill_length_mm       483.046326\n",
            "flipper_length_mm    705.636299\n",
            "x0_Gentoo            741.787592\n",
            "dtype: float64\n"
          ]
        }
      ]
    },
    {
      "cell_type": "markdown",
      "source": [
        "### (5) 데이터 모형 평가"
      ],
      "metadata": {
        "id": "Sm84_DN0ERSz"
      }
    },
    {
      "cell_type": "markdown",
      "source": [
        "#### 425-01"
      ],
      "metadata": {
        "id": "2318-DLrGwhR"
      }
    },
    {
      "cell_type": "code",
      "source": [
        "from sklearn.metrics import mean_squared_error, r2_score\n",
        "\n",
        "mse = mean_squared_error(y_val, y_val_pred)\n",
        "rmse = mean_squared_error(y_val, y_val_pred, squared=False)\n",
        "\n",
        "print('MSE : {0:.3f} , RMSE : {1:.3F} '.format(mse , rmse))"
      ],
      "metadata": {
        "colab": {
          "base_uri": "https://localhost:8080/"
        },
        "id": "sgRxh7Y4GwmU",
        "outputId": "f2203d5d-36ab-427b-a36a-f5cc77e7a664"
      },
      "execution_count": 18,
      "outputs": [
        {
          "output_type": "stream",
          "name": "stdout",
          "text": [
            "MSE : 82895.238 , RMSE : 287.915 \n"
          ]
        }
      ]
    },
    {
      "cell_type": "markdown",
      "source": [
        "#### 425-02"
      ],
      "metadata": {
        "id": "bUOQ0fUeQQeD"
      }
    },
    {
      "cell_type": "code",
      "source": [
        "y_pred = modelLR.predict(X_test_fin)\n",
        "print(y_pred)"
      ],
      "metadata": {
        "colab": {
          "base_uri": "https://localhost:8080/"
        },
        "id": "J2Tk89Qg3kzm",
        "outputId": "9e4d148e-ea83-46ac-d7bc-d02eb91dee2b"
      },
      "execution_count": 19,
      "outputs": [
        {
          "output_type": "stream",
          "name": "stdout",
          "text": [
            "[[4158.63422978]\n",
            " [5336.6764941 ]\n",
            " [4127.30310466]\n",
            " [3452.93581447]\n",
            " [4698.72732909]\n",
            " [4033.69150879]\n",
            " [3390.84302275]\n",
            " [3754.78963146]\n",
            " [3530.60877832]\n",
            " [3485.17230841]\n",
            " [3404.97652529]\n",
            " [5494.04545069]\n",
            " [3602.48898598]\n",
            " [4088.64139673]\n",
            " [3908.55718464]\n",
            " [4105.2454243 ]\n",
            " [4355.50564106]\n",
            " [3469.69095619]\n",
            " [3564.29002084]\n",
            " [3395.63931977]\n",
            " [5365.54060484]\n",
            " [4207.38732537]\n",
            " [5840.30774131]\n",
            " [4677.49863419]\n",
            " [5408.3480874 ]\n",
            " [5507.81035945]\n",
            " [5515.09529346]\n",
            " [4240.07326899]\n",
            " [3423.95512328]\n",
            " [4049.41430402]\n",
            " [4191.68515597]\n",
            " [3417.94150254]\n",
            " [3540.73212287]\n",
            " [4636.82859851]\n",
            " [3385.884569  ]\n",
            " [3490.57518407]\n",
            " [3331.36461195]\n",
            " [3449.99547725]\n",
            " [3966.53664133]\n",
            " [4920.74019499]\n",
            " [3498.75694849]\n",
            " [5591.19864616]\n",
            " [4950.58450591]\n",
            " [4671.72645647]\n",
            " [5746.96883708]\n",
            " [3903.24102664]\n",
            " [4759.38099797]\n",
            " [3342.37782782]\n",
            " [5401.32762584]\n",
            " [4247.45790428]\n",
            " [4657.95903384]\n",
            " [4749.97086727]\n",
            " [4173.2177897 ]\n",
            " [3909.10704387]\n",
            " [3272.2104524 ]\n",
            " [4312.977993  ]\n",
            " [4809.19669191]\n",
            " [4624.03957045]\n",
            " [3887.85071156]\n",
            " [4134.83127758]\n",
            " [3748.80764282]\n",
            " [4862.2178479 ]\n",
            " [3332.39886461]\n",
            " [4886.46341641]\n",
            " [4095.65573319]\n",
            " [4099.84450729]\n",
            " [5493.95441355]\n",
            " [3237.10458778]\n",
            " [4767.01821942]\n",
            " [3645.61679908]\n",
            " [4101.36773334]\n",
            " [3456.3095835 ]\n",
            " [4754.23099697]\n",
            " [3324.5136301 ]\n",
            " [4839.92655465]\n",
            " [4647.57302244]\n",
            " [5372.91728426]\n",
            " [3421.58596969]\n",
            " [3516.68328243]\n",
            " [4808.40398283]\n",
            " [3525.57716337]\n",
            " [5700.42946145]\n",
            " [3374.04729487]\n",
            " [4815.86235215]\n",
            " [4691.35638569]\n",
            " [3402.75919412]\n",
            " [5619.6140155 ]\n",
            " [4195.04233016]\n",
            " [3894.62863277]\n",
            " [4781.14224898]\n",
            " [4186.53264108]\n",
            " [4107.20331078]\n",
            " [4150.03021156]\n",
            " [4205.77390591]\n",
            " [5438.45325955]\n",
            " [4201.07575818]\n",
            " [5317.8501076 ]\n",
            " [3617.03471752]\n",
            " [4797.83479982]\n",
            " [5364.47871476]\n",
            " [3568.54609438]]\n"
          ]
        }
      ]
    },
    {
      "cell_type": "markdown",
      "source": [
        "#### 425-03"
      ],
      "metadata": {
        "id": "CPPPbNLGSDQX"
      }
    },
    {
      "cell_type": "code",
      "source": [
        "pd.DataFrame({'body_mass_g': y_pred[:,0]}).to_csv('./yemoonsaBigdata/res/004000000.csv', index=False)"
      ],
      "metadata": {
        "id": "xV91Z1D1SDVz"
      },
      "execution_count": 20,
      "outputs": []
    }
  ]
}