{
  "nbformat": 4,
  "nbformat_minor": 0,
  "metadata": {
    "colab": {
      "name": "P2_C4_03_Penguin.ipynb",
      "provenance": [],
      "collapsed_sections": [],
      "toc_visible": true,
      "authorship_tag": "ABX9TyP6BpcPCLxRCdCu7EhDQ7vE",
      "include_colab_link": true
    },
    "kernelspec": {
      "name": "python3",
      "display_name": "Python 3"
    },
    "language_info": {
      "name": "python"
    }
  },
  "cells": [
    {
      "cell_type": "markdown",
      "metadata": {
        "id": "view-in-github",
        "colab_type": "text"
      },
      "source": [
        "<a href=\"https://colab.research.google.com/github/AnalyticsKnight/yemoonsaBigdata/blob/dev/src/P2_C4_02_Penguin.ipynb\" target=\"_parent\"><img src=\"https://colab.research.google.com/assets/colab-badge.svg\" alt=\"Open In Colab\"/></a>"
      ]
    },
    {
      "cell_type": "markdown",
      "source": [
        "# Chapter 4. A to Z 빅데이터 분석 실습  "
      ],
      "metadata": {
        "id": "XAbvzcR1EbTl"
      }
    },
    {
      "cell_type": "markdown",
      "source": [
        "## 2.실습 A to Z – Penguin"
      ],
      "metadata": {
        "id": "YCbouD2QEe6j"
      }
    },
    {
      "cell_type": "markdown",
      "source": [
        "### Penguin Dataset\n",
        "- https://raw.githubusercontent.com/mwaskom/seaborn-data/master/penguins.csv"
      ],
      "metadata": {
        "id": "6133mB54-c5l"
      }
    },
    {
      "cell_type": "code",
      "source": [
        "!git clone https://github.com/AnalyticsKnight/yemoonsaBigdata/"
      ],
      "metadata": {
        "id": "zDeRbOMSRyiR"
      },
      "execution_count": null,
      "outputs": []
    },
    {
      "cell_type": "markdown",
      "source": [
        "### (2) 사전준비"
      ],
      "metadata": {
        "id": "Kj1QM3jAEezx"
      }
    },
    {
      "cell_type": "markdown",
      "source": [
        "#### 422-01"
      ],
      "metadata": {
        "id": "b6StXWN8Ee2x"
      }
    },
    {
      "cell_type": "code",
      "source": [
        "# 출력을 원하실 경우 print() 함수 활용\n",
        "# 예시) print(df.head())\n",
        "\n",
        "# getcwd(), chdir() 등 작업 폴더 설정 불필요\n",
        "# 파일 경로 상 내부 드라이브 경로(C: 등) 접근 불가\n",
        "\n",
        "# 데이터 파일 읽기 예제\n",
        "import pandas as pd\n",
        "X_test = pd.read_csv(\"./yemoonsaBigdata/datasets/Part2/penguin_X_test.csv\")\n",
        "X_train = pd.read_csv(\"./yemoonsaBigdata/datasets/Part2/penguin_X_train.csv\")\n",
        "y_train = pd.read_csv(\"./yemoonsaBigdata/datasets/Part2/penguin_y_train.csv\")\n",
        "\n",
        "# 사용자 코딩\n",
        "\n",
        "# 답안 제출 참고\n",
        "# 아래 코드 예측변수와 수험번호를 개인별로 변경하여 활용\n",
        "# pd.DataFrame({'cust_id': X_test.cust_id, 'gender': pred}).to_csv('003000000.csv', index=False)\n"
      ],
      "metadata": {
        "id": "uoCvY6YcMvJK"
      },
      "execution_count": null,
      "outputs": []
    },
    {
      "cell_type": "markdown",
      "source": [
        "#### 422-02"
      ],
      "metadata": {
        "id": "OXu5zOP_M081"
      }
    },
    {
      "cell_type": "code",
      "source": [
        "import pandas as pd\n",
        "import numpy as np\n",
        "import warnings\n",
        "\n",
        "warnings.filterwarnings('ignore')"
      ],
      "metadata": {
        "id": "KfydhG51Mvx7"
      },
      "execution_count": null,
      "outputs": []
    },
    {
      "cell_type": "markdown",
      "source": [
        "#### 422-03"
      ],
      "metadata": {
        "id": "u94JB0RYM3eR"
      }
    },
    {
      "cell_type": "code",
      "source": [
        "X_test = pd.read_csv(\"./yemoonsaBigdata/datasets/Part2/penguin_X_test.csv\")\n",
        "X_train = pd.read_csv(\"./yemoonsaBigdata/datasets/Part2/penguin_X_train.csv\")\n",
        "y_train = pd.read_csv(\"./yemoonsaBigdata/datasets/Part2/penguin_y_train.csv\")"
      ],
      "metadata": {
        "id": "N1KFtKLPMv0i"
      },
      "execution_count": null,
      "outputs": []
    },
    {
      "cell_type": "markdown",
      "source": [
        "### (3) 데이터 전처리"
      ],
      "metadata": {
        "id": "meb-nM3VC65E"
      }
    },
    {
      "cell_type": "markdown",
      "source": [
        "#### 423-01"
      ],
      "metadata": {
        "id": "7zBOVf8GYn-f"
      }
    },
    {
      "cell_type": "code",
      "source": [
        "print(X_train.info())"
      ],
      "metadata": {
        "id": "6ZJqaVBJMv5f",
        "colab": {
          "base_uri": "https://localhost:8080/"
        },
        "outputId": "5f6482bc-ac20-45f2-d04a-cc76e13ec267"
      },
      "execution_count": null,
      "outputs": [
        {
          "output_type": "stream",
          "name": "stdout",
          "text": [
            "<class 'pandas.core.frame.DataFrame'>\n",
            "RangeIndex: 240 entries, 0 to 239\n",
            "Data columns (total 6 columns):\n",
            " #   Column             Non-Null Count  Dtype  \n",
            "---  ------             --------------  -----  \n",
            " 0   species            240 non-null    object \n",
            " 1   island             240 non-null    object \n",
            " 2   sex                232 non-null    object \n",
            " 3   bill_length_mm     238 non-null    float64\n",
            " 4   bill_depth_mm      238 non-null    float64\n",
            " 5   flipper_length_mm  238 non-null    float64\n",
            "dtypes: float64(3), object(3)\n",
            "memory usage: 11.4+ KB\n",
            "None\n"
          ]
        }
      ]
    },
    {
      "cell_type": "markdown",
      "source": [
        "#### 423-02"
      ],
      "metadata": {
        "id": "WBjT2GYieSop"
      }
    },
    {
      "cell_type": "code",
      "source": [
        "train =  pd.concat([X_train, y_train], axis=1)\n",
        "print(train.loc[(train.sex.isna()) | (train.bill_length_mm.isna()) | (train.bill_depth_mm.isna()) | (train.flipper_length_mm.isna()) | (train.body_mass_g.isna())])"
      ],
      "metadata": {
        "id": "5NaT5oOneSuD",
        "colab": {
          "base_uri": "https://localhost:8080/"
        },
        "outputId": "b5eefc29-1f45-48a4-ce64-2493a74fb764"
      },
      "execution_count": null,
      "outputs": [
        {
          "output_type": "stream",
          "name": "stdout",
          "text": [
            "    species     island  sex  bill_length_mm  bill_depth_mm  flipper_length_mm  \\\n",
            "0    Adelie  Torgersen  NaN            42.0           20.2              190.0   \n",
            "6    Gentoo     Biscoe  NaN            44.5           14.3              216.0   \n",
            "43   Gentoo     Biscoe  NaN             NaN            NaN                NaN   \n",
            "66   Adelie  Torgersen  NaN            37.8           17.3              180.0   \n",
            "88   Gentoo     Biscoe  NaN            47.3           13.8              216.0   \n",
            "89   Adelie  Torgersen  NaN            37.8           17.1              186.0   \n",
            "110  Gentoo     Biscoe  NaN            44.5           15.7              217.0   \n",
            "229  Adelie  Torgersen  NaN             NaN            NaN                NaN   \n",
            "\n",
            "     body_mass_g  \n",
            "0         4250.0  \n",
            "6         4100.0  \n",
            "43           NaN  \n",
            "66        3700.0  \n",
            "88        4725.0  \n",
            "89        3300.0  \n",
            "110       4875.0  \n",
            "229          NaN  \n"
          ]
        }
      ]
    },
    {
      "cell_type": "markdown",
      "source": [
        "#### 423-03"
      ],
      "metadata": {
        "id": "9p2J2olLDe0D"
      }
    },
    {
      "cell_type": "code",
      "source": [
        "train = train.dropna()\n",
        "train.reset_index(drop=True, inplace=True)"
      ],
      "metadata": {
        "id": "AVemZrpXDgX3"
      },
      "execution_count": null,
      "outputs": []
    },
    {
      "cell_type": "markdown",
      "source": [
        "#### 423-04\n"
      ],
      "metadata": {
        "id": "Fc_OCskUmG7_"
      }
    },
    {
      "cell_type": "code",
      "source": [
        "X_train = train[['species','island', 'sex','bill_length_mm', 'bill_depth_mm', 'flipper_length_mm']]\n",
        "y_train = train[['body_mass_g']]"
      ],
      "metadata": {
        "id": "cUfRT5JxlFv-"
      },
      "execution_count": null,
      "outputs": []
    },
    {
      "cell_type": "markdown",
      "source": [
        "#### 423-05"
      ],
      "metadata": {
        "id": "6G7MSS_Vk-zS"
      }
    },
    {
      "cell_type": "code",
      "source": [
        "print(X_train.describe())"
      ],
      "metadata": {
        "colab": {
          "base_uri": "https://localhost:8080/"
        },
        "id": "iA1mrnhok-48",
        "outputId": "8784f8cd-2951-4312-f8cc-af443648391f"
      },
      "execution_count": null,
      "outputs": [
        {
          "output_type": "stream",
          "name": "stdout",
          "text": [
            "       bill_length_mm  bill_depth_mm  flipper_length_mm\n",
            "count      232.000000     232.000000         232.000000\n",
            "mean        43.990948      17.226293         200.681034\n",
            "std          5.509760       1.964677          14.064231\n",
            "min         32.100000      13.200000         172.000000\n",
            "25%         39.200000      15.700000         190.000000\n",
            "50%         44.950000      17.350000         197.000000\n",
            "75%         48.775000      18.725000         212.250000\n",
            "max         58.000000      21.500000         231.000000\n"
          ]
        }
      ]
    },
    {
      "cell_type": "markdown",
      "source": [
        "#### 423-06"
      ],
      "metadata": {
        "id": "mFDi5KXInF3L"
      }
    },
    {
      "cell_type": "code",
      "source": [
        "COL_DEL = []\n",
        "COL_NUM = ['bill_length_mm', 'bill_depth_mm', 'flipper_length_mm']\n",
        "COL_CAT = ['species','island', 'sex']\n",
        "COL_Y = ['body_mass_g']"
      ],
      "metadata": {
        "id": "klVzRgg7Mv7X"
      },
      "execution_count": null,
      "outputs": []
    },
    {
      "cell_type": "markdown",
      "source": [
        "#### 423-07"
      ],
      "metadata": {
        "id": "dlHagH_5vrVz"
      }
    },
    {
      "cell_type": "code",
      "source": [
        "X = pd.concat([X_train, X_test])\n",
        "\n",
        "from sklearn.preprocessing import OneHotEncoder\n",
        "ohe = OneHotEncoder(handle_unknown = 'ignore')\n",
        "ohe.fit(X[COL_CAT])\n",
        "\n",
        "X_train_res = ohe.transform(X_train[COL_CAT])\n",
        "X_test_res = ohe.transform(X_test[COL_CAT])"
      ],
      "metadata": {
        "id": "mo6SZ3SCvrbO"
      },
      "execution_count": null,
      "outputs": []
    },
    {
      "cell_type": "markdown",
      "source": [
        "#### 423-08"
      ],
      "metadata": {
        "id": "Y3cU8e-U3ksE"
      }
    },
    {
      "cell_type": "code",
      "source": [
        "print(X_train_res)"
      ],
      "metadata": {
        "colab": {
          "base_uri": "https://localhost:8080/"
        },
        "id": "NJ5bL9KR3zLw",
        "outputId": "4570fd7b-3f24-4820-dd05-02afe4030edc"
      },
      "execution_count": null,
      "outputs": [
        {
          "output_type": "stream",
          "name": "stdout",
          "text": [
            "  (0, 2)\t1.0\n",
            "  (0, 3)\t1.0\n",
            "  (0, 6)\t1.0\n",
            "  (1, 0)\t1.0\n",
            "  (1, 5)\t1.0\n",
            "  (1, 7)\t1.0\n",
            "  (2, 1)\t1.0\n",
            "  (2, 4)\t1.0\n",
            "  (2, 7)\t1.0\n",
            "  (3, 2)\t1.0\n",
            "  (3, 3)\t1.0\n",
            "  (3, 7)\t1.0\n",
            "  (4, 0)\t1.0\n",
            "  (4, 4)\t1.0\n",
            "  (4, 6)\t1.0\n",
            "  (5, 2)\t1.0\n",
            "  (5, 3)\t1.0\n",
            "  (5, 7)\t1.0\n",
            "  (6, 2)\t1.0\n",
            "  (6, 3)\t1.0\n",
            "  (6, 6)\t1.0\n",
            "  (7, 0)\t1.0\n",
            "  (7, 5)\t1.0\n",
            "  (7, 6)\t1.0\n",
            "  (8, 2)\t1.0\n",
            "  :\t:\n",
            "  (223, 6)\t1.0\n",
            "  (224, 2)\t1.0\n",
            "  (224, 3)\t1.0\n",
            "  (224, 7)\t1.0\n",
            "  (225, 0)\t1.0\n",
            "  (225, 4)\t1.0\n",
            "  (225, 7)\t1.0\n",
            "  (226, 1)\t1.0\n",
            "  (226, 4)\t1.0\n",
            "  (226, 7)\t1.0\n",
            "  (227, 1)\t1.0\n",
            "  (227, 4)\t1.0\n",
            "  (227, 6)\t1.0\n",
            "  (228, 2)\t1.0\n",
            "  (228, 3)\t1.0\n",
            "  (228, 7)\t1.0\n",
            "  (229, 0)\t1.0\n",
            "  (229, 5)\t1.0\n",
            "  (229, 6)\t1.0\n",
            "  (230, 1)\t1.0\n",
            "  (230, 4)\t1.0\n",
            "  (230, 6)\t1.0\n",
            "  (231, 2)\t1.0\n",
            "  (231, 3)\t1.0\n",
            "  (231, 6)\t1.0\n"
          ]
        }
      ]
    },
    {
      "cell_type": "markdown",
      "source": [
        "#### 423-09"
      ],
      "metadata": {
        "id": "P4MzyH4k4CP_"
      }
    },
    {
      "cell_type": "code",
      "source": [
        "X_train_ohe = pd.DataFrame(X_train_res.todense(), columns = ohe.get_feature_names())\n",
        "X_test_ohe = pd.DataFrame(X_test_res.todense(), columns = ohe.get_feature_names())\n",
        "print(X_train_ohe)\n",
        "\n",
        "X_train_fin = pd.concat([X_train[COL_NUM], X_train_ohe], axis=1)\n",
        "X_test_fin = pd.concat([X_test[COL_NUM], X_test_ohe], axis=1)"
      ],
      "metadata": {
        "colab": {
          "base_uri": "https://localhost:8080/"
        },
        "id": "DNY5eAwH4CXc",
        "outputId": "dc63e01c-5833-499b-db03-0af5204381c0"
      },
      "execution_count": null,
      "outputs": [
        {
          "output_type": "stream",
          "name": "stdout",
          "text": [
            "     x0_Adelie  x0_Chinstrap  x0_Gentoo  x1_Biscoe  x1_Dream  x1_Torgersen  \\\n",
            "0          0.0           0.0        1.0        1.0       0.0           0.0   \n",
            "1          1.0           0.0        0.0        0.0       0.0           1.0   \n",
            "2          0.0           1.0        0.0        0.0       1.0           0.0   \n",
            "3          0.0           0.0        1.0        1.0       0.0           0.0   \n",
            "4          1.0           0.0        0.0        0.0       1.0           0.0   \n",
            "..         ...           ...        ...        ...       ...           ...   \n",
            "227        0.0           1.0        0.0        0.0       1.0           0.0   \n",
            "228        0.0           0.0        1.0        1.0       0.0           0.0   \n",
            "229        1.0           0.0        0.0        0.0       0.0           1.0   \n",
            "230        0.0           1.0        0.0        0.0       1.0           0.0   \n",
            "231        0.0           0.0        1.0        1.0       0.0           0.0   \n",
            "\n",
            "     x2_FEMALE  x2_MALE  \n",
            "0          1.0      0.0  \n",
            "1          0.0      1.0  \n",
            "2          0.0      1.0  \n",
            "3          0.0      1.0  \n",
            "4          1.0      0.0  \n",
            "..         ...      ...  \n",
            "227        1.0      0.0  \n",
            "228        0.0      1.0  \n",
            "229        1.0      0.0  \n",
            "230        1.0      0.0  \n",
            "231        1.0      0.0  \n",
            "\n",
            "[232 rows x 8 columns]\n"
          ]
        }
      ]
    },
    {
      "cell_type": "markdown",
      "source": [
        "### (4) 데이터 모형 구축"
      ],
      "metadata": {
        "id": "hYMQeX3MD8s6"
      }
    },
    {
      "cell_type": "markdown",
      "source": [
        "#### 424-01"
      ],
      "metadata": {
        "id": "BszDAsJa7PRe"
      }
    },
    {
      "cell_type": "code",
      "source": [
        "from sklearn.model_selection import train_test_split\n",
        "X_tr, X_val, y_tr, y_val = train_test_split(X_train_fin, y_train, test_size=0.3)"
      ],
      "metadata": {
        "id": "8ATWEfaL7PX9"
      },
      "execution_count": null,
      "outputs": []
    },
    {
      "cell_type": "markdown",
      "source": [
        "#### 424-02"
      ],
      "metadata": {
        "id": "8c1pc0IH8dgk"
      }
    },
    {
      "cell_type": "code",
      "source": [
        "from sklearn.preprocessing import MinMaxScaler\n",
        "\n",
        "scaler = MinMaxScaler()\n",
        "scaler.fit(X_tr[COL_NUM])\n",
        "X_tr[COL_NUM]=scaler.transform(X_tr[COL_NUM])\n",
        "X_val[COL_NUM]=scaler.transform(X_val[COL_NUM])\n",
        "X_test_fin[COL_NUM]=scaler.transform(X_test_fin[COL_NUM])"
      ],
      "metadata": {
        "id": "cVBGoK308doE"
      },
      "execution_count": null,
      "outputs": []
    },
    {
      "cell_type": "markdown",
      "source": [
        "#### 424-03"
      ],
      "metadata": {
        "id": "3DBaeePq-DdZ"
      }
    },
    {
      "cell_type": "code",
      "source": [
        "from sklearn.linear_model import LinearRegression\n",
        "\n",
        "modelLR = LinearRegression()\n",
        "modelLR.fit(X_tr, y_tr)\n",
        "\n",
        "y_val_pred = modelLR.predict(X_val)\n",
        "print(y_val_pred)"
      ],
      "metadata": {
        "colab": {
          "base_uri": "https://localhost:8080/"
        },
        "id": "fYSGSsro-Diy",
        "outputId": "2e4c15cb-f089-4b9a-bb71-cc947021347f"
      },
      "execution_count": null,
      "outputs": [
        {
          "output_type": "stream",
          "name": "stdout",
          "text": [
            "[[3095.650093  ]\n",
            " [4118.47495299]\n",
            " [5567.07705676]\n",
            " [3539.06117732]\n",
            " [4310.19437254]\n",
            " [5576.13438973]\n",
            " [3370.80071059]\n",
            " [5453.71856562]\n",
            " [3868.58158341]\n",
            " [4750.21600205]\n",
            " [3434.2487073 ]\n",
            " [3269.99100294]\n",
            " [3982.31469122]\n",
            " [3610.03717949]\n",
            " [5434.40621116]\n",
            " [4212.41458782]\n",
            " [4069.07892492]\n",
            " [4309.59883557]\n",
            " [4759.82120889]\n",
            " [3452.82533185]\n",
            " [5438.7811625 ]\n",
            " [5451.36083308]\n",
            " [5356.19042627]\n",
            " [4728.67798616]\n",
            " [4049.72774277]\n",
            " [3153.3544897 ]\n",
            " [4851.57256409]\n",
            " [5294.28400969]\n",
            " [3811.76718225]\n",
            " [5696.052896  ]\n",
            " [3898.97278799]\n",
            " [3417.5673497 ]\n",
            " [3395.17580129]\n",
            " [5563.04288187]\n",
            " [4232.34351146]\n",
            " [4571.8744271 ]\n",
            " [3497.42193244]\n",
            " [4044.90872898]\n",
            " [4132.00917809]\n",
            " [3491.88516713]\n",
            " [5407.26273466]\n",
            " [3352.83295812]\n",
            " [3443.1721992 ]\n",
            " [5545.26738446]\n",
            " [4797.28856421]\n",
            " [3971.30925949]\n",
            " [5730.95542137]\n",
            " [3289.54724817]\n",
            " [5561.50441689]\n",
            " [4239.17990608]\n",
            " [3320.72210846]\n",
            " [4771.13702403]\n",
            " [4071.49885178]\n",
            " [3144.56923956]\n",
            " [3344.92302318]\n",
            " [5824.48676763]\n",
            " [3406.06019997]\n",
            " [5814.67607129]\n",
            " [3345.26471842]\n",
            " [4705.22951602]\n",
            " [3356.15275936]\n",
            " [4334.31427631]\n",
            " [4087.37949405]\n",
            " [4337.76749388]\n",
            " [5565.7083074 ]\n",
            " [5338.96145752]\n",
            " [4990.36205279]\n",
            " [4912.21538794]\n",
            " [4034.75472949]\n",
            " [3435.65037808]]\n"
          ]
        }
      ]
    },
    {
      "cell_type": "markdown",
      "source": [
        "#### 424-04"
      ],
      "metadata": {
        "id": "o0UP_hCxEUKn"
      }
    },
    {
      "cell_type": "code",
      "source": [
        "print(modelLR.intercept_)\n",
        "\n",
        "coef = pd.Series(data=modelLR.coef_[0], index= X_train_fin.columns)\n",
        "print(coef.sort_values())"
      ],
      "metadata": {
        "colab": {
          "base_uri": "https://localhost:8080/"
        },
        "outputId": "ae206b60-1320-4b20-9145-3eb092f8c090",
        "id": "Wv1wo_t9-ko4"
      },
      "execution_count": null,
      "outputs": [
        {
          "output_type": "stream",
          "name": "stdout",
          "text": [
            "[3266.54386845]\n",
            "x0_Chinstrap         -393.028063\n",
            "x2_FEMALE            -224.193013\n",
            "x0_Adelie            -152.162914\n",
            "x1_Dream              -77.992171\n",
            "x1_Biscoe               0.976388\n",
            "x1_Torgersen           77.015783\n",
            "bill_depth_mm         190.088295\n",
            "x2_MALE               224.193013\n",
            "x0_Gentoo             545.190977\n",
            "bill_length_mm        584.253566\n",
            "flipper_length_mm    1114.282015\n",
            "dtype: float64\n"
          ]
        }
      ]
    },
    {
      "cell_type": "markdown",
      "source": [
        "### (5) 데이터 모형 평가"
      ],
      "metadata": {
        "id": "Sm84_DN0ERSz"
      }
    },
    {
      "cell_type": "markdown",
      "source": [
        "#### 425-01"
      ],
      "metadata": {
        "id": "2318-DLrGwhR"
      }
    },
    {
      "cell_type": "code",
      "source": [
        "from sklearn.metrics import mean_squared_error, r2_score\n",
        "\n",
        "mse = mean_squared_error(y_val, y_val_pred)\n",
        "rmse = mean_squared_error(y_val, y_val_pred, squared=False)\n",
        "\n",
        "print('MSE : {0:.3f} , RMSE : {1:.3F} '.format(mse , rmse))"
      ],
      "metadata": {
        "colab": {
          "base_uri": "https://localhost:8080/"
        },
        "id": "sgRxh7Y4GwmU",
        "outputId": "39cafb8d-a3a7-4553-dac5-5784b4733f63"
      },
      "execution_count": null,
      "outputs": [
        {
          "output_type": "stream",
          "name": "stdout",
          "text": [
            "MSE : 104765.374 , RMSE : 323.675 \n"
          ]
        }
      ]
    },
    {
      "cell_type": "markdown",
      "source": [
        "#### 425-02"
      ],
      "metadata": {
        "id": "bUOQ0fUeQQeD"
      }
    },
    {
      "cell_type": "code",
      "source": [
        "y_pred = modelLR.predict(X_test_fin)\n",
        "print(y_pred)"
      ],
      "metadata": {
        "colab": {
          "base_uri": "https://localhost:8080/"
        },
        "id": "J2Tk89Qg3kzm",
        "outputId": "4e810c96-18b3-4a09-8815-e83da233eb60"
      },
      "execution_count": null,
      "outputs": [
        {
          "output_type": "stream",
          "name": "stdout",
          "text": [
            "[[4241.7908919 ]\n",
            " [5343.64544706]\n",
            " [4078.92270471]\n",
            " [3402.14840334]\n",
            " [4622.97955623]\n",
            " [4022.51583536]\n",
            " [3468.41415755]\n",
            " [3607.93760621]\n",
            " [3500.94131692]\n",
            " [3501.55847454]\n",
            " [3282.84232993]\n",
            " [5533.78024578]\n",
            " [3580.42348564]\n",
            " [4108.7992809 ]\n",
            " [3880.59615849]\n",
            " [4144.59045659]\n",
            " [4471.83990957]\n",
            " [3578.68130111]\n",
            " [3570.47244725]\n",
            " [3432.82712615]\n",
            " [5308.77574244]\n",
            " [4297.98990708]\n",
            " [5971.99281285]\n",
            " [4650.70399006]\n",
            " [5393.11017044]\n",
            " [5541.12966086]\n",
            " [5570.42672562]\n",
            " [4378.0860159 ]\n",
            " [3409.97775375]\n",
            " [4042.41183757]\n",
            " [4175.11550391]\n",
            " [3345.94804295]\n",
            " [3482.10476315]\n",
            " [4591.12061465]\n",
            " [3258.74243722]\n",
            " [3584.91522012]\n",
            " [3236.08277857]\n",
            " [3481.60895141]\n",
            " [3943.34641473]\n",
            " [4963.28769633]\n",
            " [3420.12804504]\n",
            " [5629.1201055 ]\n",
            " [4961.44153836]\n",
            " [4683.69310805]\n",
            " [5831.11724801]\n",
            " [3799.66626549]\n",
            " [4760.33439138]\n",
            " [3293.99266476]\n",
            " [5401.51929667]\n",
            " [4216.10487111]\n",
            " [4622.84318678]\n",
            " [4720.98779463]\n",
            " [4183.25533841]\n",
            " [3746.57936569]\n",
            " [3176.18800027]\n",
            " [4560.15433545]\n",
            " [4821.55817255]\n",
            " [4586.36911298]\n",
            " [3909.64157789]\n",
            " [4102.55412491]\n",
            " [3601.60109437]\n",
            " [4843.33315348]\n",
            " [3299.86994381]\n",
            " [4879.32981866]\n",
            " [4093.03939438]\n",
            " [4206.85528308]\n",
            " [5500.92775995]\n",
            " [3199.94829804]\n",
            " [4730.11424764]\n",
            " [3710.15285027]\n",
            " [4021.93589751]\n",
            " [3330.32715327]\n",
            " [4702.28787302]\n",
            " [3327.67630738]\n",
            " [4866.0328213 ]\n",
            " [4580.89867661]\n",
            " [5447.50067215]\n",
            " [3249.40888679]\n",
            " [3570.18035337]\n",
            " [4785.01497871]\n",
            " [3446.86027984]\n",
            " [5764.31974447]\n",
            " [3415.55173882]\n",
            " [4819.16574864]\n",
            " [4667.83101802]\n",
            " [3339.59056419]\n",
            " [5690.13974239]\n",
            " [4343.14906186]\n",
            " [3903.86387495]\n",
            " [4761.87259364]\n",
            " [4063.56847938]\n",
            " [4157.13704371]\n",
            " [4228.30857981]\n",
            " [4251.48496712]\n",
            " [5475.11994935]\n",
            " [4217.79024955]\n",
            " [5257.60149326]\n",
            " [3718.37090462]\n",
            " [4777.01574897]\n",
            " [5380.32635557]\n",
            " [3699.87808044]]\n"
          ]
        }
      ]
    },
    {
      "cell_type": "markdown",
      "source": [
        "#### 425-03"
      ],
      "metadata": {
        "id": "CPPPbNLGSDQX"
      }
    },
    {
      "cell_type": "code",
      "source": [
        "pd.DataFrame({'body_mass_g': y_pred[:,0]}).to_csv('./yemoonsaBigdata/res/004000000.csv', index=False)"
      ],
      "metadata": {
        "id": "xV91Z1D1SDVz"
      },
      "execution_count": null,
      "outputs": []
    }
  ]
}