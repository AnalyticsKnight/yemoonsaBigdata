{
  "nbformat": 4,
  "nbformat_minor": 0,
  "metadata": {
    "colab": {
      "name": "P3_C1_PythonExam.ipynb",
      "provenance": [],
      "collapsed_sections": [],
      "toc_visible": true,
      "include_colab_link": true
    },
    "kernelspec": {
      "name": "python3",
      "display_name": "Python 3"
    },
    "language_info": {
      "name": "python"
    }
  },
  "cells": [
    {
      "cell_type": "markdown",
      "metadata": {
        "id": "view-in-github",
        "colab_type": "text"
      },
      "source": [
        "<a href=\"https://colab.research.google.com/github/AnalyticsKnight/yemoonsaBigdata/blob/dev/P3_C1_PythonExam.ipynb\" target=\"_parent\"><img src=\"https://colab.research.google.com/assets/colab-badge.svg\" alt=\"Open In Colab\"/></a>"
      ]
    },
    {
      "cell_type": "markdown",
      "source": [
        "# **Chapter 1. 기출 문제 : 빅데이터분석기사 2회**"
      ],
      "metadata": {
        "id": "CeSIU7NxqpAD"
      }
    },
    {
      "cell_type": "markdown",
      "source": [
        "## 1. 단답형"
      ],
      "metadata": {
        "id": "MX3-XCZUqyfD"
      }
    },
    {
      "cell_type": "markdown",
      "source": [
        "## 2. 작업형 제1유형"
      ],
      "metadata": {
        "id": "fCTuF6dRq1UE"
      }
    },
    {
      "cell_type": "code",
      "source": [
        "!git clone https://github.com/AnalyticsKnight/yemoonsaBigdata/"
      ],
      "metadata": {
        "colab": {
          "base_uri": "https://localhost:8080/"
        },
        "id": "VqH3TusIsbzw",
        "outputId": "00b90552-784b-43df-dbfe-1d0a4ef5f8af"
      },
      "execution_count": 1,
      "outputs": [
        {
          "output_type": "stream",
          "name": "stdout",
          "text": [
            "Cloning into 'yemoonsaBigdata'...\n",
            "remote: Enumerating objects: 157, done.\u001b[K\n",
            "remote: Counting objects: 100% (157/157), done.\u001b[K\n",
            "remote: Compressing objects: 100% (151/151), done.\u001b[K\n",
            "remote: Total 157 (delta 70), reused 4 (delta 1), pack-reused 0\u001b[K\n",
            "Receiving objects: 100% (157/157), 3.37 MiB | 5.12 MiB/s, done.\n",
            "Resolving deltas: 100% (70/70), done.\n"
          ]
        }
      ]
    },
    {
      "cell_type": "markdown",
      "source": [
        "### (1) 번 문제"
      ],
      "metadata": {
        "id": "tMFQ7VQJrGq6"
      }
    },
    {
      "cell_type": "markdown",
      "source": [
        "#### 301 데이터 불러오기 & 탐색하기"
      ],
      "metadata": {
        "id": "g8x3K0ieMP6B"
      }
    },
    {
      "cell_type": "code",
      "source": [
        "import pandas as pd\n",
        "\n",
        "boston = pd.read_csv(\"./yemoonsaBigdata/datasets/201_boston.csv\")\n",
        "boston.head(5)"
      ],
      "metadata": {
        "id": "7K0PwF-2zWkn",
        "colab": {
          "base_uri": "https://localhost:8080/",
          "height": 206
        },
        "outputId": "2bc6f88f-f457-45df-cb6e-e0ad4e9766c3"
      },
      "execution_count": 13,
      "outputs": [
        {
          "output_type": "execute_result",
          "data": {
            "text/html": [
              "\n",
              "  <div id=\"df-808ba0cd-0c45-4b1b-8d6b-c121d226c9c3\">\n",
              "    <div class=\"colab-df-container\">\n",
              "      <div>\n",
              "<style scoped>\n",
              "    .dataframe tbody tr th:only-of-type {\n",
              "        vertical-align: middle;\n",
              "    }\n",
              "\n",
              "    .dataframe tbody tr th {\n",
              "        vertical-align: top;\n",
              "    }\n",
              "\n",
              "    .dataframe thead th {\n",
              "        text-align: right;\n",
              "    }\n",
              "</style>\n",
              "<table border=\"1\" class=\"dataframe\">\n",
              "  <thead>\n",
              "    <tr style=\"text-align: right;\">\n",
              "      <th></th>\n",
              "      <th>CRIM</th>\n",
              "      <th>ZN</th>\n",
              "      <th>INDUS</th>\n",
              "      <th>CHAS</th>\n",
              "      <th>NOX</th>\n",
              "      <th>RM</th>\n",
              "      <th>AGE</th>\n",
              "      <th>DIS</th>\n",
              "      <th>RAD</th>\n",
              "      <th>TAX</th>\n",
              "      <th>PTRATIO</th>\n",
              "      <th>B</th>\n",
              "      <th>LSTAT</th>\n",
              "    </tr>\n",
              "  </thead>\n",
              "  <tbody>\n",
              "    <tr>\n",
              "      <th>0</th>\n",
              "      <td>0.00632</td>\n",
              "      <td>18.0</td>\n",
              "      <td>2.31</td>\n",
              "      <td>0.0</td>\n",
              "      <td>0.538</td>\n",
              "      <td>6.575</td>\n",
              "      <td>65.2</td>\n",
              "      <td>4.0900</td>\n",
              "      <td>1.0</td>\n",
              "      <td>296.0</td>\n",
              "      <td>15.3</td>\n",
              "      <td>396.90</td>\n",
              "      <td>4.98</td>\n",
              "    </tr>\n",
              "    <tr>\n",
              "      <th>1</th>\n",
              "      <td>0.02731</td>\n",
              "      <td>0.0</td>\n",
              "      <td>7.07</td>\n",
              "      <td>0.0</td>\n",
              "      <td>0.469</td>\n",
              "      <td>6.421</td>\n",
              "      <td>78.9</td>\n",
              "      <td>4.9671</td>\n",
              "      <td>2.0</td>\n",
              "      <td>242.0</td>\n",
              "      <td>17.8</td>\n",
              "      <td>396.90</td>\n",
              "      <td>9.14</td>\n",
              "    </tr>\n",
              "    <tr>\n",
              "      <th>2</th>\n",
              "      <td>0.02729</td>\n",
              "      <td>0.0</td>\n",
              "      <td>7.07</td>\n",
              "      <td>0.0</td>\n",
              "      <td>0.469</td>\n",
              "      <td>7.185</td>\n",
              "      <td>61.1</td>\n",
              "      <td>4.9671</td>\n",
              "      <td>2.0</td>\n",
              "      <td>242.0</td>\n",
              "      <td>17.8</td>\n",
              "      <td>392.83</td>\n",
              "      <td>4.03</td>\n",
              "    </tr>\n",
              "    <tr>\n",
              "      <th>3</th>\n",
              "      <td>0.03237</td>\n",
              "      <td>0.0</td>\n",
              "      <td>2.18</td>\n",
              "      <td>0.0</td>\n",
              "      <td>0.458</td>\n",
              "      <td>6.998</td>\n",
              "      <td>45.8</td>\n",
              "      <td>6.0622</td>\n",
              "      <td>3.0</td>\n",
              "      <td>222.0</td>\n",
              "      <td>18.7</td>\n",
              "      <td>394.63</td>\n",
              "      <td>2.94</td>\n",
              "    </tr>\n",
              "    <tr>\n",
              "      <th>4</th>\n",
              "      <td>0.06905</td>\n",
              "      <td>0.0</td>\n",
              "      <td>2.18</td>\n",
              "      <td>0.0</td>\n",
              "      <td>0.458</td>\n",
              "      <td>7.147</td>\n",
              "      <td>54.2</td>\n",
              "      <td>6.0622</td>\n",
              "      <td>3.0</td>\n",
              "      <td>222.0</td>\n",
              "      <td>18.7</td>\n",
              "      <td>396.90</td>\n",
              "      <td>5.33</td>\n",
              "    </tr>\n",
              "  </tbody>\n",
              "</table>\n",
              "</div>\n",
              "      <button class=\"colab-df-convert\" onclick=\"convertToInteractive('df-808ba0cd-0c45-4b1b-8d6b-c121d226c9c3')\"\n",
              "              title=\"Convert this dataframe to an interactive table.\"\n",
              "              style=\"display:none;\">\n",
              "        \n",
              "  <svg xmlns=\"http://www.w3.org/2000/svg\" height=\"24px\"viewBox=\"0 0 24 24\"\n",
              "       width=\"24px\">\n",
              "    <path d=\"M0 0h24v24H0V0z\" fill=\"none\"/>\n",
              "    <path d=\"M18.56 5.44l.94 2.06.94-2.06 2.06-.94-2.06-.94-.94-2.06-.94 2.06-2.06.94zm-11 1L8.5 8.5l.94-2.06 2.06-.94-2.06-.94L8.5 2.5l-.94 2.06-2.06.94zm10 10l.94 2.06.94-2.06 2.06-.94-2.06-.94-.94-2.06-.94 2.06-2.06.94z\"/><path d=\"M17.41 7.96l-1.37-1.37c-.4-.4-.92-.59-1.43-.59-.52 0-1.04.2-1.43.59L10.3 9.45l-7.72 7.72c-.78.78-.78 2.05 0 2.83L4 21.41c.39.39.9.59 1.41.59.51 0 1.02-.2 1.41-.59l7.78-7.78 2.81-2.81c.8-.78.8-2.07 0-2.86zM5.41 20L4 18.59l7.72-7.72 1.47 1.35L5.41 20z\"/>\n",
              "  </svg>\n",
              "      </button>\n",
              "      \n",
              "  <style>\n",
              "    .colab-df-container {\n",
              "      display:flex;\n",
              "      flex-wrap:wrap;\n",
              "      gap: 12px;\n",
              "    }\n",
              "\n",
              "    .colab-df-convert {\n",
              "      background-color: #E8F0FE;\n",
              "      border: none;\n",
              "      border-radius: 50%;\n",
              "      cursor: pointer;\n",
              "      display: none;\n",
              "      fill: #1967D2;\n",
              "      height: 32px;\n",
              "      padding: 0 0 0 0;\n",
              "      width: 32px;\n",
              "    }\n",
              "\n",
              "    .colab-df-convert:hover {\n",
              "      background-color: #E2EBFA;\n",
              "      box-shadow: 0px 1px 2px rgba(60, 64, 67, 0.3), 0px 1px 3px 1px rgba(60, 64, 67, 0.15);\n",
              "      fill: #174EA6;\n",
              "    }\n",
              "\n",
              "    [theme=dark] .colab-df-convert {\n",
              "      background-color: #3B4455;\n",
              "      fill: #D2E3FC;\n",
              "    }\n",
              "\n",
              "    [theme=dark] .colab-df-convert:hover {\n",
              "      background-color: #434B5C;\n",
              "      box-shadow: 0px 1px 3px 1px rgba(0, 0, 0, 0.15);\n",
              "      filter: drop-shadow(0px 1px 2px rgba(0, 0, 0, 0.3));\n",
              "      fill: #FFFFFF;\n",
              "    }\n",
              "  </style>\n",
              "\n",
              "      <script>\n",
              "        const buttonEl =\n",
              "          document.querySelector('#df-808ba0cd-0c45-4b1b-8d6b-c121d226c9c3 button.colab-df-convert');\n",
              "        buttonEl.style.display =\n",
              "          google.colab.kernel.accessAllowed ? 'block' : 'none';\n",
              "\n",
              "        async function convertToInteractive(key) {\n",
              "          const element = document.querySelector('#df-808ba0cd-0c45-4b1b-8d6b-c121d226c9c3');\n",
              "          const dataTable =\n",
              "            await google.colab.kernel.invokeFunction('convertToInteractive',\n",
              "                                                     [key], {});\n",
              "          if (!dataTable) return;\n",
              "\n",
              "          const docLinkHtml = 'Like what you see? Visit the ' +\n",
              "            '<a target=\"_blank\" href=https://colab.research.google.com/notebooks/data_table.ipynb>data table notebook</a>'\n",
              "            + ' to learn more about interactive tables.';\n",
              "          element.innerHTML = '';\n",
              "          dataTable['output_type'] = 'display_data';\n",
              "          await google.colab.output.renderOutput(dataTable, element);\n",
              "          const docLink = document.createElement('div');\n",
              "          docLink.innerHTML = docLinkHtml;\n",
              "          element.appendChild(docLink);\n",
              "        }\n",
              "      </script>\n",
              "    </div>\n",
              "  </div>\n",
              "  "
            ],
            "text/plain": [
              "      CRIM    ZN  INDUS  CHAS    NOX     RM   AGE     DIS  RAD    TAX  \\\n",
              "0  0.00632  18.0   2.31   0.0  0.538  6.575  65.2  4.0900  1.0  296.0   \n",
              "1  0.02731   0.0   7.07   0.0  0.469  6.421  78.9  4.9671  2.0  242.0   \n",
              "2  0.02729   0.0   7.07   0.0  0.469  7.185  61.1  4.9671  2.0  242.0   \n",
              "3  0.03237   0.0   2.18   0.0  0.458  6.998  45.8  6.0622  3.0  222.0   \n",
              "4  0.06905   0.0   2.18   0.0  0.458  7.147  54.2  6.0622  3.0  222.0   \n",
              "\n",
              "   PTRATIO       B  LSTAT  \n",
              "0     15.3  396.90   4.98  \n",
              "1     17.8  396.90   9.14  \n",
              "2     17.8  392.83   4.03  \n",
              "3     18.7  394.63   2.94  \n",
              "4     18.7  396.90   5.33  "
            ]
          },
          "metadata": {},
          "execution_count": 13
        }
      ]
    },
    {
      "cell_type": "markdown",
      "source": [
        "#### 302 내림차순 정렬"
      ],
      "metadata": {
        "id": "ratnVcRpNgrj"
      }
    },
    {
      "cell_type": "code",
      "source": [
        "boston_sort = boston.sort_values('CRIM', ascending=False)\n",
        "boston_sort.head(12)"
      ],
      "metadata": {
        "colab": {
          "base_uri": "https://localhost:8080/",
          "height": 426
        },
        "id": "vOUpGkcozin7",
        "outputId": "4d22180b-aff5-4a8e-d97f-e1a14d9948b5"
      },
      "execution_count": 14,
      "outputs": [
        {
          "output_type": "execute_result",
          "data": {
            "text/html": [
              "\n",
              "  <div id=\"df-10ebda88-351d-4b7a-962c-97fa4e4ff979\">\n",
              "    <div class=\"colab-df-container\">\n",
              "      <div>\n",
              "<style scoped>\n",
              "    .dataframe tbody tr th:only-of-type {\n",
              "        vertical-align: middle;\n",
              "    }\n",
              "\n",
              "    .dataframe tbody tr th {\n",
              "        vertical-align: top;\n",
              "    }\n",
              "\n",
              "    .dataframe thead th {\n",
              "        text-align: right;\n",
              "    }\n",
              "</style>\n",
              "<table border=\"1\" class=\"dataframe\">\n",
              "  <thead>\n",
              "    <tr style=\"text-align: right;\">\n",
              "      <th></th>\n",
              "      <th>CRIM</th>\n",
              "      <th>ZN</th>\n",
              "      <th>INDUS</th>\n",
              "      <th>CHAS</th>\n",
              "      <th>NOX</th>\n",
              "      <th>RM</th>\n",
              "      <th>AGE</th>\n",
              "      <th>DIS</th>\n",
              "      <th>RAD</th>\n",
              "      <th>TAX</th>\n",
              "      <th>PTRATIO</th>\n",
              "      <th>B</th>\n",
              "      <th>LSTAT</th>\n",
              "    </tr>\n",
              "  </thead>\n",
              "  <tbody>\n",
              "    <tr>\n",
              "      <th>380</th>\n",
              "      <td>88.9762</td>\n",
              "      <td>0.0</td>\n",
              "      <td>18.1</td>\n",
              "      <td>0.0</td>\n",
              "      <td>0.671</td>\n",
              "      <td>6.968</td>\n",
              "      <td>91.9</td>\n",
              "      <td>1.4165</td>\n",
              "      <td>24.0</td>\n",
              "      <td>666.0</td>\n",
              "      <td>20.2</td>\n",
              "      <td>396.90</td>\n",
              "      <td>17.21</td>\n",
              "    </tr>\n",
              "    <tr>\n",
              "      <th>418</th>\n",
              "      <td>73.5341</td>\n",
              "      <td>0.0</td>\n",
              "      <td>18.1</td>\n",
              "      <td>0.0</td>\n",
              "      <td>0.679</td>\n",
              "      <td>5.957</td>\n",
              "      <td>100.0</td>\n",
              "      <td>1.8026</td>\n",
              "      <td>24.0</td>\n",
              "      <td>666.0</td>\n",
              "      <td>20.2</td>\n",
              "      <td>16.45</td>\n",
              "      <td>20.62</td>\n",
              "    </tr>\n",
              "    <tr>\n",
              "      <th>405</th>\n",
              "      <td>67.9208</td>\n",
              "      <td>0.0</td>\n",
              "      <td>18.1</td>\n",
              "      <td>0.0</td>\n",
              "      <td>0.693</td>\n",
              "      <td>5.683</td>\n",
              "      <td>100.0</td>\n",
              "      <td>1.4254</td>\n",
              "      <td>24.0</td>\n",
              "      <td>666.0</td>\n",
              "      <td>20.2</td>\n",
              "      <td>384.97</td>\n",
              "      <td>22.98</td>\n",
              "    </tr>\n",
              "    <tr>\n",
              "      <th>410</th>\n",
              "      <td>51.1358</td>\n",
              "      <td>0.0</td>\n",
              "      <td>18.1</td>\n",
              "      <td>0.0</td>\n",
              "      <td>0.597</td>\n",
              "      <td>5.757</td>\n",
              "      <td>100.0</td>\n",
              "      <td>1.4130</td>\n",
              "      <td>24.0</td>\n",
              "      <td>666.0</td>\n",
              "      <td>20.2</td>\n",
              "      <td>2.60</td>\n",
              "      <td>10.11</td>\n",
              "    </tr>\n",
              "    <tr>\n",
              "      <th>414</th>\n",
              "      <td>45.7461</td>\n",
              "      <td>0.0</td>\n",
              "      <td>18.1</td>\n",
              "      <td>0.0</td>\n",
              "      <td>0.693</td>\n",
              "      <td>4.519</td>\n",
              "      <td>100.0</td>\n",
              "      <td>1.6582</td>\n",
              "      <td>24.0</td>\n",
              "      <td>666.0</td>\n",
              "      <td>20.2</td>\n",
              "      <td>88.27</td>\n",
              "      <td>36.98</td>\n",
              "    </tr>\n",
              "    <tr>\n",
              "      <th>404</th>\n",
              "      <td>41.5292</td>\n",
              "      <td>0.0</td>\n",
              "      <td>18.1</td>\n",
              "      <td>0.0</td>\n",
              "      <td>0.693</td>\n",
              "      <td>5.531</td>\n",
              "      <td>85.4</td>\n",
              "      <td>1.6074</td>\n",
              "      <td>24.0</td>\n",
              "      <td>666.0</td>\n",
              "      <td>20.2</td>\n",
              "      <td>329.46</td>\n",
              "      <td>27.38</td>\n",
              "    </tr>\n",
              "    <tr>\n",
              "      <th>398</th>\n",
              "      <td>38.3518</td>\n",
              "      <td>0.0</td>\n",
              "      <td>18.1</td>\n",
              "      <td>0.0</td>\n",
              "      <td>0.693</td>\n",
              "      <td>5.453</td>\n",
              "      <td>100.0</td>\n",
              "      <td>1.4896</td>\n",
              "      <td>24.0</td>\n",
              "      <td>666.0</td>\n",
              "      <td>20.2</td>\n",
              "      <td>396.90</td>\n",
              "      <td>30.59</td>\n",
              "    </tr>\n",
              "    <tr>\n",
              "      <th>427</th>\n",
              "      <td>37.6619</td>\n",
              "      <td>0.0</td>\n",
              "      <td>18.1</td>\n",
              "      <td>0.0</td>\n",
              "      <td>0.679</td>\n",
              "      <td>6.202</td>\n",
              "      <td>78.7</td>\n",
              "      <td>1.8629</td>\n",
              "      <td>24.0</td>\n",
              "      <td>666.0</td>\n",
              "      <td>20.2</td>\n",
              "      <td>18.82</td>\n",
              "      <td>14.52</td>\n",
              "    </tr>\n",
              "    <tr>\n",
              "      <th>413</th>\n",
              "      <td>28.6558</td>\n",
              "      <td>0.0</td>\n",
              "      <td>18.1</td>\n",
              "      <td>0.0</td>\n",
              "      <td>0.597</td>\n",
              "      <td>5.155</td>\n",
              "      <td>100.0</td>\n",
              "      <td>1.5894</td>\n",
              "      <td>24.0</td>\n",
              "      <td>666.0</td>\n",
              "      <td>20.2</td>\n",
              "      <td>210.97</td>\n",
              "      <td>20.08</td>\n",
              "    </tr>\n",
              "    <tr>\n",
              "      <th>417</th>\n",
              "      <td>25.9406</td>\n",
              "      <td>0.0</td>\n",
              "      <td>18.1</td>\n",
              "      <td>0.0</td>\n",
              "      <td>0.679</td>\n",
              "      <td>5.304</td>\n",
              "      <td>89.1</td>\n",
              "      <td>1.6475</td>\n",
              "      <td>24.0</td>\n",
              "      <td>666.0</td>\n",
              "      <td>20.2</td>\n",
              "      <td>127.36</td>\n",
              "      <td>26.64</td>\n",
              "    </tr>\n",
              "    <tr>\n",
              "      <th>400</th>\n",
              "      <td>25.0461</td>\n",
              "      <td>0.0</td>\n",
              "      <td>18.1</td>\n",
              "      <td>0.0</td>\n",
              "      <td>0.693</td>\n",
              "      <td>5.987</td>\n",
              "      <td>100.0</td>\n",
              "      <td>1.5888</td>\n",
              "      <td>24.0</td>\n",
              "      <td>666.0</td>\n",
              "      <td>20.2</td>\n",
              "      <td>396.90</td>\n",
              "      <td>26.77</td>\n",
              "    </tr>\n",
              "    <tr>\n",
              "      <th>403</th>\n",
              "      <td>24.8017</td>\n",
              "      <td>0.0</td>\n",
              "      <td>18.1</td>\n",
              "      <td>0.0</td>\n",
              "      <td>0.693</td>\n",
              "      <td>5.349</td>\n",
              "      <td>96.0</td>\n",
              "      <td>1.7028</td>\n",
              "      <td>24.0</td>\n",
              "      <td>666.0</td>\n",
              "      <td>20.2</td>\n",
              "      <td>396.90</td>\n",
              "      <td>19.77</td>\n",
              "    </tr>\n",
              "  </tbody>\n",
              "</table>\n",
              "</div>\n",
              "      <button class=\"colab-df-convert\" onclick=\"convertToInteractive('df-10ebda88-351d-4b7a-962c-97fa4e4ff979')\"\n",
              "              title=\"Convert this dataframe to an interactive table.\"\n",
              "              style=\"display:none;\">\n",
              "        \n",
              "  <svg xmlns=\"http://www.w3.org/2000/svg\" height=\"24px\"viewBox=\"0 0 24 24\"\n",
              "       width=\"24px\">\n",
              "    <path d=\"M0 0h24v24H0V0z\" fill=\"none\"/>\n",
              "    <path d=\"M18.56 5.44l.94 2.06.94-2.06 2.06-.94-2.06-.94-.94-2.06-.94 2.06-2.06.94zm-11 1L8.5 8.5l.94-2.06 2.06-.94-2.06-.94L8.5 2.5l-.94 2.06-2.06.94zm10 10l.94 2.06.94-2.06 2.06-.94-2.06-.94-.94-2.06-.94 2.06-2.06.94z\"/><path d=\"M17.41 7.96l-1.37-1.37c-.4-.4-.92-.59-1.43-.59-.52 0-1.04.2-1.43.59L10.3 9.45l-7.72 7.72c-.78.78-.78 2.05 0 2.83L4 21.41c.39.39.9.59 1.41.59.51 0 1.02-.2 1.41-.59l7.78-7.78 2.81-2.81c.8-.78.8-2.07 0-2.86zM5.41 20L4 18.59l7.72-7.72 1.47 1.35L5.41 20z\"/>\n",
              "  </svg>\n",
              "      </button>\n",
              "      \n",
              "  <style>\n",
              "    .colab-df-container {\n",
              "      display:flex;\n",
              "      flex-wrap:wrap;\n",
              "      gap: 12px;\n",
              "    }\n",
              "\n",
              "    .colab-df-convert {\n",
              "      background-color: #E8F0FE;\n",
              "      border: none;\n",
              "      border-radius: 50%;\n",
              "      cursor: pointer;\n",
              "      display: none;\n",
              "      fill: #1967D2;\n",
              "      height: 32px;\n",
              "      padding: 0 0 0 0;\n",
              "      width: 32px;\n",
              "    }\n",
              "\n",
              "    .colab-df-convert:hover {\n",
              "      background-color: #E2EBFA;\n",
              "      box-shadow: 0px 1px 2px rgba(60, 64, 67, 0.3), 0px 1px 3px 1px rgba(60, 64, 67, 0.15);\n",
              "      fill: #174EA6;\n",
              "    }\n",
              "\n",
              "    [theme=dark] .colab-df-convert {\n",
              "      background-color: #3B4455;\n",
              "      fill: #D2E3FC;\n",
              "    }\n",
              "\n",
              "    [theme=dark] .colab-df-convert:hover {\n",
              "      background-color: #434B5C;\n",
              "      box-shadow: 0px 1px 3px 1px rgba(0, 0, 0, 0.15);\n",
              "      filter: drop-shadow(0px 1px 2px rgba(0, 0, 0, 0.3));\n",
              "      fill: #FFFFFF;\n",
              "    }\n",
              "  </style>\n",
              "\n",
              "      <script>\n",
              "        const buttonEl =\n",
              "          document.querySelector('#df-10ebda88-351d-4b7a-962c-97fa4e4ff979 button.colab-df-convert');\n",
              "        buttonEl.style.display =\n",
              "          google.colab.kernel.accessAllowed ? 'block' : 'none';\n",
              "\n",
              "        async function convertToInteractive(key) {\n",
              "          const element = document.querySelector('#df-10ebda88-351d-4b7a-962c-97fa4e4ff979');\n",
              "          const dataTable =\n",
              "            await google.colab.kernel.invokeFunction('convertToInteractive',\n",
              "                                                     [key], {});\n",
              "          if (!dataTable) return;\n",
              "\n",
              "          const docLinkHtml = 'Like what you see? Visit the ' +\n",
              "            '<a target=\"_blank\" href=https://colab.research.google.com/notebooks/data_table.ipynb>data table notebook</a>'\n",
              "            + ' to learn more about interactive tables.';\n",
              "          element.innerHTML = '';\n",
              "          dataTable['output_type'] = 'display_data';\n",
              "          await google.colab.output.renderOutput(dataTable, element);\n",
              "          const docLink = document.createElement('div');\n",
              "          docLink.innerHTML = docLinkHtml;\n",
              "          element.appendChild(docLink);\n",
              "        }\n",
              "      </script>\n",
              "    </div>\n",
              "  </div>\n",
              "  "
            ],
            "text/plain": [
              "        CRIM   ZN  INDUS  CHAS    NOX     RM    AGE     DIS   RAD    TAX  \\\n",
              "380  88.9762  0.0   18.1   0.0  0.671  6.968   91.9  1.4165  24.0  666.0   \n",
              "418  73.5341  0.0   18.1   0.0  0.679  5.957  100.0  1.8026  24.0  666.0   \n",
              "405  67.9208  0.0   18.1   0.0  0.693  5.683  100.0  1.4254  24.0  666.0   \n",
              "410  51.1358  0.0   18.1   0.0  0.597  5.757  100.0  1.4130  24.0  666.0   \n",
              "414  45.7461  0.0   18.1   0.0  0.693  4.519  100.0  1.6582  24.0  666.0   \n",
              "404  41.5292  0.0   18.1   0.0  0.693  5.531   85.4  1.6074  24.0  666.0   \n",
              "398  38.3518  0.0   18.1   0.0  0.693  5.453  100.0  1.4896  24.0  666.0   \n",
              "427  37.6619  0.0   18.1   0.0  0.679  6.202   78.7  1.8629  24.0  666.0   \n",
              "413  28.6558  0.0   18.1   0.0  0.597  5.155  100.0  1.5894  24.0  666.0   \n",
              "417  25.9406  0.0   18.1   0.0  0.679  5.304   89.1  1.6475  24.0  666.0   \n",
              "400  25.0461  0.0   18.1   0.0  0.693  5.987  100.0  1.5888  24.0  666.0   \n",
              "403  24.8017  0.0   18.1   0.0  0.693  5.349   96.0  1.7028  24.0  666.0   \n",
              "\n",
              "     PTRATIO       B  LSTAT  \n",
              "380     20.2  396.90  17.21  \n",
              "418     20.2   16.45  20.62  \n",
              "405     20.2  384.97  22.98  \n",
              "410     20.2    2.60  10.11  \n",
              "414     20.2   88.27  36.98  \n",
              "404     20.2  329.46  27.38  \n",
              "398     20.2  396.90  30.59  \n",
              "427     20.2   18.82  14.52  \n",
              "413     20.2  210.97  20.08  \n",
              "417     20.2  127.36  26.64  \n",
              "400     20.2  396.90  26.77  \n",
              "403     20.2  396.90  19.77  "
            ]
          },
          "metadata": {},
          "execution_count": 14
        }
      ]
    },
    {
      "cell_type": "markdown",
      "source": [
        "#### 303 상위 10번째값 찾기"
      ],
      "metadata": {
        "id": "w_do-YSSOCV0"
      }
    },
    {
      "cell_type": "code",
      "source": [
        "crim10_value = boston_sort.iloc[9, 0]\n",
        "crim10_value"
      ],
      "metadata": {
        "colab": {
          "base_uri": "https://localhost:8080/"
        },
        "id": "H5Co42wlzmP9",
        "outputId": "dcfa7918-5a03-4f11-a74f-50f703732104"
      },
      "execution_count": null,
      "outputs": [
        {
          "output_type": "execute_result",
          "data": {
            "text/plain": [
              "25.9406"
            ]
          },
          "metadata": {},
          "execution_count": 66
        }
      ]
    },
    {
      "cell_type": "markdown",
      "source": [
        "#### 304 상위 10번째값 변경하기"
      ],
      "metadata": {
        "id": "RmXWVcxsOJjf"
      }
    },
    {
      "cell_type": "code",
      "source": [
        "boston_sort.iloc[:9, 0] = crim10_value\n",
        "boston_sort.head(12)"
      ],
      "metadata": {
        "colab": {
          "base_uri": "https://localhost:8080/",
          "height": 584
        },
        "id": "JhCURG6VzsxU",
        "outputId": "ffcd22fa-8064-4dc9-809c-5fd4e6053604"
      },
      "execution_count": null,
      "outputs": [
        {
          "output_type": "execute_result",
          "data": {
            "text/html": [
              "\n",
              "  <div id=\"df-6c978afb-e539-4867-89f5-73a83b22792e\">\n",
              "    <div class=\"colab-df-container\">\n",
              "      <div>\n",
              "<style scoped>\n",
              "    .dataframe tbody tr th:only-of-type {\n",
              "        vertical-align: middle;\n",
              "    }\n",
              "\n",
              "    .dataframe tbody tr th {\n",
              "        vertical-align: top;\n",
              "    }\n",
              "\n",
              "    .dataframe thead th {\n",
              "        text-align: right;\n",
              "    }\n",
              "</style>\n",
              "<table border=\"1\" class=\"dataframe\">\n",
              "  <thead>\n",
              "    <tr style=\"text-align: right;\">\n",
              "      <th></th>\n",
              "      <th>CRIM</th>\n",
              "      <th>ZN</th>\n",
              "      <th>INDUS</th>\n",
              "      <th>CHAS</th>\n",
              "      <th>NOX</th>\n",
              "      <th>RM</th>\n",
              "      <th>AGE</th>\n",
              "      <th>DIS</th>\n",
              "      <th>RAD</th>\n",
              "      <th>TAX</th>\n",
              "      <th>PTRATIO</th>\n",
              "      <th>B</th>\n",
              "      <th>LSTAT</th>\n",
              "    </tr>\n",
              "  </thead>\n",
              "  <tbody>\n",
              "    <tr>\n",
              "      <th>380</th>\n",
              "      <td>25.9406</td>\n",
              "      <td>0.0</td>\n",
              "      <td>18.1</td>\n",
              "      <td>0.0</td>\n",
              "      <td>0.671</td>\n",
              "      <td>6.968</td>\n",
              "      <td>91.9</td>\n",
              "      <td>1.4165</td>\n",
              "      <td>24.0</td>\n",
              "      <td>666.0</td>\n",
              "      <td>20.2</td>\n",
              "      <td>396.90</td>\n",
              "      <td>17.21</td>\n",
              "    </tr>\n",
              "    <tr>\n",
              "      <th>418</th>\n",
              "      <td>25.9406</td>\n",
              "      <td>0.0</td>\n",
              "      <td>18.1</td>\n",
              "      <td>0.0</td>\n",
              "      <td>0.679</td>\n",
              "      <td>5.957</td>\n",
              "      <td>100.0</td>\n",
              "      <td>1.8026</td>\n",
              "      <td>24.0</td>\n",
              "      <td>666.0</td>\n",
              "      <td>20.2</td>\n",
              "      <td>16.45</td>\n",
              "      <td>20.62</td>\n",
              "    </tr>\n",
              "    <tr>\n",
              "      <th>405</th>\n",
              "      <td>25.9406</td>\n",
              "      <td>0.0</td>\n",
              "      <td>18.1</td>\n",
              "      <td>0.0</td>\n",
              "      <td>0.693</td>\n",
              "      <td>5.683</td>\n",
              "      <td>100.0</td>\n",
              "      <td>1.4254</td>\n",
              "      <td>24.0</td>\n",
              "      <td>666.0</td>\n",
              "      <td>20.2</td>\n",
              "      <td>384.97</td>\n",
              "      <td>22.98</td>\n",
              "    </tr>\n",
              "    <tr>\n",
              "      <th>410</th>\n",
              "      <td>25.9406</td>\n",
              "      <td>0.0</td>\n",
              "      <td>18.1</td>\n",
              "      <td>0.0</td>\n",
              "      <td>0.597</td>\n",
              "      <td>5.757</td>\n",
              "      <td>100.0</td>\n",
              "      <td>1.4130</td>\n",
              "      <td>24.0</td>\n",
              "      <td>666.0</td>\n",
              "      <td>20.2</td>\n",
              "      <td>2.60</td>\n",
              "      <td>10.11</td>\n",
              "    </tr>\n",
              "    <tr>\n",
              "      <th>414</th>\n",
              "      <td>25.9406</td>\n",
              "      <td>0.0</td>\n",
              "      <td>18.1</td>\n",
              "      <td>0.0</td>\n",
              "      <td>0.693</td>\n",
              "      <td>4.519</td>\n",
              "      <td>100.0</td>\n",
              "      <td>1.6582</td>\n",
              "      <td>24.0</td>\n",
              "      <td>666.0</td>\n",
              "      <td>20.2</td>\n",
              "      <td>88.27</td>\n",
              "      <td>36.98</td>\n",
              "    </tr>\n",
              "    <tr>\n",
              "      <th>404</th>\n",
              "      <td>25.9406</td>\n",
              "      <td>0.0</td>\n",
              "      <td>18.1</td>\n",
              "      <td>0.0</td>\n",
              "      <td>0.693</td>\n",
              "      <td>5.531</td>\n",
              "      <td>85.4</td>\n",
              "      <td>1.6074</td>\n",
              "      <td>24.0</td>\n",
              "      <td>666.0</td>\n",
              "      <td>20.2</td>\n",
              "      <td>329.46</td>\n",
              "      <td>27.38</td>\n",
              "    </tr>\n",
              "    <tr>\n",
              "      <th>398</th>\n",
              "      <td>25.9406</td>\n",
              "      <td>0.0</td>\n",
              "      <td>18.1</td>\n",
              "      <td>0.0</td>\n",
              "      <td>0.693</td>\n",
              "      <td>5.453</td>\n",
              "      <td>100.0</td>\n",
              "      <td>1.4896</td>\n",
              "      <td>24.0</td>\n",
              "      <td>666.0</td>\n",
              "      <td>20.2</td>\n",
              "      <td>396.90</td>\n",
              "      <td>30.59</td>\n",
              "    </tr>\n",
              "    <tr>\n",
              "      <th>427</th>\n",
              "      <td>25.9406</td>\n",
              "      <td>0.0</td>\n",
              "      <td>18.1</td>\n",
              "      <td>0.0</td>\n",
              "      <td>0.679</td>\n",
              "      <td>6.202</td>\n",
              "      <td>78.7</td>\n",
              "      <td>1.8629</td>\n",
              "      <td>24.0</td>\n",
              "      <td>666.0</td>\n",
              "      <td>20.2</td>\n",
              "      <td>18.82</td>\n",
              "      <td>14.52</td>\n",
              "    </tr>\n",
              "    <tr>\n",
              "      <th>413</th>\n",
              "      <td>25.9406</td>\n",
              "      <td>0.0</td>\n",
              "      <td>18.1</td>\n",
              "      <td>0.0</td>\n",
              "      <td>0.597</td>\n",
              "      <td>5.155</td>\n",
              "      <td>100.0</td>\n",
              "      <td>1.5894</td>\n",
              "      <td>24.0</td>\n",
              "      <td>666.0</td>\n",
              "      <td>20.2</td>\n",
              "      <td>210.97</td>\n",
              "      <td>20.08</td>\n",
              "    </tr>\n",
              "    <tr>\n",
              "      <th>417</th>\n",
              "      <td>25.9406</td>\n",
              "      <td>0.0</td>\n",
              "      <td>18.1</td>\n",
              "      <td>0.0</td>\n",
              "      <td>0.679</td>\n",
              "      <td>5.304</td>\n",
              "      <td>89.1</td>\n",
              "      <td>1.6475</td>\n",
              "      <td>24.0</td>\n",
              "      <td>666.0</td>\n",
              "      <td>20.2</td>\n",
              "      <td>127.36</td>\n",
              "      <td>26.64</td>\n",
              "    </tr>\n",
              "    <tr>\n",
              "      <th>400</th>\n",
              "      <td>25.0461</td>\n",
              "      <td>0.0</td>\n",
              "      <td>18.1</td>\n",
              "      <td>0.0</td>\n",
              "      <td>0.693</td>\n",
              "      <td>5.987</td>\n",
              "      <td>100.0</td>\n",
              "      <td>1.5888</td>\n",
              "      <td>24.0</td>\n",
              "      <td>666.0</td>\n",
              "      <td>20.2</td>\n",
              "      <td>396.90</td>\n",
              "      <td>26.77</td>\n",
              "    </tr>\n",
              "    <tr>\n",
              "      <th>403</th>\n",
              "      <td>24.8017</td>\n",
              "      <td>0.0</td>\n",
              "      <td>18.1</td>\n",
              "      <td>0.0</td>\n",
              "      <td>0.693</td>\n",
              "      <td>5.349</td>\n",
              "      <td>96.0</td>\n",
              "      <td>1.7028</td>\n",
              "      <td>24.0</td>\n",
              "      <td>666.0</td>\n",
              "      <td>20.2</td>\n",
              "      <td>396.90</td>\n",
              "      <td>19.77</td>\n",
              "    </tr>\n",
              "    <tr>\n",
              "      <th>386</th>\n",
              "      <td>24.3938</td>\n",
              "      <td>0.0</td>\n",
              "      <td>18.1</td>\n",
              "      <td>0.0</td>\n",
              "      <td>0.700</td>\n",
              "      <td>4.652</td>\n",
              "      <td>100.0</td>\n",
              "      <td>1.4672</td>\n",
              "      <td>24.0</td>\n",
              "      <td>666.0</td>\n",
              "      <td>20.2</td>\n",
              "      <td>396.90</td>\n",
              "      <td>28.28</td>\n",
              "    </tr>\n",
              "    <tr>\n",
              "      <th>378</th>\n",
              "      <td>23.6482</td>\n",
              "      <td>0.0</td>\n",
              "      <td>18.1</td>\n",
              "      <td>0.0</td>\n",
              "      <td>0.671</td>\n",
              "      <td>6.380</td>\n",
              "      <td>96.2</td>\n",
              "      <td>1.3861</td>\n",
              "      <td>24.0</td>\n",
              "      <td>666.0</td>\n",
              "      <td>20.2</td>\n",
              "      <td>396.90</td>\n",
              "      <td>23.69</td>\n",
              "    </tr>\n",
              "    <tr>\n",
              "      <th>387</th>\n",
              "      <td>22.5971</td>\n",
              "      <td>0.0</td>\n",
              "      <td>18.1</td>\n",
              "      <td>0.0</td>\n",
              "      <td>0.700</td>\n",
              "      <td>5.000</td>\n",
              "      <td>89.5</td>\n",
              "      <td>1.5184</td>\n",
              "      <td>24.0</td>\n",
              "      <td>666.0</td>\n",
              "      <td>20.2</td>\n",
              "      <td>396.90</td>\n",
              "      <td>31.99</td>\n",
              "    </tr>\n",
              "  </tbody>\n",
              "</table>\n",
              "</div>\n",
              "      <button class=\"colab-df-convert\" onclick=\"convertToInteractive('df-6c978afb-e539-4867-89f5-73a83b22792e')\"\n",
              "              title=\"Convert this dataframe to an interactive table.\"\n",
              "              style=\"display:none;\">\n",
              "        \n",
              "  <svg xmlns=\"http://www.w3.org/2000/svg\" height=\"24px\"viewBox=\"0 0 24 24\"\n",
              "       width=\"24px\">\n",
              "    <path d=\"M0 0h24v24H0V0z\" fill=\"none\"/>\n",
              "    <path d=\"M18.56 5.44l.94 2.06.94-2.06 2.06-.94-2.06-.94-.94-2.06-.94 2.06-2.06.94zm-11 1L8.5 8.5l.94-2.06 2.06-.94-2.06-.94L8.5 2.5l-.94 2.06-2.06.94zm10 10l.94 2.06.94-2.06 2.06-.94-2.06-.94-.94-2.06-.94 2.06-2.06.94z\"/><path d=\"M17.41 7.96l-1.37-1.37c-.4-.4-.92-.59-1.43-.59-.52 0-1.04.2-1.43.59L10.3 9.45l-7.72 7.72c-.78.78-.78 2.05 0 2.83L4 21.41c.39.39.9.59 1.41.59.51 0 1.02-.2 1.41-.59l7.78-7.78 2.81-2.81c.8-.78.8-2.07 0-2.86zM5.41 20L4 18.59l7.72-7.72 1.47 1.35L5.41 20z\"/>\n",
              "  </svg>\n",
              "      </button>\n",
              "      \n",
              "  <style>\n",
              "    .colab-df-container {\n",
              "      display:flex;\n",
              "      flex-wrap:wrap;\n",
              "      gap: 12px;\n",
              "    }\n",
              "\n",
              "    .colab-df-convert {\n",
              "      background-color: #E8F0FE;\n",
              "      border: none;\n",
              "      border-radius: 50%;\n",
              "      cursor: pointer;\n",
              "      display: none;\n",
              "      fill: #1967D2;\n",
              "      height: 32px;\n",
              "      padding: 0 0 0 0;\n",
              "      width: 32px;\n",
              "    }\n",
              "\n",
              "    .colab-df-convert:hover {\n",
              "      background-color: #E2EBFA;\n",
              "      box-shadow: 0px 1px 2px rgba(60, 64, 67, 0.3), 0px 1px 3px 1px rgba(60, 64, 67, 0.15);\n",
              "      fill: #174EA6;\n",
              "    }\n",
              "\n",
              "    [theme=dark] .colab-df-convert {\n",
              "      background-color: #3B4455;\n",
              "      fill: #D2E3FC;\n",
              "    }\n",
              "\n",
              "    [theme=dark] .colab-df-convert:hover {\n",
              "      background-color: #434B5C;\n",
              "      box-shadow: 0px 1px 3px 1px rgba(0, 0, 0, 0.15);\n",
              "      filter: drop-shadow(0px 1px 2px rgba(0, 0, 0, 0.3));\n",
              "      fill: #FFFFFF;\n",
              "    }\n",
              "  </style>\n",
              "\n",
              "      <script>\n",
              "        const buttonEl =\n",
              "          document.querySelector('#df-6c978afb-e539-4867-89f5-73a83b22792e button.colab-df-convert');\n",
              "        buttonEl.style.display =\n",
              "          google.colab.kernel.accessAllowed ? 'block' : 'none';\n",
              "\n",
              "        async function convertToInteractive(key) {\n",
              "          const element = document.querySelector('#df-6c978afb-e539-4867-89f5-73a83b22792e');\n",
              "          const dataTable =\n",
              "            await google.colab.kernel.invokeFunction('convertToInteractive',\n",
              "                                                     [key], {});\n",
              "          if (!dataTable) return;\n",
              "\n",
              "          const docLinkHtml = 'Like what you see? Visit the ' +\n",
              "            '<a target=\"_blank\" href=https://colab.research.google.com/notebooks/data_table.ipynb>data table notebook</a>'\n",
              "            + ' to learn more about interactive tables.';\n",
              "          element.innerHTML = '';\n",
              "          dataTable['output_type'] = 'display_data';\n",
              "          await google.colab.output.renderOutput(dataTable, element);\n",
              "          const docLink = document.createElement('div');\n",
              "          docLink.innerHTML = docLinkHtml;\n",
              "          element.appendChild(docLink);\n",
              "        }\n",
              "      </script>\n",
              "    </div>\n",
              "  </div>\n",
              "  "
            ],
            "text/plain": [
              "        CRIM   ZN  INDUS  CHAS    NOX  ...   RAD    TAX  PTRATIO       B  LSTAT\n",
              "380  25.9406  0.0   18.1   0.0  0.671  ...  24.0  666.0     20.2  396.90  17.21\n",
              "418  25.9406  0.0   18.1   0.0  0.679  ...  24.0  666.0     20.2   16.45  20.62\n",
              "405  25.9406  0.0   18.1   0.0  0.693  ...  24.0  666.0     20.2  384.97  22.98\n",
              "410  25.9406  0.0   18.1   0.0  0.597  ...  24.0  666.0     20.2    2.60  10.11\n",
              "414  25.9406  0.0   18.1   0.0  0.693  ...  24.0  666.0     20.2   88.27  36.98\n",
              "404  25.9406  0.0   18.1   0.0  0.693  ...  24.0  666.0     20.2  329.46  27.38\n",
              "398  25.9406  0.0   18.1   0.0  0.693  ...  24.0  666.0     20.2  396.90  30.59\n",
              "427  25.9406  0.0   18.1   0.0  0.679  ...  24.0  666.0     20.2   18.82  14.52\n",
              "413  25.9406  0.0   18.1   0.0  0.597  ...  24.0  666.0     20.2  210.97  20.08\n",
              "417  25.9406  0.0   18.1   0.0  0.679  ...  24.0  666.0     20.2  127.36  26.64\n",
              "400  25.0461  0.0   18.1   0.0  0.693  ...  24.0  666.0     20.2  396.90  26.77\n",
              "403  24.8017  0.0   18.1   0.0  0.693  ...  24.0  666.0     20.2  396.90  19.77\n",
              "386  24.3938  0.0   18.1   0.0  0.700  ...  24.0  666.0     20.2  396.90  28.28\n",
              "378  23.6482  0.0   18.1   0.0  0.671  ...  24.0  666.0     20.2  396.90  23.69\n",
              "387  22.5971  0.0   18.1   0.0  0.700  ...  24.0  666.0     20.2  396.90  31.99\n",
              "\n",
              "[15 rows x 13 columns]"
            ]
          },
          "metadata": {},
          "execution_count": 67
        }
      ]
    },
    {
      "cell_type": "markdown",
      "source": [
        "#### 305 조건부 평균값 구하기"
      ],
      "metadata": {
        "id": "xmZ576ggOnpw"
      }
    },
    {
      "cell_type": "code",
      "source": [
        "boston_sort_80 = boston_sort[boston_sort['AGE'] >= 80]\n",
        "result = boston_sort_80['CRIM'].mean()\n",
        "result"
      ],
      "metadata": {
        "colab": {
          "base_uri": "https://localhost:8080/"
        },
        "id": "63Nqcrga0M9s",
        "outputId": "6e34f277-ae36-41f2-8efa-af7965d4314d"
      },
      "execution_count": 15,
      "outputs": [
        {
          "output_type": "execute_result",
          "data": {
            "text/plain": [
              "6.710740791666667"
            ]
          },
          "metadata": {},
          "execution_count": 15
        }
      ]
    },
    {
      "cell_type": "markdown",
      "source": [
        "### (2) 번 문제"
      ],
      "metadata": {
        "id": "fA1Gkq1RrHrx"
      }
    },
    {
      "cell_type": "markdown",
      "source": [
        "#### 306 데이터 불러오기 & 탐색하기"
      ],
      "metadata": {
        "id": "oumyEu8mO9Ki"
      }
    },
    {
      "cell_type": "code",
      "source": [
        "import pandas as pd\n",
        "\n",
        "housing = pd.read_csv(\"./yemoonsaBigdata/datasets/202_housing.csv\")\n",
        "housing.head(10)"
      ],
      "metadata": {
        "id": "8ImtqP-I-kwZ",
        "colab": {
          "base_uri": "https://localhost:8080/",
          "height": 363
        },
        "outputId": "f1441c93-5837-4cee-81e2-31210e4055bd"
      },
      "execution_count": 16,
      "outputs": [
        {
          "output_type": "execute_result",
          "data": {
            "text/html": [
              "\n",
              "  <div id=\"df-5bbf9afe-b018-4a29-b520-1b0f15cea82c\">\n",
              "    <div class=\"colab-df-container\">\n",
              "      <div>\n",
              "<style scoped>\n",
              "    .dataframe tbody tr th:only-of-type {\n",
              "        vertical-align: middle;\n",
              "    }\n",
              "\n",
              "    .dataframe tbody tr th {\n",
              "        vertical-align: top;\n",
              "    }\n",
              "\n",
              "    .dataframe thead th {\n",
              "        text-align: right;\n",
              "    }\n",
              "</style>\n",
              "<table border=\"1\" class=\"dataframe\">\n",
              "  <thead>\n",
              "    <tr style=\"text-align: right;\">\n",
              "      <th></th>\n",
              "      <th>longitude</th>\n",
              "      <th>latitude</th>\n",
              "      <th>housing_median_age</th>\n",
              "      <th>total_rooms</th>\n",
              "      <th>total_bedrooms</th>\n",
              "      <th>population</th>\n",
              "      <th>households</th>\n",
              "      <th>median_income</th>\n",
              "      <th>median_house_value</th>\n",
              "      <th>ocean_proximity</th>\n",
              "    </tr>\n",
              "  </thead>\n",
              "  <tbody>\n",
              "    <tr>\n",
              "      <th>0</th>\n",
              "      <td>-122.23</td>\n",
              "      <td>37.88</td>\n",
              "      <td>41.0</td>\n",
              "      <td>880.0</td>\n",
              "      <td>129.0</td>\n",
              "      <td>322.0</td>\n",
              "      <td>126.0</td>\n",
              "      <td>8.3252</td>\n",
              "      <td>452600.0</td>\n",
              "      <td>NEAR BAY</td>\n",
              "    </tr>\n",
              "    <tr>\n",
              "      <th>1</th>\n",
              "      <td>-122.22</td>\n",
              "      <td>37.86</td>\n",
              "      <td>21.0</td>\n",
              "      <td>7099.0</td>\n",
              "      <td>1106.0</td>\n",
              "      <td>2401.0</td>\n",
              "      <td>1138.0</td>\n",
              "      <td>8.3014</td>\n",
              "      <td>358500.0</td>\n",
              "      <td>NEAR BAY</td>\n",
              "    </tr>\n",
              "    <tr>\n",
              "      <th>2</th>\n",
              "      <td>-122.24</td>\n",
              "      <td>37.85</td>\n",
              "      <td>52.0</td>\n",
              "      <td>1467.0</td>\n",
              "      <td>190.0</td>\n",
              "      <td>496.0</td>\n",
              "      <td>177.0</td>\n",
              "      <td>7.2574</td>\n",
              "      <td>352100.0</td>\n",
              "      <td>NEAR BAY</td>\n",
              "    </tr>\n",
              "    <tr>\n",
              "      <th>3</th>\n",
              "      <td>-122.25</td>\n",
              "      <td>37.85</td>\n",
              "      <td>52.0</td>\n",
              "      <td>1274.0</td>\n",
              "      <td>235.0</td>\n",
              "      <td>558.0</td>\n",
              "      <td>219.0</td>\n",
              "      <td>5.6431</td>\n",
              "      <td>341300.0</td>\n",
              "      <td>NEAR BAY</td>\n",
              "    </tr>\n",
              "    <tr>\n",
              "      <th>4</th>\n",
              "      <td>-122.25</td>\n",
              "      <td>37.85</td>\n",
              "      <td>52.0</td>\n",
              "      <td>1627.0</td>\n",
              "      <td>280.0</td>\n",
              "      <td>565.0</td>\n",
              "      <td>259.0</td>\n",
              "      <td>3.8462</td>\n",
              "      <td>342200.0</td>\n",
              "      <td>NEAR BAY</td>\n",
              "    </tr>\n",
              "    <tr>\n",
              "      <th>5</th>\n",
              "      <td>-122.25</td>\n",
              "      <td>37.85</td>\n",
              "      <td>52.0</td>\n",
              "      <td>919.0</td>\n",
              "      <td>213.0</td>\n",
              "      <td>413.0</td>\n",
              "      <td>193.0</td>\n",
              "      <td>4.0368</td>\n",
              "      <td>269700.0</td>\n",
              "      <td>NEAR BAY</td>\n",
              "    </tr>\n",
              "    <tr>\n",
              "      <th>6</th>\n",
              "      <td>-122.25</td>\n",
              "      <td>37.84</td>\n",
              "      <td>52.0</td>\n",
              "      <td>2535.0</td>\n",
              "      <td>489.0</td>\n",
              "      <td>1094.0</td>\n",
              "      <td>514.0</td>\n",
              "      <td>3.6591</td>\n",
              "      <td>299200.0</td>\n",
              "      <td>NEAR BAY</td>\n",
              "    </tr>\n",
              "    <tr>\n",
              "      <th>7</th>\n",
              "      <td>-122.25</td>\n",
              "      <td>37.84</td>\n",
              "      <td>52.0</td>\n",
              "      <td>3104.0</td>\n",
              "      <td>687.0</td>\n",
              "      <td>1157.0</td>\n",
              "      <td>647.0</td>\n",
              "      <td>3.1200</td>\n",
              "      <td>241400.0</td>\n",
              "      <td>NEAR BAY</td>\n",
              "    </tr>\n",
              "    <tr>\n",
              "      <th>8</th>\n",
              "      <td>-122.26</td>\n",
              "      <td>37.84</td>\n",
              "      <td>42.0</td>\n",
              "      <td>2555.0</td>\n",
              "      <td>665.0</td>\n",
              "      <td>1206.0</td>\n",
              "      <td>595.0</td>\n",
              "      <td>2.0804</td>\n",
              "      <td>226700.0</td>\n",
              "      <td>NEAR BAY</td>\n",
              "    </tr>\n",
              "    <tr>\n",
              "      <th>9</th>\n",
              "      <td>-122.25</td>\n",
              "      <td>37.84</td>\n",
              "      <td>52.0</td>\n",
              "      <td>3549.0</td>\n",
              "      <td>707.0</td>\n",
              "      <td>1551.0</td>\n",
              "      <td>714.0</td>\n",
              "      <td>3.6912</td>\n",
              "      <td>261100.0</td>\n",
              "      <td>NEAR BAY</td>\n",
              "    </tr>\n",
              "  </tbody>\n",
              "</table>\n",
              "</div>\n",
              "      <button class=\"colab-df-convert\" onclick=\"convertToInteractive('df-5bbf9afe-b018-4a29-b520-1b0f15cea82c')\"\n",
              "              title=\"Convert this dataframe to an interactive table.\"\n",
              "              style=\"display:none;\">\n",
              "        \n",
              "  <svg xmlns=\"http://www.w3.org/2000/svg\" height=\"24px\"viewBox=\"0 0 24 24\"\n",
              "       width=\"24px\">\n",
              "    <path d=\"M0 0h24v24H0V0z\" fill=\"none\"/>\n",
              "    <path d=\"M18.56 5.44l.94 2.06.94-2.06 2.06-.94-2.06-.94-.94-2.06-.94 2.06-2.06.94zm-11 1L8.5 8.5l.94-2.06 2.06-.94-2.06-.94L8.5 2.5l-.94 2.06-2.06.94zm10 10l.94 2.06.94-2.06 2.06-.94-2.06-.94-.94-2.06-.94 2.06-2.06.94z\"/><path d=\"M17.41 7.96l-1.37-1.37c-.4-.4-.92-.59-1.43-.59-.52 0-1.04.2-1.43.59L10.3 9.45l-7.72 7.72c-.78.78-.78 2.05 0 2.83L4 21.41c.39.39.9.59 1.41.59.51 0 1.02-.2 1.41-.59l7.78-7.78 2.81-2.81c.8-.78.8-2.07 0-2.86zM5.41 20L4 18.59l7.72-7.72 1.47 1.35L5.41 20z\"/>\n",
              "  </svg>\n",
              "      </button>\n",
              "      \n",
              "  <style>\n",
              "    .colab-df-container {\n",
              "      display:flex;\n",
              "      flex-wrap:wrap;\n",
              "      gap: 12px;\n",
              "    }\n",
              "\n",
              "    .colab-df-convert {\n",
              "      background-color: #E8F0FE;\n",
              "      border: none;\n",
              "      border-radius: 50%;\n",
              "      cursor: pointer;\n",
              "      display: none;\n",
              "      fill: #1967D2;\n",
              "      height: 32px;\n",
              "      padding: 0 0 0 0;\n",
              "      width: 32px;\n",
              "    }\n",
              "\n",
              "    .colab-df-convert:hover {\n",
              "      background-color: #E2EBFA;\n",
              "      box-shadow: 0px 1px 2px rgba(60, 64, 67, 0.3), 0px 1px 3px 1px rgba(60, 64, 67, 0.15);\n",
              "      fill: #174EA6;\n",
              "    }\n",
              "\n",
              "    [theme=dark] .colab-df-convert {\n",
              "      background-color: #3B4455;\n",
              "      fill: #D2E3FC;\n",
              "    }\n",
              "\n",
              "    [theme=dark] .colab-df-convert:hover {\n",
              "      background-color: #434B5C;\n",
              "      box-shadow: 0px 1px 3px 1px rgba(0, 0, 0, 0.15);\n",
              "      filter: drop-shadow(0px 1px 2px rgba(0, 0, 0, 0.3));\n",
              "      fill: #FFFFFF;\n",
              "    }\n",
              "  </style>\n",
              "\n",
              "      <script>\n",
              "        const buttonEl =\n",
              "          document.querySelector('#df-5bbf9afe-b018-4a29-b520-1b0f15cea82c button.colab-df-convert');\n",
              "        buttonEl.style.display =\n",
              "          google.colab.kernel.accessAllowed ? 'block' : 'none';\n",
              "\n",
              "        async function convertToInteractive(key) {\n",
              "          const element = document.querySelector('#df-5bbf9afe-b018-4a29-b520-1b0f15cea82c');\n",
              "          const dataTable =\n",
              "            await google.colab.kernel.invokeFunction('convertToInteractive',\n",
              "                                                     [key], {});\n",
              "          if (!dataTable) return;\n",
              "\n",
              "          const docLinkHtml = 'Like what you see? Visit the ' +\n",
              "            '<a target=\"_blank\" href=https://colab.research.google.com/notebooks/data_table.ipynb>data table notebook</a>'\n",
              "            + ' to learn more about interactive tables.';\n",
              "          element.innerHTML = '';\n",
              "          dataTable['output_type'] = 'display_data';\n",
              "          await google.colab.output.renderOutput(dataTable, element);\n",
              "          const docLink = document.createElement('div');\n",
              "          docLink.innerHTML = docLinkHtml;\n",
              "          element.appendChild(docLink);\n",
              "        }\n",
              "      </script>\n",
              "    </div>\n",
              "  </div>\n",
              "  "
            ],
            "text/plain": [
              "   longitude  latitude  housing_median_age  total_rooms  total_bedrooms  \\\n",
              "0    -122.23     37.88                41.0        880.0           129.0   \n",
              "1    -122.22     37.86                21.0       7099.0          1106.0   \n",
              "2    -122.24     37.85                52.0       1467.0           190.0   \n",
              "3    -122.25     37.85                52.0       1274.0           235.0   \n",
              "4    -122.25     37.85                52.0       1627.0           280.0   \n",
              "5    -122.25     37.85                52.0        919.0           213.0   \n",
              "6    -122.25     37.84                52.0       2535.0           489.0   \n",
              "7    -122.25     37.84                52.0       3104.0           687.0   \n",
              "8    -122.26     37.84                42.0       2555.0           665.0   \n",
              "9    -122.25     37.84                52.0       3549.0           707.0   \n",
              "\n",
              "   population  households  median_income  median_house_value ocean_proximity  \n",
              "0       322.0       126.0         8.3252            452600.0        NEAR BAY  \n",
              "1      2401.0      1138.0         8.3014            358500.0        NEAR BAY  \n",
              "2       496.0       177.0         7.2574            352100.0        NEAR BAY  \n",
              "3       558.0       219.0         5.6431            341300.0        NEAR BAY  \n",
              "4       565.0       259.0         3.8462            342200.0        NEAR BAY  \n",
              "5       413.0       193.0         4.0368            269700.0        NEAR BAY  \n",
              "6      1094.0       514.0         3.6591            299200.0        NEAR BAY  \n",
              "7      1157.0       647.0         3.1200            241400.0        NEAR BAY  \n",
              "8      1206.0       595.0         2.0804            226700.0        NEAR BAY  \n",
              "9      1551.0       714.0         3.6912            261100.0        NEAR BAY  "
            ]
          },
          "metadata": {},
          "execution_count": 16
        }
      ]
    },
    {
      "cell_type": "markdown",
      "source": [
        "#### 307 훈련 데이터 추출하기"
      ],
      "metadata": {
        "id": "MSohHZtAQWgR"
      }
    },
    {
      "cell_type": "code",
      "source": [
        "value = int(len(housing) * 0.8)\n",
        "bedrooms = housing['total_bedrooms'][:value]\n",
        "\n",
        "bedrooms"
      ],
      "metadata": {
        "colab": {
          "base_uri": "https://localhost:8080/"
        },
        "id": "O6PG6isG_YCS",
        "outputId": "02d14a89-1b39-4951-9229-7772887f151f"
      },
      "execution_count": 18,
      "outputs": [
        {
          "output_type": "execute_result",
          "data": {
            "text/plain": [
              "0         129.0\n",
              "1        1106.0\n",
              "2         190.0\n",
              "3         235.0\n",
              "4         280.0\n",
              "          ...  \n",
              "16507     599.0\n",
              "16508     331.0\n",
              "16509     411.0\n",
              "16510     941.0\n",
              "16511     417.0\n",
              "Name: total_bedrooms, Length: 16512, dtype: float64"
            ]
          },
          "metadata": {},
          "execution_count": 18
        }
      ]
    },
    {
      "cell_type": "markdown",
      "source": [
        "#### 308 표준편차 계산하기"
      ],
      "metadata": {
        "id": "fS-BzqaAQvla"
      }
    },
    {
      "cell_type": "code",
      "source": [
        "std1 = bedrooms.std()\n",
        "std1"
      ],
      "metadata": {
        "colab": {
          "base_uri": "https://localhost:8080/"
        },
        "id": "qag9Gur6BRV2",
        "outputId": "26483f26-df40-47ab-f20f-d6d85b8b9e89"
      },
      "execution_count": 19,
      "outputs": [
        {
          "output_type": "execute_result",
          "data": {
            "text/plain": [
              "435.900577052527"
            ]
          },
          "metadata": {},
          "execution_count": 19
        }
      ]
    },
    {
      "cell_type": "markdown",
      "source": [
        "#### 309 중앙값 계산하기"
      ],
      "metadata": {
        "id": "VhQzeVGlRLml"
      }
    },
    {
      "cell_type": "code",
      "source": [
        "med = bedrooms.median()\n",
        "med"
      ],
      "metadata": {
        "colab": {
          "base_uri": "https://localhost:8080/"
        },
        "id": "ZHZ6CyG1Bo9a",
        "outputId": "29fd5dc1-e159-4ba6-cc37-351255ed1284"
      },
      "execution_count": 21,
      "outputs": [
        {
          "output_type": "execute_result",
          "data": {
            "text/plain": [
              "436.0"
            ]
          },
          "metadata": {},
          "execution_count": 21
        }
      ]
    },
    {
      "cell_type": "markdown",
      "source": [
        "#### 310 결측값 채워서 표준편차 계산하기"
      ],
      "metadata": {
        "id": "Xvvfm_-VRYM5"
      }
    },
    {
      "cell_type": "code",
      "source": [
        "bedrooms_fill = bedrooms.fillna(med)\n",
        "std2 = bedrooms_fill.std()\n",
        "std2"
      ],
      "metadata": {
        "colab": {
          "base_uri": "https://localhost:8080/"
        },
        "id": "29NbrJ3qsfzi",
        "outputId": "82669a1b-67c8-4374-ca5a-ff3ed1341f7f"
      },
      "execution_count": 22,
      "outputs": [
        {
          "output_type": "execute_result",
          "data": {
            "text/plain": [
              "433.9254297608813"
            ]
          },
          "metadata": {},
          "execution_count": 22
        }
      ]
    },
    {
      "cell_type": "markdown",
      "source": [
        "#### 311 표준편차 차이 구하기"
      ],
      "metadata": {
        "id": "CchneuaVRryU"
      }
    },
    {
      "cell_type": "code",
      "source": [
        "result = abs(std1 - std2)\n",
        "result"
      ],
      "metadata": {
        "colab": {
          "base_uri": "https://localhost:8080/"
        },
        "id": "rdEEJr99sprH",
        "outputId": "39b439c4-2917-4b2f-d670-cd9fac0b5489"
      },
      "execution_count": 23,
      "outputs": [
        {
          "output_type": "execute_result",
          "data": {
            "text/plain": [
              "1.975147291645726"
            ]
          },
          "metadata": {},
          "execution_count": 23
        }
      ]
    },
    {
      "cell_type": "markdown",
      "source": [
        "### (3) 번 문제"
      ],
      "metadata": {
        "id": "viy-W69otH00"
      }
    },
    {
      "cell_type": "markdown",
      "source": [
        "#### 312 데이터 불러오기 & 탐색하기"
      ],
      "metadata": {
        "id": "libiGVuqSKpn"
      }
    },
    {
      "cell_type": "code",
      "source": [
        "import pandas as pd\n",
        "\n",
        "housing = pd.read_csv(\"./yemoonsaBigdata/datasets/203_housing.csv\")\n",
        "housing.head(5)"
      ],
      "metadata": {
        "id": "ecJBvEnatNZP",
        "colab": {
          "base_uri": "https://localhost:8080/",
          "height": 206
        },
        "outputId": "d6dae3fd-5bb6-47e6-a719-b775341966aa"
      },
      "execution_count": 24,
      "outputs": [
        {
          "output_type": "execute_result",
          "data": {
            "text/html": [
              "\n",
              "  <div id=\"df-73b8dc21-cc12-4a85-9b2e-de496c075f34\">\n",
              "    <div class=\"colab-df-container\">\n",
              "      <div>\n",
              "<style scoped>\n",
              "    .dataframe tbody tr th:only-of-type {\n",
              "        vertical-align: middle;\n",
              "    }\n",
              "\n",
              "    .dataframe tbody tr th {\n",
              "        vertical-align: top;\n",
              "    }\n",
              "\n",
              "    .dataframe thead th {\n",
              "        text-align: right;\n",
              "    }\n",
              "</style>\n",
              "<table border=\"1\" class=\"dataframe\">\n",
              "  <thead>\n",
              "    <tr style=\"text-align: right;\">\n",
              "      <th></th>\n",
              "      <th>longitude</th>\n",
              "      <th>latitude</th>\n",
              "      <th>housing_median_age</th>\n",
              "      <th>total_rooms</th>\n",
              "      <th>total_bedrooms</th>\n",
              "      <th>population</th>\n",
              "      <th>households</th>\n",
              "      <th>median_income</th>\n",
              "      <th>median_house_value</th>\n",
              "      <th>ocean_proximity</th>\n",
              "    </tr>\n",
              "  </thead>\n",
              "  <tbody>\n",
              "    <tr>\n",
              "      <th>0</th>\n",
              "      <td>-122.23</td>\n",
              "      <td>37.88</td>\n",
              "      <td>41.0</td>\n",
              "      <td>880.0</td>\n",
              "      <td>129.0</td>\n",
              "      <td>322.0</td>\n",
              "      <td>126.0</td>\n",
              "      <td>8.3252</td>\n",
              "      <td>452600.0</td>\n",
              "      <td>NEAR BAY</td>\n",
              "    </tr>\n",
              "    <tr>\n",
              "      <th>1</th>\n",
              "      <td>-122.22</td>\n",
              "      <td>37.86</td>\n",
              "      <td>21.0</td>\n",
              "      <td>7099.0</td>\n",
              "      <td>1106.0</td>\n",
              "      <td>2401.0</td>\n",
              "      <td>1138.0</td>\n",
              "      <td>8.3014</td>\n",
              "      <td>358500.0</td>\n",
              "      <td>NEAR BAY</td>\n",
              "    </tr>\n",
              "    <tr>\n",
              "      <th>2</th>\n",
              "      <td>-122.24</td>\n",
              "      <td>37.85</td>\n",
              "      <td>52.0</td>\n",
              "      <td>1467.0</td>\n",
              "      <td>190.0</td>\n",
              "      <td>496.0</td>\n",
              "      <td>177.0</td>\n",
              "      <td>7.2574</td>\n",
              "      <td>352100.0</td>\n",
              "      <td>NEAR BAY</td>\n",
              "    </tr>\n",
              "    <tr>\n",
              "      <th>3</th>\n",
              "      <td>-122.25</td>\n",
              "      <td>37.85</td>\n",
              "      <td>52.0</td>\n",
              "      <td>1274.0</td>\n",
              "      <td>235.0</td>\n",
              "      <td>558.0</td>\n",
              "      <td>219.0</td>\n",
              "      <td>5.6431</td>\n",
              "      <td>341300.0</td>\n",
              "      <td>NEAR BAY</td>\n",
              "    </tr>\n",
              "    <tr>\n",
              "      <th>4</th>\n",
              "      <td>-122.25</td>\n",
              "      <td>37.85</td>\n",
              "      <td>52.0</td>\n",
              "      <td>1627.0</td>\n",
              "      <td>280.0</td>\n",
              "      <td>565.0</td>\n",
              "      <td>259.0</td>\n",
              "      <td>3.8462</td>\n",
              "      <td>342200.0</td>\n",
              "      <td>NEAR BAY</td>\n",
              "    </tr>\n",
              "  </tbody>\n",
              "</table>\n",
              "</div>\n",
              "      <button class=\"colab-df-convert\" onclick=\"convertToInteractive('df-73b8dc21-cc12-4a85-9b2e-de496c075f34')\"\n",
              "              title=\"Convert this dataframe to an interactive table.\"\n",
              "              style=\"display:none;\">\n",
              "        \n",
              "  <svg xmlns=\"http://www.w3.org/2000/svg\" height=\"24px\"viewBox=\"0 0 24 24\"\n",
              "       width=\"24px\">\n",
              "    <path d=\"M0 0h24v24H0V0z\" fill=\"none\"/>\n",
              "    <path d=\"M18.56 5.44l.94 2.06.94-2.06 2.06-.94-2.06-.94-.94-2.06-.94 2.06-2.06.94zm-11 1L8.5 8.5l.94-2.06 2.06-.94-2.06-.94L8.5 2.5l-.94 2.06-2.06.94zm10 10l.94 2.06.94-2.06 2.06-.94-2.06-.94-.94-2.06-.94 2.06-2.06.94z\"/><path d=\"M17.41 7.96l-1.37-1.37c-.4-.4-.92-.59-1.43-.59-.52 0-1.04.2-1.43.59L10.3 9.45l-7.72 7.72c-.78.78-.78 2.05 0 2.83L4 21.41c.39.39.9.59 1.41.59.51 0 1.02-.2 1.41-.59l7.78-7.78 2.81-2.81c.8-.78.8-2.07 0-2.86zM5.41 20L4 18.59l7.72-7.72 1.47 1.35L5.41 20z\"/>\n",
              "  </svg>\n",
              "      </button>\n",
              "      \n",
              "  <style>\n",
              "    .colab-df-container {\n",
              "      display:flex;\n",
              "      flex-wrap:wrap;\n",
              "      gap: 12px;\n",
              "    }\n",
              "\n",
              "    .colab-df-convert {\n",
              "      background-color: #E8F0FE;\n",
              "      border: none;\n",
              "      border-radius: 50%;\n",
              "      cursor: pointer;\n",
              "      display: none;\n",
              "      fill: #1967D2;\n",
              "      height: 32px;\n",
              "      padding: 0 0 0 0;\n",
              "      width: 32px;\n",
              "    }\n",
              "\n",
              "    .colab-df-convert:hover {\n",
              "      background-color: #E2EBFA;\n",
              "      box-shadow: 0px 1px 2px rgba(60, 64, 67, 0.3), 0px 1px 3px 1px rgba(60, 64, 67, 0.15);\n",
              "      fill: #174EA6;\n",
              "    }\n",
              "\n",
              "    [theme=dark] .colab-df-convert {\n",
              "      background-color: #3B4455;\n",
              "      fill: #D2E3FC;\n",
              "    }\n",
              "\n",
              "    [theme=dark] .colab-df-convert:hover {\n",
              "      background-color: #434B5C;\n",
              "      box-shadow: 0px 1px 3px 1px rgba(0, 0, 0, 0.15);\n",
              "      filter: drop-shadow(0px 1px 2px rgba(0, 0, 0, 0.3));\n",
              "      fill: #FFFFFF;\n",
              "    }\n",
              "  </style>\n",
              "\n",
              "      <script>\n",
              "        const buttonEl =\n",
              "          document.querySelector('#df-73b8dc21-cc12-4a85-9b2e-de496c075f34 button.colab-df-convert');\n",
              "        buttonEl.style.display =\n",
              "          google.colab.kernel.accessAllowed ? 'block' : 'none';\n",
              "\n",
              "        async function convertToInteractive(key) {\n",
              "          const element = document.querySelector('#df-73b8dc21-cc12-4a85-9b2e-de496c075f34');\n",
              "          const dataTable =\n",
              "            await google.colab.kernel.invokeFunction('convertToInteractive',\n",
              "                                                     [key], {});\n",
              "          if (!dataTable) return;\n",
              "\n",
              "          const docLinkHtml = 'Like what you see? Visit the ' +\n",
              "            '<a target=\"_blank\" href=https://colab.research.google.com/notebooks/data_table.ipynb>data table notebook</a>'\n",
              "            + ' to learn more about interactive tables.';\n",
              "          element.innerHTML = '';\n",
              "          dataTable['output_type'] = 'display_data';\n",
              "          await google.colab.output.renderOutput(dataTable, element);\n",
              "          const docLink = document.createElement('div');\n",
              "          docLink.innerHTML = docLinkHtml;\n",
              "          element.appendChild(docLink);\n",
              "        }\n",
              "      </script>\n",
              "    </div>\n",
              "  </div>\n",
              "  "
            ],
            "text/plain": [
              "   longitude  latitude  housing_median_age  total_rooms  total_bedrooms  \\\n",
              "0    -122.23     37.88                41.0        880.0           129.0   \n",
              "1    -122.22     37.86                21.0       7099.0          1106.0   \n",
              "2    -122.24     37.85                52.0       1467.0           190.0   \n",
              "3    -122.25     37.85                52.0       1274.0           235.0   \n",
              "4    -122.25     37.85                52.0       1627.0           280.0   \n",
              "\n",
              "   population  households  median_income  median_house_value ocean_proximity  \n",
              "0       322.0       126.0         8.3252            452600.0        NEAR BAY  \n",
              "1      2401.0      1138.0         8.3014            358500.0        NEAR BAY  \n",
              "2       496.0       177.0         7.2574            352100.0        NEAR BAY  \n",
              "3       558.0       219.0         5.6431            341300.0        NEAR BAY  \n",
              "4       565.0       259.0         3.8462            342200.0        NEAR BAY  "
            ]
          },
          "metadata": {},
          "execution_count": 24
        }
      ]
    },
    {
      "cell_type": "markdown",
      "source": [
        "#### 313 평균과 표준편차 계산하기"
      ],
      "metadata": {
        "id": "GGsRqpLnSeaI"
      }
    },
    {
      "cell_type": "code",
      "source": [
        "population = housing['population']\n",
        "mean = population.mean()\n",
        "std = population.std()\n",
        "\n",
        "print(\"평균 : \", mean)\n",
        "print(\"표준편차 : \", std)"
      ],
      "metadata": {
        "colab": {
          "base_uri": "https://localhost:8080/"
        },
        "id": "-cJiRq_dtXzF",
        "outputId": "0fdda3ea-8aa3-48e2-c1f5-1aea0f8cf69f"
      },
      "execution_count": 28,
      "outputs": [
        {
          "output_type": "stream",
          "name": "stdout",
          "text": [
            "평균 :  1425.4767441860465\n",
            "표준편차 :  1132.4621217653375\n"
          ]
        }
      ]
    },
    {
      "cell_type": "markdown",
      "source": [
        "#### 314 이상값 임계치 계산하기"
      ],
      "metadata": {
        "id": "4M1bwMQOS576"
      }
    },
    {
      "cell_type": "code",
      "source": [
        "lower = mean - (std * 1.5)\n",
        "upper = mean + (std * 1.5)\n",
        "\n",
        "print(\"정상범위 최소값 : \", lower)\n",
        "print(\"정상범위 최대값 : \", upper)"
      ],
      "metadata": {
        "colab": {
          "base_uri": "https://localhost:8080/"
        },
        "id": "1YUYm7nftwdc",
        "outputId": "f9da3185-8d35-4c03-c8aa-3f5736c766b3"
      },
      "execution_count": 29,
      "outputs": [
        {
          "output_type": "stream",
          "name": "stdout",
          "text": [
            "정상범위 최소값 :  -273.2164384619598\n",
            "정상범위 최대값 :  3124.1699268340526\n"
          ]
        }
      ]
    },
    {
      "cell_type": "markdown",
      "source": [
        "#### 315 이상값 계산하기"
      ],
      "metadata": {
        "id": "V3XXz_ZcTI2o"
      }
    },
    {
      "cell_type": "code",
      "source": [
        "population_outlier = population[(lower > population) | (upper < population)]\n",
        "population_outlier"
      ],
      "metadata": {
        "colab": {
          "base_uri": "https://localhost:8080/"
        },
        "id": "6B2h5EAgt9fZ",
        "outputId": "62694482-fb49-4875-de23-500b91e97910"
      },
      "execution_count": 30,
      "outputs": [
        {
          "output_type": "execute_result",
          "data": {
            "text/plain": [
              "95       3469.0\n",
              "185      4367.0\n",
              "283      4985.0\n",
              "460      3337.0\n",
              "485      3276.0\n",
              "          ...  \n",
              "20543    3717.0\n",
              "20544    6330.0\n",
              "20563    6837.0\n",
              "20604    3265.0\n",
              "20629    6912.0\n",
              "Name: population, Length: 1207, dtype: float64"
            ]
          },
          "metadata": {},
          "execution_count": 30
        }
      ]
    },
    {
      "cell_type": "markdown",
      "source": [
        "#### 316 이상값 합계 구하기"
      ],
      "metadata": {
        "id": "WQ52bjG4TSM1"
      }
    },
    {
      "cell_type": "code",
      "source": [
        "result = population_outlier.sum()\n",
        "result"
      ],
      "metadata": {
        "colab": {
          "base_uri": "https://localhost:8080/"
        },
        "id": "pGJ2pHlDuH7d",
        "outputId": "144e924f-78e6-4f67-cd47-eda31126cac1"
      },
      "execution_count": 31,
      "outputs": [
        {
          "output_type": "execute_result",
          "data": {
            "text/plain": [
              "5607295.0"
            ]
          },
          "metadata": {},
          "execution_count": 31
        }
      ]
    },
    {
      "cell_type": "markdown",
      "source": [
        "## 3. 작업형 제2유형"
      ],
      "metadata": {
        "id": "ByCjNiHHq3_Y"
      }
    },
    {
      "cell_type": "code",
      "source": [
        "!git clone https://github.com/AnalyticsKnight/yemoonsaBigdata/"
      ],
      "metadata": {
        "colab": {
          "base_uri": "https://localhost:8080/"
        },
        "id": "vdQri9tX1AW8",
        "outputId": "7d3b23ee-143f-4e63-a3ef-8ceb5e6b4c6d"
      },
      "execution_count": 3,
      "outputs": [
        {
          "output_type": "stream",
          "name": "stdout",
          "text": [
            "Cloning into 'yemoonsaBigdata'...\n",
            "remote: Enumerating objects: 160, done.\u001b[K\n",
            "remote: Counting objects: 100% (160/160), done.\u001b[K\n",
            "remote: Compressing objects: 100% (154/154), done.\u001b[K\n",
            "remote: Total 160 (delta 72), reused 4 (delta 1), pack-reused 0\u001b[K\n",
            "Receiving objects: 100% (160/160), 3.37 MiB | 5.45 MiB/s, done.\n",
            "Resolving deltas: 100% (72/72), done.\n"
          ]
        }
      ]
    },
    {
      "cell_type": "markdown",
      "source": [
        "### (1) 번 문제"
      ],
      "metadata": {
        "id": "uXinBWrlrI-V"
      }
    },
    {
      "cell_type": "code",
      "source": [
        "# E-Commerce Shipping Data\n",
        "# https://www.kaggle.com/prachi13/customer-analytics?select=Train.csv"
      ],
      "metadata": {
        "id": "4hplszfjYAMf"
      },
      "execution_count": 4,
      "outputs": []
    },
    {
      "cell_type": "markdown",
      "source": [
        "#### 317 데이터 불러오기 & 탐색하기"
      ],
      "metadata": {
        "id": "sz3H2FXlUG38"
      }
    },
    {
      "cell_type": "code",
      "execution_count": 5,
      "metadata": {
        "id": "-7leAN-0qSWW",
        "colab": {
          "base_uri": "https://localhost:8080/",
          "height": 427
        },
        "outputId": "055893b0-764b-44e2-d770-edbe449be459"
      },
      "outputs": [
        {
          "output_type": "execute_result",
          "data": {
            "text/html": [
              "\n",
              "  <div id=\"df-e367426e-5870-477f-bbd2-fbfff3485dad\">\n",
              "    <div class=\"colab-df-container\">\n",
              "      <div>\n",
              "<style scoped>\n",
              "    .dataframe tbody tr th:only-of-type {\n",
              "        vertical-align: middle;\n",
              "    }\n",
              "\n",
              "    .dataframe tbody tr th {\n",
              "        vertical-align: top;\n",
              "    }\n",
              "\n",
              "    .dataframe thead th {\n",
              "        text-align: right;\n",
              "    }\n",
              "</style>\n",
              "<table border=\"1\" class=\"dataframe\">\n",
              "  <thead>\n",
              "    <tr style=\"text-align: right;\">\n",
              "      <th></th>\n",
              "      <th>ID</th>\n",
              "      <th>Warehouse_block</th>\n",
              "      <th>Mode_of_Shipment</th>\n",
              "      <th>Customer_care_calls</th>\n",
              "      <th>Customer_rating</th>\n",
              "      <th>Cost_of_the_Product</th>\n",
              "      <th>Prior_purchases</th>\n",
              "      <th>Product_importance</th>\n",
              "      <th>Gender</th>\n",
              "      <th>Discount_offered</th>\n",
              "      <th>Weight_in_gms</th>\n",
              "      <th>Reached.on.Time_Y.N</th>\n",
              "    </tr>\n",
              "  </thead>\n",
              "  <tbody>\n",
              "    <tr>\n",
              "      <th>0</th>\n",
              "      <td>1</td>\n",
              "      <td>D</td>\n",
              "      <td>Flight</td>\n",
              "      <td>4</td>\n",
              "      <td>2</td>\n",
              "      <td>177</td>\n",
              "      <td>3</td>\n",
              "      <td>low</td>\n",
              "      <td>F</td>\n",
              "      <td>44</td>\n",
              "      <td>1233</td>\n",
              "      <td>1</td>\n",
              "    </tr>\n",
              "    <tr>\n",
              "      <th>1</th>\n",
              "      <td>2</td>\n",
              "      <td>F</td>\n",
              "      <td>Flight</td>\n",
              "      <td>4</td>\n",
              "      <td>5</td>\n",
              "      <td>216</td>\n",
              "      <td>2</td>\n",
              "      <td>low</td>\n",
              "      <td>M</td>\n",
              "      <td>59</td>\n",
              "      <td>3088</td>\n",
              "      <td>1</td>\n",
              "    </tr>\n",
              "    <tr>\n",
              "      <th>2</th>\n",
              "      <td>3</td>\n",
              "      <td>A</td>\n",
              "      <td>Flight</td>\n",
              "      <td>2</td>\n",
              "      <td>2</td>\n",
              "      <td>183</td>\n",
              "      <td>4</td>\n",
              "      <td>low</td>\n",
              "      <td>M</td>\n",
              "      <td>48</td>\n",
              "      <td>3374</td>\n",
              "      <td>1</td>\n",
              "    </tr>\n",
              "    <tr>\n",
              "      <th>3</th>\n",
              "      <td>4</td>\n",
              "      <td>B</td>\n",
              "      <td>Flight</td>\n",
              "      <td>3</td>\n",
              "      <td>3</td>\n",
              "      <td>176</td>\n",
              "      <td>4</td>\n",
              "      <td>medium</td>\n",
              "      <td>M</td>\n",
              "      <td>10</td>\n",
              "      <td>1177</td>\n",
              "      <td>1</td>\n",
              "    </tr>\n",
              "    <tr>\n",
              "      <th>4</th>\n",
              "      <td>5</td>\n",
              "      <td>C</td>\n",
              "      <td>Flight</td>\n",
              "      <td>2</td>\n",
              "      <td>2</td>\n",
              "      <td>184</td>\n",
              "      <td>3</td>\n",
              "      <td>medium</td>\n",
              "      <td>F</td>\n",
              "      <td>46</td>\n",
              "      <td>2484</td>\n",
              "      <td>1</td>\n",
              "    </tr>\n",
              "    <tr>\n",
              "      <th>5</th>\n",
              "      <td>6</td>\n",
              "      <td>F</td>\n",
              "      <td>Flight</td>\n",
              "      <td>3</td>\n",
              "      <td>1</td>\n",
              "      <td>162</td>\n",
              "      <td>3</td>\n",
              "      <td>medium</td>\n",
              "      <td>F</td>\n",
              "      <td>12</td>\n",
              "      <td>1417</td>\n",
              "      <td>1</td>\n",
              "    </tr>\n",
              "    <tr>\n",
              "      <th>6</th>\n",
              "      <td>7</td>\n",
              "      <td>D</td>\n",
              "      <td>Flight</td>\n",
              "      <td>3</td>\n",
              "      <td>4</td>\n",
              "      <td>250</td>\n",
              "      <td>3</td>\n",
              "      <td>low</td>\n",
              "      <td>F</td>\n",
              "      <td>3</td>\n",
              "      <td>2371</td>\n",
              "      <td>1</td>\n",
              "    </tr>\n",
              "    <tr>\n",
              "      <th>7</th>\n",
              "      <td>8</td>\n",
              "      <td>F</td>\n",
              "      <td>Flight</td>\n",
              "      <td>4</td>\n",
              "      <td>1</td>\n",
              "      <td>233</td>\n",
              "      <td>2</td>\n",
              "      <td>low</td>\n",
              "      <td>F</td>\n",
              "      <td>48</td>\n",
              "      <td>2804</td>\n",
              "      <td>1</td>\n",
              "    </tr>\n",
              "    <tr>\n",
              "      <th>8</th>\n",
              "      <td>9</td>\n",
              "      <td>A</td>\n",
              "      <td>Flight</td>\n",
              "      <td>3</td>\n",
              "      <td>4</td>\n",
              "      <td>150</td>\n",
              "      <td>3</td>\n",
              "      <td>low</td>\n",
              "      <td>F</td>\n",
              "      <td>11</td>\n",
              "      <td>1861</td>\n",
              "      <td>1</td>\n",
              "    </tr>\n",
              "    <tr>\n",
              "      <th>9</th>\n",
              "      <td>10</td>\n",
              "      <td>B</td>\n",
              "      <td>Flight</td>\n",
              "      <td>3</td>\n",
              "      <td>2</td>\n",
              "      <td>164</td>\n",
              "      <td>3</td>\n",
              "      <td>medium</td>\n",
              "      <td>F</td>\n",
              "      <td>29</td>\n",
              "      <td>1187</td>\n",
              "      <td>1</td>\n",
              "    </tr>\n",
              "  </tbody>\n",
              "</table>\n",
              "</div>\n",
              "      <button class=\"colab-df-convert\" onclick=\"convertToInteractive('df-e367426e-5870-477f-bbd2-fbfff3485dad')\"\n",
              "              title=\"Convert this dataframe to an interactive table.\"\n",
              "              style=\"display:none;\">\n",
              "        \n",
              "  <svg xmlns=\"http://www.w3.org/2000/svg\" height=\"24px\"viewBox=\"0 0 24 24\"\n",
              "       width=\"24px\">\n",
              "    <path d=\"M0 0h24v24H0V0z\" fill=\"none\"/>\n",
              "    <path d=\"M18.56 5.44l.94 2.06.94-2.06 2.06-.94-2.06-.94-.94-2.06-.94 2.06-2.06.94zm-11 1L8.5 8.5l.94-2.06 2.06-.94-2.06-.94L8.5 2.5l-.94 2.06-2.06.94zm10 10l.94 2.06.94-2.06 2.06-.94-2.06-.94-.94-2.06-.94 2.06-2.06.94z\"/><path d=\"M17.41 7.96l-1.37-1.37c-.4-.4-.92-.59-1.43-.59-.52 0-1.04.2-1.43.59L10.3 9.45l-7.72 7.72c-.78.78-.78 2.05 0 2.83L4 21.41c.39.39.9.59 1.41.59.51 0 1.02-.2 1.41-.59l7.78-7.78 2.81-2.81c.8-.78.8-2.07 0-2.86zM5.41 20L4 18.59l7.72-7.72 1.47 1.35L5.41 20z\"/>\n",
              "  </svg>\n",
              "      </button>\n",
              "      \n",
              "  <style>\n",
              "    .colab-df-container {\n",
              "      display:flex;\n",
              "      flex-wrap:wrap;\n",
              "      gap: 12px;\n",
              "    }\n",
              "\n",
              "    .colab-df-convert {\n",
              "      background-color: #E8F0FE;\n",
              "      border: none;\n",
              "      border-radius: 50%;\n",
              "      cursor: pointer;\n",
              "      display: none;\n",
              "      fill: #1967D2;\n",
              "      height: 32px;\n",
              "      padding: 0 0 0 0;\n",
              "      width: 32px;\n",
              "    }\n",
              "\n",
              "    .colab-df-convert:hover {\n",
              "      background-color: #E2EBFA;\n",
              "      box-shadow: 0px 1px 2px rgba(60, 64, 67, 0.3), 0px 1px 3px 1px rgba(60, 64, 67, 0.15);\n",
              "      fill: #174EA6;\n",
              "    }\n",
              "\n",
              "    [theme=dark] .colab-df-convert {\n",
              "      background-color: #3B4455;\n",
              "      fill: #D2E3FC;\n",
              "    }\n",
              "\n",
              "    [theme=dark] .colab-df-convert:hover {\n",
              "      background-color: #434B5C;\n",
              "      box-shadow: 0px 1px 3px 1px rgba(0, 0, 0, 0.15);\n",
              "      filter: drop-shadow(0px 1px 2px rgba(0, 0, 0, 0.3));\n",
              "      fill: #FFFFFF;\n",
              "    }\n",
              "  </style>\n",
              "\n",
              "      <script>\n",
              "        const buttonEl =\n",
              "          document.querySelector('#df-e367426e-5870-477f-bbd2-fbfff3485dad button.colab-df-convert');\n",
              "        buttonEl.style.display =\n",
              "          google.colab.kernel.accessAllowed ? 'block' : 'none';\n",
              "\n",
              "        async function convertToInteractive(key) {\n",
              "          const element = document.querySelector('#df-e367426e-5870-477f-bbd2-fbfff3485dad');\n",
              "          const dataTable =\n",
              "            await google.colab.kernel.invokeFunction('convertToInteractive',\n",
              "                                                     [key], {});\n",
              "          if (!dataTable) return;\n",
              "\n",
              "          const docLinkHtml = 'Like what you see? Visit the ' +\n",
              "            '<a target=\"_blank\" href=https://colab.research.google.com/notebooks/data_table.ipynb>data table notebook</a>'\n",
              "            + ' to learn more about interactive tables.';\n",
              "          element.innerHTML = '';\n",
              "          dataTable['output_type'] = 'display_data';\n",
              "          await google.colab.output.renderOutput(dataTable, element);\n",
              "          const docLink = document.createElement('div');\n",
              "          docLink.innerHTML = docLinkHtml;\n",
              "          element.appendChild(docLink);\n",
              "        }\n",
              "      </script>\n",
              "    </div>\n",
              "  </div>\n",
              "  "
            ],
            "text/plain": [
              "   ID Warehouse_block Mode_of_Shipment  Customer_care_calls  Customer_rating  \\\n",
              "0   1               D           Flight                    4                2   \n",
              "1   2               F           Flight                    4                5   \n",
              "2   3               A           Flight                    2                2   \n",
              "3   4               B           Flight                    3                3   \n",
              "4   5               C           Flight                    2                2   \n",
              "5   6               F           Flight                    3                1   \n",
              "6   7               D           Flight                    3                4   \n",
              "7   8               F           Flight                    4                1   \n",
              "8   9               A           Flight                    3                4   \n",
              "9  10               B           Flight                    3                2   \n",
              "\n",
              "   Cost_of_the_Product  Prior_purchases Product_importance Gender  \\\n",
              "0                  177                3                low      F   \n",
              "1                  216                2                low      M   \n",
              "2                  183                4                low      M   \n",
              "3                  176                4             medium      M   \n",
              "4                  184                3             medium      F   \n",
              "5                  162                3             medium      F   \n",
              "6                  250                3                low      F   \n",
              "7                  233                2                low      F   \n",
              "8                  150                3                low      F   \n",
              "9                  164                3             medium      F   \n",
              "\n",
              "   Discount_offered  Weight_in_gms  Reached.on.Time_Y.N  \n",
              "0                44           1233                    1  \n",
              "1                59           3088                    1  \n",
              "2                48           3374                    1  \n",
              "3                10           1177                    1  \n",
              "4                46           2484                    1  \n",
              "5                12           1417                    1  \n",
              "6                 3           2371                    1  \n",
              "7                48           2804                    1  \n",
              "8                11           1861                    1  \n",
              "9                29           1187                    1  "
            ]
          },
          "metadata": {},
          "execution_count": 5
        }
      ],
      "source": [
        "import pandas as pd\n",
        "\n",
        "df = pd.read_csv(\"./yemoonsaBigdata/datasets/204_ecommerce.csv\")\n",
        "df.head(10)"
      ]
    },
    {
      "cell_type": "markdown",
      "source": [
        "#### 318 훈련 데이터 추출하기"
      ],
      "metadata": {
        "id": "n0cKzCTdUYsF"
      }
    },
    {
      "cell_type": "code",
      "source": [
        "from sklearn.model_selection import train_test_split\n",
        "\n",
        "x_train, x_test = train_test_split(df, test_size=0.4, stratify=df['Reached.on.Time_Y.N'], random_state=0)\n",
        "\n",
        "y_train = x_train[['ID', 'Reached.on.Time_Y.N']]\n",
        "x_train = x_train.drop(columns='Reached.on.Time_Y.N')\n",
        "\n",
        "y_test = x_test[['ID', 'Reached.on.Time_Y.N']] # 시험에서는 일반적으로 제공되지 않음\n",
        "x_test = x_test.drop(columns='Reached.on.Time_Y.N')\n",
        "\n",
        "x_train.to_csv('./yemoonsaBigdata/examDataset/204_x_train.csv', index=False)\n",
        "y_train.to_csv('./yemoonsaBigdata/examDataset/204_y_train.csv', index=False)\n",
        "x_test.to_csv('./yemoonsaBigdata/examDataset/204_x_test.csv', index=False)\n",
        "y_test.to_csv('./yemoonsaBigdata/examDataset/204_y_test.csv', index=False) # 시험에서는 일반적으로 제공되지 않음\n",
        "\n",
        "x_train = pd.read_csv(\"./yemoonsaBigdata/examDataset/204_x_train.csv\")\n",
        "y_train = pd.read_csv(\"./yemoonsaBigdata/examDataset/204_y_train.csv\")\n",
        "x_test = pd.read_csv(\"./yemoonsaBigdata/examDataset/204_x_test.csv\")\n",
        "y_test = pd.read_csv(\"./yemoonsaBigdata/examDataset/204_y_test.csv\") # 시험에서는 일반적으로 제공되지 않음\n",
        "\n",
        "x_train.shape, y_train.shape, x_test.shape, y_test.shape"
      ],
      "metadata": {
        "id": "AyNRLHzDwAvB",
        "colab": {
          "base_uri": "https://localhost:8080/"
        },
        "outputId": "4e5a70ae-f083-4935-f75b-74e0e7d62352"
      },
      "execution_count": 17,
      "outputs": [
        {
          "output_type": "execute_result",
          "data": {
            "text/plain": [
              "((6599, 11), (6599, 2), (4400, 11), (4400, 2))"
            ]
          },
          "metadata": {},
          "execution_count": 17
        }
      ]
    },
    {
      "cell_type": "markdown",
      "source": [
        "#### 319 독립변수 준비하기"
      ],
      "metadata": {
        "id": "Ur10Y2OzU4D8"
      }
    },
    {
      "cell_type": "code",
      "source": [
        "df_x = pd.concat([x_train, x_test])\n",
        "df_x.info()"
      ],
      "metadata": {
        "colab": {
          "base_uri": "https://localhost:8080/"
        },
        "id": "DjjBiSkJGxXF",
        "outputId": "4660024c-efa2-4825-a63d-bf9642294787"
      },
      "execution_count": 18,
      "outputs": [
        {
          "output_type": "stream",
          "name": "stdout",
          "text": [
            "<class 'pandas.core.frame.DataFrame'>\n",
            "Int64Index: 10999 entries, 0 to 4399\n",
            "Data columns (total 11 columns):\n",
            " #   Column               Non-Null Count  Dtype \n",
            "---  ------               --------------  ----- \n",
            " 0   ID                   10999 non-null  int64 \n",
            " 1   Warehouse_block      10999 non-null  object\n",
            " 2   Mode_of_Shipment     10999 non-null  object\n",
            " 3   Customer_care_calls  10999 non-null  int64 \n",
            " 4   Customer_rating      10999 non-null  int64 \n",
            " 5   Cost_of_the_Product  10999 non-null  int64 \n",
            " 6   Prior_purchases      10999 non-null  int64 \n",
            " 7   Product_importance   10999 non-null  object\n",
            " 8   Gender               10999 non-null  object\n",
            " 9   Discount_offered     10999 non-null  int64 \n",
            " 10  Weight_in_gms        10999 non-null  int64 \n",
            "dtypes: int64(7), object(4)\n",
            "memory usage: 1.0+ MB\n"
          ]
        }
      ]
    },
    {
      "cell_type": "markdown",
      "source": [
        "#### 000 독립변수 탐색하기"
      ],
      "metadata": {
        "id": "a8-tZI-iXRec"
      }
    },
    {
      "cell_type": "code",
      "source": [
        "df_x.groupby(['Warehouse_block'])['Warehouse_block'].count()"
      ],
      "metadata": {
        "colab": {
          "base_uri": "https://localhost:8080/"
        },
        "id": "n1fxaZUmXJS5",
        "outputId": "0bcf2e8a-82ab-48a5-adeb-378ee908565f"
      },
      "execution_count": 19,
      "outputs": [
        {
          "output_type": "execute_result",
          "data": {
            "text/plain": [
              "Warehouse_block\n",
              "A    1833\n",
              "B    1833\n",
              "C    1833\n",
              "D    1834\n",
              "F    3666\n",
              "Name: Warehouse_block, dtype: int64"
            ]
          },
          "metadata": {},
          "execution_count": 19
        }
      ]
    },
    {
      "cell_type": "code",
      "source": [
        "df_x.groupby(['Mode_of_Shipment'])['Mode_of_Shipment'].count()"
      ],
      "metadata": {
        "colab": {
          "base_uri": "https://localhost:8080/"
        },
        "id": "ru7fibKtX04l",
        "outputId": "a62fa3c1-1b3d-42c5-ad28-4980996e8ef1"
      },
      "execution_count": 20,
      "outputs": [
        {
          "output_type": "execute_result",
          "data": {
            "text/plain": [
              "Mode_of_Shipment\n",
              "Flight    1777\n",
              "Road      1760\n",
              "Ship      7462\n",
              "Name: Mode_of_Shipment, dtype: int64"
            ]
          },
          "metadata": {},
          "execution_count": 20
        }
      ]
    },
    {
      "cell_type": "code",
      "source": [
        "df_x.groupby(['Product_importance'])['Product_importance'].count()"
      ],
      "metadata": {
        "colab": {
          "base_uri": "https://localhost:8080/"
        },
        "id": "BjJHiMtYX7iB",
        "outputId": "82a4dde5-9314-42c9-9940-04205a512228"
      },
      "execution_count": 21,
      "outputs": [
        {
          "output_type": "execute_result",
          "data": {
            "text/plain": [
              "Product_importance\n",
              "high       948\n",
              "low       5297\n",
              "medium    4754\n",
              "Name: Product_importance, dtype: int64"
            ]
          },
          "metadata": {},
          "execution_count": 21
        }
      ]
    },
    {
      "cell_type": "code",
      "source": [
        "df_x.groupby(['Gender'])['Gender'].count()"
      ],
      "metadata": {
        "colab": {
          "base_uri": "https://localhost:8080/"
        },
        "id": "gBQ_hpEwYAHa",
        "outputId": "df9f69cb-7366-40ee-d810-ec648b7a59b7"
      },
      "execution_count": 22,
      "outputs": [
        {
          "output_type": "execute_result",
          "data": {
            "text/plain": [
              "Gender\n",
              "F    5545\n",
              "M    5454\n",
              "Name: Gender, dtype: int64"
            ]
          },
          "metadata": {},
          "execution_count": 22
        }
      ]
    },
    {
      "cell_type": "markdown",
      "source": [
        "#### 000 종속변수 탐색하기"
      ],
      "metadata": {
        "id": "BzlK_XbTWwbO"
      }
    },
    {
      "cell_type": "code",
      "source": [
        "y_train['Reached.on.Time_Y.N'].value_counts()"
      ],
      "metadata": {
        "id": "aPLno6-2KfCh",
        "colab": {
          "base_uri": "https://localhost:8080/"
        },
        "outputId": "1a37b020-0eae-4430-e306-14e7a94d32e0"
      },
      "execution_count": 23,
      "outputs": [
        {
          "output_type": "execute_result",
          "data": {
            "text/plain": [
              "1    3938\n",
              "0    2661\n",
              "Name: Reached.on.Time_Y.N, dtype: int64"
            ]
          },
          "metadata": {},
          "execution_count": 23
        }
      ]
    },
    {
      "cell_type": "markdown",
      "source": [
        "#### 320 독립변수 라벨링 인코딩"
      ],
      "metadata": {
        "id": "LzVxQc6aV9aK"
      }
    },
    {
      "cell_type": "code",
      "source": [
        "df_le = df_x.copy()\n",
        "\n",
        "df_le['Gender'] = df_x['Gender'].replace(['F', 'M'], [0, 1])\n",
        "df_le['Product_importance'] = df_x['Product_importance'].replace(['low', 'medium', 'high'], [0, 1, 2])\n",
        "df_le['Mode_of_Shipment'] = df_x['Mode_of_Shipment'].replace(['Ship', 'Road', 'Flight'], [0, 1, 2])\n",
        "df_le['Warehouse_block'] = df_x['Warehouse_block'].replace(['A', 'B', 'C', 'D', 'F'], [0, 1, 2, 3, 4])\n",
        "\n",
        "df_le.info()"
      ],
      "metadata": {
        "colab": {
          "base_uri": "https://localhost:8080/"
        },
        "id": "WZKUBo7cb6z7",
        "outputId": "332845f7-6356-4acb-c385-065c1cbe5ce8"
      },
      "execution_count": 24,
      "outputs": [
        {
          "output_type": "stream",
          "name": "stdout",
          "text": [
            "<class 'pandas.core.frame.DataFrame'>\n",
            "Int64Index: 10999 entries, 0 to 4399\n",
            "Data columns (total 11 columns):\n",
            " #   Column               Non-Null Count  Dtype\n",
            "---  ------               --------------  -----\n",
            " 0   ID                   10999 non-null  int64\n",
            " 1   Warehouse_block      10999 non-null  int64\n",
            " 2   Mode_of_Shipment     10999 non-null  int64\n",
            " 3   Customer_care_calls  10999 non-null  int64\n",
            " 4   Customer_rating      10999 non-null  int64\n",
            " 5   Cost_of_the_Product  10999 non-null  int64\n",
            " 6   Prior_purchases      10999 non-null  int64\n",
            " 7   Product_importance   10999 non-null  int64\n",
            " 8   Gender               10999 non-null  int64\n",
            " 9   Discount_offered     10999 non-null  int64\n",
            " 10  Weight_in_gms        10999 non-null  int64\n",
            "dtypes: int64(11)\n",
            "memory usage: 1.0 MB\n"
          ]
        }
      ]
    },
    {
      "cell_type": "markdown",
      "source": [
        "#### 000 상관계수 탐색하기"
      ],
      "metadata": {
        "id": "2yL_kzKPWqN7"
      }
    },
    {
      "cell_type": "code",
      "source": [
        "print(df_le.corr())"
      ],
      "metadata": {
        "colab": {
          "base_uri": "https://localhost:8080/"
        },
        "id": "yoF77ZSvIpkj",
        "outputId": "a494dcfc-2cc7-4d78-84d8-f29d8eedc480"
      },
      "execution_count": 25,
      "outputs": [
        {
          "output_type": "stream",
          "name": "stdout",
          "text": [
            "                           ID  Warehouse_block  Mode_of_Shipment  \\\n",
            "ID                   1.000000         0.000070          0.002459   \n",
            "Warehouse_block      0.000070         1.000000         -0.000617   \n",
            "Mode_of_Shipment     0.002459        -0.000617          1.000000   \n",
            "Customer_care_calls  0.188998         0.014496          0.020164   \n",
            "Customer_rating     -0.005722         0.010169         -0.001679   \n",
            "Cost_of_the_Product  0.196791        -0.006679         -0.006681   \n",
            "Prior_purchases      0.145369        -0.005262          0.001640   \n",
            "Product_importance  -0.056137        -0.001528          0.009767   \n",
            "Gender              -0.001695        -0.003700          0.011288   \n",
            "Discount_offered    -0.598278         0.009569         -0.009364   \n",
            "Weight_in_gms        0.278312         0.004086          0.000797   \n",
            "\n",
            "                     Customer_care_calls  Customer_rating  \\\n",
            "ID                              0.188998        -0.005722   \n",
            "Warehouse_block                 0.014496         0.010169   \n",
            "Mode_of_Shipment                0.020164        -0.001679   \n",
            "Customer_care_calls             1.000000         0.012209   \n",
            "Customer_rating                 0.012209         1.000000   \n",
            "Cost_of_the_Product             0.323182         0.009270   \n",
            "Prior_purchases                 0.180771         0.013179   \n",
            "Product_importance             -0.058134         0.003999   \n",
            "Gender                          0.002545         0.002775   \n",
            "Discount_offered               -0.130750        -0.003124   \n",
            "Weight_in_gms                  -0.276615        -0.001897   \n",
            "\n",
            "                     Cost_of_the_Product  Prior_purchases  Product_importance  \\\n",
            "ID                              0.196791         0.145369           -0.056137   \n",
            "Warehouse_block                -0.006679        -0.005262           -0.001528   \n",
            "Mode_of_Shipment               -0.006681         0.001640            0.009767   \n",
            "Customer_care_calls             0.323182         0.180771           -0.058134   \n",
            "Customer_rating                 0.009270         0.013179            0.003999   \n",
            "Cost_of_the_Product             1.000000         0.123676           -0.046789   \n",
            "Prior_purchases                 0.123676         1.000000            0.027317   \n",
            "Product_importance             -0.046789         0.027317            1.000000   \n",
            "Gender                          0.019759        -0.009395           -0.002974   \n",
            "Discount_offered               -0.138312        -0.082769            0.026023   \n",
            "Weight_in_gms                  -0.132604        -0.168213            0.093211   \n",
            "\n",
            "                       Gender  Discount_offered  Weight_in_gms  \n",
            "ID                  -0.001695         -0.598278       0.278312  \n",
            "Warehouse_block     -0.003700          0.009569       0.004086  \n",
            "Mode_of_Shipment     0.011288         -0.009364       0.000797  \n",
            "Customer_care_calls  0.002545         -0.130750      -0.276615  \n",
            "Customer_rating      0.002775         -0.003124      -0.001897  \n",
            "Cost_of_the_Product  0.019759         -0.138312      -0.132604  \n",
            "Prior_purchases     -0.009395         -0.082769      -0.168213  \n",
            "Product_importance  -0.002974          0.026023       0.093211  \n",
            "Gender               1.000000         -0.011777       0.003573  \n",
            "Discount_offered    -0.011777          1.000000      -0.376067  \n",
            "Weight_in_gms        0.003573         -0.376067       1.000000  \n"
          ]
        }
      ]
    },
    {
      "cell_type": "markdown",
      "source": [
        "#### 000 머신러닝 패키지 불러오기"
      ],
      "metadata": {
        "id": "PWZvA0a1Ybz9"
      }
    },
    {
      "cell_type": "code",
      "source": [
        "from sklearn.preprocessing import MinMaxScaler\n",
        "from sklearn.model_selection import train_test_split\n",
        "from sklearn.linear_model import LogisticRegression\n",
        "from sklearn.tree import DecisionTreeClassifier\n",
        "from sklearn.ensemble import RandomForestClassifier\n",
        "from xgboost import XGBClassifier"
      ],
      "metadata": {
        "id": "DWreV1NUctYJ"
      },
      "execution_count": 26,
      "outputs": []
    },
    {
      "cell_type": "markdown",
      "source": [
        "#### 321 모델 점수 계산 함수 생성"
      ],
      "metadata": {
        "id": "B8b_ukwEYmiP"
      }
    },
    {
      "cell_type": "code",
      "source": [
        "from sklearn.metrics import roc_auc_score\n",
        "\n",
        "def get_scores(model, xtrain, xtest, ytrain, ytest):\n",
        "    A = model.score(xtrain, ytrain)\n",
        "    B = model.score(xtest, ytest)\n",
        "    ypred1 = model.predict_proba(xtrain)[:, 1]\n",
        "    ypred2 = model.predict_proba(xtest)[:, 1]    \n",
        "    C = roc_auc_score(ytrain, ypred1)  \n",
        "    D = roc_auc_score(ytest, ypred2) \n",
        "    return '{:.4f} {:.4f} {:.4f} {:.4f}'.format(A, B, C, D)"
      ],
      "metadata": {
        "id": "hMdBiKgrfGjl"
      },
      "execution_count": 27,
      "outputs": []
    },
    {
      "cell_type": "markdown",
      "source": [
        "#### 322 머신러닝 모델 실행 함수 생성"
      ],
      "metadata": {
        "id": "CKCTv87qZ9ku"
      }
    },
    {
      "cell_type": "code",
      "source": [
        "def make_models(xtrain, xtest, ytrain, ytest):\n",
        "    model1 = LogisticRegression().fit(xtrain, ytrain)\n",
        "    print('model1', get_scores(model1, xtrain, xtest, ytrain, ytest))\n",
        "\n",
        "    model2 = DecisionTreeClassifier(random_state=0).fit(xtrain, ytrain)\n",
        "    print('model2', get_scores(model2, xtrain, xtest, ytrain, ytest))\n",
        "\n",
        "    # overfitting 해결\n",
        "    for d in range(3, 8):\n",
        "        model2 = DecisionTreeClassifier(max_depth=d,random_state=0).fit(xtrain, ytrain)\n",
        "        print('model2', d, get_scores(model2, xtrain, xtest, ytrain, ytest))\n",
        "\n",
        "    model3 = RandomForestClassifier(random_state=0).fit(xtrain, ytrain)\n",
        "    print('model3', get_scores(model3, xtrain, xtest, ytrain, ytest))\n",
        "\n",
        "    # overfitting 해결\n",
        "    for d in range(3, 8):\n",
        "        model3 = RandomForestClassifier(500, max_depth=d, random_state=0).fit(xtrain, ytrain)\n",
        "        print('model3', d, get_scores(model3, xtrain, xtest, ytrain, ytest))\n",
        "\n",
        "    model4 = XGBClassifier().fit(xtrain, ytrain)\n",
        "    print('model4', get_scores(model4, xtrain, xtest, ytrain, ytest))"
      ],
      "metadata": {
        "id": "bxU9bviKfSTY"
      },
      "execution_count": 28,
      "outputs": []
    },
    {
      "cell_type": "markdown",
      "source": [
        "#### 323 스케일링 & 머신러닝 전처리"
      ],
      "metadata": {
        "id": "oqpqaQesx9ws"
      }
    },
    {
      "cell_type": "code",
      "source": [
        "x_le = df_le.drop(columns=['ID'])\n",
        "\n",
        "x_le_train = x_le.iloc[:6599, :]\n",
        "x_le_test = x_le.iloc[6599:, :]\n",
        "\n",
        "scaler = MinMaxScaler()\n",
        "x_final_train = scaler.fit_transform(x_le_train)\n",
        "x_final_test = scaler.fit_transform(x_le_test)\n",
        "\n",
        "y_final_train = y_train['Reached.on.Time_Y.N']\n",
        "\n",
        "print(x_final_train.shape, x_final_test.shape, y_final_train.shape)"
      ],
      "metadata": {
        "colab": {
          "base_uri": "https://localhost:8080/"
        },
        "id": "UkuDsadFx9L9",
        "outputId": "ec2c6b64-8332-4d29-c7ca-93bfff337ce7"
      },
      "execution_count": 29,
      "outputs": [
        {
          "output_type": "stream",
          "name": "stdout",
          "text": [
            "(6599, 10) (4400, 10) (6599,)\n"
          ]
        }
      ]
    },
    {
      "cell_type": "markdown",
      "source": [
        "#### 324 훈련 데이터 추출하기"
      ],
      "metadata": {
        "id": "jXCwnQKlWoME"
      }
    },
    {
      "cell_type": "code",
      "source": [
        "xtrain, xtest, ytrain, ytest = train_test_split(x_final_train, y_final_train, test_size = 0.3, stratify=y_final_train)\n",
        "\n",
        "print(xtrain.shape, xtest.shape, ytrain.shape, ytest.shape)"
      ],
      "metadata": {
        "colab": {
          "base_uri": "https://localhost:8080/"
        },
        "id": "dS8j5dPsWphu",
        "outputId": "345b232e-3074-41b1-924e-101484947c3e"
      },
      "execution_count": 31,
      "outputs": [
        {
          "output_type": "stream",
          "name": "stdout",
          "text": [
            "(4619, 10) (1980, 10) (4619,) (1980,)\n"
          ]
        }
      ]
    },
    {
      "cell_type": "markdown",
      "source": [
        "#### 325 머신러닝 실행"
      ],
      "metadata": {
        "id": "HEgW55f73aVo"
      }
    },
    {
      "cell_type": "code",
      "source": [
        "make_models(xtrain, xtest, ytrain, ytest)"
      ],
      "metadata": {
        "colab": {
          "base_uri": "https://localhost:8080/"
        },
        "id": "8VZdGxC13d4o",
        "outputId": "f8ac6d55-0194-4ed5-929d-03ffbb5ab652"
      },
      "execution_count": 33,
      "outputs": [
        {
          "output_type": "stream",
          "name": "stdout",
          "text": [
            "model1 0.6423 0.6515 0.7238 0.7327\n",
            "model2 1.0000 0.6439 1.0000 0.6311\n",
            "model2 3 0.6735 0.6833 0.7434 0.7512\n",
            "model2 4 0.6893 0.6919 0.7561 0.7546\n",
            "model2 5 0.6913 0.6702 0.7697 0.7417\n",
            "model2 6 0.6991 0.6813 0.7824 0.7340\n",
            "model2 7 0.7110 0.6803 0.7998 0.7427\n",
            "model3 1.0000 0.6601 1.0000 0.7393\n",
            "model3 3 0.6733 0.6833 0.7713 0.7512\n",
            "model3 4 0.6898 0.6823 0.7844 0.7498\n",
            "model3 5 0.7012 0.6909 0.8110 0.7471\n",
            "model3 6 0.7231 0.6879 0.8483 0.7425\n",
            "model3 7 0.7545 0.6894 0.8873 0.7414\n",
            "model4 0.7142 0.6773 0.8161 0.7388\n"
          ]
        }
      ]
    },
    {
      "cell_type": "markdown",
      "source": [
        "#### 326 최종 모델 선택"
      ],
      "metadata": {
        "id": "BXJcXN2l3Too"
      }
    },
    {
      "cell_type": "code",
      "source": [
        "final_model = RandomForestClassifier(500, max_depth=7, random_state=0).fit(xtrain, ytrain)\n",
        "print('final model', get_scores(final_model,  xtrain, xtest, ytrain, ytest))"
      ],
      "metadata": {
        "colab": {
          "base_uri": "https://localhost:8080/"
        },
        "id": "vZ6Pw65fg-56",
        "outputId": "c1e0fdf4-8bc6-4250-946e-d07a2f9a6984"
      },
      "execution_count": 35,
      "outputs": [
        {
          "output_type": "stream",
          "name": "stdout",
          "text": [
            "final model 0.7545 0.6894 0.8873 0.7414\n"
          ]
        }
      ]
    },
    {
      "cell_type": "markdown",
      "source": [
        "#### 327 최종 모델 예측 결과 구하기"
      ],
      "metadata": {
        "id": "dgg6ELky4aeZ"
      }
    },
    {
      "cell_type": "code",
      "source": [
        "y_final_pred = final_model.predict_proba(x_final_test)[:, 1]\n",
        "\n",
        "result = pd.DataFrame({\"ID\": x_test[\"ID\"], \"Reached.on.Time_Y.N\": y_final_pred})\n",
        "result"
      ],
      "metadata": {
        "colab": {
          "base_uri": "https://localhost:8080/",
          "height": 424
        },
        "id": "iHHC3_hQhitF",
        "outputId": "104461b7-a8ed-4fc3-df2d-495c56b98d8f"
      },
      "execution_count": 36,
      "outputs": [
        {
          "output_type": "execute_result",
          "data": {
            "text/html": [
              "\n",
              "  <div id=\"df-c9b15b2f-952e-422e-8b5a-a77cfc9e2d90\">\n",
              "    <div class=\"colab-df-container\">\n",
              "      <div>\n",
              "<style scoped>\n",
              "    .dataframe tbody tr th:only-of-type {\n",
              "        vertical-align: middle;\n",
              "    }\n",
              "\n",
              "    .dataframe tbody tr th {\n",
              "        vertical-align: top;\n",
              "    }\n",
              "\n",
              "    .dataframe thead th {\n",
              "        text-align: right;\n",
              "    }\n",
              "</style>\n",
              "<table border=\"1\" class=\"dataframe\">\n",
              "  <thead>\n",
              "    <tr style=\"text-align: right;\">\n",
              "      <th></th>\n",
              "      <th>ID</th>\n",
              "      <th>Reached.on.Time_Y.N</th>\n",
              "    </tr>\n",
              "  </thead>\n",
              "  <tbody>\n",
              "    <tr>\n",
              "      <th>0</th>\n",
              "      <td>7007</td>\n",
              "      <td>0.444072</td>\n",
              "    </tr>\n",
              "    <tr>\n",
              "      <th>1</th>\n",
              "      <td>9793</td>\n",
              "      <td>0.463412</td>\n",
              "    </tr>\n",
              "    <tr>\n",
              "      <th>2</th>\n",
              "      <td>6593</td>\n",
              "      <td>0.514403</td>\n",
              "    </tr>\n",
              "    <tr>\n",
              "      <th>3</th>\n",
              "      <td>10527</td>\n",
              "      <td>0.375603</td>\n",
              "    </tr>\n",
              "    <tr>\n",
              "      <th>4</th>\n",
              "      <td>6914</td>\n",
              "      <td>0.454034</td>\n",
              "    </tr>\n",
              "    <tr>\n",
              "      <th>...</th>\n",
              "      <td>...</td>\n",
              "      <td>...</td>\n",
              "    </tr>\n",
              "    <tr>\n",
              "      <th>4395</th>\n",
              "      <td>3142</td>\n",
              "      <td>0.405285</td>\n",
              "    </tr>\n",
              "    <tr>\n",
              "      <th>4396</th>\n",
              "      <td>6948</td>\n",
              "      <td>0.374556</td>\n",
              "    </tr>\n",
              "    <tr>\n",
              "      <th>4397</th>\n",
              "      <td>7531</td>\n",
              "      <td>0.425447</td>\n",
              "    </tr>\n",
              "    <tr>\n",
              "      <th>4398</th>\n",
              "      <td>8398</td>\n",
              "      <td>0.461266</td>\n",
              "    </tr>\n",
              "    <tr>\n",
              "      <th>4399</th>\n",
              "      <td>10252</td>\n",
              "      <td>0.407302</td>\n",
              "    </tr>\n",
              "  </tbody>\n",
              "</table>\n",
              "<p>4400 rows × 2 columns</p>\n",
              "</div>\n",
              "      <button class=\"colab-df-convert\" onclick=\"convertToInteractive('df-c9b15b2f-952e-422e-8b5a-a77cfc9e2d90')\"\n",
              "              title=\"Convert this dataframe to an interactive table.\"\n",
              "              style=\"display:none;\">\n",
              "        \n",
              "  <svg xmlns=\"http://www.w3.org/2000/svg\" height=\"24px\"viewBox=\"0 0 24 24\"\n",
              "       width=\"24px\">\n",
              "    <path d=\"M0 0h24v24H0V0z\" fill=\"none\"/>\n",
              "    <path d=\"M18.56 5.44l.94 2.06.94-2.06 2.06-.94-2.06-.94-.94-2.06-.94 2.06-2.06.94zm-11 1L8.5 8.5l.94-2.06 2.06-.94-2.06-.94L8.5 2.5l-.94 2.06-2.06.94zm10 10l.94 2.06.94-2.06 2.06-.94-2.06-.94-.94-2.06-.94 2.06-2.06.94z\"/><path d=\"M17.41 7.96l-1.37-1.37c-.4-.4-.92-.59-1.43-.59-.52 0-1.04.2-1.43.59L10.3 9.45l-7.72 7.72c-.78.78-.78 2.05 0 2.83L4 21.41c.39.39.9.59 1.41.59.51 0 1.02-.2 1.41-.59l7.78-7.78 2.81-2.81c.8-.78.8-2.07 0-2.86zM5.41 20L4 18.59l7.72-7.72 1.47 1.35L5.41 20z\"/>\n",
              "  </svg>\n",
              "      </button>\n",
              "      \n",
              "  <style>\n",
              "    .colab-df-container {\n",
              "      display:flex;\n",
              "      flex-wrap:wrap;\n",
              "      gap: 12px;\n",
              "    }\n",
              "\n",
              "    .colab-df-convert {\n",
              "      background-color: #E8F0FE;\n",
              "      border: none;\n",
              "      border-radius: 50%;\n",
              "      cursor: pointer;\n",
              "      display: none;\n",
              "      fill: #1967D2;\n",
              "      height: 32px;\n",
              "      padding: 0 0 0 0;\n",
              "      width: 32px;\n",
              "    }\n",
              "\n",
              "    .colab-df-convert:hover {\n",
              "      background-color: #E2EBFA;\n",
              "      box-shadow: 0px 1px 2px rgba(60, 64, 67, 0.3), 0px 1px 3px 1px rgba(60, 64, 67, 0.15);\n",
              "      fill: #174EA6;\n",
              "    }\n",
              "\n",
              "    [theme=dark] .colab-df-convert {\n",
              "      background-color: #3B4455;\n",
              "      fill: #D2E3FC;\n",
              "    }\n",
              "\n",
              "    [theme=dark] .colab-df-convert:hover {\n",
              "      background-color: #434B5C;\n",
              "      box-shadow: 0px 1px 3px 1px rgba(0, 0, 0, 0.15);\n",
              "      filter: drop-shadow(0px 1px 2px rgba(0, 0, 0, 0.3));\n",
              "      fill: #FFFFFF;\n",
              "    }\n",
              "  </style>\n",
              "\n",
              "      <script>\n",
              "        const buttonEl =\n",
              "          document.querySelector('#df-c9b15b2f-952e-422e-8b5a-a77cfc9e2d90 button.colab-df-convert');\n",
              "        buttonEl.style.display =\n",
              "          google.colab.kernel.accessAllowed ? 'block' : 'none';\n",
              "\n",
              "        async function convertToInteractive(key) {\n",
              "          const element = document.querySelector('#df-c9b15b2f-952e-422e-8b5a-a77cfc9e2d90');\n",
              "          const dataTable =\n",
              "            await google.colab.kernel.invokeFunction('convertToInteractive',\n",
              "                                                     [key], {});\n",
              "          if (!dataTable) return;\n",
              "\n",
              "          const docLinkHtml = 'Like what you see? Visit the ' +\n",
              "            '<a target=\"_blank\" href=https://colab.research.google.com/notebooks/data_table.ipynb>data table notebook</a>'\n",
              "            + ' to learn more about interactive tables.';\n",
              "          element.innerHTML = '';\n",
              "          dataTable['output_type'] = 'display_data';\n",
              "          await google.colab.output.renderOutput(dataTable, element);\n",
              "          const docLink = document.createElement('div');\n",
              "          docLink.innerHTML = docLinkHtml;\n",
              "          element.appendChild(docLink);\n",
              "        }\n",
              "      </script>\n",
              "    </div>\n",
              "  </div>\n",
              "  "
            ],
            "text/plain": [
              "         ID  Reached.on.Time_Y.N\n",
              "0      7007             0.444072\n",
              "1      9793             0.463412\n",
              "2      6593             0.514403\n",
              "3     10527             0.375603\n",
              "4      6914             0.454034\n",
              "...     ...                  ...\n",
              "4395   3142             0.405285\n",
              "4396   6948             0.374556\n",
              "4397   7531             0.425447\n",
              "4398   8398             0.461266\n",
              "4399  10252             0.407302\n",
              "\n",
              "[4400 rows x 2 columns]"
            ]
          },
          "metadata": {},
          "execution_count": 36
        }
      ]
    },
    {
      "cell_type": "markdown",
      "source": [
        "#### 000 최종 모델 결과 검증"
      ],
      "metadata": {
        "id": "aRB52HfKZdLC"
      }
    },
    {
      "cell_type": "code",
      "source": [
        "roc_auc_score(y_test['Reached.on.Time_Y.N'], y_final_pred) # 시험에서는 일반적으로 제공되지 않음"
      ],
      "metadata": {
        "colab": {
          "base_uri": "https://localhost:8080/"
        },
        "id": "CMWdWCfWZdrt",
        "outputId": "8d264831-db77-4156-a272-80c67ef444c5"
      },
      "execution_count": 42,
      "outputs": [
        {
          "output_type": "execute_result",
          "data": {
            "text/plain": [
              "0.7366782025486251"
            ]
          },
          "metadata": {},
          "execution_count": 42
        }
      ]
    },
    {
      "cell_type": "markdown",
      "source": [
        "#### 000 최종 모델 예측 결과 파일 생성"
      ],
      "metadata": {
        "id": "LMwo-m6g5vVN"
      }
    },
    {
      "cell_type": "code",
      "source": [
        "result.to_csv(\"./yemoonsaBigdata/examDataset/204_result.csv\", index=False)"
      ],
      "metadata": {
        "id": "3V7OP9NuiBh3"
      },
      "execution_count": 106,
      "outputs": []
    }
  ]
}