{
  "nbformat": 4,
  "nbformat_minor": 0,
  "metadata": {
    "colab": {
      "name": "P3_C1_PythonExam.ipynb",
      "provenance": [],
      "collapsed_sections": [],
      "toc_visible": true
    },
    "kernelspec": {
      "name": "python3",
      "display_name": "Python 3"
    },
    "language_info": {
      "name": "python"
    }
  },
  "cells": [
    {
      "cell_type": "markdown",
      "source": [
        "# **Chapter 1. 빅데이터분석기사 2회**"
      ],
      "metadata": {
        "id": "CeSIU7NxqpAD"
      }
    },
    {
      "cell_type": "markdown",
      "source": [
        "## 1. 필답형"
      ],
      "metadata": {
        "id": "MX3-XCZUqyfD"
      }
    },
    {
      "cell_type": "markdown",
      "source": [
        "## 2. 작업형 제1유형"
      ],
      "metadata": {
        "id": "fCTuF6dRq1UE"
      }
    },
    {
      "cell_type": "markdown",
      "source": [
        "#### 000 소스 및 데이터 동기화"
      ],
      "metadata": {
        "id": "D1RRIF-l3Xyp"
      }
    },
    {
      "cell_type": "code",
      "source": [
        "!git clone https://github.com/AnalyticsKnight/yemoonsaBigdata/"
      ],
      "metadata": {
        "colab": {
          "base_uri": "https://localhost:8080/"
        },
        "id": "VqH3TusIsbzw",
        "outputId": "814115d7-fe68-4647-a96d-ace4c91812cc"
      },
      "execution_count": 2,
      "outputs": [
        {
          "output_type": "stream",
          "name": "stdout",
          "text": [
            "Cloning into 'yemoonsaBigdata'...\n",
            "remote: Enumerating objects: 446, done.\u001b[K\n",
            "remote: Counting objects: 100% (446/446), done.\u001b[K\n",
            "remote: Compressing objects: 100% (421/421), done.\u001b[K\n",
            "remote: Total 446 (delta 222), reused 42 (delta 19), pack-reused 0\u001b[K\n",
            "Receiving objects: 100% (446/446), 8.32 MiB | 4.59 MiB/s, done.\n",
            "Resolving deltas: 100% (222/222), done.\n"
          ]
        }
      ]
    },
    {
      "cell_type": "markdown",
      "source": [
        "### (1) 첫번째 문제"
      ],
      "metadata": {
        "id": "tMFQ7VQJrGq6"
      }
    },
    {
      "cell_type": "markdown",
      "source": [
        "#### 121-01 데이터 불러오기 & 탐색하기"
      ],
      "metadata": {
        "id": "g8x3K0ieMP6B"
      }
    },
    {
      "cell_type": "code",
      "source": [
        "import pandas as pd\n",
        "\n",
        "boston = pd.read_csv(\"./yemoonsaBigdata/datasets/Part3/201_boston.csv\")\n",
        "print(boston.head(5))"
      ],
      "metadata": {
        "id": "7K0PwF-2zWkn",
        "colab": {
          "base_uri": "https://localhost:8080/"
        },
        "outputId": "7ac8f2a9-c13f-44b0-f182-61c1ec76b07e"
      },
      "execution_count": null,
      "outputs": [
        {
          "output_type": "stream",
          "name": "stdout",
          "text": [
            "      CRIM    ZN  INDUS  CHAS    NOX     RM   AGE     DIS  RAD    TAX  \\\n",
            "0  0.00632  18.0   2.31   0.0  0.538  6.575  65.2  4.0900  1.0  296.0   \n",
            "1  0.02731   0.0   7.07   0.0  0.469  6.421  78.9  4.9671  2.0  242.0   \n",
            "2  0.02729   0.0   7.07   0.0  0.469  7.185  61.1  4.9671  2.0  242.0   \n",
            "3  0.03237   0.0   2.18   0.0  0.458  6.998  45.8  6.0622  3.0  222.0   \n",
            "4  0.06905   0.0   2.18   0.0  0.458  7.147  54.2  6.0622  3.0  222.0   \n",
            "\n",
            "   PTRATIO       B  LSTAT  \n",
            "0     15.3  396.90   4.98  \n",
            "1     17.8  396.90   9.14  \n",
            "2     17.8  392.83   4.03  \n",
            "3     18.7  394.63   2.94  \n",
            "4     18.7  396.90   5.33  \n"
          ]
        }
      ]
    },
    {
      "cell_type": "markdown",
      "source": [
        "#### 121-02 내림차순 정렬하기"
      ],
      "metadata": {
        "id": "ratnVcRpNgrj"
      }
    },
    {
      "cell_type": "code",
      "source": [
        "boston_sort = boston.sort_values('CRIM', ascending=False)\n",
        "print(boston_sort.head(12))"
      ],
      "metadata": {
        "colab": {
          "base_uri": "https://localhost:8080/"
        },
        "id": "vOUpGkcozin7",
        "outputId": "c5407019-3029-4cfc-ed10-1976c9f04c82"
      },
      "execution_count": null,
      "outputs": [
        {
          "output_type": "stream",
          "name": "stdout",
          "text": [
            "        CRIM   ZN  INDUS  CHAS    NOX     RM    AGE     DIS   RAD    TAX  \\\n",
            "380  88.9762  0.0   18.1   0.0  0.671  6.968   91.9  1.4165  24.0  666.0   \n",
            "418  73.5341  0.0   18.1   0.0  0.679  5.957  100.0  1.8026  24.0  666.0   \n",
            "405  67.9208  0.0   18.1   0.0  0.693  5.683  100.0  1.4254  24.0  666.0   \n",
            "410  51.1358  0.0   18.1   0.0  0.597  5.757  100.0  1.4130  24.0  666.0   \n",
            "414  45.7461  0.0   18.1   0.0  0.693  4.519  100.0  1.6582  24.0  666.0   \n",
            "404  41.5292  0.0   18.1   0.0  0.693  5.531   85.4  1.6074  24.0  666.0   \n",
            "398  38.3518  0.0   18.1   0.0  0.693  5.453  100.0  1.4896  24.0  666.0   \n",
            "427  37.6619  0.0   18.1   0.0  0.679  6.202   78.7  1.8629  24.0  666.0   \n",
            "413  28.6558  0.0   18.1   0.0  0.597  5.155  100.0  1.5894  24.0  666.0   \n",
            "417  25.9406  0.0   18.1   0.0  0.679  5.304   89.1  1.6475  24.0  666.0   \n",
            "400  25.0461  0.0   18.1   0.0  0.693  5.987  100.0  1.5888  24.0  666.0   \n",
            "403  24.8017  0.0   18.1   0.0  0.693  5.349   96.0  1.7028  24.0  666.0   \n",
            "\n",
            "     PTRATIO       B  LSTAT  \n",
            "380     20.2  396.90  17.21  \n",
            "418     20.2   16.45  20.62  \n",
            "405     20.2  384.97  22.98  \n",
            "410     20.2    2.60  10.11  \n",
            "414     20.2   88.27  36.98  \n",
            "404     20.2  329.46  27.38  \n",
            "398     20.2  396.90  30.59  \n",
            "427     20.2   18.82  14.52  \n",
            "413     20.2  210.97  20.08  \n",
            "417     20.2  127.36  26.64  \n",
            "400     20.2  396.90  26.77  \n",
            "403     20.2  396.90  19.77  \n"
          ]
        }
      ]
    },
    {
      "cell_type": "markdown",
      "source": [
        "#### 121-03 특정 위치 데이터 찾기"
      ],
      "metadata": {
        "id": "w_do-YSSOCV0"
      }
    },
    {
      "cell_type": "code",
      "source": [
        "crim10_value = boston_sort.iloc[9, 0]\n",
        "print(crim10_value)"
      ],
      "metadata": {
        "colab": {
          "base_uri": "https://localhost:8080/"
        },
        "id": "H5Co42wlzmP9",
        "outputId": "c29737ba-fe49-44db-e31f-853f4be992e7"
      },
      "execution_count": null,
      "outputs": [
        {
          "output_type": "stream",
          "name": "stdout",
          "text": [
            "25.9406\n"
          ]
        }
      ]
    },
    {
      "cell_type": "markdown",
      "source": [
        "#### 121-04 특정 위치 데이터 변경하기"
      ],
      "metadata": {
        "id": "RmXWVcxsOJjf"
      }
    },
    {
      "cell_type": "code",
      "source": [
        "boston_sort.iloc[:9, 0] = crim10_value\n",
        "print(boston_sort.head(12))"
      ],
      "metadata": {
        "colab": {
          "base_uri": "https://localhost:8080/"
        },
        "id": "JhCURG6VzsxU",
        "outputId": "0f52d3c4-843b-44e1-85b4-37bcbe2bdc18"
      },
      "execution_count": null,
      "outputs": [
        {
          "output_type": "stream",
          "name": "stdout",
          "text": [
            "        CRIM   ZN  INDUS  CHAS    NOX     RM    AGE     DIS   RAD    TAX  \\\n",
            "380  25.9406  0.0   18.1   0.0  0.671  6.968   91.9  1.4165  24.0  666.0   \n",
            "418  25.9406  0.0   18.1   0.0  0.679  5.957  100.0  1.8026  24.0  666.0   \n",
            "405  25.9406  0.0   18.1   0.0  0.693  5.683  100.0  1.4254  24.0  666.0   \n",
            "410  25.9406  0.0   18.1   0.0  0.597  5.757  100.0  1.4130  24.0  666.0   \n",
            "414  25.9406  0.0   18.1   0.0  0.693  4.519  100.0  1.6582  24.0  666.0   \n",
            "404  25.9406  0.0   18.1   0.0  0.693  5.531   85.4  1.6074  24.0  666.0   \n",
            "398  25.9406  0.0   18.1   0.0  0.693  5.453  100.0  1.4896  24.0  666.0   \n",
            "427  25.9406  0.0   18.1   0.0  0.679  6.202   78.7  1.8629  24.0  666.0   \n",
            "413  25.9406  0.0   18.1   0.0  0.597  5.155  100.0  1.5894  24.0  666.0   \n",
            "417  25.9406  0.0   18.1   0.0  0.679  5.304   89.1  1.6475  24.0  666.0   \n",
            "400  25.0461  0.0   18.1   0.0  0.693  5.987  100.0  1.5888  24.0  666.0   \n",
            "403  24.8017  0.0   18.1   0.0  0.693  5.349   96.0  1.7028  24.0  666.0   \n",
            "\n",
            "     PTRATIO       B  LSTAT  \n",
            "380     20.2  396.90  17.21  \n",
            "418     20.2   16.45  20.62  \n",
            "405     20.2  384.97  22.98  \n",
            "410     20.2    2.60  10.11  \n",
            "414     20.2   88.27  36.98  \n",
            "404     20.2  329.46  27.38  \n",
            "398     20.2  396.90  30.59  \n",
            "427     20.2   18.82  14.52  \n",
            "413     20.2  210.97  20.08  \n",
            "417     20.2  127.36  26.64  \n",
            "400     20.2  396.90  26.77  \n",
            "403     20.2  396.90  19.77  \n"
          ]
        }
      ]
    },
    {
      "cell_type": "markdown",
      "source": [
        "#### 121-05 조건부 평균 계산하기"
      ],
      "metadata": {
        "id": "xmZ576ggOnpw"
      }
    },
    {
      "cell_type": "code",
      "source": [
        "boston_sort_80 = boston_sort[boston_sort['AGE'] >= 80]\n",
        "result = boston_sort_80['CRIM'].mean()\n",
        "print(result)"
      ],
      "metadata": {
        "colab": {
          "base_uri": "https://localhost:8080/"
        },
        "id": "63Nqcrga0M9s",
        "outputId": "a6053ea0-d966-4d03-b949-8356813438f9"
      },
      "execution_count": null,
      "outputs": [
        {
          "output_type": "stream",
          "name": "stdout",
          "text": [
            "5.759386624999999\n"
          ]
        }
      ]
    },
    {
      "cell_type": "markdown",
      "source": [
        "### (2) 두번째 문제"
      ],
      "metadata": {
        "id": "fA1Gkq1RrHrx"
      }
    },
    {
      "cell_type": "markdown",
      "source": [
        "#### 122-01 데이터 불러오기 & 탐색하기"
      ],
      "metadata": {
        "id": "oumyEu8mO9Ki"
      }
    },
    {
      "cell_type": "code",
      "source": [
        "import pandas as pd\n",
        "\n",
        "housing = pd.read_csv(\"./yemoonsaBigdata/datasets/Part3/202_housing.csv\")\n",
        "print(housing.head(10))"
      ],
      "metadata": {
        "id": "8ImtqP-I-kwZ",
        "colab": {
          "base_uri": "https://localhost:8080/"
        },
        "outputId": "e7afafcd-4d8e-4064-adea-075e072dd739"
      },
      "execution_count": null,
      "outputs": [
        {
          "output_type": "stream",
          "name": "stdout",
          "text": [
            "   longitude  latitude  housing_median_age  total_rooms  total_bedrooms  \\\n",
            "0    -122.23     37.88                41.0        880.0           129.0   \n",
            "1    -122.22     37.86                21.0       7099.0          1106.0   \n",
            "2    -122.24     37.85                52.0       1467.0           190.0   \n",
            "3    -122.25     37.85                52.0       1274.0           235.0   \n",
            "4    -122.25     37.85                52.0       1627.0           280.0   \n",
            "5    -122.25     37.85                52.0        919.0           213.0   \n",
            "6    -122.25     37.84                52.0       2535.0           489.0   \n",
            "7    -122.25     37.84                52.0       3104.0           687.0   \n",
            "8    -122.26     37.84                42.0       2555.0           665.0   \n",
            "9    -122.25     37.84                52.0       3549.0           707.0   \n",
            "\n",
            "   population  households  median_income  median_house_value ocean_proximity  \n",
            "0       322.0       126.0         8.3252            452600.0        NEAR BAY  \n",
            "1      2401.0      1138.0         8.3014            358500.0        NEAR BAY  \n",
            "2       496.0       177.0         7.2574            352100.0        NEAR BAY  \n",
            "3       558.0       219.0         5.6431            341300.0        NEAR BAY  \n",
            "4       565.0       259.0         3.8462            342200.0        NEAR BAY  \n",
            "5       413.0       193.0         4.0368            269700.0        NEAR BAY  \n",
            "6      1094.0       514.0         3.6591            299200.0        NEAR BAY  \n",
            "7      1157.0       647.0         3.1200            241400.0        NEAR BAY  \n",
            "8      1206.0       595.0         2.0804            226700.0        NEAR BAY  \n",
            "9      1551.0       714.0         3.6912            261100.0        NEAR BAY  \n"
          ]
        }
      ]
    },
    {
      "cell_type": "markdown",
      "source": [
        "#### 122-02 데이터 추출하기"
      ],
      "metadata": {
        "id": "MSohHZtAQWgR"
      }
    },
    {
      "cell_type": "code",
      "source": [
        "value = int(len(housing) * 0.8)\n",
        "bedrooms = housing['total_bedrooms'][:value]\n",
        "\n",
        "print(bedrooms)"
      ],
      "metadata": {
        "colab": {
          "base_uri": "https://localhost:8080/"
        },
        "id": "O6PG6isG_YCS",
        "outputId": "7554e22b-068b-4231-9176-18e9e74e3133"
      },
      "execution_count": null,
      "outputs": [
        {
          "output_type": "stream",
          "name": "stdout",
          "text": [
            "0         129.0\n",
            "1        1106.0\n",
            "2         190.0\n",
            "3         235.0\n",
            "4         280.0\n",
            "          ...  \n",
            "16507     599.0\n",
            "16508     331.0\n",
            "16509     411.0\n",
            "16510     941.0\n",
            "16511     417.0\n",
            "Name: total_bedrooms, Length: 16512, dtype: float64\n"
          ]
        }
      ]
    },
    {
      "cell_type": "markdown",
      "source": [
        "#### 122-03 표준편차 계산하기"
      ],
      "metadata": {
        "id": "fS-BzqaAQvla"
      }
    },
    {
      "cell_type": "code",
      "source": [
        "std1 = bedrooms.std()\n",
        "print(std1)"
      ],
      "metadata": {
        "colab": {
          "base_uri": "https://localhost:8080/"
        },
        "id": "qag9Gur6BRV2",
        "outputId": "0c638c7c-28e6-4b29-d308-43d5c5cf0226"
      },
      "execution_count": null,
      "outputs": [
        {
          "output_type": "stream",
          "name": "stdout",
          "text": [
            "435.900577052527\n"
          ]
        }
      ]
    },
    {
      "cell_type": "markdown",
      "source": [
        "#### 122-04 중앙값 계산하기"
      ],
      "metadata": {
        "id": "VhQzeVGlRLml"
      }
    },
    {
      "cell_type": "code",
      "source": [
        "med = bedrooms.median()\n",
        "print(med)"
      ],
      "metadata": {
        "colab": {
          "base_uri": "https://localhost:8080/"
        },
        "id": "ZHZ6CyG1Bo9a",
        "outputId": "d8e9b8e8-2828-43de-b7da-2b58176d67fb"
      },
      "execution_count": null,
      "outputs": [
        {
          "output_type": "stream",
          "name": "stdout",
          "text": [
            "436.0\n"
          ]
        }
      ]
    },
    {
      "cell_type": "markdown",
      "source": [
        "#### 122-05 결측값 채우기 & 표준편차 계산하기"
      ],
      "metadata": {
        "id": "Xvvfm_-VRYM5"
      }
    },
    {
      "cell_type": "code",
      "source": [
        "bedrooms_fill = bedrooms.fillna(med)\n",
        "std2 = bedrooms_fill.std()\n",
        "print(std2)"
      ],
      "metadata": {
        "colab": {
          "base_uri": "https://localhost:8080/"
        },
        "id": "29NbrJ3qsfzi",
        "outputId": "9914e24e-7aea-4f77-f360-40c68097f7ae"
      },
      "execution_count": null,
      "outputs": [
        {
          "output_type": "stream",
          "name": "stdout",
          "text": [
            "433.9254297608813\n"
          ]
        }
      ]
    },
    {
      "cell_type": "markdown",
      "source": [
        "#### 122-06 표준편차 차이 절대값 구하기"
      ],
      "metadata": {
        "id": "CchneuaVRryU"
      }
    },
    {
      "cell_type": "code",
      "source": [
        "result = abs(std1 - std2)\n",
        "print(result)"
      ],
      "metadata": {
        "colab": {
          "base_uri": "https://localhost:8080/"
        },
        "id": "rdEEJr99sprH",
        "outputId": "827d8d93-8612-48d0-9f82-b9ecf208f9b0"
      },
      "execution_count": null,
      "outputs": [
        {
          "output_type": "stream",
          "name": "stdout",
          "text": [
            "1.975147291645726\n"
          ]
        }
      ]
    },
    {
      "cell_type": "markdown",
      "source": [
        "### (3) 세번째 문제"
      ],
      "metadata": {
        "id": "viy-W69otH00"
      }
    },
    {
      "cell_type": "markdown",
      "source": [
        "#### 123-01 데이터 불러오기 & 탐색하기"
      ],
      "metadata": {
        "id": "libiGVuqSKpn"
      }
    },
    {
      "cell_type": "code",
      "source": [
        "import pandas as pd\n",
        "\n",
        "housing = pd.read_csv(\"./yemoonsaBigdata/datasets/Part3/203_housing.csv\")\n",
        "print(housing.head(5))"
      ],
      "metadata": {
        "id": "ecJBvEnatNZP",
        "colab": {
          "base_uri": "https://localhost:8080/"
        },
        "outputId": "300d01b6-341e-42fb-f3f8-20dcd6d612c0"
      },
      "execution_count": null,
      "outputs": [
        {
          "output_type": "stream",
          "name": "stdout",
          "text": [
            "   longitude  latitude  housing_median_age  total_rooms  total_bedrooms  \\\n",
            "0    -122.23     37.88                41.0        880.0           129.0   \n",
            "1    -122.22     37.86                21.0       7099.0          1106.0   \n",
            "2    -122.24     37.85                52.0       1467.0           190.0   \n",
            "3    -122.25     37.85                52.0       1274.0           235.0   \n",
            "4    -122.25     37.85                52.0       1627.0           280.0   \n",
            "\n",
            "   population  households  median_income  median_house_value ocean_proximity  \n",
            "0       322.0       126.0         8.3252            452600.0        NEAR BAY  \n",
            "1      2401.0      1138.0         8.3014            358500.0        NEAR BAY  \n",
            "2       496.0       177.0         7.2574            352100.0        NEAR BAY  \n",
            "3       558.0       219.0         5.6431            341300.0        NEAR BAY  \n",
            "4       565.0       259.0         3.8462            342200.0        NEAR BAY  \n"
          ]
        }
      ]
    },
    {
      "cell_type": "markdown",
      "source": [
        "#### 123-02 평균과 표준편차 계산하기"
      ],
      "metadata": {
        "id": "GGsRqpLnSeaI"
      }
    },
    {
      "cell_type": "code",
      "source": [
        "population = housing['population']\n",
        "mean = population.mean()\n",
        "std = population.std()\n",
        "\n",
        "print(\"평균 : \", mean)\n",
        "print(\"표준편차 : \", std)"
      ],
      "metadata": {
        "colab": {
          "base_uri": "https://localhost:8080/"
        },
        "id": "-cJiRq_dtXzF",
        "outputId": "1167ddce-aa13-4c78-eb11-3e1117fa22a9"
      },
      "execution_count": null,
      "outputs": [
        {
          "output_type": "stream",
          "name": "stdout",
          "text": [
            "평균 :  1425.4767441860465\n",
            "표준편차 :  1132.4621217653375\n"
          ]
        }
      ]
    },
    {
      "cell_type": "markdown",
      "source": [
        "#### 123-03 이상값 임계치 계산하기"
      ],
      "metadata": {
        "id": "4M1bwMQOS576"
      }
    },
    {
      "cell_type": "code",
      "source": [
        "lower = mean - (std * 1.5)\n",
        "upper = mean + (std * 1.5)\n",
        "\n",
        "print(\"정상범위 최소값 : \", lower)\n",
        "print(\"정상범위 최대값 : \", upper)"
      ],
      "metadata": {
        "colab": {
          "base_uri": "https://localhost:8080/"
        },
        "id": "1YUYm7nftwdc",
        "outputId": "8598bb99-6952-40cd-df03-315aa1b01e37"
      },
      "execution_count": null,
      "outputs": [
        {
          "output_type": "stream",
          "name": "stdout",
          "text": [
            "정상범위 최소값 :  -273.2164384619598\n",
            "정상범위 최대값 :  3124.1699268340526\n"
          ]
        }
      ]
    },
    {
      "cell_type": "markdown",
      "source": [
        "#### 123-04 이상값 데이터 추출하기"
      ],
      "metadata": {
        "id": "V3XXz_ZcTI2o"
      }
    },
    {
      "cell_type": "code",
      "source": [
        "population_outlier = population[(population < lower) | (population > upper)]\n",
        "print(population_outlier)"
      ],
      "metadata": {
        "colab": {
          "base_uri": "https://localhost:8080/"
        },
        "id": "6B2h5EAgt9fZ",
        "outputId": "e5f05cb4-a0ad-48ae-b922-02a9186a84d8"
      },
      "execution_count": null,
      "outputs": [
        {
          "output_type": "stream",
          "name": "stdout",
          "text": [
            "95       3469.0\n",
            "185      4367.0\n",
            "283      4985.0\n",
            "460      3337.0\n",
            "485      3276.0\n",
            "          ...  \n",
            "20543    3717.0\n",
            "20544    6330.0\n",
            "20563    6837.0\n",
            "20604    3265.0\n",
            "20629    6912.0\n",
            "Name: population, Length: 1207, dtype: float64\n"
          ]
        }
      ]
    },
    {
      "cell_type": "markdown",
      "source": [
        "#### 123-05 이상값 데이터 합계 구하기"
      ],
      "metadata": {
        "id": "WQ52bjG4TSM1"
      }
    },
    {
      "cell_type": "code",
      "source": [
        "result = population_outlier.sum()\n",
        "print(result)"
      ],
      "metadata": {
        "colab": {
          "base_uri": "https://localhost:8080/"
        },
        "id": "pGJ2pHlDuH7d",
        "outputId": "e702f015-503c-4355-d6a4-e34256946555"
      },
      "execution_count": null,
      "outputs": [
        {
          "output_type": "stream",
          "name": "stdout",
          "text": [
            "5607295.0\n"
          ]
        }
      ]
    },
    {
      "cell_type": "markdown",
      "source": [
        "## 3. 작업형 제2유형"
      ],
      "metadata": {
        "id": "ByCjNiHHq3_Y"
      }
    },
    {
      "cell_type": "markdown",
      "source": [
        "### (1) 첫번째 문제"
      ],
      "metadata": {
        "id": "uXinBWrlrI-V"
      }
    },
    {
      "cell_type": "markdown",
      "source": [
        "#### 131-01 데이터 불러오기 & 탐색하기"
      ],
      "metadata": {
        "id": "sz3H2FXlUG38"
      }
    },
    {
      "cell_type": "code",
      "execution_count": 3,
      "metadata": {
        "id": "-7leAN-0qSWW",
        "colab": {
          "base_uri": "https://localhost:8080/"
        },
        "outputId": "e832a5e0-c4be-49e1-8f0b-ed2654d907b5"
      },
      "outputs": [
        {
          "output_type": "stream",
          "name": "stdout",
          "text": [
            "   ID Warehouse_block Mode_of_Shipment  Customer_care_calls  Customer_rating  \\\n",
            "0   1               D           Flight                    4                2   \n",
            "1   2               F           Flight                    4                5   \n",
            "2   3               A           Flight                    2                2   \n",
            "3   4               B           Flight                    3                3   \n",
            "4   5               C           Flight                    2                2   \n",
            "5   6               F           Flight                    3                1   \n",
            "6   7               D           Flight                    3                4   \n",
            "7   8               F           Flight                    4                1   \n",
            "8   9               A           Flight                    3                4   \n",
            "9  10               B           Flight                    3                2   \n",
            "\n",
            "   Cost_of_the_Product  Prior_purchases Product_importance Gender  \\\n",
            "0                  177                3                low      F   \n",
            "1                  216                2                low      M   \n",
            "2                  183                4                low      M   \n",
            "3                  176                4             medium      M   \n",
            "4                  184                3             medium      F   \n",
            "5                  162                3             medium      F   \n",
            "6                  250                3                low      F   \n",
            "7                  233                2                low      F   \n",
            "8                  150                3                low      F   \n",
            "9                  164                3             medium      F   \n",
            "\n",
            "   Discount_offered  Weight_in_gms  Reached.on.Time_Y.N  \n",
            "0                44           1233                    1  \n",
            "1                59           3088                    1  \n",
            "2                48           3374                    1  \n",
            "3                10           1177                    1  \n",
            "4                46           2484                    1  \n",
            "5                12           1417                    1  \n",
            "6                 3           2371                    1  \n",
            "7                48           2804                    1  \n",
            "8                11           1861                    1  \n",
            "9                29           1187                    1  \n"
          ]
        }
      ],
      "source": [
        "import pandas as pd\n",
        "\n",
        "df = pd.read_csv(\"./yemoonsaBigdata/datasets/Part3/204_ecommerce.csv\")\n",
        "print(df.head(10))"
      ]
    },
    {
      "cell_type": "markdown",
      "source": [
        "#### 131-02 훈련 데이터 추출하기"
      ],
      "metadata": {
        "id": "n0cKzCTdUYsF"
      }
    },
    {
      "cell_type": "code",
      "source": [
        "from sklearn.model_selection import train_test_split\n",
        "\n",
        "x_train, x_test = train_test_split(df, test_size=0.3, stratify=df['Reached.on.Time_Y.N'], random_state=0)\n",
        "\n",
        "y_train = x_train[['ID', 'Reached.on.Time_Y.N']]\n",
        "x_train = x_train.drop(columns='Reached.on.Time_Y.N')\n",
        "\n",
        "y_test = x_test[['ID', 'Reached.on.Time_Y.N']]\n",
        "x_test = x_test.drop(columns='Reached.on.Time_Y.N')\n",
        "\n",
        "x_train.to_csv('./yemoonsaBigdata/datasets/Part3/204_x_train.csv', index=False)\n",
        "y_train.to_csv('./yemoonsaBigdata/datasets/Part3/204_y_train.csv', index=False)\n",
        "x_test.to_csv('./yemoonsaBigdata/datasets/Part3/204_x_test.csv', index=False)\n",
        "\n",
        "x_train = pd.read_csv(\"./yemoonsaBigdata/datasets/Part3/204_x_train.csv\")\n",
        "y_train = pd.read_csv(\"./yemoonsaBigdata/datasets/Part3/204_y_train.csv\")\n",
        "x_test = pd.read_csv(\"./yemoonsaBigdata/datasets/Part3/204_x_test.csv\")\n",
        "\n",
        "print(x_train.shape, y_train.shape, x_test.shape)"
      ],
      "metadata": {
        "id": "AyNRLHzDwAvB",
        "colab": {
          "base_uri": "https://localhost:8080/"
        },
        "outputId": "b97e65a5-e4b5-4fef-d339-bb7ef116800f"
      },
      "execution_count": 4,
      "outputs": [
        {
          "output_type": "stream",
          "name": "stdout",
          "text": [
            "(7699, 11) (7699, 2) (3300, 11)\n"
          ]
        }
      ]
    },
    {
      "cell_type": "markdown",
      "source": [
        "#### 131-03 전처리 준비하기"
      ],
      "metadata": {
        "id": "Ur10Y2OzU4D8"
      }
    },
    {
      "cell_type": "code",
      "source": [
        "df_x = pd.concat([x_train, x_test])\n",
        "print(df_x.info())"
      ],
      "metadata": {
        "colab": {
          "base_uri": "https://localhost:8080/"
        },
        "id": "DjjBiSkJGxXF",
        "outputId": "8ed67996-ac7c-4d78-de30-14f42f6462b1"
      },
      "execution_count": 5,
      "outputs": [
        {
          "output_type": "stream",
          "name": "stdout",
          "text": [
            "<class 'pandas.core.frame.DataFrame'>\n",
            "Int64Index: 10999 entries, 0 to 3299\n",
            "Data columns (total 11 columns):\n",
            " #   Column               Non-Null Count  Dtype \n",
            "---  ------               --------------  ----- \n",
            " 0   ID                   10999 non-null  int64 \n",
            " 1   Warehouse_block      10999 non-null  object\n",
            " 2   Mode_of_Shipment     10999 non-null  object\n",
            " 3   Customer_care_calls  10999 non-null  int64 \n",
            " 4   Customer_rating      10999 non-null  int64 \n",
            " 5   Cost_of_the_Product  10999 non-null  int64 \n",
            " 6   Prior_purchases      10999 non-null  int64 \n",
            " 7   Product_importance   10999 non-null  object\n",
            " 8   Gender               10999 non-null  object\n",
            " 9   Discount_offered     10999 non-null  int64 \n",
            " 10  Weight_in_gms        10999 non-null  int64 \n",
            "dtypes: int64(7), object(4)\n",
            "memory usage: 1.0+ MB\n",
            "None\n"
          ]
        }
      ]
    },
    {
      "cell_type": "markdown",
      "source": [
        "#### 000 독립변수 탐색하기"
      ],
      "metadata": {
        "id": "a8-tZI-iXRec"
      }
    },
    {
      "cell_type": "code",
      "source": [
        "print(df_x.groupby(['Warehouse_block'])['Warehouse_block'].count())"
      ],
      "metadata": {
        "colab": {
          "base_uri": "https://localhost:8080/"
        },
        "id": "n1fxaZUmXJS5",
        "outputId": "0c9070d5-7b13-4b14-8403-0cf2b5f70da5"
      },
      "execution_count": 6,
      "outputs": [
        {
          "output_type": "stream",
          "name": "stdout",
          "text": [
            "Warehouse_block\n",
            "A    1833\n",
            "B    1833\n",
            "C    1833\n",
            "D    1834\n",
            "F    3666\n",
            "Name: Warehouse_block, dtype: int64\n"
          ]
        }
      ]
    },
    {
      "cell_type": "code",
      "source": [
        "print(df_x.groupby(['Mode_of_Shipment'])['Mode_of_Shipment'].count())"
      ],
      "metadata": {
        "colab": {
          "base_uri": "https://localhost:8080/"
        },
        "id": "ru7fibKtX04l",
        "outputId": "a5eec034-2d01-4573-9654-e2c75eb66a0d"
      },
      "execution_count": 7,
      "outputs": [
        {
          "output_type": "stream",
          "name": "stdout",
          "text": [
            "Mode_of_Shipment\n",
            "Flight    1777\n",
            "Road      1760\n",
            "Ship      7462\n",
            "Name: Mode_of_Shipment, dtype: int64\n"
          ]
        }
      ]
    },
    {
      "cell_type": "code",
      "source": [
        "print(df_x.groupby(['Product_importance'])['Product_importance'].count())"
      ],
      "metadata": {
        "colab": {
          "base_uri": "https://localhost:8080/"
        },
        "id": "BjJHiMtYX7iB",
        "outputId": "084a2365-ea06-4c0a-e98b-60b50985c338"
      },
      "execution_count": 8,
      "outputs": [
        {
          "output_type": "stream",
          "name": "stdout",
          "text": [
            "Product_importance\n",
            "high       948\n",
            "low       5297\n",
            "medium    4754\n",
            "Name: Product_importance, dtype: int64\n"
          ]
        }
      ]
    },
    {
      "cell_type": "code",
      "source": [
        "print(df_x.groupby(['Gender'])['Gender'].count())"
      ],
      "metadata": {
        "colab": {
          "base_uri": "https://localhost:8080/"
        },
        "id": "gBQ_hpEwYAHa",
        "outputId": "76e0936a-0f62-48a2-85ed-1b21b443a9ef"
      },
      "execution_count": 9,
      "outputs": [
        {
          "output_type": "stream",
          "name": "stdout",
          "text": [
            "Gender\n",
            "F    5545\n",
            "M    5454\n",
            "Name: Gender, dtype: int64\n"
          ]
        }
      ]
    },
    {
      "cell_type": "markdown",
      "source": [
        "#### 000 종속변수 탐색하기"
      ],
      "metadata": {
        "id": "BzlK_XbTWwbO"
      }
    },
    {
      "cell_type": "code",
      "source": [
        "print(y_train['Reached.on.Time_Y.N'].value_counts())"
      ],
      "metadata": {
        "id": "aPLno6-2KfCh",
        "colab": {
          "base_uri": "https://localhost:8080/"
        },
        "outputId": "40a11008-4923-47ab-c7ee-551420a76580"
      },
      "execution_count": 10,
      "outputs": [
        {
          "output_type": "stream",
          "name": "stdout",
          "text": [
            "1    4594\n",
            "0    3105\n",
            "Name: Reached.on.Time_Y.N, dtype: int64\n"
          ]
        }
      ]
    },
    {
      "cell_type": "markdown",
      "source": [
        "#### 131-04 라벨링 인코딩"
      ],
      "metadata": {
        "id": "LzVxQc6aV9aK"
      }
    },
    {
      "cell_type": "code",
      "source": [
        "df_le = df_x.copy()\n",
        "\n",
        "df_le['Gender'] = df_x['Gender'].replace(['F', 'M'], [0, 1])\n",
        "df_le['Product_importance'] = df_x['Product_importance'].replace(['low', 'medium', 'high'], [0, 1, 2])\n",
        "df_le['Mode_of_Shipment'] = df_x['Mode_of_Shipment'].replace(['Ship', 'Road', 'Flight'], [0, 1, 2])\n",
        "df_le['Warehouse_block'] = df_x['Warehouse_block'].replace(['A', 'B', 'C', 'D', 'F'], [0, 1, 2, 3, 4])\n",
        "\n",
        "print(df_le.info())"
      ],
      "metadata": {
        "colab": {
          "base_uri": "https://localhost:8080/"
        },
        "id": "WZKUBo7cb6z7",
        "outputId": "35fe8495-4052-43ad-c630-5fcd3fb6eb19"
      },
      "execution_count": 11,
      "outputs": [
        {
          "output_type": "stream",
          "name": "stdout",
          "text": [
            "<class 'pandas.core.frame.DataFrame'>\n",
            "Int64Index: 10999 entries, 0 to 3299\n",
            "Data columns (total 11 columns):\n",
            " #   Column               Non-Null Count  Dtype\n",
            "---  ------               --------------  -----\n",
            " 0   ID                   10999 non-null  int64\n",
            " 1   Warehouse_block      10999 non-null  int64\n",
            " 2   Mode_of_Shipment     10999 non-null  int64\n",
            " 3   Customer_care_calls  10999 non-null  int64\n",
            " 4   Customer_rating      10999 non-null  int64\n",
            " 5   Cost_of_the_Product  10999 non-null  int64\n",
            " 6   Prior_purchases      10999 non-null  int64\n",
            " 7   Product_importance   10999 non-null  int64\n",
            " 8   Gender               10999 non-null  int64\n",
            " 9   Discount_offered     10999 non-null  int64\n",
            " 10  Weight_in_gms        10999 non-null  int64\n",
            "dtypes: int64(11)\n",
            "memory usage: 1.0 MB\n",
            "None\n"
          ]
        }
      ]
    },
    {
      "cell_type": "markdown",
      "source": [
        "#### 000 상관계수 탐색하기"
      ],
      "metadata": {
        "id": "2yL_kzKPWqN7"
      }
    },
    {
      "cell_type": "code",
      "source": [
        "print(df_le.corr())"
      ],
      "metadata": {
        "colab": {
          "base_uri": "https://localhost:8080/"
        },
        "id": "yoF77ZSvIpkj",
        "outputId": "8515830e-8a3b-40c3-b5e6-77fe47dd07f4"
      },
      "execution_count": 12,
      "outputs": [
        {
          "output_type": "stream",
          "name": "stdout",
          "text": [
            "                           ID  Warehouse_block  Mode_of_Shipment  \\\n",
            "ID                   1.000000         0.000070          0.002459   \n",
            "Warehouse_block      0.000070         1.000000         -0.000617   \n",
            "Mode_of_Shipment     0.002459        -0.000617          1.000000   \n",
            "Customer_care_calls  0.188998         0.014496          0.020164   \n",
            "Customer_rating     -0.005722         0.010169         -0.001679   \n",
            "Cost_of_the_Product  0.196791        -0.006679         -0.006681   \n",
            "Prior_purchases      0.145369        -0.005262          0.001640   \n",
            "Product_importance  -0.056137        -0.001528          0.009767   \n",
            "Gender              -0.001695        -0.003700          0.011288   \n",
            "Discount_offered    -0.598278         0.009569         -0.009364   \n",
            "Weight_in_gms        0.278312         0.004086          0.000797   \n",
            "\n",
            "                     Customer_care_calls  Customer_rating  \\\n",
            "ID                              0.188998        -0.005722   \n",
            "Warehouse_block                 0.014496         0.010169   \n",
            "Mode_of_Shipment                0.020164        -0.001679   \n",
            "Customer_care_calls             1.000000         0.012209   \n",
            "Customer_rating                 0.012209         1.000000   \n",
            "Cost_of_the_Product             0.323182         0.009270   \n",
            "Prior_purchases                 0.180771         0.013179   \n",
            "Product_importance             -0.058134         0.003999   \n",
            "Gender                          0.002545         0.002775   \n",
            "Discount_offered               -0.130750        -0.003124   \n",
            "Weight_in_gms                  -0.276615        -0.001897   \n",
            "\n",
            "                     Cost_of_the_Product  Prior_purchases  Product_importance  \\\n",
            "ID                              0.196791         0.145369           -0.056137   \n",
            "Warehouse_block                -0.006679        -0.005262           -0.001528   \n",
            "Mode_of_Shipment               -0.006681         0.001640            0.009767   \n",
            "Customer_care_calls             0.323182         0.180771           -0.058134   \n",
            "Customer_rating                 0.009270         0.013179            0.003999   \n",
            "Cost_of_the_Product             1.000000         0.123676           -0.046789   \n",
            "Prior_purchases                 0.123676         1.000000            0.027317   \n",
            "Product_importance             -0.046789         0.027317            1.000000   \n",
            "Gender                          0.019759        -0.009395           -0.002974   \n",
            "Discount_offered               -0.138312        -0.082769            0.026023   \n",
            "Weight_in_gms                  -0.132604        -0.168213            0.093211   \n",
            "\n",
            "                       Gender  Discount_offered  Weight_in_gms  \n",
            "ID                  -0.001695         -0.598278       0.278312  \n",
            "Warehouse_block     -0.003700          0.009569       0.004086  \n",
            "Mode_of_Shipment     0.011288         -0.009364       0.000797  \n",
            "Customer_care_calls  0.002545         -0.130750      -0.276615  \n",
            "Customer_rating      0.002775         -0.003124      -0.001897  \n",
            "Cost_of_the_Product  0.019759         -0.138312      -0.132604  \n",
            "Prior_purchases     -0.009395         -0.082769      -0.168213  \n",
            "Product_importance  -0.002974          0.026023       0.093211  \n",
            "Gender               1.000000         -0.011777       0.003573  \n",
            "Discount_offered    -0.011777          1.000000      -0.376067  \n",
            "Weight_in_gms        0.003573         -0.376067       1.000000  \n"
          ]
        }
      ]
    },
    {
      "cell_type": "markdown",
      "source": [
        "#### 000 머신러닝 패키지 불러오기"
      ],
      "metadata": {
        "id": "PWZvA0a1Ybz9"
      }
    },
    {
      "cell_type": "code",
      "source": [
        "from sklearn.preprocessing import MinMaxScaler\n",
        "from sklearn.model_selection import train_test_split\n",
        "from sklearn.linear_model import LogisticRegression\n",
        "from sklearn.tree import DecisionTreeClassifier\n",
        "from sklearn.ensemble import RandomForestClassifier\n",
        "from xgboost import XGBClassifier"
      ],
      "metadata": {
        "id": "DWreV1NUctYJ"
      },
      "execution_count": 18,
      "outputs": []
    },
    {
      "cell_type": "markdown",
      "source": [
        "#### 131-05 모델 점수 계산 함수"
      ],
      "metadata": {
        "id": "B8b_ukwEYmiP"
      }
    },
    {
      "cell_type": "code",
      "source": [
        "from sklearn.metrics import roc_auc_score\n",
        "\n",
        "def get_scores(model, xtrain, xtest, ytrain, ytest):\n",
        "    A = model.score(xtrain, ytrain)\n",
        "    ypred = model.predict_proba(xtest)[:, 1]    \n",
        "    B = roc_auc_score(ytest, ypred) \n",
        "    return '{:.4f} {:.4f}'.format(A, B)"
      ],
      "metadata": {
        "id": "hMdBiKgrfGjl"
      },
      "execution_count": 19,
      "outputs": []
    },
    {
      "cell_type": "markdown",
      "source": [
        "#### 131-06 머신러닝 모델 생성 함수"
      ],
      "metadata": {
        "id": "CKCTv87qZ9ku"
      }
    },
    {
      "cell_type": "code",
      "source": [
        "def make_models(xtrain, xtest, ytrain, ytest):\n",
        "    model1 = LogisticRegression().fit(xtrain, ytrain)\n",
        "    print('model1', get_scores(model1, xtrain, xtest, ytrain, ytest))\n",
        "\n",
        "    model2 = DecisionTreeClassifier(random_state=0).fit(xtrain, ytrain)\n",
        "    print('model2', get_scores(model2, xtrain, xtest, ytrain, ytest))\n",
        "\n",
        "    for d in range(3, 8):\n",
        "        model2 = DecisionTreeClassifier(max_depth=d,random_state=0).fit(xtrain, ytrain)\n",
        "        print('model2', d, get_scores(model2, xtrain, xtest, ytrain, ytest))\n",
        "\n",
        "    model3 = RandomForestClassifier(random_state=0).fit(xtrain, ytrain)\n",
        "    print('model3', get_scores(model3, xtrain, xtest, ytrain, ytest))\n",
        "\n",
        "    for d in range(3, 8):\n",
        "        model3 = RandomForestClassifier(500, max_depth=d, random_state=0).fit(xtrain, ytrain)\n",
        "        print('model3', d, get_scores(model3, xtrain, xtest, ytrain, ytest))\n",
        "\n",
        "    model4 = XGBClassifier().fit(xtrain, ytrain)\n",
        "    print('model4', get_scores(model4, xtrain, xtest, ytrain, ytest))"
      ],
      "metadata": {
        "id": "bxU9bviKfSTY"
      },
      "execution_count": 20,
      "outputs": []
    },
    {
      "cell_type": "markdown",
      "source": [
        "#### 131-07 스케일링 & 머신러닝 전처리"
      ],
      "metadata": {
        "id": "oqpqaQesx9ws"
      }
    },
    {
      "cell_type": "code",
      "source": [
        "x_le = df_le.drop(columns=['ID'])\n",
        "\n",
        "x_le_train = x_le[:7699]\n",
        "x_le_test = x_le[7699:]\n",
        "\n",
        "scaler = MinMaxScaler()\n",
        "scaler.fit(x_le_train)\n",
        "x_fin_train = scaler.transform(x_le_train)\n",
        "x_fin_test = scaler.transform(x_le_test)\n",
        "\n",
        "y_fin_train = y_train['Reached.on.Time_Y.N']\n",
        "\n",
        "print(type(x_fin_train), type(x_fin_test), type(y_fin_train))\n",
        "print(x_fin_train.shape, x_fin_test.shape, y_fin_train.shape)"
      ],
      "metadata": {
        "colab": {
          "base_uri": "https://localhost:8080/"
        },
        "id": "UkuDsadFx9L9",
        "outputId": "0a884b09-23c6-43ce-ed08-382fd3f5011d"
      },
      "execution_count": 21,
      "outputs": [
        {
          "output_type": "stream",
          "name": "stdout",
          "text": [
            "<class 'numpy.ndarray'> <class 'numpy.ndarray'> <class 'pandas.core.series.Series'>\n",
            "(7699, 10) (3300, 10) (7699,)\n"
          ]
        }
      ]
    },
    {
      "cell_type": "markdown",
      "source": [
        "#### 131-08 훈련 데이터 분할하기"
      ],
      "metadata": {
        "id": "pe-qES9-_GNJ"
      }
    },
    {
      "cell_type": "code",
      "source": [
        "xtrain, xtest, ytrain, ytest = train_test_split(x_fin_train, y_fin_train, test_size = 0.3, stratify=y_fin_train, random_state=1234)\n",
        "\n",
        "print(xtrain.shape, xtest.shape, ytrain.shape, ytest.shape)"
      ],
      "metadata": {
        "colab": {
          "base_uri": "https://localhost:8080/"
        },
        "id": "m11wob6-_Fve",
        "outputId": "dd67c028-de76-4b78-fb2b-fd5e4d2f03b8"
      },
      "execution_count": 22,
      "outputs": [
        {
          "output_type": "stream",
          "name": "stdout",
          "text": [
            "(5389, 10) (2310, 10) (5389,) (2310,)\n"
          ]
        }
      ]
    },
    {
      "cell_type": "markdown",
      "source": [
        "#### 131-09 머신러닝 실행"
      ],
      "metadata": {
        "id": "HEgW55f73aVo"
      }
    },
    {
      "cell_type": "code",
      "source": [
        "make_models(xtrain, xtest, ytrain, ytest)"
      ],
      "metadata": {
        "colab": {
          "base_uri": "https://localhost:8080/"
        },
        "id": "8VZdGxC13d4o",
        "outputId": "a267e8ad-7880-4668-8ca4-4b8692c94ba5"
      },
      "execution_count": 23,
      "outputs": [
        {
          "output_type": "stream",
          "name": "stdout",
          "text": [
            "model1 0.6370 0.7306\n",
            "model2 1.0000 0.6325\n",
            "model2 3 0.6719 0.7446\n",
            "model2 4 0.6801 0.7346\n",
            "model2 5 0.6894 0.7404\n",
            "model2 6 0.6931 0.7387\n",
            "model2 7 0.7048 0.7345\n",
            "model3 1.0000 0.7418\n",
            "model3 3 0.6714 0.7407\n",
            "model3 4 0.6884 0.7417\n",
            "model3 5 0.6983 0.7416\n",
            "model3 6 0.7157 0.7373\n",
            "model3 7 0.7395 0.7384\n",
            "model4 0.7085 0.7347\n"
          ]
        }
      ]
    },
    {
      "cell_type": "markdown",
      "source": [
        "#### 131-10 최종 모델 선택"
      ],
      "metadata": {
        "id": "BXJcXN2l3Too"
      }
    },
    {
      "cell_type": "code",
      "source": [
        "final_model = DecisionTreeClassifier(max_depth=3, random_state=0).fit(xtrain, ytrain)\n",
        "print('final model', get_scores(final_model, xtrain, xtest, ytrain, ytest))"
      ],
      "metadata": {
        "colab": {
          "base_uri": "https://localhost:8080/"
        },
        "id": "vZ6Pw65fg-56",
        "outputId": "ad276fe0-4e66-4070-a95b-474a1154e213"
      },
      "execution_count": 24,
      "outputs": [
        {
          "output_type": "stream",
          "name": "stdout",
          "text": [
            "final model 0.6719 0.7446\n"
          ]
        }
      ]
    },
    {
      "cell_type": "markdown",
      "source": [
        "#### 131-11 최종 모델 예측 결과 csv 저장하기"
      ],
      "metadata": {
        "id": "dgg6ELky4aeZ"
      }
    },
    {
      "cell_type": "code",
      "source": [
        "y_pred = final_model.predict_proba(x_fin_test)[:, 1]\n",
        "\n",
        "result = pd.DataFrame({\"y_pred\" : y_pred})\n",
        "result.to_csv(\"./yemoonsaBigdata/res/ecommerce_y_pred.csv\")"
      ],
      "metadata": {
        "id": "iHHC3_hQhitF"
      },
      "execution_count": 25,
      "outputs": []
    }
  ]
}