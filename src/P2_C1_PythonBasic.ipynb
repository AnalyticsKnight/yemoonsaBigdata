{
  "nbformat": 4,
  "nbformat_minor": 0,
  "metadata": {
    "colab": {
      "name": "P2_C1_PythonBasic.ipynb",
      "provenance": [],
      "collapsed_sections": [],
      "toc_visible": true
    },
    "kernelspec": {
      "name": "python3",
      "display_name": "Python 3"
    },
    "language_info": {
      "name": "python"
    }
  },
  "cells": [
    {
      "cell_type": "markdown",
      "source": [
        "# **Chapter 1. 파이썬 기본 문법**"
      ],
      "metadata": {
        "id": "nHcOnSJfzaMx"
      }
    },
    {
      "cell_type": "markdown",
      "source": [
        "## 1. 파이썬이란?"
      ],
      "metadata": {
        "id": "VlxAG5wKzrSm"
      }
    },
    {
      "cell_type": "markdown",
      "source": [
        "### (1) 파이썬 개요"
      ],
      "metadata": {
        "id": "Z64yqSjk2BAc"
      }
    },
    {
      "cell_type": "markdown",
      "source": [
        "### (2) 파이썬 특징"
      ],
      "metadata": {
        "id": "BHad9D3_2C7D"
      }
    },
    {
      "cell_type": "markdown",
      "source": [
        "## 2. 파이썬 실습 준비하기"
      ],
      "metadata": {
        "id": "bvJK0Lnazt_P"
      }
    },
    {
      "cell_type": "markdown",
      "source": [
        "### (1) 실습 환경 구성"
      ],
      "metadata": {
        "id": "-Qp2pf9O2F4d"
      }
    },
    {
      "cell_type": "markdown",
      "source": [
        "### (2) Google Colab 둘러보기"
      ],
      "metadata": {
        "id": "Qh5H9pTt2HeS"
      }
    },
    {
      "cell_type": "markdown",
      "source": [
        "### (3) Github & Colab 환경 구성"
      ],
      "metadata": {
        "id": "pBoei4GMYPSz"
      }
    },
    {
      "cell_type": "markdown",
      "source": [
        "#### 123-01 소스 및 데이터 동기화"
      ],
      "metadata": {
        "id": "vsoHppZWUSQS"
      }
    },
    {
      "cell_type": "code",
      "source": [
        "!git clone https://github.com/AnalyticsKnight/yemoonsaBigdata/"
      ],
      "metadata": {
        "colab": {
          "base_uri": "https://localhost:8080/"
        },
        "id": "IlN-naU0UaAD",
        "outputId": "768d2896-26c7-4c4d-d372-160c6875ebfc"
      },
      "execution_count": null,
      "outputs": [
        {
          "output_type": "stream",
          "name": "stdout",
          "text": [
            "Cloning into 'yemoonsaBigdata'...\n",
            "remote: Enumerating objects: 397, done.\u001b[K\n",
            "remote: Counting objects: 100% (397/397), done.\u001b[K\n",
            "remote: Compressing objects: 100% (372/372), done.\u001b[K\n",
            "remote: Total 397 (delta 186), reused 44 (delta 19), pack-reused 0\u001b[K\n",
            "Receiving objects: 100% (397/397), 8.29 MiB | 4.48 MiB/s, done.\n",
            "Resolving deltas: 100% (186/186), done.\n"
          ]
        }
      ]
    },
    {
      "cell_type": "markdown",
      "source": [
        "## 3. 파이썬 자료형"
      ],
      "metadata": {
        "id": "oHRETlrfz0BT"
      }
    },
    {
      "cell_type": "markdown",
      "source": [
        "### (1) 숫자형 "
      ],
      "metadata": {
        "id": "tRHEdKUIz7OR"
      }
    },
    {
      "cell_type": "markdown",
      "source": [
        "#### 131-01 정수형 + 실수형 "
      ],
      "metadata": {
        "id": "v-jUHt_7uBWn"
      }
    },
    {
      "cell_type": "code",
      "execution_count": null,
      "metadata": {
        "colab": {
          "base_uri": "https://localhost:8080/"
        },
        "id": "iH_9vsFrzZZL",
        "outputId": "61e7e7b2-0d6a-49ec-f6e8-af4242cbb870"
      },
      "outputs": [
        {
          "output_type": "stream",
          "name": "stdout",
          "text": [
            "1234 -12.34\n",
            "<class 'int'> <class 'float'>\n",
            "1221.66\n",
            "<class 'float'>\n"
          ]
        }
      ],
      "source": [
        "a = 1234\n",
        "b = -12.34\n",
        "c = a + b\n",
        "\n",
        "print(a, b)\n",
        "print(type(a), type(b))\n",
        "print(c)\n",
        "print(type(c))"
      ]
    },
    {
      "cell_type": "markdown",
      "source": [
        "#### 131-02 사칙연산 기능"
      ],
      "metadata": {
        "id": "sWMXEayDuc52"
      }
    },
    {
      "cell_type": "code",
      "source": [
        "a = 3\n",
        "b = 7\n",
        "\n",
        "print(a + b)\n",
        "print(a - b)\n",
        "print(a * b)\n",
        "print(a / b)\n",
        "print(a ** b)\n",
        "print(a % b)\n",
        "print(a // b)"
      ],
      "metadata": {
        "colab": {
          "base_uri": "https://localhost:8080/"
        },
        "id": "DDAqTH7p0DQg",
        "outputId": "739b8069-1f06-4bd4-b85d-0b391409ca13"
      },
      "execution_count": null,
      "outputs": [
        {
          "output_type": "stream",
          "name": "stdout",
          "text": [
            "10\n",
            "-4\n",
            "21\n",
            "0.42857142857142855\n",
            "2187\n",
            "3\n",
            "0\n"
          ]
        }
      ]
    },
    {
      "cell_type": "markdown",
      "source": [
        "### (2) 문자열 자료형"
      ],
      "metadata": {
        "id": "aRLGCbPM12NZ"
      }
    },
    {
      "cell_type": "markdown",
      "source": [
        "#### 132-01 문자열 자료형"
      ],
      "metadata": {
        "id": "Lpq9c_6bz5vA"
      }
    },
    {
      "cell_type": "code",
      "source": [
        "a = \"Hello World\"\n",
        "b = \"Hello Python's World\"\n",
        "c = '\"Hello World.\" he says.'\n",
        "d = \"Hello World\\nLife is good\"\n",
        "\n",
        "print(a)\n",
        "print(b)\n",
        "print(c)\n",
        "print(d)"
      ],
      "metadata": {
        "id": "Hlxq_ngH1MHm",
        "colab": {
          "base_uri": "https://localhost:8080/"
        },
        "outputId": "bb46e3ff-146c-441f-8e84-41642eae35ed"
      },
      "execution_count": 1,
      "outputs": [
        {
          "output_type": "stream",
          "name": "stdout",
          "text": [
            "Hello World\n",
            "Hello Python's World\n",
            "\"Hello World.\" he says.\n",
            "Hello World\n",
            "Life is good\n"
          ]
        }
      ]
    },
    {
      "cell_type": "markdown",
      "source": [
        "####132-02 문자열 더하기"
      ],
      "metadata": {
        "id": "g1fwGH-D2mSX"
      }
    },
    {
      "cell_type": "code",
      "source": [
        "a = \"Python\"\n",
        "b = \" \"\n",
        "c = \"is good.\"\n",
        "\n",
        "print(a + b + c)"
      ],
      "metadata": {
        "colab": {
          "base_uri": "https://localhost:8080/"
        },
        "id": "Xd_GaCmo1NuG",
        "outputId": "49032b18-dcdc-4f16-a52f-4331c3f248f6"
      },
      "execution_count": null,
      "outputs": [
        {
          "output_type": "stream",
          "name": "stdout",
          "text": [
            "Python is good.\n"
          ]
        }
      ]
    },
    {
      "cell_type": "markdown",
      "source": [
        "####132-03 문자열 곱하기"
      ],
      "metadata": {
        "id": "XA--zT-r3dSM"
      }
    },
    {
      "cell_type": "code",
      "source": [
        "a = \"Python\"\n",
        "\n",
        "print(a*3)"
      ],
      "metadata": {
        "colab": {
          "base_uri": "https://localhost:8080/"
        },
        "id": "5-iEfrDv20a2",
        "outputId": "57702b5d-bdaa-41c5-b124-5b9681e3a123"
      },
      "execution_count": null,
      "outputs": [
        {
          "output_type": "stream",
          "name": "stdout",
          "text": [
            "PythonPythonPython\n"
          ]
        }
      ]
    },
    {
      "cell_type": "markdown",
      "source": [
        "####132-04 문자열 길이 구하기"
      ],
      "metadata": {
        "id": "LrXLn1Qj3ya8"
      }
    },
    {
      "cell_type": "code",
      "source": [
        "a = \"Life is short, Python is valuable\"\n",
        "b = len(a)\n",
        "\n",
        "print(b)"
      ],
      "metadata": {
        "colab": {
          "base_uri": "https://localhost:8080/"
        },
        "id": "zLo0ShGY3ixO",
        "outputId": "9094e61e-e618-42d4-f8dc-f8830c33f8a7"
      },
      "execution_count": null,
      "outputs": [
        {
          "output_type": "stream",
          "name": "stdout",
          "text": [
            "33\n"
          ]
        }
      ]
    },
    {
      "cell_type": "markdown",
      "source": [
        "####132-05 문자열 인덱싱"
      ],
      "metadata": {
        "id": "tvdIs2c64xCq"
      }
    },
    {
      "cell_type": "code",
      "source": [
        "a = \"Life is short, Python is valuable\"\n",
        "b = a[0]\n",
        "c = a[10]\n",
        "d = a[-8]\n",
        "e = a[-1]\n",
        "\n",
        "print(b + c + d + e)"
      ],
      "metadata": {
        "colab": {
          "base_uri": "https://localhost:8080/"
        },
        "id": "E0PJisWz4jVb",
        "outputId": "2543c21d-ad90-43bd-a3fc-06e4f42b0126"
      },
      "execution_count": null,
      "outputs": [
        {
          "output_type": "stream",
          "name": "stdout",
          "text": [
            "Love\n"
          ]
        }
      ]
    },
    {
      "cell_type": "markdown",
      "source": [
        "####132-06 문자열 슬라이싱"
      ],
      "metadata": {
        "id": "03qpb4u77tWF"
      }
    },
    {
      "cell_type": "code",
      "source": [
        "a = \"Life is short, Python is valuable\"\n",
        "b = a[:4]\n",
        "c = a[4:8]\n",
        "d = a[25:]\n",
        "\n",
        "print(b + c + d)"
      ],
      "metadata": {
        "colab": {
          "base_uri": "https://localhost:8080/"
        },
        "id": "cfjP4vCE6Gi1",
        "outputId": "1b461392-8b0b-4d38-9547-f27eeb327c5a"
      },
      "execution_count": 2,
      "outputs": [
        {
          "output_type": "stream",
          "name": "stdout",
          "text": [
            "Life is valuable\n"
          ]
        }
      ]
    },
    {
      "cell_type": "markdown",
      "source": [
        "####132-07 문자 개수 세기"
      ],
      "metadata": {
        "id": "bn_KlTjE-LHA"
      }
    },
    {
      "cell_type": "code",
      "source": [
        "a = \"apple\"\n",
        "b = a.count('p')\n",
        "\n",
        "print(b)"
      ],
      "metadata": {
        "colab": {
          "base_uri": "https://localhost:8080/"
        },
        "id": "wt0fMJy18gWO",
        "outputId": "2005e8ad-764b-461b-c250-775b0e2e4fc7"
      },
      "execution_count": null,
      "outputs": [
        {
          "output_type": "stream",
          "name": "stdout",
          "text": [
            "2\n"
          ]
        }
      ]
    },
    {
      "cell_type": "markdown",
      "source": [
        "####132-08 문자 위치 찾기"
      ],
      "metadata": {
        "id": "wZmrnyk9_czI"
      }
    },
    {
      "cell_type": "code",
      "source": [
        "a = \"apple\"\n",
        "b = a.find('p')\n",
        "\n",
        "print(b)"
      ],
      "metadata": {
        "colab": {
          "base_uri": "https://localhost:8080/"
        },
        "id": "2x16bCiL9kFB",
        "outputId": "f7770c66-6245-4d1f-93bb-0fef93612995"
      },
      "execution_count": null,
      "outputs": [
        {
          "output_type": "stream",
          "name": "stdout",
          "text": [
            "1\n"
          ]
        }
      ]
    },
    {
      "cell_type": "markdown",
      "source": [
        "####132-09 문자열 삽입"
      ],
      "metadata": {
        "id": "-vc_XIoP_rp-"
      }
    },
    {
      "cell_type": "code",
      "source": [
        "a = \"apple\"\n",
        "b = ','.join(a)\n",
        "\n",
        "print(b)"
      ],
      "metadata": {
        "colab": {
          "base_uri": "https://localhost:8080/"
        },
        "id": "k9Cj5lLl_jIA",
        "outputId": "58586164-7454-4f11-b8f1-6ec411b28369"
      },
      "execution_count": null,
      "outputs": [
        {
          "output_type": "stream",
          "name": "stdout",
          "text": [
            "a,p,p,l,e\n"
          ]
        }
      ]
    },
    {
      "cell_type": "markdown",
      "source": [
        "####132-10 소문자와 대문자 바꾸기"
      ],
      "metadata": {
        "id": "tu0YI6NLAKGI"
      }
    },
    {
      "cell_type": "code",
      "source": [
        "a = \"apple\"\n",
        "b = a.upper()\n",
        "c = b.lower()\n",
        "\n",
        "print(b)\n",
        "print(c)"
      ],
      "metadata": {
        "colab": {
          "base_uri": "https://localhost:8080/"
        },
        "id": "dACsB34tANEW",
        "outputId": "a53b927d-29a6-4594-e1e0-5b1eb745e16b"
      },
      "execution_count": null,
      "outputs": [
        {
          "output_type": "stream",
          "name": "stdout",
          "text": [
            "APPLE\n",
            "apple\n"
          ]
        }
      ]
    },
    {
      "cell_type": "markdown",
      "source": [
        "####132-11 공백 지우기"
      ],
      "metadata": {
        "id": "OJY1AA-HArb1"
      }
    },
    {
      "cell_type": "code",
      "source": [
        "a = \" apple \"\n",
        "b = a.lstrip()\n",
        "c = a.rstrip()\n",
        "d = a.strip()\n",
        "\n",
        "print(b)\n",
        "print(c)\n",
        "print(d)"
      ],
      "metadata": {
        "colab": {
          "base_uri": "https://localhost:8080/"
        },
        "id": "UpOFQSeDASJp",
        "outputId": "c396a625-66eb-4e86-b858-abace9587ecb"
      },
      "execution_count": null,
      "outputs": [
        {
          "output_type": "stream",
          "name": "stdout",
          "text": [
            "apple \n",
            " apple\n",
            "apple\n"
          ]
        }
      ]
    },
    {
      "cell_type": "markdown",
      "source": [
        "####132-12 문자열 바꾸기"
      ],
      "metadata": {
        "id": "Tvxk4GQrBLX9"
      }
    },
    {
      "cell_type": "code",
      "source": [
        "a = \"Life is good\"\n",
        "b = a.replace(\"Life\", \"Python\")\n",
        "\n",
        "print(b)"
      ],
      "metadata": {
        "colab": {
          "base_uri": "https://localhost:8080/"
        },
        "id": "ypB_gl81A3cA",
        "outputId": "21ddfa66-baa6-410f-c92b-497d7c4fa831"
      },
      "execution_count": null,
      "outputs": [
        {
          "output_type": "stream",
          "name": "stdout",
          "text": [
            "Python is good\n"
          ]
        }
      ]
    },
    {
      "cell_type": "markdown",
      "source": [
        "####132-13 문자열 나누기"
      ],
      "metadata": {
        "id": "QZj8uMdsBh07"
      }
    },
    {
      "cell_type": "code",
      "source": [
        "a = \"Life is short, Python is valuable\"\n",
        "b = a.split()\n",
        "c = a.split(',')\n",
        "\n",
        "print(b)\n",
        "print(c)"
      ],
      "metadata": {
        "colab": {
          "base_uri": "https://localhost:8080/"
        },
        "id": "q0E-3QGxBXKI",
        "outputId": "7f2d48d3-fa64-42a4-9277-22131ce27b03"
      },
      "execution_count": null,
      "outputs": [
        {
          "output_type": "stream",
          "name": "stdout",
          "text": [
            "['Life', 'is', 'short,', 'Python', 'is', 'valuable']\n",
            "['Life is short', ' Python is valuable']\n"
          ]
        }
      ]
    },
    {
      "cell_type": "markdown",
      "source": [
        "###(3) 리스트 자료형"
      ],
      "metadata": {
        "id": "N7lU0zhLFHI5"
      }
    },
    {
      "cell_type": "markdown",
      "source": [
        "####133-01 리스트 기본 연산"
      ],
      "metadata": {
        "id": "GTs0DA8NI-iI"
      }
    },
    {
      "cell_type": "code",
      "source": [
        "a = [1, 2, 3, 4, 5]\n",
        "b = ['a', 'b', 'c']\n",
        "c = a * 2 + b\n",
        "d = len(c)\n",
        "\n",
        "print(c)\n",
        "print(d)"
      ],
      "metadata": {
        "colab": {
          "base_uri": "https://localhost:8080/"
        },
        "id": "dTRCqgrmJMrc",
        "outputId": "edae96fb-814a-4ff0-c597-5f024893e112"
      },
      "execution_count": 7,
      "outputs": [
        {
          "output_type": "stream",
          "name": "stdout",
          "text": [
            "[1, 2, 3, 4, 5, 1, 2, 3, 4, 5, 'a', 'b', 'c']\n",
            "13\n"
          ]
        }
      ]
    },
    {
      "cell_type": "markdown",
      "source": [
        "####133-02 리스트 인덱싱과 슬라이싱"
      ],
      "metadata": {
        "id": "ihHY0gwSGDHE"
      }
    },
    {
      "cell_type": "code",
      "source": [
        "a = [1, 2, 3, 4, 5]\n",
        "\n",
        "print(a)\n",
        "print(a[0])\n",
        "print(a[1:4])\n",
        "print(a[-1])\n",
        "print(a[4])\n",
        "print(a[2:])\n",
        "print(a[2:5])\n",
        "print(a[:3])\n",
        "print(a[0:3])"
      ],
      "metadata": {
        "colab": {
          "base_uri": "https://localhost:8080/"
        },
        "id": "Togi0VbwGI20",
        "outputId": "50736b18-e534-4ca2-b6c7-280b61440d3a"
      },
      "execution_count": null,
      "outputs": [
        {
          "output_type": "stream",
          "name": "stdout",
          "text": [
            "[1, 2, 3, 4, 5]\n",
            "1\n",
            "[2, 3, 4]\n",
            "5\n",
            "5\n",
            "[3, 4, 5]\n",
            "[3, 4, 5]\n",
            "[1, 2, 3]\n",
            "[1, 2, 3]\n"
          ]
        }
      ]
    },
    {
      "cell_type": "markdown",
      "source": [
        "####133-03 중첩된 리스트 인덱싱과 슬라이싱"
      ],
      "metadata": {
        "id": "mSZRjP0YHrle"
      }
    },
    {
      "cell_type": "code",
      "source": [
        "a = [1, 2, 3, ['a', 'b', 'c']]\n",
        "\n",
        "print(a)\n",
        "print(a[3])\n",
        "print(a[3][0])\n",
        "print(a[3][1:])\n",
        "print(a[3][:1])"
      ],
      "metadata": {
        "colab": {
          "base_uri": "https://localhost:8080/"
        },
        "id": "GkU4agCnHpp4",
        "outputId": "fd54c322-094d-4946-a231-c3c172f1e9e3"
      },
      "execution_count": null,
      "outputs": [
        {
          "output_type": "stream",
          "name": "stdout",
          "text": [
            "[1, 2, 3, ['a', 'b', 'c']]\n",
            "['a', 'b', 'c']\n",
            "a\n",
            "['b', 'c']\n",
            "['a']\n"
          ]
        }
      ]
    },
    {
      "cell_type": "markdown",
      "source": [
        "####133-04 리스트 요소의 수정과 삭제"
      ],
      "metadata": {
        "id": "Aqz8IwLcJ1VD"
      }
    },
    {
      "cell_type": "code",
      "source": [
        "a = [1, 2, 3, 4, 5]\n",
        "a[2] = 10\n",
        "del a[4]\n",
        "\n",
        "print(a)"
      ],
      "metadata": {
        "colab": {
          "base_uri": "https://localhost:8080/"
        },
        "id": "gA8yCc8bK_S0",
        "outputId": "e49891a0-ac9e-4a5d-b24b-55be69ad8016"
      },
      "execution_count": null,
      "outputs": [
        {
          "output_type": "stream",
          "name": "stdout",
          "text": [
            "[1, 2, 10, 4]\n"
          ]
        }
      ]
    },
    {
      "cell_type": "markdown",
      "source": [
        "####133-05 리스트 요소 추가"
      ],
      "metadata": {
        "id": "Y3PpNEDhLWxX"
      }
    },
    {
      "cell_type": "code",
      "source": [
        "a = [1, 2, 3]\n",
        "a.append(10)\n",
        "\n",
        "print(a)"
      ],
      "metadata": {
        "colab": {
          "base_uri": "https://localhost:8080/"
        },
        "id": "TIJu0EcmLWaB",
        "outputId": "c86d1d48-664b-48d2-a1aa-9e564d30e914"
      },
      "execution_count": null,
      "outputs": [
        {
          "output_type": "stream",
          "name": "stdout",
          "text": [
            "[1, 2, 3, 10]\n"
          ]
        }
      ]
    },
    {
      "cell_type": "markdown",
      "source": [
        "####133-06 리스트 정렬"
      ],
      "metadata": {
        "id": "zKZBUBPGLsE6"
      }
    },
    {
      "cell_type": "code",
      "source": [
        "a = [1, 5, 2, 4, 3]\n",
        "a.sort()\n",
        "\n",
        "print(a)"
      ],
      "metadata": {
        "colab": {
          "base_uri": "https://localhost:8080/"
        },
        "id": "T3ivn9WTLvm6",
        "outputId": "83f34306-0aa0-4885-d820-f9354b7b04af"
      },
      "execution_count": null,
      "outputs": [
        {
          "output_type": "stream",
          "name": "stdout",
          "text": [
            "[1, 2, 3, 4, 5]\n"
          ]
        }
      ]
    },
    {
      "cell_type": "markdown",
      "source": [
        "####133-07 리스트 요소의 위치 반환"
      ],
      "metadata": {
        "id": "NQuc3bpMMReo"
      }
    },
    {
      "cell_type": "code",
      "source": [
        "a = [5, 4, 3, 2, 1]\n",
        "b = a.index(3)\n",
        "c = a.index(5)\n",
        "\n",
        "print(b)\n",
        "print(c)"
      ],
      "metadata": {
        "colab": {
          "base_uri": "https://localhost:8080/"
        },
        "id": "46yHorVCM1-H",
        "outputId": "f7bda7e0-7605-4c1c-ac22-2e34b07d4177"
      },
      "execution_count": null,
      "outputs": [
        {
          "output_type": "stream",
          "name": "stdout",
          "text": [
            "2\n",
            "0\n"
          ]
        }
      ]
    },
    {
      "cell_type": "markdown",
      "source": [
        "####133-08 리스트 요소 삽입"
      ],
      "metadata": {
        "id": "zrzdKyBmNuyX"
      }
    },
    {
      "cell_type": "code",
      "source": [
        "a = [1, 2, 3]\n",
        "a.insert(0, 10)\n",
        "\n",
        "print(a)"
      ],
      "metadata": {
        "colab": {
          "base_uri": "https://localhost:8080/"
        },
        "id": "0dKWynEPOIVw",
        "outputId": "344ae223-7774-4fba-d528-cd01709e520a"
      },
      "execution_count": null,
      "outputs": [
        {
          "output_type": "stream",
          "name": "stdout",
          "text": [
            "[10, 1, 2, 3]\n"
          ]
        }
      ]
    },
    {
      "cell_type": "markdown",
      "source": [
        "####133-09 리스트 요소 제거"
      ],
      "metadata": {
        "id": "DCPQ5rlfNxUD"
      }
    },
    {
      "cell_type": "code",
      "source": [
        "a = [5, 4, 3, 2, 1, 5, 4, 3, 2, 1]\n",
        "a.remove(4)\n",
        "\n",
        "print(a)"
      ],
      "metadata": {
        "colab": {
          "base_uri": "https://localhost:8080/"
        },
        "id": "atxVTDlxOcXZ",
        "outputId": "3e7d0fde-df98-4f1f-e8f0-bf87548cd625"
      },
      "execution_count": null,
      "outputs": [
        {
          "output_type": "stream",
          "name": "stdout",
          "text": [
            "[5, 3, 2, 1, 5, 4, 3, 2, 1]\n"
          ]
        }
      ]
    },
    {
      "cell_type": "markdown",
      "source": [
        "####133-10 리스트 요소 뽑기"
      ],
      "metadata": {
        "id": "d429PWgyNzIr"
      }
    },
    {
      "cell_type": "code",
      "source": [
        "a = [5, 4, 3, 2, 1, 5, 4, 3, 2, 1]\n",
        "b = a.pop(1)\n",
        "\n",
        "print(a)\n",
        "print(b)"
      ],
      "metadata": {
        "colab": {
          "base_uri": "https://localhost:8080/"
        },
        "id": "yhZAwZzVO2ns",
        "outputId": "f70037a9-c0aa-4390-97bf-ded03461dfe2"
      },
      "execution_count": 8,
      "outputs": [
        {
          "output_type": "stream",
          "name": "stdout",
          "text": [
            "[5, 3, 2, 1, 5, 4, 3, 2, 1]\n",
            "4\n"
          ]
        }
      ]
    },
    {
      "cell_type": "markdown",
      "source": [
        "####133-11 리스트 요소 개수 세기"
      ],
      "metadata": {
        "id": "YNYziNIvOGnF"
      }
    },
    {
      "cell_type": "code",
      "source": [
        "a = [5, 4, 3, 2, 1, 5, 4, 3, 2, 1]\n",
        "b = a.count(1)\n",
        "\n",
        "print(b)"
      ],
      "metadata": {
        "colab": {
          "base_uri": "https://localhost:8080/"
        },
        "id": "6KYg8n1fPPWx",
        "outputId": "b9eec28e-7d14-4ea2-bb43-ba169d40387f"
      },
      "execution_count": 9,
      "outputs": [
        {
          "output_type": "stream",
          "name": "stdout",
          "text": [
            "2\n"
          ]
        }
      ]
    },
    {
      "cell_type": "markdown",
      "source": [
        "###(4) 튜플 자료형"
      ],
      "metadata": {
        "id": "uMSVZ9VYFNje"
      }
    },
    {
      "cell_type": "markdown",
      "source": [
        "####134-01 튜플 기본 연산"
      ],
      "metadata": {
        "id": "YP0DJQY9SYg4"
      }
    },
    {
      "cell_type": "code",
      "source": [
        "a = (1, 2, 3, 4, 5)\n",
        "b = ('a', 'b', 'c')\n",
        "c = a * 2 + b\n",
        "d = len(c)\n",
        "\n",
        "print(c)\n",
        "print(d)"
      ],
      "metadata": {
        "colab": {
          "base_uri": "https://localhost:8080/"
        },
        "id": "7nNmynhUSbYI",
        "outputId": "56b3d8cb-aaa0-4469-f5cf-8e21085b7894"
      },
      "execution_count": null,
      "outputs": [
        {
          "output_type": "stream",
          "name": "stdout",
          "text": [
            "(1, 2, 3, 4, 5, 1, 2, 3, 4, 5, 'a', 'b', 'c')\n",
            "13\n"
          ]
        }
      ]
    },
    {
      "cell_type": "markdown",
      "source": [
        "####134-02 튜플 인덱싱과 슬라이싱"
      ],
      "metadata": {
        "id": "vhCiKw4iRze_"
      }
    },
    {
      "cell_type": "code",
      "source": [
        "a = (1, 2, 3, 'a', 'b', 'c')\n",
        "\n",
        "print(a[0])\n",
        "print(a[3:])"
      ],
      "metadata": {
        "colab": {
          "base_uri": "https://localhost:8080/"
        },
        "id": "i046H_N7R6t4",
        "outputId": "93d0d47f-d624-463b-f1b6-942086407efd"
      },
      "execution_count": null,
      "outputs": [
        {
          "output_type": "stream",
          "name": "stdout",
          "text": [
            "1\n",
            "('a', 'b', 'c')\n"
          ]
        }
      ]
    },
    {
      "cell_type": "markdown",
      "source": [
        "###(5) 딕셔너리 자료형"
      ],
      "metadata": {
        "id": "yWx7FN5dFYw7"
      }
    },
    {
      "cell_type": "markdown",
      "source": [
        "#### 135-01 딕셔너리 자료 구조"
      ],
      "metadata": {
        "id": "GKxvTgRjXucQ"
      }
    },
    {
      "cell_type": "code",
      "source": [
        "a = {'name':'John', 'age':30, 'birth':[11, 8]}\n",
        "\n",
        "print(a)\n",
        "print(a['name'])\n",
        "print(a['birth'])"
      ],
      "metadata": {
        "colab": {
          "base_uri": "https://localhost:8080/"
        },
        "id": "gVMLICCIXt1P",
        "outputId": "aab0459b-cab1-4e2d-a6f6-6d8f2beb03a9"
      },
      "execution_count": null,
      "outputs": [
        {
          "output_type": "stream",
          "name": "stdout",
          "text": [
            "{'name': 'John', 'age': 30, 'birth': [11, 8]}\n",
            "John\n",
            "[11, 8]\n"
          ]
        }
      ]
    },
    {
      "cell_type": "markdown",
      "source": [
        "####135-02 딕셔너리 키-값 추가와 삭제"
      ],
      "metadata": {
        "id": "_oZqZZhkaqnT"
      }
    },
    {
      "cell_type": "code",
      "source": [
        "a = {'name':'John'}\n",
        "a['age'] = 30\n",
        "a['house'] = 'apartment'\n",
        "a['birth'] = [11, 8]\n",
        "del a['house']\n",
        "\n",
        "print(a)"
      ],
      "metadata": {
        "colab": {
          "base_uri": "https://localhost:8080/"
        },
        "id": "-KtX0t4XYwdp",
        "outputId": "f1a54ed8-b666-4c25-df11-376c234fed65"
      },
      "execution_count": null,
      "outputs": [
        {
          "output_type": "stream",
          "name": "stdout",
          "text": [
            "{'name': 'John', 'age': 30, 'birth': [11, 8]}\n"
          ]
        }
      ]
    },
    {
      "cell_type": "markdown",
      "source": [
        "####135-03 딕셔너리 키 중복"
      ],
      "metadata": {
        "id": "ZWfbnuQ8awEK"
      }
    },
    {
      "cell_type": "code",
      "source": [
        "a = {'name':'John', 'name':'Park'}\n",
        "\n",
        "print(a)"
      ],
      "metadata": {
        "colab": {
          "base_uri": "https://localhost:8080/"
        },
        "id": "qht6D5eMayoB",
        "outputId": "295b6925-a466-43fb-f4c3-f8c2e702a6b1"
      },
      "execution_count": null,
      "outputs": [
        {
          "output_type": "stream",
          "name": "stdout",
          "text": [
            "{'name': 'Park'}\n"
          ]
        }
      ]
    },
    {
      "cell_type": "markdown",
      "source": [
        "####135-04 딕셔너리 키 리스트 만들기"
      ],
      "metadata": {
        "id": "C_APq-WJdyJ1"
      }
    },
    {
      "cell_type": "code",
      "source": [
        "a = {'name':'John', 'age':30, 'birth':[11, 8]}\n",
        "b = a.keys()\n",
        "c = list(a.keys())\n",
        "\n",
        "print(b)\n",
        "print(c)"
      ],
      "metadata": {
        "colab": {
          "base_uri": "https://localhost:8080/"
        },
        "id": "b8FnEaDrd0Yd",
        "outputId": "10b2a317-cfa4-4620-ecb1-b203487a082c"
      },
      "execution_count": null,
      "outputs": [
        {
          "output_type": "stream",
          "name": "stdout",
          "text": [
            "dict_keys(['name', 'age', 'birth'])\n",
            "['name', 'age', 'birth']\n"
          ]
        }
      ]
    },
    {
      "cell_type": "markdown",
      "source": [
        "####135-05 딕셔너리 값 리스트 만들기"
      ],
      "metadata": {
        "id": "K7GJ2uaBeO6C"
      }
    },
    {
      "cell_type": "code",
      "source": [
        "a = {'name':'John', 'age':30, 'birth':[11, 8]}\n",
        "b = a.values()\n",
        "c = list(a.values())\n",
        "\n",
        "print(b)\n",
        "print(c)"
      ],
      "metadata": {
        "colab": {
          "base_uri": "https://localhost:8080/"
        },
        "id": "Z_3wrKrweSzc",
        "outputId": "96224c8c-6230-4e44-bdda-4032d5f6a61a"
      },
      "execution_count": null,
      "outputs": [
        {
          "output_type": "stream",
          "name": "stdout",
          "text": [
            "dict_values(['John', 30, [11, 8]])\n",
            "['John', 30, [11, 8]]\n"
          ]
        }
      ]
    },
    {
      "cell_type": "markdown",
      "source": [
        "####135-06 딕셔너리 키-값 리스트 만들기"
      ],
      "metadata": {
        "id": "AWQ6mXpEel0H"
      }
    },
    {
      "cell_type": "code",
      "source": [
        "a = {'name':'John', 'age':30, 'birth':[11, 8]}\n",
        "b = a.items()\n",
        "c = list(a.items())\n",
        "\n",
        "print(b)\n",
        "print(c)"
      ],
      "metadata": {
        "colab": {
          "base_uri": "https://localhost:8080/"
        },
        "id": "ANLfqlj0eoSN",
        "outputId": "11f62404-46a8-4f16-df46-c5c2797718a0"
      },
      "execution_count": null,
      "outputs": [
        {
          "output_type": "stream",
          "name": "stdout",
          "text": [
            "dict_items([('name', 'John'), ('age', 30), ('birth', [11, 8])])\n",
            "[('name', 'John'), ('age', 30), ('birth', [11, 8])]\n"
          ]
        }
      ]
    },
    {
      "cell_type": "markdown",
      "source": [
        "####135-07 딕셔너리 키로 값 호출하기"
      ],
      "metadata": {
        "id": "09e_RJjJfYVh"
      }
    },
    {
      "cell_type": "code",
      "source": [
        "a = {'name':'John', 'age':30, 'birth':[11, 8]}\n",
        "b = a.get('name')\n",
        "c = a['name']\n",
        "d = a.get('house')\n",
        "e = a.get('house', 'No data')\n",
        "\n",
        "print(b)\n",
        "print(c)\n",
        "print(d)\n",
        "print(e)"
      ],
      "metadata": {
        "colab": {
          "base_uri": "https://localhost:8080/"
        },
        "id": "BVIiozo1fcB2",
        "outputId": "032c5ec5-e4fd-4769-d73b-fa1fa603be29"
      },
      "execution_count": null,
      "outputs": [
        {
          "output_type": "stream",
          "name": "stdout",
          "text": [
            "John\n",
            "John\n",
            "None\n",
            "No data\n"
          ]
        }
      ]
    },
    {
      "cell_type": "markdown",
      "source": [
        "###(6) 집합 자료형"
      ],
      "metadata": {
        "id": "TcYV_3DgFctK"
      }
    },
    {
      "cell_type": "markdown",
      "source": [
        "####136-01 집합 자료형"
      ],
      "metadata": {
        "id": "SGmPXqr4xNAM"
      }
    },
    {
      "cell_type": "code",
      "source": [
        "a = {1, 2, 3, 2, 1}\n",
        "b = set([1, 2, 3, 2, 1])\n",
        "c = set(\"Python\")\n",
        "\n",
        "print(a)\n",
        "print(b)\n",
        "print(c)"
      ],
      "metadata": {
        "colab": {
          "base_uri": "https://localhost:8080/"
        },
        "id": "QaPNIV6ExTrx",
        "outputId": "22868eac-b52d-4f11-a851-ed55fe3e0e3e"
      },
      "execution_count": null,
      "outputs": [
        {
          "output_type": "stream",
          "name": "stdout",
          "text": [
            "{1, 2, 3}\n",
            "{1, 2, 3}\n",
            "{'n', 't', 'P', 'o', 'y', 'h'}\n"
          ]
        }
      ]
    },
    {
      "cell_type": "markdown",
      "source": [
        "####136-02 집합 자료형 변환"
      ],
      "metadata": {
        "id": "G2LRRhnEx3tj"
      }
    },
    {
      "cell_type": "code",
      "source": [
        "a = set([1, 2, 3])\n",
        "b = list(a)\n",
        "c = tuple(a)\n",
        "\n",
        "print(a)\n",
        "print(b)\n",
        "print(b[0])\n",
        "print(c)\n",
        "print(c[2])"
      ],
      "metadata": {
        "colab": {
          "base_uri": "https://localhost:8080/"
        },
        "id": "NtQ1oyt2yCQ-",
        "outputId": "cc1e8ece-3909-41cb-9311-d36cfe8ce38f"
      },
      "execution_count": null,
      "outputs": [
        {
          "output_type": "stream",
          "name": "stdout",
          "text": [
            "{1, 2, 3}\n",
            "[1, 2, 3]\n",
            "1\n",
            "(1, 2, 3)\n",
            "3\n"
          ]
        }
      ]
    },
    {
      "cell_type": "markdown",
      "source": [
        "####136-03 집합 자료형 교집합"
      ],
      "metadata": {
        "id": "a-YgO7XYzZ3q"
      }
    },
    {
      "cell_type": "code",
      "source": [
        "a = set([1, 2, 3, 4, 5])\n",
        "b = set([3, 4, 5, 6, 7])\n",
        "c = a & b\n",
        "d = a.intersection(b)\n",
        "\n",
        "print(c)\n",
        "print(d)"
      ],
      "metadata": {
        "colab": {
          "base_uri": "https://localhost:8080/"
        },
        "id": "ujPlAnw5zcp3",
        "outputId": "5c306587-d223-4ba3-8f76-1027ed094aa6"
      },
      "execution_count": null,
      "outputs": [
        {
          "output_type": "stream",
          "name": "stdout",
          "text": [
            "{3, 4, 5}\n",
            "{3, 4, 5}\n"
          ]
        }
      ]
    },
    {
      "cell_type": "markdown",
      "source": [
        "####136-04 집합 자료형 합집합"
      ],
      "metadata": {
        "id": "LBuoB6I-z7iZ"
      }
    },
    {
      "cell_type": "code",
      "source": [
        "a = set([1, 2, 3, 4, 5])\n",
        "b = set([3, 4, 5, 6, 7])\n",
        "c = a | b\n",
        "d = a.union(b)\n",
        "\n",
        "print(c)\n",
        "print(d)"
      ],
      "metadata": {
        "colab": {
          "base_uri": "https://localhost:8080/"
        },
        "id": "eDUXf0E4z90v",
        "outputId": "9112bfc6-0ebb-4764-eb19-4e3bf1a9cf7d"
      },
      "execution_count": null,
      "outputs": [
        {
          "output_type": "stream",
          "name": "stdout",
          "text": [
            "{1, 2, 3, 4, 5, 6, 7}\n",
            "{1, 2, 3, 4, 5, 6, 7}\n"
          ]
        }
      ]
    },
    {
      "cell_type": "markdown",
      "source": [
        "####136-05 집합 자료형 차집합"
      ],
      "metadata": {
        "id": "-hxv6iHx0Iho"
      }
    },
    {
      "cell_type": "code",
      "source": [
        "a = set([1, 2, 3, 4, 5])\n",
        "b = set([3, 4, 5, 6, 7])\n",
        "c = a - b\n",
        "d = a.difference(b)\n",
        "\n",
        "print(c)\n",
        "print(d)"
      ],
      "metadata": {
        "colab": {
          "base_uri": "https://localhost:8080/"
        },
        "id": "EN-iRfAR0LXB",
        "outputId": "143e665d-8525-4e71-9da3-25a63b7773fb"
      },
      "execution_count": null,
      "outputs": [
        {
          "output_type": "stream",
          "name": "stdout",
          "text": [
            "{1, 2}\n",
            "{1, 2}\n"
          ]
        }
      ]
    },
    {
      "cell_type": "markdown",
      "source": [
        "###(7) 논리 자료형"
      ],
      "metadata": {
        "id": "IpIgLxqFFed9"
      }
    },
    {
      "cell_type": "markdown",
      "source": [
        "####137-01 논리 자료형 특징"
      ],
      "metadata": {
        "id": "bUcqJVy-1FTZ"
      }
    },
    {
      "cell_type": "code",
      "source": [
        "a = True\n",
        "b = False\n",
        "\n",
        "print(a)\n",
        "print(type(a))\n",
        "print(b)\n",
        "print(type(b))\n",
        "print(a + b)\n",
        "print(type(a + b))\n",
        "print(a * b)\n",
        "print(type(a * b))"
      ],
      "metadata": {
        "colab": {
          "base_uri": "https://localhost:8080/"
        },
        "id": "BfItBgto1Hqk",
        "outputId": "e2c78972-a54a-4f0f-ae0a-8cf38d40becd"
      },
      "execution_count": null,
      "outputs": [
        {
          "output_type": "stream",
          "name": "stdout",
          "text": [
            "True\n",
            "<class 'bool'>\n",
            "False\n",
            "<class 'bool'>\n",
            "1\n",
            "<class 'int'>\n",
            "0\n",
            "<class 'int'>\n"
          ]
        }
      ]
    },
    {
      "cell_type": "markdown",
      "source": [
        "##4. 파이썬 제어문"
      ],
      "metadata": {
        "id": "_IewLf4oFr7O"
      }
    },
    {
      "cell_type": "markdown",
      "source": [
        "###(1) if문"
      ],
      "metadata": {
        "id": "6fNzChnFFu-r"
      }
    },
    {
      "cell_type": "markdown",
      "source": [
        "####141-01 조건문 기본 구조"
      ],
      "metadata": {
        "id": "kE3WHI5GIxy0"
      }
    },
    {
      "cell_type": "code",
      "source": [
        "a = True\n",
        "\n",
        "if a:\n",
        "    print(\"가설은\")\n",
        "    print(\"사실이다\")\n",
        "else:\n",
        "    print(\"가설은\")\n",
        "    print(\"거짓이다\")"
      ],
      "metadata": {
        "colab": {
          "base_uri": "https://localhost:8080/"
        },
        "id": "aFarvhQuI0SR",
        "outputId": "6de33c24-187f-4321-85c5-63171a61b49c"
      },
      "execution_count": null,
      "outputs": [
        {
          "output_type": "stream",
          "name": "stdout",
          "text": [
            "가설은\n",
            "사실이다\n"
          ]
        }
      ]
    },
    {
      "cell_type": "markdown",
      "source": [
        "####141-02 조건문 비교 연산자"
      ],
      "metadata": {
        "id": "ve4pzezBQF09"
      }
    },
    {
      "cell_type": "code",
      "source": [
        "x = 3\n",
        "y = 7\n",
        "\n",
        "if x <= y:\n",
        "    print(\"x가 y보다 작거나 같다\")\n",
        "else:\n",
        "    print(\"x가 y보다 크다\")"
      ],
      "metadata": {
        "colab": {
          "base_uri": "https://localhost:8080/"
        },
        "id": "9zCH5_8ZI0IW",
        "outputId": "dbdc80ff-ef13-4245-ca68-a9175d5dcaad"
      },
      "execution_count": null,
      "outputs": [
        {
          "output_type": "stream",
          "name": "stdout",
          "text": [
            "x가 y보다 작거나 같다\n"
          ]
        }
      ]
    },
    {
      "cell_type": "markdown",
      "source": [
        "####141-03 조건문 and, or, not 연산자"
      ],
      "metadata": {
        "id": "E38BgqKDRlbe"
      }
    },
    {
      "cell_type": "code",
      "source": [
        "x = 3\n",
        "y = 7\n",
        "\n",
        "if x == y or x < y:\n",
        "    print(\"x가 y보다 작거나 같다\")\n",
        "else:\n",
        "    print(\"x가 y보다 크다\")"
      ],
      "metadata": {
        "colab": {
          "base_uri": "https://localhost:8080/"
        },
        "id": "krDItG7gRoi2",
        "outputId": "84ba6e26-fa70-496f-9bed-a8d185a55afd"
      },
      "execution_count": null,
      "outputs": [
        {
          "output_type": "stream",
          "name": "stdout",
          "text": [
            "x가 y보다 작거나 같다\n"
          ]
        }
      ]
    },
    {
      "cell_type": "markdown",
      "source": [
        "####141-04 조건문 in, not in 연산자"
      ],
      "metadata": {
        "id": "er_KgflYSjzf"
      }
    },
    {
      "cell_type": "code",
      "source": [
        "x = 3\n",
        "y = [1, 2, 3, 4, 5]\n",
        "\n",
        "if x in y:\n",
        "    print(\"데이터가 존재한다\")\n",
        "else:\n",
        "    print(\"데이터가 존재하지 않는다\")"
      ],
      "metadata": {
        "colab": {
          "base_uri": "https://localhost:8080/"
        },
        "id": "ggaY0nwXSm4z",
        "outputId": "af6fc5e7-3985-4ba2-94eb-2cfa691ed86e"
      },
      "execution_count": null,
      "outputs": [
        {
          "output_type": "stream",
          "name": "stdout",
          "text": [
            "데이터가 존재한다\n"
          ]
        }
      ]
    },
    {
      "cell_type": "markdown",
      "source": [
        "####141-05 elif 활용한 조건문 기본 구조"
      ],
      "metadata": {
        "id": "Q4t8EyyTUuJT"
      }
    },
    {
      "cell_type": "code",
      "source": [
        "x = 3\n",
        "y = 7\n",
        "\n",
        "if x == y:\n",
        "    print(\"x와 y는 같다\")\n",
        "elif x < y:\n",
        "    print(\"x가 y보다 작다\")\n",
        "else:\n",
        "    print(\"x가 y보다 크다\")"
      ],
      "metadata": {
        "colab": {
          "base_uri": "https://localhost:8080/"
        },
        "id": "ipFBgzfhUxr3",
        "outputId": "43decb57-9a26-414f-d09c-63368c2012cf"
      },
      "execution_count": null,
      "outputs": [
        {
          "output_type": "stream",
          "name": "stdout",
          "text": [
            "x가 y보다 작다\n"
          ]
        }
      ]
    },
    {
      "cell_type": "markdown",
      "source": [
        "###(2) while문"
      ],
      "metadata": {
        "id": "n1IrvdSiFyHj"
      }
    },
    {
      "cell_type": "markdown",
      "source": [
        "####142-01 while문 기본 구조"
      ],
      "metadata": {
        "id": "bGs1XsWcXTYJ"
      }
    },
    {
      "cell_type": "code",
      "source": [
        "a = 0\n",
        "\n",
        "while a < 5:\n",
        "    print(\"a값은 %s 입니다\" % a)\n",
        "    a = a + 1\n",
        "\n",
        "print(\"while문이 종료되었습니다\")"
      ],
      "metadata": {
        "colab": {
          "base_uri": "https://localhost:8080/"
        },
        "id": "ZP5Vj7IwXWQQ",
        "outputId": "3c5bc73d-992b-47f4-9277-7f19c2abc595"
      },
      "execution_count": null,
      "outputs": [
        {
          "output_type": "stream",
          "name": "stdout",
          "text": [
            "a값은 0 입니다\n",
            "a값은 1 입니다\n",
            "a값은 2 입니다\n",
            "a값은 3 입니다\n",
            "a값은 4 입니다\n",
            "while문이 종료되었습니다\n"
          ]
        }
      ]
    },
    {
      "cell_type": "markdown",
      "source": [
        "####142-02 while문 조건 변경"
      ],
      "metadata": {
        "id": "OAccdB4cavqd"
      }
    },
    {
      "cell_type": "code",
      "source": [
        "a = 0\n",
        "b = [\"사과\", \"바나나\", \"토마토\"]\n",
        "\n",
        "while a < len(b):\n",
        "    print(\"바구니에서 %s를 꺼냈습니다\" % b[a])\n",
        "    a = a + 1\n",
        "\n",
        "print(\"바구니에 아무것도 남아있지 않습니다\")"
      ],
      "metadata": {
        "colab": {
          "base_uri": "https://localhost:8080/"
        },
        "id": "bKW4EwT6a1Ku",
        "outputId": "08a4f5e1-142b-4531-e635-7076a4b76377"
      },
      "execution_count": null,
      "outputs": [
        {
          "output_type": "stream",
          "name": "stdout",
          "text": [
            "바구니에서 사과를 꺼냈습니다\n",
            "바구니에서 바나나를 꺼냈습니다\n",
            "바구니에서 토마토를 꺼냈습니다\n",
            "바구니에 아무것도 남아있지 않습니다\n"
          ]
        }
      ]
    },
    {
      "cell_type": "markdown",
      "source": [
        "####142-03 while문 break 활용"
      ],
      "metadata": {
        "id": "MrzXQXyecGqd"
      }
    },
    {
      "cell_type": "code",
      "source": [
        "a = 5\n",
        "\n",
        "while a > 0:\n",
        "    print(\"a값은 %s 입니다\" % a)\n",
        "    a = a - 1\n",
        "\n",
        "    if a == 2:\n",
        "        break\n",
        "\n",
        "print(\"while문이 종료되었습니다\")"
      ],
      "metadata": {
        "colab": {
          "base_uri": "https://localhost:8080/"
        },
        "id": "RAHBbxf4cJbc",
        "outputId": "79d68559-5dd2-40ac-e091-271e47bf4e14"
      },
      "execution_count": null,
      "outputs": [
        {
          "output_type": "stream",
          "name": "stdout",
          "text": [
            "a값은 5 입니다\n",
            "a값은 4 입니다\n",
            "a값은 3 입니다\n",
            "while문이 종료되었습니다\n"
          ]
        }
      ]
    },
    {
      "cell_type": "markdown",
      "source": [
        "####142-04 while문 continue 활용"
      ],
      "metadata": {
        "id": "AU1JRXGMPU9s"
      }
    },
    {
      "cell_type": "code",
      "source": [
        "a = 0\n",
        "\n",
        "while a < 10:\n",
        "    a = a + 1\n",
        "    if a % 2 == 0:\n",
        "        continue\n",
        "    print(a)"
      ],
      "metadata": {
        "colab": {
          "base_uri": "https://localhost:8080/"
        },
        "id": "cIFlkGjWPZd_",
        "outputId": "5e6a64b0-893c-4582-de3c-67876ed78b3f"
      },
      "execution_count": null,
      "outputs": [
        {
          "output_type": "stream",
          "name": "stdout",
          "text": [
            "1\n",
            "3\n",
            "5\n",
            "7\n",
            "9\n"
          ]
        }
      ]
    },
    {
      "cell_type": "markdown",
      "source": [
        "###(3) for문"
      ],
      "metadata": {
        "id": "Nztj2-RjF0vU"
      }
    },
    {
      "cell_type": "markdown",
      "source": [
        "####143-01 for문 기본 구조"
      ],
      "metadata": {
        "id": "8Ul0JTtufY7a"
      }
    },
    {
      "cell_type": "code",
      "source": [
        "a = [\"사과\", \"바나나\", \"토마토\"]\n",
        "\n",
        "for i in a:\n",
        "    print(i)"
      ],
      "metadata": {
        "colab": {
          "base_uri": "https://localhost:8080/"
        },
        "id": "WGzGVMN_fbWJ",
        "outputId": "e58b7a9d-4af3-4fe6-9c3a-47b744ad0a42"
      },
      "execution_count": null,
      "outputs": [
        {
          "output_type": "stream",
          "name": "stdout",
          "text": [
            "사과\n",
            "바나나\n",
            "토마토\n"
          ]
        }
      ]
    },
    {
      "cell_type": "markdown",
      "source": [
        "####143-02 for문과 if문 활용"
      ],
      "metadata": {
        "id": "-uWhF0hjgx-g"
      }
    },
    {
      "cell_type": "code",
      "source": [
        "a = [90, 25, 67, 45, 80]\n",
        "b = sum(a) / len(a)\n",
        "\n",
        "for i in a:\n",
        "    if i > b:\n",
        "        print(\"%d 는(은) 평균보다 크다\" % i)\n",
        "    else:\n",
        "        print(\"%d 는(은) 평균보다 작거나 같다\" % i)"
      ],
      "metadata": {
        "colab": {
          "base_uri": "https://localhost:8080/"
        },
        "id": "f9yM79Ryf0_b",
        "outputId": "887b4273-c173-4ecd-ad35-f5b4cde9504e"
      },
      "execution_count": null,
      "outputs": [
        {
          "output_type": "stream",
          "name": "stdout",
          "text": [
            "90 는(은) 평균보다 크다\n",
            "25 는(은) 평균보다 작거나 같다\n",
            "67 는(은) 평균보다 크다\n",
            "45 는(은) 평균보다 작거나 같다\n",
            "80 는(은) 평균보다 크다\n"
          ]
        }
      ]
    },
    {
      "cell_type": "markdown",
      "source": [
        "####143-03 for문과 range문 활용"
      ],
      "metadata": {
        "id": "se0ATYC4jvUX"
      }
    },
    {
      "cell_type": "code",
      "source": [
        "for i in range(2, 10):\n",
        "    for j in range(1, 10):\n",
        "        print(i * j, end = ' ')\n",
        "    print(' ')"
      ],
      "metadata": {
        "colab": {
          "base_uri": "https://localhost:8080/"
        },
        "id": "qIAsb1EbhF5k",
        "outputId": "3b34339d-9c89-44d1-856e-f7ec516f0eb1"
      },
      "execution_count": null,
      "outputs": [
        {
          "output_type": "stream",
          "name": "stdout",
          "text": [
            "2 4 6 8 10 12 14 16 18  \n",
            "3 6 9 12 15 18 21 24 27  \n",
            "4 8 12 16 20 24 28 32 36  \n",
            "5 10 15 20 25 30 35 40 45  \n",
            "6 12 18 24 30 36 42 48 54  \n",
            "7 14 21 28 35 42 49 56 63  \n",
            "8 16 24 32 40 48 56 64 72  \n",
            "9 18 27 36 45 54 63 72 81  \n"
          ]
        }
      ]
    },
    {
      "cell_type": "markdown",
      "source": [
        "#### 143-04 for문과 리스트 요소 삽입"
      ],
      "metadata": {
        "id": "yLP27PoIQ9o1"
      }
    },
    {
      "cell_type": "code",
      "source": [
        "a = [1, 2, 3, 4]\n",
        "result = []\n",
        "\n",
        "for i in a:\n",
        "    result.insert(0, i * 10)\n",
        "\n",
        "print(result)"
      ],
      "metadata": {
        "colab": {
          "base_uri": "https://localhost:8080/"
        },
        "id": "v9nNk-I9kMtD",
        "outputId": "42b6065b-6380-4862-c19c-0cb8ba322cd5"
      },
      "execution_count": null,
      "outputs": [
        {
          "output_type": "stream",
          "name": "stdout",
          "text": [
            "[40, 30, 20, 10]\n"
          ]
        }
      ]
    },
    {
      "cell_type": "markdown",
      "source": [
        "##5. 파이썬 함수"
      ],
      "metadata": {
        "id": "FHVTDtYySEOC"
      }
    },
    {
      "cell_type": "markdown",
      "source": [
        "###(1) def문"
      ],
      "metadata": {
        "id": "od1sPrCnWcQB"
      }
    },
    {
      "cell_type": "markdown",
      "source": [
        "####151-01 def문 기본 구조"
      ],
      "metadata": {
        "id": "dI_ell5CUG3s"
      }
    },
    {
      "cell_type": "code",
      "source": [
        "def add(a, b):\n",
        "  return a + b\n",
        "\n",
        "a = 3\n",
        "b = 7\n",
        "c = add(a, b)\n",
        "\n",
        "print(c)"
      ],
      "metadata": {
        "colab": {
          "base_uri": "https://localhost:8080/"
        },
        "id": "ylnrUYnCSGZj",
        "outputId": "6c3270d0-9b71-4ace-ebb0-31a90aa9e3b3"
      },
      "execution_count": null,
      "outputs": [
        {
          "output_type": "stream",
          "name": "stdout",
          "text": [
            "10\n"
          ]
        }
      ]
    }
  ]
}