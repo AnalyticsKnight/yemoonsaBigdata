{
  "nbformat": 4,
  "nbformat_minor": 0,
  "metadata": {
    "colab": {
      "name": "P2_C1_PythonBasic.ipynb",
      "provenance": [],
      "collapsed_sections": [],
      "toc_visible": true
    },
    "kernelspec": {
      "name": "python3",
      "display_name": "Python 3"
    },
    "language_info": {
      "name": "python"
    }
  },
  "cells": [
    {
      "cell_type": "markdown",
      "source": [
        "# **Chapter 1. 파이썬 기본 문법**"
      ],
      "metadata": {
        "id": "nHcOnSJfzaMx"
      }
    },
    {
      "cell_type": "markdown",
      "source": [
        "## 1. 파이썬이란?"
      ],
      "metadata": {
        "id": "VlxAG5wKzrSm"
      }
    },
    {
      "cell_type": "markdown",
      "source": [
        "### (1) 파이썬 개요"
      ],
      "metadata": {
        "id": "Z64yqSjk2BAc"
      }
    },
    {
      "cell_type": "markdown",
      "source": [
        "### (2) 파이썬 특징"
      ],
      "metadata": {
        "id": "BHad9D3_2C7D"
      }
    },
    {
      "cell_type": "markdown",
      "source": [
        "## 2. 파이썬 실습 준비하기"
      ],
      "metadata": {
        "id": "bvJK0Lnazt_P"
      }
    },
    {
      "cell_type": "markdown",
      "source": [
        "### (1) 실습 환경 구성"
      ],
      "metadata": {
        "id": "-Qp2pf9O2F4d"
      }
    },
    {
      "cell_type": "markdown",
      "source": [
        "### (2) Google Colab 둘러보기"
      ],
      "metadata": {
        "id": "Qh5H9pTt2HeS"
      }
    },
    {
      "cell_type": "markdown",
      "source": [
        "### (3) Github & Colab 환경 구성"
      ],
      "metadata": {
        "id": "pBoei4GMYPSz"
      }
    },
    {
      "cell_type": "markdown",
      "source": [
        "#### 123-01 소스 및 데이터 동기화"
      ],
      "metadata": {
        "id": "vsoHppZWUSQS"
      }
    },
    {
      "cell_type": "code",
      "source": [
        "!git clone https://github.com/AnalyticsKnight/yemoonsaBigdata/"
      ],
      "metadata": {
        "colab": {
          "base_uri": "https://localhost:8080/"
        },
        "id": "IlN-naU0UaAD",
        "outputId": "9cef23c7-97bf-47ee-a500-9e05b99c1ed4"
      },
      "execution_count": 1,
      "outputs": [
        {
          "output_type": "stream",
          "name": "stdout",
          "text": [
            "Cloning into 'yemoonsaBigdata'...\n",
            "remote: Enumerating objects: 226, done.\u001b[K\n",
            "remote: Counting objects: 100% (226/226), done.\u001b[K\n",
            "remote: Compressing objects: 100% (211/211), done.\u001b[K\n",
            "remote: Total 226 (delta 115), reused 24 (delta 9), pack-reused 0\u001b[K\n",
            "Receiving objects: 100% (226/226), 3.45 MiB | 5.06 MiB/s, done.\n",
            "Resolving deltas: 100% (115/115), done.\n"
          ]
        }
      ]
    },
    {
      "cell_type": "markdown",
      "source": [
        "## 3. 파이썬 자료형"
      ],
      "metadata": {
        "id": "oHRETlrfz0BT"
      }
    },
    {
      "cell_type": "markdown",
      "source": [
        "### (1) 숫자형 "
      ],
      "metadata": {
        "id": "tRHEdKUIz7OR"
      }
    },
    {
      "cell_type": "markdown",
      "source": [
        "#### 131-01 정수형 + 실수형 "
      ],
      "metadata": {
        "id": "v-jUHt_7uBWn"
      }
    },
    {
      "cell_type": "code",
      "execution_count": 2,
      "metadata": {
        "colab": {
          "base_uri": "https://localhost:8080/"
        },
        "id": "iH_9vsFrzZZL",
        "outputId": "830fe78a-8e09-4f8f-c4fb-9c92c98c9ba1"
      },
      "outputs": [
        {
          "output_type": "stream",
          "name": "stdout",
          "text": [
            "1234 -12.34\n",
            "<class 'int'> <class 'float'>\n",
            "1221.66\n",
            "<class 'float'>\n"
          ]
        }
      ],
      "source": [
        "a = 1234\n",
        "b = -12.34\n",
        "c = a + b\n",
        "\n",
        "print(a, b)\n",
        "print(type(a), type(b))\n",
        "print(c)\n",
        "print(type(c))"
      ]
    },
    {
      "cell_type": "markdown",
      "source": [
        "#### 131-02 사칙연산 기능"
      ],
      "metadata": {
        "id": "sWMXEayDuc52"
      }
    },
    {
      "cell_type": "code",
      "source": [
        "a = 3\n",
        "b = 7\n",
        "\n",
        "print(a + b)\n",
        "print(a - b)\n",
        "print(a * b)\n",
        "print(a / b)\n",
        "print(a ** b)\n",
        "print(a % b)\n",
        "print(a // b)"
      ],
      "metadata": {
        "colab": {
          "base_uri": "https://localhost:8080/"
        },
        "id": "DDAqTH7p0DQg",
        "outputId": "90c2fc45-b092-4f39-d397-7ecb5528becd"
      },
      "execution_count": 3,
      "outputs": [
        {
          "output_type": "stream",
          "name": "stdout",
          "text": [
            "10\n",
            "-4\n",
            "21\n",
            "0.42857142857142855\n",
            "2187\n",
            "3\n",
            "0\n"
          ]
        }
      ]
    },
    {
      "cell_type": "markdown",
      "source": [
        "### (2) 문자열 자료형"
      ],
      "metadata": {
        "id": "aRLGCbPM12NZ"
      }
    },
    {
      "cell_type": "markdown",
      "source": [
        "#### 132-01 문자열 자료형"
      ],
      "metadata": {
        "id": "Lpq9c_6bz5vA"
      }
    },
    {
      "cell_type": "code",
      "source": [
        "a = \"Hello World\"\n",
        "b = \"Hello Python's World\"\n",
        "c = '\"Hello World.\" he says.'\n",
        "d = \"Hello World\\nLife is good\"\n",
        "\n",
        "print(a)\n",
        "print(b)\n",
        "print(c)\n",
        "print(d)"
      ],
      "metadata": {
        "id": "Hlxq_ngH1MHm",
        "colab": {
          "base_uri": "https://localhost:8080/"
        },
        "outputId": "5b779ee2-b52a-42d9-93a4-fb7ed81d85c5"
      },
      "execution_count": null,
      "outputs": [
        {
          "output_type": "stream",
          "name": "stdout",
          "text": [
            "Hello World\n",
            "Hello Python's World\n",
            "\"Hello World.\" he says.\n",
            "Hello World\n",
            "Life is good\n"
          ]
        }
      ]
    },
    {
      "cell_type": "markdown",
      "source": [
        "####132-02 문자열 더하기"
      ],
      "metadata": {
        "id": "g1fwGH-D2mSX"
      }
    },
    {
      "cell_type": "code",
      "source": [
        "a = \"Python\"\n",
        "b = \" \"\n",
        "c = \"is good.\"\n",
        "\n",
        "print(a + b + c)"
      ],
      "metadata": {
        "colab": {
          "base_uri": "https://localhost:8080/"
        },
        "id": "Xd_GaCmo1NuG",
        "outputId": "085a22bf-ef37-4b77-f500-a3838005728c"
      },
      "execution_count": null,
      "outputs": [
        {
          "output_type": "stream",
          "name": "stdout",
          "text": [
            "Python is good.\n"
          ]
        }
      ]
    },
    {
      "cell_type": "markdown",
      "source": [
        "####132-03 문자열 곱하기"
      ],
      "metadata": {
        "id": "XA--zT-r3dSM"
      }
    },
    {
      "cell_type": "code",
      "source": [
        "a = \"Python\"\n",
        "\n",
        "print(a*3)"
      ],
      "metadata": {
        "colab": {
          "base_uri": "https://localhost:8080/"
        },
        "id": "5-iEfrDv20a2",
        "outputId": "0de132ef-2b7a-4584-83b0-d1e8f2c0a208"
      },
      "execution_count": null,
      "outputs": [
        {
          "output_type": "stream",
          "name": "stdout",
          "text": [
            "PythonPythonPython\n"
          ]
        }
      ]
    },
    {
      "cell_type": "markdown",
      "source": [
        "####132-04 문자열 길이 구하기"
      ],
      "metadata": {
        "id": "LrXLn1Qj3ya8"
      }
    },
    {
      "cell_type": "code",
      "source": [
        "a = \"Life is short, Python is valuable\"\n",
        "b = len(a)\n",
        "\n",
        "print(b)"
      ],
      "metadata": {
        "colab": {
          "base_uri": "https://localhost:8080/"
        },
        "id": "zLo0ShGY3ixO",
        "outputId": "e6a52685-2a72-4f85-a891-9955fcb2d3c1"
      },
      "execution_count": 4,
      "outputs": [
        {
          "output_type": "stream",
          "name": "stdout",
          "text": [
            "33\n"
          ]
        }
      ]
    },
    {
      "cell_type": "markdown",
      "source": [
        "####132-05 문자열 인덱싱"
      ],
      "metadata": {
        "id": "tvdIs2c64xCq"
      }
    },
    {
      "cell_type": "code",
      "source": [
        "a = \"Life is short, Python is valuable\"\n",
        "b = a[0]\n",
        "c = a[10]\n",
        "d = a[-8]\n",
        "e = a[-1]\n",
        "\n",
        "print(b + c + d + e)"
      ],
      "metadata": {
        "colab": {
          "base_uri": "https://localhost:8080/"
        },
        "id": "E0PJisWz4jVb",
        "outputId": "79784ae8-c052-4e39-eb61-fb716c98e5d6"
      },
      "execution_count": 5,
      "outputs": [
        {
          "output_type": "stream",
          "name": "stdout",
          "text": [
            "Love\n"
          ]
        }
      ]
    },
    {
      "cell_type": "markdown",
      "source": [
        "####132-06 문자열 슬라이싱"
      ],
      "metadata": {
        "id": "03qpb4u77tWF"
      }
    },
    {
      "cell_type": "code",
      "source": [
        "a = \"Life is short, Python is valuable\"\n",
        "b = a[:4]\n",
        "c = a[4:8]\n",
        "d = a[25:]\n",
        "\n",
        "print(b + c + d)"
      ],
      "metadata": {
        "colab": {
          "base_uri": "https://localhost:8080/"
        },
        "id": "cfjP4vCE6Gi1",
        "outputId": "9e7855a4-9120-4ddf-eac7-e4377097efa5"
      },
      "execution_count": 6,
      "outputs": [
        {
          "output_type": "stream",
          "name": "stdout",
          "text": [
            "Life is valuable\n"
          ]
        }
      ]
    },
    {
      "cell_type": "markdown",
      "source": [
        "####132-07 문자 개수 세기"
      ],
      "metadata": {
        "id": "bn_KlTjE-LHA"
      }
    },
    {
      "cell_type": "code",
      "source": [
        "a = \"apple\"\n",
        "b = a.count('p')\n",
        "\n",
        "print(b)"
      ],
      "metadata": {
        "colab": {
          "base_uri": "https://localhost:8080/"
        },
        "id": "wt0fMJy18gWO",
        "outputId": "8e533424-0cb0-4ba9-8b53-f44d87db8e05"
      },
      "execution_count": null,
      "outputs": [
        {
          "output_type": "stream",
          "name": "stdout",
          "text": [
            "2\n"
          ]
        }
      ]
    },
    {
      "cell_type": "markdown",
      "source": [
        "####132-08 문자 위치 찾기"
      ],
      "metadata": {
        "id": "wZmrnyk9_czI"
      }
    },
    {
      "cell_type": "code",
      "source": [
        "a = \"apple\"\n",
        "b = a.find('p')\n",
        "\n",
        "print(b)"
      ],
      "metadata": {
        "colab": {
          "base_uri": "https://localhost:8080/"
        },
        "id": "2x16bCiL9kFB",
        "outputId": "0942b074-2d58-4e2a-acd7-2fa5fea2a3b4"
      },
      "execution_count": null,
      "outputs": [
        {
          "output_type": "stream",
          "name": "stdout",
          "text": [
            "1\n"
          ]
        }
      ]
    },
    {
      "cell_type": "markdown",
      "source": [
        "####132-09 문자열 삽입"
      ],
      "metadata": {
        "id": "-vc_XIoP_rp-"
      }
    },
    {
      "cell_type": "code",
      "source": [
        "a = \"apple\"\n",
        "b = ','.join(a)\n",
        "\n",
        "print(b)"
      ],
      "metadata": {
        "colab": {
          "base_uri": "https://localhost:8080/"
        },
        "id": "k9Cj5lLl_jIA",
        "outputId": "fe88c3cb-a475-4b69-885d-31031ab45558"
      },
      "execution_count": 1,
      "outputs": [
        {
          "output_type": "stream",
          "name": "stdout",
          "text": [
            "a,p,p,l,e\n"
          ]
        }
      ]
    },
    {
      "cell_type": "markdown",
      "source": [
        "####132-10 소문자와 대문자 바꾸기"
      ],
      "metadata": {
        "id": "tu0YI6NLAKGI"
      }
    },
    {
      "cell_type": "code",
      "source": [
        "a = \"apple\"\n",
        "b = a.upper()\n",
        "c = b.lower()\n",
        "\n",
        "print(b)\n",
        "print(c)"
      ],
      "metadata": {
        "colab": {
          "base_uri": "https://localhost:8080/"
        },
        "id": "dACsB34tANEW",
        "outputId": "b434e688-841d-422b-eb47-35d69d8d79ec"
      },
      "execution_count": null,
      "outputs": [
        {
          "output_type": "stream",
          "name": "stdout",
          "text": [
            "APPLE\n",
            "apple\n"
          ]
        }
      ]
    },
    {
      "cell_type": "markdown",
      "source": [
        "####132-11 공백 지우기"
      ],
      "metadata": {
        "id": "OJY1AA-HArb1"
      }
    },
    {
      "cell_type": "code",
      "source": [
        "a = \" apple \"\n",
        "b = a.lstrip()\n",
        "c = a.rstrip()\n",
        "d = a.strip()\n",
        "\n",
        "print(b)\n",
        "print(c)\n",
        "print(d)"
      ],
      "metadata": {
        "colab": {
          "base_uri": "https://localhost:8080/"
        },
        "id": "UpOFQSeDASJp",
        "outputId": "a2d9e717-5b91-4862-d1ed-d99dabbc01de"
      },
      "execution_count": 2,
      "outputs": [
        {
          "output_type": "stream",
          "name": "stdout",
          "text": [
            "I like an apple \n",
            " I like an apple\n",
            "I like an apple\n"
          ]
        }
      ]
    },
    {
      "cell_type": "markdown",
      "source": [
        "####132-12 문자열 바꾸기"
      ],
      "metadata": {
        "id": "Tvxk4GQrBLX9"
      }
    },
    {
      "cell_type": "code",
      "source": [
        "a = \"Life is good\"\n",
        "b = a.replace(\"Life\", \"Python\")\n",
        "\n",
        "print(b)"
      ],
      "metadata": {
        "colab": {
          "base_uri": "https://localhost:8080/"
        },
        "id": "ypB_gl81A3cA",
        "outputId": "418bf645-f50a-4bb6-afbc-84e25882c56a"
      },
      "execution_count": 3,
      "outputs": [
        {
          "output_type": "stream",
          "name": "stdout",
          "text": [
            "Python is good\n"
          ]
        }
      ]
    },
    {
      "cell_type": "markdown",
      "source": [
        "####132-13 문자열 나누기"
      ],
      "metadata": {
        "id": "QZj8uMdsBh07"
      }
    },
    {
      "cell_type": "code",
      "source": [
        "a = \"Life is short, Python is valuable\"\n",
        "b = a.split()\n",
        "c = a.split(',')\n",
        "\n",
        "print(b)\n",
        "print(c)"
      ],
      "metadata": {
        "colab": {
          "base_uri": "https://localhost:8080/"
        },
        "id": "q0E-3QGxBXKI",
        "outputId": "1b785cef-31b2-4db3-8828-b54848d3321e"
      },
      "execution_count": null,
      "outputs": [
        {
          "output_type": "stream",
          "name": "stdout",
          "text": [
            "['Life', 'is', 'short,', 'Python', 'is', 'valuable']\n",
            "['Life is short', ' Python is valuable']\n"
          ]
        }
      ]
    },
    {
      "cell_type": "markdown",
      "source": [
        "###(3) 리스트 자료형"
      ],
      "metadata": {
        "id": "N7lU0zhLFHI5"
      }
    },
    {
      "cell_type": "markdown",
      "source": [
        "####133-01 리스트 기본 연산"
      ],
      "metadata": {
        "id": "GTs0DA8NI-iI"
      }
    },
    {
      "cell_type": "code",
      "source": [
        "a = [1, 2, 3, 4, 5]\n",
        "b = ['a', 'b', 'c']\n",
        "c = a * 2 + b\n",
        "d = len(c)\n",
        "\n",
        "print (c)\n",
        "print(d)"
      ],
      "metadata": {
        "colab": {
          "base_uri": "https://localhost:8080/"
        },
        "id": "dTRCqgrmJMrc",
        "outputId": "fab85d45-0d13-4cf4-f68a-f7cb88a7b293"
      },
      "execution_count": null,
      "outputs": [
        {
          "output_type": "stream",
          "name": "stdout",
          "text": [
            "[1, 2, 3, 4, 5, 1, 2, 3, 4, 5, 'a', 'b', 'c']\n",
            "13\n"
          ]
        }
      ]
    },
    {
      "cell_type": "markdown",
      "source": [
        "####133-02 리스트 인덱싱과 슬라이싱"
      ],
      "metadata": {
        "id": "ihHY0gwSGDHE"
      }
    },
    {
      "cell_type": "code",
      "source": [
        "a = [1, 2, 3, 4, 5]\n",
        "\n",
        "print(a)\n",
        "print(a[0])\n",
        "print(a[1:4])\n",
        "print(a[-1])\n",
        "print(a[4])\n",
        "print(a[2:])\n",
        "print(a[2:5])\n",
        "print(a[:3])\n",
        "print(a[0:3])"
      ],
      "metadata": {
        "colab": {
          "base_uri": "https://localhost:8080/"
        },
        "id": "Togi0VbwGI20",
        "outputId": "214e124a-e629-4144-887f-b507753bd2e1"
      },
      "execution_count": null,
      "outputs": [
        {
          "output_type": "stream",
          "name": "stdout",
          "text": [
            "[1, 2, 3, 4, 5]\n",
            "1\n",
            "[2, 3, 4]\n",
            "5\n",
            "5\n",
            "[3, 4, 5]\n",
            "[3, 4, 5]\n",
            "[1, 2, 3]\n",
            "[1, 2, 3]\n"
          ]
        }
      ]
    },
    {
      "cell_type": "markdown",
      "source": [
        "####133-03 중첩된 리스트 인덱싱과 슬라이싱"
      ],
      "metadata": {
        "id": "mSZRjP0YHrle"
      }
    },
    {
      "cell_type": "code",
      "source": [
        "a = [1, 2, 3, ['a', 'b', 'c']]\n",
        "\n",
        "print(a)\n",
        "print(a[3])\n",
        "print(a[3][0])\n",
        "print(a[3][1:])\n",
        "print(a[3][:1])"
      ],
      "metadata": {
        "colab": {
          "base_uri": "https://localhost:8080/"
        },
        "id": "GkU4agCnHpp4",
        "outputId": "b32b40f2-e5d2-4c43-b2ef-a5961834b28d"
      },
      "execution_count": null,
      "outputs": [
        {
          "output_type": "stream",
          "name": "stdout",
          "text": [
            "[1, 2, 3, ['a', 'b', 'c']]\n",
            "['a', 'b', 'c']\n",
            "a\n",
            "['b', 'c']\n",
            "['a']\n"
          ]
        }
      ]
    },
    {
      "cell_type": "markdown",
      "source": [
        "####133-04 리스트 요소의 수정과 삭제"
      ],
      "metadata": {
        "id": "Aqz8IwLcJ1VD"
      }
    },
    {
      "cell_type": "code",
      "source": [
        "a = [1, 2, 3, 4, 5]\n",
        "a[2] = 10\n",
        "del a[4]\n",
        "\n",
        "print(a)"
      ],
      "metadata": {
        "colab": {
          "base_uri": "https://localhost:8080/"
        },
        "id": "gA8yCc8bK_S0",
        "outputId": "5cf3c5ce-37f0-435a-b1e6-c00c9e6233de"
      },
      "execution_count": null,
      "outputs": [
        {
          "output_type": "stream",
          "name": "stdout",
          "text": [
            "[1, 2, 10, 4]\n"
          ]
        }
      ]
    },
    {
      "cell_type": "markdown",
      "source": [
        "####133-05 리스트 요소 추가"
      ],
      "metadata": {
        "id": "Y3PpNEDhLWxX"
      }
    },
    {
      "cell_type": "code",
      "source": [
        "a = [1, 2, 3]\n",
        "a.append(10)\n",
        "\n",
        "print(a)"
      ],
      "metadata": {
        "colab": {
          "base_uri": "https://localhost:8080/"
        },
        "id": "TIJu0EcmLWaB",
        "outputId": "1ab02349-11a8-410b-d199-45bb7ecf5bcd"
      },
      "execution_count": null,
      "outputs": [
        {
          "output_type": "stream",
          "name": "stdout",
          "text": [
            "[1, 2, 3, 10]\n"
          ]
        }
      ]
    },
    {
      "cell_type": "markdown",
      "source": [
        "####133-06 리스트 정렬"
      ],
      "metadata": {
        "id": "zKZBUBPGLsE6"
      }
    },
    {
      "cell_type": "code",
      "source": [
        "a = [1, 5, 2, 4, 3]\n",
        "a.sort()\n",
        "\n",
        "print(a)"
      ],
      "metadata": {
        "colab": {
          "base_uri": "https://localhost:8080/"
        },
        "id": "T3ivn9WTLvm6",
        "outputId": "f55f91b6-9270-4b48-bf90-fb43830bd33e"
      },
      "execution_count": 10,
      "outputs": [
        {
          "output_type": "stream",
          "name": "stdout",
          "text": [
            "[1, 2, 3, 4, 5]\n"
          ]
        }
      ]
    },
    {
      "cell_type": "markdown",
      "source": [
        "####133-07 리스트 요소의 위치 반환"
      ],
      "metadata": {
        "id": "NQuc3bpMMReo"
      }
    },
    {
      "cell_type": "code",
      "source": [
        "a = [5, 4, 3, 2, 1]\n",
        "b = a.index(3)\n",
        "c = a.index(5)\n",
        "\n",
        "print(b)\n",
        "print(c)"
      ],
      "metadata": {
        "colab": {
          "base_uri": "https://localhost:8080/"
        },
        "id": "46yHorVCM1-H",
        "outputId": "28719414-a9d8-458a-9bea-eb5a796c10f8"
      },
      "execution_count": null,
      "outputs": [
        {
          "output_type": "stream",
          "name": "stdout",
          "text": [
            "2\n",
            "0\n"
          ]
        }
      ]
    },
    {
      "cell_type": "markdown",
      "source": [
        "####133-08 리스트 요소 삽입"
      ],
      "metadata": {
        "id": "zrzdKyBmNuyX"
      }
    },
    {
      "cell_type": "code",
      "source": [
        "a = [1, 2, 3]\n",
        "a.insert(0, 10)\n",
        "\n",
        "print(a)"
      ],
      "metadata": {
        "colab": {
          "base_uri": "https://localhost:8080/"
        },
        "id": "0dKWynEPOIVw",
        "outputId": "d245deba-85f2-4ddd-a622-8c483bcccc3c"
      },
      "execution_count": null,
      "outputs": [
        {
          "output_type": "stream",
          "name": "stdout",
          "text": [
            "[10, 1, 2, 3]\n"
          ]
        }
      ]
    },
    {
      "cell_type": "markdown",
      "source": [
        "####133-09 리스트 요소 제거"
      ],
      "metadata": {
        "id": "DCPQ5rlfNxUD"
      }
    },
    {
      "cell_type": "code",
      "source": [
        "a = [5, 4, 3, 2, 1, 5, 4, 3, 2, 1]\n",
        "a.remove(4)\n",
        "\n",
        "print(a)"
      ],
      "metadata": {
        "colab": {
          "base_uri": "https://localhost:8080/"
        },
        "id": "atxVTDlxOcXZ",
        "outputId": "0867f6fd-5b9d-4788-df64-ce221e804d6e"
      },
      "execution_count": null,
      "outputs": [
        {
          "output_type": "stream",
          "name": "stdout",
          "text": [
            "[5, 3, 2, 1, 5, 4, 3, 2, 1]\n"
          ]
        }
      ]
    },
    {
      "cell_type": "markdown",
      "source": [
        "####133-10 리스트 요소 뽑기"
      ],
      "metadata": {
        "id": "d429PWgyNzIr"
      }
    },
    {
      "cell_type": "code",
      "source": [
        "a = [5, 4, 3, 2, 1, 5, 4, 3, 2, 1]\n",
        "b = a.pop(1)\n",
        "\n",
        "print(a)\n",
        "print(b)"
      ],
      "metadata": {
        "colab": {
          "base_uri": "https://localhost:8080/"
        },
        "id": "yhZAwZzVO2ns",
        "outputId": "806613c5-1b78-459c-a531-827319f1df61"
      },
      "execution_count": 11,
      "outputs": [
        {
          "output_type": "stream",
          "name": "stdout",
          "text": [
            "[5, 3, 2, 1, 5, 4, 3, 2, 1]\n",
            "4\n"
          ]
        }
      ]
    },
    {
      "cell_type": "markdown",
      "source": [
        "####133-11 리스트 요소 개수 세기"
      ],
      "metadata": {
        "id": "YNYziNIvOGnF"
      }
    },
    {
      "cell_type": "code",
      "source": [
        "a = [5, 4, 3, 2, 1, 5, 4, 3, 2, 1]\n",
        "b = a.count(1)\n",
        "\n",
        "print(b)"
      ],
      "metadata": {
        "colab": {
          "base_uri": "https://localhost:8080/"
        },
        "id": "6KYg8n1fPPWx",
        "outputId": "4c3f732e-2b2c-4649-ff47-bd4ddb7aba6f"
      },
      "execution_count": null,
      "outputs": [
        {
          "output_type": "stream",
          "name": "stdout",
          "text": [
            "2\n"
          ]
        }
      ]
    },
    {
      "cell_type": "markdown",
      "source": [
        "###(4) 튜플 자료형"
      ],
      "metadata": {
        "id": "uMSVZ9VYFNje"
      }
    },
    {
      "cell_type": "markdown",
      "source": [
        "####134-01 튜플 기본 연산"
      ],
      "metadata": {
        "id": "YP0DJQY9SYg4"
      }
    },
    {
      "cell_type": "code",
      "source": [
        "a = (1, 2, 3, 4, 5)\n",
        "b = ('a', 'b', 'c')\n",
        "c = a * 2 + b\n",
        "d = len(c)\n",
        "\n",
        "print (c)\n",
        "print(d)"
      ],
      "metadata": {
        "colab": {
          "base_uri": "https://localhost:8080/"
        },
        "id": "7nNmynhUSbYI",
        "outputId": "68e51e99-09b0-4727-e1f7-fc76b93a22ec"
      },
      "execution_count": null,
      "outputs": [
        {
          "output_type": "stream",
          "name": "stdout",
          "text": [
            "(1, 2, 3, 4, 5, 1, 2, 3, 4, 5, 'a', 'b', 'c')\n",
            "13\n"
          ]
        }
      ]
    },
    {
      "cell_type": "markdown",
      "source": [
        "####134-02 튜플 인덱싱과 슬라이싱"
      ],
      "metadata": {
        "id": "vhCiKw4iRze_"
      }
    },
    {
      "cell_type": "code",
      "source": [
        "a = (1, 2, 3, 'a', 'b', 'c')\n",
        "\n",
        "print(a[0])\n",
        "print(a[3:])"
      ],
      "metadata": {
        "colab": {
          "base_uri": "https://localhost:8080/"
        },
        "id": "i046H_N7R6t4",
        "outputId": "2f210075-8feb-4bca-c198-706d97f760c1"
      },
      "execution_count": null,
      "outputs": [
        {
          "output_type": "stream",
          "name": "stdout",
          "text": [
            "1\n",
            "('a', 'b', 'c')\n"
          ]
        }
      ]
    },
    {
      "cell_type": "markdown",
      "source": [
        "###(5) 딕셔너리 자료형"
      ],
      "metadata": {
        "id": "yWx7FN5dFYw7"
      }
    },
    {
      "cell_type": "markdown",
      "source": [
        "#### 135-01 딕셔너리 자료 구조"
      ],
      "metadata": {
        "id": "GKxvTgRjXucQ"
      }
    },
    {
      "cell_type": "code",
      "source": [
        "a = {'name':'John', 'age':30, 'birth':[11, 8]}\n",
        "\n",
        "print(a)\n",
        "print(a['name'])\n",
        "print(a['birth'])"
      ],
      "metadata": {
        "colab": {
          "base_uri": "https://localhost:8080/"
        },
        "id": "gVMLICCIXt1P",
        "outputId": "b7592256-e383-430f-c1d7-35badf364b4d"
      },
      "execution_count": null,
      "outputs": [
        {
          "output_type": "stream",
          "name": "stdout",
          "text": [
            "{'name': 'John', 'age': 30, 'birth': [11, 8]}\n",
            "John\n",
            "[11, 8]\n"
          ]
        }
      ]
    },
    {
      "cell_type": "markdown",
      "source": [
        "####135-02 딕셔너리 키-값 추가와 삭제"
      ],
      "metadata": {
        "id": "_oZqZZhkaqnT"
      }
    },
    {
      "cell_type": "code",
      "source": [
        "a = {'name':'John'}\n",
        "a['age'] = 30\n",
        "a['house'] = 'apartment'\n",
        "a['birth'] = [11, 8]\n",
        "del a['house']\n",
        "\n",
        "print(a)"
      ],
      "metadata": {
        "colab": {
          "base_uri": "https://localhost:8080/"
        },
        "id": "-KtX0t4XYwdp",
        "outputId": "97088e6b-f643-4014-c606-94b9f3435b89"
      },
      "execution_count": null,
      "outputs": [
        {
          "output_type": "stream",
          "name": "stdout",
          "text": [
            "{'name': 'John', 'age': 30, 'birth': [11, 8]}\n"
          ]
        }
      ]
    },
    {
      "cell_type": "markdown",
      "source": [
        "####135-03 딕셔너리 키 중복"
      ],
      "metadata": {
        "id": "ZWfbnuQ8awEK"
      }
    },
    {
      "cell_type": "code",
      "source": [
        "a = {'name':'John', 'name':'Park'}\n",
        "\n",
        "print(a)"
      ],
      "metadata": {
        "colab": {
          "base_uri": "https://localhost:8080/"
        },
        "id": "qht6D5eMayoB",
        "outputId": "27aea46d-970b-44d9-d9a7-167220741ab5"
      },
      "execution_count": null,
      "outputs": [
        {
          "output_type": "stream",
          "name": "stdout",
          "text": [
            "{'name': 'Park'}\n"
          ]
        }
      ]
    },
    {
      "cell_type": "markdown",
      "source": [
        "####135-04 딕셔너리 키 리스트 만들기"
      ],
      "metadata": {
        "id": "C_APq-WJdyJ1"
      }
    },
    {
      "cell_type": "code",
      "source": [
        "a = {'name':'John', 'age':30, 'birth':[11, 8]}\n",
        "b = a.keys()\n",
        "c = list(a.keys())\n",
        "\n",
        "print(b)\n",
        "print(c)"
      ],
      "metadata": {
        "colab": {
          "base_uri": "https://localhost:8080/"
        },
        "id": "b8FnEaDrd0Yd",
        "outputId": "e44b0490-06ed-4de9-f67c-e26406f933a9"
      },
      "execution_count": null,
      "outputs": [
        {
          "output_type": "stream",
          "name": "stdout",
          "text": [
            "dict_keys(['name', 'age', 'birth'])\n",
            "['name', 'age', 'birth']\n"
          ]
        }
      ]
    },
    {
      "cell_type": "markdown",
      "source": [
        "####135-05 딕셔너리 값 리스트 만들기"
      ],
      "metadata": {
        "id": "K7GJ2uaBeO6C"
      }
    },
    {
      "cell_type": "code",
      "source": [
        "a = {'name':'John', 'age':30, 'birth':[11, 8]}\n",
        "b = a.values()\n",
        "c = list(a.values())\n",
        "\n",
        "print(b)\n",
        "print(c)"
      ],
      "metadata": {
        "colab": {
          "base_uri": "https://localhost:8080/"
        },
        "id": "Z_3wrKrweSzc",
        "outputId": "d511ee2c-3bc9-4d15-dbd8-ba7fb2d07c92"
      },
      "execution_count": null,
      "outputs": [
        {
          "output_type": "stream",
          "name": "stdout",
          "text": [
            "dict_values(['John', 30, [11, 8]])\n",
            "['John', 30, [11, 8]]\n"
          ]
        }
      ]
    },
    {
      "cell_type": "markdown",
      "source": [
        "####135-06 딕셔너리 키-값 리스트 만들기"
      ],
      "metadata": {
        "id": "AWQ6mXpEel0H"
      }
    },
    {
      "cell_type": "code",
      "source": [
        "a = {'name':'John', 'age':30, 'birth':[11, 8]}\n",
        "b = a.items()\n",
        "c = list(a.items())\n",
        "\n",
        "print(b)\n",
        "print(c)"
      ],
      "metadata": {
        "colab": {
          "base_uri": "https://localhost:8080/"
        },
        "id": "ANLfqlj0eoSN",
        "outputId": "c4cd0633-153a-45ec-a2f1-902fd136c06d"
      },
      "execution_count": 13,
      "outputs": [
        {
          "output_type": "stream",
          "name": "stdout",
          "text": [
            "dict_items([('name', 'John'), ('age', 30), ('birth', [11, 8])])\n",
            "[('name', 'John'), ('age', 30), ('birth', [11, 8])]\n"
          ]
        }
      ]
    },
    {
      "cell_type": "markdown",
      "source": [
        "####135-07 딕셔너리 키로 값 호출하기"
      ],
      "metadata": {
        "id": "09e_RJjJfYVh"
      }
    },
    {
      "cell_type": "code",
      "source": [
        "a = {'name':'John', 'age':30, 'birth':[11, 8]}\n",
        "b = a.get('name')\n",
        "c = a['name']\n",
        "d = a.get('house')\n",
        "e = a.get('house', 'No data')\n",
        "\n",
        "print(b)\n",
        "print(c)\n",
        "print(d)\n",
        "print(e)"
      ],
      "metadata": {
        "colab": {
          "base_uri": "https://localhost:8080/"
        },
        "id": "BVIiozo1fcB2",
        "outputId": "6c675d35-fb44-4035-dfda-a1016617f93e"
      },
      "execution_count": null,
      "outputs": [
        {
          "output_type": "stream",
          "name": "stdout",
          "text": [
            "John\n",
            "John\n",
            "None\n",
            "No data\n"
          ]
        }
      ]
    },
    {
      "cell_type": "markdown",
      "source": [
        "###(6) 집합 자료형"
      ],
      "metadata": {
        "id": "TcYV_3DgFctK"
      }
    },
    {
      "cell_type": "markdown",
      "source": [
        "####136-01 집합 자료형"
      ],
      "metadata": {
        "id": "SGmPXqr4xNAM"
      }
    },
    {
      "cell_type": "code",
      "source": [
        "a = {1, 2, 3, 2, 1}\n",
        "b = set([1, 2, 3, 2, 1])\n",
        "c = set(\"Python\")\n",
        "\n",
        "print(a)\n",
        "print(b)\n",
        "print(c)"
      ],
      "metadata": {
        "colab": {
          "base_uri": "https://localhost:8080/"
        },
        "id": "QaPNIV6ExTrx",
        "outputId": "0f9b79c8-4204-4339-b9ef-fed3da6ce650"
      },
      "execution_count": 14,
      "outputs": [
        {
          "output_type": "stream",
          "name": "stdout",
          "text": [
            "{1, 2, 3}\n",
            "{1, 2, 3}\n",
            "{'n', 'y', 't', 'o', 'h', 'P'}\n"
          ]
        }
      ]
    },
    {
      "cell_type": "markdown",
      "source": [
        "####136-02 집합 자료형 변환"
      ],
      "metadata": {
        "id": "G2LRRhnEx3tj"
      }
    },
    {
      "cell_type": "code",
      "source": [
        "a = set([1, 2, 3])\n",
        "b = list(a)\n",
        "c = tuple(a)\n",
        "\n",
        "print(a)\n",
        "print(b)\n",
        "print(b[0])\n",
        "print(c)\n",
        "print(c[2])"
      ],
      "metadata": {
        "colab": {
          "base_uri": "https://localhost:8080/"
        },
        "id": "NtQ1oyt2yCQ-",
        "outputId": "a2affaed-4f08-476f-f069-2d43204de678"
      },
      "execution_count": null,
      "outputs": [
        {
          "output_type": "stream",
          "name": "stdout",
          "text": [
            "{1, 2, 3}\n",
            "[1, 2, 3]\n",
            "1\n",
            "(1, 2, 3)\n",
            "3\n"
          ]
        }
      ]
    },
    {
      "cell_type": "markdown",
      "source": [
        "####136-03 집합 자료형 교집합"
      ],
      "metadata": {
        "id": "a-YgO7XYzZ3q"
      }
    },
    {
      "cell_type": "code",
      "source": [
        "a = set([1, 2, 3, 4, 5])\n",
        "b = set([3, 4, 5, 6, 7])\n",
        "c = a & b\n",
        "d = a.intersection(b)\n",
        "\n",
        "print(c)\n",
        "print(d)"
      ],
      "metadata": {
        "colab": {
          "base_uri": "https://localhost:8080/"
        },
        "id": "ujPlAnw5zcp3",
        "outputId": "3a7bb4a6-8b75-4559-9c24-c7c2319f1012"
      },
      "execution_count": null,
      "outputs": [
        {
          "output_type": "stream",
          "name": "stdout",
          "text": [
            "{3, 4, 5}\n",
            "{3, 4, 5}\n"
          ]
        }
      ]
    },
    {
      "cell_type": "markdown",
      "source": [
        "####136-04 집합 자료형 합집합"
      ],
      "metadata": {
        "id": "LBuoB6I-z7iZ"
      }
    },
    {
      "cell_type": "code",
      "source": [
        "a = set([1, 2, 3, 4, 5])\n",
        "b = set([3, 4, 5, 6, 7])\n",
        "c = a | b\n",
        "d = a.union(b)\n",
        "\n",
        "print(c)\n",
        "print(d)"
      ],
      "metadata": {
        "colab": {
          "base_uri": "https://localhost:8080/"
        },
        "id": "eDUXf0E4z90v",
        "outputId": "cbd70366-4b21-4226-9ab0-586c780f5d61"
      },
      "execution_count": null,
      "outputs": [
        {
          "output_type": "stream",
          "name": "stdout",
          "text": [
            "{1, 2, 3, 4, 5, 6, 7}\n",
            "{1, 2, 3, 4, 5, 6, 7}\n"
          ]
        }
      ]
    },
    {
      "cell_type": "markdown",
      "source": [
        "####136-05 집합 자료형 차집합"
      ],
      "metadata": {
        "id": "-hxv6iHx0Iho"
      }
    },
    {
      "cell_type": "code",
      "source": [
        "a = set([1, 2, 3, 4, 5])\n",
        "b = set([3, 4, 5, 6, 7])\n",
        "c = a - b\n",
        "d = a.difference(b)\n",
        "\n",
        "print(c)\n",
        "print(d)"
      ],
      "metadata": {
        "colab": {
          "base_uri": "https://localhost:8080/"
        },
        "id": "EN-iRfAR0LXB",
        "outputId": "cfc1e2b1-9288-471b-c277-99d7947e4934"
      },
      "execution_count": null,
      "outputs": [
        {
          "output_type": "stream",
          "name": "stdout",
          "text": [
            "{1, 2}\n",
            "{1, 2}\n"
          ]
        }
      ]
    },
    {
      "cell_type": "markdown",
      "source": [
        "###(7) 논리 자료형"
      ],
      "metadata": {
        "id": "IpIgLxqFFed9"
      }
    },
    {
      "cell_type": "markdown",
      "source": [
        "####137-01 논리 자료형 특징"
      ],
      "metadata": {
        "id": "bUcqJVy-1FTZ"
      }
    },
    {
      "cell_type": "code",
      "source": [
        "a = True\n",
        "b = False\n",
        "\n",
        "print(a)\n",
        "print(type(a))\n",
        "print(b)\n",
        "print(type(b))\n",
        "print(a + b)\n",
        "print(type(a + b))\n",
        "print(a * b)\n",
        "print(type(a * b))"
      ],
      "metadata": {
        "colab": {
          "base_uri": "https://localhost:8080/"
        },
        "id": "BfItBgto1Hqk",
        "outputId": "ac764bb9-d694-4926-f1a9-80918bc303e2"
      },
      "execution_count": null,
      "outputs": [
        {
          "output_type": "stream",
          "name": "stdout",
          "text": [
            "True\n",
            "<class 'bool'>\n",
            "False\n",
            "<class 'bool'>\n",
            "1\n",
            "<class 'int'>\n",
            "0\n",
            "<class 'int'>\n"
          ]
        }
      ]
    },
    {
      "cell_type": "markdown",
      "source": [
        "##4. 파이썬 제어문"
      ],
      "metadata": {
        "id": "_IewLf4oFr7O"
      }
    },
    {
      "cell_type": "markdown",
      "source": [
        "###(1) if문"
      ],
      "metadata": {
        "id": "6fNzChnFFu-r"
      }
    },
    {
      "cell_type": "markdown",
      "source": [
        "####141-01 조건문 기본 구조"
      ],
      "metadata": {
        "id": "kE3WHI5GIxy0"
      }
    },
    {
      "cell_type": "code",
      "source": [
        "a = True\n",
        "\n",
        "if a:\n",
        "    print(\"가설은\")\n",
        "    print(\"사실이다\")\n",
        "else:\n",
        "    print(\"가설은\")\n",
        "    print(\"거짓이다\")"
      ],
      "metadata": {
        "colab": {
          "base_uri": "https://localhost:8080/"
        },
        "id": "aFarvhQuI0SR",
        "outputId": "1667d0e7-2d2a-44a5-9706-81fca46724d3"
      },
      "execution_count": 15,
      "outputs": [
        {
          "output_type": "stream",
          "name": "stdout",
          "text": [
            "가설은\n",
            "사실이다\n"
          ]
        }
      ]
    },
    {
      "cell_type": "markdown",
      "source": [
        "####141-02 조건문 비교 연산자"
      ],
      "metadata": {
        "id": "ve4pzezBQF09"
      }
    },
    {
      "cell_type": "code",
      "source": [
        "x = 3\n",
        "y = 7\n",
        "\n",
        "if x <= y:\n",
        "    print(\"x가 y보다 작거나 같다\")\n",
        "else:\n",
        "    print(\"x가 y보다 크다\")"
      ],
      "metadata": {
        "colab": {
          "base_uri": "https://localhost:8080/"
        },
        "id": "9zCH5_8ZI0IW",
        "outputId": "4e82d3c3-122e-44cc-f9e5-0deb27ed8afd"
      },
      "execution_count": null,
      "outputs": [
        {
          "output_type": "stream",
          "name": "stdout",
          "text": [
            "x가 y보다 작거나 같다\n"
          ]
        }
      ]
    },
    {
      "cell_type": "markdown",
      "source": [
        "####141-03 조건문 and, or, not 연산자"
      ],
      "metadata": {
        "id": "E38BgqKDRlbe"
      }
    },
    {
      "cell_type": "code",
      "source": [
        "x = 3\n",
        "y = 7\n",
        "\n",
        "if x == y or x < y:\n",
        "    print(\"x가 y보다 작거나 같다\")\n",
        "else:\n",
        "    print(\"x가 y보다 크다\")"
      ],
      "metadata": {
        "colab": {
          "base_uri": "https://localhost:8080/"
        },
        "id": "krDItG7gRoi2",
        "outputId": "4da446eb-844c-4467-c4e2-f14851050a69"
      },
      "execution_count": null,
      "outputs": [
        {
          "output_type": "stream",
          "name": "stdout",
          "text": [
            "x가 y보다 작거나 같다\n"
          ]
        }
      ]
    },
    {
      "cell_type": "markdown",
      "source": [
        "####141-04 조건문 in, not in 연산자"
      ],
      "metadata": {
        "id": "er_KgflYSjzf"
      }
    },
    {
      "cell_type": "code",
      "source": [
        "x = 3\n",
        "y = [1, 2, 3, 4, 5]\n",
        "\n",
        "if x in y:\n",
        "    print(\"데이터가 존재한다\")\n",
        "else:\n",
        "    print(\"데이터가 존재하지 않는다\")"
      ],
      "metadata": {
        "colab": {
          "base_uri": "https://localhost:8080/"
        },
        "id": "ggaY0nwXSm4z",
        "outputId": "65774607-c5ac-42b7-bed1-a848b5af3bf8"
      },
      "execution_count": null,
      "outputs": [
        {
          "output_type": "stream",
          "name": "stdout",
          "text": [
            "데이터가 존재한다\n"
          ]
        }
      ]
    },
    {
      "cell_type": "markdown",
      "source": [
        "####141-05 elif 활용한 조건문 기본 구조"
      ],
      "metadata": {
        "id": "Q4t8EyyTUuJT"
      }
    },
    {
      "cell_type": "code",
      "source": [
        "x = 3\n",
        "y = 7\n",
        "\n",
        "if x == y:\n",
        "    print(\"x와 y는 같다\")\n",
        "elif x < y:\n",
        "    print(\"x가 y보다 작다\")\n",
        "else:\n",
        "    print(\"x가 y보다 크다\")"
      ],
      "metadata": {
        "colab": {
          "base_uri": "https://localhost:8080/"
        },
        "id": "ipFBgzfhUxr3",
        "outputId": "af0a49dd-d2e0-4666-84a4-9842660a56b7"
      },
      "execution_count": null,
      "outputs": [
        {
          "output_type": "stream",
          "name": "stdout",
          "text": [
            "x가 y보다 작다\n"
          ]
        }
      ]
    },
    {
      "cell_type": "markdown",
      "source": [
        "###(2) while문"
      ],
      "metadata": {
        "id": "n1IrvdSiFyHj"
      }
    },
    {
      "cell_type": "markdown",
      "source": [
        "####142-01 while문 기본 구조"
      ],
      "metadata": {
        "id": "bGs1XsWcXTYJ"
      }
    },
    {
      "cell_type": "code",
      "source": [
        "a = 0\n",
        "\n",
        "while a < 5:\n",
        "    print(\"a값은 %s 입니다\" % a)\n",
        "    a = a + 1\n",
        "\n",
        "print(\"while문이 종료되었습니다\")"
      ],
      "metadata": {
        "colab": {
          "base_uri": "https://localhost:8080/"
        },
        "id": "ZP5Vj7IwXWQQ",
        "outputId": "f7fce5cd-d479-4cdc-ca90-45984cd8a738"
      },
      "execution_count": null,
      "outputs": [
        {
          "output_type": "stream",
          "name": "stdout",
          "text": [
            "a값은 0 입니다\n",
            "a값은 1 입니다\n",
            "a값은 2 입니다\n",
            "a값은 3 입니다\n",
            "a값은 4 입니다\n",
            "while문이 종료되었습니다\n"
          ]
        }
      ]
    },
    {
      "cell_type": "markdown",
      "source": [
        "####142-02 while문 조건 변경"
      ],
      "metadata": {
        "id": "OAccdB4cavqd"
      }
    },
    {
      "cell_type": "code",
      "source": [
        "a = 0\n",
        "b = [\"사과\", \"바나나\", \"토마토\"]\n",
        "\n",
        "while a < len(b):\n",
        "    print(\"바구니에서 %s를 꺼냈습니다\" % b[a])\n",
        "    a = a + 1\n",
        "\n",
        "print(\"바구니에 아무것도 남아있지 않습니다\")"
      ],
      "metadata": {
        "colab": {
          "base_uri": "https://localhost:8080/"
        },
        "id": "bKW4EwT6a1Ku",
        "outputId": "bc54e46f-82f8-4e6d-a896-3728df36be96"
      },
      "execution_count": null,
      "outputs": [
        {
          "output_type": "stream",
          "name": "stdout",
          "text": [
            "바구니에서 사과를 꺼냈습니다\n",
            "바구니에서 바나나를 꺼냈습니다\n",
            "바구니에서 토마토를 꺼냈습니다\n",
            "바구니에 아무것도 남아있지 않습니다\n"
          ]
        }
      ]
    },
    {
      "cell_type": "markdown",
      "source": [
        "####142-03 while문 break 활용"
      ],
      "metadata": {
        "id": "MrzXQXyecGqd"
      }
    },
    {
      "cell_type": "code",
      "source": [
        "a = 5\n",
        "\n",
        "while a > 0:\n",
        "    print(\"a값은 %s 입니다\" % a)\n",
        "    a = a - 1\n",
        "\n",
        "    if a == 2:\n",
        "        break\n",
        "\n",
        "print(\"while문이 종료되었습니다\")"
      ],
      "metadata": {
        "colab": {
          "base_uri": "https://localhost:8080/"
        },
        "id": "RAHBbxf4cJbc",
        "outputId": "b57845ad-d69d-4e6a-f7ff-28be29392346"
      },
      "execution_count": null,
      "outputs": [
        {
          "output_type": "stream",
          "name": "stdout",
          "text": [
            "a값은 5 입니다\n",
            "a값은 4 입니다\n",
            "a값은 3 입니다\n",
            "while문이 종료되었습니다\n"
          ]
        }
      ]
    },
    {
      "cell_type": "markdown",
      "source": [
        "####142-04 while문 continue 활용"
      ],
      "metadata": {
        "id": "AU1JRXGMPU9s"
      }
    },
    {
      "cell_type": "code",
      "source": [
        "a = 0\n",
        "\n",
        "while a < 10:\n",
        "    a = a + 1\n",
        "    if a % 2 == 0:\n",
        "        continue\n",
        "    print(a)"
      ],
      "metadata": {
        "colab": {
          "base_uri": "https://localhost:8080/"
        },
        "id": "cIFlkGjWPZd_",
        "outputId": "06806ba7-6f7e-4f03-fc34-81d29011604e"
      },
      "execution_count": null,
      "outputs": [
        {
          "output_type": "stream",
          "name": "stdout",
          "text": [
            "1\n",
            "3\n",
            "5\n",
            "7\n",
            "9\n"
          ]
        }
      ]
    },
    {
      "cell_type": "markdown",
      "source": [
        "###(3) for문"
      ],
      "metadata": {
        "id": "Nztj2-RjF0vU"
      }
    },
    {
      "cell_type": "markdown",
      "source": [
        "####143-01 for문 기본 구조"
      ],
      "metadata": {
        "id": "8Ul0JTtufY7a"
      }
    },
    {
      "cell_type": "code",
      "source": [
        "a = [\"사과\", \"바나나\", \"토마토\"]\n",
        "\n",
        "for i in a:\n",
        "    print(i)"
      ],
      "metadata": {
        "colab": {
          "base_uri": "https://localhost:8080/"
        },
        "id": "WGzGVMN_fbWJ",
        "outputId": "991bed33-55a9-4095-e26a-2d4c201ae539"
      },
      "execution_count": null,
      "outputs": [
        {
          "output_type": "stream",
          "name": "stdout",
          "text": [
            "사과\n",
            "바나나\n",
            "토마토\n"
          ]
        }
      ]
    },
    {
      "cell_type": "markdown",
      "source": [
        "####143-02 for문과 if문 활용"
      ],
      "metadata": {
        "id": "-uWhF0hjgx-g"
      }
    },
    {
      "cell_type": "code",
      "source": [
        "a = [90, 25, 67, 45, 80]\n",
        "b = sum(a) / len(a)\n",
        "\n",
        "for i in a:\n",
        "    if i > b:\n",
        "        print(\"%d 는(은) 평균보다 크다\" % i)\n",
        "    else:\n",
        "        print(\"%d 는(은) 평균보다 작거나 같다\" % i)"
      ],
      "metadata": {
        "colab": {
          "base_uri": "https://localhost:8080/"
        },
        "id": "f9yM79Ryf0_b",
        "outputId": "00eb000e-87f5-4d5f-ee4c-40fbfeab8a81"
      },
      "execution_count": 17,
      "outputs": [
        {
          "output_type": "stream",
          "name": "stdout",
          "text": [
            "90 는(은) 평균보다 크다\n",
            "25 는(은) 평균보다 작거나 같다\n",
            "67 는(은) 평균보다 크다\n",
            "45 는(은) 평균보다 작거나 같다\n",
            "80 는(은) 평균보다 크다\n"
          ]
        }
      ]
    },
    {
      "cell_type": "markdown",
      "source": [
        "####143-03 for문과 range문 활용"
      ],
      "metadata": {
        "id": "se0ATYC4jvUX"
      }
    },
    {
      "cell_type": "code",
      "source": [
        "for i in range(2, 10):\n",
        "    for j in range(1, 10):\n",
        "        print(i * j, end = ' ')\n",
        "    print(' ')"
      ],
      "metadata": {
        "colab": {
          "base_uri": "https://localhost:8080/"
        },
        "id": "qIAsb1EbhF5k",
        "outputId": "5fc5320a-5f08-4a86-fcd1-d2c216fbaa03"
      },
      "execution_count": null,
      "outputs": [
        {
          "output_type": "stream",
          "name": "stdout",
          "text": [
            "2 4 6 8 10 12 14 16 18  \n",
            "3 6 9 12 15 18 21 24 27  \n",
            "4 8 12 16 20 24 28 32 36  \n",
            "5 10 15 20 25 30 35 40 45  \n",
            "6 12 18 24 30 36 42 48 54  \n",
            "7 14 21 28 35 42 49 56 63  \n",
            "8 16 24 32 40 48 56 64 72  \n",
            "9 18 27 36 45 54 63 72 81  \n"
          ]
        }
      ]
    },
    {
      "cell_type": "markdown",
      "source": [
        "#### 143-04 for문과 리스트 요소 삽입"
      ],
      "metadata": {
        "id": "yLP27PoIQ9o1"
      }
    },
    {
      "cell_type": "code",
      "source": [
        "a = [1, 2, 3, 4]\n",
        "result = []\n",
        "\n",
        "for i in a:\n",
        "    result.insert(0, i * 10)\n",
        "\n",
        "print(result)"
      ],
      "metadata": {
        "colab": {
          "base_uri": "https://localhost:8080/"
        },
        "id": "v9nNk-I9kMtD",
        "outputId": "f637d40b-ec85-4b6d-b8e8-3cab75621873"
      },
      "execution_count": 18,
      "outputs": [
        {
          "output_type": "stream",
          "name": "stdout",
          "text": [
            "[40, 30, 20, 10]\n"
          ]
        }
      ]
    },
    {
      "cell_type": "markdown",
      "source": [
        "##5. 파이썬 함수"
      ],
      "metadata": {
        "id": "FHVTDtYySEOC"
      }
    },
    {
      "cell_type": "markdown",
      "source": [
        "###(1) def문"
      ],
      "metadata": {
        "id": "od1sPrCnWcQB"
      }
    },
    {
      "cell_type": "markdown",
      "source": [
        "####151-01 def문 기본 구조"
      ],
      "metadata": {
        "id": "dI_ell5CUG3s"
      }
    },
    {
      "cell_type": "code",
      "source": [
        "def add(a, b):\n",
        "  return a + b\n",
        "\n",
        "a = 3\n",
        "b = 7\n",
        "c = add(a, b)\n",
        "\n",
        "print (c)"
      ],
      "metadata": {
        "colab": {
          "base_uri": "https://localhost:8080/"
        },
        "id": "ylnrUYnCSGZj",
        "outputId": "d2e2ad0b-3723-4a94-c2f9-90d1d1b998c1"
      },
      "execution_count": null,
      "outputs": [
        {
          "output_type": "stream",
          "name": "stdout",
          "text": [
            "10\n"
          ]
        }
      ]
    }
  ]
}