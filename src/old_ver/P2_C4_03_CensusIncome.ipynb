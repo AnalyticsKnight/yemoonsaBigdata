{
  "nbformat": 4,
  "nbformat_minor": 0,
  "metadata": {
    "colab": {
      "name": "P2_C4_03. CensusIncome.ipynb",
      "provenance": [],
      "collapsed_sections": [],
      "toc_visible": true,
      "include_colab_link": true
    },
    "kernelspec": {
      "name": "python3",
      "display_name": "Python 3"
    },
    "language_info": {
      "name": "python"
    }
  },
  "cells": [
    {
      "cell_type": "markdown",
      "metadata": {
        "id": "view-in-github",
        "colab_type": "text"
      },
      "source": [
        "<a href=\"https://colab.research.google.com/github/AnalyticsKnight/yemoonsaBigdata/blob/dev/P2_C4_03_CensusIncome.ipynb\" target=\"_parent\"><img src=\"https://colab.research.google.com/assets/colab-badge.svg\" alt=\"Open In Colab\"/></a>"
      ]
    },
    {
      "cell_type": "markdown",
      "source": [
        "# **Chapter 4. A to Z 빅데이터 분석 실습**"
      ],
      "metadata": {
        "id": "gSZ1HUxoJBZS"
      }
    },
    {
      "cell_type": "markdown",
      "source": [
        "## 3. 실습 A to Z - Census Income "
      ],
      "metadata": {
        "id": "bggmCRYJJYLF"
      }
    },
    {
      "cell_type": "code",
      "source": [
        "!git clone https://github.com/AnalyticsKnight/yemoonsaBigdata/"
      ],
      "metadata": {
        "id": "-cTIwT2QSJFy",
        "outputId": "455faac3-9824-4144-a274-ad0a197002c0",
        "colab": {
          "base_uri": "https://localhost:8080/"
        }
      },
      "execution_count": 1,
      "outputs": [
        {
          "output_type": "stream",
          "name": "stdout",
          "text": [
            "Cloning into 'yemoonsaBigdata'...\n",
            "remote: Enumerating objects: 481, done.\u001b[K\n",
            "remote: Counting objects: 100% (118/118), done.\u001b[K\n",
            "remote: Compressing objects: 100% (74/74), done.\u001b[K\n",
            "remote: Total 481 (delta 64), reused 49 (delta 44), pack-reused 363\u001b[K\n",
            "Receiving objects: 100% (481/481), 8.88 MiB | 10.67 MiB/s, done.\n",
            "Resolving deltas: 100% (249/249), done.\n"
          ]
        }
      ]
    },
    {
      "cell_type": "markdown",
      "source": [
        "### (2) 사전준비"
      ],
      "metadata": {
        "id": "de2QO4OKJlRa"
      }
    },
    {
      "cell_type": "markdown",
      "source": [
        "#### 432-01"
      ],
      "metadata": {
        "id": "LWrvdMc5KJJn"
      }
    },
    {
      "cell_type": "code",
      "source": [
        "import pandas as pd\n",
        "import numpy as np"
      ],
      "metadata": {
        "id": "DC1aQjh5KbiL"
      },
      "execution_count": 2,
      "outputs": []
    },
    {
      "cell_type": "markdown",
      "source": [
        "#### 432-02"
      ],
      "metadata": {
        "id": "Jn9ghrqwKg_6"
      }
    },
    {
      "cell_type": "code",
      "source": [
        "X_test = pd.read_csv(\"./yemoonsaBigdata/datasets/Part2/census_X_test.csv\")\n",
        "X_train = pd.read_csv(\"./yemoonsaBigdata/datasets/Part2/census_X_train.csv\")\n",
        "y_train = pd.read_csv(\"./yemoonsaBigdata/datasets/Part2/census_y_train.csv\")"
      ],
      "metadata": {
        "id": "cQ-mgBAVKeVq"
      },
      "execution_count": 3,
      "outputs": []
    },
    {
      "cell_type": "markdown",
      "source": [
        "### (3) 데이터 전처리"
      ],
      "metadata": {
        "id": "p8x1_D0yK990"
      }
    },
    {
      "cell_type": "markdown",
      "source": [
        "#### 433-01"
      ],
      "metadata": {
        "id": "5OwqboGFLBZC"
      }
    },
    {
      "cell_type": "code",
      "source": [
        "print(X_train.info())"
      ],
      "metadata": {
        "colab": {
          "base_uri": "https://localhost:8080/"
        },
        "id": "80pxps2gLGZ-",
        "outputId": "3072bfd2-a9de-4eb9-f926-f55fdea5d20b"
      },
      "execution_count": null,
      "outputs": [
        {
          "output_type": "stream",
          "name": "stdout",
          "text": [
            "<class 'pandas.core.frame.DataFrame'>\n",
            "RangeIndex: 30162 entries, 0 to 30161\n",
            "Data columns (total 12 columns):\n",
            " #   Column          Non-Null Count  Dtype \n",
            "---  ------          --------------  ----- \n",
            " 0   age             30162 non-null  int64 \n",
            " 1   workclass       30162 non-null  object\n",
            " 2   education_num   30162 non-null  int64 \n",
            " 3   marital_status  30162 non-null  object\n",
            " 4   occupation      30162 non-null  object\n",
            " 5   relationship    30162 non-null  object\n",
            " 6   race            30162 non-null  object\n",
            " 7   sex             30162 non-null  object\n",
            " 8   capital_gain    30162 non-null  int64 \n",
            " 9   capital_loss    30162 non-null  int64 \n",
            " 10  hours_per_week  30162 non-null  int64 \n",
            " 11  native_country  30162 non-null  object\n",
            "dtypes: int64(5), object(7)\n",
            "memory usage: 2.8+ MB\n",
            "None\n"
          ]
        }
      ]
    },
    {
      "cell_type": "markdown",
      "source": [
        "#### 433-02"
      ],
      "metadata": {
        "id": "owyOO-SbLkEP"
      }
    },
    {
      "cell_type": "code",
      "source": [
        "print(X_train.describe())"
      ],
      "metadata": {
        "colab": {
          "base_uri": "https://localhost:8080/"
        },
        "id": "dOrgoBXaLbVV",
        "outputId": "7a3b4f28-fc4a-417b-cb9d-96e697e62c51"
      },
      "execution_count": null,
      "outputs": [
        {
          "output_type": "stream",
          "name": "stdout",
          "text": [
            "                age        fnlwgt  education_num  capital_gain  capital_loss  \\\n",
            "count  30162.000000  3.016200e+04   30162.000000  30162.000000  30162.000000   \n",
            "mean      38.437902  1.897938e+05      10.121312   1092.007858     88.372489   \n",
            "std       13.134665  1.056530e+05       2.549995   7406.346497    404.298370   \n",
            "min       17.000000  1.376900e+04       1.000000      0.000000      0.000000   \n",
            "25%       28.000000  1.176272e+05       9.000000      0.000000      0.000000   \n",
            "50%       37.000000  1.784250e+05      10.000000      0.000000      0.000000   \n",
            "75%       47.000000  2.376285e+05      13.000000      0.000000      0.000000   \n",
            "max       90.000000  1.484705e+06      16.000000  99999.000000   4356.000000   \n",
            "\n",
            "       hours_per_week  \n",
            "count    30162.000000  \n",
            "mean        40.931238  \n",
            "std         11.979984  \n",
            "min          1.000000  \n",
            "25%         40.000000  \n",
            "50%         40.000000  \n",
            "75%         45.000000  \n",
            "max         99.000000  \n"
          ]
        }
      ]
    },
    {
      "cell_type": "markdown",
      "source": [
        "#### 433-03"
      ],
      "metadata": {
        "id": "g9rbWzPzL0Ln"
      }
    },
    {
      "cell_type": "code",
      "source": [
        "print(X_train['capital_gain'].quantile([q/20 for q in range(15, 21)]))"
      ],
      "metadata": {
        "colab": {
          "base_uri": "https://localhost:8080/"
        },
        "id": "gwwjQOvALhng",
        "outputId": "4ca99976-e1fd-4677-ae47-2b0b589e2bdd"
      },
      "execution_count": 4,
      "outputs": [
        {
          "output_type": "stream",
          "name": "stdout",
          "text": [
            "0.75        0.0\n",
            "0.80        0.0\n",
            "0.85        0.0\n",
            "0.90        0.0\n",
            "0.95     5013.0\n",
            "1.00    99999.0\n",
            "Name: capital_gain, dtype: float64\n"
          ]
        }
      ]
    },
    {
      "cell_type": "markdown",
      "source": [
        "#### 433-04"
      ],
      "metadata": {
        "id": "JWHWLYVAMAS4"
      }
    },
    {
      "cell_type": "code",
      "source": [
        "print(X_train['capital_loss'].quantile([q/20 for q in range(15, 21)]))"
      ],
      "metadata": {
        "colab": {
          "base_uri": "https://localhost:8080/"
        },
        "outputId": "d8d45cea-22dd-4ad3-b4e6-7bcd0c74510b",
        "id": "nFY94jQvMAS4"
      },
      "execution_count": null,
      "outputs": [
        {
          "output_type": "stream",
          "name": "stdout",
          "text": [
            "0.75       0.0\n",
            "0.80       0.0\n",
            "0.85       0.0\n",
            "0.90       0.0\n",
            "0.95       0.0\n",
            "1.00    4356.0\n",
            "Name: capital_loss, dtype: float64\n"
          ]
        }
      ]
    },
    {
      "cell_type": "markdown",
      "source": [
        "#### 433-05"
      ],
      "metadata": {
        "id": "nW0c2kGTMU5j"
      }
    },
    {
      "cell_type": "code",
      "source": [
        "X_train['capital_gain_yn'] = np.where(X_train['capital_gain']>0, 1, 0)\n",
        "X_train['capital_loss_yn'] = np.where(X_train['capital_loss']>0, 1, 0)\n",
        "\n",
        "X_test['capital_gain_yn'] = np.where(X_test['capital_gain']>0, 1, 0)\n",
        "X_test['capital_loss_yn'] = np.where(X_test['capital_loss']>0, 1, 0)"
      ],
      "metadata": {
        "id": "jgQT3fkeMEVh"
      },
      "execution_count": 5,
      "outputs": []
    },
    {
      "cell_type": "markdown",
      "source": [
        "#### 433-06"
      ],
      "metadata": {
        "id": "9BJjw8esMc97"
      }
    },
    {
      "cell_type": "code",
      "source": [
        "COL_DEL = []\n",
        "COL_NUM = ['age', 'education_num', 'hours_per_week', 'capital_gain', 'capital_loss']\n",
        "COL_CAT = ['workclass', 'marital_status', 'occupation', 'relationship', 'race', 'sex', 'native_country', 'capital_gain_yn', 'capital_loss_yn']\n",
        "COL_Y = ['target']\n",
        "\n",
        "X_train = X_train.drop(COL_DEL, axis=1)\n",
        "X_test = X_test.drop(COL_DEL, axis=1)"
      ],
      "metadata": {
        "id": "7H7x9PFuM78R"
      },
      "execution_count": 6,
      "outputs": []
    },
    {
      "cell_type": "markdown",
      "source": [
        "#### 433-07"
      ],
      "metadata": {
        "id": "BtYxP_DoPtj3"
      }
    },
    {
      "cell_type": "code",
      "source": [
        "train_df = pd.concat([X_train, y_train], axis=1)\n",
        "\n",
        "for _col in COL_NUM:\n",
        "  print('-'*80)\n",
        "  print(_col)\n",
        "  print(train_df.groupby(COL_Y)[_col].describe(), end='\\n\\n')"
      ],
      "metadata": {
        "colab": {
          "base_uri": "https://localhost:8080/"
        },
        "id": "HEWcnedYx1Xh",
        "outputId": "a8df4c57-2142-433c-d97a-6ab546aa3e51"
      },
      "execution_count": 7,
      "outputs": [
        {
          "output_type": "stream",
          "name": "stdout",
          "text": [
            "--------------------------------------------------------------------------------\n",
            "age\n",
            "          count      mean        std   min   25%   50%   75%   max\n",
            "target                                                            \n",
            "0       22654.0  36.60806  13.464631  17.0  26.0  34.0  45.0  90.0\n",
            "1        7508.0  43.95911  10.269633  19.0  36.0  43.0  51.0  90.0\n",
            "\n",
            "--------------------------------------------------------------------------------\n",
            "education_num\n",
            "          count       mean       std  min   25%   50%   75%   max\n",
            "target                                                           \n",
            "0       22654.0   9.629116  2.413596  1.0   9.0   9.0  10.0  16.0\n",
            "1        7508.0  11.606420  2.368423  2.0  10.0  12.0  13.0  16.0\n",
            "\n",
            "--------------------------------------------------------------------------------\n",
            "hours_per_week\n",
            "          count       mean        std  min   25%   50%   75%   max\n",
            "target                                                            \n",
            "0       22654.0  39.348592  11.950774  1.0  38.0  40.0  40.0  99.0\n",
            "1        7508.0  45.706580  10.736987  1.0  40.0  40.0  50.0  99.0\n",
            "\n",
            "--------------------------------------------------------------------------------\n",
            "capital_gain\n",
            "          count         mean           std  min  25%  50%  75%      max\n",
            "target                                                                 \n",
            "0       22654.0   148.893838    936.392280  0.0  0.0  0.0  0.0  41310.0\n",
            "1        7508.0  3937.679808  14386.060019  0.0  0.0  0.0  0.0  99999.0\n",
            "\n",
            "--------------------------------------------------------------------------------\n",
            "capital_loss\n",
            "          count        mean         std  min  25%  50%  75%     max\n",
            "target                                                             \n",
            "0       22654.0   53.448000  310.270263  0.0  0.0  0.0  0.0  4356.0\n",
            "1        7508.0  193.750666  592.825590  0.0  0.0  0.0  0.0  3683.0\n",
            "\n"
          ]
        }
      ]
    },
    {
      "cell_type": "markdown",
      "source": [
        "#### 433-08"
      ],
      "metadata": {
        "id": "fiXy6kRvQATk"
      }
    },
    {
      "cell_type": "code",
      "source": [
        "for _col in COL_CAT:\n",
        "  print(train_df.groupby(_col, as_index=False)[COL_Y].mean().sort_values(by=COL_Y, ascending=False), end='\\n\\n')"
      ],
      "metadata": {
        "colab": {
          "base_uri": "https://localhost:8080/"
        },
        "id": "6skJOMKX0UnX",
        "outputId": "494ac646-9db1-4fc7-c534-dd9bef78e6b5"
      },
      "execution_count": null,
      "outputs": [
        {
          "output_type": "stream",
          "name": "stdout",
          "text": [
            "          workclass    target\n",
            "3      Self-emp-inc  0.558659\n",
            "0       Federal-gov  0.387063\n",
            "1         Local-gov  0.294630\n",
            "4  Self-emp-not-inc  0.285714\n",
            "5         State-gov  0.268960\n",
            "2           Private  0.218792\n",
            "6       Without-pay  0.000000\n",
            "\n",
            "          marital_status    target\n",
            "1      Married-AF-spouse  0.476190\n",
            "2     Married-civ-spouse  0.454959\n",
            "0               Divorced  0.107262\n",
            "6                Widowed  0.096735\n",
            "3  Married-spouse-absent  0.083784\n",
            "5              Separated  0.070288\n",
            "4          Never-married  0.048324\n",
            "\n",
            "           occupation    target\n",
            "3     Exec-managerial  0.485220\n",
            "9      Prof-specialty  0.448489\n",
            "10    Protective-serv  0.326087\n",
            "12       Tech-support  0.304825\n",
            "11              Sales  0.270647\n",
            "2        Craft-repair  0.225310\n",
            "13   Transport-moving  0.202926\n",
            "0        Adm-clerical  0.133835\n",
            "6   Machine-op-inspct  0.124619\n",
            "4     Farming-fishing  0.116279\n",
            "1        Armed-Forces  0.111111\n",
            "5   Handlers-cleaners  0.061481\n",
            "7       Other-service  0.041096\n",
            "8     Priv-house-serv  0.006993\n",
            "\n",
            "     relationship    target\n",
            "5            Wife  0.493599\n",
            "0         Husband  0.455669\n",
            "1   Not-in-family  0.106523\n",
            "4       Unmarried  0.066314\n",
            "2  Other-relative  0.039370\n",
            "3       Own-child  0.014330\n",
            "\n",
            "                 race    target\n",
            "1  Asian-Pac-Islander  0.277095\n",
            "4               White  0.263718\n",
            "2               Black  0.129925\n",
            "0  Amer-Indian-Eskimo  0.118881\n",
            "3               Other  0.090909\n",
            "\n",
            "      sex    target\n",
            "1    Male  0.313837\n",
            "0  Female  0.113678\n",
            "\n",
            "                native_country    target\n",
            "35                      Taiwan  0.452381\n",
            "9                       France  0.444444\n",
            "19                        Iran  0.428571\n",
            "18                       India  0.400000\n",
            "23                       Japan  0.389831\n",
            "0                     Cambodia  0.388889\n",
            "40                  Yugoslavia  0.375000\n",
            "21                       Italy  0.352941\n",
            "8                      England  0.348837\n",
            "10                     Germany  0.343750\n",
            "1                       Canada  0.336449\n",
            "29                 Philippines  0.319149\n",
            "16                        Hong  0.315789\n",
            "2                        China  0.294118\n",
            "11                      Greece  0.275862\n",
            "4                         Cuba  0.271739\n",
            "38               United-States  0.254327\n",
            "17                     Hungary  0.230769\n",
            "20                     Ireland  0.208333\n",
            "34                       South  0.197183\n",
            "30                      Poland  0.196429\n",
            "33                    Scotland  0.181818\n",
            "36                    Thailand  0.176471\n",
            "6                      Ecuador  0.148148\n",
            "22                     Jamaica  0.125000\n",
            "31                    Portugal  0.117647\n",
            "24                        Laos  0.117647\n",
            "37             Trinadad&Tobago  0.111111\n",
            "32                 Puerto-Rico  0.110092\n",
            "13                       Haiti  0.095238\n",
            "7                  El-Salvador  0.090000\n",
            "15                    Honduras  0.083333\n",
            "39                     Vietnam  0.078125\n",
            "28                        Peru  0.066667\n",
            "26                   Nicaragua  0.060606\n",
            "25                      Mexico  0.054098\n",
            "12                   Guatemala  0.047619\n",
            "3                     Columbia  0.035714\n",
            "5           Dominican-Republic  0.029851\n",
            "27  Outlying-US(Guam-USVI-etc)  0.000000\n",
            "14          Holand-Netherlands  0.000000\n",
            "\n",
            "        education    target\n",
            "14    Prof-school  0.749077\n",
            "10      Doctorate  0.746667\n",
            "12        Masters  0.564229\n",
            "9       Bachelors  0.421491\n",
            "8       Assoc-voc  0.263198\n",
            "7      Assoc-acdm  0.253968\n",
            "15   Some-college  0.200060\n",
            "11        HS-grad  0.164329\n",
            "2            12th  0.076923\n",
            "0            10th  0.071951\n",
            "5         7th-8th  0.062837\n",
            "1            11th  0.056298\n",
            "6             9th  0.054945\n",
            "4         5th-6th  0.041667\n",
            "3         1st-4th  0.039735\n",
            "13      Preschool  0.000000\n",
            "\n",
            "   capital_gain_yn    target\n",
            "1                1  0.628448\n",
            "0                0  0.214053\n",
            "\n",
            "   capital_loss_yn    target\n",
            "1                1  0.516468\n",
            "0                0  0.235636\n",
            "\n"
          ]
        }
      ]
    },
    {
      "cell_type": "markdown",
      "source": [
        "#### 433-09"
      ],
      "metadata": {
        "id": "AzqLstFOKzAw"
      }
    },
    {
      "cell_type": "code",
      "source": [
        "from sklearn.preprocessing import LabelEncoder\n",
        "X = pd.concat([X_train, X_test])\n",
        "\n",
        "for _col in COL_CAT:\n",
        "  le = LabelEncoder()\n",
        "  le.fit(X[_col])\n",
        "  X_train[_col] = le.transform(X_train[_col])\n",
        "  X_test[_col] = le.transform(X_test[_col])"
      ],
      "metadata": {
        "id": "svfXl8XNAYPg"
      },
      "execution_count": 8,
      "outputs": []
    },
    {
      "cell_type": "markdown",
      "source": [
        "### (4) 데이터 모형 구축"
      ],
      "metadata": {
        "id": "6vbSCGOaQXGq"
      }
    },
    {
      "cell_type": "markdown",
      "source": [
        "#### 434-01"
      ],
      "metadata": {
        "id": "WqUcxFQxQatq"
      }
    },
    {
      "cell_type": "code",
      "source": [
        "from sklearn.model_selection import train_test_split\n",
        "X_tr, X_val, y_tr, y_val = train_test_split(X_train, y_train, test_size=0.3, stratify=y_train)"
      ],
      "metadata": {
        "id": "WiTFm-5IRr9_"
      },
      "execution_count": 9,
      "outputs": []
    },
    {
      "cell_type": "markdown",
      "source": [
        "#### 434-02"
      ],
      "metadata": {
        "id": "367nKlK2ZC2X"
      }
    },
    {
      "cell_type": "code",
      "source": [
        "from sklearn.preprocessing import StandardScaler\n",
        "\n",
        "scaler = StandardScaler()\n",
        "X_tr[COL_NUM] = scaler.fit_transform(X_tr[COL_NUM])\n",
        "X_val[COL_NUM] = scaler.transform(X_val[COL_NUM])\n",
        "X_test[COL_NUM] = scaler.transform(X_test[COL_NUM])"
      ],
      "metadata": {
        "id": "6gXA-QkDlXzo"
      },
      "execution_count": 10,
      "outputs": []
    },
    {
      "cell_type": "markdown",
      "source": [
        "#### 434-03"
      ],
      "metadata": {
        "id": "w0gA7zXUawav"
      }
    },
    {
      "cell_type": "code",
      "source": [
        "from sklearn.ensemble import RandomForestClassifier\n",
        "\n",
        "model_rf = RandomForestClassifier()\n",
        "model_rf.fit(X_tr, y_tr.values.ravel())"
      ],
      "metadata": {
        "colab": {
          "base_uri": "https://localhost:8080/"
        },
        "id": "FjKqP-bQkjZg",
        "outputId": "b5f18882-076f-4312-fe1b-ce370e610dc8"
      },
      "execution_count": 11,
      "outputs": [
        {
          "output_type": "execute_result",
          "data": {
            "text/plain": [
              "RandomForestClassifier()"
            ]
          },
          "metadata": {},
          "execution_count": 11
        }
      ]
    },
    {
      "cell_type": "markdown",
      "source": [
        "#### 434-04"
      ],
      "metadata": {
        "id": "fLeeC1EzbUsy"
      }
    },
    {
      "cell_type": "code",
      "source": [
        "from xgboost import XGBClassifier\n",
        "\n",
        "model_xgb1 = XGBClassifier()\n",
        "model_xgb1.fit(X_tr, y_tr.values.ravel())"
      ],
      "metadata": {
        "colab": {
          "base_uri": "https://localhost:8080/"
        },
        "id": "R5VQSNsgbbDP",
        "outputId": "c7ce10f4-5aba-496b-efe6-b53f99f8e074"
      },
      "execution_count": null,
      "outputs": [
        {
          "output_type": "execute_result",
          "data": {
            "text/plain": [
              "XGBClassifier()"
            ]
          },
          "metadata": {},
          "execution_count": 16
        }
      ]
    },
    {
      "cell_type": "markdown",
      "source": [
        "#### 434-05"
      ],
      "metadata": {
        "id": "V3W5QLjua3HH"
      }
    },
    {
      "cell_type": "code",
      "source": [
        "model_xgb2 = XGBClassifier(n_estimators=1000, learning_rate=0.1, max_depth=10)\n",
        "model_xgb2.fit(X_tr, y_tr.values.ravel(), early_stopping_rounds=50, eval_metric='auc', eval_set=[(X_val, y_val)], verbose=10)"
      ],
      "metadata": {
        "colab": {
          "base_uri": "https://localhost:8080/"
        },
        "id": "GCapKaDYCBM3",
        "outputId": "237be6f1-953a-4cb6-bbed-6e4c8718780a"
      },
      "execution_count": null,
      "outputs": [
        {
          "output_type": "stream",
          "name": "stderr",
          "text": [
            "/usr/local/lib/python3.7/dist-packages/sklearn/preprocessing/_label.py:133: DataConversionWarning: A column-vector y was passed when a 1d array was expected. Please change the shape of y to (n_samples, ), for example using ravel().\n",
            "  y = column_or_1d(y, warn=True)\n"
          ]
        },
        {
          "output_type": "stream",
          "name": "stdout",
          "text": [
            "[0]\tvalidation_0-auc:0.907017\n",
            "Will train until validation_0-auc hasn't improved in 50 rounds.\n",
            "[10]\tvalidation_0-auc:0.917431\n",
            "[20]\tvalidation_0-auc:0.921741\n",
            "[30]\tvalidation_0-auc:0.924181\n",
            "[40]\tvalidation_0-auc:0.924917\n",
            "[50]\tvalidation_0-auc:0.926361\n",
            "[60]\tvalidation_0-auc:0.926765\n",
            "[70]\tvalidation_0-auc:0.926873\n",
            "[80]\tvalidation_0-auc:0.927119\n",
            "[90]\tvalidation_0-auc:0.92711\n",
            "[100]\tvalidation_0-auc:0.927227\n",
            "[110]\tvalidation_0-auc:0.927207\n",
            "[120]\tvalidation_0-auc:0.92704\n",
            "Stopping. Best iteration:\n",
            "[77]\tvalidation_0-auc:0.92729\n",
            "\n"
          ]
        },
        {
          "output_type": "execute_result",
          "data": {
            "text/plain": [
              "XGBClassifier(max_depth=10, n_estimators=1000)"
            ]
          },
          "metadata": {},
          "execution_count": 17
        }
      ]
    },
    {
      "cell_type": "markdown",
      "source": [
        "#### 434-06"
      ],
      "metadata": {
        "id": "aoLLSAlnbHJy"
      }
    },
    {
      "cell_type": "code",
      "source": [
        "from sklearn.metrics import roc_auc_score\n",
        "\n",
        "y_pred_rf = model_rf.predict_proba(X_val)\n",
        "y_pred_xgb1 = model_xgb1.predict_proba(X_val)\n",
        "\n",
        "score_rf = roc_auc_score(y_val, y_pred_rf[:, 1])\n",
        "score_xgb1 = roc_auc_score(y_val, y_pred_xgb1[:, 1]) \n",
        "\n",
        "print(score_rf)\n",
        "print(score_xgb1)"
      ],
      "metadata": {
        "colab": {
          "base_uri": "https://localhost:8080/"
        },
        "id": "TTw529SQDPTY",
        "outputId": "7a355bf9-b591-4259-a81f-2d198005ee84"
      },
      "execution_count": null,
      "outputs": [
        {
          "output_type": "stream",
          "name": "stdout",
          "text": [
            "0.9083591627379228\n",
            "0.9221158848943649\n"
          ]
        }
      ]
    },
    {
      "cell_type": "markdown",
      "source": [
        "#### 434-07"
      ],
      "metadata": {
        "id": "Pl3O4jIIlMYy"
      }
    },
    {
      "cell_type": "code",
      "source": [
        "print(pd.DataFrame({'feature': X_tr.columns, 'fi_rf': model_rf.feature_importances_, 'fi_xgb': model_xgb1.feature_importances_}))"
      ],
      "metadata": {
        "colab": {
          "base_uri": "https://localhost:8080/"
        },
        "id": "2iS-EtoOClfP",
        "outputId": "f4ec3793-4015-4da2-e82b-c485cbf86007"
      },
      "execution_count": null,
      "outputs": [
        {
          "output_type": "stream",
          "name": "stdout",
          "text": [
            "            feature     fi_rf    fi_xgb\n",
            "0               age  0.145654  0.064804\n",
            "1         workclass  0.039558  0.018804\n",
            "2            fnlwgt  0.166765  0.010209\n",
            "3         education  0.029615  0.005909\n",
            "4     education_num  0.096471  0.162251\n",
            "5    marital_status  0.078398  0.169444\n",
            "6        occupation  0.067220  0.050365\n",
            "7      relationship  0.095142  0.253372\n",
            "8              race  0.013588  0.012173\n",
            "9               sex  0.008371  0.037337\n",
            "10     capital_gain  0.111685  0.112024\n",
            "11     capital_loss  0.032767  0.051861\n",
            "12   hours_per_week  0.078326  0.047593\n",
            "13   native_country  0.014791  0.003855\n",
            "14  capital_gain_yn  0.015490  0.000000\n",
            "15  capital_loss_yn  0.006160  0.000000\n"
          ]
        }
      ]
    },
    {
      "cell_type": "markdown",
      "source": [
        "#### 434-08"
      ],
      "metadata": {
        "id": "uv4xCzXlnEbh"
      }
    },
    {
      "cell_type": "code",
      "source": [
        "COL_DEL = ['capital_gain_yn', 'capital_loss_yn']\n",
        "\n",
        "X_tr = X_tr.drop(COL_DEL, axis=1)\n",
        "X_val = X_val.drop(COL_DEL, axis=1)\n",
        "X_test = X_test.drop(COL_DEL, axis=1)"
      ],
      "metadata": {
        "id": "R7_qJIk7lyd1"
      },
      "execution_count": null,
      "outputs": []
    },
    {
      "cell_type": "markdown",
      "source": [
        "#### 434-09"
      ],
      "metadata": {
        "id": "effb1pGjncyb"
      }
    },
    {
      "cell_type": "code",
      "source": [
        "from sklearn.model_selection import GridSearchCV\n",
        "\n",
        "grid_params = { \n",
        "    'n_estimators': [50, 100, 200],\n",
        "    'max_depth': [5, 10, 15],\n",
        "    'min_samples_split': [2, 5, 10],\n",
        "    'min_samples_leaf': [1, 2, 4]\n",
        "}\n",
        "\n",
        "rf_cv = GridSearchCV(estimator=model_rf, param_grid=grid_params, cv=5)\n",
        "rf_cv.fit(X_train, y_train.values.ravel()) "
      ],
      "metadata": {
        "colab": {
          "base_uri": "https://localhost:8080/"
        },
        "id": "KOnP9cBkEPAV",
        "outputId": "8440354c-f504-457c-8a86-2af24433235f"
      },
      "execution_count": null,
      "outputs": [
        {
          "output_type": "execute_result",
          "data": {
            "text/plain": [
              "GridSearchCV(cv=5, estimator=RandomForestClassifier(),\n",
              "             param_grid={'max_depth': [5, 10, 15],\n",
              "                         'min_samples_leaf': [1, 2, 4],\n",
              "                         'min_samples_split': [2, 5, 10],\n",
              "                         'n_estimators': [50, 100, 200]})"
            ]
          },
          "metadata": {},
          "execution_count": 21
        }
      ]
    },
    {
      "cell_type": "markdown",
      "source": [
        "#### 434-10"
      ],
      "metadata": {
        "id": "lczD1U8FnwFB"
      }
    },
    {
      "cell_type": "code",
      "source": [
        "print(pd.DataFrame(rf_cv.cv_results_).head())"
      ],
      "metadata": {
        "colab": {
          "base_uri": "https://localhost:8080/"
        },
        "id": "cI-AOjQFKEKa",
        "outputId": "ce035c7d-f080-4618-a8e1-de647d6a6200"
      },
      "execution_count": null,
      "outputs": [
        {
          "output_type": "stream",
          "name": "stdout",
          "text": [
            "   mean_fit_time  std_fit_time  mean_score_time  std_score_time  \\\n",
            "0       1.155454      0.215556         0.076223        0.040819   \n",
            "1       1.195314      0.023036         0.064863        0.002218   \n",
            "2       2.340160      0.029094         0.125435        0.003289   \n",
            "3       0.582246      0.013236         0.032881        0.000857   \n",
            "4       1.186780      0.012355         0.064369        0.002324   \n",
            "\n",
            "  param_max_depth param_min_samples_leaf param_min_samples_split  \\\n",
            "0               5                      1                       2   \n",
            "1               5                      1                       2   \n",
            "2               5                      1                       2   \n",
            "3               5                      1                       5   \n",
            "4               5                      1                       5   \n",
            "\n",
            "  param_n_estimators                                             params  \\\n",
            "0                 50  {'max_depth': 5, 'min_samples_leaf': 1, 'min_s...   \n",
            "1                100  {'max_depth': 5, 'min_samples_leaf': 1, 'min_s...   \n",
            "2                200  {'max_depth': 5, 'min_samples_leaf': 1, 'min_s...   \n",
            "3                 50  {'max_depth': 5, 'min_samples_leaf': 1, 'min_s...   \n",
            "4                100  {'max_depth': 5, 'min_samples_leaf': 1, 'min_s...   \n",
            "\n",
            "   split0_test_score  split1_test_score  split2_test_score  split3_test_score  \\\n",
            "0           0.836400           0.843859           0.848806           0.849635   \n",
            "1           0.837560           0.844190           0.849469           0.848309   \n",
            "2           0.837560           0.845848           0.850298           0.849635   \n",
            "3           0.836897           0.842533           0.848475           0.848309   \n",
            "4           0.837229           0.843196           0.848143           0.848972   \n",
            "\n",
            "   split4_test_score  mean_test_score  std_test_score  rank_test_score  \n",
            "0           0.849967         0.845733        0.005162               65  \n",
            "1           0.850630         0.846032        0.004760               58  \n",
            "2           0.848806         0.846430        0.004688               56  \n",
            "3           0.848972         0.845037        0.004702               76  \n",
            "4           0.847149         0.844938        0.004334               79  \n"
          ]
        }
      ]
    },
    {
      "cell_type": "markdown",
      "source": [
        "#### 434-11"
      ],
      "metadata": {
        "id": "-oQ0rQLYoAN6"
      }
    },
    {
      "cell_type": "code",
      "source": [
        "print(rf_cv.best_params_)"
      ],
      "metadata": {
        "colab": {
          "base_uri": "https://localhost:8080/"
        },
        "id": "a2fdcIY-SgkB",
        "outputId": "34fac957-7652-4d53-804a-95b368f809d0"
      },
      "execution_count": null,
      "outputs": [
        {
          "output_type": "stream",
          "name": "stdout",
          "text": [
            "{'max_depth': 15, 'min_samples_leaf': 1, 'min_samples_split': 2, 'n_estimators': 100}\n"
          ]
        }
      ]
    },
    {
      "cell_type": "markdown",
      "source": [
        "#### 434-12"
      ],
      "metadata": {
        "id": "rusEIrBkoH09"
      }
    },
    {
      "cell_type": "code",
      "source": [
        "model_rf2 = RandomForestClassifier(n_estimators=50\n",
        "                                   , max_depth=15\n",
        "                                   , min_samples_leaf=1\n",
        "                                   , min_samples_split=5)\n",
        "model_rf2.fit(X_tr, y_tr.values.ravel())\n",
        "\n",
        "y_pred_rf2 = model_rf2.predict_proba(X_val)\n",
        "score_rf2 = roc_auc_score(y_val, y_pred_rf2[:, 1])\n",
        "print(score_rf2)"
      ],
      "metadata": {
        "colab": {
          "base_uri": "https://localhost:8080/"
        },
        "id": "wbLhmq3UU3_L",
        "outputId": "bea4e196-9fb4-4f84-8759-ab269975bbf9"
      },
      "execution_count": null,
      "outputs": [
        {
          "output_type": "stream",
          "name": "stdout",
          "text": [
            "0.918862111614909\n"
          ]
        }
      ]
    },
    {
      "cell_type": "markdown",
      "source": [
        "#### 434-13"
      ],
      "metadata": {
        "id": "9x64R_RprDm8"
      }
    },
    {
      "cell_type": "code",
      "source": [
        "grid_params = {'max_depth': [3, 5, 7, 10], \n",
        "               'min_child_weight': [1, 2], \n",
        "               'colsample_bytree': [0.6, 0.8],\n",
        "               'subsample': [0.6, 0.8]}\n",
        "\n",
        "xgb_cv = GridSearchCV(estimator=model_xgb1, param_grid=grid_params, cv=5)\n",
        "xgb_cv.fit(X_tr, y_tr.values.ravel())"
      ],
      "metadata": {
        "id": "M9HBnmRSR7vz",
        "colab": {
          "base_uri": "https://localhost:8080/"
        },
        "outputId": "848a7b59-1926-4eb3-b954-972daff0d14a"
      },
      "execution_count": null,
      "outputs": [
        {
          "output_type": "execute_result",
          "data": {
            "text/plain": [
              "GridSearchCV(cv=5, estimator=XGBClassifier(),\n",
              "             param_grid={'colsample_bytree': [0.6, 0.8],\n",
              "                         'max_depth': [3, 5, 7, 10], 'min_child_weight': [1, 2],\n",
              "                         'subsample': [0.6, 0.8]})"
            ]
          },
          "metadata": {},
          "execution_count": 25
        }
      ]
    },
    {
      "cell_type": "markdown",
      "source": [
        "#### 434-14"
      ],
      "metadata": {
        "id": "7RWmy0h9rJmx"
      }
    },
    {
      "cell_type": "code",
      "source": [
        "print(xgb_cv.best_params_)"
      ],
      "metadata": {
        "colab": {
          "base_uri": "https://localhost:8080/"
        },
        "id": "bgr55h1LYPHQ",
        "outputId": "a0a0e115-8d8b-40e7-a6c5-ada7b9ae775c"
      },
      "execution_count": null,
      "outputs": [
        {
          "output_type": "stream",
          "name": "stdout",
          "text": [
            "{'colsample_bytree': 0.6, 'max_depth': 5, 'min_child_weight': 1, 'subsample': 0.8}\n"
          ]
        }
      ]
    },
    {
      "cell_type": "markdown",
      "source": [
        "#### 434-15"
      ],
      "metadata": {
        "id": "XSu_EWDarYqS"
      }
    },
    {
      "cell_type": "code",
      "source": [
        "params = {'colsample_bytree': 0.6,\n",
        "          'max_depth': 7,\n",
        "          'min_child_weight': 1,\n",
        "          'subsample': 0.8}\n",
        "\n",
        "model_xgb3 = XGBClassifier(n_estimators=1000, learning_rate=0.05)\n",
        "model_xgb3.set_params(**params)\n",
        "\n",
        "model_xgb3.fit(X_tr, y_tr, early_stopping_rounds=50, eval_metric='auc', eval_set=[(X_val, y_val)], verbose=10)\n",
        "\n",
        "print(model_xgb3.best_score)"
      ],
      "metadata": {
        "colab": {
          "base_uri": "https://localhost:8080/"
        },
        "id": "OqmjPUDFY4YQ",
        "outputId": "deab0c48-de1d-4b7d-b854-9d8a6eb8b53b"
      },
      "execution_count": null,
      "outputs": [
        {
          "output_type": "stream",
          "name": "stdout",
          "text": [
            "[0]\tvalidation_0-auc:0.890937\n",
            "Will train until validation_0-auc hasn't improved in 50 rounds.\n"
          ]
        },
        {
          "output_type": "stream",
          "name": "stderr",
          "text": [
            "/usr/local/lib/python3.7/dist-packages/sklearn/preprocessing/_label.py:98: DataConversionWarning: A column-vector y was passed when a 1d array was expected. Please change the shape of y to (n_samples, ), for example using ravel().\n",
            "  y = column_or_1d(y, warn=True)\n",
            "/usr/local/lib/python3.7/dist-packages/sklearn/preprocessing/_label.py:133: DataConversionWarning: A column-vector y was passed when a 1d array was expected. Please change the shape of y to (n_samples, ), for example using ravel().\n",
            "  y = column_or_1d(y, warn=True)\n"
          ]
        },
        {
          "output_type": "stream",
          "name": "stdout",
          "text": [
            "[10]\tvalidation_0-auc:0.917728\n",
            "[20]\tvalidation_0-auc:0.919912\n",
            "[30]\tvalidation_0-auc:0.921371\n",
            "[40]\tvalidation_0-auc:0.922533\n",
            "[50]\tvalidation_0-auc:0.924087\n",
            "[60]\tvalidation_0-auc:0.924851\n",
            "[70]\tvalidation_0-auc:0.925534\n",
            "[80]\tvalidation_0-auc:0.926237\n",
            "[90]\tvalidation_0-auc:0.926792\n",
            "[100]\tvalidation_0-auc:0.927761\n",
            "[110]\tvalidation_0-auc:0.928158\n",
            "[120]\tvalidation_0-auc:0.928386\n",
            "[130]\tvalidation_0-auc:0.928677\n",
            "[140]\tvalidation_0-auc:0.928807\n",
            "[150]\tvalidation_0-auc:0.929167\n",
            "[160]\tvalidation_0-auc:0.929355\n",
            "[170]\tvalidation_0-auc:0.929334\n",
            "[180]\tvalidation_0-auc:0.929423\n",
            "[190]\tvalidation_0-auc:0.92944\n",
            "[200]\tvalidation_0-auc:0.929578\n",
            "[210]\tvalidation_0-auc:0.929466\n",
            "[220]\tvalidation_0-auc:0.929527\n",
            "[230]\tvalidation_0-auc:0.929631\n",
            "[240]\tvalidation_0-auc:0.929555\n",
            "[250]\tvalidation_0-auc:0.929475\n",
            "[260]\tvalidation_0-auc:0.929258\n",
            "[270]\tvalidation_0-auc:0.929172\n",
            "[280]\tvalidation_0-auc:0.92909\n",
            "Stopping. Best iteration:\n",
            "[235]\tvalidation_0-auc:0.929703\n",
            "\n",
            "0.929703\n"
          ]
        }
      ]
    },
    {
      "cell_type": "markdown",
      "source": [
        "#### 434-16"
      ],
      "metadata": {
        "id": "PeTudFI8rg7B"
      }
    },
    {
      "cell_type": "code",
      "source": [
        "pred = model_xgb3.predict_proba(X_test)[:,1]\n",
        "pd.DataFrame({'index': X_test.index, 'target': pred}).to_csv('./yemoonsaBigdata/res/003000000.csv', index=False)"
      ],
      "metadata": {
        "id": "BENtk8cUeE-i"
      },
      "execution_count": null,
      "outputs": []
    }
  ]
}
