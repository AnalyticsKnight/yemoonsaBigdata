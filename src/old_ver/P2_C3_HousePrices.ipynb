{
  "nbformat": 4,
  "nbformat_minor": 0,
  "metadata": {
    "colab": {
      "name": "P2_C3_HousePrices.ipynb",
      "provenance": [],
      "collapsed_sections": [],
      "toc_visible": true,
      "include_colab_link": true
    },
    "kernelspec": {
      "name": "python3",
      "display_name": "Python 3"
    },
    "language_info": {
      "name": "python"
    }
  },
  "cells": [
    {
      "cell_type": "markdown",
      "metadata": {
        "id": "view-in-github",
        "colab_type": "text"
      },
      "source": [
        "<a href=\"https://colab.research.google.com/github/AnalyticsKnight/yemoonsaBigdata/blob/dev/src/P2_C3_HousePrices.ipynb\" target=\"_parent\"><img src=\"https://colab.research.google.com/assets/colab-badge.svg\" alt=\"Open In Colab\"/></a>"
      ]
    },
    {
      "cell_type": "markdown",
      "source": [
        "# **Chapter 3. 빅데이터 분석 실무**"
      ],
      "metadata": {
        "id": "Mnqjzvvg45sb"
      }
    },
    {
      "cell_type": "code",
      "source": [
        "!git clone https://github.com/AnalyticsKnight/yemoonsaBigdata/"
      ],
      "metadata": {
        "colab": {
          "base_uri": "https://localhost:8080/"
        },
        "id": "6Lo0htaU670E",
        "outputId": "05ac59e7-3c94-41c8-a76d-5d3c120a9e78"
      },
      "execution_count": 1,
      "outputs": [
        {
          "output_type": "stream",
          "name": "stdout",
          "text": [
            "Cloning into 'yemoonsaBigdata'...\n",
            "remote: Enumerating objects: 462, done.\u001b[K\n",
            "remote: Counting objects: 100% (99/99), done.\u001b[K\n",
            "remote: Compressing objects: 100% (56/56), done.\u001b[K\n",
            "remote: Total 462 (delta 59), reused 43 (delta 43), pack-reused 363\u001b[K\n",
            "Receiving objects: 100% (462/462), 8.40 MiB | 23.25 MiB/s, done.\n",
            "Resolving deltas: 100% (244/244), done.\n"
          ]
        }
      ]
    },
    {
      "cell_type": "markdown",
      "source": [
        "## 1. 데이터 수집"
      ],
      "metadata": {
        "id": "PgW49Yoc5K_e"
      }
    },
    {
      "cell_type": "markdown",
      "source": [
        "### (1) 사용 데이터"
      ],
      "metadata": {
        "id": "HX2uj7VD5LCB"
      }
    },
    {
      "cell_type": "markdown",
      "source": [
        "### (2) 데이터 로딩"
      ],
      "metadata": {
        "id": "SCAktQqO5WjJ"
      }
    },
    {
      "cell_type": "markdown",
      "source": [
        "#### 312-01 : csv파일 불러오기"
      ],
      "metadata": {
        "id": "c1pklssmiUBy"
      }
    },
    {
      "cell_type": "code",
      "source": [
        "import pandas as pd\n",
        "\n",
        "data = pd.read_csv(\"./yemoonsaBigdata/datasets/Part2/housing_data.csv\", header=None, sep=',') \n",
        "col_names = ['CRIM', 'ZN', 'INDUS', 'CHAS', 'NOX', 'RM', 'AGE', 'DIS', 'RAD', 'TAX', 'PTRATIO', 'B', 'LSTAT', 'MEDV', 'isHighValue']\n",
        "data.columns = col_names"
      ],
      "metadata": {
        "id": "k8nle4ioiDBD"
      },
      "execution_count": 2,
      "outputs": []
    },
    {
      "cell_type": "markdown",
      "source": [
        "#### 312-02 : head 함수"
      ],
      "metadata": {
        "id": "Sy7B0ZTKnbCY"
      }
    },
    {
      "cell_type": "code",
      "source": [
        "print(data.head())"
      ],
      "metadata": {
        "colab": {
          "base_uri": "https://localhost:8080/"
        },
        "id": "XOMk81njm3B6",
        "outputId": "bbe2b779-a894-44f3-89e0-13c8cb7fc3e4"
      },
      "execution_count": 3,
      "outputs": [
        {
          "output_type": "stream",
          "name": "stdout",
          "text": [
            "      CRIM    ZN  INDUS  CHAS    NOX     RM   AGE     DIS  RAD    TAX  \\\n",
            "0  0.00632  18.0   2.31     0  0.538  6.575  65.2  4.0900    1  296.0   \n",
            "1  0.02731   0.0   7.07     0  0.469  6.421  78.9  4.9671    2  242.0   \n",
            "2  0.02729   0.0   7.07     0  0.469  7.185  61.1  4.9671    2  242.0   \n",
            "3  0.03237   0.0   2.18     0  0.458  6.998  45.8  6.0622    3  222.0   \n",
            "4  0.06905   0.0   2.18     0  0.458  7.147  54.2  6.0622    3  222.0   \n",
            "\n",
            "   PTRATIO       B  LSTAT  MEDV  isHighValue  \n",
            "0     15.3  396.90   4.98  24.0            0  \n",
            "1     17.8  396.90   9.14  21.6            0  \n",
            "2     17.8  392.83   4.03  34.7            1  \n",
            "3     18.7  394.63   2.94  33.4            1  \n",
            "4     18.7  396.90   5.33  36.2            1  \n"
          ]
        }
      ]
    },
    {
      "cell_type": "markdown",
      "source": [
        "## 2. 데이터 전처리"
      ],
      "metadata": {
        "id": "eFPW86elMQqf"
      }
    },
    {
      "cell_type": "markdown",
      "source": [
        "### (1) 데이터 확인"
      ],
      "metadata": {
        "id": "BWc3kBS-MQqf"
      }
    },
    {
      "cell_type": "markdown",
      "source": [
        "#### 321-01 : shape 함수"
      ],
      "metadata": {
        "id": "gOV7YkJAa6Hq"
      }
    },
    {
      "cell_type": "code",
      "source": [
        "print(data.shape)"
      ],
      "metadata": {
        "colab": {
          "base_uri": "https://localhost:8080/"
        },
        "id": "rcvWyf8_jPMh",
        "outputId": "0e51107e-036d-4593-bfa5-10747100dabe"
      },
      "execution_count": 4,
      "outputs": [
        {
          "output_type": "stream",
          "name": "stdout",
          "text": [
            "(526, 15)\n"
          ]
        }
      ]
    },
    {
      "cell_type": "markdown",
      "source": [
        "#### 321-02 : info 함수"
      ],
      "metadata": {
        "id": "uVpfgaUjoWvw"
      }
    },
    {
      "cell_type": "code",
      "source": [
        "print(data.info())"
      ],
      "metadata": {
        "colab": {
          "base_uri": "https://localhost:8080/"
        },
        "id": "Mh4UM1FVoYq3",
        "outputId": "c472aea0-de37-453d-8f1a-a421f14b2b07"
      },
      "execution_count": 5,
      "outputs": [
        {
          "output_type": "stream",
          "name": "stdout",
          "text": [
            "<class 'pandas.core.frame.DataFrame'>\n",
            "RangeIndex: 526 entries, 0 to 525\n",
            "Data columns (total 15 columns):\n",
            " #   Column       Non-Null Count  Dtype  \n",
            "---  ------       --------------  -----  \n",
            " 0   CRIM         506 non-null    float64\n",
            " 1   ZN           526 non-null    float64\n",
            " 2   INDUS        526 non-null    float64\n",
            " 3   CHAS         526 non-null    int64  \n",
            " 4   NOX          526 non-null    float64\n",
            " 5   RM           526 non-null    float64\n",
            " 6   AGE          526 non-null    float64\n",
            " 7   DIS          526 non-null    float64\n",
            " 8   RAD          526 non-null    int64  \n",
            " 9   TAX          526 non-null    float64\n",
            " 10  PTRATIO      526 non-null    float64\n",
            " 11  B            526 non-null    float64\n",
            " 12  LSTAT        526 non-null    float64\n",
            " 13  MEDV         526 non-null    float64\n",
            " 14  isHighValue  526 non-null    int64  \n",
            "dtypes: float64(12), int64(3)\n",
            "memory usage: 61.8 KB\n",
            "None\n"
          ]
        }
      ]
    },
    {
      "cell_type": "markdown",
      "source": [
        "#### 321-03 : describe 함수"
      ],
      "metadata": {
        "id": "N5GnUYRym49E"
      }
    },
    {
      "cell_type": "code",
      "source": [
        "print(data.describe())"
      ],
      "metadata": {
        "colab": {
          "base_uri": "https://localhost:8080/"
        },
        "id": "e8a1XycOxOYc",
        "outputId": "dd90faf0-3b89-4438-8146-40ed1cccd00b"
      },
      "execution_count": 6,
      "outputs": [
        {
          "output_type": "stream",
          "name": "stdout",
          "text": [
            "             CRIM          ZN       INDUS        CHAS         NOX          RM  \\\n",
            "count  506.000000  526.000000  526.000000  526.000000  526.000000  526.000000   \n",
            "mean     3.613524   10.931559   11.306616    0.066540    0.555954    6.271076   \n",
            "std      8.601545   22.977112    6.934739    0.249461    0.113854    0.698140   \n",
            "min      0.006320    0.000000    0.460000    0.000000    0.385000    3.561000   \n",
            "25%      0.082045    0.000000    5.190000    0.000000    0.453000    5.879250   \n",
            "50%      0.256510    0.000000    9.690000    0.000000    0.538000    6.183500   \n",
            "75%      3.677083   12.500000   18.100000    0.000000    0.624000    6.613500   \n",
            "max     88.976200  100.000000   27.740000    1.000000    0.871000    8.780000   \n",
            "\n",
            "              AGE         DIS         RAD         TAX     PTRATIO           B  \\\n",
            "count  526.000000  526.000000  526.000000  526.000000  526.000000  526.000000   \n",
            "mean    68.816540    3.742880    9.416350  410.547529   18.513308  357.888099   \n",
            "std     27.868375    2.083661    8.653743  169.180818    2.147684   89.829808   \n",
            "min      2.900000    1.129600    1.000000  187.000000   12.600000    0.320000   \n",
            "25%     45.625000    2.101425    4.000000  279.000000   17.400000  376.057500   \n",
            "50%     77.500000    3.095750    5.000000  334.500000   19.100000  391.955000   \n",
            "75%     93.900000    5.112625   24.000000  666.000000   20.200000  396.397500   \n",
            "max    100.000000   12.126500   24.000000  711.000000   22.000000  396.900000   \n",
            "\n",
            "            LSTAT        MEDV  isHighValue  \n",
            "count  526.000000  526.000000   526.000000  \n",
            "mean    12.721578   22.374525     0.250951  \n",
            "std      7.101213    9.104400     0.433973  \n",
            "min      1.730000    5.000000     0.000000  \n",
            "25%      7.150000   16.850000     0.000000  \n",
            "50%     11.490000   21.100000     0.000000  \n",
            "75%     17.057500   24.950000     0.750000  \n",
            "max     37.970000   50.000000     1.000000  \n"
          ]
        }
      ]
    },
    {
      "cell_type": "markdown",
      "source": [
        "### (2) 결측치 처리"
      ],
      "metadata": {
        "id": "DyosRdP7MYOo"
      }
    },
    {
      "cell_type": "markdown",
      "source": [
        "#### 322-01 : 결측치 개수 확인"
      ],
      "metadata": {
        "id": "rKlhyaKtdfSj"
      }
    },
    {
      "cell_type": "code",
      "source": [
        "print(data.isnull().sum())"
      ],
      "metadata": {
        "id": "PsCMZA9ha3hp",
        "colab": {
          "base_uri": "https://localhost:8080/"
        },
        "outputId": "bc6dc03e-4347-49a5-eea3-7e256424eb6d"
      },
      "execution_count": 7,
      "outputs": [
        {
          "output_type": "stream",
          "name": "stdout",
          "text": [
            "CRIM           20\n",
            "ZN              0\n",
            "INDUS           0\n",
            "CHAS            0\n",
            "NOX             0\n",
            "RM              0\n",
            "AGE             0\n",
            "DIS             0\n",
            "RAD             0\n",
            "TAX             0\n",
            "PTRATIO         0\n",
            "B               0\n",
            "LSTAT           0\n",
            "MEDV            0\n",
            "isHighValue     0\n",
            "dtype: int64\n"
          ]
        }
      ]
    },
    {
      "cell_type": "markdown",
      "source": [
        "#### 322-02 : 결측치 비율 확인"
      ],
      "metadata": {
        "id": "ckbEfjcbdlpQ"
      }
    },
    {
      "cell_type": "code",
      "source": [
        "print(data.isnull().sum()/data.shape[0])"
      ],
      "metadata": {
        "colab": {
          "base_uri": "https://localhost:8080/"
        },
        "id": "EM5PDfaUdjrU",
        "outputId": "307e5a27-cbd1-41a6-b37a-cd7e9e31d7d9"
      },
      "execution_count": 8,
      "outputs": [
        {
          "output_type": "stream",
          "name": "stdout",
          "text": [
            "CRIM           0.038023\n",
            "ZN             0.000000\n",
            "INDUS          0.000000\n",
            "CHAS           0.000000\n",
            "NOX            0.000000\n",
            "RM             0.000000\n",
            "AGE            0.000000\n",
            "DIS            0.000000\n",
            "RAD            0.000000\n",
            "TAX            0.000000\n",
            "PTRATIO        0.000000\n",
            "B              0.000000\n",
            "LSTAT          0.000000\n",
            "MEDV           0.000000\n",
            "isHighValue    0.000000\n",
            "dtype: float64\n"
          ]
        }
      ]
    },
    {
      "cell_type": "markdown",
      "source": [
        "#### 322-03 : 결측치 대체 (중앙값)"
      ],
      "metadata": {
        "id": "8shgEduedwQW"
      }
    },
    {
      "cell_type": "code",
      "source": [
        "data1 = data.copy()\n",
        "med_val = data['CRIM'].median()\n",
        "data1['CRIM'] = data1['CRIM'].fillna(med_val)"
      ],
      "metadata": {
        "id": "Qlj3SoYTdpkb"
      },
      "execution_count": 9,
      "outputs": []
    },
    {
      "cell_type": "markdown",
      "source": [
        "#### 322-04 : 결측치 제거"
      ],
      "metadata": {
        "id": "vyhHuw4sgC3y"
      }
    },
    {
      "cell_type": "code",
      "source": [
        "data = data.loc[data['CRIM'].notnull(), ]\n",
        "print(data.describe())"
      ],
      "metadata": {
        "colab": {
          "base_uri": "https://localhost:8080/"
        },
        "id": "G7tAkyKJfD39",
        "outputId": "f59fa245-9b3f-4ce1-d206-5b7e25e823d0"
      },
      "execution_count": 10,
      "outputs": [
        {
          "output_type": "stream",
          "name": "stdout",
          "text": [
            "             CRIM          ZN       INDUS        CHAS         NOX          RM  \\\n",
            "count  506.000000  506.000000  506.000000  506.000000  506.000000  506.000000   \n",
            "mean     3.613524   11.363636   11.136779    0.069170    0.554695    6.284634   \n",
            "std      8.601545   23.322453    6.860353    0.253994    0.115878    0.702617   \n",
            "min      0.006320    0.000000    0.460000    0.000000    0.385000    3.561000   \n",
            "25%      0.082045    0.000000    5.190000    0.000000    0.449000    5.885500   \n",
            "50%      0.256510    0.000000    9.690000    0.000000    0.538000    6.208500   \n",
            "75%      3.677083   12.500000   18.100000    0.000000    0.624000    6.623500   \n",
            "max     88.976200  100.000000   27.740000    1.000000    0.871000    8.780000   \n",
            "\n",
            "              AGE         DIS         RAD         TAX     PTRATIO           B  \\\n",
            "count  506.000000  506.000000  506.000000  506.000000  506.000000  506.000000   \n",
            "mean    68.574901    3.795043    9.549407  408.237154   18.455534  356.674032   \n",
            "std     28.148861    2.105710    8.707259  168.537116    2.164946   91.294864   \n",
            "min      2.900000    1.129600    1.000000  187.000000   12.600000    0.320000   \n",
            "25%     45.025000    2.100175    4.000000  279.000000   17.400000  375.377500   \n",
            "50%     77.500000    3.207450    5.000000  330.000000   19.050000  391.440000   \n",
            "75%     94.075000    5.188425   24.000000  666.000000   20.200000  396.225000   \n",
            "max    100.000000   12.126500   24.000000  711.000000   22.000000  396.900000   \n",
            "\n",
            "            LSTAT        MEDV  isHighValue  \n",
            "count  506.000000  506.000000   506.000000  \n",
            "mean    12.653063   22.532806     0.260870  \n",
            "std      7.141062    9.197104     0.439543  \n",
            "min      1.730000    5.000000     0.000000  \n",
            "25%      6.950000   17.025000     0.000000  \n",
            "50%     11.360000   21.200000     0.000000  \n",
            "75%     16.955000   25.000000     1.000000  \n",
            "max     37.970000   50.000000     1.000000  \n"
          ]
        }
      ]
    },
    {
      "cell_type": "markdown",
      "source": [
        "### (3) 이상치 처리"
      ],
      "metadata": {
        "id": "oscNbqsSMd5Y"
      }
    },
    {
      "cell_type": "markdown",
      "source": [
        "#### 323-01 : MEDV변수 박스 플롯"
      ],
      "metadata": {
        "id": "TcVKSZLnpeeW"
      }
    },
    {
      "cell_type": "code",
      "source": [
        "import seaborn as sns\n",
        "\n",
        "sns.boxplot(data['MEDV'])"
      ],
      "metadata": {
        "colab": {
          "base_uri": "https://localhost:8080/",
          "height": 354
        },
        "id": "pqG3eKM7pddB",
        "outputId": "6cf2be4d-8bab-4670-a3e4-e43cf4acc133"
      },
      "execution_count": 11,
      "outputs": [
        {
          "output_type": "stream",
          "name": "stderr",
          "text": [
            "/usr/local/lib/python3.7/dist-packages/seaborn/_decorators.py:43: FutureWarning: Pass the following variable as a keyword arg: x. From version 0.12, the only valid positional argument will be `data`, and passing other arguments without an explicit keyword will result in an error or misinterpretation.\n",
            "  FutureWarning\n"
          ]
        },
        {
          "output_type": "execute_result",
          "data": {
            "text/plain": [
              "<matplotlib.axes._subplots.AxesSubplot at 0x7f12fa3e7cd0>"
            ]
          },
          "metadata": {},
          "execution_count": 11
        },
        {
          "output_type": "display_data",
          "data": {
            "text/plain": [
              "<Figure size 432x288 with 1 Axes>"
            ],
            "image/png": "[encoded data removed]"
          },
          "metadata": {
            "needs_background": "light"
          }
        }
      ]
    },
    {
      "cell_type": "markdown",
      "source": [
        "#### 323-02 : IQR값 기준 이상치"
      ],
      "metadata": {
        "id": "JOQmZ-JzrEDU"
      }
    },
    {
      "cell_type": "code",
      "source": [
        "Q1, Q3 = data['MEDV'].quantile([0.25, 0.75])\n",
        "IQR = Q3-Q1\n",
        "upper_bound = Q3 + 1.5*IQR\n",
        "lower_bound = Q1 - 1.5*IQR\n",
        "\n",
        "print('outlier 범위: %.2f 초과 또는 %.2f 미만' % (upper_bound, lower_bound)) \n",
        "print('outlier 개수: %.0f' % len(data[(data['MEDV']>upper_bound)|(data['MEDV']<lower_bound)]))\n",
        "print('outlier 비율: %.2f' % (len(data[(data['MEDV']>upper_bound)|(data['MEDV']<lower_bound)])/len(data)))        "
      ],
      "metadata": {
        "colab": {
          "base_uri": "https://localhost:8080/"
        },
        "id": "ymyjZbvOdzKM",
        "outputId": "fa0f928f-b0bb-4160-f7ef-cd4abfeea543"
      },
      "execution_count": 12,
      "outputs": [
        {
          "output_type": "stream",
          "name": "stdout",
          "text": [
            "outlier 범위: 36.96 초과 또는 5.06 미만\n",
            "outlier 개수: 40\n",
            "outlier 비율: 0.08\n"
          ]
        }
      ]
    },
    {
      "cell_type": "markdown",
      "source": [
        "#### 323-03 : IQR값 기준 이상치 함수화"
      ],
      "metadata": {
        "id": "aPPZc4nGxQok"
      }
    },
    {
      "cell_type": "code",
      "source": [
        "def get_outlier_prop(x):\n",
        "\n",
        "  Q1, Q3 = x.quantile([0.25, 0.75])\n",
        "  IQR = Q3-Q1\n",
        "  upper_bound = Q3 + 1.5*IQR\n",
        "  lower_bound = Q1 - 1.5*IQR\n",
        "  outliers = x[(x>upper_bound)|(x<lower_bound)]\n",
        "\n",
        "  return str(round(100*len(outliers)/len(x), 1))+'%'\n",
        "\n",
        "print(data.apply(get_outlier_prop))"
      ],
      "metadata": {
        "colab": {
          "base_uri": "https://localhost:8080/"
        },
        "id": "zb_9Omp8rQFz",
        "outputId": "f45ee1a7-e51f-498b-a1fa-a7b2eff9cfc3"
      },
      "execution_count": 13,
      "outputs": [
        {
          "output_type": "stream",
          "name": "stdout",
          "text": [
            "CRIM           13.0%\n",
            "ZN             13.4%\n",
            "INDUS           0.0%\n",
            "CHAS            6.9%\n",
            "NOX             0.0%\n",
            "RM              5.9%\n",
            "AGE             0.0%\n",
            "DIS             1.0%\n",
            "RAD             0.0%\n",
            "TAX             0.0%\n",
            "PTRATIO         3.0%\n",
            "B              15.2%\n",
            "LSTAT           1.4%\n",
            "MEDV            7.9%\n",
            "isHighValue     0.0%\n",
            "dtype: object\n"
          ]
        }
      ]
    },
    {
      "cell_type": "markdown",
      "source": [
        "#### 323-04 : 이상치 제거 예시1"
      ],
      "metadata": {
        "id": "wukxdQyw2gB5"
      }
    },
    {
      "cell_type": "code",
      "source": [
        "# 예시1) IQR 값 기준으로 MEDV 변수의 이상치를 제거\n",
        "Q1, Q3 = data['MEDV'].quantile([0.25, 0.75])\n",
        "IQR = Q3-Q1\n",
        "upper_bound = Q3 + 1.5*IQR\n",
        "lower_bound = Q1 - 1.5*IQR\n",
        "\n",
        "data1 = data[(data['MEDV']<=upper_bound)&(data['MEDV']>=lower_bound)]\n",
        "print(data1.shape)"
      ],
      "metadata": {
        "colab": {
          "base_uri": "https://localhost:8080/"
        },
        "id": "yIepJAZTwrWR",
        "outputId": "5e874768-b9cf-440f-c19d-0700a6134f80"
      },
      "execution_count": 14,
      "outputs": [
        {
          "output_type": "stream",
          "name": "stdout",
          "text": [
            "(466, 15)\n"
          ]
        }
      ]
    },
    {
      "cell_type": "markdown",
      "source": [
        "#### 323-05 :  이상치 제거 예시2"
      ],
      "metadata": {
        "id": "LLm9r1t3200A"
      }
    },
    {
      "cell_type": "code",
      "source": [
        "# 예시2) MEDV 변수 값이 45 이상인 경우를 이상치로 보고 제거\n",
        "data2 = data[~(data['MEDV']>=45)]\n",
        "print(data2.shape)"
      ],
      "metadata": {
        "colab": {
          "base_uri": "https://localhost:8080/"
        },
        "id": "L9m4BO1P2X7F",
        "outputId": "c0d4e62d-d664-427b-d865-c3a0ad704d82"
      },
      "execution_count": 15,
      "outputs": [
        {
          "output_type": "stream",
          "name": "stdout",
          "text": [
            "(484, 15)\n"
          ]
        }
      ]
    },
    {
      "cell_type": "markdown",
      "source": [
        "### (4) 변수 변환"
      ],
      "metadata": {
        "id": "WJnhBTEqMnSo"
      }
    },
    {
      "cell_type": "markdown",
      "source": [
        "#### 324-01 : 변수 분포 확인"
      ],
      "metadata": {
        "id": "crvgGxAD-Ufk"
      }
    },
    {
      "cell_type": "code",
      "source": [
        "import matplotlib.pyplot as plt\n",
        "import seaborn as sns\n",
        "\n",
        "cols = data.columns\n",
        "\n",
        "fig, axs = plt.subplots(ncols=5, nrows=3, figsize=(20, 10))\n",
        "idx = 0\n",
        "for _row in range(3):\n",
        "  for _col in range(5):\n",
        "    if idx < len(cols):\n",
        "      sns.distplot(data[cols[idx]], ax=axs[_row][_col])\n",
        "      idx+=1\n",
        "\n",
        "plt.tight_layout()\n"
      ],
      "metadata": {
        "colab": {
          "base_uri": "https://localhost:8080/",
          "height": 1000
        },
        "id": "rIc6iWXX2wUU",
        "outputId": "6b406f01-10c4-44b1-da6f-51ea27ba151d"
      },
      "execution_count": 16,
      "outputs": [
        {
          "output_type": "stream",
          "name": "stderr",
          "text": [
            "/usr/local/lib/python3.7/dist-packages/seaborn/distributions.py:2619: FutureWarning: `distplot` is a deprecated function and will be removed in a future version. Please adapt your code to use either `displot` (a figure-level function with similar flexibility) or `histplot` (an axes-level function for histograms).\n",
            "  warnings.warn(msg, FutureWarning)\n",
            "/usr/local/lib/python3.7/dist-packages/seaborn/distributions.py:2619: FutureWarning: `distplot` is a deprecated function and will be removed in a future version. Please adapt your code to use either `displot` (a figure-level function with similar flexibility) or `histplot` (an axes-level function for histograms).\n",
            "  warnings.warn(msg, FutureWarning)\n",
            "/usr/local/lib/python3.7/dist-packages/seaborn/distributions.py:2619: FutureWarning: `distplot` is a deprecated function and will be removed in a future version. Please adapt your code to use either `displot` (a figure-level function with similar flexibility) or `histplot` (an axes-level function for histograms).\n",
            "  warnings.warn(msg, FutureWarning)\n",
            "/usr/local/lib/python3.7/dist-packages/seaborn/distributions.py:2619: FutureWarning: `distplot` is a deprecated function and will be removed in a future version. Please adapt your code to use either `displot` (a figure-level function with similar flexibility) or `histplot` (an axes-level function for histograms).\n",
            "  warnings.warn(msg, FutureWarning)\n",
            "/usr/local/lib/python3.7/dist-packages/seaborn/distributions.py:2619: FutureWarning: `distplot` is a deprecated function and will be removed in a future version. Please adapt your code to use either `displot` (a figure-level function with similar flexibility) or `histplot` (an axes-level function for histograms).\n",
            "  warnings.warn(msg, FutureWarning)\n",
            "/usr/local/lib/python3.7/dist-packages/seaborn/distributions.py:2619: FutureWarning: `distplot` is a deprecated function and will be removed in a future version. Please adapt your code to use either `displot` (a figure-level function with similar flexibility) or `histplot` (an axes-level function for histograms).\n",
            "  warnings.warn(msg, FutureWarning)\n",
            "/usr/local/lib/python3.7/dist-packages/seaborn/distributions.py:2619: FutureWarning: `distplot` is a deprecated function and will be removed in a future version. Please adapt your code to use either `displot` (a figure-level function with similar flexibility) or `histplot` (an axes-level function for histograms).\n",
            "  warnings.warn(msg, FutureWarning)\n",
            "/usr/local/lib/python3.7/dist-packages/seaborn/distributions.py:2619: FutureWarning: `distplot` is a deprecated function and will be removed in a future version. Please adapt your code to use either `displot` (a figure-level function with similar flexibility) or `histplot` (an axes-level function for histograms).\n",
            "  warnings.warn(msg, FutureWarning)\n",
            "/usr/local/lib/python3.7/dist-packages/seaborn/distributions.py:2619: FutureWarning: `distplot` is a deprecated function and will be removed in a future version. Please adapt your code to use either `displot` (a figure-level function with similar flexibility) or `histplot` (an axes-level function for histograms).\n",
            "  warnings.warn(msg, FutureWarning)\n",
            "/usr/local/lib/python3.7/dist-packages/seaborn/distributions.py:2619: FutureWarning: `distplot` is a deprecated function and will be removed in a future version. Please adapt your code to use either `displot` (a figure-level function with similar flexibility) or `histplot` (an axes-level function for histograms).\n",
            "  warnings.warn(msg, FutureWarning)\n",
            "/usr/local/lib/python3.7/dist-packages/seaborn/distributions.py:2619: FutureWarning: `distplot` is a deprecated function and will be removed in a future version. Please adapt your code to use either `displot` (a figure-level function with similar flexibility) or `histplot` (an axes-level function for histograms).\n",
            "  warnings.warn(msg, FutureWarning)\n",
            "/usr/local/lib/python3.7/dist-packages/seaborn/distributions.py:2619: FutureWarning: `distplot` is a deprecated function and will be removed in a future version. Please adapt your code to use either `displot` (a figure-level function with similar flexibility) or `histplot` (an axes-level function for histograms).\n",
            "  warnings.warn(msg, FutureWarning)\n",
            "/usr/local/lib/python3.7/dist-packages/seaborn/distributions.py:2619: FutureWarning: `distplot` is a deprecated function and will be removed in a future version. Please adapt your code to use either `displot` (a figure-level function with similar flexibility) or `histplot` (an axes-level function for histograms).\n",
            "  warnings.warn(msg, FutureWarning)\n",
            "/usr/local/lib/python3.7/dist-packages/seaborn/distributions.py:2619: FutureWarning: `distplot` is a deprecated function and will be removed in a future version. Please adapt your code to use either `displot` (a figure-level function with similar flexibility) or `histplot` (an axes-level function for histograms).\n",
            "  warnings.warn(msg, FutureWarning)\n",
            "/usr/local/lib/python3.7/dist-packages/seaborn/distributions.py:2619: FutureWarning: `distplot` is a deprecated function and will be removed in a future version. Please adapt your code to use either `displot` (a figure-level function with similar flexibility) or `histplot` (an axes-level function for histograms).\n",
            "  warnings.warn(msg, FutureWarning)\n"
          ]
        },
        {
          "output_type": "display_data",
          "data": {
            "text/plain": [
              "<Figure size 1440x720 with 15 Axes>"
            ],
            "image/png": "[encoded data removed]"
          },
          "metadata": {
            "needs_background": "light"
          }
        }
      ]
    },
    {
      "cell_type": "markdown",
      "source": [
        "#### 324-02 : 변수 왜도 확인"
      ],
      "metadata": {
        "id": "VqtIyN_lDSyk"
      }
    },
    {
      "cell_type": "code",
      "source": [
        "print(data.apply(lambda x: x.skew(), axis=0))"
      ],
      "metadata": {
        "colab": {
          "base_uri": "https://localhost:8080/"
        },
        "id": "C9oyBSPAAgtg",
        "outputId": "89487a45-6c89-48a9-89b5-51068bad4763"
      },
      "execution_count": null,
      "outputs": [
        {
          "output_type": "stream",
          "name": "stdout",
          "text": [
            "CRIM           5.223149\n",
            "ZN             2.225666\n",
            "INDUS          0.295022\n",
            "CHAS           3.405904\n",
            "NOX            0.729308\n",
            "RM             0.403612\n",
            "AGE           -0.598963\n",
            "DIS            1.011781\n",
            "RAD            1.004815\n",
            "TAX            0.669956\n",
            "PTRATIO       -0.802325\n",
            "B             -2.890374\n",
            "LSTAT          0.906460\n",
            "MEDV           1.108098\n",
            "isHighValue    1.092403\n",
            "dtype: float64\n"
          ]
        }
      ]
    },
    {
      "cell_type": "markdown",
      "source": [
        "#### 324-03 : 로그 변환"
      ],
      "metadata": {
        "id": "MENUxATtRJho"
      }
    },
    {
      "cell_type": "code",
      "source": [
        "import numpy as np\n",
        "\n",
        "data['CRIM'] = np.log1p(data['CRIM'])\n",
        "print(data['CRIM'].skew())"
      ],
      "metadata": {
        "colab": {
          "base_uri": "https://localhost:8080/"
        },
        "id": "PB3meLF4Dv4m",
        "outputId": "c38b0f7f-48bc-4bfe-890c-e53710084314"
      },
      "execution_count": 17,
      "outputs": [
        {
          "output_type": "stream",
          "name": "stdout",
          "text": [
            "1.2692005882725572\n"
          ]
        }
      ]
    },
    {
      "cell_type": "markdown",
      "source": [
        "## 3. 회귀 모델링"
      ],
      "metadata": {
        "id": "EzGZP144Mt-n"
      }
    },
    {
      "cell_type": "markdown",
      "source": [
        "### (1) 데이터 탐색"
      ],
      "metadata": {
        "id": "qrHjQVewMt-n"
      }
    },
    {
      "cell_type": "markdown",
      "source": [
        "#### 331-01 : 데이터 생성"
      ],
      "metadata": {
        "id": "-RDlEdndaiBJ"
      }
    },
    {
      "cell_type": "code",
      "source": [
        "df_r = data.drop(['isHighValue'], axis=1) "
      ],
      "metadata": {
        "id": "61XabISRdUdr"
      },
      "execution_count": 18,
      "outputs": []
    },
    {
      "cell_type": "markdown",
      "source": [
        "#### 331-02 : 변수 상관관계 확인 "
      ],
      "metadata": {
        "id": "TdtqF5d4RMPJ"
      }
    },
    {
      "cell_type": "code",
      "source": [
        "cols = ['MEDV', 'LSTAT', 'RM', 'CHAS', 'RAD', 'TAX']\n",
        "print(df_r[cols].corr())"
      ],
      "metadata": {
        "colab": {
          "base_uri": "https://localhost:8080/"
        },
        "id": "5J-g5Kqug3dG",
        "outputId": "f070b91b-0fd5-4d21-fd8f-b7207d239890"
      },
      "execution_count": 19,
      "outputs": [
        {
          "output_type": "stream",
          "name": "stdout",
          "text": [
            "           MEDV     LSTAT        RM      CHAS       RAD       TAX\n",
            "MEDV   1.000000 -0.737663  0.695360  0.175260 -0.381626 -0.468536\n",
            "LSTAT -0.737663  1.000000 -0.613808 -0.053929  0.488676  0.543993\n",
            "RM     0.695360 -0.613808  1.000000  0.091251 -0.209847 -0.292048\n",
            "CHAS   0.175260 -0.053929  0.091251  1.000000 -0.007368 -0.035587\n",
            "RAD   -0.381626  0.488676 -0.209847 -0.007368  1.000000  0.910228\n",
            "TAX   -0.468536  0.543993 -0.292048 -0.035587  0.910228  1.000000\n"
          ]
        }
      ]
    },
    {
      "cell_type": "markdown",
      "source": [
        "### (2) 분석 모형 구축"
      ],
      "metadata": {
        "id": "r-2DugsdM98v"
      }
    },
    {
      "cell_type": "markdown",
      "source": [
        "#### 332-01 : 데이터 분할"
      ],
      "metadata": {
        "id": "W5D0xAT_Hug4"
      }
    },
    {
      "cell_type": "code",
      "source": [
        "from sklearn.model_selection import train_test_split \n",
        "\n",
        "X_cols = ['LSTAT', 'PTRATIO', 'TAX', 'AGE', 'NOX', 'INDUS', 'CRIM']\n",
        "\n",
        "X = df_r[X_cols].values \n",
        "y = df_r['MEDV'].values\n",
        "\n",
        "X_train_r, X_test_r, y_train_r, y_test_r = train_test_split(X, y, test_size=0.3, random_state=123)"
      ],
      "metadata": {
        "id": "vMI2Tax3F0hm"
      },
      "execution_count": 20,
      "outputs": []
    },
    {
      "cell_type": "markdown",
      "source": [
        "#### 332-02 : 데이터 스케일링"
      ],
      "metadata": {
        "id": "dvimmN8xbLZs"
      }
    },
    {
      "cell_type": "code",
      "source": [
        "from sklearn.preprocessing import MinMaxScaler\n",
        "\n",
        "scaler = MinMaxScaler()\n",
        "\n",
        "X_train_r_scaled = scaler.fit_transform(X_train_r) \n",
        "X_test_r_scaled = scaler.transform(X_test_r)"
      ],
      "metadata": {
        "id": "jqwwRPFERGsY"
      },
      "execution_count": 21,
      "outputs": []
    },
    {
      "cell_type": "markdown",
      "source": [
        "#### 332-03 : 선형 회귀 학습"
      ],
      "metadata": {
        "id": "tbBM9xQ4cZh1"
      }
    },
    {
      "cell_type": "code",
      "source": [
        "from sklearn.linear_model import LinearRegression\n",
        "\n",
        "model_lr = LinearRegression()\n",
        "model_lr.fit(X_train_r_scaled, y_train_r)"
      ],
      "metadata": {
        "colab": {
          "base_uri": "https://localhost:8080/"
        },
        "id": "an6-3FqSYgFj",
        "outputId": "18036b07-5616-4da0-bb1d-e404948b3aea"
      },
      "execution_count": 22,
      "outputs": [
        {
          "output_type": "execute_result",
          "data": {
            "text/plain": [
              "LinearRegression()"
            ]
          },
          "metadata": {},
          "execution_count": 22
        }
      ]
    },
    {
      "cell_type": "markdown",
      "source": [
        "#### 332-04 : coef_"
      ],
      "metadata": {
        "id": "zpKyxe12iIFX"
      }
    },
    {
      "cell_type": "code",
      "source": [
        "print(model_lr.coef_)"
      ],
      "metadata": {
        "colab": {
          "base_uri": "https://localhost:8080/"
        },
        "id": "f5K91WERiBYK",
        "outputId": "b7f60ddd-d56f-4d35-c161-7840bb64266c"
      },
      "execution_count": 23,
      "outputs": [
        {
          "output_type": "stream",
          "name": "stdout",
          "text": [
            "[-32.51042803 -11.94191767  -3.84240793   5.58034429  -4.34593586\n",
            "   0.98706819   6.83941179]\n"
          ]
        }
      ]
    },
    {
      "cell_type": "markdown",
      "source": [
        "#### 332-05 : intercept_"
      ],
      "metadata": {
        "id": "dicCNMPHoAfW"
      }
    },
    {
      "cell_type": "code",
      "source": [
        "print(model_lr.intercept_)"
      ],
      "metadata": {
        "colab": {
          "base_uri": "https://localhost:8080/"
        },
        "id": "nVTqw-mAoCNh",
        "outputId": "8bcfc686-556d-4a76-cf4a-f411eb6c25fc"
      },
      "execution_count": 24,
      "outputs": [
        {
          "output_type": "stream",
          "name": "stdout",
          "text": [
            "38.03006298623824\n"
          ]
        }
      ]
    },
    {
      "cell_type": "markdown",
      "source": [
        "#### 332-06 : SVM 학습"
      ],
      "metadata": {
        "id": "BTv_llbsdVAY"
      }
    },
    {
      "cell_type": "code",
      "source": [
        "from sklearn.svm import SVR\n",
        "\n",
        "model_svr = SVR()\n",
        "model_svr.fit(X_train_r_scaled, y_train_r)"
      ],
      "metadata": {
        "colab": {
          "base_uri": "https://localhost:8080/"
        },
        "id": "DyML-CtMdS91",
        "outputId": "0aceb674-9963-4123-d155-e65d2dbf964c"
      },
      "execution_count": 25,
      "outputs": [
        {
          "output_type": "execute_result",
          "data": {
            "text/plain": [
              "SVR()"
            ]
          },
          "metadata": {},
          "execution_count": 25
        }
      ]
    },
    {
      "cell_type": "markdown",
      "source": [
        "#### 332-07 : 랜덤 포레스트 학습"
      ],
      "metadata": {
        "id": "OHMVnXlKfaly"
      }
    },
    {
      "cell_type": "code",
      "source": [
        "from sklearn.ensemble import RandomForestRegressor\n",
        "\n",
        "model_rfr = RandomForestRegressor(random_state=123)\n",
        "model_rfr.fit(X_train_r_scaled, y_train_r)"
      ],
      "metadata": {
        "colab": {
          "base_uri": "https://localhost:8080/"
        },
        "id": "4G9rP5skfOCR",
        "outputId": "b37a67b9-c277-4a32-e252-6bf1bfe017b0"
      },
      "execution_count": 26,
      "outputs": [
        {
          "output_type": "execute_result",
          "data": {
            "text/plain": [
              "RandomForestRegressor(random_state=123)"
            ]
          },
          "metadata": {},
          "execution_count": 26
        }
      ]
    },
    {
      "cell_type": "markdown",
      "source": [
        "#### 332-08 : feature_importances_"
      ],
      "metadata": {
        "id": "-UCsdpgdwPVb"
      }
    },
    {
      "cell_type": "code",
      "source": [
        "for x, val in zip(X_cols, model_rfr.feature_importances_):\n",
        "  print(f'{x} : %.3f' %val)"
      ],
      "metadata": {
        "colab": {
          "base_uri": "https://localhost:8080/"
        },
        "id": "hXtOAH_cwSYP",
        "outputId": "ceca444c-5d76-4488-b304-3a6af39ede97"
      },
      "execution_count": 27,
      "outputs": [
        {
          "output_type": "stream",
          "name": "stdout",
          "text": [
            "LSTAT : 0.718\n",
            "PTRATIO : 0.070\n",
            "TAX : 0.040\n",
            "AGE : 0.038\n",
            "NOX : 0.056\n",
            "INDUS : 0.013\n",
            "CRIM : 0.064\n"
          ]
        }
      ]
    },
    {
      "cell_type": "markdown",
      "source": [
        "### (3) 분석 모형 평가"
      ],
      "metadata": {
        "id": "vMESxTAESmkL"
      }
    },
    {
      "cell_type": "markdown",
      "source": [
        "#### 333-01 : 예측값 생성"
      ],
      "metadata": {
        "id": "6zuLVYHw_vGF"
      }
    },
    {
      "cell_type": "code",
      "source": [
        "y_pred_lr = model_lr.predict(X_test_r_scaled)\n",
        "y_pred_svr = model_svr.predict(X_test_r_scaled)\n",
        "y_pred_rfr = model_rfr.predict(X_test_r_scaled)"
      ],
      "metadata": {
        "id": "dj4xS7AD_tdO"
      },
      "execution_count": null,
      "outputs": []
    },
    {
      "cell_type": "markdown",
      "source": [
        "#### 333-02 : 평가지표 계산"
      ],
      "metadata": {
        "id": "HnlMO4euMZvl"
      }
    },
    {
      "cell_type": "code",
      "source": [
        "from sklearn.metrics import mean_absolute_error, mean_squared_error, mean_absolute_percentage_error\n",
        "\n",
        "print('-'*30)\n",
        "print('선형 회귀 결과')\n",
        "print('MAE: %.3f' %mean_absolute_error(y_test_r, y_pred_lr))\n",
        "print('MSE: %.3f' %mean_squared_error(y_test_r, y_pred_lr))\n",
        "print('MAPE: %.3f' %mean_absolute_percentage_error(y_test_r, y_pred_lr))\n",
        "print('-'*30)\n",
        "print('SVM 결과')\n",
        "print('MAE: %.3f' %mean_absolute_error(y_test_r, y_pred_svr))\n",
        "print('MSE: %.3f' %mean_squared_error(y_test_r, y_pred_svr))\n",
        "print('MAPE: %.3f' %mean_absolute_percentage_error(y_test_r, y_pred_svr))\n",
        "print('-'*30)\n",
        "print('랜덤 포레스트 결과')\n",
        "print('MAE: %.3f' %mean_absolute_error(y_test_r, y_pred_rfr))\n",
        "print('MSE: %.3f' %mean_squared_error(y_test_r, y_pred_rfr))\n",
        "print('MAPE: %.3f' %mean_absolute_percentage_error(y_test_r, y_pred_rfr))\n",
        "print('-'*30)"
      ],
      "metadata": {
        "colab": {
          "base_uri": "https://localhost:8080/"
        },
        "id": "uMKzH_DX7J1z",
        "outputId": "70d5559f-133e-4178-889f-12ffc3cea582"
      },
      "execution_count": null,
      "outputs": [
        {
          "output_type": "stream",
          "name": "stdout",
          "text": [
            "------------------------------\n",
            "선형 회귀 결과\n",
            "MAE: 4.408\n",
            "MSE: 34.861\n",
            "MAPE: 0.223\n",
            "------------------------------\n",
            "SVM 결과\n",
            "MAE: 3.846\n",
            "MSE: 36.890\n",
            "MAPE: 0.170\n",
            "------------------------------\n",
            "랜덤 포레스트 결과\n",
            "MAE: 2.967\n",
            "MSE: 17.955\n",
            "MAPE: 0.147\n",
            "------------------------------\n"
          ]
        }
      ]
    },
    {
      "cell_type": "markdown",
      "source": [
        "## 4. 분류 모델링"
      ],
      "metadata": {
        "id": "DkUup9F_NLHX"
      }
    },
    {
      "cell_type": "markdown",
      "source": [
        "### (1) 데이터 탐색"
      ],
      "metadata": {
        "id": "jk9uKbwJNLHX"
      }
    },
    {
      "cell_type": "markdown",
      "source": [
        "#### 341-01 : 데이터 생성"
      ],
      "metadata": {
        "id": "ng12ACLF_ZGi"
      }
    },
    {
      "cell_type": "code",
      "source": [
        "df_c = data.drop(['MEDV'], axis=1) "
      ],
      "metadata": {
        "id": "OsS4ZrakwlHa"
      },
      "execution_count": 28,
      "outputs": []
    },
    {
      "cell_type": "markdown",
      "source": [
        "#### 341-02 : LSTAT변수 박스 플롯"
      ],
      "metadata": {
        "id": "Iguhkf8w_n4P"
      }
    },
    {
      "cell_type": "code",
      "source": [
        "import seaborn as sns\n",
        "\n",
        "sns.boxplot(x='isHighValue', y='LSTAT', data=df_c)"
      ],
      "metadata": {
        "colab": {
          "base_uri": "https://localhost:8080/",
          "height": 297
        },
        "id": "-1CAGQ5c_2UI",
        "outputId": "65308169-167b-41d9-8c02-064d7bdff9d4"
      },
      "execution_count": 29,
      "outputs": [
        {
          "output_type": "execute_result",
          "data": {
            "text/plain": [
              "<matplotlib.axes._subplots.AxesSubplot at 0x7f12f1c7bb50>"
            ]
          },
          "metadata": {},
          "execution_count": 29
        },
        {
          "output_type": "display_data",
          "data": {
            "text/plain": [
              "<Figure size 432x288 with 1 Axes>"
            ],
            "image/png": "[encoded data removed]"
          },
          "metadata": {
            "needs_background": "light"
          }
        }
      ]
    },
    {
      "cell_type": "markdown",
      "source": [
        "#### 341-03 : LSTAT변수 kde 플롯"
      ],
      "metadata": {
        "id": "XIPSvY5FEOdG"
      }
    },
    {
      "cell_type": "code",
      "source": [
        "import seaborn as sns\n",
        "\n",
        "sns.kdeplot(df_c.loc[df_c['isHighValue']==1, 'LSTAT'], color='orange', fill=True)\n",
        "sns.kdeplot(df_c.loc[df_c['isHighValue']==0, 'LSTAT'], color='blue', fill=True)"
      ],
      "metadata": {
        "colab": {
          "base_uri": "https://localhost:8080/",
          "height": 297
        },
        "id": "6uMPnmGeDPQM",
        "outputId": "6aca02c4-b971-42b2-cd10-33578d226816"
      },
      "execution_count": 30,
      "outputs": [
        {
          "output_type": "execute_result",
          "data": {
            "text/plain": [
              "<matplotlib.axes._subplots.AxesSubplot at 0x7f12f1c02b10>"
            ]
          },
          "metadata": {},
          "execution_count": 30
        },
        {
          "output_type": "display_data",
          "data": {
            "text/plain": [
              "<Figure size 432x288 with 1 Axes>"
            ],
            "image/png": "[encoded data removed]"
          },
          "metadata": {
            "needs_background": "light"
          }
        }
      ]
    },
    {
      "cell_type": "markdown",
      "source": [
        "#### 341-04 : isHighValue값별 변수 평균"
      ],
      "metadata": {
        "id": "sjmBWubpEQoD"
      }
    },
    {
      "cell_type": "code",
      "source": [
        "import numpy as np\n",
        "\n",
        "print(df_c.groupby('isHighValue').apply(np.mean).T)"
      ],
      "metadata": {
        "colab": {
          "base_uri": "https://localhost:8080/"
        },
        "id": "ChWjDPtbCJTD",
        "outputId": "3a9cd27c-f4f0-43f3-ce3a-edc8eabe6ad3"
      },
      "execution_count": 31,
      "outputs": [
        {
          "output_type": "stream",
          "name": "stdout",
          "text": [
            "isHighValue           0           1\n",
            "CRIM           0.975497    0.354194\n",
            "ZN             6.691176   24.602273\n",
            "INDUS         12.777353    6.488485\n",
            "CHAS           0.050802    0.121212\n",
            "NOX            0.575957    0.494454\n",
            "RM             6.028837    7.009394\n",
            "AGE           73.275134   55.257576\n",
            "DIS            3.593655    4.365642\n",
            "RAD           10.729947    6.204545\n",
            "TAX          440.788770  316.007576\n",
            "PTRATIO       18.994920   16.927273\n",
            "B            346.706738  384.914697\n",
            "LSTAT         14.949652    6.146061\n",
            "isHighValue    0.000000    1.000000\n"
          ]
        }
      ]
    },
    {
      "cell_type": "markdown",
      "source": [
        "### (2) 분석 모형 구축"
      ],
      "metadata": {
        "id": "eUB6Wn0CNeoA"
      }
    },
    {
      "cell_type": "markdown",
      "source": [
        "#### 342-01 : 데이터 분할\n",
        "\n",
        "\n",
        "\n"
      ],
      "metadata": {
        "id": "S8510sULf_Yg"
      }
    },
    {
      "cell_type": "code",
      "source": [
        "from sklearn.model_selection import train_test_split \n",
        "\n",
        "X_cols = ['LSTAT', 'PTRATIO', 'TAX', 'AGE', 'NOX', 'INDUS', 'CRIM']\n",
        "\n",
        "X = data[X_cols].values \n",
        "y = data['isHighValue'].values\n",
        "\n",
        "X_train_c, X_test_c, y_train_c, y_test_c = train_test_split(X, y, test_size=0.3, random_state=123)"
      ],
      "metadata": {
        "id": "4gSXVVCsgAr1"
      },
      "execution_count": 32,
      "outputs": []
    },
    {
      "cell_type": "markdown",
      "source": [
        "#### 342-02 : 데이터 스케일링"
      ],
      "metadata": {
        "id": "21gAby8x34xK"
      }
    },
    {
      "cell_type": "code",
      "source": [
        "from sklearn.preprocessing import MinMaxScaler\n",
        "\n",
        "scaler = MinMaxScaler()\n",
        "\n",
        "X_train_c_scaled = scaler.fit_transform(X_train_c) \n",
        "X_test_c_scaled = scaler.transform(X_test_c)"
      ],
      "metadata": {
        "id": "cZ-m8EeN35Ln"
      },
      "execution_count": 33,
      "outputs": []
    },
    {
      "cell_type": "markdown",
      "source": [
        "#### 342-03 : 로지스틱 회귀 학습"
      ],
      "metadata": {
        "id": "M0jyRy3UgEIF"
      }
    },
    {
      "cell_type": "code",
      "source": [
        "from sklearn.linear_model import LogisticRegression\n",
        "\n",
        "model_lo = LogisticRegression()\n",
        "model_lo.fit(X_train_c_scaled, y_train_c)"
      ],
      "metadata": {
        "colab": {
          "base_uri": "https://localhost:8080/"
        },
        "id": "YHvmlrjgfeKX",
        "outputId": "b5dba45f-8514-4add-dce7-5276ace00d80"
      },
      "execution_count": 34,
      "outputs": [
        {
          "output_type": "execute_result",
          "data": {
            "text/plain": [
              "LogisticRegression()"
            ]
          },
          "metadata": {},
          "execution_count": 34
        }
      ]
    },
    {
      "cell_type": "markdown",
      "source": [
        "#### 342-04 : coef_"
      ],
      "metadata": {
        "id": "t_MNQ-D74jhr"
      }
    },
    {
      "cell_type": "code",
      "source": [
        "print(model_lo.coef_)"
      ],
      "metadata": {
        "colab": {
          "base_uri": "https://localhost:8080/"
        },
        "id": "-tFvfMyf4hQH",
        "outputId": "96cc10d8-d32f-4d57-c354-244932b51e64"
      },
      "execution_count": 35,
      "outputs": [
        {
          "output_type": "stream",
          "name": "stdout",
          "text": [
            "[[-4.67917856 -2.26271976 -0.80852617  0.45926521 -0.32914015 -1.36930599\n",
            "   0.86834454]]\n"
          ]
        }
      ]
    },
    {
      "cell_type": "markdown",
      "source": [
        "#### 342-05 : intercept_"
      ],
      "metadata": {
        "id": "BWADDf1g4u5E"
      }
    },
    {
      "cell_type": "code",
      "source": [
        "print(model_lo.intercept_)"
      ],
      "metadata": {
        "colab": {
          "base_uri": "https://localhost:8080/"
        },
        "id": "OsegAchw4nV8",
        "outputId": "ecd0a655-123c-4999-c7fa-109718335f71"
      },
      "execution_count": 36,
      "outputs": [
        {
          "output_type": "stream",
          "name": "stdout",
          "text": [
            "[1.90334599]\n"
          ]
        }
      ]
    },
    {
      "cell_type": "markdown",
      "source": [
        "#### 342-06 : SVM 학습"
      ],
      "metadata": {
        "id": "1lxZnW_Q4zm-"
      }
    },
    {
      "cell_type": "code",
      "source": [
        "from sklearn.svm import SVC\n",
        "\n",
        "model_svc = SVC(probability=True)\n",
        "model_svc.fit(X_train_c_scaled, y_train_c)"
      ],
      "metadata": {
        "colab": {
          "base_uri": "https://localhost:8080/"
        },
        "id": "wan8rehk4tGi",
        "outputId": "1fa102f4-198a-4cc9-cae5-5ee468bf7430"
      },
      "execution_count": 46,
      "outputs": [
        {
          "output_type": "execute_result",
          "data": {
            "text/plain": [
              "SVC(probability=True)"
            ]
          },
          "metadata": {},
          "execution_count": 46
        }
      ]
    },
    {
      "cell_type": "markdown",
      "source": [
        "#### 342-07 : 랜덤 포레스트 학습"
      ],
      "metadata": {
        "id": "mYqN3yAP5kDJ"
      }
    },
    {
      "cell_type": "code",
      "source": [
        "from sklearn.ensemble import RandomForestClassifier\n",
        "\n",
        "model_rfc = RandomForestClassifier(random_state=123)\n",
        "model_rfc.fit(X_train_c_scaled, y_train_c)"
      ],
      "metadata": {
        "colab": {
          "base_uri": "https://localhost:8080/"
        },
        "id": "ekd3J9QL5ic8",
        "outputId": "f1ee748e-2b13-43c1-9cde-fcc63cfe4eb2"
      },
      "execution_count": 38,
      "outputs": [
        {
          "output_type": "execute_result",
          "data": {
            "text/plain": [
              "RandomForestClassifier(random_state=123)"
            ]
          },
          "metadata": {},
          "execution_count": 38
        }
      ]
    },
    {
      "cell_type": "markdown",
      "source": [
        "#### 342-08 : feature_importances_"
      ],
      "metadata": {
        "id": "AMjAxrAe7C6S"
      }
    },
    {
      "cell_type": "code",
      "source": [
        "for x, val in zip(X_cols, model_rfc.feature_importances_):\n",
        "  print(f'{x} : %.3f' %val)"
      ],
      "metadata": {
        "colab": {
          "base_uri": "https://localhost:8080/"
        },
        "id": "12N1ayel5wJg",
        "outputId": "1119edbf-d7cd-41fe-8c42-512a59c2e8ff"
      },
      "execution_count": 40,
      "outputs": [
        {
          "output_type": "stream",
          "name": "stdout",
          "text": [
            "LSTAT : 0.378\n",
            "PTRATIO : 0.105\n",
            "TAX : 0.112\n",
            "AGE : 0.087\n",
            "NOX : 0.080\n",
            "INDUS : 0.134\n",
            "CRIM : 0.104\n"
          ]
        }
      ]
    },
    {
      "cell_type": "markdown",
      "source": [
        "### (3) 분석 모형 평가"
      ],
      "metadata": {
        "id": "U1u_bzrbTxN7"
      }
    },
    {
      "cell_type": "markdown",
      "source": [
        "#### 343-01 : 예측값 생성"
      ],
      "metadata": {
        "id": "Tx4X_HWWTndz"
      }
    },
    {
      "cell_type": "code",
      "source": [
        "y_pred_lo = model_lo.predict(X_test_c_scaled)\n",
        "y_pred_svc = model_svc.predict(X_test_c_scaled)\n",
        "y_pred_rfc = model_rfc.predict(X_test_c_scaled)"
      ],
      "metadata": {
        "id": "hcfyml1oUnPg"
      },
      "execution_count": 47,
      "outputs": []
    },
    {
      "cell_type": "markdown",
      "source": [
        "#### 343-02 : 평가지표 계산"
      ],
      "metadata": {
        "id": "BzTnFxuxVE3R"
      }
    },
    {
      "cell_type": "code",
      "source": [
        "from sklearn.metrics import classification_report\n",
        "\n",
        "print('-'*60)\n",
        "print('로지스틱 회귀 결과')\n",
        "print(classification_report(y_test_c, y_pred_lo, labels=[0,1]))\n",
        "print('-'*60)\n",
        "print('SVM 결과')\n",
        "print(classification_report(y_test_c, y_pred_svc, labels=[0,1]))\n",
        "print('-'*60)\n",
        "print('랜덤포레스트 결과')\n",
        "print(classification_report(y_test_c, y_pred_rfc, labels=[0,1]))\n",
        "print('-'*60)"
      ],
      "metadata": {
        "colab": {
          "base_uri": "https://localhost:8080/"
        },
        "id": "1jJqLZxYUulk",
        "outputId": "c0be87f8-ce8c-4854-ec12-54bd389992d6"
      },
      "execution_count": 41,
      "outputs": [
        {
          "output_type": "stream",
          "name": "stdout",
          "text": [
            "------------------------------------------------------------\n",
            "로지스틱 회귀 결과\n",
            "              precision    recall  f1-score   support\n",
            "\n",
            "           0       0.90      0.97      0.93       115\n",
            "           1       0.89      0.65      0.75        37\n",
            "\n",
            "    accuracy                           0.89       152\n",
            "   macro avg       0.89      0.81      0.84       152\n",
            "weighted avg       0.89      0.89      0.89       152\n",
            "\n",
            "------------------------------------------------------------\n",
            "SVM 결과\n",
            "              precision    recall  f1-score   support\n",
            "\n",
            "           0       0.92      0.96      0.94       115\n",
            "           1       0.84      0.73      0.78        37\n",
            "\n",
            "    accuracy                           0.90       152\n",
            "   macro avg       0.88      0.84      0.86       152\n",
            "weighted avg       0.90      0.90      0.90       152\n",
            "\n",
            "------------------------------------------------------------\n",
            "랜덤포레스트 결과\n",
            "              precision    recall  f1-score   support\n",
            "\n",
            "           0       0.94      0.96      0.95       115\n",
            "           1       0.86      0.81      0.83        37\n",
            "\n",
            "    accuracy                           0.92       152\n",
            "   macro avg       0.90      0.88      0.89       152\n",
            "weighted avg       0.92      0.92      0.92       152\n",
            "\n",
            "------------------------------------------------------------\n"
          ]
        }
      ]
    },
    {
      "cell_type": "markdown",
      "source": [
        "#### 343-03 : AUROC 계산"
      ],
      "metadata": {
        "id": "opvjFqadXUXd"
      }
    },
    {
      "cell_type": "code",
      "source": [
        "from sklearn.metrics import roc_auc_score\n",
        "\n",
        "y_pred_lo = model_lo.predict_proba(X_test_c_scaled)[:, 1]\n",
        "y_pred_svc = model_svc.predict_proba(X_test_c_scaled)[:, 1]\n",
        "y_pred_rfc = model_rfc.predict_proba(X_test_c_scaled)[:, 1]\n",
        "\n",
        "print('로지스틱 회귀 결과: %.3f' %roc_auc_score(y_test_c, y_pred_lo))\n",
        "print('SVM 결과: %.3f' %roc_auc_score(y_test_c, y_pred_svc))\n",
        "print('랜덤포레스트 결과: %.3f' %roc_auc_score(y_test_c, y_pred_rfc))"
      ],
      "metadata": {
        "colab": {
          "base_uri": "https://localhost:8080/"
        },
        "id": "_O9ySAsOWPMS",
        "outputId": "b18a48bf-e109-4efe-b966-35c546919e67"
      },
      "execution_count": 48,
      "outputs": [
        {
          "output_type": "stream",
          "name": "stdout",
          "text": [
            "로지스틱 회귀 결과: 0.918\n",
            "SVM 결과: 0.937\n",
            "랜덤포레스트 결과: 0.966\n"
          ]
        }
      ]
    }
  ]
}