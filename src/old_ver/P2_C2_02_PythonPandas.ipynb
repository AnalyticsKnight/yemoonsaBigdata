{
  "nbformat": 4,
  "nbformat_minor": 0,
  "metadata": {
    "colab": {
      "name": "P2_C2_PythonPandas.ipynb",
      "provenance": [],
      "collapsed_sections": [],
      "toc_visible": true
    },
    "kernelspec": {
      "name": "python3",
      "display_name": "Python 3"
    },
    "language_info": {
      "name": "python"
    }
  },
  "cells": [
    {
      "cell_type": "markdown",
      "source": [
        "# **Chapter 2. 파이썬 빅데이터 분석 패키지**"
      ],
      "metadata": {
        "id": "_lh4TO3CZLSH"
      }
    },
    {
      "cell_type": "markdown",
      "source": [
        "## 2. 판다스 (Pandas)"
      ],
      "metadata": {
        "id": "6qozzChjZSmG"
      }
    },
    {
      "cell_type": "markdown",
      "source": [
        "### (1) 판다스 (Pandas) 개요"
      ],
      "metadata": {
        "id": "iuyuxUrbZX3I"
      }
    },
    {
      "cell_type": "markdown",
      "source": [
        "### (2) 시리즈(Series)와 데이터프레임(DataFrame) 이해하기"
      ],
      "metadata": {
        "id": "UQ7hsr0KZcJl"
      }
    },
    {
      "cell_type": "markdown",
      "source": [
        "#### 222-01 판다스 임포트"
      ],
      "metadata": {
        "id": "gSQC3Kr4ZfgS"
      }
    },
    {
      "cell_type": "code",
      "execution_count": 1,
      "metadata": {
        "id": "1y1Ou_qsZGS6"
      },
      "outputs": [],
      "source": [
        "import pandas as pd"
      ]
    },
    {
      "cell_type": "markdown",
      "source": [
        "#### 222-02 시리즈"
      ],
      "metadata": {
        "id": "cvBruBUI6p9E"
      }
    },
    {
      "cell_type": "code",
      "source": [
        "s = pd.Series([1, 3, 5, 6, 8])\n",
        "\n",
        "print(s)\n",
        "print(s.index)\n",
        "print(s.values)"
      ],
      "metadata": {
        "colab": {
          "base_uri": "https://localhost:8080/"
        },
        "id": "Gw13m2Re6veG",
        "outputId": "a24b11d1-b29e-46bd-9036-c6e3cf1f66f5"
      },
      "execution_count": 2,
      "outputs": [
        {
          "output_type": "stream",
          "name": "stdout",
          "text": [
            "0    1\n",
            "1    3\n",
            "2    5\n",
            "3    6\n",
            "4    8\n",
            "dtype: int64\n",
            "RangeIndex(start=0, stop=5, step=1)\n",
            "[1 3 5 6 8]\n"
          ]
        }
      ]
    },
    {
      "cell_type": "markdown",
      "source": [
        "#### 222-03 데이터프레임"
      ],
      "metadata": {
        "id": "tzDkSjkt7f1o"
      }
    },
    {
      "cell_type": "code",
      "source": [
        "v = [[1, 2, 3], [4, 5, 6], [7, 8, 9]]\n",
        "i = ['첫째행', '둘째행', '셋째행']\n",
        "c = ['컬럼1', '칼럼2', '칼럼3']\n",
        "\n",
        "df = pd.DataFrame(v, index=i, columns=c)\n",
        "print(df)"
      ],
      "metadata": {
        "colab": {
          "base_uri": "https://localhost:8080/"
        },
        "id": "mvu0sGfN7eyU",
        "outputId": "6a9f1f89-745f-4019-acfd-2eea99a38ad6"
      },
      "execution_count": 3,
      "outputs": [
        {
          "output_type": "stream",
          "name": "stdout",
          "text": [
            "     컬럼1  칼럼2  칼럼3\n",
            "첫째행    1    2    3\n",
            "둘째행    4    5    6\n",
            "셋째행    7    8    9\n"
          ]
        }
      ]
    },
    {
      "cell_type": "markdown",
      "source": [
        "### (3) 데이터프레임 생성하기"
      ],
      "metadata": {
        "id": "CasuCctJCoKv"
      }
    },
    {
      "cell_type": "markdown",
      "source": [
        "#### 223-01 리스트로 생성하기"
      ],
      "metadata": {
        "id": "0VqNZsr-Cso0"
      }
    },
    {
      "cell_type": "code",
      "source": [
        "d = [\n",
        "    ['100', '강백호', 9.7], \n",
        "    ['101', '송태섭', 8.9], \n",
        "    ['102', '서태웅', 9.3], \n",
        "    ['103', '채치수', 6.1] \n",
        "    ]\n",
        "df = pd.DataFrame(d, columns=['번호', '이름', '점수'])\n",
        "print(df)"
      ],
      "metadata": {
        "colab": {
          "base_uri": "https://localhost:8080/"
        },
        "id": "D163FMXHCx7k",
        "outputId": "4e218c3b-a3bd-4017-b276-ff29d7ee948b"
      },
      "execution_count": 4,
      "outputs": [
        {
          "output_type": "stream",
          "name": "stdout",
          "text": [
            "    번호   이름   점수\n",
            "0  100  강백호  9.7\n",
            "1  101  송태섭  8.9\n",
            "2  102  서태웅  9.3\n",
            "3  103  채치수  6.1\n"
          ]
        }
      ]
    },
    {
      "cell_type": "markdown",
      "source": [
        "#### 223-02 딕셔너리로 생성하기"
      ],
      "metadata": {
        "id": "SVm3Kt7YEYLs"
      }
    },
    {
      "cell_type": "code",
      "source": [
        "d = {\n",
        "    '번호' : ['100', '101', '102', '103'],\n",
        "    '이름' : [ '강백호', '송태섭', '서태웅', '채치수'],\n",
        "    '점수': [9.7, 8.9, 9.3, 6.1,]\n",
        "    }\n",
        "\n",
        "df = pd.DataFrame(d)\n",
        "print(df)"
      ],
      "metadata": {
        "colab": {
          "base_uri": "https://localhost:8080/"
        },
        "id": "TSzQbf2NEbMQ",
        "outputId": "805e80b4-842b-4342-92e5-10309cbd07cc"
      },
      "execution_count": 5,
      "outputs": [
        {
          "output_type": "stream",
          "name": "stdout",
          "text": [
            "    번호   이름   점수\n",
            "0  100  강백호  9.7\n",
            "1  101  송태섭  8.9\n",
            "2  102  서태웅  9.3\n",
            "3  103  채치수  6.1\n"
          ]
        }
      ]
    },
    {
      "cell_type": "markdown",
      "source": [
        "#### 223-03 csv 파일로 생성하기"
      ],
      "metadata": {
        "id": "nxBLLW4VpCBI"
      }
    },
    {
      "cell_type": "code",
      "source": [
        "housing_df = pd.read_csv('/content/sample_data/california_housing_train.csv')\n",
        "\n",
        "print('housing 변수 type : ', type(housing_df))\n",
        "print(housing_df)"
      ],
      "metadata": {
        "id": "wm-wRmDNfCn1",
        "colab": {
          "base_uri": "https://localhost:8080/"
        },
        "outputId": "dc6d32c2-f69f-4758-c027-60c91e2f0d6a"
      },
      "execution_count": 6,
      "outputs": [
        {
          "output_type": "stream",
          "name": "stdout",
          "text": [
            "housing 변수 type :  <class 'pandas.core.frame.DataFrame'>\n",
            "       longitude  latitude  housing_median_age  total_rooms  total_bedrooms  \\\n",
            "0        -114.31     34.19                15.0       5612.0          1283.0   \n",
            "1        -114.47     34.40                19.0       7650.0          1901.0   \n",
            "2        -114.56     33.69                17.0        720.0           174.0   \n",
            "3        -114.57     33.64                14.0       1501.0           337.0   \n",
            "4        -114.57     33.57                20.0       1454.0           326.0   \n",
            "...          ...       ...                 ...          ...             ...   \n",
            "16995    -124.26     40.58                52.0       2217.0           394.0   \n",
            "16996    -124.27     40.69                36.0       2349.0           528.0   \n",
            "16997    -124.30     41.84                17.0       2677.0           531.0   \n",
            "16998    -124.30     41.80                19.0       2672.0           552.0   \n",
            "16999    -124.35     40.54                52.0       1820.0           300.0   \n",
            "\n",
            "       population  households  median_income  median_house_value  \n",
            "0          1015.0       472.0         1.4936             66900.0  \n",
            "1          1129.0       463.0         1.8200             80100.0  \n",
            "2           333.0       117.0         1.6509             85700.0  \n",
            "3           515.0       226.0         3.1917             73400.0  \n",
            "4           624.0       262.0         1.9250             65500.0  \n",
            "...           ...         ...            ...                 ...  \n",
            "16995       907.0       369.0         2.3571            111400.0  \n",
            "16996      1194.0       465.0         2.5179             79000.0  \n",
            "16997      1244.0       456.0         3.0313            103600.0  \n",
            "16998      1298.0       478.0         1.9797             85800.0  \n",
            "16999       806.0       270.0         3.0147             94600.0  \n",
            "\n",
            "[17000 rows x 9 columns]\n"
          ]
        }
      ]
    },
    {
      "cell_type": "markdown",
      "source": [
        "### (4) 데이터프레임 훑어보기"
      ],
      "metadata": {
        "id": "cUJM_oMFFzm9"
      }
    },
    {
      "cell_type": "markdown",
      "source": [
        "#### 224-01 데이터프레임 head 함수"
      ],
      "metadata": {
        "id": "SGbfg7csrbWC"
      }
    },
    {
      "cell_type": "code",
      "source": [
        "print('DataFrame 크기 : ', housing_df.shape)\n",
        "print(housing_df.head(5))"
      ],
      "metadata": {
        "colab": {
          "base_uri": "https://localhost:8080/"
        },
        "id": "AW3BGLi2ny3q",
        "outputId": "4072b06b-455f-4a35-9a9c-dddac7d3cbb8"
      },
      "execution_count": 7,
      "outputs": [
        {
          "output_type": "stream",
          "name": "stdout",
          "text": [
            "DataFrame 크기 :  (17000, 9)\n",
            "   longitude  latitude  housing_median_age  total_rooms  total_bedrooms  \\\n",
            "0    -114.31     34.19                15.0       5612.0          1283.0   \n",
            "1    -114.47     34.40                19.0       7650.0          1901.0   \n",
            "2    -114.56     33.69                17.0        720.0           174.0   \n",
            "3    -114.57     33.64                14.0       1501.0           337.0   \n",
            "4    -114.57     33.57                20.0       1454.0           326.0   \n",
            "\n",
            "   population  households  median_income  median_house_value  \n",
            "0      1015.0       472.0         1.4936             66900.0  \n",
            "1      1129.0       463.0         1.8200             80100.0  \n",
            "2       333.0       117.0         1.6509             85700.0  \n",
            "3       515.0       226.0         3.1917             73400.0  \n",
            "4       624.0       262.0         1.9250             65500.0  \n"
          ]
        }
      ]
    },
    {
      "cell_type": "markdown",
      "source": [
        "#### 224-02 데이터프레임 info 함수"
      ],
      "metadata": {
        "id": "N2zm5sjgspG7"
      }
    },
    {
      "cell_type": "code",
      "source": [
        "print(housing_df.info())"
      ],
      "metadata": {
        "colab": {
          "base_uri": "https://localhost:8080/"
        },
        "id": "asLicxW6sJKX",
        "outputId": "3f3cdfc9-2f8b-4e67-f533-6536f75fa6ea"
      },
      "execution_count": 8,
      "outputs": [
        {
          "output_type": "stream",
          "name": "stdout",
          "text": [
            "<class 'pandas.core.frame.DataFrame'>\n",
            "RangeIndex: 17000 entries, 0 to 16999\n",
            "Data columns (total 9 columns):\n",
            " #   Column              Non-Null Count  Dtype  \n",
            "---  ------              --------------  -----  \n",
            " 0   longitude           17000 non-null  float64\n",
            " 1   latitude            17000 non-null  float64\n",
            " 2   housing_median_age  17000 non-null  float64\n",
            " 3   total_rooms         17000 non-null  float64\n",
            " 4   total_bedrooms      17000 non-null  float64\n",
            " 5   population          17000 non-null  float64\n",
            " 6   households          17000 non-null  float64\n",
            " 7   median_income       17000 non-null  float64\n",
            " 8   median_house_value  17000 non-null  float64\n",
            "dtypes: float64(9)\n",
            "memory usage: 1.2 MB\n",
            "None\n"
          ]
        }
      ]
    },
    {
      "cell_type": "markdown",
      "source": [
        "#### 224-03 데이터프레임 describe 함수"
      ],
      "metadata": {
        "id": "jLlXy9bctNKG"
      }
    },
    {
      "cell_type": "code",
      "source": [
        "print(housing_df.describe())"
      ],
      "metadata": {
        "colab": {
          "base_uri": "https://localhost:8080/"
        },
        "id": "d4MnWmnlsv-q",
        "outputId": "a657daab-12d0-4d36-d82f-fbf6b54dab98"
      },
      "execution_count": 9,
      "outputs": [
        {
          "output_type": "stream",
          "name": "stdout",
          "text": [
            "          longitude      latitude  housing_median_age   total_rooms  \\\n",
            "count  17000.000000  17000.000000        17000.000000  17000.000000   \n",
            "mean    -119.562108     35.625225           28.589353   2643.664412   \n",
            "std        2.005166      2.137340           12.586937   2179.947071   \n",
            "min     -124.350000     32.540000            1.000000      2.000000   \n",
            "25%     -121.790000     33.930000           18.000000   1462.000000   \n",
            "50%     -118.490000     34.250000           29.000000   2127.000000   \n",
            "75%     -118.000000     37.720000           37.000000   3151.250000   \n",
            "max     -114.310000     41.950000           52.000000  37937.000000   \n",
            "\n",
            "       total_bedrooms    population    households  median_income  \\\n",
            "count    17000.000000  17000.000000  17000.000000   17000.000000   \n",
            "mean       539.410824   1429.573941    501.221941       3.883578   \n",
            "std        421.499452   1147.852959    384.520841       1.908157   \n",
            "min          1.000000      3.000000      1.000000       0.499900   \n",
            "25%        297.000000    790.000000    282.000000       2.566375   \n",
            "50%        434.000000   1167.000000    409.000000       3.544600   \n",
            "75%        648.250000   1721.000000    605.250000       4.767000   \n",
            "max       6445.000000  35682.000000   6082.000000      15.000100   \n",
            "\n",
            "       median_house_value  \n",
            "count        17000.000000  \n",
            "mean        207300.912353  \n",
            "std         115983.764387  \n",
            "min          14999.000000  \n",
            "25%         119400.000000  \n",
            "50%         180400.000000  \n",
            "75%         265000.000000  \n",
            "max         500001.000000  \n"
          ]
        }
      ]
    },
    {
      "cell_type": "markdown",
      "source": [
        "#### 224-04 시리즈 head 함수"
      ],
      "metadata": {
        "id": "FfdN29204HPA"
      }
    },
    {
      "cell_type": "code",
      "source": [
        "housing_median_age = housing_df['housing_median_age']\n",
        "print(housing_median_age.head())"
      ],
      "metadata": {
        "colab": {
          "base_uri": "https://localhost:8080/"
        },
        "id": "8QKBn_8FupoD",
        "outputId": "48a3ad29-a151-4959-a7e1-c8dc8f16b1cb"
      },
      "execution_count": 10,
      "outputs": [
        {
          "output_type": "stream",
          "name": "stdout",
          "text": [
            "0    15.0\n",
            "1    19.0\n",
            "2    17.0\n",
            "3    14.0\n",
            "4    20.0\n",
            "Name: housing_median_age, dtype: float64\n"
          ]
        }
      ]
    },
    {
      "cell_type": "markdown",
      "source": [
        "#### 224-05 시리즈 value_counts 함수"
      ],
      "metadata": {
        "id": "0gxVpo0mvHiy"
      }
    },
    {
      "cell_type": "code",
      "source": [
        "value_counts = housing_median_age.value_counts()\n",
        "print(value_counts)"
      ],
      "metadata": {
        "colab": {
          "base_uri": "https://localhost:8080/"
        },
        "id": "Md4iMERItS2f",
        "outputId": "1333edae-8822-4d71-8905-a1a14b8d04e5"
      },
      "execution_count": 11,
      "outputs": [
        {
          "output_type": "stream",
          "name": "stdout",
          "text": [
            "52.0    1052\n",
            "36.0     715\n",
            "35.0     692\n",
            "16.0     635\n",
            "17.0     576\n",
            "34.0     567\n",
            "33.0     513\n",
            "26.0     503\n",
            "18.0     478\n",
            "25.0     461\n",
            "32.0     458\n",
            "37.0     437\n",
            "15.0     416\n",
            "19.0     412\n",
            "28.0     400\n",
            "27.0     397\n",
            "24.0     389\n",
            "31.0     384\n",
            "30.0     384\n",
            "20.0     383\n",
            "23.0     382\n",
            "29.0     374\n",
            "21.0     373\n",
            "14.0     347\n",
            "22.0     323\n",
            "38.0     318\n",
            "42.0     308\n",
            "39.0     302\n",
            "44.0     296\n",
            "43.0     286\n",
            "13.0     249\n",
            "40.0     249\n",
            "45.0     235\n",
            "41.0     232\n",
            "10.0     226\n",
            "11.0     208\n",
            "5.0      199\n",
            "46.0     196\n",
            "12.0     192\n",
            "8.0      178\n",
            "47.0     175\n",
            "9.0      172\n",
            "4.0      161\n",
            "7.0      151\n",
            "48.0     135\n",
            "6.0      129\n",
            "50.0     112\n",
            "49.0     111\n",
            "2.0       49\n",
            "3.0       46\n",
            "51.0      32\n",
            "1.0        2\n",
            "Name: housing_median_age, dtype: int64\n"
          ]
        }
      ]
    },
    {
      "cell_type": "markdown",
      "source": [
        "### (5) 데이터프레임 컬럼 생성과 수정"
      ],
      "metadata": {
        "id": "VmPSUuqyGlg1"
      }
    },
    {
      "cell_type": "markdown",
      "source": [
        "#### 225-01 신규 컬럼 생성하기 기본"
      ],
      "metadata": {
        "id": "NCJpZ_6DI3KG"
      }
    },
    {
      "cell_type": "code",
      "source": [
        "housing_df['Age_0'] = 0\n",
        "print(housing_df.head(3))"
      ],
      "metadata": {
        "colab": {
          "base_uri": "https://localhost:8080/"
        },
        "id": "KcPvRbsZ4VV_",
        "outputId": "f2f2e863-9a7c-4d9f-8dc8-fecce46d24fa"
      },
      "execution_count": 12,
      "outputs": [
        {
          "output_type": "stream",
          "name": "stdout",
          "text": [
            "   longitude  latitude  housing_median_age  total_rooms  total_bedrooms  \\\n",
            "0    -114.31     34.19                15.0       5612.0          1283.0   \n",
            "1    -114.47     34.40                19.0       7650.0          1901.0   \n",
            "2    -114.56     33.69                17.0        720.0           174.0   \n",
            "\n",
            "   population  households  median_income  median_house_value  Age_0  \n",
            "0      1015.0       472.0         1.4936             66900.0      0  \n",
            "1      1129.0       463.0         1.8200             80100.0      0  \n",
            "2       333.0       117.0         1.6509             85700.0      0  \n"
          ]
        }
      ]
    },
    {
      "cell_type": "markdown",
      "source": [
        "#### 225-02 신규 컬럼 생성하기 응용"
      ],
      "metadata": {
        "id": "SmtOU_TjLCmO"
      }
    },
    {
      "cell_type": "code",
      "source": [
        "housing_df['Age_by_10'] = housing_df['housing_median_age'] // 10\n",
        "print(housing_df.head(3))"
      ],
      "metadata": {
        "colab": {
          "base_uri": "https://localhost:8080/"
        },
        "id": "JMiGO4S4KbSy",
        "outputId": "fefc6329-0895-400b-adfa-915c99cd768b"
      },
      "execution_count": 13,
      "outputs": [
        {
          "output_type": "stream",
          "name": "stdout",
          "text": [
            "   longitude  latitude  housing_median_age  total_rooms  total_bedrooms  \\\n",
            "0    -114.31     34.19                15.0       5612.0          1283.0   \n",
            "1    -114.47     34.40                19.0       7650.0          1901.0   \n",
            "2    -114.56     33.69                17.0        720.0           174.0   \n",
            "\n",
            "   population  households  median_income  median_house_value  Age_0  Age_by_10  \n",
            "0      1015.0       472.0         1.4936             66900.0      0        1.0  \n",
            "1      1129.0       463.0         1.8200             80100.0      0        1.0  \n",
            "2       333.0       117.0         1.6509             85700.0      0        1.0  \n"
          ]
        }
      ]
    },
    {
      "cell_type": "markdown",
      "source": [
        "#### 225-03 컬럼 데이터 수정하기"
      ],
      "metadata": {
        "id": "LWdLXoizMrpO"
      }
    },
    {
      "cell_type": "code",
      "source": [
        "housing_df['Age_by_10'] = housing_df['Age_by_10'] * 10\n",
        "print(housing_df.head(3))"
      ],
      "metadata": {
        "colab": {
          "base_uri": "https://localhost:8080/"
        },
        "id": "paryqdgzLfcg",
        "outputId": "43911ada-f2e0-4e73-c5c0-a20e117489fe"
      },
      "execution_count": 14,
      "outputs": [
        {
          "output_type": "stream",
          "name": "stdout",
          "text": [
            "   longitude  latitude  housing_median_age  total_rooms  total_bedrooms  \\\n",
            "0    -114.31     34.19                15.0       5612.0          1283.0   \n",
            "1    -114.47     34.40                19.0       7650.0          1901.0   \n",
            "2    -114.56     33.69                17.0        720.0           174.0   \n",
            "\n",
            "   population  households  median_income  median_house_value  Age_0  Age_by_10  \n",
            "0      1015.0       472.0         1.4936             66900.0      0       10.0  \n",
            "1      1129.0       463.0         1.8200             80100.0      0       10.0  \n",
            "2       333.0       117.0         1.6509             85700.0      0       10.0  \n"
          ]
        }
      ]
    },
    {
      "cell_type": "markdown",
      "source": [
        "#### 225-04 신규 컬럼 value_counts 함수"
      ],
      "metadata": {
        "id": "zH38q1nUNNlD"
      }
    },
    {
      "cell_type": "code",
      "source": [
        "value_counts = housing_df['Age_by_10'].value_counts()\n",
        "print(value_counts)"
      ],
      "metadata": {
        "colab": {
          "base_uri": "https://localhost:8080/"
        },
        "id": "kLpZFNxuMzY_",
        "outputId": "c448448c-72dc-4a94-e246-0498c980de49"
      },
      "execution_count": 15,
      "outputs": [
        {
          "output_type": "stream",
          "name": "stdout",
          "text": [
            "30.0    4770\n",
            "20.0    3985\n",
            "10.0    3739\n",
            "40.0    2223\n",
            "50.0    1196\n",
            "0.0     1087\n",
            "Name: Age_by_10, dtype: int64\n"
          ]
        }
      ]
    },
    {
      "cell_type": "markdown",
      "source": [
        "### (6) 데이터프레임 데이터 삭제"
      ],
      "metadata": {
        "id": "uLVYqChQNxih"
      }
    },
    {
      "cell_type": "markdown",
      "source": [
        "#### 226-01 컬럼 데이터 삭제하기"
      ],
      "metadata": {
        "id": "6iE1ccUYSUA1"
      }
    },
    {
      "cell_type": "code",
      "source": [
        "housing_drop_df = housing_df.drop('Age_0', axis=1)\n",
        "print(housing_drop_df.head(3))"
      ],
      "metadata": {
        "colab": {
          "base_uri": "https://localhost:8080/"
        },
        "id": "Ti4Bb6kMNYy4",
        "outputId": "c88d54cc-95e2-4eff-c51b-2d42aa9869e7"
      },
      "execution_count": 16,
      "outputs": [
        {
          "output_type": "stream",
          "name": "stdout",
          "text": [
            "   longitude  latitude  housing_median_age  total_rooms  total_bedrooms  \\\n",
            "0    -114.31     34.19                15.0       5612.0          1283.0   \n",
            "1    -114.47     34.40                19.0       7650.0          1901.0   \n",
            "2    -114.56     33.69                17.0        720.0           174.0   \n",
            "\n",
            "   population  households  median_income  median_house_value  Age_by_10  \n",
            "0      1015.0       472.0         1.4936             66900.0       10.0  \n",
            "1      1129.0       463.0         1.8200             80100.0       10.0  \n",
            "2       333.0       117.0         1.6509             85700.0       10.0  \n"
          ]
        }
      ]
    },
    {
      "cell_type": "markdown",
      "source": [
        "#### 226-02 복수 컬럼 데이터 삭제하기"
      ],
      "metadata": {
        "id": "qZGjkdwzCVnl"
      }
    },
    {
      "cell_type": "code",
      "source": [
        "drop_result = housing_df.drop(['Age_0', 'Age_by_10'], axis=1, inplace=True)\n",
        "print('drop_result 반환값 : ', drop_result)\n",
        "print(housing_df.head(3))"
      ],
      "metadata": {
        "colab": {
          "base_uri": "https://localhost:8080/"
        },
        "id": "B-7k40G_SLux",
        "outputId": "0b440ebb-c6c4-40c8-ced9-d7f5f8156328"
      },
      "execution_count": 17,
      "outputs": [
        {
          "output_type": "stream",
          "name": "stdout",
          "text": [
            "drop_result 반환값 :  None\n",
            "   longitude  latitude  housing_median_age  total_rooms  total_bedrooms  \\\n",
            "0    -114.31     34.19                15.0       5612.0          1283.0   \n",
            "1    -114.47     34.40                19.0       7650.0          1901.0   \n",
            "2    -114.56     33.69                17.0        720.0           174.0   \n",
            "\n",
            "   population  households  median_income  median_house_value  \n",
            "0      1015.0       472.0         1.4936             66900.0  \n",
            "1      1129.0       463.0         1.8200             80100.0  \n",
            "2       333.0       117.0         1.6509             85700.0  \n"
          ]
        }
      ]
    },
    {
      "cell_type": "markdown",
      "source": [
        "#### 226-03 행 데이터 삭제하기"
      ],
      "metadata": {
        "id": "mDym7n7uDvh9"
      }
    },
    {
      "cell_type": "code",
      "source": [
        "housing_drop_df = housing_df.drop([0, 1, 2], axis=0)\n",
        "print(housing_drop_df.head(3))"
      ],
      "metadata": {
        "colab": {
          "base_uri": "https://localhost:8080/"
        },
        "id": "RvALOQmQCqDi",
        "outputId": "b0462e1d-2e0b-47aa-8317-d4a4283e0a92"
      },
      "execution_count": 18,
      "outputs": [
        {
          "output_type": "stream",
          "name": "stdout",
          "text": [
            "   longitude  latitude  housing_median_age  total_rooms  total_bedrooms  \\\n",
            "3    -114.57     33.64                14.0       1501.0           337.0   \n",
            "4    -114.57     33.57                20.0       1454.0           326.0   \n",
            "5    -114.58     33.63                29.0       1387.0           236.0   \n",
            "\n",
            "   population  households  median_income  median_house_value  \n",
            "3       515.0       226.0         3.1917             73400.0  \n",
            "4       624.0       262.0         1.9250             65500.0  \n",
            "5       671.0       239.0         3.3438             74000.0  \n"
          ]
        }
      ]
    },
    {
      "cell_type": "markdown",
      "source": [
        "### (7) 데이터프레임 데이터 조회"
      ],
      "metadata": {
        "id": "aYnM3qZaFO0K"
      }
    },
    {
      "cell_type": "markdown",
      "source": [
        "#### 227-01 컬럼명으로 데이터 조회"
      ],
      "metadata": {
        "id": "-bDQGOnUFTty"
      }
    },
    {
      "cell_type": "code",
      "source": [
        "print('단일 컬럼 데이터 조회 :\\n', housing_df['housing_median_age'].head(3))\n",
        "print('\\n복수 컬럼 데이터 조회 :\\n', housing_df[['housing_median_age', 'total_rooms']].head(3))"
      ],
      "metadata": {
        "colab": {
          "base_uri": "https://localhost:8080/"
        },
        "id": "KaQnaGoKEJ9J",
        "outputId": "c0bafbd7-6426-4b3a-dcfc-a1a70abf09ce"
      },
      "execution_count": 19,
      "outputs": [
        {
          "output_type": "stream",
          "name": "stdout",
          "text": [
            "단일 컬럼 데이터 조회 :\n",
            " 0    15.0\n",
            "1    19.0\n",
            "2    17.0\n",
            "Name: housing_median_age, dtype: float64\n",
            "\n",
            "복수 컬럼 데이터 조회 :\n",
            "    housing_median_age  total_rooms\n",
            "0                15.0       5612.0\n",
            "1                19.0       7650.0\n",
            "2                17.0        720.0\n"
          ]
        }
      ]
    },
    {
      "cell_type": "markdown",
      "source": [
        "#### 227-02 인덱스 슬라이싱으로 데이터 조회"
      ],
      "metadata": {
        "id": "15Icr3OpMNyG"
      }
    },
    {
      "cell_type": "code",
      "source": [
        "print(housing_df[0:3])"
      ],
      "metadata": {
        "colab": {
          "base_uri": "https://localhost:8080/"
        },
        "id": "UHkMA2RBK-_X",
        "outputId": "db53dc7e-7742-494f-c06b-2b7914a27f27"
      },
      "execution_count": 20,
      "outputs": [
        {
          "output_type": "stream",
          "name": "stdout",
          "text": [
            "   longitude  latitude  housing_median_age  total_rooms  total_bedrooms  \\\n",
            "0    -114.31     34.19                15.0       5612.0          1283.0   \n",
            "1    -114.47     34.40                19.0       7650.0          1901.0   \n",
            "2    -114.56     33.69                17.0        720.0           174.0   \n",
            "\n",
            "   population  households  median_income  median_house_value  \n",
            "0      1015.0       472.0         1.4936             66900.0  \n",
            "1      1129.0       463.0         1.8200             80100.0  \n",
            "2       333.0       117.0         1.6509             85700.0  \n"
          ]
        }
      ]
    },
    {
      "cell_type": "markdown",
      "source": [
        "#### 227-03 논리형 인덱싱으로 데이터 조회"
      ],
      "metadata": {
        "id": "57vo5tOCM1xi"
      }
    },
    {
      "cell_type": "code",
      "source": [
        "print(housing_df[housing_df['housing_median_age'] == 30].head(3))"
      ],
      "metadata": {
        "colab": {
          "base_uri": "https://localhost:8080/"
        },
        "id": "ycVO_oENMTEB",
        "outputId": "d9bebe9f-4738-4a74-ad2d-9fc848a481ce"
      },
      "execution_count": 21,
      "outputs": [
        {
          "output_type": "stream",
          "name": "stdout",
          "text": [
            "     longitude  latitude  housing_median_age  total_rooms  total_bedrooms  \\\n",
            "26     -115.37     32.82                30.0       1602.0           322.0   \n",
            "50     -115.52     34.22                30.0        540.0           136.0   \n",
            "101    -115.59     32.69                30.0        935.0           177.0   \n",
            "\n",
            "     population  households  median_income  median_house_value  \n",
            "26       1130.0       335.0         3.5735             71100.0  \n",
            "50        122.0        63.0         1.3333             42500.0  \n",
            "101       649.0       148.0         2.5769             94400.0  \n"
          ]
        }
      ]
    },
    {
      "cell_type": "markdown",
      "source": [
        "#### 227-04 복수 논리형 인덱싱으로 데이터 조회"
      ],
      "metadata": {
        "id": "8wM7ldSISLwF"
      }
    },
    {
      "cell_type": "code",
      "source": [
        "print(housing_df[\n",
        "           (housing_df['housing_median_age'] > 30) &\n",
        "           (housing_df['total_rooms'] < 100) &\n",
        "           (housing_df['median_income'] > 10)\n",
        "           ].head(3))"
      ],
      "metadata": {
        "colab": {
          "base_uri": "https://localhost:8080/"
        },
        "id": "WGYMfbtLSQ01",
        "outputId": "cd175c66-b218-4142-dfb4-060e79cb3f7c"
      },
      "execution_count": 22,
      "outputs": [
        {
          "output_type": "stream",
          "name": "stdout",
          "text": [
            "       longitude  latitude  housing_median_age  total_rooms  total_bedrooms  \\\n",
            "6030     -118.22     34.06                52.0         48.0             6.0   \n",
            "13055    -121.87     37.46                43.0         91.0            12.0   \n",
            "14501    -122.14     37.50                46.0         30.0             4.0   \n",
            "\n",
            "       population  households  median_income  median_house_value  \n",
            "6030         41.0        10.0        10.2264            112500.0  \n",
            "13055        58.0        16.0        15.0001            500001.0  \n",
            "14501        13.0         5.0        15.0001            500001.0  \n"
          ]
        }
      ]
    },
    {
      "cell_type": "markdown",
      "source": [
        "#### 227-05 변수 논리형 인덱싱으로 데이터 조회"
      ],
      "metadata": {
        "id": "TZUKxcpAS_D7"
      }
    },
    {
      "cell_type": "code",
      "source": [
        "con1 = housing_df['housing_median_age'] > 30\n",
        "con2 = housing_df['total_rooms'] < 100\n",
        "con3 = housing_df['median_income'] > 10\n",
        "\n",
        "print(housing_df[ con1 & con2 & con3 ].head(3))"
      ],
      "metadata": {
        "colab": {
          "base_uri": "https://localhost:8080/"
        },
        "id": "K4_kf8J6TDu6",
        "outputId": "68b4ef6e-5591-4bff-a3d8-63446b5e5ddd"
      },
      "execution_count": 23,
      "outputs": [
        {
          "output_type": "stream",
          "name": "stdout",
          "text": [
            "       longitude  latitude  housing_median_age  total_rooms  total_bedrooms  \\\n",
            "6030     -118.22     34.06                52.0         48.0             6.0   \n",
            "13055    -121.87     37.46                43.0         91.0            12.0   \n",
            "14501    -122.14     37.50                46.0         30.0             4.0   \n",
            "\n",
            "       population  households  median_income  median_house_value  \n",
            "6030         41.0        10.0        10.2264            112500.0  \n",
            "13055        58.0        16.0        15.0001            500001.0  \n",
            "14501        13.0         5.0        15.0001            500001.0  \n"
          ]
        }
      ]
    },
    {
      "cell_type": "markdown",
      "source": [
        "#### 227-06 iloc 함수로 데이터 조회"
      ],
      "metadata": {
        "id": "pwx0PRUgOuS4"
      }
    },
    {
      "cell_type": "code",
      "source": [
        "print(housing_df.iloc[0, 2])"
      ],
      "metadata": {
        "colab": {
          "base_uri": "https://localhost:8080/"
        },
        "id": "KI-zt_2dNJgC",
        "outputId": "da36ddde-9b5f-49f1-9d03-044e4126b5f7"
      },
      "execution_count": 24,
      "outputs": [
        {
          "output_type": "stream",
          "name": "stdout",
          "text": [
            "15.0\n"
          ]
        }
      ]
    },
    {
      "cell_type": "markdown",
      "source": [
        "#### 227-07 loc 함수로 데이터 조회"
      ],
      "metadata": {
        "id": "5fyu5suePXF6"
      }
    },
    {
      "cell_type": "code",
      "source": [
        "print(housing_df.loc[0, 'housing_median_age'])"
      ],
      "metadata": {
        "colab": {
          "base_uri": "https://localhost:8080/"
        },
        "id": "7RrA6KGjO9YL",
        "outputId": "2be34991-48dc-4f74-c9fe-765239289295"
      },
      "execution_count": 25,
      "outputs": [
        {
          "output_type": "stream",
          "name": "stdout",
          "text": [
            "15.0\n"
          ]
        }
      ]
    },
    {
      "cell_type": "markdown",
      "source": [
        "#### 227-08 loc 함수로 복수 데이터 조회"
      ],
      "metadata": {
        "id": "Ao0cQXKuQW8c"
      }
    },
    {
      "cell_type": "code",
      "source": [
        "print(housing_df.loc[0:4, 'housing_median_age'])"
      ],
      "metadata": {
        "colab": {
          "base_uri": "https://localhost:8080/"
        },
        "id": "BeQyir_APcZU",
        "outputId": "9c2d289d-7576-4163-de52-54d86bd777f0"
      },
      "execution_count": 26,
      "outputs": [
        {
          "output_type": "stream",
          "name": "stdout",
          "text": [
            "0    15.0\n",
            "1    19.0\n",
            "2    17.0\n",
            "3    14.0\n",
            "4    20.0\n",
            "Name: housing_median_age, dtype: float64\n"
          ]
        }
      ]
    },
    {
      "cell_type": "markdown",
      "source": [
        "#### 227-09 loc 함수로 조건부 데이터 조회"
      ],
      "metadata": {
        "id": "JGiaDSKMT8nE"
      }
    },
    {
      "cell_type": "code",
      "source": [
        "print(housing_df.loc[housing_df['housing_median_age'] == 30, ['housing_median_age', 'total_bedrooms']].head(3))"
      ],
      "metadata": {
        "colab": {
          "base_uri": "https://localhost:8080/"
        },
        "id": "WXO6tmc3Qa1S",
        "outputId": "b7361a9d-4a61-43be-ff5d-e7990bd71641"
      },
      "execution_count": 27,
      "outputs": [
        {
          "output_type": "stream",
          "name": "stdout",
          "text": [
            "     housing_median_age  total_bedrooms\n",
            "26                 30.0           322.0\n",
            "50                 30.0           136.0\n",
            "101                30.0           177.0\n"
          ]
        }
      ]
    },
    {
      "cell_type": "markdown",
      "source": [
        "### (8) 데이터프레임 데이터 정렬과 집계"
      ],
      "metadata": {
        "id": "0K1n3qZHU8GE"
      }
    },
    {
      "cell_type": "markdown",
      "source": [
        "#### 228-01 오름차순 정렬"
      ],
      "metadata": {
        "id": "-PCQLK2jVEWQ"
      }
    },
    {
      "cell_type": "code",
      "source": [
        "housing_sorted = housing_df.sort_values(by=['housing_median_age'])\n",
        "print(housing_sorted.head(3))"
      ],
      "metadata": {
        "colab": {
          "base_uri": "https://localhost:8080/"
        },
        "id": "ICq0C6SkUR9R",
        "outputId": "47fd6c83-0dcc-45a0-d3e1-e872409b931f"
      },
      "execution_count": 28,
      "outputs": [
        {
          "output_type": "stream",
          "name": "stdout",
          "text": [
            "       longitude  latitude  housing_median_age  total_rooms  total_bedrooms  \\\n",
            "13708    -122.00     38.23                 1.0       2062.0           343.0   \n",
            "10993    -120.93     37.65                 1.0       2254.0           328.0   \n",
            "1353     -117.17     34.12                 2.0       3867.0           573.0   \n",
            "\n",
            "       population  households  median_income  median_house_value  \n",
            "13708       872.0       268.0         5.2636            191300.0  \n",
            "10993       402.0       112.0         4.2500            189200.0  \n",
            "1353       1275.0       433.0         5.4138            164400.0  \n"
          ]
        }
      ]
    },
    {
      "cell_type": "markdown",
      "source": [
        "#### 228-02 복수 컬럼 내림차순 정렬"
      ],
      "metadata": {
        "id": "Aaok9Z0ZdGcn"
      }
    },
    {
      "cell_type": "code",
      "source": [
        "housing_sorted = housing_df.sort_values(by=['housing_median_age', 'total_rooms'], ascending=False)\n",
        "print(housing_sorted.head(3))"
      ],
      "metadata": {
        "colab": {
          "base_uri": "https://localhost:8080/"
        },
        "id": "CtN42IEPcnah",
        "outputId": "734366f6-740f-4488-cadb-9fe3f113cb62"
      },
      "execution_count": 29,
      "outputs": [
        {
          "output_type": "stream",
          "name": "stdout",
          "text": [
            "       longitude  latitude  housing_median_age  total_rooms  total_bedrooms  \\\n",
            "15772    -122.41     37.79                52.0       6016.0          2509.0   \n",
            "15773    -122.41     37.79                52.0       5783.0          2747.0   \n",
            "11163    -121.03     40.35                52.0       5486.0          1044.0   \n",
            "\n",
            "       population  households  median_income  median_house_value  \n",
            "15772      3436.0      2119.0         2.5166            275000.0  \n",
            "15773      4518.0      2538.0         1.7240            225000.0  \n",
            "11163      1977.0       754.0         2.1833             49500.0  \n"
          ]
        }
      ]
    },
    {
      "cell_type": "markdown",
      "source": [
        "#### 228-03 집계 함수 적용"
      ],
      "metadata": {
        "id": "for32eADd5A9"
      }
    },
    {
      "cell_type": "code",
      "source": [
        "print(housing_df.sum() / housing_df.count())"
      ],
      "metadata": {
        "colab": {
          "base_uri": "https://localhost:8080/"
        },
        "id": "kLyvMMSDdSLv",
        "outputId": "0565246e-1fe2-45d9-e97e-af6effbbd57b"
      },
      "execution_count": 30,
      "outputs": [
        {
          "output_type": "stream",
          "name": "stdout",
          "text": [
            "longitude               -119.562108\n",
            "latitude                  35.625225\n",
            "housing_median_age        28.589353\n",
            "total_rooms             2643.664412\n",
            "total_bedrooms           539.410824\n",
            "population              1429.573941\n",
            "households               501.221941\n",
            "median_income              3.883578\n",
            "median_house_value    207300.912353\n",
            "dtype: float64\n"
          ]
        }
      ]
    },
    {
      "cell_type": "markdown",
      "source": [
        "#### 228-04 특정 컬럼 집계 함수 적용"
      ],
      "metadata": {
        "id": "VKnx5UPte1tb"
      }
    },
    {
      "cell_type": "code",
      "source": [
        "print(housing_df[['housing_median_age', 'total_rooms']].mean())"
      ],
      "metadata": {
        "colab": {
          "base_uri": "https://localhost:8080/"
        },
        "id": "sshZKGgJeGEy",
        "outputId": "056a95e1-401e-446f-ee4d-622ff23ad5e6"
      },
      "execution_count": 31,
      "outputs": [
        {
          "output_type": "stream",
          "name": "stdout",
          "text": [
            "housing_median_age      28.589353\n",
            "total_rooms           2643.664412\n",
            "dtype: float64\n"
          ]
        }
      ]
    },
    {
      "cell_type": "markdown",
      "source": [
        "#### 228-05 groupby 함수 적용"
      ],
      "metadata": {
        "id": "Vgzsc-8-heGW"
      }
    },
    {
      "cell_type": "code",
      "source": [
        "housing_groupby = housing_df.groupby('housing_median_age').mean()\n",
        "print(housing_groupby.head(3))"
      ],
      "metadata": {
        "colab": {
          "base_uri": "https://localhost:8080/"
        },
        "id": "_O3y_06SfDIX",
        "outputId": "f0763299-aae7-454f-f440-1987aae8c0e0"
      },
      "execution_count": 32,
      "outputs": [
        {
          "output_type": "stream",
          "name": "stdout",
          "text": [
            "                     longitude   latitude  total_rooms  total_bedrooms  \\\n",
            "housing_median_age                                                       \n",
            "1.0                -121.465000  37.940000  2158.000000      335.500000   \n",
            "2.0                -119.035306  35.410816  5237.102041      871.448980   \n",
            "3.0                -118.798478  35.164783  6920.326087     1190.826087   \n",
            "\n",
            "                     population   households  median_income  \\\n",
            "housing_median_age                                            \n",
            "1.0                  637.000000   190.000000       4.756800   \n",
            "2.0                 2005.224490   707.122449       5.074237   \n",
            "3.0                 2934.673913  1030.413043       5.572013   \n",
            "\n",
            "                    median_house_value  \n",
            "housing_median_age                      \n",
            "1.0                      190250.000000  \n",
            "2.0                      229438.836735  \n",
            "3.0                      239450.043478  \n"
          ]
        }
      ]
    },
    {
      "cell_type": "markdown",
      "source": [
        "#### 228-06 특정 컬럼 groupby 함수 적용"
      ],
      "metadata": {
        "id": "qVNqbehqjmEH"
      }
    },
    {
      "cell_type": "code",
      "source": [
        "housing_groupby = housing_df.groupby('housing_median_age')[['total_rooms', 'total_bedrooms']].mean()\n",
        "print(housing_groupby.head(3))"
      ],
      "metadata": {
        "colab": {
          "base_uri": "https://localhost:8080/"
        },
        "id": "r1MvANdYhuLS",
        "outputId": "1eae84c5-d1a0-478f-ae26-790a691876a5"
      },
      "execution_count": 33,
      "outputs": [
        {
          "output_type": "stream",
          "name": "stdout",
          "text": [
            "                    total_rooms  total_bedrooms\n",
            "housing_median_age                             \n",
            "1.0                 2158.000000      335.500000\n",
            "2.0                 5237.102041      871.448980\n",
            "3.0                 6920.326087     1190.826087\n"
          ]
        }
      ]
    },
    {
      "cell_type": "markdown",
      "source": [
        "#### 228-07 특정 컬럼 groupby, agg 함수 적용"
      ],
      "metadata": {
        "id": "mygBpPhBlIuq"
      }
    },
    {
      "cell_type": "code",
      "source": [
        "housing_groupby = housing_df.groupby('housing_median_age')['total_rooms'].agg([min, max, sum])\n",
        "print(housing_groupby.head(3))"
      ],
      "metadata": {
        "colab": {
          "base_uri": "https://localhost:8080/"
        },
        "id": "5FQnGqJcjwkN",
        "outputId": "e626dd32-f24f-4e88-c33c-e10b9794a1b3"
      },
      "execution_count": 34,
      "outputs": [
        {
          "output_type": "stream",
          "name": "stdout",
          "text": [
            "                       min      max       sum\n",
            "housing_median_age                           \n",
            "1.0                 2062.0   2254.0    4316.0\n",
            "2.0                   96.0  21897.0  256618.0\n",
            "3.0                  475.0  21060.0  318335.0\n"
          ]
        }
      ]
    },
    {
      "cell_type": "markdown",
      "source": [
        "### (9) 데이터프레임 결측치 처리하기"
      ],
      "metadata": {
        "id": "ZCjZppYHomqG"
      }
    },
    {
      "cell_type": "markdown",
      "source": [
        "#### 229-01 결측치 여부 확인"
      ],
      "metadata": {
        "id": "Rffg2TAgovyW"
      }
    },
    {
      "cell_type": "code",
      "source": [
        "import numpy as np\n",
        "\n",
        "housing_df['Age_na'] = np.nan\n",
        "print(housing_df.isna().head(3))"
      ],
      "metadata": {
        "colab": {
          "base_uri": "https://localhost:8080/"
        },
        "id": "hGIrRO5amJ0J",
        "outputId": "67e85123-47f3-4bb5-e7c5-951902c49bc7"
      },
      "execution_count": 35,
      "outputs": [
        {
          "output_type": "stream",
          "name": "stdout",
          "text": [
            "   longitude  latitude  housing_median_age  total_rooms  total_bedrooms  \\\n",
            "0      False     False               False        False           False   \n",
            "1      False     False               False        False           False   \n",
            "2      False     False               False        False           False   \n",
            "\n",
            "   population  households  median_income  median_house_value  Age_na  \n",
            "0       False       False          False               False    True  \n",
            "1       False       False          False               False    True  \n",
            "2       False       False          False               False    True  \n"
          ]
        }
      ]
    },
    {
      "cell_type": "markdown",
      "source": [
        "#### 229-02 결측치 개수 확인"
      ],
      "metadata": {
        "id": "EL60UYnHreb9"
      }
    },
    {
      "cell_type": "code",
      "source": [
        "print(housing_df.isna().sum())"
      ],
      "metadata": {
        "colab": {
          "base_uri": "https://localhost:8080/"
        },
        "id": "tyeecoqup4ZO",
        "outputId": "ba7cb6b3-2420-435a-e5ce-46b2ebb8a599"
      },
      "execution_count": 36,
      "outputs": [
        {
          "output_type": "stream",
          "name": "stdout",
          "text": [
            "longitude                 0\n",
            "latitude                  0\n",
            "housing_median_age        0\n",
            "total_rooms               0\n",
            "total_bedrooms            0\n",
            "population                0\n",
            "households                0\n",
            "median_income             0\n",
            "median_house_value        0\n",
            "Age_na                17000\n",
            "dtype: int64\n"
          ]
        }
      ]
    },
    {
      "cell_type": "markdown",
      "source": [
        "#### 229-03 결측치 데이터 대체하기"
      ],
      "metadata": {
        "id": "RXeUzQYXruiA"
      }
    },
    {
      "cell_type": "code",
      "source": [
        "housing_df['Age_na'] = housing_df['Age_na'].fillna(housing_df['housing_median_age'].mean())\n",
        "print(housing_df.head(3))"
      ],
      "metadata": {
        "colab": {
          "base_uri": "https://localhost:8080/"
        },
        "id": "VwxnVZ-1rh46",
        "outputId": "2b29deda-c202-432a-e9e1-494aa5262f1f"
      },
      "execution_count": 37,
      "outputs": [
        {
          "output_type": "stream",
          "name": "stdout",
          "text": [
            "   longitude  latitude  housing_median_age  total_rooms  total_bedrooms  \\\n",
            "0    -114.31     34.19                15.0       5612.0          1283.0   \n",
            "1    -114.47     34.40                19.0       7650.0          1901.0   \n",
            "2    -114.56     33.69                17.0        720.0           174.0   \n",
            "\n",
            "   population  households  median_income  median_house_value     Age_na  \n",
            "0      1015.0       472.0         1.4936             66900.0  28.589353  \n",
            "1      1129.0       463.0         1.8200             80100.0  28.589353  \n",
            "2       333.0       117.0         1.6509             85700.0  28.589353  \n"
          ]
        }
      ]
    }
  ]
}