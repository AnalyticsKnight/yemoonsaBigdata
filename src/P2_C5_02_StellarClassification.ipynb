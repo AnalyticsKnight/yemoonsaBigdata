{
  "nbformat": 4,
  "nbformat_minor": 0,
  "metadata": {
    "colab": {
      "name": "P2_Final02. StellarClassification.ipynb",
      "provenance": [],
      "collapsed_sections": [],
      "include_colab_link": true
    },
    "kernelspec": {
      "name": "python3",
      "display_name": "Python 3"
    },
    "language_info": {
      "name": "python"
    }
  },
  "cells": [
    {
      "cell_type": "markdown",
      "metadata": {
        "id": "view-in-github",
        "colab_type": "text"
      },
      "source": [
        "<a href=\"https://colab.research.google.com/github/AnalyticsKnight/yemoonsaBigdata/blob/dev/src/P2_C5_02_StellarClassification.ipynb\" target=\"_parent\"><img src=\"https://colab.research.google.com/assets/colab-badge.svg\" alt=\"Open In Colab\"/></a>"
      ]
    },
    {
      "cell_type": "markdown",
      "source": [
        "https://www.kaggle.com/fedesoriano/stellar-classification-dataset-sdss17"
      ],
      "metadata": {
        "id": "jxX1_UIqz9vt"
      }
    },
    {
      "cell_type": "markdown",
      "source": [
        "# **Part 2. 과목 마무리 문제**"
      ],
      "metadata": {
        "id": "gSZ1HUxoJBZS"
      }
    },
    {
      "cell_type": "markdown",
      "source": [
        "## 작업형2. Stellar-classification "
      ],
      "metadata": {
        "id": "bggmCRYJJYLF"
      }
    },
    {
      "cell_type": "code",
      "source": [
        "!git clone https://github.com/AnalyticsKnight/yemoonsaBigdata/"
      ],
      "metadata": {
        "id": "-cTIwT2QSJFy",
        "colab": {
          "base_uri": "https://localhost:8080/"
        },
        "outputId": "d3a6ef0d-5711-44af-fc94-51bbcf96005c"
      },
      "execution_count": 1,
      "outputs": [
        {
          "output_type": "stream",
          "name": "stdout",
          "text": [
            "Cloning into 'yemoonsaBigdata'...\n",
            "remote: Enumerating objects: 425, done.\u001b[K\n",
            "remote: Counting objects: 100% (425/425), done.\u001b[K\n",
            "remote: Compressing objects: 100% (400/400), done.\u001b[K\n",
            "remote: Total 425 (delta 207), reused 42 (delta 19), pack-reused 0\u001b[K\n",
            "Receiving objects: 100% (425/425), 8.31 MiB | 4.63 MiB/s, done.\n",
            "Resolving deltas: 100% (207/207), done.\n"
          ]
        }
      ]
    },
    {
      "cell_type": "markdown",
      "source": [
        "#### 521-01"
      ],
      "metadata": {
        "id": "FhEmt42RTDLC"
      }
    },
    {
      "cell_type": "code",
      "source": [
        "# 출력을 원하실 경우 print() 함수 활용\n",
        "# 예시) print(df.head())\n",
        "\n",
        "# getcwd(), chdir() 등 작업 폴더 설정 불필요\n",
        "# 파일 경로 상 내부 드라이브 경로(C: 등) 접근 불가\n",
        "\n",
        "# 데이터 파일 읽기 예제\n",
        "import pandas as pd\n",
        "X_test = pd.read_csv(\"./yemoonsaBigdata/datasets/Part2/stellar_X_test.csv\")\n",
        "X_train = pd.read_csv(\"./yemoonsaBigdata/datasets/Part2/stellar_X_train.csv\")\n",
        "y_train = pd.read_csv(\"./yemoonsaBigdata/datasets/Part2/stellar_y_train.csv\")\n",
        "\n",
        "# 사용자 코딩\n",
        "\n",
        "# 답안 제출 참고\n",
        "# 아래 코드 예측변수와 수험번호를 개인별로 변경하여 활용\n",
        "# pd.DataFrame({'gender': pred}).to_csv('003000000.csv', index=False)"
      ],
      "metadata": {
        "id": "M7sYmbgqTAQx"
      },
      "execution_count": 2,
      "outputs": []
    },
    {
      "cell_type": "markdown",
      "source": [
        "#### 521-02"
      ],
      "metadata": {
        "id": "CMmTLsbyTV-J"
      }
    },
    {
      "cell_type": "code",
      "source": [
        "import pandas as pd\n",
        "import numpy as np\n",
        "\n",
        "X_test = pd.read_csv(\"./yemoonsaBigdata/datasets/Part2/stellar_X_test.csv\")\n",
        "X_train = pd.read_csv(\"./yemoonsaBigdata/datasets/Part2/stellar_X_train.csv\")\n",
        "y_train = pd.read_csv(\"./yemoonsaBigdata/datasets/Part2/stellar_y_train.csv\")"
      ],
      "metadata": {
        "id": "DC1aQjh5KbiL"
      },
      "execution_count": 3,
      "outputs": []
    },
    {
      "cell_type": "code",
      "source": [
        "print(X_train.info())"
      ],
      "metadata": {
        "colab": {
          "base_uri": "https://localhost:8080/"
        },
        "id": "80pxps2gLGZ-",
        "outputId": "37ae04c9-9f66-4cef-ff33-2e99152ed76e"
      },
      "execution_count": 4,
      "outputs": [
        {
          "output_type": "stream",
          "name": "stdout",
          "text": [
            "<class 'pandas.core.frame.DataFrame'>\n",
            "RangeIndex: 70000 entries, 0 to 69999\n",
            "Data columns (total 13 columns):\n",
            " #   Column    Non-Null Count  Dtype  \n",
            "---  ------    --------------  -----  \n",
            " 0   alpha     70000 non-null  float64\n",
            " 1   delta     70000 non-null  float64\n",
            " 2   u         70000 non-null  float64\n",
            " 3   g         70000 non-null  float64\n",
            " 4   r         70000 non-null  float64\n",
            " 5   i         70000 non-null  float64\n",
            " 6   z         70000 non-null  float64\n",
            " 7   redshift  70000 non-null  float64\n",
            " 8   run_ID    70000 non-null  int64  \n",
            " 9   rerun_ID  70000 non-null  int64  \n",
            " 10  cam_col   70000 non-null  int64  \n",
            " 11  field_ID  70000 non-null  int64  \n",
            " 12  plate     70000 non-null  int64  \n",
            "dtypes: float64(8), int64(5)\n",
            "memory usage: 6.9 MB\n",
            "None\n"
          ]
        }
      ]
    },
    {
      "cell_type": "code",
      "source": [
        "print(X_train.describe())"
      ],
      "metadata": {
        "colab": {
          "base_uri": "https://localhost:8080/"
        },
        "id": "dOrgoBXaLbVV",
        "outputId": "66b80f7d-10b0-4125-e46c-c13969d6aea1"
      },
      "execution_count": 5,
      "outputs": [
        {
          "output_type": "stream",
          "name": "stdout",
          "text": [
            "              alpha         delta             u             g             r  \\\n",
            "count  70000.000000  70000.000000  70000.000000  70000.000000  70000.000000   \n",
            "mean     177.535809     24.107885     21.938806     20.486718     19.644011   \n",
            "std       96.483093     19.665057     37.942814     37.925201      1.852053   \n",
            "min        0.005528    -18.785328  -9999.000000  -9999.000000      9.822070   \n",
            "25%      127.385304      5.115922     20.349987     18.957325     18.136183   \n",
            "50%      180.706865     23.579507     22.183860     21.095445     20.122805   \n",
            "75%      233.942154     39.871336     23.684145     22.121073     21.039012   \n",
            "max      359.999615     82.947622     32.781390     31.602240     29.571860   \n",
            "\n",
            "                  i             z      redshift        run_ID  rerun_ID  \\\n",
            "count  70000.000000  70000.000000  70000.000000  70000.000000   70000.0   \n",
            "mean      19.082969     18.624590      0.575246   4478.649443     301.0   \n",
            "std        1.755997     37.904705      0.729921   1965.326847       0.0   \n",
            "min        9.469903  -9999.000000     -0.009971    109.000000     301.0   \n",
            "25%       17.733732     17.463838      0.052602   3185.000000     301.0   \n",
            "50%       19.399590     19.001010      0.422838   4188.000000     301.0   \n",
            "75%       20.391340     19.917578      0.700399   5326.000000     301.0   \n",
            "max       32.141470     28.790550      7.011245   8162.000000     301.0   \n",
            "\n",
            "            cam_col      field_ID         plate  \n",
            "count  70000.000000  70000.000000  70000.000000  \n",
            "mean       3.510500    186.045714   5127.852900  \n",
            "std        1.585203    148.661268   2947.452991  \n",
            "min        1.000000     11.000000    266.000000  \n",
            "25%        2.000000     82.000000   2525.750000  \n",
            "50%        4.000000    146.000000   4978.000000  \n",
            "75%        5.000000    241.000000   7389.000000  \n",
            "max        6.000000    989.000000  12547.000000  \n"
          ]
        }
      ]
    },
    {
      "cell_type": "code",
      "source": [
        "# 이상치 제거\n",
        "y_train = y_train.loc[X_train.u != -9999]\n",
        "X_train = X_train.loc[X_train.u != -9999]\n",
        "\n",
        "X_train.reset_index(drop=True, inplace=True)\n",
        "y_train.reset_index(drop=True, inplace=True)"
      ],
      "metadata": {
        "id": "7PIc4OyK-pvK"
      },
      "execution_count": 6,
      "outputs": []
    },
    {
      "cell_type": "code",
      "source": [
        "print(X_train.describe())"
      ],
      "metadata": {
        "colab": {
          "base_uri": "https://localhost:8080/"
        },
        "id": "tVr-GN9P_QJB",
        "outputId": "c15a338d-2832-43e6-f6ba-118296271a69"
      },
      "execution_count": 7,
      "outputs": [
        {
          "output_type": "stream",
          "name": "stdout",
          "text": [
            "              alpha         delta             u             g             r  \\\n",
            "count  69999.000000  69999.000000  69999.000000  69999.000000  69999.000000   \n",
            "mean     177.535145     24.108238     22.081964     20.629856     19.644032   \n",
            "std       96.483622     19.664976      2.248554      2.033576      1.852057   \n",
            "min        0.005528    -18.785328     10.996230     10.498200      9.822070   \n",
            "25%      127.384192      5.117238     20.350000     18.957435     18.136075   \n",
            "50%      180.705886     23.580630     22.183900     21.095450     20.122810   \n",
            "75%      233.942330     39.872079     23.684160     22.121075     21.039035   \n",
            "max      359.999615     82.947622     32.781390     31.602240     29.571860   \n",
            "\n",
            "                  i             z      redshift        run_ID  rerun_ID  \\\n",
            "count  69999.000000  69999.000000  69999.000000  69999.000000   69999.0   \n",
            "mean      19.082984     18.767701      0.575254   4478.702681     301.0   \n",
            "std        1.756005      1.764734      0.729923   1965.290408       0.0   \n",
            "min        9.469903      9.612333     -0.009971    109.000000     301.0   \n",
            "25%       17.733685     17.463885      0.052608   3185.000000     301.0   \n",
            "50%       19.399590     19.001020      0.422848   4188.000000     301.0   \n",
            "75%       20.391350     19.917595      0.700399   5326.000000     301.0   \n",
            "max       32.141470     28.790550      7.011245   8162.000000     301.0   \n",
            "\n",
            "            cam_col      field_ID         plate  \n",
            "count  69999.000000  69999.000000  69999.000000  \n",
            "mean       3.510522    186.040701   5127.878813  \n",
            "std        1.585204    148.656411   2947.466071  \n",
            "min        1.000000     11.000000    266.000000  \n",
            "25%        2.000000     82.000000   2525.500000  \n",
            "50%        4.000000    146.000000   4978.000000  \n",
            "75%        5.000000    241.000000   7389.000000  \n",
            "max        6.000000    989.000000  12547.000000  \n"
          ]
        }
      ]
    },
    {
      "cell_type": "code",
      "source": [
        "print(X_train['redshift'].quantile([q/100 for q in range(90, 101)]))\n",
        "# 약 2% 만이 3을 넘음"
      ],
      "metadata": {
        "colab": {
          "base_uri": "https://localhost:8080/"
        },
        "id": "gwwjQOvALhng",
        "outputId": "0cfe5a66-5d73-4184-f050-f16212f31398"
      },
      "execution_count": 8,
      "outputs": [
        {
          "output_type": "stream",
          "name": "stdout",
          "text": [
            "0.90    1.566266\n",
            "0.91    1.675948\n",
            "0.92    1.786824\n",
            "0.93    1.910857\n",
            "0.94    2.041589\n",
            "0.95    2.186017\n",
            "0.96    2.323494\n",
            "0.97    2.485796\n",
            "0.98    2.713839\n",
            "0.99    3.116165\n",
            "1.00    7.011245\n",
            "Name: redshift, dtype: float64\n"
          ]
        }
      ]
    },
    {
      "cell_type": "code",
      "source": [
        "# 파생변수 추가\n",
        "X_train['redshift_upper3'] = np.where(X_train['redshift']>3, 1, 0)\n",
        "X_test['redshift_upper3'] = np.where(X_test['redshift']>3, 1, 0)"
      ],
      "metadata": {
        "id": "jgQT3fkeMEVh"
      },
      "execution_count": 9,
      "outputs": []
    },
    {
      "cell_type": "code",
      "source": [
        "COL_DEL = []\n",
        "COL_NUM = ['alpha', 'delta', 'u', 'g', 'r', 'i', 'z', 'redshift']\n",
        "COL_CAT = ['run_ID', 'rerun_ID', 'cam_col', 'field_ID', 'plate', 'redshift_upper3']\n",
        "COL_Y = ['galaxy']\n",
        "\n",
        "X_train[COL_CAT] = X_train[COL_CAT].astype(str)\n",
        "X_test[COL_CAT] = X_test[COL_CAT].astype(str)\n",
        "\n",
        "X_train = X_train.drop(COL_DEL, axis=1)\n",
        "X_test = X_test.drop(COL_DEL, axis=1)"
      ],
      "metadata": {
        "id": "BZVlMyn0JE5S"
      },
      "execution_count": 10,
      "outputs": []
    },
    {
      "cell_type": "code",
      "source": [
        "train_df = pd.concat([X_train, y_train], axis=1)\n",
        "\n",
        "for _col in COL_NUM:\n",
        "  print('-'*80)\n",
        "  print(_col)\n",
        "  print(train_df.groupby(COL_Y)[_col].describe(), end='\\n\\n')\n",
        "# 수치형 중 의미있어 보이는 변수 : redshift"
      ],
      "metadata": {
        "colab": {
          "base_uri": "https://localhost:8080/"
        },
        "id": "HEWcnedYx1Xh",
        "outputId": "c7ab340d-b1b1-4ed8-9844-1b31e7593e4b"
      },
      "execution_count": 11,
      "outputs": [
        {
          "output_type": "stream",
          "name": "stdout",
          "text": [
            "--------------------------------------------------------------------------------\n",
            "alpha\n",
            "          count        mean        std       min         25%         50%  \\\n",
            "galaxy                                                                     \n",
            "0       28433.0  177.234737  99.202036  0.010959  120.997187  180.253146   \n",
            "1       41566.0  177.740638  94.579769  0.005528  131.392267  181.032298   \n",
            "\n",
            "               75%         max  \n",
            "galaxy                          \n",
            "0       239.025694  359.999615  \n",
            "1       231.397544  359.989386  \n",
            "\n",
            "--------------------------------------------------------------------------------\n",
            "delta\n",
            "          count       mean        std        min       25%        50%  \\\n",
            "galaxy                                                                  \n",
            "0       28433.0  25.067356  20.141007 -18.785328  5.060842  26.372836   \n",
            "1       41566.0  23.452158  19.305416 -12.364701  5.136824  22.255904   \n",
            "\n",
            "              75%        max  \n",
            "galaxy                        \n",
            "0       41.762988  82.947622  \n",
            "1       37.855667  77.615588  \n",
            "\n",
            "--------------------------------------------------------------------------------\n",
            "u\n",
            "          count      mean       std       min        25%        50%  \\\n",
            "galaxy                                                                \n",
            "0       28433.0  21.34313  2.010059  10.99623  19.987270  21.355940   \n",
            "1       41566.0  22.58736  2.263188  13.89799  20.786442  22.847385   \n",
            "\n",
            "              75%       max  \n",
            "galaxy                       \n",
            "0       22.548860  32.78139  \n",
            "1       24.207522  29.32565  \n",
            "\n",
            "--------------------------------------------------------------------------------\n",
            "g\n",
            "          count       mean       std       min       25%        50%  \\\n",
            "galaxy                                                                \n",
            "0       28433.0  20.231791  1.851996  10.49820  19.00707  20.579190   \n",
            "1       41566.0  20.902150  2.106089  12.68849  18.90630  21.581005   \n",
            "\n",
            "              75%       max  \n",
            "galaxy                       \n",
            "0       21.533270  30.60700  \n",
            "1       22.439442  31.60224  \n",
            "\n",
            "--------------------------------------------------------------------------------\n",
            "r\n",
            "          count       mean       std       min        25%       50%  \\\n",
            "galaxy                                                                \n",
            "0       28433.0  19.734722  1.818405   9.82207  18.541890  20.15357   \n",
            "1       41566.0  19.581995  1.872222  11.77229  17.812303  20.10107   \n",
            "\n",
            "              75%       max  \n",
            "galaxy                       \n",
            "0       21.125780  29.37411  \n",
            "1       20.963275  29.57186  \n",
            "\n",
            "--------------------------------------------------------------------------------\n",
            "i\n",
            "          count       mean       std        min        25%        50%  \\\n",
            "galaxy                                                                  \n",
            "0       28433.0  19.429044  1.795189   9.469903  18.254250  19.831600   \n",
            "1       41566.0  18.846264  1.688337  11.319370  17.377382  19.217675   \n",
            "\n",
            "              75%       max  \n",
            "galaxy                       \n",
            "0       20.825140  32.14147  \n",
            "1       19.934773  30.16359  \n",
            "\n",
            "--------------------------------------------------------------------------------\n",
            "z\n",
            "          count       mean       std        min       25%       50%  \\\n",
            "galaxy                                                                \n",
            "0       28433.0  19.240711  1.811976   9.612333  18.03419  19.61244   \n",
            "1       41566.0  18.444141  1.655606  10.897380  17.09492  18.76067   \n",
            "\n",
            "              75%       max  \n",
            "galaxy                       \n",
            "0       20.627150  28.79055  \n",
            "1       19.463442  28.23829  \n",
            "\n",
            "--------------------------------------------------------------------------------\n",
            "redshift\n",
            "          count      mean       std       min       25%       50%       75%  \\\n",
            "galaxy                                                                        \n",
            "0       28433.0  0.801073  1.060163 -0.004136 -0.000095  0.000388  1.540357   \n",
            "1       41566.0  0.420785  0.263971 -0.009971  0.164568  0.456604  0.593396   \n",
            "\n",
            "             max  \n",
            "galaxy            \n",
            "0       7.011245  \n",
            "1       1.995524  \n",
            "\n"
          ]
        }
      ]
    },
    {
      "cell_type": "code",
      "source": [
        "for _col in COL_CAT:\n",
        "  print(train_df.groupby(_col, as_index=False)[COL_Y].mean().sort_values(by=COL_Y, ascending=False), end='\\n\\n')\n",
        "# 범주형 중 의미있어 보이는 변수 : cam_col, redshift_upper3"
      ],
      "metadata": {
        "colab": {
          "base_uri": "https://localhost:8080/"
        },
        "id": "6skJOMKX0UnX",
        "outputId": "483ee81a-b56c-4bb3-a2d7-efb386bec2e0"
      },
      "execution_count": 12,
      "outputs": [
        {
          "output_type": "stream",
          "name": "stdout",
          "text": [
            "    run_ID  galaxy\n",
            "97    2883     1.0\n",
            "325   6121     1.0\n",
            "399   8054     1.0\n",
            "38    1897     1.0\n",
            "245   4800     1.0\n",
            "..     ...     ...\n",
            "292   5378     0.0\n",
            "279   5237     0.0\n",
            "268   5115     0.0\n",
            "261   5060     0.0\n",
            "424    994     0.0\n",
            "\n",
            "[425 rows x 2 columns]\n",
            "\n",
            "  rerun_ID    galaxy\n",
            "0      301  0.593808\n",
            "\n",
            "  cam_col    galaxy\n",
            "0       1  0.619151\n",
            "3       4  0.612120\n",
            "4       5  0.610490\n",
            "2       3  0.593031\n",
            "1       2  0.583152\n",
            "5       6  0.530405\n",
            "\n",
            "    field_ID  galaxy\n",
            "676      717     1.0\n",
            "750      788     1.0\n",
            "667      708     1.0\n",
            "704      746     1.0\n",
            "706      748     1.0\n",
            "..       ...     ...\n",
            "830      934     0.0\n",
            "829      933     0.0\n",
            "828      932     0.0\n",
            "827      931     0.0\n",
            "835      940     0.0\n",
            "\n",
            "[847 rows x 2 columns]\n",
            "\n",
            "     plate  galaxy\n",
            "6186   999     1.0\n",
            "4292  6417     1.0\n",
            "4263  6388     1.0\n",
            "4264  6389     1.0\n",
            "1082  1900     1.0\n",
            "...    ...     ...\n",
            "1653  2560     0.0\n",
            "1655  2563     0.0\n",
            "1656  2564     0.0\n",
            "3569  5343     0.0\n",
            "1073  1891     0.0\n",
            "\n",
            "[6187 rows x 2 columns]\n",
            "\n",
            "  redshift_upper3    galaxy\n",
            "0               0  0.601125\n",
            "1               1  0.000000\n",
            "\n"
          ]
        }
      ]
    },
    {
      "cell_type": "code",
      "source": [
        "from sklearn.preprocessing import LabelEncoder\n",
        "X = pd.concat([X_train, X_test])\n",
        "\n",
        "for _col in COL_CAT:\n",
        "  le = LabelEncoder()\n",
        "  le.fit(X[_col])\n",
        "  X_train[_col] = le.transform(X_train[_col])\n",
        "  X_test[_col] = le.transform(X_test[_col])"
      ],
      "metadata": {
        "id": "svfXl8XNAYPg"
      },
      "execution_count": 13,
      "outputs": []
    },
    {
      "cell_type": "code",
      "source": [
        "from sklearn.model_selection import train_test_split\n",
        "X_tr, X_val, y_tr, y_val = train_test_split(X_train, y_train, test_size=0.3, stratify=y_train)"
      ],
      "metadata": {
        "id": "WiTFm-5IRr9_"
      },
      "execution_count": 14,
      "outputs": []
    },
    {
      "cell_type": "code",
      "source": [
        "from sklearn.preprocessing import StandardScaler\n",
        "\n",
        "scaler = StandardScaler()\n",
        "X_tr[COL_NUM] = scaler.fit_transform(X_tr[COL_NUM])\n",
        "X_val[COL_NUM] = scaler.transform(X_val[COL_NUM])\n",
        "X_test[COL_NUM] = scaler.transform(X_test[COL_NUM])"
      ],
      "metadata": {
        "id": "6gXA-QkDlXzo"
      },
      "execution_count": 15,
      "outputs": []
    },
    {
      "cell_type": "code",
      "source": [
        "from sklearn.ensemble import RandomForestClassifier\n",
        "\n",
        "model_rf = RandomForestClassifier()\n",
        "model_rf.fit(X_tr, y_tr.values.ravel())"
      ],
      "metadata": {
        "colab": {
          "base_uri": "https://localhost:8080/"
        },
        "id": "FjKqP-bQkjZg",
        "outputId": "1c640a23-3412-4681-f5df-acb0c7c27ae0"
      },
      "execution_count": 16,
      "outputs": [
        {
          "output_type": "execute_result",
          "data": {
            "text/plain": [
              "RandomForestClassifier()"
            ]
          },
          "metadata": {},
          "execution_count": 16
        }
      ]
    },
    {
      "cell_type": "code",
      "source": [
        "from xgboost import XGBClassifier\n",
        "\n",
        "model_xgb1 = XGBClassifier()\n",
        "model_xgb1.fit(X_tr, y_tr.values.ravel())"
      ],
      "metadata": {
        "colab": {
          "base_uri": "https://localhost:8080/"
        },
        "id": "R5VQSNsgbbDP",
        "outputId": "96d7a222-5277-470c-e72c-7d31622a2bf0"
      },
      "execution_count": 17,
      "outputs": [
        {
          "output_type": "execute_result",
          "data": {
            "text/plain": [
              "XGBClassifier()"
            ]
          },
          "metadata": {},
          "execution_count": 17
        }
      ]
    },
    {
      "cell_type": "code",
      "source": [
        "from sklearn.metrics import roc_auc_score\n",
        "\n",
        "y_pred_rf = model_rf.predict_proba(X_val)\n",
        "y_pred_xgb1 = model_xgb1.predict_proba(X_val)\n",
        "\n",
        "score_rf = roc_auc_score(y_val, y_pred_rf[:, 1])\n",
        "score_xgb1 = roc_auc_score(y_val, y_pred_xgb1[:, 1]) \n",
        "\n",
        "print(score_rf)\n",
        "print(score_xgb1)"
      ],
      "metadata": {
        "colab": {
          "base_uri": "https://localhost:8080/"
        },
        "id": "TTw529SQDPTY",
        "outputId": "1d65f876-3c23-47fd-85e8-2f67db5a50d8"
      },
      "execution_count": 18,
      "outputs": [
        {
          "output_type": "stream",
          "name": "stdout",
          "text": [
            "0.9934617478196204\n",
            "0.9936481224340529\n"
          ]
        }
      ]
    },
    {
      "cell_type": "code",
      "source": [
        "print(pd.DataFrame({'feature': X_tr.columns, 'fi_rf': model_rf.feature_importances_, 'fi_xgb': model_xgb1.feature_importances_}))"
      ],
      "metadata": {
        "colab": {
          "base_uri": "https://localhost:8080/"
        },
        "id": "2iS-EtoOClfP",
        "outputId": "102ee791-2c8d-4cf7-e1d0-9134fb2c35c5"
      },
      "execution_count": 19,
      "outputs": [
        {
          "output_type": "stream",
          "name": "stdout",
          "text": [
            "            feature     fi_rf    fi_xgb\n",
            "0             alpha  0.014498  0.003738\n",
            "1             delta  0.015044  0.009794\n",
            "2                 u  0.067689  0.118841\n",
            "3                 g  0.087992  0.165370\n",
            "4                 r  0.051043  0.006465\n",
            "5                 i  0.066835  0.015158\n",
            "6                 z  0.118309  0.080909\n",
            "7          redshift  0.503258  0.562278\n",
            "8            run_ID  0.010998  0.005344\n",
            "9          rerun_ID  0.000000  0.000000\n",
            "10          cam_col  0.003926  0.000000\n",
            "11         field_ID  0.008513  0.002462\n",
            "12            plate  0.043021  0.029641\n",
            "13  redshift_upper3  0.008875  0.000000\n"
          ]
        }
      ]
    },
    {
      "cell_type": "code",
      "source": [
        "pred = model_xgb1.predict_proba(X_test)[:,1]\n",
        "pd.DataFrame({'index': X_test.index, 'target': pred}).to_csv('./yemoonsaBigdata/res/003000000.csv', index=False)"
      ],
      "metadata": {
        "id": "BENtk8cUeE-i"
      },
      "execution_count": 20,
      "outputs": []
    }
  ]
}