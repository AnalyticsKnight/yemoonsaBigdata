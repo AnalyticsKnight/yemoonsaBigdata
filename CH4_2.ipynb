{
  "nbformat": 4,
  "nbformat_minor": 0,
  "metadata": {
    "colab": {
      "name": "CH4-2",
      "provenance": [],
      "collapsed_sections": [],
      "authorship_tag": "ABX9TyPaeJ+HnOR7pobnGIWjC0JK",
      "include_colab_link": true
    },
    "kernelspec": {
      "name": "python3",
      "display_name": "Python 3"
    },
    "language_info": {
      "name": "python"
    }
  },
  "cells": [
    {
      "cell_type": "markdown",
      "metadata": {
        "id": "view-in-github",
        "colab_type": "text"
      },
      "source": [
        "<a href=\"https://colab.research.google.com/github/AnalyticsKnight/yemoonsaBigdata/blob/dev/CH4_2.ipynb\" target=\"_parent\"><img src=\"https://colab.research.google.com/assets/colab-badge.svg\" alt=\"Open In Colab\"/></a>"
      ]
    },
    {
      "cell_type": "markdown",
      "source": [
        "# Chapter 4. A to Z 빅데이터 분석 실습  "
      ],
      "metadata": {
        "id": "XAbvzcR1EbTl"
      }
    },
    {
      "cell_type": "markdown",
      "source": [
        "## 3.실습 A to Z – Penguin"
      ],
      "metadata": {
        "id": "YCbouD2QEe6j"
      }
    },
    {
      "cell_type": "markdown",
      "source": [
        "### Penguin Dataset\n",
        "- https://raw.githubusercontent.com/mwaskom/seaborn-data/master/penguins.csv"
      ],
      "metadata": {
        "id": "6133mB54-c5l"
      }
    },
    {
      "cell_type": "markdown",
      "source": [
        "### (2) 사전준비"
      ],
      "metadata": {
        "id": "Kj1QM3jAEezx"
      }
    },
    {
      "cell_type": "markdown",
      "source": [
        "420"
      ],
      "metadata": {
        "id": "b6StXWN8Ee2x"
      }
    },
    {
      "cell_type": "code",
      "source": [
        "# 출력을 원하실 경우 print() 함수 활용\n",
        "# 예시) print(df.head())\n",
        "\n",
        "# getcwd(), chdir() 등 작업 폴더 설정 불필요\n",
        "# 파일 경로 상 내부 드라이브 경로(C: 등) 접근 불가\n",
        "\n",
        "# 데이터 파일 읽기 예제\n",
        "import pandas as pd\n",
        "X_test = pd.read_csv(\"./penguin_X_test.csv\")\n",
        "X_train = pd.read_csv(\"./penguin_X_train.csv\")\n",
        "y_train = pd.read_csv(\"./penguin_y_train.csv\")\n",
        "\n",
        "# 사용자 코딩\n",
        "\n",
        "# 답안 제출 참고\n",
        "# 아래 코드 예측변수와 수험번호를 개인별로 변경하여 활용\n",
        "# pd.DataFrame({'cust_id': X_test.cust_id, 'gender': pred}).to_csv('003000000.csv', index=False)\n"
      ],
      "metadata": {
        "id": "uoCvY6YcMvJK"
      },
      "execution_count": 14,
      "outputs": []
    },
    {
      "cell_type": "markdown",
      "source": [
        "421"
      ],
      "metadata": {
        "id": "OXu5zOP_M081"
      }
    },
    {
      "cell_type": "code",
      "source": [
        "import pandas as pd\n",
        "import numpy as np\n",
        "import warnings\n",
        "\n",
        "warnings.filterwarnings('ignore')"
      ],
      "metadata": {
        "id": "KfydhG51Mvx7"
      },
      "execution_count": 54,
      "outputs": []
    },
    {
      "cell_type": "markdown",
      "source": [
        "422"
      ],
      "metadata": {
        "id": "u94JB0RYM3eR"
      }
    },
    {
      "cell_type": "code",
      "source": [
        "X_test = pd.read_csv(\"./penguin_X_test.csv\")\n",
        "X_train = pd.read_csv(\"./penguin_X_train.csv\")\n",
        "y_train = pd.read_csv(\"./penguin_y_train.csv\")"
      ],
      "metadata": {
        "id": "N1KFtKLPMv0i"
      },
      "execution_count": 55,
      "outputs": []
    },
    {
      "cell_type": "markdown",
      "source": [
        "423"
      ],
      "metadata": {
        "id": "7zBOVf8GYn-f"
      }
    },
    {
      "cell_type": "code",
      "source": [
        "print(X_train.info()) # 결측치 확인\n",
        "print(X_test.info())"
      ],
      "metadata": {
        "id": "6ZJqaVBJMv5f",
        "colab": {
          "base_uri": "https://localhost:8080/"
        },
        "outputId": "1ef2d64a-314c-4290-8649-900b7c7a0390"
      },
      "execution_count": 59,
      "outputs": [
        {
          "output_type": "stream",
          "name": "stdout",
          "text": [
            "<class 'pandas.core.frame.DataFrame'>\n",
            "Int64Index: 232 entries, 1 to 239\n",
            "Data columns (total 6 columns):\n",
            " #   Column             Non-Null Count  Dtype  \n",
            "---  ------             --------------  -----  \n",
            " 0   species            232 non-null    object \n",
            " 1   island             232 non-null    object \n",
            " 2   sex                232 non-null    object \n",
            " 3   bill_length_mm     232 non-null    float64\n",
            " 4   bill_depth_mm      232 non-null    float64\n",
            " 5   flipper_length_mm  232 non-null    float64\n",
            "dtypes: float64(3), object(3)\n",
            "memory usage: 12.7+ KB\n",
            "None\n",
            "<class 'pandas.core.frame.DataFrame'>\n",
            "RangeIndex: 101 entries, 0 to 100\n",
            "Data columns (total 6 columns):\n",
            " #   Column             Non-Null Count  Dtype  \n",
            "---  ------             --------------  -----  \n",
            " 0   species            101 non-null    object \n",
            " 1   island             101 non-null    object \n",
            " 2   sex                101 non-null    object \n",
            " 3   bill_length_mm     101 non-null    float64\n",
            " 4   bill_depth_mm      101 non-null    float64\n",
            " 5   flipper_length_mm  101 non-null    float64\n",
            "dtypes: float64(3), object(3)\n",
            "memory usage: 4.9+ KB\n",
            "None\n"
          ]
        }
      ]
    },
    {
      "cell_type": "markdown",
      "source": [
        "424"
      ],
      "metadata": {
        "id": "WBjT2GYieSop"
      }
    },
    {
      "cell_type": "code",
      "source": [
        "train =  pd.concat([X_train, y_train], axis=1) # 왼쪽 오른쪽으로 합치기\n",
        "train.loc[(train.sex.isna()) | (train.bill_length_mm.isna()) | (train.bill_depth_mm.isna()) | (train.flipper_length_mm.isna()) | (train.body_mass_g.isna())]\n",
        "\n",
        "train = train.dropna()\n",
        "train.reset_index(drop=True, inplace=True)"
      ],
      "metadata": {
        "id": "5NaT5oOneSuD"
      },
      "execution_count": 72,
      "outputs": []
    },
    {
      "cell_type": "markdown",
      "source": [
        "425\n"
      ],
      "metadata": {
        "id": "Fc_OCskUmG7_"
      }
    },
    {
      "cell_type": "code",
      "source": [
        "X_train = train[['species','island', 'sex','bill_length_mm', 'bill_depth_mm', 'flipper_length_mm']]\n",
        "y_train = train[['body_mass_g']]"
      ],
      "metadata": {
        "id": "cUfRT5JxlFv-"
      },
      "execution_count": 74,
      "outputs": []
    },
    {
      "cell_type": "markdown",
      "source": [
        "426"
      ],
      "metadata": {
        "id": "6G7MSS_Vk-zS"
      }
    },
    {
      "cell_type": "code",
      "source": [
        "print(X_train.describe())"
      ],
      "metadata": {
        "colab": {
          "base_uri": "https://localhost:8080/"
        },
        "id": "iA1mrnhok-48",
        "outputId": "937274fb-8548-4b9c-f8b8-eee7c39b56e1"
      },
      "execution_count": 75,
      "outputs": [
        {
          "output_type": "stream",
          "name": "stdout",
          "text": [
            "       bill_length_mm  bill_depth_mm  flipper_length_mm\n",
            "count      232.000000     232.000000         232.000000\n",
            "mean        43.990948      17.226293         200.681034\n",
            "std          5.509760       1.964677          14.064231\n",
            "min         32.100000      13.200000         172.000000\n",
            "25%         39.200000      15.700000         190.000000\n",
            "50%         44.950000      17.350000         197.000000\n",
            "75%         48.775000      18.725000         212.250000\n",
            "max         58.000000      21.500000         231.000000\n"
          ]
        }
      ]
    },
    {
      "cell_type": "markdown",
      "source": [
        "427"
      ],
      "metadata": {
        "id": "mFDi5KXInF3L"
      }
    },
    {
      "cell_type": "code",
      "source": [
        "# 불필요 변수\n",
        "COL_DEL = []\n",
        "# 수치형 변수\n",
        "COL_NUM = ['bill_length_mm', 'bill_depth_mm', 'flipper_length_mm']\n",
        "# 범주형 변수 \n",
        "COL_CAT = ['species','island', 'sex']\n",
        "# 종속 변수\n",
        "COL_Y = ['body_mass_g']"
      ],
      "metadata": {
        "id": "klVzRgg7Mv7X"
      },
      "execution_count": 76,
      "outputs": []
    },
    {
      "cell_type": "markdown",
      "source": [
        "428"
      ],
      "metadata": {
        "id": "dlHagH_5vrVz"
      }
    },
    {
      "cell_type": "code",
      "source": [
        "X = pd.concat([X_train, X_test])\n",
        "\n",
        "from sklearn.preprocessing import OneHotEncoder\n",
        "ohe = OneHotEncoder(handle_unknown = 'ignore')\n",
        "ohe.fit(X[COL_CAT])\n",
        "# numpy array로 변환\n",
        "X_train_res = ohe.transform(X_train[COL_CAT])\n",
        "X_test_res = ohe.transform(X_test[COL_CAT])"
      ],
      "metadata": {
        "id": "mo6SZ3SCvrbO"
      },
      "execution_count": 77,
      "outputs": []
    },
    {
      "cell_type": "markdown",
      "source": [
        "429"
      ],
      "metadata": {
        "id": "Y3cU8e-U3ksE"
      }
    },
    {
      "cell_type": "code",
      "source": [
        "print(X_train_res)"
      ],
      "metadata": {
        "colab": {
          "base_uri": "https://localhost:8080/"
        },
        "id": "NJ5bL9KR3zLw",
        "outputId": "62028bb4-ace9-43b2-b11b-433cf0dc2070"
      },
      "execution_count": 78,
      "outputs": [
        {
          "output_type": "stream",
          "name": "stdout",
          "text": [
            "  (0, 2)\t1.0\n",
            "  (0, 3)\t1.0\n",
            "  (0, 6)\t1.0\n",
            "  (1, 0)\t1.0\n",
            "  (1, 5)\t1.0\n",
            "  (1, 7)\t1.0\n",
            "  (2, 1)\t1.0\n",
            "  (2, 4)\t1.0\n",
            "  (2, 7)\t1.0\n",
            "  (3, 2)\t1.0\n",
            "  (3, 3)\t1.0\n",
            "  (3, 7)\t1.0\n",
            "  (4, 0)\t1.0\n",
            "  (4, 4)\t1.0\n",
            "  (4, 6)\t1.0\n",
            "  (5, 2)\t1.0\n",
            "  (5, 3)\t1.0\n",
            "  (5, 7)\t1.0\n",
            "  (6, 2)\t1.0\n",
            "  (6, 3)\t1.0\n",
            "  (6, 6)\t1.0\n",
            "  (7, 0)\t1.0\n",
            "  (7, 5)\t1.0\n",
            "  (7, 6)\t1.0\n",
            "  (8, 2)\t1.0\n",
            "  :\t:\n",
            "  (223, 6)\t1.0\n",
            "  (224, 2)\t1.0\n",
            "  (224, 3)\t1.0\n",
            "  (224, 7)\t1.0\n",
            "  (225, 0)\t1.0\n",
            "  (225, 4)\t1.0\n",
            "  (225, 7)\t1.0\n",
            "  (226, 1)\t1.0\n",
            "  (226, 4)\t1.0\n",
            "  (226, 7)\t1.0\n",
            "  (227, 1)\t1.0\n",
            "  (227, 4)\t1.0\n",
            "  (227, 6)\t1.0\n",
            "  (228, 2)\t1.0\n",
            "  (228, 3)\t1.0\n",
            "  (228, 7)\t1.0\n",
            "  (229, 0)\t1.0\n",
            "  (229, 5)\t1.0\n",
            "  (229, 6)\t1.0\n",
            "  (230, 1)\t1.0\n",
            "  (230, 4)\t1.0\n",
            "  (230, 6)\t1.0\n",
            "  (231, 2)\t1.0\n",
            "  (231, 3)\t1.0\n",
            "  (231, 6)\t1.0\n"
          ]
        }
      ]
    },
    {
      "cell_type": "markdown",
      "source": [
        "430"
      ],
      "metadata": {
        "id": "P4MzyH4k4CP_"
      }
    },
    {
      "cell_type": "code",
      "source": [
        "X_train_ohe = pd.DataFrame(X_train_res.todense(), columns = ohe.get_feature_names())\n",
        "X_test_ohe = pd.DataFrame(X_test_res.todense(), columns = ohe.get_feature_names())\n",
        "print(X_train_ohe)\n",
        "\n",
        "X_train_fin = pd.concat([X_train[COL_NUM], X_train_ohe], axis=1)\n",
        "X_test_fin = pd.concat([X_test[COL_NUM], X_test_ohe], axis=1)"
      ],
      "metadata": {
        "colab": {
          "base_uri": "https://localhost:8080/"
        },
        "id": "DNY5eAwH4CXc",
        "outputId": "13536132-0d46-4997-c915-0c5b1b1d8c3d"
      },
      "execution_count": 79,
      "outputs": [
        {
          "output_type": "stream",
          "name": "stdout",
          "text": [
            "     x0_Adelie  x0_Chinstrap  x0_Gentoo  x1_Biscoe  x1_Dream  x1_Torgersen  \\\n",
            "0          0.0           0.0        1.0        1.0       0.0           0.0   \n",
            "1          1.0           0.0        0.0        0.0       0.0           1.0   \n",
            "2          0.0           1.0        0.0        0.0       1.0           0.0   \n",
            "3          0.0           0.0        1.0        1.0       0.0           0.0   \n",
            "4          1.0           0.0        0.0        0.0       1.0           0.0   \n",
            "..         ...           ...        ...        ...       ...           ...   \n",
            "227        0.0           1.0        0.0        0.0       1.0           0.0   \n",
            "228        0.0           0.0        1.0        1.0       0.0           0.0   \n",
            "229        1.0           0.0        0.0        0.0       0.0           1.0   \n",
            "230        0.0           1.0        0.0        0.0       1.0           0.0   \n",
            "231        0.0           0.0        1.0        1.0       0.0           0.0   \n",
            "\n",
            "     x2_FEMALE  x2_MALE  \n",
            "0          1.0      0.0  \n",
            "1          0.0      1.0  \n",
            "2          0.0      1.0  \n",
            "3          0.0      1.0  \n",
            "4          1.0      0.0  \n",
            "..         ...      ...  \n",
            "227        1.0      0.0  \n",
            "228        0.0      1.0  \n",
            "229        1.0      0.0  \n",
            "230        1.0      0.0  \n",
            "231        1.0      0.0  \n",
            "\n",
            "[232 rows x 8 columns]\n"
          ]
        }
      ]
    },
    {
      "cell_type": "markdown",
      "source": [
        "431"
      ],
      "metadata": {
        "id": "BszDAsJa7PRe"
      }
    },
    {
      "cell_type": "code",
      "source": [
        "from sklearn.model_selection import train_test_split\n",
        "X_tr, X_val, y_tr, y_val = train_test_split(X_train_fin, y_train, test_size=0.3)"
      ],
      "metadata": {
        "id": "8ATWEfaL7PX9"
      },
      "execution_count": 80,
      "outputs": []
    },
    {
      "cell_type": "markdown",
      "source": [
        "432"
      ],
      "metadata": {
        "id": "8c1pc0IH8dgk"
      }
    },
    {
      "cell_type": "code",
      "source": [
        "##### 수치형 변수 - 스케일링\n",
        "from sklearn.preprocessing import MinMaxScaler\n",
        "\n",
        "scaler = MinMaxScaler()\n",
        "scaler.fit(X_tr[COL_NUM])\n",
        "X_tr[COL_NUM]=scaler.transform(X_tr[COL_NUM])\n",
        "X_val[COL_NUM]=scaler.transform(X_val[COL_NUM])\n",
        "X_test_fin[COL_NUM]=scaler.transform(X_test_fin[COL_NUM])"
      ],
      "metadata": {
        "id": "cVBGoK308doE"
      },
      "execution_count": 81,
      "outputs": []
    },
    {
      "cell_type": "markdown",
      "source": [
        "433"
      ],
      "metadata": {
        "id": "3DBaeePq-DdZ"
      }
    },
    {
      "cell_type": "code",
      "source": [
        "from sklearn.linear_model import LinearRegression\n",
        "\n",
        "modelLR = LinearRegression()\n",
        "modelLR.fit(X_tr, y_tr)\n",
        "\n",
        "y_val_pred = modelLR.predict(X_val)\n",
        "print(y_val_pred)"
      ],
      "metadata": {
        "colab": {
          "base_uri": "https://localhost:8080/"
        },
        "id": "fYSGSsro-Diy",
        "outputId": "119fe18c-c438-4212-891e-8abdc0ce3b69"
      },
      "execution_count": 92,
      "outputs": [
        {
          "output_type": "stream",
          "name": "stdout",
          "text": [
            "[[3080.99148701]\n",
            " [5513.84804246]\n",
            " [4784.01589927]\n",
            " [3996.96441714]\n",
            " [5436.89407373]\n",
            " [5575.79673464]\n",
            " [3403.60635266]\n",
            " [3502.51050774]\n",
            " [5587.36798001]\n",
            " [3976.04813925]\n",
            " [3927.57523268]\n",
            " [3391.33556542]\n",
            " [4261.11008127]\n",
            " [5428.31170493]\n",
            " [5501.28050489]\n",
            " [3264.74197951]\n",
            " [4101.27312554]\n",
            " [3999.56202901]\n",
            " [5706.99332386]\n",
            " [3891.37663022]\n",
            " [4773.4813823 ]\n",
            " [2996.75960575]\n",
            " [4282.58074727]\n",
            " [4722.08849942]\n",
            " [3302.23588146]\n",
            " [4808.9258312 ]\n",
            " [4739.29450811]\n",
            " [4113.5146687 ]\n",
            " [5270.61731777]\n",
            " [3608.4455814 ]\n",
            " [4008.47503603]\n",
            " [3318.82153229]\n",
            " [5398.74415798]\n",
            " [4715.31400803]\n",
            " [3296.5648703 ]\n",
            " [4098.88237109]\n",
            " [4312.38726597]\n",
            " [3655.66091326]\n",
            " [4088.30741791]\n",
            " [3474.07624351]\n",
            " [4821.9045325 ]\n",
            " [3565.44268505]\n",
            " [3379.13445847]\n",
            " [3488.13928114]\n",
            " [3865.41783432]\n",
            " [5018.35955309]\n",
            " [4024.7049428 ]\n",
            " [4219.59338973]\n",
            " [5263.0525335 ]\n",
            " [3491.01245952]\n",
            " [3601.06445772]\n",
            " [5409.62082989]\n",
            " [4059.70340221]\n",
            " [3466.48165674]\n",
            " [4099.95083895]\n",
            " [4729.00212977]\n",
            " [4380.87362624]\n",
            " [3748.24021656]\n",
            " [3393.03410635]\n",
            " [5680.22779807]\n",
            " [5304.41861746]\n",
            " [3855.43716182]\n",
            " [4932.47807728]\n",
            " [4727.13168893]\n",
            " [3842.17019547]\n",
            " [3494.74904432]\n",
            " [4100.96095969]\n",
            " [4300.46658541]\n",
            " [5414.64702397]\n",
            " [3822.79417565]]\n"
          ]
        }
      ]
    },
    {
      "cell_type": "markdown",
      "source": [
        "434"
      ],
      "metadata": {
        "id": "o0UP_hCxEUKn"
      }
    },
    {
      "cell_type": "code",
      "source": [
        "print(modelLR.intercept_)\n",
        "\n",
        "coef = pd.Series(data=modelLR.coef_[0], index= X_train_fin.columns)\n",
        "print(coef.sort_values())"
      ],
      "metadata": {
        "colab": {
          "base_uri": "https://localhost:8080/"
        },
        "outputId": "84915fda-f86c-450a-9b39-244ba5bb2b12",
        "id": "Wv1wo_t9-ko4"
      },
      "execution_count": 93,
      "outputs": [
        {
          "output_type": "stream",
          "name": "stdout",
          "text": [
            "[3274.85247625]\n",
            "x0_Chinstrap        -475.558071\n",
            "x0_Adelie           -222.863712\n",
            "x2_FEMALE           -191.807393\n",
            "x1_Dream             -74.647205\n",
            "x1_Torgersen          30.439656\n",
            "x1_Biscoe             44.207548\n",
            "x2_MALE              191.807393\n",
            "bill_depth_mm        452.312576\n",
            "bill_length_mm       677.641049\n",
            "x0_Gentoo            698.421783\n",
            "flipper_length_mm    831.140614\n",
            "dtype: float64\n"
          ]
        }
      ]
    },
    {
      "cell_type": "markdown",
      "source": [
        "435"
      ],
      "metadata": {
        "id": "2318-DLrGwhR"
      }
    },
    {
      "cell_type": "code",
      "source": [
        "from sklearn.metrics import mean_squared_error, r2_score\n",
        "\n",
        "mse = mean_squared_error(y_val, y_val_pred)                 # 1. mse\n",
        "rmse = mean_squared_error(y_val, y_val_pred, squared=False) # 2. rmse : np.sqrt(mse)도 가능\n",
        "\n",
        "print('MSE : {0:.3f} , RMSE : {1:.3F} '.format(mse , rmse))"
      ],
      "metadata": {
        "colab": {
          "base_uri": "https://localhost:8080/"
        },
        "id": "sgRxh7Y4GwmU",
        "outputId": "5398ae4a-ace1-4666-b123-7228bb71a563"
      },
      "execution_count": 95,
      "outputs": [
        {
          "output_type": "stream",
          "name": "stdout",
          "text": [
            "MSE : 105258.812 , RMSE : 324.436 \n"
          ]
        }
      ]
    },
    {
      "cell_type": "markdown",
      "source": [
        "436"
      ],
      "metadata": {
        "id": "bUOQ0fUeQQeD"
      }
    },
    {
      "cell_type": "code",
      "source": [
        "y_pred = modelLR.predict(X_test_fin)\n",
        "print(y_pred)"
      ],
      "metadata": {
        "colab": {
          "base_uri": "https://localhost:8080/"
        },
        "id": "J2Tk89Qg3kzm",
        "outputId": "65d47068-dd26-41fc-8b70-b63e648b1c12"
      },
      "execution_count": 125,
      "outputs": [
        {
          "output_type": "stream",
          "name": "stdout",
          "text": [
            "[[4151.89187609]\n",
            " [5313.71040671]\n",
            " [4078.04699052]\n",
            " [3415.7066084 ]\n",
            " [4701.20417247]\n",
            " [3943.97666449]\n",
            " [3382.53766566]\n",
            " [3745.03479532]\n",
            " [3507.05744782]\n",
            " [3468.39750221]\n",
            " [3329.31526611]\n",
            " [5517.97879555]\n",
            " [3607.34628955]\n",
            " [4052.08967156]\n",
            " [3842.15999231]\n",
            " [4066.03907582]\n",
            " [4387.59078894]\n",
            " [3482.11894332]\n",
            " [3526.0507131 ]\n",
            " [3381.01451155]\n",
            " [5338.95277839]\n",
            " [4204.30019505]\n",
            " [5962.59203215]\n",
            " [4674.31435468]\n",
            " [5408.48539872]\n",
            " [5532.05249179]\n",
            " [5555.82699256]\n",
            " [4272.08451808]\n",
            " [3397.60233877]\n",
            " [3977.67711298]\n",
            " [4150.62750911]\n",
            " [3353.71748001]\n",
            " [3509.68204223]\n",
            " [4634.47572173]\n",
            " [3311.09382134]\n",
            " [3511.13095281]\n",
            " [3281.66812023]\n",
            " [3466.25127879]\n",
            " [3914.83660519]\n",
            " [4975.36516691]\n",
            " [3451.37834894]\n",
            " [5626.31546887]\n",
            " [5021.37187045]\n",
            " [4677.85138552]\n",
            " [5831.09157575]\n",
            " [3792.63290644]\n",
            " [4785.94592021]\n",
            " [3310.09808757]\n",
            " [5387.10820072]\n",
            " [4220.20410742]\n",
            " [4641.8757778 ]\n",
            " [4779.78644342]\n",
            " [4151.60521584]\n",
            " [3802.62412447]\n",
            " [3180.26151428]\n",
            " [4363.73774774]\n",
            " [4829.54672719]\n",
            " [4618.38814877]\n",
            " [3822.33892086]\n",
            " [4086.34872142]\n",
            " [3606.85369023]\n",
            " [4896.66290087]\n",
            " [3298.43960804]\n",
            " [4932.61936471]\n",
            " [4049.81236388]\n",
            " [4090.06532744]\n",
            " [5501.99422224]\n",
            " [3169.21431087]\n",
            " [4785.17477121]\n",
            " [3676.15966571]\n",
            " [4026.61367142]\n",
            " [3398.64757734]\n",
            " [4769.96349535]\n",
            " [3319.94641336]\n",
            " [4878.58059508]\n",
            " [4637.73017772]\n",
            " [5399.73746684]\n",
            " [3345.89356167]\n",
            " [3527.951387  ]\n",
            " [4843.38043325]\n",
            " [3484.81321802]\n",
            " [5755.15089465]\n",
            " [3358.16627575]\n",
            " [4853.56766348]\n",
            " [4705.24892134]\n",
            " [3351.09503404]\n",
            " [5657.49002571]\n",
            " [4200.67716   ]\n",
            " [3816.44354653]\n",
            " [4819.38293774]\n",
            " [4112.74317278]\n",
            " [4085.66582806]\n",
            " [4108.42126737]\n",
            " [4182.5512511 ]\n",
            " [5455.13681083]\n",
            " [4156.60990609]\n",
            " [5277.73694744]\n",
            " [3656.29823862]\n",
            " [4827.41500383]\n",
            " [5368.78590475]\n",
            " [3606.28722243]]\n"
          ]
        }
      ]
    },
    {
      "cell_type": "markdown",
      "source": [
        "437"
      ],
      "metadata": {
        "id": "CPPPbNLGSDQX"
      }
    },
    {
      "cell_type": "code",
      "source": [
        "pd.DataFrame({'penguin': X_test_fin.index, 'body_mass_g': y_pred[:,0]}).to_csv('004000000.csv', index=False)"
      ],
      "metadata": {
        "id": "xV91Z1D1SDVz"
      },
      "execution_count": 129,
      "outputs": []
    }
  ]
}