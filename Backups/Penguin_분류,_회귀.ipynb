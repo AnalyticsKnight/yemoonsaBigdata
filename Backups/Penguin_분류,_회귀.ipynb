{
  "nbformat": 4,
  "nbformat_minor": 0,
  "metadata": {
    "colab": {
      "name": "Penguin 분류, 회귀.ipynb",
      "provenance": [],
      "collapsed_sections": [],
      "authorship_tag": "ABX9TyMqsEsVUTikwH/W71uMSwga",
      "include_colab_link": true
    },
    "kernelspec": {
      "name": "python3",
      "display_name": "Python 3"
    },
    "language_info": {
      "name": "python"
    }
  },
  "cells": [
    {
      "cell_type": "markdown",
      "metadata": {
        "id": "view-in-github",
        "colab_type": "text"
      },
      "source": [
        "<a href=\"https://colab.research.google.com/github/AnalyticsKnight/yemoonsaBigdata/blob/dev/Penguin_%EB%B6%84%EB%A5%98%2C_%ED%9A%8C%EA%B7%80.ipynb\" target=\"_parent\"><img src=\"https://colab.research.google.com/assets/colab-badge.svg\" alt=\"Open In Colab\"/></a>"
      ]
    },
    {
      "cell_type": "markdown",
      "source": [
        "### Penguin Dataset\n",
        "- https://raw.githubusercontent.com/mwaskom/seaborn-data/master/penguins.csv"
      ],
      "metadata": {
        "id": "6133mB54-c5l"
      }
    },
    {
      "cell_type": "code",
      "execution_count": 26,
      "metadata": {
        "id": "OKHJXjwU492V",
        "colab": {
          "base_uri": "https://localhost:8080/",
          "height": 206
        },
        "outputId": "ccc791d9-d380-47f3-f0fe-e02ffb1bba9d"
      },
      "outputs": [
        {
          "output_type": "execute_result",
          "data": {
            "text/html": [
              "\n",
              "  <div id=\"df-679410fc-3c70-482d-8d74-a186b0f313e7\">\n",
              "    <div class=\"colab-df-container\">\n",
              "      <div>\n",
              "<style scoped>\n",
              "    .dataframe tbody tr th:only-of-type {\n",
              "        vertical-align: middle;\n",
              "    }\n",
              "\n",
              "    .dataframe tbody tr th {\n",
              "        vertical-align: top;\n",
              "    }\n",
              "\n",
              "    .dataframe thead th {\n",
              "        text-align: right;\n",
              "    }\n",
              "</style>\n",
              "<table border=\"1\" class=\"dataframe\">\n",
              "  <thead>\n",
              "    <tr style=\"text-align: right;\">\n",
              "      <th></th>\n",
              "      <th>species</th>\n",
              "      <th>island</th>\n",
              "      <th>bill_length_mm</th>\n",
              "      <th>bill_depth_mm</th>\n",
              "      <th>flipper_length_mm</th>\n",
              "      <th>body_mass_g</th>\n",
              "      <th>sex</th>\n",
              "    </tr>\n",
              "  </thead>\n",
              "  <tbody>\n",
              "    <tr>\n",
              "      <th>0</th>\n",
              "      <td>Adelie</td>\n",
              "      <td>Torgersen</td>\n",
              "      <td>39.1</td>\n",
              "      <td>18.7</td>\n",
              "      <td>181.0</td>\n",
              "      <td>3750.0</td>\n",
              "      <td>MALE</td>\n",
              "    </tr>\n",
              "    <tr>\n",
              "      <th>1</th>\n",
              "      <td>Adelie</td>\n",
              "      <td>Torgersen</td>\n",
              "      <td>39.5</td>\n",
              "      <td>17.4</td>\n",
              "      <td>186.0</td>\n",
              "      <td>3800.0</td>\n",
              "      <td>FEMALE</td>\n",
              "    </tr>\n",
              "    <tr>\n",
              "      <th>2</th>\n",
              "      <td>Adelie</td>\n",
              "      <td>Torgersen</td>\n",
              "      <td>40.3</td>\n",
              "      <td>18.0</td>\n",
              "      <td>195.0</td>\n",
              "      <td>3250.0</td>\n",
              "      <td>FEMALE</td>\n",
              "    </tr>\n",
              "    <tr>\n",
              "      <th>3</th>\n",
              "      <td>Adelie</td>\n",
              "      <td>Torgersen</td>\n",
              "      <td>NaN</td>\n",
              "      <td>NaN</td>\n",
              "      <td>NaN</td>\n",
              "      <td>NaN</td>\n",
              "      <td>NaN</td>\n",
              "    </tr>\n",
              "    <tr>\n",
              "      <th>4</th>\n",
              "      <td>Adelie</td>\n",
              "      <td>Torgersen</td>\n",
              "      <td>36.7</td>\n",
              "      <td>19.3</td>\n",
              "      <td>193.0</td>\n",
              "      <td>3450.0</td>\n",
              "      <td>FEMALE</td>\n",
              "    </tr>\n",
              "  </tbody>\n",
              "</table>\n",
              "</div>\n",
              "      <button class=\"colab-df-convert\" onclick=\"convertToInteractive('df-679410fc-3c70-482d-8d74-a186b0f313e7')\"\n",
              "              title=\"Convert this dataframe to an interactive table.\"\n",
              "              style=\"display:none;\">\n",
              "        \n",
              "  <svg xmlns=\"http://www.w3.org/2000/svg\" height=\"24px\"viewBox=\"0 0 24 24\"\n",
              "       width=\"24px\">\n",
              "    <path d=\"M0 0h24v24H0V0z\" fill=\"none\"/>\n",
              "    <path d=\"M18.56 5.44l.94 2.06.94-2.06 2.06-.94-2.06-.94-.94-2.06-.94 2.06-2.06.94zm-11 1L8.5 8.5l.94-2.06 2.06-.94-2.06-.94L8.5 2.5l-.94 2.06-2.06.94zm10 10l.94 2.06.94-2.06 2.06-.94-2.06-.94-.94-2.06-.94 2.06-2.06.94z\"/><path d=\"M17.41 7.96l-1.37-1.37c-.4-.4-.92-.59-1.43-.59-.52 0-1.04.2-1.43.59L10.3 9.45l-7.72 7.72c-.78.78-.78 2.05 0 2.83L4 21.41c.39.39.9.59 1.41.59.51 0 1.02-.2 1.41-.59l7.78-7.78 2.81-2.81c.8-.78.8-2.07 0-2.86zM5.41 20L4 18.59l7.72-7.72 1.47 1.35L5.41 20z\"/>\n",
              "  </svg>\n",
              "      </button>\n",
              "      \n",
              "  <style>\n",
              "    .colab-df-container {\n",
              "      display:flex;\n",
              "      flex-wrap:wrap;\n",
              "      gap: 12px;\n",
              "    }\n",
              "\n",
              "    .colab-df-convert {\n",
              "      background-color: #E8F0FE;\n",
              "      border: none;\n",
              "      border-radius: 50%;\n",
              "      cursor: pointer;\n",
              "      display: none;\n",
              "      fill: #1967D2;\n",
              "      height: 32px;\n",
              "      padding: 0 0 0 0;\n",
              "      width: 32px;\n",
              "    }\n",
              "\n",
              "    .colab-df-convert:hover {\n",
              "      background-color: #E2EBFA;\n",
              "      box-shadow: 0px 1px 2px rgba(60, 64, 67, 0.3), 0px 1px 3px 1px rgba(60, 64, 67, 0.15);\n",
              "      fill: #174EA6;\n",
              "    }\n",
              "\n",
              "    [theme=dark] .colab-df-convert {\n",
              "      background-color: #3B4455;\n",
              "      fill: #D2E3FC;\n",
              "    }\n",
              "\n",
              "    [theme=dark] .colab-df-convert:hover {\n",
              "      background-color: #434B5C;\n",
              "      box-shadow: 0px 1px 3px 1px rgba(0, 0, 0, 0.15);\n",
              "      filter: drop-shadow(0px 1px 2px rgba(0, 0, 0, 0.3));\n",
              "      fill: #FFFFFF;\n",
              "    }\n",
              "  </style>\n",
              "\n",
              "      <script>\n",
              "        const buttonEl =\n",
              "          document.querySelector('#df-679410fc-3c70-482d-8d74-a186b0f313e7 button.colab-df-convert');\n",
              "        buttonEl.style.display =\n",
              "          google.colab.kernel.accessAllowed ? 'block' : 'none';\n",
              "\n",
              "        async function convertToInteractive(key) {\n",
              "          const element = document.querySelector('#df-679410fc-3c70-482d-8d74-a186b0f313e7');\n",
              "          const dataTable =\n",
              "            await google.colab.kernel.invokeFunction('convertToInteractive',\n",
              "                                                     [key], {});\n",
              "          if (!dataTable) return;\n",
              "\n",
              "          const docLinkHtml = 'Like what you see? Visit the ' +\n",
              "            '<a target=\"_blank\" href=https://colab.research.google.com/notebooks/data_table.ipynb>data table notebook</a>'\n",
              "            + ' to learn more about interactive tables.';\n",
              "          element.innerHTML = '';\n",
              "          dataTable['output_type'] = 'display_data';\n",
              "          await google.colab.output.renderOutput(dataTable, element);\n",
              "          const docLink = document.createElement('div');\n",
              "          docLink.innerHTML = docLinkHtml;\n",
              "          element.appendChild(docLink);\n",
              "        }\n",
              "      </script>\n",
              "    </div>\n",
              "  </div>\n",
              "  "
            ],
            "text/plain": [
              "  species     island  bill_length_mm  bill_depth_mm  flipper_length_mm  \\\n",
              "0  Adelie  Torgersen            39.1           18.7              181.0   \n",
              "1  Adelie  Torgersen            39.5           17.4              186.0   \n",
              "2  Adelie  Torgersen            40.3           18.0              195.0   \n",
              "3  Adelie  Torgersen             NaN            NaN                NaN   \n",
              "4  Adelie  Torgersen            36.7           19.3              193.0   \n",
              "\n",
              "   body_mass_g     sex  \n",
              "0       3750.0    MALE  \n",
              "1       3800.0  FEMALE  \n",
              "2       3250.0  FEMALE  \n",
              "3          NaN     NaN  \n",
              "4       3450.0  FEMALE  "
            ]
          },
          "metadata": {},
          "execution_count": 26
        }
      ],
      "source": [
        "import pandas as pd\n",
        "import numpy as np\n",
        "import warnings\n",
        "\n",
        "warnings.filterwarnings('ignore')\n",
        "# pd.set_option('max_rows', None)\n",
        "pd.set_option('max_columns', None)\n",
        "\n",
        "##### 데이터 불러오기\n",
        "df = pd.read_csv(\"https://raw.githubusercontent.com/mwaskom/seaborn-data/master/penguins.csv\")\n",
        "df.head()"
      ]
    },
    {
      "cell_type": "code",
      "source": [
        "df = df.dropna()"
      ],
      "metadata": {
        "id": "57D3lcqi595j"
      },
      "execution_count": 27,
      "outputs": []
    },
    {
      "cell_type": "code",
      "source": [
        "df.columns"
      ],
      "metadata": {
        "colab": {
          "base_uri": "https://localhost:8080/"
        },
        "id": "3VmeUgopCEND",
        "outputId": "29f56ade-e1f0-43ec-da0c-78e7d9050f03"
      },
      "execution_count": 28,
      "outputs": [
        {
          "output_type": "execute_result",
          "data": {
            "text/plain": [
              "Index(['species', 'island', 'bill_length_mm', 'bill_depth_mm',\n",
              "       'flipper_length_mm', 'body_mass_g', 'sex'],\n",
              "      dtype='object')"
            ]
          },
          "metadata": {},
          "execution_count": 28
        }
      ]
    },
    {
      "cell_type": "markdown",
      "source": [
        "\n",
        "1. 분류, Y = isMale\n",
        "- 분류 분석을 하기 위해 데이터를 7:3으로 split하기"
      ],
      "metadata": {
        "id": "N5S0ETu0ByuS"
      }
    },
    {
      "cell_type": "code",
      "source": [
        "# 불필요 변수\n",
        "COL_DEL = []\n",
        "# 수치형 변수\n",
        "COL_NUM = ['bill_length_mm', 'bill_depth_mm', 'flipper_length_mm', 'body_mass_g']\n",
        "# 범주형 변수 \n",
        "COL_CAT = ['species','island']\n",
        "# 종속 변수\n",
        "COL_Y = ['isMale']\n",
        "\n",
        "df_X = df[['bill_length_mm', 'bill_depth_mm', 'flipper_length_mm', 'body_mass_g','species','island']]\n",
        "df['isMale'] = 0\n",
        "df.loc[df.sex == 'MALE', 'isMale'] = 1\n",
        "df_Y = df[['isMale']]\n",
        "\n",
        "from sklearn.model_selection import train_test_split\n",
        "X_train_raw, X_test_raw, y_train_raw, y_test_raw = train_test_split(df_X, df_Y, test_size=0.3)\n",
        "\n",
        "X_train_raw.reset_index(drop=True, inplace=True)\n",
        "X_test_raw.reset_index(drop=True, inplace=True)\n",
        "y_train_raw.reset_index(drop=True, inplace=True)\n",
        "y_test_raw.reset_index(drop=True, inplace=True)\n",
        "\n",
        "X_raw = pd.concat([X_train_raw, X_test_raw]) #위 아래로 합치기,\n",
        "# Scaling 및 Onehot encoding을 위한 데이터\n",
        "train_raw =  pd.concat([X_train_raw, y_train_raw], axis=1) # 왼쪽 오른쪽으로 합치기\n",
        "# raw를 지우는 데이터 처리를 위한 데이터"
      ],
      "metadata": {
        "id": "0QI0Z--pGBwk"
      },
      "execution_count": 45,
      "outputs": []
    },
    {
      "cell_type": "code",
      "source": [
        "# X_train_raw.head()\n",
        "# print(X_train_raw.columns)\n",
        "# print(X_train_raw.dtypes)\n",
        "print(X_train_raw.info()) # 결측치 확인\n",
        "# X_train_raw.describe() #이상치 확인"
      ],
      "metadata": {
        "colab": {
          "base_uri": "https://localhost:8080/"
        },
        "id": "ys-FoyQ69cCv",
        "outputId": "dd8ad508-b3fe-4288-d447-46f3abf40daa"
      },
      "execution_count": 46,
      "outputs": [
        {
          "output_type": "stream",
          "name": "stdout",
          "text": [
            "<class 'pandas.core.frame.DataFrame'>\n",
            "RangeIndex: 233 entries, 0 to 232\n",
            "Data columns (total 6 columns):\n",
            " #   Column             Non-Null Count  Dtype  \n",
            "---  ------             --------------  -----  \n",
            " 0   bill_length_mm     233 non-null    float64\n",
            " 1   bill_depth_mm      233 non-null    float64\n",
            " 2   flipper_length_mm  233 non-null    float64\n",
            " 3   body_mass_g        233 non-null    float64\n",
            " 4   species            233 non-null    object \n",
            " 5   island             233 non-null    object \n",
            "dtypes: float64(4), object(2)\n",
            "memory usage: 11.0+ KB\n",
            "None\n"
          ]
        }
      ]
    },
    {
      "cell_type": "code",
      "source": [
        "##### 불필요 변수 제외\n",
        "# X_train = X_train_raw.iloc[:, 1:]\n",
        "# y_train = y_train_raw.iloc[:, 1:]\n",
        "# X_test = X_test_raw.iloc[:, 1:]\n",
        "\n",
        "##### 불필요 변수 제외X\n",
        "X_train = X_train_raw.copy()\n",
        "y_train = y_train_raw.copy()\n",
        "X_test = X_test_raw.copy()"
      ],
      "metadata": {
        "id": "TOGWHyKcDZRJ"
      },
      "execution_count": 47,
      "outputs": []
    },
    {
      "cell_type": "code",
      "source": [
        "##### 결측치 처리하기\n",
        "# from sklearn.impute import SimpleImputer\n",
        "# # imputer = SimpleImputer(missing_values=np.nan, strategy='constant', fill_value=0)\n",
        "# imputer = SimpleImputer(missing_values=np.nan, strategy='mean')\n",
        "# X_train[['horsepower']] = imputer.fit_transform( X_train[['horsepower']] )"
      ],
      "metadata": {
        "id": "5whIH0qXCWI3"
      },
      "execution_count": 48,
      "outputs": []
    },
    {
      "cell_type": "code",
      "source": [
        "##### 수치형 변수 - 스케일링\n",
        "from sklearn.preprocessing import StandardScaler\n",
        "scaler = StandardScaler()\n",
        "scaler.fit(X_raw[COL_NUM])\n",
        "X_train[COL_NUM]=scaler.transform(X_train[COL_NUM])\n",
        "X_test[COL_NUM]=scaler.transform(X_test[COL_NUM])"
      ],
      "metadata": {
        "id": "GX--KkQZEOEh"
      },
      "execution_count": 49,
      "outputs": []
    },
    {
      "cell_type": "code",
      "source": [
        "##### 범주형 변수 - 그 다음 원핫 인코딩 - 여기서는 제외했으므로 사용하지 않음\n",
        "from sklearn.preprocessing import OneHotEncoder\n",
        "ohe = OneHotEncoder(handle_unknown = 'ignore')\n",
        "ohe.fit(X_train[COL_CAT])\n",
        "# numpy array로 변환\n",
        "X_train_res = ohe.transform(X_train[COL_CAT])\n",
        "X_test_res = ohe.transform(X_test[COL_CAT])\n",
        "\n",
        "# 다시 DF화 하기\n",
        "X_train_ohe = pd.DataFrame(X_train_res.todense(), columns = ohe.get_feature_names())\n",
        "X_test_ohe = pd.DataFrame(X_test_res.todense(), columns = ohe.get_feature_names())\n",
        "# print(X_train_ohe.head())\n",
        "\n",
        "X_train_fin = pd.concat([X_train[COL_NUM], X_train_ohe], axis=1)\n",
        "X_test_fin = pd.concat([X_test[COL_NUM], X_test_ohe], axis=1)"
      ],
      "metadata": {
        "id": "sYtF9z85Eoc5"
      },
      "execution_count": 50,
      "outputs": []
    },
    {
      "cell_type": "code",
      "source": [
        "##### 훈련데이터 분할\n",
        "# y의 클래스 비율에 맞게 분할 stratify\n",
        "\n",
        "from sklearn.model_selection import train_test_split\n",
        "X_tr, X_val, y_tr, y_val = train_test_split(X_train_fin, y_train, test_size=0.3)"
      ],
      "metadata": {
        "id": "qJQxkWQBE7Zy"
      },
      "execution_count": 52,
      "outputs": []
    },
    {
      "cell_type": "code",
      "source": [
        "##### 모델학습하기\n",
        "\n",
        "# 로지스틱 회귀\n",
        "from sklearn.linear_model import LogisticRegression\n",
        "# C 값이 작을 수록 규제가 커지고 일반화\n",
        "modelLR = LogisticRegression(C=0.1, random_state=0)\n",
        "modelLR.fit(X_tr, y_tr)\n",
        "\n",
        "# KNN 분류\n",
        "from sklearn.neighbors import KNeighborsClassifier\n",
        "modelKNN = KNeighborsClassifier(n_neighbors=5, metric='euclidean')\n",
        "modelKNN.fit(X_tr, y_tr)\n",
        "\n",
        "# 랜덤포레스트\n",
        "from sklearn.ensemble import RandomForestClassifier\n",
        "modelRF = RandomForestClassifier(n_estimators=100, max_depth=10)\n",
        "modelRF.fit(X_tr, y_tr)\n",
        "\n",
        "# 의사결정나무\n",
        "from sklearn.tree import DecisionTreeClassifier\n",
        "modelDT = DecisionTreeClassifier(max_depth=10)\n",
        "modelDT.fit(X_tr, y_tr)\n",
        "\n",
        "# XGBoost\n",
        "from xgboost import XGBClassifier\n",
        "modelX = XGBClassifier(n_estimators=100, learning_rate=0.02, max_depth=10)\n",
        "xgb_model = modelX.fit(X_tr, y_tr, early_stopping_rounds=100, eval_metric='logloss',eval_set=[(X_val, y_val)])\n",
        "\n",
        "# 이미 결정해버림\n",
        "y_val_pred = modelLR.predict(X_val)\n",
        "# [0일 확률, 1일 확률]확률값\n",
        "y_val_pred_proba = modelLR.predict_proba(X_val)"
      ],
      "metadata": {
        "id": "Y3B5nb7XFG-T",
        "colab": {
          "base_uri": "https://localhost:8080/"
        },
        "outputId": "760d9e65-7ee4-48be-9352-73490a49f95c"
      },
      "execution_count": 53,
      "outputs": [
        {
          "output_type": "stream",
          "name": "stdout",
          "text": [
            "[0]\tvalidation_0-logloss:0.681452\n",
            "Will train until validation_0-logloss hasn't improved in 100 rounds.\n",
            "[1]\tvalidation_0-logloss:0.67006\n",
            "[2]\tvalidation_0-logloss:0.659083\n",
            "[3]\tvalidation_0-logloss:0.648638\n",
            "[4]\tvalidation_0-logloss:0.638432\n",
            "[5]\tvalidation_0-logloss:0.628588\n",
            "[6]\tvalidation_0-logloss:0.619219\n",
            "[7]\tvalidation_0-logloss:0.610045\n",
            "[8]\tvalidation_0-logloss:0.601314\n",
            "[9]\tvalidation_0-logloss:0.592749\n",
            "[10]\tvalidation_0-logloss:0.584679\n",
            "[11]\tvalidation_0-logloss:0.576749\n",
            "[12]\tvalidation_0-logloss:0.568982\n",
            "[13]\tvalidation_0-logloss:0.56168\n",
            "[14]\tvalidation_0-logloss:0.554397\n",
            "[15]\tvalidation_0-logloss:0.547871\n",
            "[16]\tvalidation_0-logloss:0.541031\n",
            "[17]\tvalidation_0-logloss:0.534474\n",
            "[18]\tvalidation_0-logloss:0.528549\n",
            "[19]\tvalidation_0-logloss:0.522318\n",
            "[20]\tvalidation_0-logloss:0.516456\n",
            "[21]\tvalidation_0-logloss:0.509173\n",
            "[22]\tvalidation_0-logloss:0.502106\n",
            "[23]\tvalidation_0-logloss:0.495246\n",
            "[24]\tvalidation_0-logloss:0.488073\n",
            "[25]\tvalidation_0-logloss:0.481373\n",
            "[26]\tvalidation_0-logloss:0.475078\n",
            "[27]\tvalidation_0-logloss:0.46848\n",
            "[28]\tvalidation_0-logloss:0.462328\n",
            "[29]\tvalidation_0-logloss:0.456542\n",
            "[30]\tvalidation_0-logloss:0.450463\n",
            "[31]\tvalidation_0-logloss:0.444954\n",
            "[32]\tvalidation_0-logloss:0.43944\n",
            "[33]\tvalidation_0-logloss:0.433787\n",
            "[34]\tvalidation_0-logloss:0.428739\n",
            "[35]\tvalidation_0-logloss:0.423934\n",
            "[36]\tvalidation_0-logloss:0.418732\n",
            "[37]\tvalidation_0-logloss:0.414276\n",
            "[38]\tvalidation_0-logloss:0.409567\n",
            "[39]\tvalidation_0-logloss:0.405007\n",
            "[40]\tvalidation_0-logloss:0.400622\n",
            "[41]\tvalidation_0-logloss:0.39636\n",
            "[42]\tvalidation_0-logloss:0.392354\n",
            "[43]\tvalidation_0-logloss:0.38833\n",
            "[44]\tvalidation_0-logloss:0.38462\n",
            "[45]\tvalidation_0-logloss:0.380546\n",
            "[46]\tvalidation_0-logloss:0.37705\n",
            "[47]\tvalidation_0-logloss:0.373119\n",
            "[48]\tvalidation_0-logloss:0.369796\n",
            "[49]\tvalidation_0-logloss:0.36634\n",
            "[50]\tvalidation_0-logloss:0.362886\n",
            "[51]\tvalidation_0-logloss:0.359595\n",
            "[52]\tvalidation_0-logloss:0.3563\n",
            "[53]\tvalidation_0-logloss:0.353382\n",
            "[54]\tvalidation_0-logloss:0.350235\n",
            "[55]\tvalidation_0-logloss:0.347459\n",
            "[56]\tvalidation_0-logloss:0.344757\n",
            "[57]\tvalidation_0-logloss:0.341813\n",
            "[58]\tvalidation_0-logloss:0.339241\n",
            "[59]\tvalidation_0-logloss:0.336428\n",
            "[60]\tvalidation_0-logloss:0.334143\n",
            "[61]\tvalidation_0-logloss:0.331799\n",
            "[62]\tvalidation_0-logloss:0.329158\n",
            "[63]\tvalidation_0-logloss:0.327014\n",
            "[64]\tvalidation_0-logloss:0.324488\n",
            "[65]\tvalidation_0-logloss:0.322329\n",
            "[66]\tvalidation_0-logloss:0.319913\n",
            "[67]\tvalidation_0-logloss:0.318128\n",
            "[68]\tvalidation_0-logloss:0.315969\n",
            "[69]\tvalidation_0-logloss:0.313767\n",
            "[70]\tvalidation_0-logloss:0.31167\n",
            "[71]\tvalidation_0-logloss:0.309842\n",
            "[72]\tvalidation_0-logloss:0.307855\n",
            "[73]\tvalidation_0-logloss:0.306068\n",
            "[74]\tvalidation_0-logloss:0.304184\n",
            "[75]\tvalidation_0-logloss:0.302349\n",
            "[76]\tvalidation_0-logloss:0.300568\n",
            "[77]\tvalidation_0-logloss:0.298945\n",
            "[78]\tvalidation_0-logloss:0.297052\n",
            "[79]\tvalidation_0-logloss:0.295118\n",
            "[80]\tvalidation_0-logloss:0.293438\n",
            "[81]\tvalidation_0-logloss:0.291538\n",
            "[82]\tvalidation_0-logloss:0.289701\n",
            "[83]\tvalidation_0-logloss:0.287897\n",
            "[84]\tvalidation_0-logloss:0.28631\n",
            "[85]\tvalidation_0-logloss:0.284574\n",
            "[86]\tvalidation_0-logloss:0.282985\n",
            "[87]\tvalidation_0-logloss:0.281067\n",
            "[88]\tvalidation_0-logloss:0.279203\n",
            "[89]\tvalidation_0-logloss:0.277712\n",
            "[90]\tvalidation_0-logloss:0.275927\n",
            "[91]\tvalidation_0-logloss:0.274216\n",
            "[92]\tvalidation_0-logloss:0.272761\n",
            "[93]\tvalidation_0-logloss:0.271123\n",
            "[94]\tvalidation_0-logloss:0.269752\n",
            "[95]\tvalidation_0-logloss:0.268184\n",
            "[96]\tvalidation_0-logloss:0.266872\n",
            "[97]\tvalidation_0-logloss:0.265368\n",
            "[98]\tvalidation_0-logloss:0.264111\n",
            "[99]\tvalidation_0-logloss:0.26267\n"
          ]
        }
      ]
    },
    {
      "cell_type": "code",
      "source": [
        "##### 평가하기\n",
        "from sklearn.metrics import confusion_matrix, accuracy_score, precision_score, recall_score\n",
        "from sklearn.metrics import f1_score, roc_auc_score, classification_report, mean_squared_log_error\n",
        "\n",
        "# confusion_matrix\n",
        "# score = confusion_matrix(y_val.iloc[:,0], y_val_pred_proba)\n",
        "\n",
        "# classification_report\n",
        "# score = classification_report(y_val, y_val_pred_proba)\n",
        "\n",
        "# mean_squared_log_error\n",
        "# score = mean_squared_log_error(y_val, y_val_pred_proba)\n",
        "\n",
        "# roc_auc_score\n",
        "score = roc_auc_score(y_val, y_val_pred_proba[:, 1])\n",
        "\n",
        "print( score )"
      ],
      "metadata": {
        "colab": {
          "base_uri": "https://localhost:8080/"
        },
        "id": "RUbR2uTFJdAq",
        "outputId": "357f5584-d09f-4751-ccb3-efaffd4f6bc3"
      },
      "execution_count": 54,
      "outputs": [
        {
          "output_type": "stream",
          "name": "stdout",
          "text": [
            "0.9853061224489796\n"
          ]
        }
      ]
    },
    {
      "cell_type": "markdown",
      "source": [
        "2. 회귀, Y = body_mass_g\n",
        "- 회귀 분석을 하기 위해 데이터를 7:3으로 split하기"
      ],
      "metadata": {
        "id": "2w88TeVoNudm"
      }
    },
    {
      "cell_type": "code",
      "source": [
        "# 불필요 변수\n",
        "COL_DEL = []\n",
        "# 수치형 변수\n",
        "COL_NUM = ['bill_length_mm', 'bill_depth_mm', 'flipper_length_mm']\n",
        "# 범주형 변수 \n",
        "COL_CAT = ['species','island', 'sex']\n",
        "# 종속 변수\n",
        "COL_Y = ['body_mass_g']\n",
        "\n",
        "df_X = df[['bill_length_mm', 'bill_depth_mm', 'flipper_length_mm','species','island', 'sex']]\n",
        "df_Y = df[['body_mass_g']]\n",
        "\n",
        "from sklearn.model_selection import train_test_split\n",
        "X_train_raw, X_test_raw, y_train_raw, y_test_raw = train_test_split(df_X, df_Y, test_size=0.3)\n",
        "\n",
        "X_train_raw.reset_index(drop=True, inplace=True)\n",
        "X_test_raw.reset_index(drop=True, inplace=True)\n",
        "y_train_raw.reset_index(drop=True, inplace=True)\n",
        "y_test_raw.reset_index(drop=True, inplace=True)\n",
        "\n",
        "X_raw = pd.concat([X_train_raw, X_test_raw]) #위 아래로 합치기,\n",
        "# Scaling 및 Onehot encoding을 위한 데이터\n",
        "train_raw =  pd.concat([X_train_raw, y_train_raw], axis=1) # 왼쪽 오른쪽으로 합치기\n",
        "# raw를 지우는 데이터 처리를 위한 데이터"
      ],
      "metadata": {
        "id": "P_GsO83qKdCe"
      },
      "execution_count": 55,
      "outputs": []
    },
    {
      "cell_type": "code",
      "source": [
        "# X_train_raw.head()\n",
        "# print(X_train_raw.columns)\n",
        "# print(X_train_raw.dtypes)\n",
        "print(X_train_raw.info()) # 결측치 확인\n",
        "# X_train_raw.describe() #이상치 확인"
      ],
      "metadata": {
        "colab": {
          "base_uri": "https://localhost:8080/"
        },
        "outputId": "a422d09f-6b52-4034-9a1b-5b35b0d586ad",
        "id": "mQirFnShKdCi"
      },
      "execution_count": 56,
      "outputs": [
        {
          "output_type": "stream",
          "name": "stdout",
          "text": [
            "<class 'pandas.core.frame.DataFrame'>\n",
            "RangeIndex: 233 entries, 0 to 232\n",
            "Data columns (total 6 columns):\n",
            " #   Column             Non-Null Count  Dtype  \n",
            "---  ------             --------------  -----  \n",
            " 0   bill_length_mm     233 non-null    float64\n",
            " 1   bill_depth_mm      233 non-null    float64\n",
            " 2   flipper_length_mm  233 non-null    float64\n",
            " 3   species            233 non-null    object \n",
            " 4   island             233 non-null    object \n",
            " 5   sex                233 non-null    object \n",
            "dtypes: float64(3), object(3)\n",
            "memory usage: 11.0+ KB\n",
            "None\n"
          ]
        }
      ]
    },
    {
      "cell_type": "code",
      "source": [
        "##### 불필요 변수 제외\n",
        "X_train = X_train_raw\n",
        "y_train = y_train_raw\n",
        "X_test = X_test_raw"
      ],
      "metadata": {
        "id": "D5vsoXe6KdCj"
      },
      "execution_count": 58,
      "outputs": []
    },
    {
      "cell_type": "code",
      "source": [
        "##### 결측치 처리하기\n",
        "# from sklearn.impute import SimpleImputer\n",
        "# # imputer = SimpleImputer(missing_values=np.nan, strategy='constant', fill_value=0)\n",
        "# imputer = SimpleImputer(missing_values=np.nan, strategy='mean')\n",
        "# X_train[['horsepower']] = imputer.fit_transform( X_train[['horsepower']] )"
      ],
      "metadata": {
        "id": "MtwWUqLoKdCj"
      },
      "execution_count": null,
      "outputs": []
    },
    {
      "cell_type": "code",
      "source": [
        "##### 수치형 변수 - 스케일링\n",
        "from sklearn.preprocessing import StandardScaler\n",
        "scaler = StandardScaler()\n",
        "scaler.fit(X_raw[COL_NUM])\n",
        "X_train[COL_NUM]=scaler.transform(X_train[COL_NUM])\n",
        "X_test[COL_NUM]=scaler.transform(X_test[COL_NUM])"
      ],
      "metadata": {
        "id": "TuWxJ82TKdCj"
      },
      "execution_count": 59,
      "outputs": []
    },
    {
      "cell_type": "code",
      "source": [
        "##### 범주형 변수 - 그 다음 원핫 인코딩 - 여기서는 제외했으므로 사용하지 않음\n",
        "from sklearn.preprocessing import OneHotEncoder\n",
        "ohe = OneHotEncoder(handle_unknown = 'ignore')\n",
        "ohe.fit(X_raw[COL_CAT])\n",
        "# numpy array로 변환\n",
        "X_train_res = ohe.transform(X_train[COL_CAT])\n",
        "X_test_res = ohe.transform(X_test[COL_CAT])\n",
        "\n",
        "# 다시 DF화 하기\n",
        "X_train_ohe = pd.DataFrame(X_train_res.todense(), columns = ohe.get_feature_names())\n",
        "X_test_ohe = pd.DataFrame(X_test_res.todense(), columns = ohe.get_feature_names())\n",
        "# print(X_train_ohe.head())\n",
        "\n",
        "X_train_fin = pd.concat([X_train[COL_NUM], X_train_ohe], axis=1)\n",
        "X_test_fin = pd.concat([X_test[COL_NUM], X_test_ohe], axis=1)"
      ],
      "metadata": {
        "id": "yecbtJE_KdCj"
      },
      "execution_count": 60,
      "outputs": []
    },
    {
      "cell_type": "code",
      "source": [
        "##### 훈련데이터 분할\n",
        "# y의 클래스 비율에 맞게 분할 stratify\n",
        "\n",
        "from sklearn.model_selection import train_test_split\n",
        "X_tr, X_val, y_tr, y_val = train_test_split(X_train_fin, y_train, test_size=0.3)"
      ],
      "metadata": {
        "id": "UiSaxchaKdCj"
      },
      "execution_count": 61,
      "outputs": []
    },
    {
      "cell_type": "code",
      "source": [
        "##### 모델학습하기\n",
        "\n",
        "# sklearn 선형 회귀\n",
        "from sklearn.linear_model import LinearRegression\n",
        "# C 값이 작을 수록 규제가 커지고 일반화\n",
        "modelLR = LinearRegression()\n",
        "results = modelLR.fit(X_tr, y_tr)\n",
        "\n",
        "# statsmodel 선형 회귀\n",
        "import statsmodels.api as sm \n",
        "\n",
        "X_tr2 = sm.add_constant(X_tr)\n",
        "model2 = sm.OLS(y_tr, X_tr2)\n",
        "results = model2.fit()\n",
        "\n",
        "# 이미 결정해버림\n",
        "y_val_pred = modelLR.predict(X_val)"
      ],
      "metadata": {
        "id": "RIkp_sLrKdCk"
      },
      "execution_count": 62,
      "outputs": []
    },
    {
      "cell_type": "code",
      "source": [
        "#### 회귀계수 해석\n",
        "# 절편\n",
        "print(modelLR.intercept_)\n",
        "# 기울기\n",
        "coef = pd.Series(data=modelLR.coef_[0], index= X_train_fin.columns)\n",
        "print(coef.sort_values())\n",
        "print(\"***********************************************************\")\n",
        "print(results.summary())"
      ],
      "metadata": {
        "colab": {
          "base_uri": "https://localhost:8080/"
        },
        "id": "-bsJ6x1hUvJ_",
        "outputId": "177fb878-4ca8-46e2-e7c8-a20a056821a7"
      },
      "execution_count": 65,
      "outputs": [
        {
          "output_type": "stream",
          "name": "stdout",
          "text": [
            "[4141.48303367]\n",
            "x0_Chinstrap        -455.263930\n",
            "x0_Adelie           -251.331275\n",
            "x2_FEMALE           -195.519275\n",
            "x1_Torgersen         -61.313526\n",
            "x1_Dream              22.289288\n",
            "x1_Biscoe             39.024237\n",
            "bill_length_mm        75.836031\n",
            "bill_depth_mm        108.713244\n",
            "x2_MALE              195.519275\n",
            "flipper_length_mm    232.955624\n",
            "x0_Gentoo            706.595204\n",
            "dtype: float64\n",
            "***********************************************************\n",
            "                            OLS Regression Results                            \n",
            "==============================================================================\n",
            "Dep. Variable:            body_mass_g   R-squared:                       0.850\n",
            "Model:                            OLS   Adj. R-squared:                  0.843\n",
            "Method:                 Least Squares   F-statistic:                     109.4\n",
            "Date:                Sun, 06 Feb 2022   Prob (F-statistic):           1.48e-59\n",
            "Time:                        12:08:42   Log-Likelihood:                -1163.5\n",
            "No. Observations:                 163   AIC:                             2345.\n",
            "Df Residuals:                     154   BIC:                             2373.\n",
            "Df Model:                           8                                         \n",
            "Covariance Type:            nonrobust                                         \n",
            "=====================================================================================\n",
            "                        coef    std err          t      P>|t|      [0.025      0.975]\n",
            "-------------------------------------------------------------------------------------\n",
            "const              1911.4537     16.488    115.932      0.000    1878.882    1944.025\n",
            "bill_length_mm       75.8360     67.545      1.123      0.263     -57.598     209.270\n",
            "bill_depth_mm       108.7132     61.553      1.766      0.079     -12.884     230.310\n",
            "flipper_length_mm   232.9556     64.065      3.636      0.000     106.396     359.515\n",
            "x0_Adelie           385.8200    100.841      3.826      0.000     186.609     585.031\n",
            "x0_Chinstrap        181.8873     90.883      2.001      0.047       2.348     361.426\n",
            "x0_Gentoo          1343.7464    125.596     10.699      0.000    1095.633    1591.860\n",
            "x1_Biscoe           676.1755     50.242     13.458      0.000     576.924     775.427\n",
            "x1_Dream            659.4405     47.460     13.895      0.000     565.684     753.197\n",
            "x1_Torgersen        575.8377     57.869      9.951      0.000     461.519     690.157\n",
            "x2_FEMALE           760.2076     38.637     19.676      0.000     683.881     836.534\n",
            "x2_MALE            1151.2461     41.713     27.599      0.000    1068.843    1233.649\n",
            "==============================================================================\n",
            "Omnibus:                        1.736   Durbin-Watson:                   2.192\n",
            "Prob(Omnibus):                  0.420   Jarque-Bera (JB):                1.801\n",
            "Skew:                           0.237   Prob(JB):                        0.406\n",
            "Kurtosis:                       2.799   Cond. No.                     2.65e+16\n",
            "==============================================================================\n",
            "\n",
            "Warnings:\n",
            "[1] Standard Errors assume that the covariance matrix of the errors is correctly specified.\n",
            "[2] The smallest eigenvalue is 6.06e-31. This might indicate that there are\n",
            "strong multicollinearity problems or that the design matrix is singular.\n"
          ]
        }
      ]
    },
    {
      "cell_type": "code",
      "source": [
        "##### 평가하기\n",
        "from sklearn.metrics import mean_squared_error, r2_score\n",
        "\n",
        "mse = mean_squared_error(y_val, y_val_pred)                 # 1. mse\n",
        "rmse = mean_squared_error(y_val, y_val_pred, squared=False) # 2. rmse : np.sqrt(mse)도 가능\n",
        "\n",
        "r2 = r2_score(y_val, y_val_pred)                            # 3. r2\n",
        "score = modelLR.score(X_val, y_val)                         # 이 것 또한 R2\n",
        "\n",
        "print(score)\n",
        "print('MSE : {0:.3f} , RMSE : {1:.3F} '.format(mse , rmse))\n",
        "print('Variance score : {0:.3f}'.format(r2))"
      ],
      "metadata": {
        "colab": {
          "base_uri": "https://localhost:8080/"
        },
        "outputId": "e6bafa0e-cc72-4520-e740-70be9d004e90",
        "id": "qzpQFoytKdCk"
      },
      "execution_count": 66,
      "outputs": [
        {
          "output_type": "stream",
          "name": "stdout",
          "text": [
            "0.9030666248392861\n",
            "MSE : 62100.181 , RMSE : 249.199 \n",
            "Variance score : 0.903\n"
          ]
        }
      ]
    }
  ]
}